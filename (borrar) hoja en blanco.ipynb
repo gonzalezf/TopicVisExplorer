{
 "cells": [
  {
   "cell_type": "code",
   "execution_count": 2,
   "metadata": {},
   "outputs": [],
   "source": [
    "jsonCircles = {}\n",
    "jsonCircles['circles'] = []\n",
    "jsonCircles['circles'].append({\n",
    "    \"x_axis\": 30,\n",
    "    \"y_axis\": 30,\n",
    "    \"radius\": 20,\n",
    "    \"color\" : \"green\"\n",
    "})\n",
    "jsonCircles['circles'].append({\n",
    "    \"x_axis\": 70,\n",
    "    \"y_axis\": 70,\n",
    "    \"radius\": 20,\n",
    "    \"color\" : \"purple\"\n",
    "})\n",
    "jsonCircles['circles'].append({\n",
    "    \"x_axis\": 110,\n",
    "    \"y_axis\": 100,\n",
    "    \"radius\": 20,\n",
    "    \"color\" : \"red\"\n",
    "})"
   ]
  },
  {
   "cell_type": "code",
   "execution_count": 3,
   "metadata": {},
   "outputs": [
    {
     "data": {
      "text/plain": [
       "{'circles': [{'x_axis': 30, 'y_axis': 30, 'radius': 20, 'color': 'green'},\n",
       "  {'x_axis': 70, 'y_axis': 70, 'radius': 20, 'color': 'purple'},\n",
       "  {'x_axis': 110, 'y_axis': 100, 'radius': 20, 'color': 'red'}]}"
      ]
     },
     "execution_count": 3,
     "metadata": {},
     "output_type": "execute_result"
    }
   ],
   "source": [
    "jsonCircles"
   ]
  },
  {
   "cell_type": "code",
   "execution_count": 7,
   "metadata": {},
   "outputs": [
    {
     "data": {
      "text/plain": [
       "{'x_axis': 30, 'y_axis': 30, 'radius': 20, 'color': 'green'}"
      ]
     },
     "execution_count": 7,
     "metadata": {},
     "output_type": "execute_result"
    }
   ],
   "source": [
    "jsonCircles['circles'][0]"
   ]
  },
  {
   "cell_type": "code",
   "execution_count": 8,
   "metadata": {},
   "outputs": [],
   "source": [
    "import json\n",
    "\n"
   ]
  },
  {
   "cell_type": "code",
   "execution_count": 9,
   "metadata": {},
   "outputs": [],
   "source": [
    "y = json.dumps(jsonCircles)"
   ]
  },
  {
   "cell_type": "code",
   "execution_count": 11,
   "metadata": {},
   "outputs": [
    {
     "data": {
      "text/plain": [
       "'{\"circles\": [{\"x_axis\": 30, \"y_axis\": 30, \"radius\": 20, \"color\": \"green\"}, {\"x_axis\": 70, \"y_axis\": 70, \"radius\": 20, \"color\": \"purple\"}, {\"x_axis\": 110, \"y_axis\": 100, \"radius\": 20, \"color\": \"red\"}]}'"
      ]
     },
     "execution_count": 11,
     "metadata": {},
     "output_type": "execute_result"
    }
   ],
   "source": [
    "y"
   ]
  },
  {
   "cell_type": "code",
   "execution_count": null,
   "metadata": {},
   "outputs": [],
   "source": []
  }
 ],
 "metadata": {
  "kernelspec": {
   "display_name": "Python 3",
   "language": "python",
   "name": "python3"
  },
  "language_info": {
   "codemirror_mode": {
    "name": "ipython",
    "version": 3
   },
   "file_extension": ".py",
   "mimetype": "text/x-python",
   "name": "python",
   "nbconvert_exporter": "python",
   "pygments_lexer": "ipython3",
   "version": "3.7.1"
  }
 },
 "nbformat": 4,
 "nbformat_minor": 4
}
