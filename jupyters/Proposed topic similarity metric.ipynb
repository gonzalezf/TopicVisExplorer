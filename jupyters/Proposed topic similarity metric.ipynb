{
 "cells": [
  {
   "cell_type": "code",
   "execution_count": 1,
   "metadata": {},
   "outputs": [],
   "source": [
    "from sklearn.metrics.pairwise import cosine_similarity\n",
    "from sklearn.metrics.pairwise import cosine_distances\n",
    "import numpy as np"
   ]
  },
  {
   "cell_type": "code",
   "execution_count": 2,
   "metadata": {},
   "outputs": [],
   "source": [
    "\n",
    "import gensim, pickle\n",
    "from gensim.models.keyedvectors import KeyedVectors\n",
    "LdaModel = gensim.models.ldamodel.LdaModel\n"
   ]
  },
  {
   "cell_type": "code",
   "execution_count": 3,
   "metadata": {},
   "outputs": [],
   "source": [
    "ruta_word_embedding = '../data/wiki.multi.en.vec'\n",
    "##wordembedding = gensim.models.Word2Vec.load(ruta_word_embedding)\n",
    "wordembedding = KeyedVectors.load_word2vec_format(ruta_word_embedding, binary=False)"
   ]
  },
  {
   "cell_type": "code",
   "execution_count": 8,
   "metadata": {},
   "outputs": [
    {
     "data": {
      "text/plain": [
       "[(0,\n",
       "  '0.081*\"trump\" + 0.043*\"election\" + 0.034*\"campaign\" + 0.031*\"leave\" + 0.027*\"conservative\" + 0.024*\"vote\" + 0.018*\"support\" + 0.017*\"action\" + 0.016*\"group\" + 0.016*\"speech\"'),\n",
       " (1,\n",
       "  '0.024*\"start\" + 0.023*\"talk\" + 0.023*\"big\" + 0.021*\"run\" + 0.020*\"man\" + 0.019*\"love\" + 0.017*\"happen\" + 0.015*\"guy\" + 0.013*\"show\" + 0.012*\"wait\"'),\n",
       " (2,\n",
       "  '0.050*\"scandal\" + 0.044*\"company\" + 0.035*\"data\" + 0.022*\"security\" + 0.021*\"report\" + 0.019*\"firm\" + 0.019*\"breach\" + 0.015*\"leak\" + 0.013*\"affect\" + 0.012*\"lead\"'),\n",
       " (3,\n",
       "  '0.205*\"datum\" + 0.093*\"user\" + 0.060*\"share\" + 0.046*\"information\" + 0.034*\"personal\" + 0.027*\"message\" + 0.026*\"collect\" + 0.024*\"private\" + 0.023*\"access\" + 0.022*\"send\"'),\n",
       " (4,\n",
       "  '0.089*\"datum\" + 0.065*\"give\" + 0.047*\"sell\" + 0.046*\"pay\" + 0.041*\"make\" + 0.034*\"money\" + 0.033*\"business\" + 0.033*\"people\" + 0.030*\"free\" + 0.022*\"company\"'),\n",
       " (5,\n",
       "  '0.078*\"time\" + 0.051*\"year\" + 0.032*\"back\" + 0.022*\"day\" + 0.021*\"long\" + 0.020*\"life\" + 0.019*\"real\" + 0.017*\"ago\" + 0.016*\"fix\" + 0.016*\"end\"'),\n",
       " (6,\n",
       "  '0.053*\"thing\" + 0.049*\"good\" + 0.031*\"bad\" + 0.028*\"facebook\" + 0.025*\"feel\" + 0.023*\"make\" + 0.020*\"people\" + 0.020*\"care\" + 0.020*\"lot\" + 0.019*\"point\"'),\n",
       " (7,\n",
       "  '0.042*\"news\" + 0.037*\"amp\" + 0.033*\"lie\" + 0.022*\"fake\" + 0.017*\"country\" + 0.016*\"fact\" + 0.016*\"state\" + 0.013*\"truth\" + 0.013*\"attack\" + 0.012*\"russian\"'),\n",
       " (8,\n",
       "  '0.041*\"read\" + 0.030*\"check\" + 0.028*\"follow\" + 0.028*\"story\" + 0.026*\"page\" + 0.024*\"video\" + 0.021*\"great\" + 0.021*\"live\" + 0.021*\"today\" + 0.019*\"interesting\"'),\n",
       " (9,\n",
       "  '0.061*\"bigdata\" + 0.032*\"late\" + 0.026*\"big\" + 0.023*\"technology\" + 0.020*\"learn\" + 0.019*\"analytic\" + 0.018*\"tech\" + 0.018*\"ai\" + 0.014*\"machinelearne\" + 0.014*\"marketing\"'),\n",
       " (10,\n",
       "  '0.090*\"question\" + 0.056*\"watch\" + 0.041*\"testimony\" + 0.039*\"hearing\" + 0.032*\"hear\" + 0.032*\"face\" + 0.031*\"answer\" + 0.030*\"today\" + 0.028*\"testify\" + 0.026*\"senator\"'),\n",
       " (11,\n",
       "  '0.174*\"privacy\" + 0.034*\"change\" + 0.033*\"user\" + 0.030*\"law\" + 0.025*\"protect\" + 0.020*\"break\" + 0.018*\"issue\" + 0.018*\"regulation\" + 0.017*\"control\" + 0.016*\"move\"'),\n",
       " (12,\n",
       "  '0.064*\"delete\" + 0.059*\"social\" + 0.058*\"medium\" + 0.052*\"account\" + 0.043*\"facebook\" + 0.036*\"twitter\" + 0.036*\"friend\" + 0.033*\"post\" + 0.031*\"deletefacebook\" + 0.025*\"call\"'),\n",
       " (13,\n",
       "  '0.093*\"people\" + 0.055*\"work\" + 0.049*\"make\" + 0.031*\"world\" + 0.019*\"good\" + 0.016*\"understand\" + 0.015*\"person\" + 0.015*\"power\" + 0.015*\"job\" + 0.015*\"hard\"'),\n",
       " (14,\n",
       "  '0.070*\"facebook\" + 0.046*\"ad\" + 0.022*\"target\" + 0.016*\"political\" + 0.015*\"party\" + 0.014*\"track\" + 0.014*\"base\" + 0.014*\"find\" + 0.013*\"online\" + 0.012*\"set\"')]"
      ]
     },
     "execution_count": 8,
     "metadata": {},
     "output_type": "execute_result"
    }
   ],
   "source": [
    "lda_model_collecion_1.print_topics()"
   ]
  },
  {
   "cell_type": "code",
   "execution_count": 4,
   "metadata": {},
   "outputs": [],
   "source": [
    "##Load Gensim Model\n",
    "\n",
    "lda_model_collecion_1 = LdaModel.load(\"../data/cambridge_analytica/collection_I/collection_1_gensim.model\")\n",
    "lda_model_collecion_2 = LdaModel.load(\"../data/cambridge_analytica/collection_I/collection_1_gensim.model\")"
   ]
  },
  {
   "cell_type": "code",
   "execution_count": 5,
   "metadata": {},
   "outputs": [],
   "source": [
    "with open('../data/cambridge_analytica/collection_I/collection_1_sent_topics_sorteddf_mallet_ldamodel', 'rb') as f:\n",
    "    most_relevant_documents_collection_1 = pickle.load(f)\n",
    "most_relevant_documents_collection_1 = most_relevant_documents_collection_1[['Topic_Num','Topic_Perc_Contrib','text']]\n",
    "\n",
    "\n",
    "with open('../data/cambridge_analytica/collection_I/collection_1_sent_topics_sorteddf_mallet_ldamodel', 'rb') as f:\n",
    "    most_relevant_documents_collection_2 = pickle.load(f)\n",
    "most_relevant_documents_collection_2 = most_relevant_documents_collection_2[['Topic_Num','Topic_Perc_Contrib','text']]\n"
   ]
  },
  {
   "cell_type": "code",
   "execution_count": 6,
   "metadata": {},
   "outputs": [],
   "source": [
    "'''My own tokenizer '''\n",
    "import unidecode\n",
    "from string import punctuation\n",
    "from string import digits\n",
    "punctuation+=\"¡¿<>'`\"\n",
    "punctuation+='\"'\n",
    "\n",
    "#Remove digits and puntuaction\n",
    "remove_digits = str.maketrans(digits, ' '*len(digits))#remove_digits = str.maketrans('', '', digits)\n",
    "remove_punctuation = str.maketrans(punctuation, ' '*len(punctuation))#remove_punctuation = str.maketrans('', '', punctuation)\n",
    "remove_hashtags_caracter = str.maketrans('#', ' '*len('#'))\n",
    "#las palabras de los hashtag se mantiene, pero no el simbolo. \n",
    "\n",
    "\n",
    "def text_cleaner(tweet):\n",
    "    tweet = tweet.translate(remove_digits)\n",
    "    #tweet = tweet.lower() it wasn't a good idea,, we lost a lot of\n",
    "    tweet = tweet.translate(remove_punctuation)\n",
    "    tweet = tweet.translate(remove_hashtags_caracter)\n",
    "    tweet = tweet.lower()\n",
    "    tweet = unidecode.unidecode(tweet)\n",
    "    #tweet = tweet.strip().split()\n",
    "    #filtered_words = [word for word in tweet if word not in stopWords]\n",
    "    #corpus[id_tweet]= filtered_words\n",
    "    #id_tweet+=1\n",
    "    tweet = tweet.split()\n",
    "    return tweet\n"
   ]
  },
  {
   "cell_type": "code",
   "execution_count": 7,
   "metadata": {},
   "outputs": [],
   "source": [
    "def get_dicts_relevant_keywords_documents(lda_model,df_relevant_documents, n_terms):\n",
    "    num_topics = lda_model.num_topics\n",
    "    #create dictionary of top keywords \n",
    "    topKeywordsDict = {}\n",
    "    for topic_id in range(num_topics):\n",
    "        topKeywordsDict[topic_id] = []\n",
    "        for term, probability in lda_model.show_topic(topic_id,topn=n_terms):\n",
    "            topKeywordsDict[topic_id].append({\n",
    "                \"term\":term,\n",
    "                \"probability\":probability\n",
    "            })\n",
    "\n",
    "    #create dictionary of relevant documents\n",
    "    relevantDocumentsDict = {}\n",
    "    for index,row in df_relevant_documents.iterrows():\n",
    "        topic_id = int(row['Topic_Num'])\n",
    "        if topic_id not in relevantDocumentsDict:\n",
    "            relevantDocumentsDict[topic_id]=[]\n",
    "        relevantDocumentsDict[topic_id].append({\n",
    "            'topic_perc_contrib':row['Topic_Perc_Contrib'],\n",
    "            'text':row['text']\n",
    "        })\n",
    "    return (topKeywordsDict, relevantDocumentsDict)\n",
    "\n",
    "def getDocumentVector(text, wordembedding):\n",
    "    #preprocesar    \n",
    "    #encontrar palabras en word embedding\n",
    "    #ponderas palabras TF-IDF\n",
    "    document_vector = 0.0\n",
    "    words_found = 0.0\n",
    "    for word in text_cleaner(text):\n",
    "        if word in wordembedding:\n",
    "            document_vector+=wordembedding.wv[word] #aqui hay que ponderar\n",
    "            words_found+=1\n",
    "    return document_vector/words_found\n",
    "\n",
    "        \n",
    "    \n",
    "def get_topkeywords_relevantdocuments_vectors(wordembedding, lda_model,most_relevant_documents,  n_terms): #n_terms : numero de top keywords a considerar\n",
    "    topKeywordsDict, relevantDocumentsDict = get_dicts_relevant_keywords_documents(lda_model, most_relevant_documents, n_terms)\n",
    "\n",
    "    ### Create top keyword vector per topic\n",
    "    #create keyword vector\n",
    "    topkeywords_vectors_dict = {}\n",
    "    num_topics = lda_model.num_topics\n",
    "    for topic_id in range(num_topics):\n",
    "        topkeywords_vector = 0\n",
    "        ranking = 1.0\n",
    "        for item in topKeywordsDict[topic_id]:\n",
    "            if item['term'] in wordembedding: #no todas las palabras aparecerán en el ranking, que hacer con el resto\n",
    "                #print(item['term'], item['probability'])\n",
    "                topkeywords_vector += wordembedding.wv[item['term']]/ranking\n",
    "            else:\n",
    "                print(item['term'],\" position:\",ranking)\n",
    "            ranking+=1\n",
    "        topkeywords_vectors_dict[topic_id] = topkeywords_vector\n",
    "        \n",
    "    relevantdocuments_vectors_dict = {}\n",
    "    for topic_id in range(num_topics):\n",
    "        relevantDocumentsvector = 0.0\n",
    "        for item in relevantDocumentsDict[topic_id]:\n",
    "            #quizas esto hacerlo para los primero 100 docs, 500 docs, el resto es un % pequeño que se pierde, optimizar\n",
    "            #revisar si multiplicar por la contribucion es lo correcto, eso no da 1 o si? OHHHHHH, habria que sacar todooos los docs no solo los 100 primeros\n",
    "            relevantDocumentsvector+= float(item['topic_perc_contrib'])*getDocumentVector(item['text'], wordembedding)\n",
    "        relevantdocuments_vectors_dict[topic_id] = relevantDocumentsvector\n",
    "        \n",
    "    return (topkeywords_vectors_dict, relevantdocuments_vectors_dict)\n"
   ]
  },
  {
   "cell_type": "code",
   "execution_count": 8,
   "metadata": {},
   "outputs": [],
   "source": [
    "def get_topic_vectors(wordembedding, lda_model,most_relevant_documents,  n_terms, lambda_):\n",
    "    num_topics = lda_model.num_topics\n",
    "    topkeywords_vectors_dict, relevantdocuments_vectors_dict = get_topkeywords_relevantdocuments_vectors(wordembedding, lda_model,most_relevant_documents,  n_terms)\n",
    "    final_topic_vectors_dict = dict()\n",
    "    for topic_id in range(num_topics):\n",
    "        final_topic_vector = lambda_*topkeywords_vectors_dict[topic_id]+(1-lambda_)*relevantdocuments_vectors_dict[topic_id]\n",
    "        final_topic_vectors_dict[topic_id] = final_topic_vector\n",
    "    return final_topic_vectors_dict"
   ]
  },
  {
   "cell_type": "code",
   "execution_count": 9,
   "metadata": {},
   "outputs": [],
   "source": [
    "def get_matrix(wordembedding, lda_model_1,most_relevant_documents_1,lda_model_2,most_relevant_documents_2, n_terms, lambda_):\n",
    "    \n",
    "    final_topic_vectors_dict_1 =  get_topic_vectors(wordembedding, lda_model_1,most_relevant_documents_1,  n_terms, lambda_)\n",
    "    final_topic_vectors_dict_2 =  get_topic_vectors(wordembedding, lda_model_2,most_relevant_documents_2,  n_terms, lambda_)\n",
    "    \n",
    "    topic_similarity_matrix = []\n",
    "    for i in range(lda_model_1.num_topics):\n",
    "        row = []\n",
    "        for j in range(lda_model_2.num_topics):\n",
    "            topic_i = final_topic_vectors_dict_1[i].reshape(1,-1)\n",
    "            topic_j = final_topic_vectors_dict_2[j].reshape(1,-1)\n",
    "            row.append(float(cosine_similarity(topic_i,topic_j)))\n",
    "        topic_similarity_matrix.append(row)\n",
    "    topic_similarity_matrix= np.asarray(topic_similarity_matrix)\n",
    "    return topic_similarity_matrix"
   ]
  },
  {
   "cell_type": "markdown",
   "metadata": {},
   "source": [
    " "
   ]
  },
  {
   "cell_type": "code",
   "execution_count": null,
   "metadata": {},
   "outputs": [
    {
     "name": "stdout",
     "output_type": "stream",
     "text": [
      "0.0\n"
     ]
    },
    {
     "name": "stderr",
     "output_type": "stream",
     "text": [
      "C:\\Users\\gonza\\AppData\\Roaming\\Python\\Python37\\site-packages\\ipykernel_launcher.py:52: DeprecationWarning: Call to deprecated `wv` (Attribute will be removed in 4.0.0, use self instead).\n",
      "C:\\Users\\gonza\\AppData\\Roaming\\Python\\Python37\\site-packages\\ipykernel_launcher.py:33: DeprecationWarning: Call to deprecated `wv` (Attribute will be removed in 4.0.0, use self instead).\n"
     ]
    },
    {
     "name": "stdout",
     "output_type": "stream",
     "text": [
      "deletefacebook  position: 21.0\n",
      "retweete  position: 14.0\n",
      "bigdata  position: 1.0\n",
      "machinelearne  position: 9.0\n",
      "datascience  position: 13.0\n",
      "deletefacebook  position: 9.0\n",
      "twitt  position: 29.0\n",
      "deletefacebook  position: 21.0\n",
      "retweete  position: 14.0\n",
      "bigdata  position: 1.0\n",
      "machinelearne  position: 9.0\n",
      "datascience  position: 13.0\n",
      "deletefacebook  position: 9.0\n",
      "twitt  position: 29.0\n",
      "0.01\n"
     ]
    },
    {
     "name": "stderr",
     "output_type": "stream",
     "text": [
      "C:\\Users\\gonza\\AppData\\Roaming\\Python\\Python37\\site-packages\\ipykernel_launcher.py:52: DeprecationWarning: Call to deprecated `wv` (Attribute will be removed in 4.0.0, use self instead).\n",
      "C:\\Users\\gonza\\AppData\\Roaming\\Python\\Python37\\site-packages\\ipykernel_launcher.py:33: DeprecationWarning: Call to deprecated `wv` (Attribute will be removed in 4.0.0, use self instead).\n"
     ]
    },
    {
     "name": "stdout",
     "output_type": "stream",
     "text": [
      "deletefacebook  position: 21.0\n",
      "retweete  position: 14.0\n",
      "bigdata  position: 1.0\n",
      "machinelearne  position: 9.0\n",
      "datascience  position: 13.0\n",
      "deletefacebook  position: 9.0\n",
      "twitt  position: 29.0\n",
      "deletefacebook  position: 21.0\n",
      "retweete  position: 14.0\n",
      "bigdata  position: 1.0\n",
      "machinelearne  position: 9.0\n",
      "datascience  position: 13.0\n",
      "deletefacebook  position: 9.0\n",
      "twitt  position: 29.0\n",
      "0.02\n"
     ]
    },
    {
     "name": "stderr",
     "output_type": "stream",
     "text": [
      "C:\\Users\\gonza\\AppData\\Roaming\\Python\\Python37\\site-packages\\ipykernel_launcher.py:52: DeprecationWarning: Call to deprecated `wv` (Attribute will be removed in 4.0.0, use self instead).\n",
      "C:\\Users\\gonza\\AppData\\Roaming\\Python\\Python37\\site-packages\\ipykernel_launcher.py:33: DeprecationWarning: Call to deprecated `wv` (Attribute will be removed in 4.0.0, use self instead).\n"
     ]
    },
    {
     "name": "stdout",
     "output_type": "stream",
     "text": [
      "deletefacebook  position: 21.0\n",
      "retweete  position: 14.0\n",
      "bigdata  position: 1.0\n",
      "machinelearne  position: 9.0\n",
      "datascience  position: 13.0\n",
      "deletefacebook  position: 9.0\n",
      "twitt  position: 29.0\n",
      "deletefacebook  position: 21.0\n",
      "retweete  position: 14.0\n",
      "bigdata  position: 1.0\n",
      "machinelearne  position: 9.0\n",
      "datascience  position: 13.0\n",
      "deletefacebook  position: 9.0\n",
      "twitt  position: 29.0\n",
      "0.03\n"
     ]
    },
    {
     "name": "stderr",
     "output_type": "stream",
     "text": [
      "C:\\Users\\gonza\\AppData\\Roaming\\Python\\Python37\\site-packages\\ipykernel_launcher.py:52: DeprecationWarning: Call to deprecated `wv` (Attribute will be removed in 4.0.0, use self instead).\n",
      "C:\\Users\\gonza\\AppData\\Roaming\\Python\\Python37\\site-packages\\ipykernel_launcher.py:33: DeprecationWarning: Call to deprecated `wv` (Attribute will be removed in 4.0.0, use self instead).\n"
     ]
    },
    {
     "name": "stdout",
     "output_type": "stream",
     "text": [
      "deletefacebook  position: 21.0\n",
      "retweete  position: 14.0\n",
      "bigdata  position: 1.0\n",
      "machinelearne  position: 9.0\n",
      "datascience  position: 13.0\n",
      "deletefacebook  position: 9.0\n",
      "twitt  position: 29.0\n",
      "deletefacebook  position: 21.0\n",
      "retweete  position: 14.0\n",
      "bigdata  position: 1.0\n",
      "machinelearne  position: 9.0\n",
      "datascience  position: 13.0\n",
      "deletefacebook  position: 9.0\n",
      "twitt  position: 29.0\n",
      "0.04\n"
     ]
    },
    {
     "name": "stderr",
     "output_type": "stream",
     "text": [
      "C:\\Users\\gonza\\AppData\\Roaming\\Python\\Python37\\site-packages\\ipykernel_launcher.py:52: DeprecationWarning: Call to deprecated `wv` (Attribute will be removed in 4.0.0, use self instead).\n",
      "C:\\Users\\gonza\\AppData\\Roaming\\Python\\Python37\\site-packages\\ipykernel_launcher.py:33: DeprecationWarning: Call to deprecated `wv` (Attribute will be removed in 4.0.0, use self instead).\n"
     ]
    },
    {
     "name": "stdout",
     "output_type": "stream",
     "text": [
      "deletefacebook  position: 21.0\n",
      "retweete  position: 14.0\n",
      "bigdata  position: 1.0\n",
      "machinelearne  position: 9.0\n",
      "datascience  position: 13.0\n",
      "deletefacebook  position: 9.0\n",
      "twitt  position: 29.0\n",
      "deletefacebook  position: 21.0\n",
      "retweete  position: 14.0\n",
      "bigdata  position: 1.0\n",
      "machinelearne  position: 9.0\n",
      "datascience  position: 13.0\n",
      "deletefacebook  position: 9.0\n",
      "twitt  position: 29.0\n",
      "0.05\n"
     ]
    },
    {
     "name": "stderr",
     "output_type": "stream",
     "text": [
      "C:\\Users\\gonza\\AppData\\Roaming\\Python\\Python37\\site-packages\\ipykernel_launcher.py:52: DeprecationWarning: Call to deprecated `wv` (Attribute will be removed in 4.0.0, use self instead).\n",
      "C:\\Users\\gonza\\AppData\\Roaming\\Python\\Python37\\site-packages\\ipykernel_launcher.py:33: DeprecationWarning: Call to deprecated `wv` (Attribute will be removed in 4.0.0, use self instead).\n"
     ]
    },
    {
     "name": "stdout",
     "output_type": "stream",
     "text": [
      "deletefacebook  position: 21.0\n",
      "retweete  position: 14.0\n",
      "bigdata  position: 1.0\n",
      "machinelearne  position: 9.0\n",
      "datascience  position: 13.0\n",
      "deletefacebook  position: 9.0\n",
      "twitt  position: 29.0\n",
      "deletefacebook  position: 21.0\n",
      "retweete  position: 14.0\n",
      "bigdata  position: 1.0\n",
      "machinelearne  position: 9.0\n",
      "datascience  position: 13.0\n",
      "deletefacebook  position: 9.0\n",
      "twitt  position: 29.0\n",
      "0.06\n"
     ]
    },
    {
     "name": "stderr",
     "output_type": "stream",
     "text": [
      "C:\\Users\\gonza\\AppData\\Roaming\\Python\\Python37\\site-packages\\ipykernel_launcher.py:52: DeprecationWarning: Call to deprecated `wv` (Attribute will be removed in 4.0.0, use self instead).\n",
      "C:\\Users\\gonza\\AppData\\Roaming\\Python\\Python37\\site-packages\\ipykernel_launcher.py:33: DeprecationWarning: Call to deprecated `wv` (Attribute will be removed in 4.0.0, use self instead).\n"
     ]
    },
    {
     "name": "stdout",
     "output_type": "stream",
     "text": [
      "deletefacebook  position: 21.0\n",
      "retweete  position: 14.0\n",
      "bigdata  position: 1.0\n",
      "machinelearne  position: 9.0\n",
      "datascience  position: 13.0\n",
      "deletefacebook  position: 9.0\n",
      "twitt  position: 29.0\n",
      "deletefacebook  position: 21.0\n",
      "retweete  position: 14.0\n",
      "bigdata  position: 1.0\n",
      "machinelearne  position: 9.0\n",
      "datascience  position: 13.0\n",
      "deletefacebook  position: 9.0\n",
      "twitt  position: 29.0\n",
      "0.07\n"
     ]
    },
    {
     "name": "stderr",
     "output_type": "stream",
     "text": [
      "C:\\Users\\gonza\\AppData\\Roaming\\Python\\Python37\\site-packages\\ipykernel_launcher.py:52: DeprecationWarning: Call to deprecated `wv` (Attribute will be removed in 4.0.0, use self instead).\n",
      "C:\\Users\\gonza\\AppData\\Roaming\\Python\\Python37\\site-packages\\ipykernel_launcher.py:33: DeprecationWarning: Call to deprecated `wv` (Attribute will be removed in 4.0.0, use self instead).\n"
     ]
    },
    {
     "name": "stdout",
     "output_type": "stream",
     "text": [
      "deletefacebook  position: 21.0\n",
      "retweete  position: 14.0\n",
      "bigdata  position: 1.0\n",
      "machinelearne  position: 9.0\n",
      "datascience  position: 13.0\n",
      "deletefacebook  position: 9.0\n",
      "twitt  position: 29.0\n",
      "deletefacebook  position: 21.0\n",
      "retweete  position: 14.0\n",
      "bigdata  position: 1.0\n",
      "machinelearne  position: 9.0\n",
      "datascience  position: 13.0\n",
      "deletefacebook  position: 9.0\n",
      "twitt  position: 29.0\n",
      "0.08\n"
     ]
    },
    {
     "name": "stderr",
     "output_type": "stream",
     "text": [
      "C:\\Users\\gonza\\AppData\\Roaming\\Python\\Python37\\site-packages\\ipykernel_launcher.py:52: DeprecationWarning: Call to deprecated `wv` (Attribute will be removed in 4.0.0, use self instead).\n",
      "C:\\Users\\gonza\\AppData\\Roaming\\Python\\Python37\\site-packages\\ipykernel_launcher.py:33: DeprecationWarning: Call to deprecated `wv` (Attribute will be removed in 4.0.0, use self instead).\n"
     ]
    },
    {
     "name": "stdout",
     "output_type": "stream",
     "text": [
      "deletefacebook  position: 21.0\n",
      "retweete  position: 14.0\n",
      "bigdata  position: 1.0\n",
      "machinelearne  position: 9.0\n",
      "datascience  position: 13.0\n",
      "deletefacebook  position: 9.0\n",
      "twitt  position: 29.0\n",
      "deletefacebook  position: 21.0\n",
      "retweete  position: 14.0\n",
      "bigdata  position: 1.0\n",
      "machinelearne  position: 9.0\n",
      "datascience  position: 13.0\n",
      "deletefacebook  position: 9.0\n",
      "twitt  position: 29.0\n",
      "0.09\n"
     ]
    },
    {
     "name": "stderr",
     "output_type": "stream",
     "text": [
      "C:\\Users\\gonza\\AppData\\Roaming\\Python\\Python37\\site-packages\\ipykernel_launcher.py:52: DeprecationWarning: Call to deprecated `wv` (Attribute will be removed in 4.0.0, use self instead).\n",
      "C:\\Users\\gonza\\AppData\\Roaming\\Python\\Python37\\site-packages\\ipykernel_launcher.py:33: DeprecationWarning: Call to deprecated `wv` (Attribute will be removed in 4.0.0, use self instead).\n"
     ]
    },
    {
     "name": "stdout",
     "output_type": "stream",
     "text": [
      "deletefacebook  position: 21.0\n",
      "retweete  position: 14.0\n",
      "bigdata  position: 1.0\n",
      "machinelearne  position: 9.0\n",
      "datascience  position: 13.0\n",
      "deletefacebook  position: 9.0\n",
      "twitt  position: 29.0\n",
      "deletefacebook  position: 21.0\n",
      "retweete  position: 14.0\n",
      "bigdata  position: 1.0\n",
      "machinelearne  position: 9.0\n",
      "datascience  position: 13.0\n",
      "deletefacebook  position: 9.0\n",
      "twitt  position: 29.0\n",
      "0.1\n"
     ]
    },
    {
     "name": "stderr",
     "output_type": "stream",
     "text": [
      "C:\\Users\\gonza\\AppData\\Roaming\\Python\\Python37\\site-packages\\ipykernel_launcher.py:52: DeprecationWarning: Call to deprecated `wv` (Attribute will be removed in 4.0.0, use self instead).\n",
      "C:\\Users\\gonza\\AppData\\Roaming\\Python\\Python37\\site-packages\\ipykernel_launcher.py:33: DeprecationWarning: Call to deprecated `wv` (Attribute will be removed in 4.0.0, use self instead).\n"
     ]
    },
    {
     "name": "stdout",
     "output_type": "stream",
     "text": [
      "deletefacebook  position: 21.0\n",
      "retweete  position: 14.0\n",
      "bigdata  position: 1.0\n",
      "machinelearne  position: 9.0\n",
      "datascience  position: 13.0\n",
      "deletefacebook  position: 9.0\n",
      "twitt  position: 29.0\n",
      "deletefacebook  position: 21.0\n",
      "retweete  position: 14.0\n",
      "bigdata  position: 1.0\n",
      "machinelearne  position: 9.0\n",
      "datascience  position: 13.0\n",
      "deletefacebook  position: 9.0\n",
      "twitt  position: 29.0\n",
      "0.11\n"
     ]
    },
    {
     "name": "stderr",
     "output_type": "stream",
     "text": [
      "C:\\Users\\gonza\\AppData\\Roaming\\Python\\Python37\\site-packages\\ipykernel_launcher.py:52: DeprecationWarning: Call to deprecated `wv` (Attribute will be removed in 4.0.0, use self instead).\n",
      "C:\\Users\\gonza\\AppData\\Roaming\\Python\\Python37\\site-packages\\ipykernel_launcher.py:33: DeprecationWarning: Call to deprecated `wv` (Attribute will be removed in 4.0.0, use self instead).\n"
     ]
    },
    {
     "name": "stdout",
     "output_type": "stream",
     "text": [
      "deletefacebook  position: 21.0\n",
      "retweete  position: 14.0\n",
      "bigdata  position: 1.0\n",
      "machinelearne  position: 9.0\n",
      "datascience  position: 13.0\n",
      "deletefacebook  position: 9.0\n",
      "twitt  position: 29.0\n",
      "deletefacebook  position: 21.0\n",
      "retweete  position: 14.0\n",
      "bigdata  position: 1.0\n",
      "machinelearne  position: 9.0\n",
      "datascience  position: 13.0\n",
      "deletefacebook  position: 9.0\n",
      "twitt  position: 29.0\n",
      "0.12\n"
     ]
    },
    {
     "name": "stderr",
     "output_type": "stream",
     "text": [
      "C:\\Users\\gonza\\AppData\\Roaming\\Python\\Python37\\site-packages\\ipykernel_launcher.py:52: DeprecationWarning: Call to deprecated `wv` (Attribute will be removed in 4.0.0, use self instead).\n",
      "C:\\Users\\gonza\\AppData\\Roaming\\Python\\Python37\\site-packages\\ipykernel_launcher.py:33: DeprecationWarning: Call to deprecated `wv` (Attribute will be removed in 4.0.0, use self instead).\n"
     ]
    },
    {
     "name": "stdout",
     "output_type": "stream",
     "text": [
      "deletefacebook  position: 21.0\n",
      "retweete  position: 14.0\n",
      "bigdata  position: 1.0\n",
      "machinelearne  position: 9.0\n",
      "datascience  position: 13.0\n",
      "deletefacebook  position: 9.0\n",
      "twitt  position: 29.0\n",
      "deletefacebook  position: 21.0\n",
      "retweete  position: 14.0\n",
      "bigdata  position: 1.0\n",
      "machinelearne  position: 9.0\n",
      "datascience  position: 13.0\n",
      "deletefacebook  position: 9.0\n",
      "twitt  position: 29.0\n",
      "0.13\n"
     ]
    },
    {
     "name": "stderr",
     "output_type": "stream",
     "text": [
      "C:\\Users\\gonza\\AppData\\Roaming\\Python\\Python37\\site-packages\\ipykernel_launcher.py:52: DeprecationWarning: Call to deprecated `wv` (Attribute will be removed in 4.0.0, use self instead).\n",
      "C:\\Users\\gonza\\AppData\\Roaming\\Python\\Python37\\site-packages\\ipykernel_launcher.py:33: DeprecationWarning: Call to deprecated `wv` (Attribute will be removed in 4.0.0, use self instead).\n"
     ]
    },
    {
     "name": "stdout",
     "output_type": "stream",
     "text": [
      "deletefacebook  position: 21.0\n",
      "retweete  position: 14.0\n",
      "bigdata  position: 1.0\n",
      "machinelearne  position: 9.0\n",
      "datascience  position: 13.0\n",
      "deletefacebook  position: 9.0\n",
      "twitt  position: 29.0\n",
      "deletefacebook  position: 21.0\n",
      "retweete  position: 14.0\n",
      "bigdata  position: 1.0\n",
      "machinelearne  position: 9.0\n",
      "datascience  position: 13.0\n",
      "deletefacebook  position: 9.0\n",
      "twitt  position: 29.0\n",
      "0.14\n"
     ]
    },
    {
     "name": "stderr",
     "output_type": "stream",
     "text": [
      "C:\\Users\\gonza\\AppData\\Roaming\\Python\\Python37\\site-packages\\ipykernel_launcher.py:52: DeprecationWarning: Call to deprecated `wv` (Attribute will be removed in 4.0.0, use self instead).\n",
      "C:\\Users\\gonza\\AppData\\Roaming\\Python\\Python37\\site-packages\\ipykernel_launcher.py:33: DeprecationWarning: Call to deprecated `wv` (Attribute will be removed in 4.0.0, use self instead).\n"
     ]
    },
    {
     "name": "stdout",
     "output_type": "stream",
     "text": [
      "deletefacebook  position: 21.0\n",
      "retweete  position: 14.0\n",
      "bigdata  position: 1.0\n",
      "machinelearne  position: 9.0\n",
      "datascience  position: 13.0\n",
      "deletefacebook  position: 9.0\n",
      "twitt  position: 29.0\n",
      "deletefacebook  position: 21.0\n",
      "retweete  position: 14.0\n",
      "bigdata  position: 1.0\n",
      "machinelearne  position: 9.0\n",
      "datascience  position: 13.0\n",
      "deletefacebook  position: 9.0\n",
      "twitt  position: 29.0\n",
      "0.15\n"
     ]
    },
    {
     "name": "stderr",
     "output_type": "stream",
     "text": [
      "C:\\Users\\gonza\\AppData\\Roaming\\Python\\Python37\\site-packages\\ipykernel_launcher.py:52: DeprecationWarning: Call to deprecated `wv` (Attribute will be removed in 4.0.0, use self instead).\n",
      "C:\\Users\\gonza\\AppData\\Roaming\\Python\\Python37\\site-packages\\ipykernel_launcher.py:33: DeprecationWarning: Call to deprecated `wv` (Attribute will be removed in 4.0.0, use self instead).\n"
     ]
    },
    {
     "name": "stdout",
     "output_type": "stream",
     "text": [
      "deletefacebook  position: 21.0\n",
      "retweete  position: 14.0\n",
      "bigdata  position: 1.0\n",
      "machinelearne  position: 9.0\n",
      "datascience  position: 13.0\n",
      "deletefacebook  position: 9.0\n",
      "twitt  position: 29.0\n",
      "deletefacebook  position: 21.0\n",
      "retweete  position: 14.0\n",
      "bigdata  position: 1.0\n",
      "machinelearne  position: 9.0\n",
      "datascience  position: 13.0\n",
      "deletefacebook  position: 9.0\n",
      "twitt  position: 29.0\n",
      "0.16\n"
     ]
    },
    {
     "name": "stderr",
     "output_type": "stream",
     "text": [
      "C:\\Users\\gonza\\AppData\\Roaming\\Python\\Python37\\site-packages\\ipykernel_launcher.py:52: DeprecationWarning: Call to deprecated `wv` (Attribute will be removed in 4.0.0, use self instead).\n",
      "C:\\Users\\gonza\\AppData\\Roaming\\Python\\Python37\\site-packages\\ipykernel_launcher.py:33: DeprecationWarning: Call to deprecated `wv` (Attribute will be removed in 4.0.0, use self instead).\n"
     ]
    },
    {
     "name": "stdout",
     "output_type": "stream",
     "text": [
      "deletefacebook  position: 21.0\n",
      "retweete  position: 14.0\n",
      "bigdata  position: 1.0\n",
      "machinelearne  position: 9.0\n",
      "datascience  position: 13.0\n",
      "deletefacebook  position: 9.0\n",
      "twitt  position: 29.0\n",
      "deletefacebook  position: 21.0\n",
      "retweete  position: 14.0\n",
      "bigdata  position: 1.0\n",
      "machinelearne  position: 9.0\n",
      "datascience  position: 13.0\n",
      "deletefacebook  position: 9.0\n",
      "twitt  position: 29.0\n",
      "0.17\n"
     ]
    },
    {
     "name": "stderr",
     "output_type": "stream",
     "text": [
      "C:\\Users\\gonza\\AppData\\Roaming\\Python\\Python37\\site-packages\\ipykernel_launcher.py:52: DeprecationWarning: Call to deprecated `wv` (Attribute will be removed in 4.0.0, use self instead).\n",
      "C:\\Users\\gonza\\AppData\\Roaming\\Python\\Python37\\site-packages\\ipykernel_launcher.py:33: DeprecationWarning: Call to deprecated `wv` (Attribute will be removed in 4.0.0, use self instead).\n"
     ]
    },
    {
     "name": "stdout",
     "output_type": "stream",
     "text": [
      "deletefacebook  position: 21.0\n",
      "retweete  position: 14.0\n",
      "bigdata  position: 1.0\n",
      "machinelearne  position: 9.0\n",
      "datascience  position: 13.0\n",
      "deletefacebook  position: 9.0\n",
      "twitt  position: 29.0\n",
      "deletefacebook  position: 21.0\n",
      "retweete  position: 14.0\n",
      "bigdata  position: 1.0\n",
      "machinelearne  position: 9.0\n",
      "datascience  position: 13.0\n",
      "deletefacebook  position: 9.0\n",
      "twitt  position: 29.0\n",
      "0.18\n"
     ]
    },
    {
     "name": "stderr",
     "output_type": "stream",
     "text": [
      "C:\\Users\\gonza\\AppData\\Roaming\\Python\\Python37\\site-packages\\ipykernel_launcher.py:52: DeprecationWarning: Call to deprecated `wv` (Attribute will be removed in 4.0.0, use self instead).\n",
      "C:\\Users\\gonza\\AppData\\Roaming\\Python\\Python37\\site-packages\\ipykernel_launcher.py:33: DeprecationWarning: Call to deprecated `wv` (Attribute will be removed in 4.0.0, use self instead).\n"
     ]
    },
    {
     "name": "stdout",
     "output_type": "stream",
     "text": [
      "deletefacebook  position: 21.0\n",
      "retweete  position: 14.0\n",
      "bigdata  position: 1.0\n",
      "machinelearne  position: 9.0\n",
      "datascience  position: 13.0\n",
      "deletefacebook  position: 9.0\n",
      "twitt  position: 29.0\n",
      "deletefacebook  position: 21.0\n",
      "retweete  position: 14.0\n",
      "bigdata  position: 1.0\n",
      "machinelearne  position: 9.0\n",
      "datascience  position: 13.0\n",
      "deletefacebook  position: 9.0\n",
      "twitt  position: 29.0\n",
      "0.19\n"
     ]
    },
    {
     "name": "stderr",
     "output_type": "stream",
     "text": [
      "C:\\Users\\gonza\\AppData\\Roaming\\Python\\Python37\\site-packages\\ipykernel_launcher.py:52: DeprecationWarning: Call to deprecated `wv` (Attribute will be removed in 4.0.0, use self instead).\n",
      "C:\\Users\\gonza\\AppData\\Roaming\\Python\\Python37\\site-packages\\ipykernel_launcher.py:33: DeprecationWarning: Call to deprecated `wv` (Attribute will be removed in 4.0.0, use self instead).\n"
     ]
    },
    {
     "name": "stdout",
     "output_type": "stream",
     "text": [
      "deletefacebook  position: 21.0\n",
      "retweete  position: 14.0\n",
      "bigdata  position: 1.0\n",
      "machinelearne  position: 9.0\n",
      "datascience  position: 13.0\n",
      "deletefacebook  position: 9.0\n",
      "twitt  position: 29.0\n",
      "deletefacebook  position: 21.0\n",
      "retweete  position: 14.0\n",
      "bigdata  position: 1.0\n",
      "machinelearne  position: 9.0\n",
      "datascience  position: 13.0\n",
      "deletefacebook  position: 9.0\n",
      "twitt  position: 29.0\n",
      "0.2\n"
     ]
    },
    {
     "name": "stderr",
     "output_type": "stream",
     "text": [
      "C:\\Users\\gonza\\AppData\\Roaming\\Python\\Python37\\site-packages\\ipykernel_launcher.py:52: DeprecationWarning: Call to deprecated `wv` (Attribute will be removed in 4.0.0, use self instead).\n",
      "C:\\Users\\gonza\\AppData\\Roaming\\Python\\Python37\\site-packages\\ipykernel_launcher.py:33: DeprecationWarning: Call to deprecated `wv` (Attribute will be removed in 4.0.0, use self instead).\n"
     ]
    },
    {
     "name": "stdout",
     "output_type": "stream",
     "text": [
      "deletefacebook  position: 21.0\n",
      "retweete  position: 14.0\n",
      "bigdata  position: 1.0\n",
      "machinelearne  position: 9.0\n",
      "datascience  position: 13.0\n",
      "deletefacebook  position: 9.0\n",
      "twitt  position: 29.0\n",
      "deletefacebook  position: 21.0\n",
      "retweete  position: 14.0\n",
      "bigdata  position: 1.0\n",
      "machinelearne  position: 9.0\n",
      "datascience  position: 13.0\n",
      "deletefacebook  position: 9.0\n",
      "twitt  position: 29.0\n",
      "0.21\n"
     ]
    },
    {
     "name": "stderr",
     "output_type": "stream",
     "text": [
      "C:\\Users\\gonza\\AppData\\Roaming\\Python\\Python37\\site-packages\\ipykernel_launcher.py:52: DeprecationWarning: Call to deprecated `wv` (Attribute will be removed in 4.0.0, use self instead).\n",
      "C:\\Users\\gonza\\AppData\\Roaming\\Python\\Python37\\site-packages\\ipykernel_launcher.py:33: DeprecationWarning: Call to deprecated `wv` (Attribute will be removed in 4.0.0, use self instead).\n"
     ]
    },
    {
     "name": "stdout",
     "output_type": "stream",
     "text": [
      "deletefacebook  position: 21.0\n",
      "retweete  position: 14.0\n",
      "bigdata  position: 1.0\n",
      "machinelearne  position: 9.0\n",
      "datascience  position: 13.0\n",
      "deletefacebook  position: 9.0\n",
      "twitt  position: 29.0\n",
      "deletefacebook  position: 21.0\n",
      "retweete  position: 14.0\n",
      "bigdata  position: 1.0\n",
      "machinelearne  position: 9.0\n",
      "datascience  position: 13.0\n",
      "deletefacebook  position: 9.0\n",
      "twitt  position: 29.0\n",
      "0.22\n"
     ]
    },
    {
     "name": "stderr",
     "output_type": "stream",
     "text": [
      "C:\\Users\\gonza\\AppData\\Roaming\\Python\\Python37\\site-packages\\ipykernel_launcher.py:52: DeprecationWarning: Call to deprecated `wv` (Attribute will be removed in 4.0.0, use self instead).\n",
      "C:\\Users\\gonza\\AppData\\Roaming\\Python\\Python37\\site-packages\\ipykernel_launcher.py:33: DeprecationWarning: Call to deprecated `wv` (Attribute will be removed in 4.0.0, use self instead).\n"
     ]
    },
    {
     "name": "stdout",
     "output_type": "stream",
     "text": [
      "deletefacebook  position: 21.0\n",
      "retweete  position: 14.0\n",
      "bigdata  position: 1.0\n",
      "machinelearne  position: 9.0\n",
      "datascience  position: 13.0\n",
      "deletefacebook  position: 9.0\n",
      "twitt  position: 29.0\n",
      "deletefacebook  position: 21.0\n",
      "retweete  position: 14.0\n",
      "bigdata  position: 1.0\n",
      "machinelearne  position: 9.0\n",
      "datascience  position: 13.0\n",
      "deletefacebook  position: 9.0\n",
      "twitt  position: 29.0\n",
      "0.23\n"
     ]
    },
    {
     "name": "stderr",
     "output_type": "stream",
     "text": [
      "C:\\Users\\gonza\\AppData\\Roaming\\Python\\Python37\\site-packages\\ipykernel_launcher.py:52: DeprecationWarning: Call to deprecated `wv` (Attribute will be removed in 4.0.0, use self instead).\n",
      "C:\\Users\\gonza\\AppData\\Roaming\\Python\\Python37\\site-packages\\ipykernel_launcher.py:33: DeprecationWarning: Call to deprecated `wv` (Attribute will be removed in 4.0.0, use self instead).\n"
     ]
    },
    {
     "name": "stdout",
     "output_type": "stream",
     "text": [
      "deletefacebook  position: 21.0\n",
      "retweete  position: 14.0\n",
      "bigdata  position: 1.0\n",
      "machinelearne  position: 9.0\n",
      "datascience  position: 13.0\n",
      "deletefacebook  position: 9.0\n",
      "twitt  position: 29.0\n",
      "deletefacebook  position: 21.0\n",
      "retweete  position: 14.0\n",
      "bigdata  position: 1.0\n",
      "machinelearne  position: 9.0\n",
      "datascience  position: 13.0\n",
      "deletefacebook  position: 9.0\n",
      "twitt  position: 29.0\n",
      "0.24\n"
     ]
    },
    {
     "name": "stderr",
     "output_type": "stream",
     "text": [
      "C:\\Users\\gonza\\AppData\\Roaming\\Python\\Python37\\site-packages\\ipykernel_launcher.py:52: DeprecationWarning: Call to deprecated `wv` (Attribute will be removed in 4.0.0, use self instead).\n",
      "C:\\Users\\gonza\\AppData\\Roaming\\Python\\Python37\\site-packages\\ipykernel_launcher.py:33: DeprecationWarning: Call to deprecated `wv` (Attribute will be removed in 4.0.0, use self instead).\n"
     ]
    },
    {
     "name": "stdout",
     "output_type": "stream",
     "text": [
      "deletefacebook  position: 21.0\n",
      "retweete  position: 14.0\n",
      "bigdata  position: 1.0\n",
      "machinelearne  position: 9.0\n",
      "datascience  position: 13.0\n",
      "deletefacebook  position: 9.0\n",
      "twitt  position: 29.0\n",
      "deletefacebook  position: 21.0\n",
      "retweete  position: 14.0\n",
      "bigdata  position: 1.0\n",
      "machinelearne  position: 9.0\n",
      "datascience  position: 13.0\n",
      "deletefacebook  position: 9.0\n",
      "twitt  position: 29.0\n",
      "0.25\n"
     ]
    },
    {
     "name": "stderr",
     "output_type": "stream",
     "text": [
      "C:\\Users\\gonza\\AppData\\Roaming\\Python\\Python37\\site-packages\\ipykernel_launcher.py:52: DeprecationWarning: Call to deprecated `wv` (Attribute will be removed in 4.0.0, use self instead).\n",
      "C:\\Users\\gonza\\AppData\\Roaming\\Python\\Python37\\site-packages\\ipykernel_launcher.py:33: DeprecationWarning: Call to deprecated `wv` (Attribute will be removed in 4.0.0, use self instead).\n"
     ]
    },
    {
     "name": "stdout",
     "output_type": "stream",
     "text": [
      "deletefacebook  position: 21.0\n",
      "retweete  position: 14.0\n",
      "bigdata  position: 1.0\n",
      "machinelearne  position: 9.0\n",
      "datascience  position: 13.0\n",
      "deletefacebook  position: 9.0\n",
      "twitt  position: 29.0\n",
      "deletefacebook  position: 21.0\n",
      "retweete  position: 14.0\n",
      "bigdata  position: 1.0\n",
      "machinelearne  position: 9.0\n",
      "datascience  position: 13.0\n",
      "deletefacebook  position: 9.0\n",
      "twitt  position: 29.0\n",
      "0.26\n"
     ]
    },
    {
     "name": "stderr",
     "output_type": "stream",
     "text": [
      "C:\\Users\\gonza\\AppData\\Roaming\\Python\\Python37\\site-packages\\ipykernel_launcher.py:52: DeprecationWarning: Call to deprecated `wv` (Attribute will be removed in 4.0.0, use self instead).\n",
      "C:\\Users\\gonza\\AppData\\Roaming\\Python\\Python37\\site-packages\\ipykernel_launcher.py:33: DeprecationWarning: Call to deprecated `wv` (Attribute will be removed in 4.0.0, use self instead).\n"
     ]
    },
    {
     "name": "stdout",
     "output_type": "stream",
     "text": [
      "deletefacebook  position: 21.0\n",
      "retweete  position: 14.0\n",
      "bigdata  position: 1.0\n",
      "machinelearne  position: 9.0\n",
      "datascience  position: 13.0\n",
      "deletefacebook  position: 9.0\n",
      "twitt  position: 29.0\n",
      "deletefacebook  position: 21.0\n",
      "retweete  position: 14.0\n",
      "bigdata  position: 1.0\n",
      "machinelearne  position: 9.0\n",
      "datascience  position: 13.0\n",
      "deletefacebook  position: 9.0\n",
      "twitt  position: 29.0\n",
      "0.27\n"
     ]
    },
    {
     "name": "stderr",
     "output_type": "stream",
     "text": [
      "C:\\Users\\gonza\\AppData\\Roaming\\Python\\Python37\\site-packages\\ipykernel_launcher.py:52: DeprecationWarning: Call to deprecated `wv` (Attribute will be removed in 4.0.0, use self instead).\n",
      "C:\\Users\\gonza\\AppData\\Roaming\\Python\\Python37\\site-packages\\ipykernel_launcher.py:33: DeprecationWarning: Call to deprecated `wv` (Attribute will be removed in 4.0.0, use self instead).\n"
     ]
    },
    {
     "name": "stdout",
     "output_type": "stream",
     "text": [
      "deletefacebook  position: 21.0\n",
      "retweete  position: 14.0\n",
      "bigdata  position: 1.0\n",
      "machinelearne  position: 9.0\n",
      "datascience  position: 13.0\n",
      "deletefacebook  position: 9.0\n",
      "twitt  position: 29.0\n",
      "deletefacebook  position: 21.0\n",
      "retweete  position: 14.0\n",
      "bigdata  position: 1.0\n",
      "machinelearne  position: 9.0\n",
      "datascience  position: 13.0\n",
      "deletefacebook  position: 9.0\n",
      "twitt  position: 29.0\n",
      "0.28\n"
     ]
    },
    {
     "name": "stderr",
     "output_type": "stream",
     "text": [
      "C:\\Users\\gonza\\AppData\\Roaming\\Python\\Python37\\site-packages\\ipykernel_launcher.py:52: DeprecationWarning: Call to deprecated `wv` (Attribute will be removed in 4.0.0, use self instead).\n",
      "C:\\Users\\gonza\\AppData\\Roaming\\Python\\Python37\\site-packages\\ipykernel_launcher.py:33: DeprecationWarning: Call to deprecated `wv` (Attribute will be removed in 4.0.0, use self instead).\n"
     ]
    },
    {
     "name": "stdout",
     "output_type": "stream",
     "text": [
      "deletefacebook  position: 21.0\n",
      "retweete  position: 14.0\n",
      "bigdata  position: 1.0\n",
      "machinelearne  position: 9.0\n",
      "datascience  position: 13.0\n",
      "deletefacebook  position: 9.0\n",
      "twitt  position: 29.0\n",
      "deletefacebook  position: 21.0\n",
      "retweete  position: 14.0\n",
      "bigdata  position: 1.0\n",
      "machinelearne  position: 9.0\n",
      "datascience  position: 13.0\n",
      "deletefacebook  position: 9.0\n",
      "twitt  position: 29.0\n",
      "0.29\n"
     ]
    },
    {
     "name": "stderr",
     "output_type": "stream",
     "text": [
      "C:\\Users\\gonza\\AppData\\Roaming\\Python\\Python37\\site-packages\\ipykernel_launcher.py:52: DeprecationWarning: Call to deprecated `wv` (Attribute will be removed in 4.0.0, use self instead).\n",
      "C:\\Users\\gonza\\AppData\\Roaming\\Python\\Python37\\site-packages\\ipykernel_launcher.py:33: DeprecationWarning: Call to deprecated `wv` (Attribute will be removed in 4.0.0, use self instead).\n"
     ]
    },
    {
     "name": "stdout",
     "output_type": "stream",
     "text": [
      "deletefacebook  position: 21.0\n",
      "retweete  position: 14.0\n",
      "bigdata  position: 1.0\n",
      "machinelearne  position: 9.0\n",
      "datascience  position: 13.0\n",
      "deletefacebook  position: 9.0\n",
      "twitt  position: 29.0\n",
      "deletefacebook  position: 21.0\n",
      "retweete  position: 14.0\n",
      "bigdata  position: 1.0\n",
      "machinelearne  position: 9.0\n",
      "datascience  position: 13.0\n",
      "deletefacebook  position: 9.0\n",
      "twitt  position: 29.0\n",
      "0.3\n"
     ]
    },
    {
     "name": "stderr",
     "output_type": "stream",
     "text": [
      "C:\\Users\\gonza\\AppData\\Roaming\\Python\\Python37\\site-packages\\ipykernel_launcher.py:52: DeprecationWarning: Call to deprecated `wv` (Attribute will be removed in 4.0.0, use self instead).\n",
      "C:\\Users\\gonza\\AppData\\Roaming\\Python\\Python37\\site-packages\\ipykernel_launcher.py:33: DeprecationWarning: Call to deprecated `wv` (Attribute will be removed in 4.0.0, use self instead).\n"
     ]
    },
    {
     "name": "stdout",
     "output_type": "stream",
     "text": [
      "deletefacebook  position: 21.0\n",
      "retweete  position: 14.0\n",
      "bigdata  position: 1.0\n",
      "machinelearne  position: 9.0\n",
      "datascience  position: 13.0\n",
      "deletefacebook  position: 9.0\n",
      "twitt  position: 29.0\n",
      "deletefacebook  position: 21.0\n",
      "retweete  position: 14.0\n",
      "bigdata  position: 1.0\n",
      "machinelearne  position: 9.0\n",
      "datascience  position: 13.0\n",
      "deletefacebook  position: 9.0\n",
      "twitt  position: 29.0\n",
      "0.31\n"
     ]
    },
    {
     "name": "stderr",
     "output_type": "stream",
     "text": [
      "C:\\Users\\gonza\\AppData\\Roaming\\Python\\Python37\\site-packages\\ipykernel_launcher.py:52: DeprecationWarning: Call to deprecated `wv` (Attribute will be removed in 4.0.0, use self instead).\n",
      "C:\\Users\\gonza\\AppData\\Roaming\\Python\\Python37\\site-packages\\ipykernel_launcher.py:33: DeprecationWarning: Call to deprecated `wv` (Attribute will be removed in 4.0.0, use self instead).\n"
     ]
    },
    {
     "name": "stdout",
     "output_type": "stream",
     "text": [
      "deletefacebook  position: 21.0\n",
      "retweete  position: 14.0\n",
      "bigdata  position: 1.0\n",
      "machinelearne  position: 9.0\n",
      "datascience  position: 13.0\n",
      "deletefacebook  position: 9.0\n",
      "twitt  position: 29.0\n",
      "deletefacebook  position: 21.0\n",
      "retweete  position: 14.0\n",
      "bigdata  position: 1.0\n",
      "machinelearne  position: 9.0\n",
      "datascience  position: 13.0\n",
      "deletefacebook  position: 9.0\n",
      "twitt  position: 29.0\n",
      "0.32\n"
     ]
    },
    {
     "name": "stderr",
     "output_type": "stream",
     "text": [
      "C:\\Users\\gonza\\AppData\\Roaming\\Python\\Python37\\site-packages\\ipykernel_launcher.py:52: DeprecationWarning: Call to deprecated `wv` (Attribute will be removed in 4.0.0, use self instead).\n",
      "C:\\Users\\gonza\\AppData\\Roaming\\Python\\Python37\\site-packages\\ipykernel_launcher.py:33: DeprecationWarning: Call to deprecated `wv` (Attribute will be removed in 4.0.0, use self instead).\n"
     ]
    },
    {
     "name": "stdout",
     "output_type": "stream",
     "text": [
      "deletefacebook  position: 21.0\n",
      "retweete  position: 14.0\n",
      "bigdata  position: 1.0\n",
      "machinelearne  position: 9.0\n",
      "datascience  position: 13.0\n",
      "deletefacebook  position: 9.0\n",
      "twitt  position: 29.0\n",
      "deletefacebook  position: 21.0\n",
      "retweete  position: 14.0\n",
      "bigdata  position: 1.0\n",
      "machinelearne  position: 9.0\n",
      "datascience  position: 13.0\n",
      "deletefacebook  position: 9.0\n",
      "twitt  position: 29.0\n",
      "0.33\n"
     ]
    },
    {
     "name": "stderr",
     "output_type": "stream",
     "text": [
      "C:\\Users\\gonza\\AppData\\Roaming\\Python\\Python37\\site-packages\\ipykernel_launcher.py:52: DeprecationWarning: Call to deprecated `wv` (Attribute will be removed in 4.0.0, use self instead).\n",
      "C:\\Users\\gonza\\AppData\\Roaming\\Python\\Python37\\site-packages\\ipykernel_launcher.py:33: DeprecationWarning: Call to deprecated `wv` (Attribute will be removed in 4.0.0, use self instead).\n"
     ]
    },
    {
     "name": "stdout",
     "output_type": "stream",
     "text": [
      "deletefacebook  position: 21.0\n",
      "retweete  position: 14.0\n",
      "bigdata  position: 1.0\n",
      "machinelearne  position: 9.0\n",
      "datascience  position: 13.0\n",
      "deletefacebook  position: 9.0\n",
      "twitt  position: 29.0\n",
      "deletefacebook  position: 21.0\n",
      "retweete  position: 14.0\n",
      "bigdata  position: 1.0\n",
      "machinelearne  position: 9.0\n",
      "datascience  position: 13.0\n",
      "deletefacebook  position: 9.0\n",
      "twitt  position: 29.0\n",
      "0.34\n"
     ]
    },
    {
     "name": "stderr",
     "output_type": "stream",
     "text": [
      "C:\\Users\\gonza\\AppData\\Roaming\\Python\\Python37\\site-packages\\ipykernel_launcher.py:52: DeprecationWarning: Call to deprecated `wv` (Attribute will be removed in 4.0.0, use self instead).\n",
      "C:\\Users\\gonza\\AppData\\Roaming\\Python\\Python37\\site-packages\\ipykernel_launcher.py:33: DeprecationWarning: Call to deprecated `wv` (Attribute will be removed in 4.0.0, use self instead).\n"
     ]
    },
    {
     "name": "stdout",
     "output_type": "stream",
     "text": [
      "deletefacebook  position: 21.0\n",
      "retweete  position: 14.0\n",
      "bigdata  position: 1.0\n",
      "machinelearne  position: 9.0\n",
      "datascience  position: 13.0\n",
      "deletefacebook  position: 9.0\n",
      "twitt  position: 29.0\n",
      "deletefacebook  position: 21.0\n",
      "retweete  position: 14.0\n",
      "bigdata  position: 1.0\n",
      "machinelearne  position: 9.0\n",
      "datascience  position: 13.0\n",
      "deletefacebook  position: 9.0\n",
      "twitt  position: 29.0\n",
      "0.35\n"
     ]
    },
    {
     "name": "stderr",
     "output_type": "stream",
     "text": [
      "C:\\Users\\gonza\\AppData\\Roaming\\Python\\Python37\\site-packages\\ipykernel_launcher.py:52: DeprecationWarning: Call to deprecated `wv` (Attribute will be removed in 4.0.0, use self instead).\n",
      "C:\\Users\\gonza\\AppData\\Roaming\\Python\\Python37\\site-packages\\ipykernel_launcher.py:33: DeprecationWarning: Call to deprecated `wv` (Attribute will be removed in 4.0.0, use self instead).\n"
     ]
    },
    {
     "name": "stdout",
     "output_type": "stream",
     "text": [
      "deletefacebook  position: 21.0\n",
      "retweete  position: 14.0\n",
      "bigdata  position: 1.0\n",
      "machinelearne  position: 9.0\n",
      "datascience  position: 13.0\n",
      "deletefacebook  position: 9.0\n",
      "twitt  position: 29.0\n",
      "deletefacebook  position: 21.0\n",
      "retweete  position: 14.0\n",
      "bigdata  position: 1.0\n",
      "machinelearne  position: 9.0\n",
      "datascience  position: 13.0\n",
      "deletefacebook  position: 9.0\n",
      "twitt  position: 29.0\n",
      "0.36\n"
     ]
    },
    {
     "name": "stderr",
     "output_type": "stream",
     "text": [
      "C:\\Users\\gonza\\AppData\\Roaming\\Python\\Python37\\site-packages\\ipykernel_launcher.py:52: DeprecationWarning: Call to deprecated `wv` (Attribute will be removed in 4.0.0, use self instead).\n",
      "C:\\Users\\gonza\\AppData\\Roaming\\Python\\Python37\\site-packages\\ipykernel_launcher.py:33: DeprecationWarning: Call to deprecated `wv` (Attribute will be removed in 4.0.0, use self instead).\n"
     ]
    },
    {
     "name": "stdout",
     "output_type": "stream",
     "text": [
      "deletefacebook  position: 21.0\n",
      "retweete  position: 14.0\n",
      "bigdata  position: 1.0\n",
      "machinelearne  position: 9.0\n",
      "datascience  position: 13.0\n",
      "deletefacebook  position: 9.0\n",
      "twitt  position: 29.0\n",
      "deletefacebook  position: 21.0\n",
      "retweete  position: 14.0\n",
      "bigdata  position: 1.0\n",
      "machinelearne  position: 9.0\n",
      "datascience  position: 13.0\n",
      "deletefacebook  position: 9.0\n",
      "twitt  position: 29.0\n",
      "0.37\n"
     ]
    },
    {
     "name": "stderr",
     "output_type": "stream",
     "text": [
      "C:\\Users\\gonza\\AppData\\Roaming\\Python\\Python37\\site-packages\\ipykernel_launcher.py:52: DeprecationWarning: Call to deprecated `wv` (Attribute will be removed in 4.0.0, use self instead).\n",
      "C:\\Users\\gonza\\AppData\\Roaming\\Python\\Python37\\site-packages\\ipykernel_launcher.py:33: DeprecationWarning: Call to deprecated `wv` (Attribute will be removed in 4.0.0, use self instead).\n"
     ]
    },
    {
     "name": "stdout",
     "output_type": "stream",
     "text": [
      "deletefacebook  position: 21.0\n",
      "retweete  position: 14.0\n",
      "bigdata  position: 1.0\n",
      "machinelearne  position: 9.0\n",
      "datascience  position: 13.0\n",
      "deletefacebook  position: 9.0\n",
      "twitt  position: 29.0\n",
      "deletefacebook  position: 21.0\n",
      "retweete  position: 14.0\n",
      "bigdata  position: 1.0\n",
      "machinelearne  position: 9.0\n",
      "datascience  position: 13.0\n",
      "deletefacebook  position: 9.0\n",
      "twitt  position: 29.0\n",
      "0.38\n"
     ]
    },
    {
     "name": "stderr",
     "output_type": "stream",
     "text": [
      "C:\\Users\\gonza\\AppData\\Roaming\\Python\\Python37\\site-packages\\ipykernel_launcher.py:52: DeprecationWarning: Call to deprecated `wv` (Attribute will be removed in 4.0.0, use self instead).\n",
      "C:\\Users\\gonza\\AppData\\Roaming\\Python\\Python37\\site-packages\\ipykernel_launcher.py:33: DeprecationWarning: Call to deprecated `wv` (Attribute will be removed in 4.0.0, use self instead).\n"
     ]
    },
    {
     "name": "stdout",
     "output_type": "stream",
     "text": [
      "deletefacebook  position: 21.0\n",
      "retweete  position: 14.0\n",
      "bigdata  position: 1.0\n",
      "machinelearne  position: 9.0\n",
      "datascience  position: 13.0\n",
      "deletefacebook  position: 9.0\n",
      "twitt  position: 29.0\n",
      "deletefacebook  position: 21.0\n",
      "retweete  position: 14.0\n",
      "bigdata  position: 1.0\n",
      "machinelearne  position: 9.0\n",
      "datascience  position: 13.0\n",
      "deletefacebook  position: 9.0\n",
      "twitt  position: 29.0\n",
      "0.39\n"
     ]
    },
    {
     "name": "stderr",
     "output_type": "stream",
     "text": [
      "C:\\Users\\gonza\\AppData\\Roaming\\Python\\Python37\\site-packages\\ipykernel_launcher.py:52: DeprecationWarning: Call to deprecated `wv` (Attribute will be removed in 4.0.0, use self instead).\n",
      "C:\\Users\\gonza\\AppData\\Roaming\\Python\\Python37\\site-packages\\ipykernel_launcher.py:33: DeprecationWarning: Call to deprecated `wv` (Attribute will be removed in 4.0.0, use self instead).\n"
     ]
    },
    {
     "name": "stdout",
     "output_type": "stream",
     "text": [
      "deletefacebook  position: 21.0\n",
      "retweete  position: 14.0\n",
      "bigdata  position: 1.0\n",
      "machinelearne  position: 9.0\n",
      "datascience  position: 13.0\n",
      "deletefacebook  position: 9.0\n",
      "twitt  position: 29.0\n",
      "deletefacebook  position: 21.0\n",
      "retweete  position: 14.0\n",
      "bigdata  position: 1.0\n",
      "machinelearne  position: 9.0\n",
      "datascience  position: 13.0\n",
      "deletefacebook  position: 9.0\n",
      "twitt  position: 29.0\n",
      "0.4\n"
     ]
    },
    {
     "name": "stderr",
     "output_type": "stream",
     "text": [
      "C:\\Users\\gonza\\AppData\\Roaming\\Python\\Python37\\site-packages\\ipykernel_launcher.py:52: DeprecationWarning: Call to deprecated `wv` (Attribute will be removed in 4.0.0, use self instead).\n",
      "C:\\Users\\gonza\\AppData\\Roaming\\Python\\Python37\\site-packages\\ipykernel_launcher.py:33: DeprecationWarning: Call to deprecated `wv` (Attribute will be removed in 4.0.0, use self instead).\n"
     ]
    },
    {
     "name": "stdout",
     "output_type": "stream",
     "text": [
      "deletefacebook  position: 21.0\n",
      "retweete  position: 14.0\n",
      "bigdata  position: 1.0\n",
      "machinelearne  position: 9.0\n",
      "datascience  position: 13.0\n",
      "deletefacebook  position: 9.0\n",
      "twitt  position: 29.0\n",
      "deletefacebook  position: 21.0\n",
      "retweete  position: 14.0\n",
      "bigdata  position: 1.0\n",
      "machinelearne  position: 9.0\n",
      "datascience  position: 13.0\n",
      "deletefacebook  position: 9.0\n",
      "twitt  position: 29.0\n",
      "0.41\n"
     ]
    },
    {
     "name": "stderr",
     "output_type": "stream",
     "text": [
      "C:\\Users\\gonza\\AppData\\Roaming\\Python\\Python37\\site-packages\\ipykernel_launcher.py:52: DeprecationWarning: Call to deprecated `wv` (Attribute will be removed in 4.0.0, use self instead).\n",
      "C:\\Users\\gonza\\AppData\\Roaming\\Python\\Python37\\site-packages\\ipykernel_launcher.py:33: DeprecationWarning: Call to deprecated `wv` (Attribute will be removed in 4.0.0, use self instead).\n"
     ]
    },
    {
     "name": "stdout",
     "output_type": "stream",
     "text": [
      "deletefacebook  position: 21.0\n",
      "retweete  position: 14.0\n",
      "bigdata  position: 1.0\n",
      "machinelearne  position: 9.0\n",
      "datascience  position: 13.0\n",
      "deletefacebook  position: 9.0\n",
      "twitt  position: 29.0\n",
      "deletefacebook  position: 21.0\n",
      "retweete  position: 14.0\n",
      "bigdata  position: 1.0\n",
      "machinelearne  position: 9.0\n",
      "datascience  position: 13.0\n",
      "deletefacebook  position: 9.0\n",
      "twitt  position: 29.0\n",
      "0.42\n"
     ]
    },
    {
     "name": "stderr",
     "output_type": "stream",
     "text": [
      "C:\\Users\\gonza\\AppData\\Roaming\\Python\\Python37\\site-packages\\ipykernel_launcher.py:52: DeprecationWarning: Call to deprecated `wv` (Attribute will be removed in 4.0.0, use self instead).\n",
      "C:\\Users\\gonza\\AppData\\Roaming\\Python\\Python37\\site-packages\\ipykernel_launcher.py:33: DeprecationWarning: Call to deprecated `wv` (Attribute will be removed in 4.0.0, use self instead).\n"
     ]
    },
    {
     "name": "stdout",
     "output_type": "stream",
     "text": [
      "deletefacebook  position: 21.0\n",
      "retweete  position: 14.0\n",
      "bigdata  position: 1.0\n",
      "machinelearne  position: 9.0\n",
      "datascience  position: 13.0\n",
      "deletefacebook  position: 9.0\n",
      "twitt  position: 29.0\n",
      "deletefacebook  position: 21.0\n",
      "retweete  position: 14.0\n",
      "bigdata  position: 1.0\n",
      "machinelearne  position: 9.0\n",
      "datascience  position: 13.0\n",
      "deletefacebook  position: 9.0\n",
      "twitt  position: 29.0\n",
      "0.43\n"
     ]
    },
    {
     "name": "stderr",
     "output_type": "stream",
     "text": [
      "C:\\Users\\gonza\\AppData\\Roaming\\Python\\Python37\\site-packages\\ipykernel_launcher.py:52: DeprecationWarning: Call to deprecated `wv` (Attribute will be removed in 4.0.0, use self instead).\n",
      "C:\\Users\\gonza\\AppData\\Roaming\\Python\\Python37\\site-packages\\ipykernel_launcher.py:33: DeprecationWarning: Call to deprecated `wv` (Attribute will be removed in 4.0.0, use self instead).\n"
     ]
    },
    {
     "name": "stdout",
     "output_type": "stream",
     "text": [
      "deletefacebook  position: 21.0\n",
      "retweete  position: 14.0\n",
      "bigdata  position: 1.0\n",
      "machinelearne  position: 9.0\n",
      "datascience  position: 13.0\n",
      "deletefacebook  position: 9.0\n",
      "twitt  position: 29.0\n",
      "deletefacebook  position: 21.0\n",
      "retweete  position: 14.0\n",
      "bigdata  position: 1.0\n",
      "machinelearne  position: 9.0\n",
      "datascience  position: 13.0\n",
      "deletefacebook  position: 9.0\n",
      "twitt  position: 29.0\n",
      "0.44\n"
     ]
    },
    {
     "name": "stderr",
     "output_type": "stream",
     "text": [
      "C:\\Users\\gonza\\AppData\\Roaming\\Python\\Python37\\site-packages\\ipykernel_launcher.py:52: DeprecationWarning: Call to deprecated `wv` (Attribute will be removed in 4.0.0, use self instead).\n",
      "C:\\Users\\gonza\\AppData\\Roaming\\Python\\Python37\\site-packages\\ipykernel_launcher.py:33: DeprecationWarning: Call to deprecated `wv` (Attribute will be removed in 4.0.0, use self instead).\n"
     ]
    },
    {
     "name": "stdout",
     "output_type": "stream",
     "text": [
      "deletefacebook  position: 21.0\n",
      "retweete  position: 14.0\n",
      "bigdata  position: 1.0\n",
      "machinelearne  position: 9.0\n",
      "datascience  position: 13.0\n",
      "deletefacebook  position: 9.0\n",
      "twitt  position: 29.0\n",
      "deletefacebook  position: 21.0\n",
      "retweete  position: 14.0\n",
      "bigdata  position: 1.0\n",
      "machinelearne  position: 9.0\n",
      "datascience  position: 13.0\n",
      "deletefacebook  position: 9.0\n",
      "twitt  position: 29.0\n",
      "0.45\n"
     ]
    },
    {
     "name": "stderr",
     "output_type": "stream",
     "text": [
      "C:\\Users\\gonza\\AppData\\Roaming\\Python\\Python37\\site-packages\\ipykernel_launcher.py:52: DeprecationWarning: Call to deprecated `wv` (Attribute will be removed in 4.0.0, use self instead).\n",
      "C:\\Users\\gonza\\AppData\\Roaming\\Python\\Python37\\site-packages\\ipykernel_launcher.py:33: DeprecationWarning: Call to deprecated `wv` (Attribute will be removed in 4.0.0, use self instead).\n"
     ]
    },
    {
     "name": "stdout",
     "output_type": "stream",
     "text": [
      "deletefacebook  position: 21.0\n",
      "retweete  position: 14.0\n",
      "bigdata  position: 1.0\n",
      "machinelearne  position: 9.0\n",
      "datascience  position: 13.0\n",
      "deletefacebook  position: 9.0\n",
      "twitt  position: 29.0\n",
      "deletefacebook  position: 21.0\n",
      "retweete  position: 14.0\n",
      "bigdata  position: 1.0\n",
      "machinelearne  position: 9.0\n",
      "datascience  position: 13.0\n",
      "deletefacebook  position: 9.0\n",
      "twitt  position: 29.0\n",
      "0.46\n"
     ]
    },
    {
     "name": "stderr",
     "output_type": "stream",
     "text": [
      "C:\\Users\\gonza\\AppData\\Roaming\\Python\\Python37\\site-packages\\ipykernel_launcher.py:52: DeprecationWarning: Call to deprecated `wv` (Attribute will be removed in 4.0.0, use self instead).\n",
      "C:\\Users\\gonza\\AppData\\Roaming\\Python\\Python37\\site-packages\\ipykernel_launcher.py:33: DeprecationWarning: Call to deprecated `wv` (Attribute will be removed in 4.0.0, use self instead).\n"
     ]
    },
    {
     "name": "stdout",
     "output_type": "stream",
     "text": [
      "deletefacebook  position: 21.0\n",
      "retweete  position: 14.0\n",
      "bigdata  position: 1.0\n",
      "machinelearne  position: 9.0\n",
      "datascience  position: 13.0\n",
      "deletefacebook  position: 9.0\n",
      "twitt  position: 29.0\n",
      "deletefacebook  position: 21.0\n",
      "retweete  position: 14.0\n",
      "bigdata  position: 1.0\n",
      "machinelearne  position: 9.0\n",
      "datascience  position: 13.0\n",
      "deletefacebook  position: 9.0\n",
      "twitt  position: 29.0\n",
      "0.47\n"
     ]
    },
    {
     "name": "stderr",
     "output_type": "stream",
     "text": [
      "C:\\Users\\gonza\\AppData\\Roaming\\Python\\Python37\\site-packages\\ipykernel_launcher.py:52: DeprecationWarning: Call to deprecated `wv` (Attribute will be removed in 4.0.0, use self instead).\n",
      "C:\\Users\\gonza\\AppData\\Roaming\\Python\\Python37\\site-packages\\ipykernel_launcher.py:33: DeprecationWarning: Call to deprecated `wv` (Attribute will be removed in 4.0.0, use self instead).\n"
     ]
    },
    {
     "name": "stdout",
     "output_type": "stream",
     "text": [
      "deletefacebook  position: 21.0\n",
      "retweete  position: 14.0\n",
      "bigdata  position: 1.0\n",
      "machinelearne  position: 9.0\n",
      "datascience  position: 13.0\n",
      "deletefacebook  position: 9.0\n",
      "twitt  position: 29.0\n",
      "deletefacebook  position: 21.0\n",
      "retweete  position: 14.0\n",
      "bigdata  position: 1.0\n",
      "machinelearne  position: 9.0\n",
      "datascience  position: 13.0\n",
      "deletefacebook  position: 9.0\n",
      "twitt  position: 29.0\n",
      "0.48\n"
     ]
    },
    {
     "name": "stderr",
     "output_type": "stream",
     "text": [
      "C:\\Users\\gonza\\AppData\\Roaming\\Python\\Python37\\site-packages\\ipykernel_launcher.py:52: DeprecationWarning: Call to deprecated `wv` (Attribute will be removed in 4.0.0, use self instead).\n",
      "C:\\Users\\gonza\\AppData\\Roaming\\Python\\Python37\\site-packages\\ipykernel_launcher.py:33: DeprecationWarning: Call to deprecated `wv` (Attribute will be removed in 4.0.0, use self instead).\n"
     ]
    },
    {
     "name": "stdout",
     "output_type": "stream",
     "text": [
      "deletefacebook  position: 21.0\n",
      "retweete  position: 14.0\n",
      "bigdata  position: 1.0\n",
      "machinelearne  position: 9.0\n",
      "datascience  position: 13.0\n",
      "deletefacebook  position: 9.0\n",
      "twitt  position: 29.0\n",
      "deletefacebook  position: 21.0\n",
      "retweete  position: 14.0\n",
      "bigdata  position: 1.0\n",
      "machinelearne  position: 9.0\n",
      "datascience  position: 13.0\n",
      "deletefacebook  position: 9.0\n",
      "twitt  position: 29.0\n",
      "0.49\n"
     ]
    },
    {
     "name": "stderr",
     "output_type": "stream",
     "text": [
      "C:\\Users\\gonza\\AppData\\Roaming\\Python\\Python37\\site-packages\\ipykernel_launcher.py:52: DeprecationWarning: Call to deprecated `wv` (Attribute will be removed in 4.0.0, use self instead).\n",
      "C:\\Users\\gonza\\AppData\\Roaming\\Python\\Python37\\site-packages\\ipykernel_launcher.py:33: DeprecationWarning: Call to deprecated `wv` (Attribute will be removed in 4.0.0, use self instead).\n"
     ]
    },
    {
     "name": "stdout",
     "output_type": "stream",
     "text": [
      "deletefacebook  position: 21.0\n",
      "retweete  position: 14.0\n",
      "bigdata  position: 1.0\n",
      "machinelearne  position: 9.0\n",
      "datascience  position: 13.0\n",
      "deletefacebook  position: 9.0\n",
      "twitt  position: 29.0\n"
     ]
    }
   ],
   "source": [
    "topn = 30\n",
    "#lambda_ = 0.8\n",
    "\n",
    "\n",
    "i = 0.0\n",
    "matrices_dict = dict()\n",
    "while i <=1.01:\n",
    "    lambda_ = round(i,2)\n",
    "    print(lambda_)\n",
    "    matrix = get_matrix(wordembedding, lda_model_collecion_1, most_relevant_documents_collection_1, lda_model_collecion_2, most_relevant_documents_collection_2,topn, lambda_)\n",
    "    matrices_dict[lambda_] = matrix\n",
    "    i+=0.01\n",
    " "
   ]
  },
  {
   "cell_type": "code",
   "execution_count": null,
   "metadata": {},
   "outputs": [],
   "source": [
    "matrices_dict"
   ]
  },
  {
   "cell_type": "code",
   "execution_count": 18,
   "metadata": {},
   "outputs": [],
   "source": [
    "with open('../data/cambridge_analytica/matrix_collection_1_1', 'wb') as f:\n",
    "            pickle.dump(matrices_dict, f)"
   ]
  },
  {
   "cell_type": "code",
   "execution_count": 11,
   "metadata": {},
   "outputs": [],
   "source": [
    "with open('../data/cambridge_analytica/matrix_collection_1_2', 'rb') as f:\n",
    "    matrix_sankey_2 = pickle.load(f)\n"
   ]
  },
  {
   "cell_type": "code",
   "execution_count": 13,
   "metadata": {},
   "outputs": [
    {
     "data": {
      "text/plain": [
       "array([[0.93399   , 0.77258611, 0.95911622, 0.80941415, 0.82363397,\n",
       "        0.93731242, 0.87817943, 0.8465876 , 0.78703463, 0.84308201,\n",
       "        0.68733966, 0.8296324 , 0.83066213, 0.86650491, 0.85298061],\n",
       "       [0.87455618, 0.81576705, 0.87215126, 0.81436431, 0.81050557,\n",
       "        0.85118937, 0.89927334, 0.88840425, 0.81510121, 0.92421865,\n",
       "        0.70527971, 0.92513371, 0.84377515, 0.89781153, 0.82696366],\n",
       "       [0.83998048, 0.75661427, 0.81549239, 0.88003439, 0.8673358 ,\n",
       "        0.86852229, 0.84527749, 0.82375681, 0.8605417 , 0.79867864,\n",
       "        0.7792629 , 0.8093214 , 0.85483277, 0.88069713, 0.9714793 ],\n",
       "       [0.84105194, 0.80832881, 0.81025606, 0.97125363, 0.86455184,\n",
       "        0.85414851, 0.87730783, 0.85154277, 0.8416298 , 0.86179429,\n",
       "        0.77739209, 0.84590256, 0.88172126, 0.87899113, 0.88981771],\n",
       "       [0.85330963, 0.78228241, 0.8324753 , 0.93865907, 0.8363713 ,\n",
       "        0.86542916, 0.88884461, 0.85795116, 0.86766207, 0.86610055,\n",
       "        0.75005126, 0.89091283, 0.87751663, 0.89365661, 0.85858226],\n",
       "       [0.86044884, 0.75355291, 0.83069193, 0.82238621, 0.79700565,\n",
       "        0.85989928, 0.90916282, 0.90891767, 0.78764832, 0.91201043,\n",
       "        0.69212973, 0.88927019, 0.84108317, 0.89569461, 0.82817268],\n",
       "       [0.85339284, 0.83537388, 0.86719787, 0.87055928, 0.8494879 ,\n",
       "        0.84256029, 0.89641941, 0.87414616, 0.82644403, 0.92372143,\n",
       "        0.73174226, 0.94227922, 0.86665523, 0.90015793, 0.84712553],\n",
       "       [0.89610732, 0.80172479, 0.89938128, 0.84774315, 0.84246433,\n",
       "        0.90740609, 0.88250524, 0.88310093, 0.82933104, 0.86859971,\n",
       "        0.75086129, 0.86706495, 0.85534602, 0.9313277 , 0.89078569],\n",
       "       [0.82829034, 0.9153533 , 0.83147937, 0.84183764, 0.82910204,\n",
       "        0.829476  , 0.89343345, 0.87775427, 0.7991848 , 0.89964128,\n",
       "        0.71465671, 0.90423304, 0.85090411, 0.89743227, 0.82362294],\n",
       "       [0.7643671 , 0.75279468, 0.73421854, 0.85289168, 0.85521293,\n",
       "        0.78996176, 0.78036082, 0.81691533, 0.92237914, 0.74939483,\n",
       "        0.96870816, 0.79786444, 0.85277492, 0.83305919, 0.82375324],\n",
       "       [0.88037384, 0.7924068 , 0.87464011, 0.83679092, 0.83135259,\n",
       "        0.87471485, 0.96760595, 0.88784021, 0.77909917, 0.88997066,\n",
       "        0.70351267, 0.8800149 , 0.83241475, 0.88802135, 0.85857296],\n",
       "       [0.85041922, 0.77488047, 0.82825744, 0.88967931, 0.95311797,\n",
       "        0.85642874, 0.86598748, 0.82535815, 0.83161753, 0.83624971,\n",
       "        0.75721943, 0.8273223 , 0.85601974, 0.85543334, 0.87710297],\n",
       "       [0.82887554, 0.90215498, 0.83872408, 0.83890653, 0.86268359,\n",
       "        0.8493017 , 0.85150796, 0.81566358, 0.7998504 , 0.89258301,\n",
       "        0.72926486, 0.84835136, 0.89393824, 0.85334158, 0.84627318],\n",
       "       [0.87487566, 0.7727716 , 0.8521083 , 0.85880601, 0.80600756,\n",
       "        0.85599852, 0.89452398, 0.89692593, 0.81739819, 0.9336338 ,\n",
       "        0.72433943, 0.90846413, 0.86277092, 0.91191745, 0.82965875],\n",
       "       [0.84211159, 0.91378087, 0.84274131, 0.89767748, 0.86977017,\n",
       "        0.89649916, 0.87971407, 0.85797232, 0.84930176, 0.88664258,\n",
       "        0.7693702 , 0.87653142, 0.92761946, 0.886401  , 0.88270128]])"
      ]
     },
     "execution_count": 13,
     "metadata": {},
     "output_type": "execute_result"
    }
   ],
   "source": [
    "matrix_sankey_2[0.8]"
   ]
  },
  {
   "cell_type": "code",
   "execution_count": null,
   "metadata": {},
   "outputs": [],
   "source": []
  }
 ],
 "metadata": {
  "kernelspec": {
   "display_name": "Python 3",
   "language": "python",
   "name": "python3"
  },
  "language_info": {
   "codemirror_mode": {
    "name": "ipython",
    "version": 3
   },
   "file_extension": ".py",
   "mimetype": "text/x-python",
   "name": "python",
   "nbconvert_exporter": "python",
   "pygments_lexer": "ipython3",
   "version": "3.7.1"
  }
 },
 "nbformat": 4,
 "nbformat_minor": 4
}
