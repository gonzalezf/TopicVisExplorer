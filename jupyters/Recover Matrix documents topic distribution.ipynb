{
 "cells": [
  {
   "cell_type": "code",
   "execution_count": 54,
   "metadata": {},
   "outputs": [],
   "source": [
    "import nltk; \n",
    "import time\n",
    "import os\n",
    "import re\n",
    "import numpy as np\n",
    "import pandas as pd\n",
    "from pprint import pprint\n",
    "from string import digits\n",
    "from string import punctuation\n",
    "import unidecode\n",
    "import gensim\n",
    "import gensim.corpora as corpora\n",
    "from gensim.utils import simple_preprocess\n",
    "from gensim.models import CoherenceModel\n",
    "import spacy\n",
    "import pyLDAvis\n",
    "import pyLDAvis.gensim  # don't skip this\n",
    "import matplotlib.pyplot as plt\n",
    "import pickle\n",
    "%matplotlib inline"
   ]
  },
  {
   "cell_type": "code",
   "execution_count": 55,
   "metadata": {},
   "outputs": [],
   "source": [
    "from gensim.models.wrappers.ldamallet import malletmodel2ldamodel"
   ]
  },
  {
   "cell_type": "code",
   "execution_count": 56,
   "metadata": {},
   "outputs": [],
   "source": [
    "LdaModel = gensim.models.ldamodel.LdaModel\n",
    "\n",
    "\n",
    "\n"
   ]
  },
  {
   "cell_type": "code",
   "execution_count": 57,
   "metadata": {},
   "outputs": [],
   "source": [
    "#load model\n",
    "ldamodel= LdaModel.load(\"../data/cambridge_analytica/regional_datasets/files_northamerica/english_northamerica_tweets_20190411.csv_gensim.model\")"
   ]
  },
  {
   "cell_type": "code",
   "execution_count": 58,
   "metadata": {},
   "outputs": [],
   "source": [
    "#corpus\n",
    "with open('../data/cambridge_analytica/regional_datasets/files_northamerica/english_northamerica_tweets_20190411.csv_corpus.pkl', 'rb') as f:\n",
    "    corpus = pickle.load(f)\n"
   ]
  },
  {
   "cell_type": "code",
   "execution_count": 59,
   "metadata": {},
   "outputs": [],
   "source": [
    "#load data\n",
    "file_name = 'english_northamerica_tweets_20190411.csv'\n",
    "#file_name = 'english_europe_tweets_20190411.csv'\n",
    "\n",
    "\n",
    "df  = pd.read_csv('../data/cambridge_analytica/regional_datasets/'+file_name)"
   ]
  },
  {
   "cell_type": "code",
   "execution_count": 60,
   "metadata": {},
   "outputs": [
    {
     "name": "stdout",
     "output_type": "stream",
     "text": [
      "0\n",
      "10000\n",
      "20000\n",
      "30000\n",
      "40000\n",
      "50000\n",
      "60000\n",
      "70000\n",
      "80000\n",
      "90000\n",
      "100000\n",
      "110000\n",
      "120000\n",
      "130000\n",
      "140000\n",
      "150000\n",
      "160000\n",
      "170000\n",
      "180000\n",
      "190000\n",
      "200000\n",
      "210000\n",
      "220000\n",
      "230000\n",
      "240000\n",
      "250000\n",
      "260000\n",
      "270000\n",
      "280000\n",
      "290000\n",
      "300000\n",
      "310000\n",
      "320000\n",
      "330000\n",
      "340000\n"
     ]
    }
   ],
   "source": [
    "matrix_documents_topic_contribution= pd.DataFrame()\n",
    "for i, row in enumerate(ldamodel[corpus]): #i = index_row, row = (topic_index, contribution)\n",
    "    matrix_documents_topic_contribution = matrix_documents_topic_contribution.append(pd.DataFrame(pd.DataFrame(row).T.iloc[1,:]).T, ignore_index=True)\n",
    "    if i%10000 == 0:\n",
    "        print(i)"
   ]
  },
  {
   "cell_type": "code",
   "execution_count": 61,
   "metadata": {},
   "outputs": [],
   "source": [
    "# Add original text to the end of the output\n",
    "contents = pd.Series(df['text'])\n",
    "matrix_documents_topic_contribution = pd.concat([matrix_documents_topic_contribution, contents], axis=1)"
   ]
  },
  {
   "cell_type": "code",
   "execution_count": 62,
   "metadata": {},
   "outputs": [],
   "source": [
    "# Add original text to the end of the output\n",
    "contents = pd.Series(df['full_text'])\n",
    "matrix_documents_topic_contribution = pd.concat([matrix_documents_topic_contribution, contents], axis=1)"
   ]
  },
  {
   "cell_type": "code",
   "execution_count": 63,
   "metadata": {},
   "outputs": [],
   "source": [
    "# Add original text to the end of the output\n",
    "contents = pd.Series(df['texto_completo'])\n",
    "matrix_documents_topic_contribution = pd.concat([matrix_documents_topic_contribution, contents], axis=1)"
   ]
  },
  {
   "cell_type": "code",
   "execution_count": 64,
   "metadata": {},
   "outputs": [],
   "source": [
    "matrix_documents_topic_contribution = matrix_documents_topic_contribution.reset_index()\n"
   ]
  },
  {
   "cell_type": "code",
   "execution_count": 65,
   "metadata": {},
   "outputs": [
    {
     "data": {
      "text/html": [
       "<div>\n",
       "<style scoped>\n",
       "    .dataframe tbody tr th:only-of-type {\n",
       "        vertical-align: middle;\n",
       "    }\n",
       "\n",
       "    .dataframe tbody tr th {\n",
       "        vertical-align: top;\n",
       "    }\n",
       "\n",
       "    .dataframe thead th {\n",
       "        text-align: right;\n",
       "    }\n",
       "</style>\n",
       "<table border=\"1\" class=\"dataframe\">\n",
       "  <thead>\n",
       "    <tr style=\"text-align: right;\">\n",
       "      <th></th>\n",
       "      <th>index</th>\n",
       "      <th>0</th>\n",
       "      <th>1</th>\n",
       "      <th>2</th>\n",
       "      <th>3</th>\n",
       "      <th>4</th>\n",
       "      <th>5</th>\n",
       "      <th>6</th>\n",
       "      <th>7</th>\n",
       "      <th>8</th>\n",
       "      <th>9</th>\n",
       "      <th>10</th>\n",
       "      <th>text</th>\n",
       "      <th>full_text</th>\n",
       "      <th>texto_completo</th>\n",
       "    </tr>\n",
       "  </thead>\n",
       "  <tbody>\n",
       "    <tr>\n",
       "      <th>0</th>\n",
       "      <td>0</td>\n",
       "      <td>0.079757</td>\n",
       "      <td>0.079745</td>\n",
       "      <td>0.079745</td>\n",
       "      <td>0.132669</td>\n",
       "      <td>0.097288</td>\n",
       "      <td>0.079757</td>\n",
       "      <td>0.079757</td>\n",
       "      <td>0.079745</td>\n",
       "      <td>0.097289</td>\n",
       "      <td>0.114503</td>\n",
       "      <td>0.079745</td>\n",
       "      <td>@SenTedCruz Hold Facebook accountable for abus...</td>\n",
       "      <td>NaN</td>\n",
       "      <td>&lt;usernameremoved&gt; Hold Facebook accountable fo...</td>\n",
       "    </tr>\n",
       "    <tr>\n",
       "      <th>1</th>\n",
       "      <td>1</td>\n",
       "      <td>0.082645</td>\n",
       "      <td>0.100826</td>\n",
       "      <td>0.082645</td>\n",
       "      <td>0.098908</td>\n",
       "      <td>0.082645</td>\n",
       "      <td>0.095298</td>\n",
       "      <td>0.088173</td>\n",
       "      <td>0.082645</td>\n",
       "      <td>0.102745</td>\n",
       "      <td>0.100826</td>\n",
       "      <td>0.082645</td>\n",
       "      <td>Both sides should just drop it. Trump won...el...</td>\n",
       "      <td>NaN</td>\n",
       "      <td>Both sides should just drop it. Trump won...el...</td>\n",
       "    </tr>\n",
       "    <tr>\n",
       "      <th>2</th>\n",
       "      <td>2</td>\n",
       "      <td>0.110938</td>\n",
       "      <td>0.093992</td>\n",
       "      <td>0.077042</td>\n",
       "      <td>0.087434</td>\n",
       "      <td>0.110940</td>\n",
       "      <td>0.077284</td>\n",
       "      <td>0.084232</td>\n",
       "      <td>0.093113</td>\n",
       "      <td>0.093991</td>\n",
       "      <td>0.077042</td>\n",
       "      <td>0.093993</td>\n",
       "      <td>$AAPL lobbing threes while they can. Wasnt it ...</td>\n",
       "      <td>$AAPL lobbing threes while they can. Wasnt it ...</td>\n",
       "      <td>$AAPL lobbing threes while they can. Wasnt it ...</td>\n",
       "    </tr>\n",
       "    <tr>\n",
       "      <th>3</th>\n",
       "      <td>3</td>\n",
       "      <td>0.085763</td>\n",
       "      <td>0.085763</td>\n",
       "      <td>0.142317</td>\n",
       "      <td>0.085763</td>\n",
       "      <td>0.085763</td>\n",
       "      <td>0.085763</td>\n",
       "      <td>0.085763</td>\n",
       "      <td>0.085763</td>\n",
       "      <td>0.085763</td>\n",
       "      <td>0.085813</td>\n",
       "      <td>0.085763</td>\n",
       "      <td>15 min #RSI Signals:\\n\\n$BTC - $SLR: 6.84\\n$BT...</td>\n",
       "      <td>15 min #RSI Signals:\\n\\n$BTC - $SLR: 6.84\\n$BT...</td>\n",
       "      <td>15 min #RSI Signals:\\n\\n$BTC - $SLR: 6.84\\n$BT...</td>\n",
       "    </tr>\n",
       "    <tr>\n",
       "      <th>4</th>\n",
       "      <td>4</td>\n",
       "      <td>0.079757</td>\n",
       "      <td>0.079745</td>\n",
       "      <td>0.079745</td>\n",
       "      <td>0.132669</td>\n",
       "      <td>0.097288</td>\n",
       "      <td>0.079757</td>\n",
       "      <td>0.079757</td>\n",
       "      <td>0.079745</td>\n",
       "      <td>0.097289</td>\n",
       "      <td>0.114503</td>\n",
       "      <td>0.079745</td>\n",
       "      <td>@SenJohnThune Hold Facebook accountable for ab...</td>\n",
       "      <td>NaN</td>\n",
       "      <td>&lt;usernameremoved&gt; Hold Facebook accountable fo...</td>\n",
       "    </tr>\n",
       "  </tbody>\n",
       "</table>\n",
       "</div>"
      ],
      "text/plain": [
       "   index         0         1         2         3         4         5  \\\n",
       "0      0  0.079757  0.079745  0.079745  0.132669  0.097288  0.079757   \n",
       "1      1  0.082645  0.100826  0.082645  0.098908  0.082645  0.095298   \n",
       "2      2  0.110938  0.093992  0.077042  0.087434  0.110940  0.077284   \n",
       "3      3  0.085763  0.085763  0.142317  0.085763  0.085763  0.085763   \n",
       "4      4  0.079757  0.079745  0.079745  0.132669  0.097288  0.079757   \n",
       "\n",
       "          6         7         8         9        10  \\\n",
       "0  0.079757  0.079745  0.097289  0.114503  0.079745   \n",
       "1  0.088173  0.082645  0.102745  0.100826  0.082645   \n",
       "2  0.084232  0.093113  0.093991  0.077042  0.093993   \n",
       "3  0.085763  0.085763  0.085763  0.085813  0.085763   \n",
       "4  0.079757  0.079745  0.097289  0.114503  0.079745   \n",
       "\n",
       "                                                text  \\\n",
       "0  @SenTedCruz Hold Facebook accountable for abus...   \n",
       "1  Both sides should just drop it. Trump won...el...   \n",
       "2  $AAPL lobbing threes while they can. Wasnt it ...   \n",
       "3  15 min #RSI Signals:\\n\\n$BTC - $SLR: 6.84\\n$BT...   \n",
       "4  @SenJohnThune Hold Facebook accountable for ab...   \n",
       "\n",
       "                                           full_text  \\\n",
       "0                                                NaN   \n",
       "1                                                NaN   \n",
       "2  $AAPL lobbing threes while they can. Wasnt it ...   \n",
       "3  15 min #RSI Signals:\\n\\n$BTC - $SLR: 6.84\\n$BT...   \n",
       "4                                                NaN   \n",
       "\n",
       "                                      texto_completo  \n",
       "0  <usernameremoved> Hold Facebook accountable fo...  \n",
       "1  Both sides should just drop it. Trump won...el...  \n",
       "2  $AAPL lobbing threes while they can. Wasnt it ...  \n",
       "3  15 min #RSI Signals:\\n\\n$BTC - $SLR: 6.84\\n$BT...  \n",
       "4  <usernameremoved> Hold Facebook accountable fo...  "
      ]
     },
     "execution_count": 65,
     "metadata": {},
     "output_type": "execute_result"
    }
   ],
   "source": [
    "matrix_documents_topic_contribution.head()"
   ]
  },
  {
   "cell_type": "code",
   "execution_count": 66,
   "metadata": {},
   "outputs": [],
   "source": [
    "matrix_documents_topic_contribution.to_csv(file_name+'_matrix_document_topic_distribution.csv')"
   ]
  },
  {
   "cell_type": "code",
   "execution_count": null,
   "metadata": {},
   "outputs": [],
   "source": []
  }
 ],
 "metadata": {
  "kernelspec": {
   "display_name": "Python 3",
   "language": "python",
   "name": "python3"
  },
  "language_info": {
   "codemirror_mode": {
    "name": "ipython",
    "version": 3
   },
   "file_extension": ".py",
   "mimetype": "text/x-python",
   "name": "python",
   "nbconvert_exporter": "python",
   "pygments_lexer": "ipython3",
   "version": "3.7.1"
  }
 },
 "nbformat": 4,
 "nbformat_minor": 4
}
