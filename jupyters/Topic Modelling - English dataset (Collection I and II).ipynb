{
 "cells": [
  {
   "cell_type": "code",
   "execution_count": 1,
   "metadata": {},
   "outputs": [],
   "source": [
    "import nltk; \n",
    "import time\n",
    "import os"
   ]
  },
  {
   "cell_type": "code",
   "execution_count": 2,
   "metadata": {},
   "outputs": [],
   "source": [
    "import re\n",
    "import numpy as np\n",
    "import pandas as pd\n",
    "from pprint import pprint\n",
    "from string import digits\n",
    "from string import punctuation\n",
    "import unidecode\n"
   ]
  },
  {
   "cell_type": "code",
   "execution_count": 3,
   "metadata": {},
   "outputs": [],
   "source": [
    "import gensim\n",
    "import gensim.corpora as corpora\n",
    "from gensim.utils import simple_preprocess\n",
    "from gensim.models import CoherenceModel"
   ]
  },
  {
   "cell_type": "code",
   "execution_count": 4,
   "metadata": {},
   "outputs": [],
   "source": [
    "import spacy\n"
   ]
  },
  {
   "cell_type": "code",
   "execution_count": 5,
   "metadata": {},
   "outputs": [],
   "source": [
    "import pyLDAvis\n",
    "import pyLDAvis.gensim  # don't skip this\n",
    "import matplotlib.pyplot as plt\n",
    "%matplotlib inline"
   ]
  },
  {
   "cell_type": "code",
   "execution_count": 6,
   "metadata": {},
   "outputs": [],
   "source": [
    "# NLTK Stop words\n",
    "from nltk.corpus import stopwords\n",
    "stop_words = stopwords.words('english')\n",
    "stop_words.extend(['linkremoved','usernameremoved','<usernameremoved>','<linkremoved>','usernameremoved_usernameremoved','linkremoved_linkremoved'])\n",
    "##stop_words.extend(['from', 'subject', 're', 'edu', 'use'])"
   ]
  },
  {
   "cell_type": "markdown",
   "metadata": {},
   "source": [
    "# Import data"
   ]
  },
  {
   "cell_type": "code",
   "execution_count": 7,
   "metadata": {},
   "outputs": [],
   "source": [
    "file_name = 'english_collection_2.pkl'\n",
    "\n"
   ]
  },
  {
   "cell_type": "code",
   "execution_count": 8,
   "metadata": {},
   "outputs": [],
   "source": [
    "df  = pd.read_pickle('../data/cambridge_analytica/'+file_name)"
   ]
  },
  {
   "cell_type": "code",
   "execution_count": 9,
   "metadata": {},
   "outputs": [
    {
     "data": {
      "text/plain": [
       "491757"
      ]
     },
     "execution_count": 9,
     "metadata": {},
     "output_type": "execute_result"
    }
   ],
   "source": [
    "len(df)"
   ]
  },
  {
   "cell_type": "code",
   "execution_count": null,
   "metadata": {},
   "outputs": [],
   "source": []
  },
  {
   "cell_type": "code",
   "execution_count": 10,
   "metadata": {},
   "outputs": [],
   "source": [
    "pd.set_option('display.max_colwidth', -1)"
   ]
  },
  {
   "cell_type": "code",
   "execution_count": 11,
   "metadata": {},
   "outputs": [
    {
     "data": {
      "text/html": [
       "<div>\n",
       "<style scoped>\n",
       "    .dataframe tbody tr th:only-of-type {\n",
       "        vertical-align: middle;\n",
       "    }\n",
       "\n",
       "    .dataframe tbody tr th {\n",
       "        vertical-align: top;\n",
       "    }\n",
       "\n",
       "    .dataframe thead th {\n",
       "        text-align: right;\n",
       "    }\n",
       "</style>\n",
       "<table border=\"1\" class=\"dataframe\">\n",
       "  <thead>\n",
       "    <tr style=\"text-align: right;\">\n",
       "      <th></th>\n",
       "      <th>id</th>\n",
       "      <th>created_at</th>\n",
       "      <th>user.screen_name</th>\n",
       "      <th>user_location</th>\n",
       "      <th>coordinates</th>\n",
       "      <th>text</th>\n",
       "      <th>full_text</th>\n",
       "      <th>retweet_created_at</th>\n",
       "      <th>retweet_full_text</th>\n",
       "      <th>texto_completo</th>\n",
       "    </tr>\n",
       "    <tr>\n",
       "      <th>created_at2</th>\n",
       "      <th></th>\n",
       "      <th></th>\n",
       "      <th></th>\n",
       "      <th></th>\n",
       "      <th></th>\n",
       "      <th></th>\n",
       "      <th></th>\n",
       "      <th></th>\n",
       "      <th></th>\n",
       "      <th></th>\n",
       "    </tr>\n",
       "  </thead>\n",
       "  <tbody>\n",
       "    <tr>\n",
       "      <td>2018-04-22</td>\n",
       "      <td>id-988078771453480961</td>\n",
       "      <td>Sun Apr 22 15:35:11 +0000 2018</td>\n",
       "      <td>badwolf303</td>\n",
       "      <td>Behind Enemy lines</td>\n",
       "      <td>NaN</td>\n",
       "      <td>@realDonaldTrump  How much of that is taxpayer $ &amp;amp;\\nhow much in #rubles ? https://t.co/agK8DXeBl0</td>\n",
       "      <td>&lt;usernameremoved&gt;  How much of that is taxpayer $ &amp;amp;\\nhow much in #rubles ? &lt;linkremoved&gt;</td>\n",
       "      <td>NaN</td>\n",
       "      <td>NaN</td>\n",
       "      <td>@realDonaldTrump  How much of that is taxpayer $ &amp;amp;\\nhow much in #rubles ? https://t.co/agK8DXeBl0</td>\n",
       "    </tr>\n",
       "    <tr>\n",
       "      <td>2018-04-22</td>\n",
       "      <td>id-988079016233095169</td>\n",
       "      <td>Sun Apr 22 15:36:09 +0000 2018</td>\n",
       "      <td>imperienytt</td>\n",
       "      <td>NaN</td>\n",
       "      <td>NaN</td>\n",
       "      <td>@I_Kond @benimmo People who use phrases like the Kremlin Narrative are usually themselves paid shills. https://t.co/mlJMcbPmod</td>\n",
       "      <td>&lt;usernameremoved&gt; &lt;usernameremoved&gt; People who use phrases like the Kremlin Narrative are usually themselves paid shills. &lt;linkremoved&gt;</td>\n",
       "      <td>NaN</td>\n",
       "      <td>NaN</td>\n",
       "      <td>@I_Kond @benimmo People who use phrases like the Kremlin Narrative are usually themselves paid shills. https://t.co/mlJMcbPmod</td>\n",
       "    </tr>\n",
       "    <tr>\n",
       "      <td>2018-04-22</td>\n",
       "      <td>id-988079046591332359</td>\n",
       "      <td>Sun Apr 22 15:36:16 +0000 2018</td>\n",
       "      <td>MegnHarmony</td>\n",
       "      <td>Cascade Mountains, Washington</td>\n",
       "      <td>NaN</td>\n",
       "      <td>@scolderscholar @Dbo2353 @EdKrassen Well how interesting. Doing some freelance  research for Cambridge Analytica or something?</td>\n",
       "      <td>&lt;usernameremoved&gt; &lt;usernameremoved&gt; &lt;usernameremoved&gt; Well how interesting. Doing some freelance  research for Cambridge Analytica or something?</td>\n",
       "      <td>NaN</td>\n",
       "      <td>NaN</td>\n",
       "      <td>@scolderscholar @Dbo2353 @EdKrassen Well how interesting. Doing some freelance  research for Cambridge Analytica or something?</td>\n",
       "    </tr>\n",
       "    <tr>\n",
       "      <td>2018-04-22</td>\n",
       "      <td>id-988079064740122624</td>\n",
       "      <td>Sun Apr 22 15:36:21 +0000 2018</td>\n",
       "      <td>damu_mainali</td>\n",
       "      <td>Nepal</td>\n",
       "      <td>NaN</td>\n",
       "      <td>Is anyone want to  make a whatapp group  for sharing travel experience? ? \\nMine whatapp is +9779808262524 https://t.co/vnBmJ9LUd0</td>\n",
       "      <td>Is anyone want to  make a whatapp group  for sharing travel experience? ? \\nMine whatapp is +9779808262524\\n#traveltheworld #WhatsApp #Facebook #group #tourism #TravelSkills #travelblog #travellers #Tourist #JoinUS #TwitterSmarter #bloggerswanted #email</td>\n",
       "      <td>NaN</td>\n",
       "      <td>NaN</td>\n",
       "      <td>Is anyone want to  make a whatapp group  for sharing travel experience? ? \\nMine whatapp is +9779808262524\\n#traveltheworld #WhatsApp #Facebook #group #tourism #TravelSkills #travelblog #travellers #Tourist #JoinUS #TwitterSmarter #bloggerswanted #email</td>\n",
       "    </tr>\n",
       "    <tr>\n",
       "      <td>2018-04-22</td>\n",
       "      <td>id-988078964894728192</td>\n",
       "      <td>Sun Apr 22 15:35:57 +0000 2018</td>\n",
       "      <td>wickedsmartface</td>\n",
       "      <td>United States</td>\n",
       "      <td>NaN</td>\n",
       "      <td>@brooklynmarie Yeah, because it's more fun to have your data sold to third parties. Right on, Zuckerberg.</td>\n",
       "      <td>&lt;usernameremoved&gt; Yeah, because it's more fun to have your data sold to third parties. Right on, Zuckerberg.</td>\n",
       "      <td>NaN</td>\n",
       "      <td>NaN</td>\n",
       "      <td>@brooklynmarie Yeah, because it's more fun to have your data sold to third parties. Right on, Zuckerberg.</td>\n",
       "    </tr>\n",
       "  </tbody>\n",
       "</table>\n",
       "</div>"
      ],
      "text/plain": [
       "                                id                      created_at  \\\n",
       "created_at2                                                          \n",
       "2018-04-22   id-988078771453480961  Sun Apr 22 15:35:11 +0000 2018   \n",
       "2018-04-22   id-988079016233095169  Sun Apr 22 15:36:09 +0000 2018   \n",
       "2018-04-22   id-988079046591332359  Sun Apr 22 15:36:16 +0000 2018   \n",
       "2018-04-22   id-988079064740122624  Sun Apr 22 15:36:21 +0000 2018   \n",
       "2018-04-22   id-988078964894728192  Sun Apr 22 15:35:57 +0000 2018   \n",
       "\n",
       "            user.screen_name                   user_location coordinates  \\\n",
       "created_at2                                                                \n",
       "2018-04-22   badwolf303       Behind Enemy lines              NaN          \n",
       "2018-04-22   imperienytt      NaN                             NaN          \n",
       "2018-04-22   MegnHarmony      Cascade Mountains, Washington   NaN          \n",
       "2018-04-22   damu_mainali     Nepal                           NaN          \n",
       "2018-04-22   wickedsmartface  United States                   NaN          \n",
       "\n",
       "                                                                                                                                           text  \\\n",
       "created_at2                                                                                                                                       \n",
       "2018-04-22   @realDonaldTrump  How much of that is taxpayer $ &amp;\\nhow much in #rubles ? https://t.co/agK8DXeBl0                                \n",
       "2018-04-22   @I_Kond @benimmo People who use phrases like the Kremlin Narrative are usually themselves paid shills. https://t.co/mlJMcbPmod       \n",
       "2018-04-22   @scolderscholar @Dbo2353 @EdKrassen Well how interesting. Doing some freelance  research for Cambridge Analytica or something?       \n",
       "2018-04-22   Is anyone want to  make a whatapp group  for sharing travel experience? ? \\nMine whatapp is +9779808262524 https://t.co/vnBmJ9LUd0   \n",
       "2018-04-22   @brooklynmarie Yeah, because it's more fun to have your data sold to third parties. Right on, Zuckerberg.                            \n",
       "\n",
       "                                                                                                                                                                                                                                                                 full_text  \\\n",
       "created_at2                                                                                                                                                                                                                                                                  \n",
       "2018-04-22   <usernameremoved>  How much of that is taxpayer $ &amp;\\nhow much in #rubles ? <linkremoved>                                                                                                                                                                    \n",
       "2018-04-22   <usernameremoved> <usernameremoved> People who use phrases like the Kremlin Narrative are usually themselves paid shills. <linkremoved>                                                                                                                         \n",
       "2018-04-22   <usernameremoved> <usernameremoved> <usernameremoved> Well how interesting. Doing some freelance  research for Cambridge Analytica or something?                                                                                                                \n",
       "2018-04-22   Is anyone want to  make a whatapp group  for sharing travel experience? ? \\nMine whatapp is +9779808262524\\n#traveltheworld #WhatsApp #Facebook #group #tourism #TravelSkills #travelblog #travellers #Tourist #JoinUS #TwitterSmarter #bloggerswanted #email   \n",
       "2018-04-22   <usernameremoved> Yeah, because it's more fun to have your data sold to third parties. Right on, Zuckerberg.                                                                                                                                                    \n",
       "\n",
       "            retweet_created_at retweet_full_text  \\\n",
       "created_at2                                        \n",
       "2018-04-22   NaN                NaN                \n",
       "2018-04-22   NaN                NaN                \n",
       "2018-04-22   NaN                NaN                \n",
       "2018-04-22   NaN                NaN                \n",
       "2018-04-22   NaN                NaN                \n",
       "\n",
       "                                                                                                                                                                                                                                                            texto_completo  \n",
       "created_at2                                                                                                                                                                                                                                                                 \n",
       "2018-04-22   @realDonaldTrump  How much of that is taxpayer $ &amp;\\nhow much in #rubles ? https://t.co/agK8DXeBl0                                                                                                                                                          \n",
       "2018-04-22   @I_Kond @benimmo People who use phrases like the Kremlin Narrative are usually themselves paid shills. https://t.co/mlJMcbPmod                                                                                                                                 \n",
       "2018-04-22   @scolderscholar @Dbo2353 @EdKrassen Well how interesting. Doing some freelance  research for Cambridge Analytica or something?                                                                                                                                 \n",
       "2018-04-22   Is anyone want to  make a whatapp group  for sharing travel experience? ? \\nMine whatapp is +9779808262524\\n#traveltheworld #WhatsApp #Facebook #group #tourism #TravelSkills #travelblog #travellers #Tourist #JoinUS #TwitterSmarter #bloggerswanted #email  \n",
       "2018-04-22   @brooklynmarie Yeah, because it's more fun to have your data sold to third parties. Right on, Zuckerberg.                                                                                                                                                      "
      ]
     },
     "execution_count": 11,
     "metadata": {},
     "output_type": "execute_result"
    }
   ],
   "source": [
    "df.head()"
   ]
  },
  {
   "cell_type": "code",
   "execution_count": 12,
   "metadata": {},
   "outputs": [],
   "source": [
    "df['text'] = df['texto_completo']"
   ]
  },
  {
   "cell_type": "markdown",
   "metadata": {},
   "source": [
    "# Remover links"
   ]
  },
  {
   "cell_type": "code",
   "execution_count": 13,
   "metadata": {},
   "outputs": [],
   "source": [
    "df['text'].replace({\"http\\\\S+\": '<linkremoved>'}, inplace=True, regex=True)"
   ]
  },
  {
   "cell_type": "code",
   "execution_count": 14,
   "metadata": {},
   "outputs": [
    {
     "name": "stdout",
     "output_type": "stream",
     "text": [
      "@realDonaldTrump  How much of that is taxpayer $ &amp;\n",
      "how much in #rubles ? <linkremoved>\n",
      "@I_Kond @benimmo People who use phrases like the Kremlin Narrative are usually themselves paid shills. <linkremoved>\n",
      "@scolderscholar @Dbo2353 @EdKrassen Well how interesting. Doing some freelance  research for Cambridge Analytica or something?\n",
      "Is anyone want to  make a whatapp group  for sharing travel experience? ? \n",
      "Mine whatapp is +9779808262524\n",
      "#traveltheworld #WhatsApp #Facebook #group #tourism #TravelSkills #travelblog #travellers #Tourist #JoinUS #TwitterSmarter #bloggerswanted #email\n",
      "@brooklynmarie Yeah, because it's more fun to have your data sold to third parties. Right on, Zuckerberg.\n"
     ]
    }
   ],
   "source": [
    "for texto in df['text'][0:5]:\n",
    "    print(texto)\n"
   ]
  },
  {
   "cell_type": "markdown",
   "metadata": {},
   "source": [
    "# remove usernames"
   ]
  },
  {
   "cell_type": "code",
   "execution_count": 15,
   "metadata": {},
   "outputs": [],
   "source": [
    "df['text'].replace({\"@[^\\\\s]+\": '<usernameremoved>'}, inplace=True, regex=True)"
   ]
  },
  {
   "cell_type": "markdown",
   "metadata": {},
   "source": [
    "# remove duplicates - Quizas esto debieramos no hacerlo. Deben haber bots que publican lo mismo"
   ]
  },
  {
   "cell_type": "code",
   "execution_count": 16,
   "metadata": {},
   "outputs": [],
   "source": [
    "df.drop_duplicates(['text'],keep='first', inplace=True)"
   ]
  },
  {
   "cell_type": "code",
   "execution_count": 17,
   "metadata": {},
   "outputs": [
    {
     "data": {
      "text/plain": [
       "491757"
      ]
     },
     "execution_count": 17,
     "metadata": {},
     "output_type": "execute_result"
    }
   ],
   "source": [
    "len(df)"
   ]
  },
  {
   "cell_type": "code",
   "execution_count": 18,
   "metadata": {},
   "outputs": [
    {
     "data": {
      "text/plain": [
       "230794"
      ]
     },
     "execution_count": 18,
     "metadata": {},
     "output_type": "execute_result"
    }
   ],
   "source": [
    "# numero de usuarios\n",
    "tweets_by_user_data = df.groupby('user.screen_name').agg('size').sort_values(ascending=False).reset_index()\n",
    "len(tweets_by_user_data)"
   ]
  },
  {
   "cell_type": "markdown",
   "metadata": {},
   "source": [
    "# remove digits, puntuaactions, symbols"
   ]
  },
  {
   "cell_type": "code",
   "execution_count": 19,
   "metadata": {},
   "outputs": [
    {
     "data": {
      "text/plain": [
       "'!\"#$%&\\'()*+,-./:;<=>?@[\\\\]^_`{|}~'"
      ]
     },
     "execution_count": 19,
     "metadata": {},
     "output_type": "execute_result"
    }
   ],
   "source": [
    "punctuation"
   ]
  },
  {
   "cell_type": "code",
   "execution_count": 20,
   "metadata": {},
   "outputs": [],
   "source": [
    "punctuation+='¡¿'"
   ]
  },
  {
   "cell_type": "code",
   "execution_count": 21,
   "metadata": {},
   "outputs": [
    {
     "data": {
      "text/plain": [
       "'!\"#$%&\\'()*+,-./:;<=>?@[\\\\]^_`{|}~¡¿'"
      ]
     },
     "execution_count": 21,
     "metadata": {},
     "output_type": "execute_result"
    }
   ],
   "source": [
    "punctuation"
   ]
  },
  {
   "cell_type": "code",
   "execution_count": 22,
   "metadata": {},
   "outputs": [],
   "source": [
    "#Remove digits and puntuaction\n",
    "remove_digits = str.maketrans(digits, ' '*len(digits))#remove_digits = str.maketrans('', '', digits)\n",
    "remove_punctuation = str.maketrans(punctuation, ' '*len(punctuation))#remove_punctuation = str.maketrans('', '', punctuation)\n",
    "remove_hashtags_caracter = str.maketrans('#', ' '*len('#'))\n",
    "#las palabras de los hashtag se mantiene, pero no el simbolo. "
   ]
  },
  {
   "cell_type": "code",
   "execution_count": 23,
   "metadata": {},
   "outputs": [],
   "source": [
    "import unidecode\n",
    "\n",
    "data = []\n",
    "for tweet in df['text']:\n",
    "    tweet = tweet.translate(remove_digits)\n",
    "    #tweet = tweet.lower() it wasn't a good idea,, we lost a lot of\n",
    "    tweet = tweet.translate(remove_punctuation)\n",
    "    tweet = tweet.translate(remove_hashtags_caracter)\n",
    "    tweet = tweet.lower()\n",
    "    tweet = unidecode.unidecode(tweet)\n",
    "    #tweet = tweet.strip().split()\n",
    "    #filtered_words = [word for word in tweet if word not in stopWords]\n",
    "    #corpus[id_tweet]= filtered_words\n",
    "    #id_tweet+=1\n",
    "    data.append(tweet)\n"
   ]
  },
  {
   "cell_type": "code",
   "execution_count": 24,
   "metadata": {},
   "outputs": [
    {
     "data": {
      "text/plain": [
       "[' usernameremoved   how much of that is taxpayer    amp \\nhow much in  rubles    linkremoved ',\n",
       " ' usernameremoved   usernameremoved  people who use phrases like the kremlin narrative are usually themselves paid shills   linkremoved ',\n",
       " ' usernameremoved   usernameremoved   usernameremoved  well how interesting  doing some freelance  research for cambridge analytica or something ',\n",
       " 'is anyone want to  make a whatapp group  for sharing travel experience    \\nmine whatapp is               \\n traveltheworld  whatsapp  facebook  group  tourism  travelskills  travelblog  travellers  tourist  joinus  twittersmarter  bloggerswanted  email',\n",
       " ' usernameremoved  yeah  because it s more fun to have your data sold to third parties  right on  zuckerberg ']"
      ]
     },
     "execution_count": 24,
     "metadata": {},
     "output_type": "execute_result"
    }
   ],
   "source": [
    "data[0:5]"
   ]
  },
  {
   "cell_type": "code",
   "execution_count": 25,
   "metadata": {},
   "outputs": [
    {
     "data": {
      "text/plain": [
       "491757"
      ]
     },
     "execution_count": 25,
     "metadata": {},
     "output_type": "execute_result"
    }
   ],
   "source": [
    "len(data)"
   ]
  },
  {
   "cell_type": "markdown",
   "metadata": {},
   "source": [
    "# Twitter tokenizer"
   ]
  },
  {
   "cell_type": "code",
   "execution_count": 26,
   "metadata": {},
   "outputs": [],
   "source": [
    "from nltk.tokenize import TweetTokenizer"
   ]
  },
  {
   "cell_type": "code",
   "execution_count": 27,
   "metadata": {},
   "outputs": [],
   "source": [
    "tknzr = TweetTokenizer()\n",
    "def sent_to_words(sentences):\n",
    "    for sentence in sentences:\n",
    "        yield(tknzr.tokenize(sentence))\n"
   ]
  },
  {
   "cell_type": "code",
   "execution_count": 28,
   "metadata": {},
   "outputs": [],
   "source": [
    "data_words = list(sent_to_words(data))\n"
   ]
  },
  {
   "cell_type": "markdown",
   "metadata": {},
   "source": [
    "# Create bigram and trigram models"
   ]
  },
  {
   "cell_type": "code",
   "execution_count": 29,
   "metadata": {},
   "outputs": [
    {
     "name": "stdout",
     "output_type": "stream",
     "text": [
      "['usernameremoved_usernameremoved', 'people', 'who', 'use', 'phrases', 'like', 'the', 'kremlin', 'narrative', 'are', 'usually', 'themselves', 'paid', 'shills', 'linkremoved']\n"
     ]
    }
   ],
   "source": [
    "# Build the bigram and trigram models\n",
    "#quizas el min count es muy bajo\n",
    "#documentaicon de bigramas \n",
    "#https://www.machinelearningplus.com/nlp/topic-modeling-gensim-python/#3importpackages\n",
    "min_count = int(len(df)*0.02)\n",
    "bigram = gensim.models.Phrases(data_words, min_count=min_count, threshold=1) # higher threshold fewer phrases.\n",
    "trigram = gensim.models.Phrases(bigram[data_words], min_count =min_count, threshold=1)  \n",
    "\n",
    "# Faster way to get a sentence clubbed as a trigram/bigram\n",
    "bigram_mod = gensim.models.phrases.Phraser(bigram)\n",
    "trigram_mod = gensim.models.phrases.Phraser(trigram)\n",
    "\n",
    "# See trigram example\n",
    "print(trigram_mod[bigram_mod[data_words[1]]])"
   ]
  },
  {
   "cell_type": "code",
   "execution_count": 30,
   "metadata": {},
   "outputs": [
    {
     "name": "stdout",
     "output_type": "stream",
     "text": [
      "['usernameremoved', 'how', 'much', 'of', 'that', 'is', 'taxpayer', 'amp', 'how', 'much', 'in', 'rubles', 'linkremoved']\n",
      "['usernameremoved_usernameremoved', 'people', 'who', 'use', 'phrases', 'like', 'the', 'kremlin', 'narrative', 'are', 'usually', 'themselves', 'paid', 'shills', 'linkremoved']\n",
      "['usernameremoved_usernameremoved', 'usernameremoved', 'well', 'how', 'interesting', 'doing', 'some', 'freelance', 'research', 'for', 'cambridge_analytica', 'or', 'something']\n",
      "['is', 'anyone', 'want', 'to', 'make', 'a', 'whatapp', 'group', 'for', 'sharing', 'travel', 'experience', 'mine', 'whatapp', 'is', 'traveltheworld', 'whatsapp', 'facebook', 'group', 'tourism', 'travelskills', 'travelblog', 'travellers', 'tourist', 'joinus', 'twittersmarter', 'bloggerswanted', 'email']\n",
      "['usernameremoved', 'yeah', 'because', 'it_s', 'more', 'fun', 'to', 'have', 'your', 'data', 'sold', 'to', 'third', 'parties', 'right', 'on', 'zuckerberg']\n"
     ]
    }
   ],
   "source": [
    "# See trigram example\n",
    "#print(trigram_mod[bigram_mod[data_words[1]]])\n",
    "for i in range(0,5):\n",
    "    print(trigram_mod[bigram_mod[data_words[i]]])"
   ]
  },
  {
   "cell_type": "markdown",
   "metadata": {},
   "source": [
    "# Remove stopwords, make bigrams and lemmatize"
   ]
  },
  {
   "cell_type": "code",
   "execution_count": 31,
   "metadata": {},
   "outputs": [],
   "source": [
    "def remove_stopwords(texts):\n",
    "    return [[word for word in simple_preprocess(str(doc)) if word not in stop_words] for doc in texts]\n"
   ]
  },
  {
   "cell_type": "code",
   "execution_count": 32,
   "metadata": {},
   "outputs": [],
   "source": [
    "def make_bigrams(texts):\n",
    "    return [bigram_mod[doc] for doc in texts]\n",
    "\n",
    "def make_trigrams(texts):\n",
    "    return [trigram_mod[bigram_mod[doc]] for doc in texts]\n",
    "\n",
    "def lemmatization(texts, allowed_postags=['NOUN', 'ADJ', 'VERB', 'ADV']):\n",
    "    \"\"\"https://spacy.io/api/annotation\"\"\"\n",
    "    texts_out = []\n",
    "    for sent in texts:\n",
    "        doc = nlp(\" \".join(sent)) \n",
    "        texts_out.append([token.lemma_ for token in doc if token.pos_ in allowed_postags])\n",
    "    return texts_out"
   ]
  },
  {
   "cell_type": "code",
   "execution_count": 33,
   "metadata": {},
   "outputs": [],
   "source": [
    "# Remove Stop Words\n",
    "data_words_nostops = remove_stopwords(data_words)\n"
   ]
  },
  {
   "cell_type": "code",
   "execution_count": 34,
   "metadata": {},
   "outputs": [
    {
     "data": {
      "text/plain": [
       "['much', 'taxpayer', 'amp', 'much', 'rubles']"
      ]
     },
     "execution_count": 34,
     "metadata": {},
     "output_type": "execute_result"
    }
   ],
   "source": [
    "data_words_nostops[0]"
   ]
  },
  {
   "cell_type": "code",
   "execution_count": 35,
   "metadata": {},
   "outputs": [
    {
     "name": "stdout",
     "output_type": "stream",
     "text": [
      "Pretty printing has been turned OFF\n"
     ]
    },
    {
     "data": {
      "text/plain": [
       "[['much', 'taxpayer', 'amp', 'much', 'rubles'], ['people', 'use', 'phrases', 'like', 'kremlin', 'narrative', 'usually', 'paid', 'shills'], ['well', 'interesting', 'freelance', 'research', 'cambridge', 'analytica', 'something'], ['anyone', 'want', 'make', 'whatapp', 'group', 'sharing', 'travel', 'experience', 'mine', 'whatapp', 'traveltheworld', 'whatsapp', 'facebook', 'group', 'tourism', 'travelskills', 'travelblog', 'travellers', 'tourist', 'joinus', 'twittersmarter', 'bloggerswanted', 'email'], ['yeah', 'fun', 'data', 'sold', 'third', 'parties', 'right', 'zuckerberg'], ['google', 'far', 'worse', 'enabler', 'sketchy', 'data', 'use', 'ads', 'targeting', 'facebook', 'ever', 'glad', 'someone', 'like', 'knows', 'world', 'actually', 'works', 'reporting', 'short', 'version', 'google', 'cuddly', 'company', 'might', 'think'], ['kick', 'abusive', 'people', 'putin', 'trolls', 'bots', 'social', 'media', 'reporting', 'gdpr', 'brexit', 'kremlingate', 'fakenews'], ['fuuuuck', 'im', 'creeped', 'fucking', 'mark', 'zuckerberg', 'lol'], ['zarif', 'wants', 'bait', 'djt', 'scrapping', 'nuclear', 'accord', 'unfortunately', 'djt', 'ill', 'informed', 'amp', 'immature', 'enough', 'fall', 'sad', 'know', 'cambridge', 'analytica', 'tactics', 'work', 'djt', 'flattery', 'name', 'calling', 'amp', 'insults', 'among', 'tools', 'amp', 'triggers', 'rest', 'junk', 'talk'], ['good', 'analysis', 'companies', 'earn', 'keep', 'products', 'vs', 'survive', 'thanks', 'advertising', 'facebook', 'apple']]"
      ]
     },
     "execution_count": 35,
     "metadata": {},
     "output_type": "execute_result"
    }
   ],
   "source": [
    "%pprint\n",
    "data_words_nostops[0:10]"
   ]
  },
  {
   "cell_type": "code",
   "execution_count": 36,
   "metadata": {},
   "outputs": [],
   "source": [
    "# Form Bigrams\n",
    "data_words_bigrams = make_bigrams(data_words_nostops)\n",
    "\n"
   ]
  },
  {
   "cell_type": "code",
   "execution_count": 37,
   "metadata": {},
   "outputs": [
    {
     "name": "stdout",
     "output_type": "stream",
     "text": [
      "Requirement already satisfied: en_core_web_sm==2.2.5 from https://github.com/explosion/spacy-models/releases/download/en_core_web_sm-2.2.5/en_core_web_sm-2.2.5.tar.gz#egg=en_core_web_sm==2.2.5 in c:\\programdata\\anaconda3\\lib\\site-packages (2.2.5)\n",
      "Requirement already satisfied: spacy>=2.2.2 in c:\\programdata\\anaconda3\\lib\\site-packages (from en_core_web_sm==2.2.5) (2.2.3)\n",
      "Requirement already satisfied: murmurhash<1.1.0,>=0.28.0 in c:\\programdata\\anaconda3\\lib\\site-packages (from spacy>=2.2.2->en_core_web_sm==2.2.5) (1.0.2)\n",
      "Requirement already satisfied: requests<3.0.0,>=2.13.0 in c:\\users\\gonza\\appdata\\roaming\\python\\python37\\site-packages (from spacy>=2.2.2->en_core_web_sm==2.2.5) (2.22.0)\n",
      "Requirement already satisfied: catalogue<1.1.0,>=0.0.7 in c:\\programdata\\anaconda3\\lib\\site-packages (from spacy>=2.2.2->en_core_web_sm==2.2.5) (1.0.0)\n",
      "Requirement already satisfied: srsly<1.1.0,>=0.1.0 in c:\\programdata\\anaconda3\\lib\\site-packages (from spacy>=2.2.2->en_core_web_sm==2.2.5) (1.0.1)\n",
      "Requirement already satisfied: setuptools in c:\\users\\gonza\\appdata\\roaming\\python\\python37\\site-packages (from spacy>=2.2.2->en_core_web_sm==2.2.5) (45.2.0)\n",
      "Requirement already satisfied: thinc<7.4.0,>=7.3.0 in c:\\programdata\\anaconda3\\lib\\site-packages (from spacy>=2.2.2->en_core_web_sm==2.2.5) (7.3.1)\n",
      "Requirement already satisfied: cymem<2.1.0,>=2.0.2 in c:\\programdata\\anaconda3\\lib\\site-packages (from spacy>=2.2.2->en_core_web_sm==2.2.5) (2.0.3)\n",
      "Requirement already satisfied: blis<0.5.0,>=0.4.0 in c:\\programdata\\anaconda3\\lib\\site-packages (from spacy>=2.2.2->en_core_web_sm==2.2.5) (0.4.1)\n",
      "Requirement already satisfied: numpy>=1.15.0 in c:\\programdata\\anaconda3\\lib\\site-packages (from spacy>=2.2.2->en_core_web_sm==2.2.5) (1.15.4)\n",
      "Requirement already satisfied: wasabi<1.1.0,>=0.4.0 in c:\\programdata\\anaconda3\\lib\\site-packages (from spacy>=2.2.2->en_core_web_sm==2.2.5) (0.6.0)\n",
      "Requirement already satisfied: preshed<3.1.0,>=3.0.2 in c:\\programdata\\anaconda3\\lib\\site-packages (from spacy>=2.2.2->en_core_web_sm==2.2.5) (3.0.2)\n",
      "Requirement already satisfied: plac<1.2.0,>=0.9.6 in c:\\programdata\\anaconda3\\lib\\site-packages (from spacy>=2.2.2->en_core_web_sm==2.2.5) (1.1.3)\n",
      "Requirement already satisfied: idna<2.9,>=2.5 in c:\\users\\gonza\\appdata\\roaming\\python\\python37\\site-packages (from requests<3.0.0,>=2.13.0->spacy>=2.2.2->en_core_web_sm==2.2.5) (2.8)\n",
      "Requirement already satisfied: certifi>=2017.4.17 in c:\\users\\gonza\\appdata\\roaming\\python\\python37\\site-packages (from requests<3.0.0,>=2.13.0->spacy>=2.2.2->en_core_web_sm==2.2.5) (2019.9.11)\n",
      "Requirement already satisfied: urllib3!=1.25.0,!=1.25.1,<1.26,>=1.21.1 in c:\\users\\gonza\\appdata\\roaming\\python\\python37\\site-packages (from requests<3.0.0,>=2.13.0->spacy>=2.2.2->en_core_web_sm==2.2.5) (1.25.6)\n",
      "Requirement already satisfied: chardet<3.1.0,>=3.0.2 in c:\\users\\gonza\\appdata\\roaming\\python\\python37\\site-packages (from requests<3.0.0,>=2.13.0->spacy>=2.2.2->en_core_web_sm==2.2.5) (3.0.4)\n",
      "Requirement already satisfied: importlib-metadata>=0.20; python_version < \"3.8\" in c:\\users\\gonza\\appdata\\roaming\\python\\python37\\site-packages (from catalogue<1.1.0,>=0.0.7->spacy>=2.2.2->en_core_web_sm==2.2.5) (1.5.0)\n",
      "Requirement already satisfied: tqdm<5.0.0,>=4.10.0 in c:\\users\\gonza\\appdata\\roaming\\python\\python37\\site-packages (from thinc<7.4.0,>=7.3.0->spacy>=2.2.2->en_core_web_sm==2.2.5) (4.23.4)\n",
      "Requirement already satisfied: zipp>=0.5 in c:\\users\\gonza\\appdata\\roaming\\python\\python37\\site-packages (from importlib-metadata>=0.20; python_version < \"3.8\"->catalogue<1.1.0,>=0.0.7->spacy>=2.2.2->en_core_web_sm==2.2.5) (3.0.0)\n",
      "[+] Download and installation successful\n",
      "You can now load the model via spacy.load('en_core_web_sm')\n",
      "v¡nculo simb¢lico creado para C:\\ProgramData\\Anaconda3\\lib\\site-packages\\spacy\\data\\en <<===>> C:\\ProgramData\\Anaconda3\\lib\\site-packages\\en_core_web_sm\n",
      "[+] Linking successful\n",
      "C:\\ProgramData\\Anaconda3\\lib\\site-packages\\en_core_web_sm -->\n",
      "C:\\ProgramData\\Anaconda3\\lib\\site-packages\\spacy\\data\\en\n",
      "You can now load the model via spacy.load('en')\n"
     ]
    },
    {
     "name": "stderr",
     "output_type": "stream",
     "text": [
      "WARNING: You are using pip version 20.0.2; however, version 20.1.1 is available.\n",
      "You should consider upgrading via the 'C:\\ProgramData\\Anaconda3\\python.exe -m pip install --upgrade pip' command.\n"
     ]
    }
   ],
   "source": [
    "# Initialize spacy 'en' model, keeping only tagger component (for efficiency)\n",
    "!python -m spacy download en"
   ]
  },
  {
   "cell_type": "code",
   "execution_count": 38,
   "metadata": {},
   "outputs": [],
   "source": [
    "\n",
    "nlp = spacy.load('en', disable=['parser', 'ner'])"
   ]
  },
  {
   "cell_type": "code",
   "execution_count": 39,
   "metadata": {},
   "outputs": [
    {
     "name": "stdout",
     "output_type": "stream",
     "text": [
      "[['much', 'taxpayer', 'amp', 'much', 'ruble']]\n"
     ]
    }
   ],
   "source": [
    "\n",
    "#sera mejor ocupar wordnetlemattizer?\n",
    "# Do lemmatization keeping only noun, adj, vb, adv\n",
    "data_lemmatized = lemmatization(data_words_bigrams, allowed_postags=['NOUN', 'ADJ', 'VERB', 'ADV'])\n",
    "\n",
    "print(data_lemmatized[:1])"
   ]
  },
  {
   "cell_type": "code",
   "execution_count": 40,
   "metadata": {},
   "outputs": [
    {
     "data": {
      "text/plain": [
       "['much', 'taxpayer', 'amp', 'much', 'ruble']"
      ]
     },
     "execution_count": 40,
     "metadata": {},
     "output_type": "execute_result"
    }
   ],
   "source": [
    "data_lemmatized[0]"
   ]
  },
  {
   "cell_type": "code",
   "execution_count": 41,
   "metadata": {},
   "outputs": [
    {
     "data": {
      "text/plain": [
       "['people', 'use', 'phrase', 'usually', 'pay', 'shill']"
      ]
     },
     "execution_count": 41,
     "metadata": {},
     "output_type": "execute_result"
    }
   ],
   "source": [
    "data_lemmatized[1]"
   ]
  },
  {
   "cell_type": "code",
   "execution_count": 42,
   "metadata": {},
   "outputs": [
    {
     "data": {
      "text/plain": [
       "['good', 'analysis', 'company', 'earn', 'keep', 'product', 'survive', 'thank', 'advertising', 'apple']"
      ]
     },
     "execution_count": 42,
     "metadata": {},
     "output_type": "execute_result"
    }
   ],
   "source": [
    "data_lemmatized[9]"
   ]
  },
  {
   "cell_type": "markdown",
   "metadata": {},
   "source": [
    "# Create dictionary and corpus for topic modeling"
   ]
  },
  {
   "cell_type": "code",
   "execution_count": 43,
   "metadata": {},
   "outputs": [
    {
     "name": "stdout",
     "output_type": "stream",
     "text": [
      "[[(0, 1), (1, 2), (2, 1), (3, 1)]]\n"
     ]
    }
   ],
   "source": [
    "#The two main inputs to the LDA topic model are the dictionary(id2word) and the corpus\n",
    "# Create Dictionary\n",
    "id2word = corpora.Dictionary(data_lemmatized)\n",
    "\n",
    "# Create Corpus\n",
    "texts = data_lemmatized\n",
    "\n",
    "# Term Document Frequency\n",
    "corpus = [id2word.doc2bow(text) for text in texts]\n",
    "\n",
    "# View\n",
    "print(corpus[:1])"
   ]
  },
  {
   "cell_type": "code",
   "execution_count": 44,
   "metadata": {},
   "outputs": [
    {
     "data": {
      "text/plain": [
       "'amp'"
      ]
     },
     "execution_count": 44,
     "metadata": {},
     "output_type": "execute_result"
    }
   ],
   "source": [
    "id2word[0]"
   ]
  },
  {
   "cell_type": "code",
   "execution_count": 45,
   "metadata": {},
   "outputs": [
    {
     "data": {
      "text/plain": [
       "[[('amp', 1), ('much', 2), ('ruble', 1), ('taxpayer', 1)]]"
      ]
     },
     "execution_count": 45,
     "metadata": {},
     "output_type": "execute_result"
    }
   ],
   "source": [
    "[[(id2word[id], freq) for id, freq in cp] for cp in corpus[:1]]\n"
   ]
  },
  {
   "cell_type": "code",
   "execution_count": 46,
   "metadata": {},
   "outputs": [],
   "source": [
    "from gensim.test.utils import common_corpus, common_dictionary"
   ]
  },
  {
   "cell_type": "code",
   "execution_count": 47,
   "metadata": {},
   "outputs": [],
   "source": [
    "from gensim.models.wrappers import LdaMallet"
   ]
  },
  {
   "cell_type": "code",
   "execution_count": 48,
   "metadata": {},
   "outputs": [],
   "source": [
    "path_to_mallet_binary = \"C:\\\\mallet\\\\bin\\\\mallet\""
   ]
  },
  {
   "cell_type": "code",
   "execution_count": 49,
   "metadata": {},
   "outputs": [],
   "source": [
    "import os\n",
    "os.environ.update({'MALLET_HOME':r'C:\\mallet'}) #OJO!, por alguna razon mallet solo puede estar disponible en esa carpeta\n"
   ]
  },
  {
   "cell_type": "markdown",
   "metadata": {},
   "source": [
    "# Calcular mejor numero de topicos"
   ]
  },
  {
   "cell_type": "code",
   "execution_count": 59,
   "metadata": {},
   "outputs": [],
   "source": [
    "lista_num_topics = [2,5,6,8,11,15]\n",
    "def compute_coherence_values(dictionary, corpus, texts, limit, start=2, step=3):\n",
    "    \"\"\"\n",
    "    Compute c_v coherence for various number of topics\n",
    "\n",
    "    Parameters:\n",
    "    ----------\n",
    "    dictionary : Gensim dictionary\n",
    "    corpus : Gensim corpus\n",
    "    texts : List of input texts\n",
    "    limit : Max num of topics\n",
    "\n",
    "    Returns:\n",
    "    -------\n",
    "    model_list : List of LDA topic models\n",
    "    coherence_values : Coherence values corresponding to the LDA model with respective number of topics\n",
    "    \"\"\"\n",
    "    coherence_values = []\n",
    "    model_list = []\n",
    "    \n",
    "    #modificar aqui la lista de valores en las que se desea probar\n",
    "    \n",
    "    #for num_topics in range(start, limit, step):\n",
    "    for num_topics in lista_num_topics:\n",
    "        model = gensim.models.wrappers.LdaMallet(path_to_mallet_binary, corpus=corpus, num_topics=num_topics, id2word=id2word)\n",
    "        model_list.append(model)\n",
    "        coherencemodel = CoherenceModel(model=model, texts=texts, dictionary=dictionary, coherence='c_v')\n",
    "        coherence_values.append(coherencemodel.get_coherence())\n",
    "\n",
    "    return model_list, coherence_values"
   ]
  },
  {
   "cell_type": "code",
   "execution_count": 60,
   "metadata": {},
   "outputs": [
    {
     "name": "stdout",
     "output_type": "stream",
     "text": [
      "00:28:16.72\n"
     ]
    }
   ],
   "source": [
    "start = time.time()\n",
    "model_list, coherence_values = compute_coherence_values(dictionary=id2word, corpus=corpus, texts=data_lemmatized, start=1, limit=41, step=10)\n",
    "#ojo, el numero de start, limit y step no tiene sentido en la linea anterior, se modifican directamente en el algoritmo\n",
    "end = time.time()\n",
    "hours, rem = divmod(end-start, 3600)\n",
    "minutes, seconds = divmod(rem, 60)\n",
    "print(\"{:0>2}:{:0>2}:{:05.2f}\".format(int(hours),int(minutes),seconds))\n"
   ]
  },
  {
   "cell_type": "code",
   "execution_count": 61,
   "metadata": {},
   "outputs": [
    {
     "data": {
      "image/png": "[encoded data removed]",
      "text/plain": [
       "<Figure size 432x288 with 1 Axes>"
      ]
     },
     "metadata": {
      "needs_background": "light"
     },
     "output_type": "display_data"
    }
   ],
   "source": [
    "# Show graph\n",
    "\n",
    "#x = range(start, limit, step)\n",
    "\n",
    "x = lista_num_topics\n",
    "plt.title(\"Coherence Score on Tweets\")\n",
    "plt.plot(x, coherence_values)\n",
    "plt.xlabel(\"Num Topics\")\n",
    "plt.ylabel(\"Coherence score\")\n",
    "plt.xticks(x, x)\n",
    "\n",
    "plt.legend((\"coherence_values\"), loc='best')\n",
    "plt.show()"
   ]
  },
  {
   "cell_type": "code",
   "execution_count": 62,
   "metadata": {},
   "outputs": [
    {
     "name": "stdout",
     "output_type": "stream",
     "text": [
      "Num Topics = 2  has Coherence Value of 0.1746\n",
      "Num Topics = 5  has Coherence Value of 0.4301\n",
      "Num Topics = 6  has Coherence Value of 0.4295\n",
      "Num Topics = 8  has Coherence Value of 0.4577\n",
      "Num Topics = 11  has Coherence Value of 0.4644\n",
      "Num Topics = 15  has Coherence Value of 0.5051\n"
     ]
    }
   ],
   "source": [
    "# Print the coherence scores\n",
    "for m, cv in zip(x, coherence_values):\n",
    "    print(\"Num Topics =\", m, \" has Coherence Value of\", round(cv, 4))"
   ]
  },
  {
   "cell_type": "markdown",
   "metadata": {},
   "source": [
    "# Verificar rango"
   ]
  },
  {
   "cell_type": "code",
   "execution_count": 50,
   "metadata": {},
   "outputs": [],
   "source": [
    "lista_num_topics = [8,9,10,11,12,13,14,15]\n",
    "def compute_coherence_values(dictionary, corpus, texts, limit, start=2, step=3):\n",
    "    \"\"\"\n",
    "    Compute c_v coherence for various number of topics\n",
    "\n",
    "    Parameters:\n",
    "    ----------\n",
    "    dictionary : Gensim dictionary\n",
    "    corpus : Gensim corpus\n",
    "    texts : List of input texts\n",
    "    limit : Max num of topics\n",
    "\n",
    "    Returns:\n",
    "    -------\n",
    "    model_list : List of LDA topic models\n",
    "    coherence_values : Coherence values corresponding to the LDA model with respective number of topics\n",
    "    \"\"\"\n",
    "    coherence_values = []\n",
    "    model_list = []\n",
    "    \n",
    "    #modificar aqui la lista de valores en las que se desea probar\n",
    "    \n",
    "    #for num_topics in range(start, limit, step):\n",
    "    for num_topics in lista_num_topics:\n",
    "        model = gensim.models.wrappers.LdaMallet(path_to_mallet_binary, corpus=corpus, num_topics=num_topics, id2word=id2word)\n",
    "        model_list.append(model)\n",
    "        coherencemodel = CoherenceModel(model=model, texts=texts, dictionary=dictionary, coherence='c_v')\n",
    "        coherence_values.append(coherencemodel.get_coherence())\n",
    "\n",
    "    return model_list, coherence_values"
   ]
  },
  {
   "cell_type": "code",
   "execution_count": 51,
   "metadata": {},
   "outputs": [
    {
     "name": "stdout",
     "output_type": "stream",
     "text": [
      "00:37:20.84\n"
     ]
    }
   ],
   "source": [
    "start = time.time()\n",
    "model_list, coherence_values = compute_coherence_values(dictionary=id2word, corpus=corpus, texts=data_lemmatized, start=1, limit=41, step=10)\n",
    "#ojo, el numero de start, limit y step no tiene sentido en la linea anterior, se modifican directamente en el algoritmo\n",
    "end = time.time()\n",
    "hours, rem = divmod(end-start, 3600)\n",
    "minutes, seconds = divmod(rem, 60)\n",
    "print(\"{:0>2}:{:0>2}:{:05.2f}\".format(int(hours),int(minutes),seconds))\n"
   ]
  },
  {
   "cell_type": "code",
   "execution_count": 52,
   "metadata": {},
   "outputs": [
    {
     "data": {
      "image/png": "[encoded data removed]",
      "text/plain": [
       "<Figure size 432x288 with 1 Axes>"
      ]
     },
     "metadata": {
      "needs_background": "light"
     },
     "output_type": "display_data"
    }
   ],
   "source": [
    "# Show graph\n",
    "\n",
    "#x = range(start, limit, step)\n",
    "\n",
    "x = lista_num_topics\n",
    "plt.title(\"Coherence Score on Tweets\")\n",
    "plt.plot(x, coherence_values)\n",
    "plt.xlabel(\"Num Topics\")\n",
    "plt.ylabel(\"Coherence score\")\n",
    "plt.xticks(x, x)\n",
    "\n",
    "plt.legend((\"coherence_values\"), loc='best')\n",
    "plt.show()"
   ]
  },
  {
   "cell_type": "code",
   "execution_count": 53,
   "metadata": {},
   "outputs": [
    {
     "name": "stdout",
     "output_type": "stream",
     "text": [
      "Num Topics = 8  has Coherence Value of 0.4586\n",
      "Num Topics = 9  has Coherence Value of 0.4773\n",
      "Num Topics = 10  has Coherence Value of 0.4853\n",
      "Num Topics = 11  has Coherence Value of 0.4722\n",
      "Num Topics = 12  has Coherence Value of 0.4969\n",
      "Num Topics = 13  has Coherence Value of 0.4762\n",
      "Num Topics = 14  has Coherence Value of 0.4926\n",
      "Num Topics = 15  has Coherence Value of 0.4971\n"
     ]
    }
   ],
   "source": [
    "# Print the coherence scores\n",
    "for m, cv in zip(x, coherence_values):\n",
    "    print(\"Num Topics =\", m, \" has Coherence Value of\", round(cv, 4))"
   ]
  },
  {
   "cell_type": "markdown",
   "metadata": {},
   "source": [
    "# Build LDA Mallet Model"
   ]
  },
  {
   "cell_type": "code",
   "execution_count": 54,
   "metadata": {},
   "outputs": [],
   "source": [
    "num_topic = 15"
   ]
  },
  {
   "cell_type": "code",
   "execution_count": 55,
   "metadata": {},
   "outputs": [
    {
     "name": "stdout",
     "output_type": "stream",
     "text": [
      "00:05:09.86\n"
     ]
    }
   ],
   "source": [
    "start = time.time()\n",
    "\n",
    "\n",
    "ldamallet = LdaMallet(path_to_mallet_binary, corpus=corpus, num_topics=num_topic, id2word=id2word)\n",
    "\n",
    "end = time.time()\n",
    "hours, rem = divmod(end-start, 3600)\n",
    "minutes, seconds = divmod(rem, 60)\n",
    "print(\"{:0>2}:{:0>2}:{:05.2f}\".format(int(hours),int(minutes),seconds))"
   ]
  },
  {
   "cell_type": "code",
   "execution_count": 56,
   "metadata": {},
   "outputs": [
    {
     "name": "stdout",
     "output_type": "stream",
     "text": [
      "[(0,\n",
      "  '0.041*\"trump\" + 0.025*\"call\" + 0.022*\"family\" + 0.022*\"child\" + 0.018*\"man\" '\n",
      "  '+ 0.016*\"retweete\" + 0.015*\"care\" + 0.014*\"woman\" + 0.014*\"policy\" + '\n",
      "  '0.013*\"country\"'),\n",
      " (1,\n",
      "  '0.071*\"facebook\" + 0.052*\"twitter\" + 0.044*\"read\" + 0.040*\"page\" + '\n",
      "  '0.036*\"follow\" + 0.032*\"video\" + 0.030*\"bad\" + 0.029*\"check\" + 0.018*\"link\" '\n",
      "  '+ 0.016*\"article\"'),\n",
      " (2,\n",
      "  '0.148*\"trump\" + 0.029*\"lie\" + 0.018*\"stop\" + 0.017*\"hate\" + 0.017*\"support\" '\n",
      "  '+ 0.016*\"supporter\" + 0.016*\"conservative\" + 0.016*\"president\" + '\n",
      "  '0.011*\"attack\" + 0.011*\"wrong\"'),\n",
      " (3,\n",
      "  '0.237*\"datum\" + 0.078*\"user\" + 0.060*\"give\" + 0.048*\"company\" + '\n",
      "  '0.048*\"share\" + 0.030*\"access\" + 0.028*\"sell\" + 0.027*\"personal\" + '\n",
      "  '0.025*\"information\" + 0.022*\"data\"'),\n",
      " (4,\n",
      "  '0.127*\"privacy\" + 0.041*\"late\" + 0.038*\"change\" + 0.022*\"law\" + '\n",
      "  '0.021*\"security\" + 0.020*\"issue\" + 0.019*\"hack\" + 0.018*\"problem\" + '\n",
      "  '0.017*\"update\" + 0.015*\"protect\"'),\n",
      " (5,\n",
      "  '0.044*\"ad\" + 0.038*\"election\" + 0.035*\"campaign\" + 0.033*\"leave\" + '\n",
      "  '0.032*\"vote\" + 0.028*\"pay\" + 0.026*\"money\" + 0.021*\"run\" + 0.019*\"russian\" '\n",
      "  '+ 0.018*\"political\"'),\n",
      " (6,\n",
      "  '0.035*\"question\" + 0.021*\"time\" + 0.019*\"face\" + 0.018*\"hear\" + '\n",
      "  '0.018*\"answer\" + 0.016*\"send\" + 0.016*\"public\" + 0.014*\"email\" + '\n",
      "  '0.014*\"government\" + 0.014*\"hold\"'),\n",
      " (7,\n",
      "  '0.041*\"today\" + 0.031*\"great\" + 0.022*\"join\" + 0.022*\"talk\" + 0.020*\"week\" '\n",
      "  '+ 0.016*\"live\" + 0.015*\"team\" + 0.014*\"amp\" + 0.014*\"world\" + 0.014*\"high\"'),\n",
      " (8,\n",
      "  '0.055*\"big\" + 0.050*\"business\" + 0.029*\"marketing\" + 0.021*\"bigdata\" + '\n",
      "  '0.014*\"learn\" + 0.013*\"customer\" + 0.012*\"market\" + 0.012*\"strategy\" + '\n",
      "  '0.010*\"digital\" + 0.010*\"model\"'),\n",
      " (9,\n",
      "  '0.069*\"people\" + 0.052*\"delete\" + 0.048*\"post\" + 0.045*\"year\" + 0.038*\"day\" '\n",
      "  '+ 0.035*\"account\" + 0.034*\"time\" + 0.025*\"friend\" + 0.023*\"facebook\" + '\n",
      "  '0.015*\"reason\"'),\n",
      " (10,\n",
      "  '0.131*\"bigdata\" + 0.042*\"ai\" + 0.042*\"machinelearne\" + 0.041*\"analytic\" + '\n",
      "  '0.033*\"technology\" + 0.028*\"datascience\" + 0.026*\"fintech\" + 0.022*\"tech\" + '\n",
      "  '0.020*\"blockchain\" + 0.019*\"deeplearne\"'),\n",
      " (11,\n",
      "  '0.099*\"make\" + 0.050*\"good\" + 0.034*\"thing\" + 0.029*\"watch\" + 0.024*\"love\" '\n",
      "  '+ 0.020*\"people\" + 0.017*\"live\" + 0.015*\"play\" + 0.014*\"happen\" + '\n",
      "  '0.014*\"lot\"'),\n",
      " (12,\n",
      "  '0.055*\"medium\" + 0.050*\"social\" + 0.026*\"platform\" + 0.024*\"facebook\" + '\n",
      "  '0.022*\"service\" + 0.022*\"find\" + 0.020*\"date\" + 0.020*\"create\" + '\n",
      "  '0.016*\"world\" + 0.015*\"build\"'),\n",
      " (13,\n",
      "  '0.057*\"work\" + 0.046*\"news\" + 0.027*\"story\" + 0.025*\"amp\" + 0.025*\"fake\" + '\n",
      "  '0.021*\"job\" + 0.020*\"real\" + 0.018*\"break\" + 0.014*\"deal\" + 0.014*\"start\"'),\n",
      " (14,\n",
      "  '0.040*\"scandal\" + 0.032*\"data\" + 0.027*\"report\" + 0.026*\"app\" + '\n",
      "  '0.021*\"group\" + 0.015*\"set\" + 0.015*\"case\" + 0.014*\"facebook\" + '\n",
      "  '0.014*\"continue\" + 0.014*\"close\"')]\n"
     ]
    }
   ],
   "source": [
    "# Show Topics\n",
    "#pprint(ldamallet.show_topics(formatted=False, num_topics=num_topics))\n",
    "pprint(ldamallet.show_topics(num_topics=num_topic, num_words=10, log=False, formatted=True))\n"
   ]
  },
  {
   "cell_type": "code",
   "execution_count": 57,
   "metadata": {},
   "outputs": [
    {
     "name": "stdout",
     "output_type": "stream",
     "text": [
      "\n",
      "Coherence Score:  0.49835000140223495\n"
     ]
    }
   ],
   "source": [
    "# Compute Coherence Score\n",
    "coherence_model_ldamallet = CoherenceModel(model=ldamallet, texts=data_lemmatized, dictionary=id2word, coherence='c_v')\n",
    "coherence_ldamallet = coherence_model_ldamallet.get_coherence()\n",
    "print('\\nCoherence Score: ', coherence_ldamallet)"
   ]
  },
  {
   "cell_type": "markdown",
   "metadata": {},
   "source": [
    "### Save elements from topic model"
   ]
  },
  {
   "cell_type": "code",
   "execution_count": 58,
   "metadata": {},
   "outputs": [],
   "source": [
    "from gensim.models.wrappers import LdaMallet\n",
    "from gensim.models.wrappers.ldamallet import malletmodel2ldamodel"
   ]
  },
  {
   "cell_type": "code",
   "execution_count": 59,
   "metadata": {},
   "outputs": [],
   "source": [
    "ldamodel = malletmodel2ldamodel(ldamallet) #esto es temporal, "
   ]
  },
  {
   "cell_type": "code",
   "execution_count": 60,
   "metadata": {},
   "outputs": [
    {
     "data": {
      "text/plain": [
       "<class 'gensim.models.ldamodel.LdaModel'>"
      ]
     },
     "execution_count": 60,
     "metadata": {},
     "output_type": "execute_result"
    }
   ],
   "source": [
    "type(ldamodel)"
   ]
  },
  {
   "cell_type": "code",
   "execution_count": 61,
   "metadata": {},
   "outputs": [],
   "source": [
    "ldamallet.save('collection_2_mallet.model')\n",
    "ldamodel.save('collection_2_gensim.model')"
   ]
  },
  {
   "cell_type": "code",
   "execution_count": null,
   "metadata": {},
   "outputs": [],
   "source": []
  },
  {
   "cell_type": "code",
   "execution_count": 62,
   "metadata": {},
   "outputs": [],
   "source": [
    "#corpus\n",
    "import pickle\n",
    "with open('collection_2_corpus.pkl', 'wb') as f:\n",
    "    pickle.dump(corpus, f)"
   ]
  },
  {
   "cell_type": "code",
   "execution_count": 63,
   "metadata": {},
   "outputs": [],
   "source": [
    "#id2word\n",
    "id2word.save(\"collection_2_id2word\")"
   ]
  },
  {
   "cell_type": "markdown",
   "metadata": {},
   "source": [
    "# Mapear text con clean text"
   ]
  },
  {
   "cell_type": "code",
   "execution_count": 64,
   "metadata": {},
   "outputs": [
    {
     "data": {
      "text/html": [
       "<div>\n",
       "<style scoped>\n",
       "    .dataframe tbody tr th:only-of-type {\n",
       "        vertical-align: middle;\n",
       "    }\n",
       "\n",
       "    .dataframe tbody tr th {\n",
       "        vertical-align: top;\n",
       "    }\n",
       "\n",
       "    .dataframe thead th {\n",
       "        text-align: right;\n",
       "    }\n",
       "</style>\n",
       "<table border=\"1\" class=\"dataframe\">\n",
       "  <thead>\n",
       "    <tr style=\"text-align: right;\">\n",
       "      <th></th>\n",
       "      <th>id</th>\n",
       "      <th>created_at</th>\n",
       "      <th>user.screen_name</th>\n",
       "      <th>user_location</th>\n",
       "      <th>coordinates</th>\n",
       "      <th>text</th>\n",
       "      <th>full_text</th>\n",
       "      <th>retweet_created_at</th>\n",
       "      <th>retweet_full_text</th>\n",
       "      <th>texto_completo</th>\n",
       "    </tr>\n",
       "    <tr>\n",
       "      <th>created_at2</th>\n",
       "      <th></th>\n",
       "      <th></th>\n",
       "      <th></th>\n",
       "      <th></th>\n",
       "      <th></th>\n",
       "      <th></th>\n",
       "      <th></th>\n",
       "      <th></th>\n",
       "      <th></th>\n",
       "      <th></th>\n",
       "    </tr>\n",
       "  </thead>\n",
       "  <tbody>\n",
       "    <tr>\n",
       "      <td>2018-04-22</td>\n",
       "      <td>id-988078771453480961</td>\n",
       "      <td>Sun Apr 22 15:35:11 +0000 2018</td>\n",
       "      <td>badwolf303</td>\n",
       "      <td>Behind Enemy lines</td>\n",
       "      <td>NaN</td>\n",
       "      <td>&lt;usernameremoved&gt;  How much of that is taxpayer $ &amp;amp;\\nhow much in #rubles ? &lt;linkremoved&gt;</td>\n",
       "      <td>&lt;usernameremoved&gt;  How much of that is taxpayer $ &amp;amp;\\nhow much in #rubles ? &lt;linkremoved&gt;</td>\n",
       "      <td>NaN</td>\n",
       "      <td>NaN</td>\n",
       "      <td>@realDonaldTrump  How much of that is taxpayer $ &amp;amp;\\nhow much in #rubles ? https://t.co/agK8DXeBl0</td>\n",
       "    </tr>\n",
       "  </tbody>\n",
       "</table>\n",
       "</div>"
      ],
      "text/plain": [
       "                                id                      created_at  \\\n",
       "created_at2                                                          \n",
       "2018-04-22   id-988078771453480961  Sun Apr 22 15:35:11 +0000 2018   \n",
       "\n",
       "            user.screen_name        user_location coordinates  \\\n",
       "created_at2                                                     \n",
       "2018-04-22   badwolf303       Behind Enemy lines   NaN          \n",
       "\n",
       "                                                                                                     text  \\\n",
       "created_at2                                                                                                 \n",
       "2018-04-22   <usernameremoved>  How much of that is taxpayer $ &amp;\\nhow much in #rubles ? <linkremoved>   \n",
       "\n",
       "                                                                                                full_text  \\\n",
       "created_at2                                                                                                 \n",
       "2018-04-22   <usernameremoved>  How much of that is taxpayer $ &amp;\\nhow much in #rubles ? <linkremoved>   \n",
       "\n",
       "            retweet_created_at retweet_full_text  \\\n",
       "created_at2                                        \n",
       "2018-04-22   NaN                NaN                \n",
       "\n",
       "                                                                                                    texto_completo  \n",
       "created_at2                                                                                                         \n",
       "2018-04-22   @realDonaldTrump  How much of that is taxpayer $ &amp;\\nhow much in #rubles ? https://t.co/agK8DXeBl0  "
      ]
     },
     "execution_count": 64,
     "metadata": {},
     "output_type": "execute_result"
    }
   ],
   "source": [
    "df.head(1)"
   ]
  },
  {
   "cell_type": "code",
   "execution_count": 65,
   "metadata": {
    "scrolled": true
   },
   "outputs": [
    {
     "data": {
      "text/plain": [
       "' usernameremoved   how much of that is taxpayer    amp \\nhow much in  rubles    linkremoved '"
      ]
     },
     "execution_count": 65,
     "metadata": {},
     "output_type": "execute_result"
    }
   ],
   "source": [
    "data[0]"
   ]
  },
  {
   "cell_type": "code",
   "execution_count": 66,
   "metadata": {},
   "outputs": [],
   "source": [
    "df[\"clean_text\"] = data\n"
   ]
  },
  {
   "cell_type": "code",
   "execution_count": 67,
   "metadata": {},
   "outputs": [
    {
     "data": {
      "text/html": [
       "<div>\n",
       "<style scoped>\n",
       "    .dataframe tbody tr th:only-of-type {\n",
       "        vertical-align: middle;\n",
       "    }\n",
       "\n",
       "    .dataframe tbody tr th {\n",
       "        vertical-align: top;\n",
       "    }\n",
       "\n",
       "    .dataframe thead th {\n",
       "        text-align: right;\n",
       "    }\n",
       "</style>\n",
       "<table border=\"1\" class=\"dataframe\">\n",
       "  <thead>\n",
       "    <tr style=\"text-align: right;\">\n",
       "      <th></th>\n",
       "      <th>id</th>\n",
       "      <th>created_at</th>\n",
       "      <th>user.screen_name</th>\n",
       "      <th>user_location</th>\n",
       "      <th>coordinates</th>\n",
       "      <th>text</th>\n",
       "      <th>full_text</th>\n",
       "      <th>retweet_created_at</th>\n",
       "      <th>retweet_full_text</th>\n",
       "      <th>texto_completo</th>\n",
       "      <th>clean_text</th>\n",
       "    </tr>\n",
       "    <tr>\n",
       "      <th>created_at2</th>\n",
       "      <th></th>\n",
       "      <th></th>\n",
       "      <th></th>\n",
       "      <th></th>\n",
       "      <th></th>\n",
       "      <th></th>\n",
       "      <th></th>\n",
       "      <th></th>\n",
       "      <th></th>\n",
       "      <th></th>\n",
       "      <th></th>\n",
       "    </tr>\n",
       "  </thead>\n",
       "  <tbody>\n",
       "    <tr>\n",
       "      <td>2018-04-22</td>\n",
       "      <td>id-988078771453480961</td>\n",
       "      <td>Sun Apr 22 15:35:11 +0000 2018</td>\n",
       "      <td>badwolf303</td>\n",
       "      <td>Behind Enemy lines</td>\n",
       "      <td>NaN</td>\n",
       "      <td>&lt;usernameremoved&gt;  How much of that is taxpayer $ &amp;amp;\\nhow much in #rubles ? &lt;linkremoved&gt;</td>\n",
       "      <td>&lt;usernameremoved&gt;  How much of that is taxpayer $ &amp;amp;\\nhow much in #rubles ? &lt;linkremoved&gt;</td>\n",
       "      <td>NaN</td>\n",
       "      <td>NaN</td>\n",
       "      <td>@realDonaldTrump  How much of that is taxpayer $ &amp;amp;\\nhow much in #rubles ? https://t.co/agK8DXeBl0</td>\n",
       "      <td>usernameremoved   how much of that is taxpayer    amp \\nhow much in  rubles    linkremoved</td>\n",
       "    </tr>\n",
       "    <tr>\n",
       "      <td>2018-04-22</td>\n",
       "      <td>id-988079016233095169</td>\n",
       "      <td>Sun Apr 22 15:36:09 +0000 2018</td>\n",
       "      <td>imperienytt</td>\n",
       "      <td>NaN</td>\n",
       "      <td>NaN</td>\n",
       "      <td>&lt;usernameremoved&gt; &lt;usernameremoved&gt; People who use phrases like the Kremlin Narrative are usually themselves paid shills. &lt;linkremoved&gt;</td>\n",
       "      <td>&lt;usernameremoved&gt; &lt;usernameremoved&gt; People who use phrases like the Kremlin Narrative are usually themselves paid shills. &lt;linkremoved&gt;</td>\n",
       "      <td>NaN</td>\n",
       "      <td>NaN</td>\n",
       "      <td>@I_Kond @benimmo People who use phrases like the Kremlin Narrative are usually themselves paid shills. https://t.co/mlJMcbPmod</td>\n",
       "      <td>usernameremoved   usernameremoved  people who use phrases like the kremlin narrative are usually themselves paid shills   linkremoved</td>\n",
       "    </tr>\n",
       "    <tr>\n",
       "      <td>2018-04-22</td>\n",
       "      <td>id-988079046591332359</td>\n",
       "      <td>Sun Apr 22 15:36:16 +0000 2018</td>\n",
       "      <td>MegnHarmony</td>\n",
       "      <td>Cascade Mountains, Washington</td>\n",
       "      <td>NaN</td>\n",
       "      <td>&lt;usernameremoved&gt; &lt;usernameremoved&gt; &lt;usernameremoved&gt; Well how interesting. Doing some freelance  research for Cambridge Analytica or something?</td>\n",
       "      <td>&lt;usernameremoved&gt; &lt;usernameremoved&gt; &lt;usernameremoved&gt; Well how interesting. Doing some freelance  research for Cambridge Analytica or something?</td>\n",
       "      <td>NaN</td>\n",
       "      <td>NaN</td>\n",
       "      <td>@scolderscholar @Dbo2353 @EdKrassen Well how interesting. Doing some freelance  research for Cambridge Analytica or something?</td>\n",
       "      <td>usernameremoved   usernameremoved   usernameremoved  well how interesting  doing some freelance  research for cambridge analytica or something</td>\n",
       "    </tr>\n",
       "    <tr>\n",
       "      <td>2018-04-22</td>\n",
       "      <td>id-988079064740122624</td>\n",
       "      <td>Sun Apr 22 15:36:21 +0000 2018</td>\n",
       "      <td>damu_mainali</td>\n",
       "      <td>Nepal</td>\n",
       "      <td>NaN</td>\n",
       "      <td>Is anyone want to  make a whatapp group  for sharing travel experience? ? \\nMine whatapp is +9779808262524\\n#traveltheworld #WhatsApp #Facebook #group #tourism #TravelSkills #travelblog #travellers #Tourist #JoinUS #TwitterSmarter #bloggerswanted #email</td>\n",
       "      <td>Is anyone want to  make a whatapp group  for sharing travel experience? ? \\nMine whatapp is +9779808262524\\n#traveltheworld #WhatsApp #Facebook #group #tourism #TravelSkills #travelblog #travellers #Tourist #JoinUS #TwitterSmarter #bloggerswanted #email</td>\n",
       "      <td>NaN</td>\n",
       "      <td>NaN</td>\n",
       "      <td>Is anyone want to  make a whatapp group  for sharing travel experience? ? \\nMine whatapp is +9779808262524\\n#traveltheworld #WhatsApp #Facebook #group #tourism #TravelSkills #travelblog #travellers #Tourist #JoinUS #TwitterSmarter #bloggerswanted #email</td>\n",
       "      <td>is anyone want to  make a whatapp group  for sharing travel experience    \\nmine whatapp is               \\n traveltheworld  whatsapp  facebook  group  tourism  travelskills  travelblog  travellers  tourist  joinus  twittersmarter  bloggerswanted  email</td>\n",
       "    </tr>\n",
       "    <tr>\n",
       "      <td>2018-04-22</td>\n",
       "      <td>id-988078964894728192</td>\n",
       "      <td>Sun Apr 22 15:35:57 +0000 2018</td>\n",
       "      <td>wickedsmartface</td>\n",
       "      <td>United States</td>\n",
       "      <td>NaN</td>\n",
       "      <td>&lt;usernameremoved&gt; Yeah, because it's more fun to have your data sold to third parties. Right on, Zuckerberg.</td>\n",
       "      <td>&lt;usernameremoved&gt; Yeah, because it's more fun to have your data sold to third parties. Right on, Zuckerberg.</td>\n",
       "      <td>NaN</td>\n",
       "      <td>NaN</td>\n",
       "      <td>@brooklynmarie Yeah, because it's more fun to have your data sold to third parties. Right on, Zuckerberg.</td>\n",
       "      <td>usernameremoved  yeah  because it s more fun to have your data sold to third parties  right on  zuckerberg</td>\n",
       "    </tr>\n",
       "  </tbody>\n",
       "</table>\n",
       "</div>"
      ],
      "text/plain": [
       "                                id                      created_at  \\\n",
       "created_at2                                                          \n",
       "2018-04-22   id-988078771453480961  Sun Apr 22 15:35:11 +0000 2018   \n",
       "2018-04-22   id-988079016233095169  Sun Apr 22 15:36:09 +0000 2018   \n",
       "2018-04-22   id-988079046591332359  Sun Apr 22 15:36:16 +0000 2018   \n",
       "2018-04-22   id-988079064740122624  Sun Apr 22 15:36:21 +0000 2018   \n",
       "2018-04-22   id-988078964894728192  Sun Apr 22 15:35:57 +0000 2018   \n",
       "\n",
       "            user.screen_name                   user_location coordinates  \\\n",
       "created_at2                                                                \n",
       "2018-04-22   badwolf303       Behind Enemy lines              NaN          \n",
       "2018-04-22   imperienytt      NaN                             NaN          \n",
       "2018-04-22   MegnHarmony      Cascade Mountains, Washington   NaN          \n",
       "2018-04-22   damu_mainali     Nepal                           NaN          \n",
       "2018-04-22   wickedsmartface  United States                   NaN          \n",
       "\n",
       "                                                                                                                                                                                                                                                                      text  \\\n",
       "created_at2                                                                                                                                                                                                                                                                  \n",
       "2018-04-22   <usernameremoved>  How much of that is taxpayer $ &amp;\\nhow much in #rubles ? <linkremoved>                                                                                                                                                                    \n",
       "2018-04-22   <usernameremoved> <usernameremoved> People who use phrases like the Kremlin Narrative are usually themselves paid shills. <linkremoved>                                                                                                                         \n",
       "2018-04-22   <usernameremoved> <usernameremoved> <usernameremoved> Well how interesting. Doing some freelance  research for Cambridge Analytica or something?                                                                                                                \n",
       "2018-04-22   Is anyone want to  make a whatapp group  for sharing travel experience? ? \\nMine whatapp is +9779808262524\\n#traveltheworld #WhatsApp #Facebook #group #tourism #TravelSkills #travelblog #travellers #Tourist #JoinUS #TwitterSmarter #bloggerswanted #email   \n",
       "2018-04-22   <usernameremoved> Yeah, because it's more fun to have your data sold to third parties. Right on, Zuckerberg.                                                                                                                                                    \n",
       "\n",
       "                                                                                                                                                                                                                                                                 full_text  \\\n",
       "created_at2                                                                                                                                                                                                                                                                  \n",
       "2018-04-22   <usernameremoved>  How much of that is taxpayer $ &amp;\\nhow much in #rubles ? <linkremoved>                                                                                                                                                                    \n",
       "2018-04-22   <usernameremoved> <usernameremoved> People who use phrases like the Kremlin Narrative are usually themselves paid shills. <linkremoved>                                                                                                                         \n",
       "2018-04-22   <usernameremoved> <usernameremoved> <usernameremoved> Well how interesting. Doing some freelance  research for Cambridge Analytica or something?                                                                                                                \n",
       "2018-04-22   Is anyone want to  make a whatapp group  for sharing travel experience? ? \\nMine whatapp is +9779808262524\\n#traveltheworld #WhatsApp #Facebook #group #tourism #TravelSkills #travelblog #travellers #Tourist #JoinUS #TwitterSmarter #bloggerswanted #email   \n",
       "2018-04-22   <usernameremoved> Yeah, because it's more fun to have your data sold to third parties. Right on, Zuckerberg.                                                                                                                                                    \n",
       "\n",
       "            retweet_created_at retweet_full_text  \\\n",
       "created_at2                                        \n",
       "2018-04-22   NaN                NaN                \n",
       "2018-04-22   NaN                NaN                \n",
       "2018-04-22   NaN                NaN                \n",
       "2018-04-22   NaN                NaN                \n",
       "2018-04-22   NaN                NaN                \n",
       "\n",
       "                                                                                                                                                                                                                                                            texto_completo  \\\n",
       "created_at2                                                                                                                                                                                                                                                                  \n",
       "2018-04-22   @realDonaldTrump  How much of that is taxpayer $ &amp;\\nhow much in #rubles ? https://t.co/agK8DXeBl0                                                                                                                                                           \n",
       "2018-04-22   @I_Kond @benimmo People who use phrases like the Kremlin Narrative are usually themselves paid shills. https://t.co/mlJMcbPmod                                                                                                                                  \n",
       "2018-04-22   @scolderscholar @Dbo2353 @EdKrassen Well how interesting. Doing some freelance  research for Cambridge Analytica or something?                                                                                                                                  \n",
       "2018-04-22   Is anyone want to  make a whatapp group  for sharing travel experience? ? \\nMine whatapp is +9779808262524\\n#traveltheworld #WhatsApp #Facebook #group #tourism #TravelSkills #travelblog #travellers #Tourist #JoinUS #TwitterSmarter #bloggerswanted #email   \n",
       "2018-04-22   @brooklynmarie Yeah, because it's more fun to have your data sold to third parties. Right on, Zuckerberg.                                                                                                                                                       \n",
       "\n",
       "                                                                                                                                                                                                                                                                clean_text  \n",
       "created_at2                                                                                                                                                                                                                                                                 \n",
       "2018-04-22    usernameremoved   how much of that is taxpayer    amp \\nhow much in  rubles    linkremoved                                                                                                                                                                    \n",
       "2018-04-22    usernameremoved   usernameremoved  people who use phrases like the kremlin narrative are usually themselves paid shills   linkremoved                                                                                                                         \n",
       "2018-04-22    usernameremoved   usernameremoved   usernameremoved  well how interesting  doing some freelance  research for cambridge analytica or something                                                                                                                \n",
       "2018-04-22   is anyone want to  make a whatapp group  for sharing travel experience    \\nmine whatapp is               \\n traveltheworld  whatsapp  facebook  group  tourism  travelskills  travelblog  travellers  tourist  joinus  twittersmarter  bloggerswanted  email  \n",
       "2018-04-22    usernameremoved  yeah  because it s more fun to have your data sold to third parties  right on  zuckerberg                                                                                                                                                    "
      ]
     },
     "execution_count": 67,
     "metadata": {},
     "output_type": "execute_result"
    }
   ],
   "source": [
    "df.head()"
   ]
  },
  {
   "cell_type": "markdown",
   "metadata": {},
   "source": [
    "# Highest topic per tweet"
   ]
  },
  {
   "cell_type": "code",
   "execution_count": null,
   "metadata": {},
   "outputs": [],
   "source": [
    "def format_topics_sentences(ldamodel=ldamallet, corpus=corpus, texts=data):\n",
    "    # Init output\n",
    "    sent_topics_df = pd.DataFrame()\n",
    "\n",
    "    # Get main topic in each document\n",
    "    for i, row in enumerate(ldamodel[corpus]):\n",
    "        row = sorted(row, key=lambda x: (x[1]), reverse=True)\n",
    "        # Get the Dominant topic, Perc Contribution and Keywords for each document\n",
    "        for j, (topic_num, prop_topic) in enumerate(row):\n",
    "            if j == 0:  # => dominant topic\n",
    "                wp = ldamodel.show_topic(topic_num)\n",
    "                topic_keywords = \", \".join([word for word, prop in wp])\n",
    "                sent_topics_df = sent_topics_df.append(pd.Series([int(topic_num), round(prop_topic,4), topic_keywords]), ignore_index=True)\n",
    "            else:\n",
    "                break\n",
    "    sent_topics_df.columns = ['Dominant_Topic', 'Perc_Contribution', 'Topic_Keywords']\n",
    "\n",
    "    # Add original text to the end of the output\n",
    "    contents = pd.Series(texts)\n",
    "    sent_topics_df = pd.concat([sent_topics_df, contents], axis=1)\n",
    "    return(sent_topics_df)\n",
    "\n",
    "\n",
    "df_topic_sents_keywords = format_topics_sentences(ldamodel=ldamallet, corpus=corpus, texts=data)\n",
    "\n",
    "# Format\n",
    "df_dominant_topic = df_topic_sents_keywords.reset_index()\n",
    "df_dominant_topic.columns = ['Document_No', 'Dominant_Topic', 'Topic_Perc_Contrib', 'Keywords', 'Text']\n",
    "\n",
    "# Show\n",
    "df_dominant_topic.head(20)"
   ]
  },
  {
   "cell_type": "code",
   "execution_count": null,
   "metadata": {},
   "outputs": [],
   "source": [
    "len(df_dominant_topic)"
   ]
  },
  {
   "cell_type": "code",
   "execution_count": null,
   "metadata": {},
   "outputs": [],
   "source": [
    "df_topic_sents_keywords"
   ]
  },
  {
   "cell_type": "markdown",
   "metadata": {},
   "source": [
    "#  Find the most representative tweets for each topic"
   ]
  },
  {
   "cell_type": "code",
   "execution_count": null,
   "metadata": {},
   "outputs": [],
   "source": [
    "# Group top 5 sentences under each topic\n",
    "numero_de_tweets_por_topico = 100\n",
    "\n",
    "\n",
    "sent_topics_sorteddf_mallet = pd.DataFrame()\n",
    "sent_topics_outdf_grpd = df_topic_sents_keywords.groupby('Dominant_Topic') # esta matriz contiene todos los tweets con el porcentaje de contribucion y max topico. se agrupa y se obtiene lo q queremos\n",
    "\n",
    "for i, grp in sent_topics_outdf_grpd:\n",
    "    sent_topics_sorteddf_mallet = pd.concat([sent_topics_sorteddf_mallet, \n",
    "                                             grp.sort_values(['Perc_Contribution'], ascending=False).head(numero_de_tweets_por_topico)], \n",
    "                                            axis=0)\n",
    "\n",
    "\n",
    "# Reset Index    \n",
    "sent_topics_sorteddf_mallet.reset_index(drop=True, inplace=True)\n",
    "\n",
    "# Format\n",
    "sent_topics_sorteddf_mallet.columns = ['Topic_Num', \"Topic_Perc_Contrib\", \"Keywords\", \"Text\"]\n",
    "\n",
    "# Show\n",
    "sent_topics_sorteddf_mallet\n"
   ]
  },
  {
   "cell_type": "code",
   "execution_count": null,
   "metadata": {},
   "outputs": [],
   "source": [
    "sent_topics_sorteddf_mallet.head()"
   ]
  },
  {
   "cell_type": "code",
   "execution_count": null,
   "metadata": {},
   "outputs": [],
   "source": []
  },
  {
   "cell_type": "code",
   "execution_count": null,
   "metadata": {},
   "outputs": [],
   "source": [
    "sent_topics_sorteddf_mallet.rename(columns={\"Text\": \"clean_text\"},inplace=True)"
   ]
  },
  {
   "cell_type": "code",
   "execution_count": null,
   "metadata": {},
   "outputs": [],
   "source": [
    "sent_topics_sorteddf_mallet"
   ]
  },
  {
   "cell_type": "markdown",
   "metadata": {},
   "source": [
    "# find original text - username- created at"
   ]
  },
  {
   "cell_type": "code",
   "execution_count": null,
   "metadata": {},
   "outputs": [],
   "source": []
  },
  {
   "cell_type": "code",
   "execution_count": null,
   "metadata": {},
   "outputs": [],
   "source": [
    "sent_topics_sorteddf_mallet = pd.merge(sent_topics_sorteddf_mallet, df, on='clean_text', how='left')\n"
   ]
  },
  {
   "cell_type": "code",
   "execution_count": null,
   "metadata": {},
   "outputs": [],
   "source": [
    "from datetime import datetime"
   ]
  },
  {
   "cell_type": "code",
   "execution_count": null,
   "metadata": {},
   "outputs": [],
   "source": [
    "#ignorar para la vis por ahora\n",
    "#sent_topics_sorteddf_mallet.to_csv(\"Topic_Modeling_num_topics_\"+str(num_topic)+\"_\"+datetime.now().strftime(\"%Y_%m_%d_%H_%M\")+\".csv\")"
   ]
  },
  {
   "cell_type": "code",
   "execution_count": null,
   "metadata": {},
   "outputs": [],
   "source": [
    "sent_topics_sorteddf_mallet"
   ]
  },
  {
   "cell_type": "code",
   "execution_count": null,
   "metadata": {},
   "outputs": [],
   "source": [
    "type(sent_topics_sorteddf_mallet)"
   ]
  },
  {
   "cell_type": "code",
   "execution_count": null,
   "metadata": {},
   "outputs": [],
   "source": [
    "#corpus\n",
    "import pickle\n",
    "with open('collection_2_sent_topics_sorteddf_mallet_ldamodel', 'wb') as f:\n",
    "    pickle.dump(sent_topics_sorteddf_mallet, f)"
   ]
  },
  {
   "cell_type": "markdown",
   "metadata": {},
   "source": [
    "# Topic distribution across documents"
   ]
  },
  {
   "cell_type": "code",
   "execution_count": null,
   "metadata": {},
   "outputs": [],
   "source": [
    "# Number of Documents for Each Topic\n",
    "topic_counts = df_topic_sents_keywords['Dominant_Topic'].value_counts()\n",
    "\n",
    "# Percentage of Documents for Each Topic\n",
    "topic_contribution = round(topic_counts/topic_counts.sum(), 4)\n",
    "\n",
    "# Topic Number and Keywords\n",
    "topic_num_keywords = df_topic_sents_keywords[['Dominant_Topic', 'Topic_Keywords']]\n",
    "\n",
    "# Concatenate Column wise\n",
    "df_dominant_topics = pd.concat([topic_num_keywords.drop_duplicates(subset='Dominant_Topic', keep='first').sort_values(by=['Dominant_Topic']).reset_index(drop=True), topic_counts.sort_index(), topic_contribution.sort_index()], axis=1)\n",
    "\n",
    "# Change Column names\n",
    "df_dominant_topics.columns = ['Dominant_Topic', 'Topic_Keywords', 'Num_Documents', 'Perc_Documents']\n",
    "\n"
   ]
  },
  {
   "cell_type": "code",
   "execution_count": null,
   "metadata": {},
   "outputs": [],
   "source": [
    "#funciona perfecto\n",
    "df_dominant_topics"
   ]
  },
  {
   "cell_type": "markdown",
   "metadata": {},
   "source": [
    "# Visualize topics with Mallet"
   ]
  },
  {
   "cell_type": "code",
   "execution_count": 188,
   "metadata": {},
   "outputs": [],
   "source": [
    "prueba = gensim.models.wrappers.ldamallet.malletmodel2ldamodel(ldamallet)\n"
   ]
  },
  {
   "cell_type": "code",
   "execution_count": 189,
   "metadata": {},
   "outputs": [],
   "source": [
    "pyLDAvis.enable_notebook()\n"
   ]
  },
  {
   "cell_type": "code",
   "execution_count": 190,
   "metadata": {},
   "outputs": [
    {
     "name": "stderr",
     "output_type": "stream",
     "text": [
      "C:\\ProgramData\\Anaconda3\\lib\\site-packages\\pyLDAvis\\_prepare.py:223: RuntimeWarning: divide by zero encountered in log\n",
      "  kernel = (topic_given_term * np.log((topic_given_term.T / topic_proportion).T))\n",
      "C:\\ProgramData\\Anaconda3\\lib\\site-packages\\pyLDAvis\\_prepare.py:240: RuntimeWarning: divide by zero encountered in log\n",
      "  log_lift = np.log(topic_term_dists / term_proportion)\n",
      "C:\\ProgramData\\Anaconda3\\lib\\site-packages\\pyLDAvis\\_prepare.py:241: RuntimeWarning: divide by zero encountered in log\n",
      "  log_ttd = np.log(topic_term_dists)\n"
     ]
    },
    {
     "ename": "KeyboardInterrupt",
     "evalue": "",
     "output_type": "error",
     "traceback": [
      "\u001b[1;31m---------------------------------------------------------------------------\u001b[0m",
      "\u001b[1;31mKeyboardInterrupt\u001b[0m                         Traceback (most recent call last)",
      "\u001b[1;32m<ipython-input-190-598e3a893369>\u001b[0m in \u001b[0;36m<module>\u001b[1;34m\u001b[0m\n\u001b[1;32m----> 1\u001b[1;33m \u001b[0mdata\u001b[0m \u001b[1;33m=\u001b[0m \u001b[0mpyLDAvis\u001b[0m\u001b[1;33m.\u001b[0m\u001b[0mgensim\u001b[0m\u001b[1;33m.\u001b[0m\u001b[0mprepare\u001b[0m\u001b[1;33m(\u001b[0m\u001b[0mprueba\u001b[0m\u001b[1;33m,\u001b[0m \u001b[0mcorpus\u001b[0m\u001b[1;33m,\u001b[0m\u001b[0mid2word\u001b[0m\u001b[1;33m,\u001b[0m \u001b[0mmds\u001b[0m\u001b[1;33m=\u001b[0m\u001b[1;34m'pcoa'\u001b[0m\u001b[1;33m)\u001b[0m\u001b[1;33m\u001b[0m\u001b[1;33m\u001b[0m\u001b[0m\n\u001b[0m",
      "\u001b[1;32mC:\\ProgramData\\Anaconda3\\lib\\site-packages\\pyLDAvis\\gensim.py\u001b[0m in \u001b[0;36mprepare\u001b[1;34m(topic_model, corpus, dictionary, doc_topic_dist, **kwargs)\u001b[0m\n\u001b[0;32m    117\u001b[0m     \"\"\"\n\u001b[0;32m    118\u001b[0m     \u001b[0mopts\u001b[0m \u001b[1;33m=\u001b[0m \u001b[0mfp\u001b[0m\u001b[1;33m.\u001b[0m\u001b[0mmerge\u001b[0m\u001b[1;33m(\u001b[0m\u001b[0m_extract_data\u001b[0m\u001b[1;33m(\u001b[0m\u001b[0mtopic_model\u001b[0m\u001b[1;33m,\u001b[0m \u001b[0mcorpus\u001b[0m\u001b[1;33m,\u001b[0m \u001b[0mdictionary\u001b[0m\u001b[1;33m,\u001b[0m \u001b[0mdoc_topic_dist\u001b[0m\u001b[1;33m)\u001b[0m\u001b[1;33m,\u001b[0m \u001b[0mkwargs\u001b[0m\u001b[1;33m)\u001b[0m\u001b[1;33m\u001b[0m\u001b[1;33m\u001b[0m\u001b[0m\n\u001b[1;32m--> 119\u001b[1;33m     \u001b[1;32mreturn\u001b[0m \u001b[0mvis_prepare\u001b[0m\u001b[1;33m(\u001b[0m\u001b[1;33m**\u001b[0m\u001b[0mopts\u001b[0m\u001b[1;33m)\u001b[0m\u001b[1;33m\u001b[0m\u001b[1;33m\u001b[0m\u001b[0m\n\u001b[0m",
      "\u001b[1;32mC:\\ProgramData\\Anaconda3\\lib\\site-packages\\pyLDAvis\\_prepare.py\u001b[0m in \u001b[0;36mprepare\u001b[1;34m(topic_term_dists, doc_topic_dists, doc_lengths, vocab, term_frequency, R, lambda_step, mds, n_jobs, plot_opts, sort_topics)\u001b[0m\n\u001b[0;32m    396\u001b[0m    \u001b[0mterm_frequency\u001b[0m \u001b[1;33m=\u001b[0m \u001b[0mnp\u001b[0m\u001b[1;33m.\u001b[0m\u001b[0msum\u001b[0m\u001b[1;33m(\u001b[0m\u001b[0mterm_topic_freq\u001b[0m\u001b[1;33m,\u001b[0m \u001b[0maxis\u001b[0m\u001b[1;33m=\u001b[0m\u001b[1;36m0\u001b[0m\u001b[1;33m)\u001b[0m\u001b[1;33m\u001b[0m\u001b[1;33m\u001b[0m\u001b[0m\n\u001b[0;32m    397\u001b[0m \u001b[1;33m\u001b[0m\u001b[0m\n\u001b[1;32m--> 398\u001b[1;33m    \u001b[0mtopic_info\u001b[0m         \u001b[1;33m=\u001b[0m \u001b[0m_topic_info\u001b[0m\u001b[1;33m(\u001b[0m\u001b[0mtopic_term_dists\u001b[0m\u001b[1;33m,\u001b[0m \u001b[0mtopic_proportion\u001b[0m\u001b[1;33m,\u001b[0m \u001b[0mterm_frequency\u001b[0m\u001b[1;33m,\u001b[0m \u001b[0mterm_topic_freq\u001b[0m\u001b[1;33m,\u001b[0m \u001b[0mvocab\u001b[0m\u001b[1;33m,\u001b[0m \u001b[0mlambda_step\u001b[0m\u001b[1;33m,\u001b[0m \u001b[0mR\u001b[0m\u001b[1;33m,\u001b[0m \u001b[0mn_jobs\u001b[0m\u001b[1;33m)\u001b[0m\u001b[1;33m\u001b[0m\u001b[1;33m\u001b[0m\u001b[0m\n\u001b[0m\u001b[0;32m    399\u001b[0m    \u001b[0mtoken_table\u001b[0m        \u001b[1;33m=\u001b[0m \u001b[0m_token_table\u001b[0m\u001b[1;33m(\u001b[0m\u001b[0mtopic_info\u001b[0m\u001b[1;33m,\u001b[0m \u001b[0mterm_topic_freq\u001b[0m\u001b[1;33m,\u001b[0m \u001b[0mvocab\u001b[0m\u001b[1;33m,\u001b[0m \u001b[0mterm_frequency\u001b[0m\u001b[1;33m)\u001b[0m\u001b[1;33m\u001b[0m\u001b[1;33m\u001b[0m\u001b[0m\n\u001b[0;32m    400\u001b[0m    \u001b[0mtopic_coordinates\u001b[0m \u001b[1;33m=\u001b[0m \u001b[0m_topic_coordinates\u001b[0m\u001b[1;33m(\u001b[0m\u001b[0mmds\u001b[0m\u001b[1;33m,\u001b[0m \u001b[0mtopic_term_dists\u001b[0m\u001b[1;33m,\u001b[0m \u001b[0mtopic_proportion\u001b[0m\u001b[1;33m)\u001b[0m\u001b[1;33m\u001b[0m\u001b[1;33m\u001b[0m\u001b[0m\n",
      "\u001b[1;32mC:\\ProgramData\\Anaconda3\\lib\\site-packages\\pyLDAvis\\_prepare.py\u001b[0m in \u001b[0;36m_topic_info\u001b[1;34m(topic_term_dists, topic_proportion, term_frequency, term_topic_freq, vocab, lambda_step, R, n_jobs)\u001b[0m\n\u001b[0;32m    253\u001b[0m \u001b[1;33m\u001b[0m\u001b[0m\n\u001b[0;32m    254\u001b[0m    top_terms = pd.concat(Parallel(n_jobs=n_jobs)(delayed(_find_relevance_chunks)(log_ttd, log_lift, R, ls) \\\n\u001b[1;32m--> 255\u001b[1;33m                                                  for ls in _job_chunks(lambda_seq, n_jobs)))\n\u001b[0m\u001b[0;32m    256\u001b[0m    \u001b[0mtopic_dfs\u001b[0m \u001b[1;33m=\u001b[0m \u001b[0mmap\u001b[0m\u001b[1;33m(\u001b[0m\u001b[0mtopic_top_term_df\u001b[0m\u001b[1;33m,\u001b[0m \u001b[0menumerate\u001b[0m\u001b[1;33m(\u001b[0m\u001b[0mtop_terms\u001b[0m\u001b[1;33m.\u001b[0m\u001b[0mT\u001b[0m\u001b[1;33m.\u001b[0m\u001b[0miterrows\u001b[0m\u001b[1;33m(\u001b[0m\u001b[1;33m)\u001b[0m\u001b[1;33m,\u001b[0m \u001b[1;36m1\u001b[0m\u001b[1;33m)\u001b[0m\u001b[1;33m)\u001b[0m\u001b[1;33m\u001b[0m\u001b[1;33m\u001b[0m\u001b[0m\n\u001b[0;32m    257\u001b[0m    \u001b[1;32mreturn\u001b[0m \u001b[0mpd\u001b[0m\u001b[1;33m.\u001b[0m\u001b[0mconcat\u001b[0m\u001b[1;33m(\u001b[0m\u001b[1;33m[\u001b[0m\u001b[0mdefault_term_info\u001b[0m\u001b[1;33m]\u001b[0m \u001b[1;33m+\u001b[0m \u001b[0mlist\u001b[0m\u001b[1;33m(\u001b[0m\u001b[0mtopic_dfs\u001b[0m\u001b[1;33m)\u001b[0m\u001b[1;33m)\u001b[0m\u001b[1;33m\u001b[0m\u001b[1;33m\u001b[0m\u001b[0m\n",
      "\u001b[1;32m~\\AppData\\Roaming\\Python\\Python37\\site-packages\\joblib\\parallel.py\u001b[0m in \u001b[0;36m__call__\u001b[1;34m(self, iterable)\u001b[0m\n\u001b[0;32m   1015\u001b[0m \u001b[1;33m\u001b[0m\u001b[0m\n\u001b[0;32m   1016\u001b[0m             \u001b[1;32mwith\u001b[0m \u001b[0mself\u001b[0m\u001b[1;33m.\u001b[0m\u001b[0m_backend\u001b[0m\u001b[1;33m.\u001b[0m\u001b[0mretrieval_context\u001b[0m\u001b[1;33m(\u001b[0m\u001b[1;33m)\u001b[0m\u001b[1;33m:\u001b[0m\u001b[1;33m\u001b[0m\u001b[1;33m\u001b[0m\u001b[0m\n\u001b[1;32m-> 1017\u001b[1;33m                 \u001b[0mself\u001b[0m\u001b[1;33m.\u001b[0m\u001b[0mretrieve\u001b[0m\u001b[1;33m(\u001b[0m\u001b[1;33m)\u001b[0m\u001b[1;33m\u001b[0m\u001b[1;33m\u001b[0m\u001b[0m\n\u001b[0m\u001b[0;32m   1018\u001b[0m             \u001b[1;31m# Make sure that we get a last message telling us we are done\u001b[0m\u001b[1;33m\u001b[0m\u001b[1;33m\u001b[0m\u001b[1;33m\u001b[0m\u001b[0m\n\u001b[0;32m   1019\u001b[0m             \u001b[0melapsed_time\u001b[0m \u001b[1;33m=\u001b[0m \u001b[0mtime\u001b[0m\u001b[1;33m.\u001b[0m\u001b[0mtime\u001b[0m\u001b[1;33m(\u001b[0m\u001b[1;33m)\u001b[0m \u001b[1;33m-\u001b[0m \u001b[0mself\u001b[0m\u001b[1;33m.\u001b[0m\u001b[0m_start_time\u001b[0m\u001b[1;33m\u001b[0m\u001b[1;33m\u001b[0m\u001b[0m\n",
      "\u001b[1;32m~\\AppData\\Roaming\\Python\\Python37\\site-packages\\joblib\\parallel.py\u001b[0m in \u001b[0;36mretrieve\u001b[1;34m(self)\u001b[0m\n\u001b[0;32m    907\u001b[0m             \u001b[1;32mtry\u001b[0m\u001b[1;33m:\u001b[0m\u001b[1;33m\u001b[0m\u001b[1;33m\u001b[0m\u001b[0m\n\u001b[0;32m    908\u001b[0m                 \u001b[1;32mif\u001b[0m \u001b[0mgetattr\u001b[0m\u001b[1;33m(\u001b[0m\u001b[0mself\u001b[0m\u001b[1;33m.\u001b[0m\u001b[0m_backend\u001b[0m\u001b[1;33m,\u001b[0m \u001b[1;34m'supports_timeout'\u001b[0m\u001b[1;33m,\u001b[0m \u001b[1;32mFalse\u001b[0m\u001b[1;33m)\u001b[0m\u001b[1;33m:\u001b[0m\u001b[1;33m\u001b[0m\u001b[1;33m\u001b[0m\u001b[0m\n\u001b[1;32m--> 909\u001b[1;33m                     \u001b[0mself\u001b[0m\u001b[1;33m.\u001b[0m\u001b[0m_output\u001b[0m\u001b[1;33m.\u001b[0m\u001b[0mextend\u001b[0m\u001b[1;33m(\u001b[0m\u001b[0mjob\u001b[0m\u001b[1;33m.\u001b[0m\u001b[0mget\u001b[0m\u001b[1;33m(\u001b[0m\u001b[0mtimeout\u001b[0m\u001b[1;33m=\u001b[0m\u001b[0mself\u001b[0m\u001b[1;33m.\u001b[0m\u001b[0mtimeout\u001b[0m\u001b[1;33m)\u001b[0m\u001b[1;33m)\u001b[0m\u001b[1;33m\u001b[0m\u001b[1;33m\u001b[0m\u001b[0m\n\u001b[0m\u001b[0;32m    910\u001b[0m                 \u001b[1;32melse\u001b[0m\u001b[1;33m:\u001b[0m\u001b[1;33m\u001b[0m\u001b[1;33m\u001b[0m\u001b[0m\n\u001b[0;32m    911\u001b[0m                     \u001b[0mself\u001b[0m\u001b[1;33m.\u001b[0m\u001b[0m_output\u001b[0m\u001b[1;33m.\u001b[0m\u001b[0mextend\u001b[0m\u001b[1;33m(\u001b[0m\u001b[0mjob\u001b[0m\u001b[1;33m.\u001b[0m\u001b[0mget\u001b[0m\u001b[1;33m(\u001b[0m\u001b[1;33m)\u001b[0m\u001b[1;33m)\u001b[0m\u001b[1;33m\u001b[0m\u001b[1;33m\u001b[0m\u001b[0m\n",
      "\u001b[1;32m~\\AppData\\Roaming\\Python\\Python37\\site-packages\\joblib\\_parallel_backends.py\u001b[0m in \u001b[0;36mwrap_future_result\u001b[1;34m(future, timeout)\u001b[0m\n\u001b[0;32m    560\u001b[0m         AsyncResults.get from multiprocessing.\"\"\"\n\u001b[0;32m    561\u001b[0m         \u001b[1;32mtry\u001b[0m\u001b[1;33m:\u001b[0m\u001b[1;33m\u001b[0m\u001b[1;33m\u001b[0m\u001b[0m\n\u001b[1;32m--> 562\u001b[1;33m             \u001b[1;32mreturn\u001b[0m \u001b[0mfuture\u001b[0m\u001b[1;33m.\u001b[0m\u001b[0mresult\u001b[0m\u001b[1;33m(\u001b[0m\u001b[0mtimeout\u001b[0m\u001b[1;33m=\u001b[0m\u001b[0mtimeout\u001b[0m\u001b[1;33m)\u001b[0m\u001b[1;33m\u001b[0m\u001b[1;33m\u001b[0m\u001b[0m\n\u001b[0m\u001b[0;32m    563\u001b[0m         \u001b[1;32mexcept\u001b[0m \u001b[0mLokyTimeoutError\u001b[0m\u001b[1;33m:\u001b[0m\u001b[1;33m\u001b[0m\u001b[1;33m\u001b[0m\u001b[0m\n\u001b[0;32m    564\u001b[0m             \u001b[1;32mraise\u001b[0m \u001b[0mTimeoutError\u001b[0m\u001b[1;33m(\u001b[0m\u001b[1;33m)\u001b[0m\u001b[1;33m\u001b[0m\u001b[1;33m\u001b[0m\u001b[0m\n",
      "\u001b[1;32mC:\\ProgramData\\Anaconda3\\lib\\concurrent\\futures\\_base.py\u001b[0m in \u001b[0;36mresult\u001b[1;34m(self, timeout)\u001b[0m\n\u001b[0;32m    425\u001b[0m                 \u001b[1;32mreturn\u001b[0m \u001b[0mself\u001b[0m\u001b[1;33m.\u001b[0m\u001b[0m__get_result\u001b[0m\u001b[1;33m(\u001b[0m\u001b[1;33m)\u001b[0m\u001b[1;33m\u001b[0m\u001b[1;33m\u001b[0m\u001b[0m\n\u001b[0;32m    426\u001b[0m \u001b[1;33m\u001b[0m\u001b[0m\n\u001b[1;32m--> 427\u001b[1;33m             \u001b[0mself\u001b[0m\u001b[1;33m.\u001b[0m\u001b[0m_condition\u001b[0m\u001b[1;33m.\u001b[0m\u001b[0mwait\u001b[0m\u001b[1;33m(\u001b[0m\u001b[0mtimeout\u001b[0m\u001b[1;33m)\u001b[0m\u001b[1;33m\u001b[0m\u001b[1;33m\u001b[0m\u001b[0m\n\u001b[0m\u001b[0;32m    428\u001b[0m \u001b[1;33m\u001b[0m\u001b[0m\n\u001b[0;32m    429\u001b[0m             \u001b[1;32mif\u001b[0m \u001b[0mself\u001b[0m\u001b[1;33m.\u001b[0m\u001b[0m_state\u001b[0m \u001b[1;32min\u001b[0m \u001b[1;33m[\u001b[0m\u001b[0mCANCELLED\u001b[0m\u001b[1;33m,\u001b[0m \u001b[0mCANCELLED_AND_NOTIFIED\u001b[0m\u001b[1;33m]\u001b[0m\u001b[1;33m:\u001b[0m\u001b[1;33m\u001b[0m\u001b[1;33m\u001b[0m\u001b[0m\n",
      "\u001b[1;32mC:\\ProgramData\\Anaconda3\\lib\\threading.py\u001b[0m in \u001b[0;36mwait\u001b[1;34m(self, timeout)\u001b[0m\n\u001b[0;32m    294\u001b[0m         \u001b[1;32mtry\u001b[0m\u001b[1;33m:\u001b[0m    \u001b[1;31m# restore state no matter what (e.g., KeyboardInterrupt)\u001b[0m\u001b[1;33m\u001b[0m\u001b[1;33m\u001b[0m\u001b[0m\n\u001b[0;32m    295\u001b[0m             \u001b[1;32mif\u001b[0m \u001b[0mtimeout\u001b[0m \u001b[1;32mis\u001b[0m \u001b[1;32mNone\u001b[0m\u001b[1;33m:\u001b[0m\u001b[1;33m\u001b[0m\u001b[1;33m\u001b[0m\u001b[0m\n\u001b[1;32m--> 296\u001b[1;33m                 \u001b[0mwaiter\u001b[0m\u001b[1;33m.\u001b[0m\u001b[0macquire\u001b[0m\u001b[1;33m(\u001b[0m\u001b[1;33m)\u001b[0m\u001b[1;33m\u001b[0m\u001b[1;33m\u001b[0m\u001b[0m\n\u001b[0m\u001b[0;32m    297\u001b[0m                 \u001b[0mgotit\u001b[0m \u001b[1;33m=\u001b[0m \u001b[1;32mTrue\u001b[0m\u001b[1;33m\u001b[0m\u001b[1;33m\u001b[0m\u001b[0m\n\u001b[0;32m    298\u001b[0m             \u001b[1;32melse\u001b[0m\u001b[1;33m:\u001b[0m\u001b[1;33m\u001b[0m\u001b[1;33m\u001b[0m\u001b[0m\n",
      "\u001b[1;31mKeyboardInterrupt\u001b[0m: "
     ]
    }
   ],
   "source": [
    "data = pyLDAvis.gensim.prepare(prueba, corpus,id2word, mds='pcoa')\n"
   ]
  },
  {
   "cell_type": "code",
   "execution_count": null,
   "metadata": {},
   "outputs": [],
   "source": [
    "type(data)"
   ]
  },
  {
   "cell_type": "code",
   "execution_count": null,
   "metadata": {},
   "outputs": [],
   "source": [
    "#data.to_\n",
    "pyLDAvis.save_html(data, \"Topic_Modeling_num_topics_\"+str(num_topic)+\"_\"+datetime.now().strftime(\"%Y_%m_%d_%H_%M\")+\".html\")\n"
   ]
  },
  {
   "cell_type": "code",
   "execution_count": 197,
   "metadata": {},
   "outputs": [
    {
     "data": {
      "text/html": [
       "\n",
       "<link rel=\"stylesheet\" type=\"text/css\" href=\"https://cdn.rawgit.com/bmabey/pyLDAvis/files/ldavis.v1.0.0.css\">\n",
       "\n",
       "\n",
       "<div id=\"ldavis_el2147625387042243282237799608\"></div>\n",
       "<script type=\"text/javascript\">\n",
       "\n",
       "var ldavis_el2147625387042243282237799608_data = {\"mdsDat\": {\"x\": [0.04673194053527145, 0.1304257368058635, -0.07149789734103823, 0.012480086974443628, 0.05808997998364722, 0.08151458303943494, -0.23494685475198335, 0.122399962736489, 0.12101666932334784, -0.27836565601011526, 0.08909420633476228, 0.0698425730693811, 0.0994448415057659, -0.307783012016301, 0.061552839811031525], \"y\": [-0.21137371020686183, -0.02881706016257545, 0.20580570666714268, 0.24874851871140194, -0.039805329100872935, -0.12769887125065182, 0.07587047506227587, 0.09316111707588169, -0.015839411642857834, -0.029841896807159245, 0.09089110849704944, -0.0013600758580099076, 0.10508404270764589, -0.11372793583300336, -0.25109667785940415], \"topics\": [1, 2, 3, 4, 5, 6, 7, 8, 9, 10, 11, 12, 13, 14, 15], \"cluster\": [1, 1, 1, 1, 1, 1, 1, 1, 1, 1, 1, 1, 1, 1, 1], \"Freq\": [6.7648752838621125, 6.761232918092111, 6.733116094390758, 6.7206596199521424, 6.702761885669045, 6.701299008268672, 6.69763505302324, 6.668188439972016, 6.659188655898634, 6.646310885289933, 6.6357777982917145, 6.621511159859537, 6.592423367401573, 6.590167525627513, 6.504852304401003]}, \"tinfo\": {\"Category\": [\"Default\", \"Default\", \"Default\", \"Default\", \"Default\", \"Default\", \"Default\", \"Default\", \"Default\", \"Default\", \"Default\", \"Default\", \"Default\", \"Default\", \"Default\", \"Default\", \"Default\", \"Default\", \"Default\", \"Default\", \"Default\", \"Default\", \"Default\", \"Default\", \"Default\", \"Default\", \"Default\", \"Default\", \"Default\", \"Default\", \"Topic1\", \"Topic1\", \"Topic1\", \"Topic1\", \"Topic1\", \"Topic1\", \"Topic1\", \"Topic1\", \"Topic1\", \"Topic1\", \"Topic1\", \"Topic1\", \"Topic1\", \"Topic1\", \"Topic1\", \"Topic1\", \"Topic1\", \"Topic1\", \"Topic1\", \"Topic1\", \"Topic1\", \"Topic1\", \"Topic1\", \"Topic1\", \"Topic1\", \"Topic1\", \"Topic1\", \"Topic1\", \"Topic1\", \"Topic1\", \"Topic1\", \"Topic1\", \"Topic1\", \"Topic1\", \"Topic1\", \"Topic1\", \"Topic1\", \"Topic1\", \"Topic1\", \"Topic1\", \"Topic1\", \"Topic1\", \"Topic1\", \"Topic1\", \"Topic1\", \"Topic1\", \"Topic1\", \"Topic1\", \"Topic1\", \"Topic1\", \"Topic1\", \"Topic1\", \"Topic1\", \"Topic1\", \"Topic1\", \"Topic1\", \"Topic1\", \"Topic1\", \"Topic1\", \"Topic1\", \"Topic1\", \"Topic1\", \"Topic1\", \"Topic1\", \"Topic1\", \"Topic1\", \"Topic1\", \"Topic1\", \"Topic2\", \"Topic2\", \"Topic2\", \"Topic2\", \"Topic2\", \"Topic2\", \"Topic2\", \"Topic2\", \"Topic2\", \"Topic2\", \"Topic2\", \"Topic2\", \"Topic2\", \"Topic2\", \"Topic2\", \"Topic2\", \"Topic2\", \"Topic2\", \"Topic2\", \"Topic2\", \"Topic2\", \"Topic2\", \"Topic2\", \"Topic2\", \"Topic2\", \"Topic2\", \"Topic2\", \"Topic2\", \"Topic2\", \"Topic2\", \"Topic2\", \"Topic2\", \"Topic2\", \"Topic2\", \"Topic2\", \"Topic2\", \"Topic2\", \"Topic2\", \"Topic2\", \"Topic2\", \"Topic2\", \"Topic2\", \"Topic2\", \"Topic2\", \"Topic2\", \"Topic2\", \"Topic2\", \"Topic2\", \"Topic2\", \"Topic2\", \"Topic2\", \"Topic2\", \"Topic2\", \"Topic2\", \"Topic2\", \"Topic2\", \"Topic2\", \"Topic2\", \"Topic2\", \"Topic2\", \"Topic2\", \"Topic2\", \"Topic2\", \"Topic2\", \"Topic2\", \"Topic2\", \"Topic2\", \"Topic2\", \"Topic2\", \"Topic2\", \"Topic2\", \"Topic2\", \"Topic2\", \"Topic2\", \"Topic2\", \"Topic2\", \"Topic2\", \"Topic3\", \"Topic3\", \"Topic3\", \"Topic3\", \"Topic3\", \"Topic3\", \"Topic3\", \"Topic3\", \"Topic3\", \"Topic3\", \"Topic3\", \"Topic3\", \"Topic3\", \"Topic3\", \"Topic3\", \"Topic3\", \"Topic3\", \"Topic3\", \"Topic3\", \"Topic3\", \"Topic3\", \"Topic3\", \"Topic3\", \"Topic3\", \"Topic3\", \"Topic3\", \"Topic3\", \"Topic3\", \"Topic3\", \"Topic3\", \"Topic3\", \"Topic3\", \"Topic3\", \"Topic3\", \"Topic3\", \"Topic3\", \"Topic3\", \"Topic3\", \"Topic3\", \"Topic3\", \"Topic3\", \"Topic3\", \"Topic3\", \"Topic3\", \"Topic3\", \"Topic3\", \"Topic3\", \"Topic3\", \"Topic3\", \"Topic3\", \"Topic3\", \"Topic3\", \"Topic3\", \"Topic3\", \"Topic3\", \"Topic3\", \"Topic3\", \"Topic3\", \"Topic3\", \"Topic3\", \"Topic3\", \"Topic3\", \"Topic3\", \"Topic3\", \"Topic3\", \"Topic3\", \"Topic3\", \"Topic3\", \"Topic4\", \"Topic4\", \"Topic4\", \"Topic4\", \"Topic4\", \"Topic4\", \"Topic4\", \"Topic4\", \"Topic4\", \"Topic4\", \"Topic4\", \"Topic4\", \"Topic4\", \"Topic4\", \"Topic4\", \"Topic4\", \"Topic4\", \"Topic4\", \"Topic4\", \"Topic4\", \"Topic4\", \"Topic4\", \"Topic4\", \"Topic4\", \"Topic4\", \"Topic4\", \"Topic4\", \"Topic4\", \"Topic4\", \"Topic4\", \"Topic4\", \"Topic4\", \"Topic4\", \"Topic4\", \"Topic4\", \"Topic4\", \"Topic4\", \"Topic4\", \"Topic4\", \"Topic4\", \"Topic4\", \"Topic4\", \"Topic4\", \"Topic4\", \"Topic4\", \"Topic4\", \"Topic4\", \"Topic4\", \"Topic4\", \"Topic4\", \"Topic4\", \"Topic4\", \"Topic4\", \"Topic4\", \"Topic4\", \"Topic4\", \"Topic4\", \"Topic4\", \"Topic4\", \"Topic4\", \"Topic4\", \"Topic4\", \"Topic4\", \"Topic4\", \"Topic4\", \"Topic4\", \"Topic4\", \"Topic4\", \"Topic4\", \"Topic4\", \"Topic4\", \"Topic4\", \"Topic4\", \"Topic4\", \"Topic4\", \"Topic4\", \"Topic4\", \"Topic4\", \"Topic5\", \"Topic5\", \"Topic5\", \"Topic5\", \"Topic5\", \"Topic5\", \"Topic5\", \"Topic5\", \"Topic5\", \"Topic5\", \"Topic5\", \"Topic5\", \"Topic5\", \"Topic5\", \"Topic5\", \"Topic5\", \"Topic5\", \"Topic5\", \"Topic5\", \"Topic5\", \"Topic5\", \"Topic5\", \"Topic5\", \"Topic5\", \"Topic5\", \"Topic5\", \"Topic5\", \"Topic5\", \"Topic5\", \"Topic5\", \"Topic5\", \"Topic5\", \"Topic5\", \"Topic5\", \"Topic5\", \"Topic5\", \"Topic5\", \"Topic5\", \"Topic5\", \"Topic5\", \"Topic5\", \"Topic5\", \"Topic5\", \"Topic5\", \"Topic5\", \"Topic5\", \"Topic5\", \"Topic5\", \"Topic5\", \"Topic5\", \"Topic5\", \"Topic5\", \"Topic5\", \"Topic5\", \"Topic5\", \"Topic5\", \"Topic5\", \"Topic5\", \"Topic5\", \"Topic5\", \"Topic5\", \"Topic5\", \"Topic5\", \"Topic5\", \"Topic5\", \"Topic5\", \"Topic5\", \"Topic5\", \"Topic5\", \"Topic5\", \"Topic5\", \"Topic5\", \"Topic5\", \"Topic5\", \"Topic5\", \"Topic5\", \"Topic5\", \"Topic5\", \"Topic5\", \"Topic6\", \"Topic6\", \"Topic6\", \"Topic6\", \"Topic6\", \"Topic6\", \"Topic6\", \"Topic6\", \"Topic6\", \"Topic6\", \"Topic6\", \"Topic6\", \"Topic6\", \"Topic6\", \"Topic6\", \"Topic6\", \"Topic6\", \"Topic6\", \"Topic6\", \"Topic6\", \"Topic6\", \"Topic6\", \"Topic6\", \"Topic6\", \"Topic6\", \"Topic6\", \"Topic6\", \"Topic6\", \"Topic6\", \"Topic6\", \"Topic6\", \"Topic6\", \"Topic6\", \"Topic6\", \"Topic6\", \"Topic6\", \"Topic6\", \"Topic6\", \"Topic6\", \"Topic6\", \"Topic6\", \"Topic6\", \"Topic6\", \"Topic6\", \"Topic6\", \"Topic6\", \"Topic6\", \"Topic6\", \"Topic6\", \"Topic6\", \"Topic6\", \"Topic6\", \"Topic6\", \"Topic6\", \"Topic6\", \"Topic6\", \"Topic6\", \"Topic6\", \"Topic6\", \"Topic6\", \"Topic6\", \"Topic6\", \"Topic6\", \"Topic6\", \"Topic6\", \"Topic6\", \"Topic6\", \"Topic6\", \"Topic6\", \"Topic6\", \"Topic6\", \"Topic6\", \"Topic6\", \"Topic6\", \"Topic6\", \"Topic6\", \"Topic6\", \"Topic6\", \"Topic6\", \"Topic6\", \"Topic7\", \"Topic7\", \"Topic7\", \"Topic7\", \"Topic7\", \"Topic7\", \"Topic7\", \"Topic7\", \"Topic7\", \"Topic7\", \"Topic7\", \"Topic7\", \"Topic7\", \"Topic7\", \"Topic7\", \"Topic7\", \"Topic7\", \"Topic7\", \"Topic7\", \"Topic7\", \"Topic7\", \"Topic7\", \"Topic7\", \"Topic7\", \"Topic7\", \"Topic7\", \"Topic7\", \"Topic7\", \"Topic7\", \"Topic7\", \"Topic7\", \"Topic7\", \"Topic7\", \"Topic7\", \"Topic7\", \"Topic7\", \"Topic7\", \"Topic7\", \"Topic7\", \"Topic7\", \"Topic7\", \"Topic7\", \"Topic7\", \"Topic7\", \"Topic7\", \"Topic7\", \"Topic7\", \"Topic7\", \"Topic7\", \"Topic7\", \"Topic7\", \"Topic7\", \"Topic7\", \"Topic7\", \"Topic7\", \"Topic7\", \"Topic7\", \"Topic7\", \"Topic7\", \"Topic7\", \"Topic7\", \"Topic7\", \"Topic7\", \"Topic7\", \"Topic7\", \"Topic7\", \"Topic7\", \"Topic7\", \"Topic7\", \"Topic7\", \"Topic7\", \"Topic7\", \"Topic7\", \"Topic7\", \"Topic7\", \"Topic7\", \"Topic7\", \"Topic7\", \"Topic7\", \"Topic8\", \"Topic8\", \"Topic8\", \"Topic8\", \"Topic8\", \"Topic8\", \"Topic8\", \"Topic8\", \"Topic8\", \"Topic8\", \"Topic8\", \"Topic8\", \"Topic8\", \"Topic8\", \"Topic8\", \"Topic8\", \"Topic8\", \"Topic8\", \"Topic8\", \"Topic8\", \"Topic8\", \"Topic8\", \"Topic8\", \"Topic8\", \"Topic8\", \"Topic8\", \"Topic8\", \"Topic8\", \"Topic8\", \"Topic8\", \"Topic8\", \"Topic8\", \"Topic8\", \"Topic8\", \"Topic8\", \"Topic8\", \"Topic8\", \"Topic8\", \"Topic8\", \"Topic8\", \"Topic8\", \"Topic8\", \"Topic8\", \"Topic8\", \"Topic8\", \"Topic8\", \"Topic8\", \"Topic8\", \"Topic8\", \"Topic8\", \"Topic8\", \"Topic8\", \"Topic8\", \"Topic8\", \"Topic8\", \"Topic8\", \"Topic8\", \"Topic8\", \"Topic8\", \"Topic8\", \"Topic8\", \"Topic8\", \"Topic8\", \"Topic8\", \"Topic8\", \"Topic8\", \"Topic8\", \"Topic8\", \"Topic8\", \"Topic8\", \"Topic8\", \"Topic8\", \"Topic8\", \"Topic8\", \"Topic8\", \"Topic8\", \"Topic8\", \"Topic8\", \"Topic9\", \"Topic9\", \"Topic9\", \"Topic9\", \"Topic9\", \"Topic9\", \"Topic9\", \"Topic9\", \"Topic9\", \"Topic9\", \"Topic9\", \"Topic9\", \"Topic9\", \"Topic9\", \"Topic9\", \"Topic9\", \"Topic9\", \"Topic9\", \"Topic9\", \"Topic9\", \"Topic9\", \"Topic9\", \"Topic9\", \"Topic9\", \"Topic9\", \"Topic9\", \"Topic9\", \"Topic9\", \"Topic9\", \"Topic9\", \"Topic9\", \"Topic9\", \"Topic9\", \"Topic9\", \"Topic9\", \"Topic9\", \"Topic9\", \"Topic9\", \"Topic9\", \"Topic9\", \"Topic9\", \"Topic9\", \"Topic9\", \"Topic9\", \"Topic9\", \"Topic9\", \"Topic9\", \"Topic9\", \"Topic9\", \"Topic9\", \"Topic9\", \"Topic9\", \"Topic9\", \"Topic9\", \"Topic9\", \"Topic9\", \"Topic9\", \"Topic9\", \"Topic9\", \"Topic9\", \"Topic9\", \"Topic9\", \"Topic9\", \"Topic9\", \"Topic9\", \"Topic9\", \"Topic9\", \"Topic9\", \"Topic9\", \"Topic9\", \"Topic9\", \"Topic9\", \"Topic9\", \"Topic9\", \"Topic10\", \"Topic10\", \"Topic10\", \"Topic10\", \"Topic10\", \"Topic10\", \"Topic10\", \"Topic10\", \"Topic10\", \"Topic10\", \"Topic10\", \"Topic10\", \"Topic10\", \"Topic10\", \"Topic10\", \"Topic10\", \"Topic10\", \"Topic10\", \"Topic10\", \"Topic10\", \"Topic10\", \"Topic10\", \"Topic10\", \"Topic10\", \"Topic10\", \"Topic10\", \"Topic10\", \"Topic10\", \"Topic10\", \"Topic10\", \"Topic10\", \"Topic10\", \"Topic10\", \"Topic10\", \"Topic10\", \"Topic10\", \"Topic10\", \"Topic10\", \"Topic10\", \"Topic10\", \"Topic10\", \"Topic10\", \"Topic10\", \"Topic10\", \"Topic10\", \"Topic10\", \"Topic10\", \"Topic10\", \"Topic10\", \"Topic10\", \"Topic10\", \"Topic10\", \"Topic10\", \"Topic10\", \"Topic10\", \"Topic10\", \"Topic10\", \"Topic10\", \"Topic10\", \"Topic10\", \"Topic10\", \"Topic10\", \"Topic10\", \"Topic10\", \"Topic10\", \"Topic10\", \"Topic10\", \"Topic10\", \"Topic10\", \"Topic10\", \"Topic10\", \"Topic10\", \"Topic10\", \"Topic11\", \"Topic11\", \"Topic11\", \"Topic11\", \"Topic11\", \"Topic11\", \"Topic11\", \"Topic11\", \"Topic11\", \"Topic11\", \"Topic11\", \"Topic11\", \"Topic11\", \"Topic11\", \"Topic11\", \"Topic11\", \"Topic11\", \"Topic11\", \"Topic11\", \"Topic11\", \"Topic11\", \"Topic11\", \"Topic11\", \"Topic11\", \"Topic11\", \"Topic11\", \"Topic11\", \"Topic11\", \"Topic11\", \"Topic11\", \"Topic11\", \"Topic11\", \"Topic11\", \"Topic11\", \"Topic11\", \"Topic11\", \"Topic11\", \"Topic11\", \"Topic11\", \"Topic11\", \"Topic11\", \"Topic11\", \"Topic11\", \"Topic11\", \"Topic11\", \"Topic11\", \"Topic11\", \"Topic11\", \"Topic11\", \"Topic11\", \"Topic11\", \"Topic11\", \"Topic11\", \"Topic11\", \"Topic11\", \"Topic11\", \"Topic11\", \"Topic11\", \"Topic11\", \"Topic11\", \"Topic11\", \"Topic11\", \"Topic11\", \"Topic11\", \"Topic11\", \"Topic11\", \"Topic11\", \"Topic11\", \"Topic11\", \"Topic11\", \"Topic11\", \"Topic11\", \"Topic11\", \"Topic11\", \"Topic11\", \"Topic11\", \"Topic11\", \"Topic12\", \"Topic12\", \"Topic12\", \"Topic12\", \"Topic12\", \"Topic12\", \"Topic12\", \"Topic12\", \"Topic12\", \"Topic12\", \"Topic12\", \"Topic12\", \"Topic12\", \"Topic12\", \"Topic12\", \"Topic12\", \"Topic12\", \"Topic12\", \"Topic12\", \"Topic12\", \"Topic12\", \"Topic12\", \"Topic12\", \"Topic12\", \"Topic12\", \"Topic12\", \"Topic12\", \"Topic12\", \"Topic12\", \"Topic12\", \"Topic12\", \"Topic12\", \"Topic12\", \"Topic12\", \"Topic12\", \"Topic12\", \"Topic12\", \"Topic12\", \"Topic12\", \"Topic12\", \"Topic12\", \"Topic12\", \"Topic12\", \"Topic12\", \"Topic12\", \"Topic12\", \"Topic12\", \"Topic12\", \"Topic12\", \"Topic12\", \"Topic12\", \"Topic12\", \"Topic12\", \"Topic12\", \"Topic12\", \"Topic12\", \"Topic12\", \"Topic12\", \"Topic12\", \"Topic12\", \"Topic12\", \"Topic12\", \"Topic12\", \"Topic12\", \"Topic12\", \"Topic12\", \"Topic12\", \"Topic12\", \"Topic12\", \"Topic12\", \"Topic12\", \"Topic12\", \"Topic12\", \"Topic12\", \"Topic13\", \"Topic13\", \"Topic13\", \"Topic13\", \"Topic13\", \"Topic13\", \"Topic13\", \"Topic13\", \"Topic13\", \"Topic13\", \"Topic13\", \"Topic13\", \"Topic13\", \"Topic13\", \"Topic13\", \"Topic13\", \"Topic13\", \"Topic13\", \"Topic13\", \"Topic13\", \"Topic13\", \"Topic13\", \"Topic13\", \"Topic13\", \"Topic13\", \"Topic13\", \"Topic13\", \"Topic13\", \"Topic13\", \"Topic13\", \"Topic13\", \"Topic13\", \"Topic13\", \"Topic13\", \"Topic13\", \"Topic13\", \"Topic13\", \"Topic13\", \"Topic13\", \"Topic13\", \"Topic13\", \"Topic13\", \"Topic13\", \"Topic13\", \"Topic13\", \"Topic13\", \"Topic13\", \"Topic13\", \"Topic13\", \"Topic13\", \"Topic13\", \"Topic13\", \"Topic13\", \"Topic13\", \"Topic13\", \"Topic13\", \"Topic13\", \"Topic13\", \"Topic13\", \"Topic13\", \"Topic13\", \"Topic13\", \"Topic13\", \"Topic13\", \"Topic13\", \"Topic13\", \"Topic13\", \"Topic13\", \"Topic14\", \"Topic14\", \"Topic14\", \"Topic14\", \"Topic14\", \"Topic14\", \"Topic14\", \"Topic14\", \"Topic14\", \"Topic14\", \"Topic14\", \"Topic14\", \"Topic14\", \"Topic14\", \"Topic14\", \"Topic14\", \"Topic14\", \"Topic14\", \"Topic14\", \"Topic14\", \"Topic14\", \"Topic14\", \"Topic14\", \"Topic14\", \"Topic14\", \"Topic14\", \"Topic14\", \"Topic14\", \"Topic14\", \"Topic14\", \"Topic14\", \"Topic14\", \"Topic14\", \"Topic14\", \"Topic14\", \"Topic14\", \"Topic14\", \"Topic14\", \"Topic14\", \"Topic14\", \"Topic14\", \"Topic14\", \"Topic14\", \"Topic14\", \"Topic14\", \"Topic14\", \"Topic14\", \"Topic14\", \"Topic14\", \"Topic14\", \"Topic14\", \"Topic14\", \"Topic14\", \"Topic14\", \"Topic14\", \"Topic14\", \"Topic14\", \"Topic14\", \"Topic14\", \"Topic14\", \"Topic14\", \"Topic14\", \"Topic14\", \"Topic14\", \"Topic14\", \"Topic14\", \"Topic14\", \"Topic14\", \"Topic14\", \"Topic14\", \"Topic14\", \"Topic14\", \"Topic15\", \"Topic15\", \"Topic15\", \"Topic15\", \"Topic15\", \"Topic15\", \"Topic15\", \"Topic15\", \"Topic15\", \"Topic15\", \"Topic15\", \"Topic15\", \"Topic15\", \"Topic15\", \"Topic15\", \"Topic15\", \"Topic15\", \"Topic15\", \"Topic15\", \"Topic15\", \"Topic15\", \"Topic15\", \"Topic15\", \"Topic15\", \"Topic15\", \"Topic15\", \"Topic15\", \"Topic15\", \"Topic15\", \"Topic15\", \"Topic15\", \"Topic15\", \"Topic15\", \"Topic15\", \"Topic15\", \"Topic15\", \"Topic15\", \"Topic15\", \"Topic15\", \"Topic15\", \"Topic15\", \"Topic15\", \"Topic15\", \"Topic15\", \"Topic15\", \"Topic15\", \"Topic15\", \"Topic15\", \"Topic15\", \"Topic15\", \"Topic15\", \"Topic15\", \"Topic15\", \"Topic15\", \"Topic15\", \"Topic15\", \"Topic15\", \"Topic15\", \"Topic15\", \"Topic15\", \"Topic15\", \"Topic15\", \"Topic15\", \"Topic15\", \"Topic15\", \"Topic15\"], \"Freq\": [14729.0, 6634.0, 6620.0, 6223.0, 7763.0, 6423.0, 8775.0, 4748.0, 4578.0, 4415.0, 7852.0, 4336.0, 4180.0, 4008.0, 3516.0, 4719.0, 3400.0, 4369.0, 3074.0, 5398.0, 3368.0, 5248.0, 2937.0, 2930.0, 2687.0, 2640.0, 4131.0, 2576.0, 2517.0, 2485.0, 1.0029119180361177, 5.014559590180589, 1.0029119180361177, 289.84154431243803, 1.0029119180361177, 10.029119180361178, 1.0029119180361177, 1.0029119180361177, 9.02620726232506, 5.014559590180589, 1.0029119180361177, 152.4426115414899, 1.0029119180361177, 1.0029119180361177, 1.0029119180361177, 1.0029119180361177, 10.029119180361178, 4.011647672144471, 13.037854934469532, 1.0029119180361177, 1.0029119180361177, 1.0029119180361177, 5.014559590180589, 9.02620726232506, 4.011647672144471, 583.6947362970205, 4.011647672144471, 5.014559590180589, 2.0058238360722354, 146.4251400332732, 1087.1565191511518, 914.6556692489394, 882.5624878717836, 663.92768973991, 596.7325912314901, 582.6918243789844, 566.6452336904065, 478.3889849032282, 473.3744253130476, 554.610290673973, 448.30162736214464, 609.7704461659596, 438.27250818178345, 431.2521247555306, 696.0208711170658, 384.11526460783307, 370.07449775532746, 353.02499514871346, 345.0016998044245, 345.0016998044245, 335.97549254209946, 424.23174132927784, 332.9667567879911, 328.95510911584665, 376.0919692635442, 283.8240728042214, 282.8211608861852, 350.01625939460513, 533.5491403952146, 503.4617828541311, 600.7442389036346, 457.3278346244697, 1856.389960284854, 669.9451612481266, 1058.0720735281043, 462.3423942146503, 424.23174132927784, 453.3161869523252, 606.2250595505935, 9.970806900503183, 16.950371730855412, 9.970806900503183, 6.979564830352229, 13.959129660704457, 19.941613801006365, 9.970806900503183, 4.985403450251591, 8.973726210452865, 4.985403450251591, 40.880308292063056, 4.985403450251591, 32.90366277166051, 8.973726210452865, 6.979564830352229, 18.944533110956048, 18.944533110956048, 29.912420701509554, 29.912420701509554, 4.985403450251591, 71.78980968362292, 32.90366277166051, 4.985403450251591, 8.973726210452865, 16.950371730855412, 17.94745242090573, 9.970806900503183, 6.979564830352229, 50.85111519256624, 2517.628742377054, 1250.3391853230994, 1054.9113700732369, 942.2412520975508, 988.1069638398656, 793.6762292800535, 766.7550506486948, 590.2717685097886, 586.2834457495873, 574.3184774689834, 539.4206533172222, 402.8205987803286, 561.3564284983293, 692.9710795849713, 322.0570628862528, 406.8089215405299, 315.0774980559006, 461.64835949329745, 250.26725320262995, 250.26725320262995, 381.8819042892719, 215.36942905086875, 207.39278353046623, 184.4599276593089, 170.50079799860444, 168.50663661850382, 157.5387490279503, 146.57086143739681, 143.57961936724584, 319.06582081610185, 280.17967390413946, 356.95488703801396, 352.9665642778127, 366.9256939385172, 254.25557596283122, 2184.603791900248, 462.6454401833478, 684.9944340645687, 963.1799465886075, 1076.847145254344, 899.3667824253872, 1144.6486321777656, 870.4514424139279, 781.7112609994497, 1078.8413066344444, 712.9126933859777, 387.86438842957386, 16.57851904388378, 10.727277028395386, 589.0250295591649, 42.909108113581546, 16.57851904388378, 21.454554056790773, 42.909108113581546, 16.57851904388378, 10.727277028395386, 16.57851904388378, 10.727277028395386, 21.454554056790773, 51.68597113681414, 10.727277028395386, 294.51251477958243, 10.727277028395386, 10.727277028395386, 535.388644417188, 10.727277028395386, 10.727277028395386, 10.727277028395386, 51.68597113681414, 0.975207002581399, 0.975207002581399, 0.975207002581399, 0.975207002581399, 0.975207002581399, 0.975207002581399, 0.975207002581399, 0.975207002581399, 4330.8942984639925, 2936.3482847725923, 2442.8935414664043, 1709.5378755251922, 1654.926283380634, 1574.9593091689594, 1129.2897089892601, 1123.4384669737715, 958.6284835375151, 831.8515732019332, 610.4795836159557, 526.6117813939554, 593.901064572072, 493.4547433061878, 469.07456824165286, 459.3224982158389, 381.305938009327, 360.8265909551176, 297.4381357873267, 284.76044475376847, 276.9587887331173, 423.2398391203271, 251.60340666600092, 762.611876018654, 235.02488762211715, 231.12405961179155, 228.19843860404734, 625.1076886546767, 313.04144782862903, 354.9753489396292, 281.8348237460243, 1801.2073337678437, 751.8845989902585, 2325.8687011566367, 657.2895197398628, 884.5127513413288, 408.61173408160613, 707.0250768715142, 1.0001589726258773, 1.0001589726258773, 4.000635890503509, 1.0001589726258773, 1.0001589726258773, 26.004133288272808, 2.0003179452517545, 1.0001589726258773, 1.0001589726258773, 5.0007948631293875, 1.0001589726258773, 1.0001589726258773, 1.0001589726258773, 5.0007948631293875, 2.0003179452517545, 1.0001589726258773, 71.0112870564373, 1.0001589726258773, 16.002543562014036, 1.0001589726258773, 1.0001589726258773, 1.0001589726258773, 1.0001589726258773, 1.0001589726258773, 4.000635890503509, 1.0001589726258773, 1.0001589726258773, 1.0001589726258773, 1.0001589726258773, 2.0003179452517545, 1975.3139709361078, 1806.2871045623344, 1839.2923506589884, 1613.2564228455403, 1287.204597769504, 1407.2236744846095, 626.0995168637993, 580.0922041230089, 752.1195474146598, 1188.1888594795423, 465.073922271033, 343.0545276106759, 257.0408559648505, 254.04037904697284, 400.0635890503509, 722.1147782358834, 238.0378354849588, 228.03624575870003, 218.03465603244126, 205.03258938830484, 194.03084068942022, 170.02702534639914, 676.1074654950932, 156.02479972963687, 142.0225741128746, 140.02225616762283, 220.03497397769303, 330.0524609665395, 129.02050746873817, 126.02003055086054, 343.0545276106759, 233.03704062182942, 189.03004582629083, 348.0553224738053, 340.0540506927983, 5986.951610138502, 212.033702196686, 1547.2459306522321, 1041.1654905035384, 2439.387734234515, 611.097132274411, 379.0602506252075, 883.1403728286497, 670.1065116593378, 1676.2664381209704, 1015.1613572152655, 414.0658146671132, 688.1093731666036, 1.004167342494445, 1.004167342494445, 4.01666936997778, 1.004167342494445, 1.004167342494445, 4.01666936997778, 1.004167342494445, 2.00833468498889, 1.004167342494445, 1.004167342494445, 1.004167342494445, 8.03333873995556, 1.004167342494445, 1.004167342494445, 1.004167342494445, 1.004167342494445, 4.01666936997778, 1.004167342494445, 3.0125020274833356, 1.004167342494445, 1.004167342494445, 4.01666936997778, 3.0125020274833356, 3.0125020274833356, 1.004167342494445, 1.004167342494445, 1.004167342494445, 6.025004054966671, 5.020836712472226, 1.004167342494445, 4748.707362656231, 1850.6804122172623, 1580.5593970862567, 904.7547755874951, 945.9256366297673, 1132.7007623337342, 620.5754176615671, 611.5379115791171, 517.1461813846392, 1047.3465382217064, 681.8296255537283, 968.0173181646452, 387.60859420285584, 802.3297066530617, 447.85863475252256, 413.7169451077114, 284.17935792592795, 764.1713476382728, 257.06683967857794, 257.06683967857794, 456.8961408349725, 166.69177885407788, 164.683444169089, 163.67927682659456, 159.66260745661677, 158.65844011412236, 152.63343605915566, 148.6167666891779, 140.58342794922234, 139.57926060672787, 281.1668558984447, 331.37522302316694, 1127.679925621262, 1574.5343930312902, 286.1876926109169, 482.0003243973337, 269.11684778851134, 194.80846444392236, 236.98349282868907, 406.6877737102503, 2190.0889739803847, 2326.6557325596295, 1141.7382684161842, 355.47523924303357, 538.2336955770227, 709.9463111435728, 733.0421600209451, 1216.046651760773, 647.6879359089172, 1.0098361534249882, 1.0098361534249882, 1.0098361534249882, 1.0098361534249882, 1.0098361534249882, 1.0098361534249882, 8.078689227399906, 1.0098361534249882, 1.0098361534249882, 2.0196723068499765, 1.0098361534249882, 1.0098361534249882, 1.0098361534249882, 1.0098361534249882, 1.0098361534249882, 1.0098361534249882, 1.0098361534249882, 1.0098361534249882, 1.0098361534249882, 1.0098361534249882, 2.0196723068499765, 1.0098361534249882, 8.078689227399906, 1.0098361534249882, 8.078689227399906, 1.0098361534249882, 1.0098361534249882, 1.0098361534249882, 1.0098361534249882, 1.0098361534249882, 2639.7117050529196, 1123.9476387620118, 782.623018904366, 765.4558042961412, 1235.0296156387608, 591.7639859070431, 677.6000589481671, 547.3311951563437, 529.1541443946938, 587.7246412933432, 429.18036520562003, 363.5410152329958, 313.04920756174636, 300.93117372064654, 271.64592527132186, 257.508219123372, 255.48854681652205, 254.47871066309705, 338.2951113973711, 564.4984097645685, 230.24264298089733, 220.14428144664743, 219.13444529322246, 199.9475583781477, 191.8688691507478, 190.8590329973228, 189.8491968438978, 531.1738167015438, 171.67214608224802, 153.4950953205982, 289.82297603297167, 546.3213590029187, 636.1967766577426, 262.557399890497, 257.508219123372, 223.1737899069224, 461.49512211521966, 619.0295620495178, 399.8951167562954, 1286.5312594634352, 2781.0887665324176, 1483.4493093813078, 380.7082298412206, 461.49512211521966, 551.3705397700436, 346.373800624771, 531.1738167015438, 408.9836421371203, 838.1640073427403, 351.4229813918959, 1.0081371088304205, 1.0081371088304205, 1.0081371088304205, 12.097645305965045, 8.065096870643364, 10.081371088304204, 3.0244113264912613, 19.154605067777986, 1.0081371088304205, 1.0081371088304205, 5.040685544152102, 1.0081371088304205, 1.0081371088304205, 1.0081371088304205, 1.0081371088304205, 11.089508197134624, 1.0081371088304205, 1.0081371088304205, 13.105782414795465, 3.0244113264912613, 11.089508197134624, 1.0081371088304205, 11.089508197134624, 1.0081371088304205, 1.0081371088304205, 8.065096870643364, 1.0081371088304205, 3.0244113264912613, 6.048822652982523, 1.0081371088304205, 1806.5816990241135, 1777.345722868031, 842.8026229822316, 696.6227422018205, 695.61460509299, 754.0865574051545, 504.06855441521026, 582.703248903983, 466.76748138848467, 445.5966021030458, 1382.1559762065065, 1107.942682604632, 369.9863189407643, 359.9049478524601, 306.4736810844478, 384.1002384643902, 455.67797319135, 286.3109389078394, 285.302801799009, 443.580327885385, 279.25397914602644, 261.1075111870789, 259.09123696941805, 321.5957377169041, 228.84712370450544, 212.71692996321872, 210.7006557455579, 206.6681073102362, 205.65997020140577, 195.57859911310157, 286.3109389078394, 464.7512071708238, 241.9529061193009, 277.23770492836564, 234.89594635748796, 1199.6831595082003, 656.2972578486036, 314.5387779550912, 327.6445603698867, 622.0205961483693, 580.6869746863222, 927.4861401239868, 2056.5997020140576, 625.0450074748607, 787.3550819965583, 382.08396424672935, 464.7512071708238, 454.6698360825196, 370.9944560495947, 1.0177830331547502, 1.0177830331547502, 1.0177830331547502, 15.266745497321253, 6.106698198928501, 3.0533490994642505, 1.0177830331547502, 1.0177830331547502, 1.0177830331547502, 1.0177830331547502, 1.0177830331547502, 5.088915165773751, 1.0177830331547502, 1.0177830331547502, 1.0177830331547502, 1.0177830331547502, 1.0177830331547502, 4.071132132619001, 1.0177830331547502, 1.0177830331547502, 1.0177830331547502, 7.124481232083252, 1.0177830331547502, 3.0533490994642505, 1.0177830331547502, 1.0177830331547502, 1.0177830331547502, 2.0355660663095003, 1.0177830331547502, 2.0355660663095003, 6222.725464708143, 2079.3307367351545, 1356.704783195282, 1512.4255872679587, 942.4670887012987, 2149.5577660228323, 941.4493056681439, 577.0829797987434, 741.9638311698129, 548.5850548704104, 779.6218033965387, 429.5044399913046, 377.5975053004123, 348.08179733892456, 323.65500454321057, 320.6016554437463, 282.9436832170206, 264.62358862023507, 317.5483063442821, 225.94783336035454, 207.62773876356903, 186.2542950673193, 183.20094596785503, 306.3526929795798, 156.73858710583153, 151.64967194005777, 149.6141058737483, 133.32957734327226, 129.25844521065326, 118.06283184595102, 356.22406160416256, 551.6384039698746, 210.6810878630333, 301.2637778138061, 492.60698804689906, 364.3663258694006, 741.9638311698129, 700.2347268104681, 979.1072778948696, 772.4973221644553, 1927.681064795097, 453.93123278701864, 978.089494861715, 542.4783566714818, 1395.3805384551624, 1285.4599708744495, 364.3663258694006, 433.5755721239236, 0.9911645489710786, 5.9469872938264725, 0.9911645489710786, 0.9911645489710786, 4.955822744855394, 2.9734936469132363, 0.9911645489710786, 0.9911645489710786, 4.955822744855394, 0.9911645489710786, 0.9911645489710786, 0.9911645489710786, 0.9911645489710786, 0.9911645489710786, 0.9911645489710786, 0.9911645489710786, 0.9911645489710786, 0.9911645489710786, 2.9734936469132363, 0.9911645489710786, 5.9469872938264725, 0.9911645489710786, 1.9823290979421573, 0.9911645489710786, 6.938151842797551, 0.9911645489710786, 0.9911645489710786, 3.9646581958843146, 0.9911645489710786, 2.9734936469132363, 6620.979187126806, 4411.673407470272, 2180.5620077363733, 1829.6897574006114, 1510.534772631924, 767.161360903615, 580.822425697052, 510.4497427201055, 466.83850256537806, 403.403971431229, 469.8119962122913, 362.7662249234148, 337.98711119913787, 333.03128845428245, 301.31402288720795, 285.45539010367065, 272.57025096704666, 265.63209912424907, 260.6762763793937, 240.8529853999721, 391.5099968435761, 233.91483355717457, 225.98551716540595, 200.2152388921579, 270.5879218691045, 1531.3492281603167, 387.5453386476918, 177.4184542658231, 148.6746823456618, 135.7895432090378, 245.8088081448275, 309.2433392789766, 309.2433392789766, 365.7397185703281, 330.05779480736925, 316.1814911217741, 1697.8648723874578, 659.1244250657674, 649.2127795760566, 872.2248030945493, 835.5517147826193, 476.75014805508886, 692.824019730784, 321.13731386662954, 15.19371587098842, 53.684462744159084, 15.19371587098842, 17.219544653786876, 17.219544653786876, 25.3228597849807, 15.19371587098842, 107.36892548831817, 25.3228597849807, 439.60484586726494, 15.19371587098842, 126.61429892490348, 21.271202219383788, 15.19371587098842, 31.400346133376065, 125.60138453350426, 85.08480887753515, 404.1528421682919, 17.219544653786876, 41.52949004736835, 75.9685793549421, 30.38743174197684, 102.30435353132202, 53.684462744159084, 33.426174916174524, 1.012914391399228, 1.012914391399228, 1.012914391399228, 1.012914391399228, 1.012914391399228, 2568.750896588442, 1484.9324977912684, 1262.091331683438, 1092.934628319767, 649.2781248869051, 623.9552651019244, 498.35388056842015, 362.62335212092364, 516.5863396136062, 330.21009159614835, 297.79683107137305, 355.532951381129, 266.39648493799695, 725.2467042418473, 176.2471041034657, 173.20836092926797, 215.75076536803553, 131.67887088189963, 131.67887088189963, 117.49806940231045, 113.44641183671354, 110.40766866251585, 89.13646644313206, 88.12355205173284, 451.75981856405565, 343.37797868433825, 363.63626651232283, 992.6561035712433, 2991.13619780192, 144.8467579700896, 167.13087458087261, 1294.5045922082134, 1062.5471965777901, 301.84848863696993, 1134.4641183671354, 195.492477540051, 2681.1843940337562, 3576.6007160306744, 1009.8756482250303, 4220.814268960583, 1336.0340822555818, 319.06803329075683, 463.9147912608464, 1.0062787270721982, 3.018836181216595, 1.0062787270721982, 1.0062787270721982, 1.0062787270721982, 1.0062787270721982, 1.0062787270721982, 1.0062787270721982, 1.0062787270721982, 4.025114908288793, 1.0062787270721982, 1.0062787270721982, 1.0062787270721982, 54.3390512618987, 3.018836181216595, 1.0062787270721982, 1.0062787270721982, 1.0062787270721982, 1.0062787270721982, 10.062787270721984, 1.0062787270721982, 3.018836181216595, 1.0062787270721982, 1.0062787270721982, 1.0062787270721982, 4.025114908288793, 4.025114908288793, 2.0125574541443965, 1.0062787270721982, 2.0125574541443965, 3400.215818776958, 2226.894823010775, 2670.663741649614, 1957.2121241554255, 547.4156275272759, 533.3277253482651, 509.17703589853227, 493.0765762653772, 457.85682081785023, 350.184997021125, 306.91501175702047, 293.8333883050819, 260.62619031169936, 226.4127135912446, 224.4001561371002, 217.3562050475948, 2852.800191249682, 182.1364496000679, 176.0987772376347, 169.0548261481293, 153.96064524204635, 355.216390656486, 152.95436651497414, 144.90413669839657, 143.89785797132436, 139.87274306303556, 129.8099557923136, 129.8099557923136, 126.79111961109699, 120.7534472486638, 459.8693782719946, 321.00291393603123, 246.5382881326886, 1854.5716939940614, 757.7278814853653, 5160.197312426232, 161.00459633155174, 353.20383320234157, 882.5064436423178, 1047.5361548821584, 1076.7182379672522, 984.1405950766099, 1186.4026192181218, 314.96524157359806, 369.30429283549677, 278.73920739899893, 297.8585032133707, 0.9955085685292814, 63.71254838587401, 0.9955085685292814, 1.9910171370585628, 1.9910171370585628, 0.9955085685292814, 1.9910171370585628, 0.9955085685292814, 0.9955085685292814, 0.9955085685292814, 0.9955085685292814, 1.9910171370585628, 0.9955085685292814, 0.9955085685292814, 0.9955085685292814, 0.9955085685292814, 0.9955085685292814, 0.9955085685292814, 3.9820342741171255, 0.9955085685292814, 0.9955085685292814, 0.9955085685292814, 0.9955085685292814, 0.9955085685292814, 0.9955085685292814, 0.9955085685292814, 0.9955085685292814, 0.9955085685292814, 0.9955085685292814, 0.9955085685292814, 2376.278953079395, 1495.2538699309805, 1229.4530821336625, 1231.4440992707212, 1093.068408245151, 1178.6821451386693, 1056.2345912095677, 1003.4726370775156, 910.8903402042924, 812.3349919198936, 760.568546356371, 668.9817580516772, 667.9862494831478, 1273.2554591489509, 539.5656441428705, 659.0266723663843, 572.4174269043368, 469.8800443458208, 455.9429243864109, 412.1405473711225, 459.92495866052803, 360.37410180759986, 326.5268104776043, 244.89510785820323, 236.93103930996895, 207.06578225409055, 205.07476511703197, 197.11069656879772, 194.12417086320986, 275.7558734826109, 882.0205917169434, 564.4533583561026, 1441.4964072303994, 623.1883638993302, 1026.3693341536891, 451.9608901122937, 502.7318271072871, 2528.5917640643747, 952.7017000825224, 1437.5143729562824, 1004.468145646045, 767.537106336076, 714.775152204024, 575.4039526099247, 13.05128508416985, 52.2051403366794, 13.05128508416985, 9.035505058271434, 9.035505058271434, 13.05128508416985, 15.059175097119057, 9.035505058271434, 18.07101011654287, 570.2407636775749, 13.05128508416985, 65.25642542084925, 9.035505058271434, 15.059175097119057, 104.4102806733588, 26.1025701683397, 13.05128508416985, 18.07101011654287, 13.05128508416985, 9.035505058271434, 9.035505058271434, 13.05128508416985, 15.059175097119057, 120.47340077695246, 13.05128508416985, 9.035505058271434, 426.67662775170663, 217.85606640498906, 9.035505058271434, 15.059175097119057, 4180.427006960251, 2426.535080649118, 2393.4048954354557, 1437.6492492716327, 1301.1127283910866, 1157.5485924652182, 1253.9273130867803, 900.5386708077198, 746.9350848171052, 1330.22713357885, 771.0297649724959, 565.221038645202, 539.1184684768623, 853.3532555034133, 495.94883319845434, 368.4478173761796, 346.36102723373835, 433.7042427970289, 234.92313151505732, 213.84028637909063, 366.4399273632304, 279.0967117999399, 408.60561763516375, 196.77322126902237, 459.8068129653686, 178.7022111524795, 171.67459610715727, 690.7141644545275, 858.3729805357863, 249.98230661217636, 368.4478173761796, 352.3846972725859, 427.68057275818126, 339.33341218841616, 774.0415999919196, 1258.9470381191534, 750.9508648430037, 398.56616757041775, 0.9997766026353944, 0.9997766026353944, 0.9997766026353944, 0.9997766026353944, 0.9997766026353944, 0.9997766026353944, 12.997095834260126, 0.9997766026353944, 0.9997766026353944, 3.9991064105415774, 0.9997766026353944, 0.9997766026353944, 2.999329807906183, 0.9997766026353944, 0.9997766026353944, 0.9997766026353944, 3.9991064105415774, 0.9997766026353944, 1.9995532052707887, 0.9997766026353944, 0.9997766026353944, 0.9997766026353944, 0.9997766026353944, 0.9997766026353944, 2.999329807906183, 3.9991064105415774, 0.9997766026353944, 1.9995532052707887, 0.9997766026353944, 0.9997766026353944, 3514.2147582634116, 2485.4446341515904, 1152.7424228386096, 812.8183779425756, 881.8029635244178, 1284.7129343864817, 1124.7486779648186, 728.8371433212025, 604.8648445944136, 603.8650679917781, 554.8760144626439, 548.8773548468315, 519.8838333704051, 541.8789186283838, 443.9008115701151, 407.90885387524094, 399.9106410541578, 371.91689618036673, 449.89947118592744, 338.9242682933987, 332.9256086775863, 314.9296298301492, 397.91108784888695, 388.9130984251684, 277.93789553263963, 255.94281027466096, 249.9441506588486, 245.945044248307, 239.94638463249464, 324.92739585650315, 318.9287362406908, 356.9202471408358, 295.9338743800767, 288.93543816162895, 8409.1210047663, 309.93074681697226, 591.8677487601534, 398.91086445152234, 472.8943330465415, 1044.7665497539872, 500.88807792033253, 376.91577919354364, 0.9870285667340567, 1.9740571334681134, 0.9870285667340567, 0.9870285667340567, 0.9870285667340567, 0.9870285667340567, 1.9740571334681134, 0.9870285667340567, 0.9870285667340567, 0.9870285667340567, 5.922171400404341, 1.9740571334681134, 0.9870285667340567, 1.9740571334681134, 0.9870285667340567, 0.9870285667340567, 0.9870285667340567, 0.9870285667340567, 2.9610857002021707, 9.870285667340568, 3.948114266936227, 1.9740571334681134, 0.9870285667340567, 5.922171400404341, 1.9740571334681134, 0.9870285667340567, 0.9870285667340567, 0.9870285667340567, 0.9870285667340567, 0.9870285667340567, 6634.80602558633, 4578.8255210792895, 4008.3230095070044, 3074.593985376587, 2194.164503849808, 1192.3305086147407, 1186.4083372143364, 832.06508175681, 794.5579962209157, 729.414110816468, 727.4400536829999, 708.6865109150527, 703.7513680813826, 614.9187970753175, 588.2690257734978, 671.1794253791586, 560.6322259049443, 451.0720549974639, 295.12154145348296, 287.22531291961053, 796.5320533543837, 311.90102708796195, 290.18639861981273, 187.53542767947079, 183.58731341253457, 177.66514201213022, 146.0802278766404, 144.1061707431723, 437.2536550631872, 127.32668510869334, 179.63919914559835, 587.2819972067638, 4863.0897482986975, 277.35502725226996, 911.0273670955344, 309.9269699544938], \"Term\": [\"toquedequeda\", \"pinerarenuncia\", \"poblar\", \"querer\", \"gente\", \"decir\", \"chiledesperto\", \"dar\", \"renunciapinera\", \"chileno\", \"hacer\", \"militar\", \"pinera\", \"chilesecanso\", \"hoy\", \"ver\", \"hablar\", \"ir\", \"estopasaenchile\", \"solo\", \"quedo\", \"ahora\", \"milicos\", \"creer\", \"saber\", \"violencia\", \"estan\", \"salir\", \"social\", \"hora\", \"resguardarte\", \"horno\", \"elevadisimo\", \"digno\", \"pacoscobardes\", \"dense\", \"garoa\", \"hueoncitos\", \"dina\", \"venezuelaesddhh\", \"futbolero\", \"condicionar\", \"hiledespierta\", \"acustica\", \"hacianedo\", \"quoere\", \"tecnicos\", \"pequeneces\", \"rapidas\", \"dandan\", \"integralmente\", \"bancan\", \"electricos\", \"nomaspoliticos\", \"obesidad\", \"cobertura\", \"cronicas\", \"reconstruccion\", \"avia\", \"tarifar\", \"aguar\", \"pagar\", \"publicar\", \"bajar\", \"soldar\", \"medir\", \"fin\", \"pensionar\", \"serio\", \"subir\", \"sueldo\", \"ley\", \"salud\", \"mesacentral\", \"especial\", \"mill\\u00f3n\", \"aumentar\", \"impuesto\", \"transportar\", \"diputar\", \"luz\", \"parlamentario\", \"servicio\", \"pasaje\", \"mantener\", \"privilegio\", \"enacional\", \"empresa\", \"seguro\", \"cortar\", \"alzar\", \"juntar\", \"chiledesperto\", \"necesitar\", \"ahora\", \"vida\", \"ganar\", \"pedir\", \"discursar\", \"intensidad\", \"blindar\", \"robarnos\", \"atribuir\", \"valentia\", \"deje\", \"reciente\", \"llor\\u00f3n\", \"ambitos\", \"enormemente\", \"salvador\", \"castro\", \"espontanear\", \"civilidad\", \"televisar\", \"migaja\", \"sintonizar\", \"estudiantil\", \"marioneta\", \"pineda\", \"caridad\", \"displicente\", \"calamidad\", \"nevar\", \"casto\", \"expresarse\", \"falsabandera\", \"pelotuda\", \"argumento\", \"social\", \"clase\", \"politica\", \"tiempo\", \"cambiar\", \"izquierdo\", \"frente\", \"politico\", \"desigualdad\", \"demandar\", \"mejorar\", \"mensaje\", \"comunista\", \"crisis\", \"paises\", \"exigir\", \"terrorista\", \"redar\", \"politicas\", \"sociedad\", \"interesar\", \"oportunidad\", \"amplio\", \"reconocer\", \"estallido\", \"dificil\", \"adulto\", \"fracasar\", \"resolver\", \"justicia\", \"movimiento\", \"capaz\", \"cambio\", \"dialogar\", \"culpable\", \"entender\", \"real\", \"tratar\", \"venir\", \"gobernar\", \"problema\", \"pais\", \"aun\", \"necesitar\", \"derecho\", \"grande\", \"mejor\", \"unicas\", \"paliza\", \"herir\", \"abusadores\", \"proteccion\", \"sobredosis\", \"custodiar\", \"volcar\", \"transeuntes\", \"bicarbonato\", \"klos\", \"doloroso\", \"guanaco\", \"cercanias\", \"balar\", \"catastrar\", \"imperar\", \"proteger\", \"obstruir\", \"actuan\", \"afrontar\", \"marino\", \"violenciaes\", \"nofear\", \"expliquense\", \"electoralmente\", \"siguemevoxeador\", \"chiledor\", \"juguera\", \"sectario\", \"militar\", \"milicos\", \"paco\", \"calle\", \"matar\", \"carabinero\", \"armar\", \"disparar\", \"culiaos\", \"civil\", \"ninos\", \"perro\", \"tirar\", \"asesino\", \"actuar\", \"mujer\", \"golpear\", \"cobarde\", \"curico\", \"resguardar\", \"uniformar\", \"detenido\", \"animal\", \"morir\", \"torturar\", \"enfermo\", \"inocente\", \"reprimir\", \"lacrimogenas\", \"fuerza\", \"seguridad\", \"personar\", \"muerto\", \"estan\", \"manifestante\", \"sacar\", \"muerte\", \"callar\", \"escuchelo\", \"custoria\", \"toro\", \"alamoneda\", \"dictaura\", \"mo\\u00f1o\", \"coscachos\", \"liban\\u00e9s\", \"dilencuentes\", \"corleone\", \"paremosesto\", \"mun\", \"culiaoas\", \"juguete\", \"piloto\", \"quietooos\", \"puesto\", \"porreivindicar\", \"energumenos\", \"gobiero\", \"aguaesdetodos\", \"mier\", \"enlamira\", \"pistolitas\", \"machista\", \"folk\", \"lloraaar\", \"metrico\", \"sendobpico\", \"putada\", \"casar\", \"delincuente\", \"llegar\", \"trabajar\", \"quedar\", \"robar\", \"familia\", \"weones\", \"importar\", \"cagar\", \"chucha\", \"doler\", \"feriar\", \"encimar\", \"tranquilo\", \"wea\", \"aforar\", \"negocio\", \"esten\", \"plata\", \"cresta\", \"libre\", \"pegar\", \"fuente\", \"preferir\", \"humilde\", \"cuidense\", \"preocupar\", \"pequenos\", \"querian\", \"chico\", \"correr\", \"lacrar\", \"aprovechar\", \"vandalos\", \"gente\", \"weas\", \"dejar\", \"poner\", \"ir\", \"cuidar\", \"cabros\", \"sacar\", \"pensar\", \"hacer\", \"estan\", \"andar\", \"mierda\", \"gan\", \"interferenciacl\", \"entregarle\", \"ciclico\", \"cundeelpanico\", \"quejarnos\", \"polideportivo\", \"perjuicio\", \"asqueda\", \"ardesantiago\", \"curiconoolvida\", \"traficante\", \"truman\", \"niches\", \"abanderizar\", \"agarrandose\", \"pancho\", \"piee\", \"estigmatizar\", \"corrompio\", \"liberabarcelona\", \"eficacia\", \"calamadesperto\", \"comediante\", \"hablarnos\", \"impulsivo\", \"cacerolazoa\", \"empoderamiento\", \"paulsen\", \"tufillo\", \"dar\", \"politicos\", \"contar\", \"abusar\", \"verguenza\", \"caro\", \"votar\", \"lado\", \"manera\", \"solucionar\", \"pobre\", \"culpar\", \"rico\", \"peor\", \"rajar\", \"corrupto\", \"pelear\", \"poder\", \"atras\", \"dano\", \"penar\", \"burlar\", \"propio\", \"aportar\", \"wn\", \"conflicto\", \"risa\", \"ignorante\", \"incompetente\", \"alma\", \"rabiar\", \"faltar\", \"igual\", \"ano\", \"impotencia\", \"ladr\\u00f3n\", \"representar\", \"estudiar\", \"costar\", \"malo\", \"ver\", \"hacer\", \"pasar\", \"ojalar\", \"llevar\", \"partir\", \"mierda\", \"chiledesperto\", \"dejar\", \"cacerolendo\", \"carolin\", \"delo\", \"punetazos\", \"veni\", \"palante\", \"batucadas\", \"ccopec\", \"quiseron\", \"constiyente\", \"veaa\", \"irrarazabal\", \"narcisismo\", \"chichon\", \"gafo\", \"estoicamente\", \"sumarnos\", \"vivemos\", \"buscarlo\", \"rescatense\", \"cancioncita\", \"vegetar\", \"innumerable\", \"politruchos\", \"letrero\", \"jax\", \"fullmetal\", \"peajerinconada\", \"consegui\", \"reunamonos\", \"violencia\", \"formar\", \"gran\", \"vandalismo\", \"momento\", \"tipo\", \"usar\", \"generar\", \"delincuencia\", \"descontentar\", \"policia\", \"repetir\", \"denunciar\", \"saqueador\", \"imponer\", \"accionar\", \"mayoria\", \"nombrar\", \"acto\", \"mundo\", \"modelar\", \"hecho\", \"consecuencia\", \"asumir\", \"utilizar\", \"grabar\", \"america\", \"ocurrir\", \"incitar\", \"unica\", \"librar\", \"existir\", \"verdadero\", \"diferenciar\", \"esconder\", \"ordenar\", \"foto\", \"recordar\", \"violento\", \"partir\", \"solo\", \"protestar\", \"ejemplo\", \"terminar\", \"mirar\", \"odiar\", \"aqui\", \"buscar\", \"chiledesperto\", \"importante\", \"preciojusto\", \"borrokillo\", \"mesios\", \"casino\", \"panaderias\", \"matriz\", \"cuidadano\", \"impunemente\", \"bloqueandolos\", \"sacoweaaaaa\", \"salian\", \"desinformarn\", \"webean\", \"provechoso\", \"acabarlos\", \"provenir\", \"incedio\", \"corrupcionm\", \"multitud\", \"islamico\", \"flujo\", \"soys\", \"shock\", \"lambiscona\", \"acesos\", \"piedrazos\", \"terroritas\", \"devolverles\", \"custodio\", \"canceroso\", \"supermercado\", \"quemar\", \"vecino\", \"alto\", \"comprar\", \"abrir\", \"incendio\", \"incendiar\", \"sector\", \"cerrar\", \"metro\", \"saqueo\", \"barrio\", \"aparecer\", \"anoche\", \"grupo\", \"organizar\", \"local\", \"auto\", \"comer\", \"estacionar\", \"evitar\", \"fila\", \"dentro\", \"controlar\", \"victimar\", \"disturbio\", \"cuerpo\", \"edificio\", \"cadena\", \"cercar\", \"provocar\", \"romper\", \"barricada\", \"fallecido\", \"saquear\", \"vestir\", \"casi\", \"funcionar\", \"destruir\", \"llevar\", \"personar\", \"toquedequeda\", \"coser\", \"estan\", \"aun\", \"ahora\", \"solo\", \"pasar\", \"zoom\", \"comian\", \"vandalicamente\", \"interlocutor\", \"laburar\", \"poniendonos\", \"harmamos\", \"cagen\", \"ultimatun\", \"conlosperrosno\", \"veanla\", \"campe\\u00f3n\", \"felizsabado\", \"esconderme\", \"marabunta\", \"aliexpress\", \"timorato\", \"despojar\", \"globalismo\", \"transmitiran\", \"famiente\", \"lucidez\", \"piment\\u00f3n\", \"desestimar\", \"vino\", \"perderles\", \"tongozurdo\", \"forosaopaulo\", \"corvo\", \"totalitarista\", \"querer\", \"miedo\", \"basto\", \"asi\", \"volver\", \"seguir\", \"abuso\", \"acabar\", \"perder\", \"meter\", \"ojo\", \"jugar\", \"nuevamente\", \"quitar\", \"picar\", \"crear\", \"abajar\", \"manir\", \"reclamar\", \"basura\", \"facil\", \"normalidad\", \"panico\", \"normal\", \"bolsillo\", \"amigar\", \"pie\", \"decisi\\u00f3n\", \"nomas\", \"inteligencia\", \"llenar\", \"parar\", \"lumpen\", \"loco\", \"lograr\", \"monedar\", \"tener\", \"tomar\", \"pedir\", \"vida\", \"ir\", \"caos\", \"mas\", \"ciudadano\", \"solo\", \"gente\", \"dignidad\", \"mirar\", \"maaaalo\", \"fidedigno\", \"rumiar\", \"pona\", \"saludmental\", \"faro\", \"fuerzasdelorden\", \"antropologia\", \"cambiarle\", \"vejetes\", \"creeee\", \"difindan\", \"besarian\", \"transandino\", \"estatismo\", \"permitirme\", \"valdivieso\", \"conchetumereee\", \"mismxs\", \"prevision\", \"calmante\", \"tropo\", \"cizaneros\", \"qleaos\", \"sicopatas\", \"leisonados\", \"dinamico\", \"ctmre\", \"trrble\", \"sobreviviente\", \"poblar\", \"chileno\", \"luchar\", \"nunca\", \"apoyar\", \"olvidar\", \"causar\", \"humano\", \"unir\", \"despertar\", \"arribar\", \"aguantar\", \"vencer\", \"jamar\", \"mexico\", \"solidaridad\", \"compatriota\", \"neoliberalismo\", \"latinoamerica\", \"concienciar\", \"levantar\", \"pueblo\", \"argentino\", \"resistir\", \"silenciar\", \"siempre\", \"hermano\", \"valiente\", \"pense\", \"dolor\", \"junto\", \"sera\", \"injusticia\", \"merecer\", \"sufrir\", \"gritar\", \"derecho\", \"forzar\", \"defender\", \"tan\", \"grande\", \"sentir\", \"tambien\", \"atacar\", \"injustificable\", \"reglar\", \"forrar\", \"constantemente\", \"rematar\", \"basicamente\", \"cafe\", \"fueracomunistas\", \"corresponsal\", \"encontrar\", \"civica\", \"viral\", \"militante\", \"acribillar\", \"rondar\", \"circular\", \"vuelo\", \"suponer\", \"verlo\", \"sonido\", \"descansar\", \"chistoso\", \"situaci\\u00f3n\", \"atrapar\", \"atemorizar\", \"pobreshito\", \"rage\", \"chili\", \"queren\", \"noteniscara\", \"salir\", \"llamar\", \"tocar\", \"respetar\", \"luego\", \"detener\", \"justificar\", \"entonces\", \"emergencia\", \"valer\", \"1\", \"declarar\", \"ffaa\", \"falto\", \"presenciar\", \"significar\", \"aeropuerto\", \"viernes\", \"ridiculo\", \"humanidad\", \"pasear\", \"pescar\", \"brutalidad\", \"tendencia\", \"suceder\", \"violentar\", \"minuto\", \"despues\", \"quedo\", \"encapuchar\", \"altura\", \"esperar\", \"menos\", \"policial\", \"bueno\", \"helicopteros\", \"ahora\", \"hacer\", \"callar\", \"toquedequeda\", \"pasar\", \"llorar\", \"paso\", \"sundde\", \"saciar\", \"brayan\", \"repararnos\", \"reconcha\", \"podis\", \"couniscomunismo\", \"humanizar\", \"caviarada\", \"nomasengano\", \"tirenles\", \"nuevaconstit\", \"core\", \"filtrar\", \"haste\", \"tvchanta\", \"kajsj\", \"escoriaaaaaas\", \"fomes\", \"cachai\", \"sobrebisn\", \"expectante\", \"salvarte\", \"todavias\", \"sesantia\", \"psiquico\", \"vagabundo\", \"mansi\\u00f3n\", \"metense\", \"pxta\", \"hablar\", \"bien\", \"saber\", \"vez\", \"ministro\", \"acordar\", \"primero\", \"fuego\", \"seriar\", \"cuanto\", \"cierto\", \"apagar\", \"venezolano\", \"echar\", \"tonto\", \"rubilar\", \"creer\", \"escribir\", \"encantar\", \"bencina\", \"terrorismo\", \"hombre\", \"equivocar\", \"cachar\", \"discurso\", \"imbeciles\", \"prender\", \"tal\", \"suerte\", \"superar\", \"amar\", \"aprender\", \"comentario\", \"escuchar\", \"puro\", \"decir\", \"absolutamente\", \"leer\", \"mal\", \"claro\", \"mejor\", \"coser\", \"mas\", \"nivel\", \"pensar\", \"gustar\", \"pasar\", \"anosdeabusos\", \"chiledespeto\", \"faite\", \"diganles\", \"digalo\", \"honorifica\", \"farso\", \"fotograficos\", \"nacotrficante\", \"autocrtica\", \"vayance\", \"aaaaaa\", \"estadocentral\", \"calmate\", \"acercarnos\", \"milicoschilenos\", \"verdulero\", \"twrminsmos\", \"irrespirable\", \"infetenible\", \"quemandolos\", \"perfume\", \"rajaaaa\", \"pronunciarse\", \"neolriberal\", \"shopico\", \"abeja\", \"mandatado\", \"laceinogenas\", \"descontentxs\", \"mostrar\", \"favor\", \"difundir\", \"pacificar\", \"prensar\", \"medio\", \"montaje\", \"mentir\", \"ayudar\", \"nomasabusos\", \"noticiar\", \"videos\", \"gracia\", \"marchar\", \"vender\", \"compartir\", \"bombero\", \"pacificamente\", \"imagenes\", \"tv\", \"canal\", \"destrozo\", \"internacional\", \"mentiroso\", \"manipular\", \"tele\", \"chillar\", \"mega\", \"plaza\", \"falso\", \"realidad\", \"hermoso\", \"verdad\", \"manifestaci\\u00f3n\", \"periodista\", \"manifestar\", \"realmente\", \"ver\", \"aqui\", \"protestar\", \"paso\", \"solo\", \"pasar\", \"tambien\", \"asediar\", \"credibilidad\", \"evadirnopagar\", \"excelencia\", \"irracionalidad\", \"hazte\", \"palazo\", \"mismisimo\", \"toxico\", \"mano\", \"mandatario\", \"primar\", \"pileta\", \"lora\", \"chilesedesperto\", \"emitir\", \"virus\", \"torturador\", \"componer\", \"decadencia\", \"prontuario\", \"chileenpaz\", \"demostro\", \"manchar\", \"placer\", \"adiestrar\", \"explicar\", \"sebastian\", \"companeres\", \"guarimberos\", \"pinera\", \"presidente\", \"vivir\", \"hijo\", \"renunciar\", \"dictadura\", \"guerra\", \"paz\", \"viejo\", \"democracia\", \"puto\", \"dictador\", \"maldito\", \"asesinar\", \"cargar\", \"fuerapinera\", \"sangrar\", \"responder\", \"fascista\", \"imaginar\", \"imagen\", \"ladron\", \"pleno\", \"asqueroso\", \"desperto\", \"directo\", \"liderazgo\", \"palabra\", \"preguntar\", \"nino\", \"nefasto\", \"payaso\", \"cabeza\", \"terrible\", \"tan\", \"decir\", \"mierda\", \"mandar\", \"estadioregional\", \"lourdes\", \"elnalzandel\", \"tratabamos\", \"muertecruzada\", \"pelambrar\", \"sindical\", \"chirrines\", \"nonse\", \"vivalavida\", \"pellejerias\", \"termiado\", \"vlado\", \"siguelalucha\", \"chilenes\", \"charmander\", \"violecia\", \"cuiquerio\", \"hackeados\", \"enterrarla\", \"traumando\", \"escondite\", \"escrutinio\", \"inpotencia\", \"solito\", \"cuidate\", \"notario\", \"legua\", \"culeaitos\", \"chorrillana\", \"hoy\", \"hora\", \"urgente\", \"manana\", \"informar\", \"nuevo\", \"valparaiso\", \"octubre\", \"nacional\", \"ciudad\", \"evasionmasiva\", \"fuerte\", \"lunes\", \"noche\", \"comenzar\", \"tardar\", \"confirmar\", \"iquique\", \"antofagasta\", \"general\", \"sonar\", \"domingo\", \"dia\", \"adelantar\", \"ultimar\", \"martes\", \"rancagua\", \"temprano\", \"vinadelmar\", \"iniciar\", \"comuna\", \"empezar\", \"laserena\", \"anunciar\", \"toquedequeda\", \"decretar\", \"ayer\", \"dormir\", \"cacerolazo\", \"ahora\", \"chiledespierto\", \"quedo\", \"importarte\", \"visualizaci\\u00f3n\", \"latioameriaca\", \"uac\", \"pabell\\u00f3n\", \"anorada\", \"observatorio\", \"loquita\", \"vivirte\", \"curacautin\", \"magnumphotos\", \"sabeis\", \"arrieta\", \"oso\", \"evalue\", \"novar\", \"rtw\", \"morenitos\", \"rioslibres\", \"pinerafuera\", \"cuatica\", \"ccaa\", \"interesadisima\", \"intolerable\", \"aplazar\", \"agresivamente\", \"impregandos\", \"ion\", \"violentarnos\", \"copiapomarcha\", \"pinerarenuncia\", \"renunciapinera\", \"chilesecanso\", \"estopasaenchile\", \"pineradictador\", \"chileencrisis\", \"chileseaburrio\", \"chadwickasesino\", \"chiledespierta\", \"chileprotestas\", \"chilequierepaz\", \"chileprotests\", \"chileresiste\", \"latvmiente\", \"chileselevanta\", \"paronacional\", \"chileenmarcha\", \"estadofallido\", \"chiledesperta\", \"autogolpe\", \"chileprotesta\", \"bastadeabusos\", \"poderoso\", \"megamiente\", \"noscansamos\", \"dictadorpinera\", \"pineraculiao\", \"chadwikasesino\", \"enemigo\", \"laprensamiente\", \"chileunido\", \"caer\", \"chiledesperto\", \"mentira\", \"chiledespierto\", \"cacerolazos\"], \"Total\": [14729.0, 6634.0, 6620.0, 6223.0, 7763.0, 6423.0, 8775.0, 4748.0, 4578.0, 4415.0, 7852.0, 4336.0, 4180.0, 4008.0, 3516.0, 4719.0, 3400.0, 4369.0, 3074.0, 5398.0, 3368.0, 5248.0, 2937.0, 2930.0, 2687.0, 2640.0, 4131.0, 2576.0, 2517.0, 2485.0, 1.0029119180361177, 5.014559590180589, 1.0029119180361177, 289.84154431243803, 1.0029119180361177, 10.029119180361178, 1.0029119180361177, 1.0029119180361177, 9.02620726232506, 5.014559590180589, 1.0029119180361177, 152.4426115414899, 1.0029119180361177, 1.0029119180361177, 1.0029119180361177, 1.0029119180361177, 10.029119180361178, 4.011647672144471, 13.037854934469532, 1.0029119180361177, 1.0029119180361177, 1.0029119180361177, 5.014559590180589, 9.02620726232506, 4.011647672144471, 583.6947362970205, 4.011647672144471, 5.014559590180589, 2.0058238360722354, 146.4251400332732, 1087.1565191511518, 914.6556692489394, 882.5624878717836, 663.92768973991, 596.7325912314901, 582.6918243789844, 566.6452336904065, 478.3889849032282, 473.3744253130476, 555.6184277828035, 448.30162736214464, 611.7880058017497, 438.27250818178345, 431.2521247555306, 700.0375404870435, 384.11526460783307, 370.07449775532746, 353.02499514871346, 345.0016998044245, 345.0016998044245, 335.97549254209946, 425.24157748270284, 332.9667567879911, 328.95510911584665, 377.08313381251526, 283.8240728042214, 282.8211608861852, 350.9914663971865, 537.4499684055402, 507.42644105001546, 609.7179651140874, 462.3286294875991, 8775.725933753374, 1451.6564222475763, 5248.774224486671, 1235.8459951061777, 855.7887974691081, 1432.4234648471947, 606.2250595505935, 9.970806900503183, 16.950371730855412, 9.970806900503183, 6.979564830352229, 13.959129660704457, 19.941613801006365, 9.970806900503183, 4.985403450251591, 8.973726210452865, 4.985403450251591, 40.880308292063056, 4.985403450251591, 32.90366277166051, 8.973726210452865, 6.979564830352229, 18.944533110956048, 18.944533110956048, 29.912420701509554, 29.912420701509554, 4.985403450251591, 71.78980968362292, 32.90366277166051, 4.985403450251591, 8.973726210452865, 16.950371730855412, 17.94745242090573, 9.970806900503183, 6.979564830352229, 50.85111519256624, 2517.628742377054, 1251.3520997144985, 1054.9113700732369, 942.2412520975508, 989.1132425669377, 793.6762292800535, 766.7550506486948, 590.2717685097886, 586.2834457495873, 574.3184774689834, 539.4206533172222, 402.8205987803286, 563.3689859524736, 696.9499483183282, 322.0570628862528, 407.811833458566, 315.0774980559006, 463.5987734984602, 250.26725320262995, 250.26725320262995, 383.85596142274005, 215.36942905086875, 207.39278353046623, 184.4599276593089, 170.50079799860444, 168.50663661850382, 157.5387490279503, 146.57086143739681, 143.57961936724584, 323.1051654298018, 283.2281543618482, 362.9535466538263, 358.99023431666035, 374.94898928280617, 257.2850844231062, 2471.5878527834666, 485.7555455425332, 763.171595607838, 1137.2028248347651, 1317.847307453011, 1087.1548225207532, 1446.9030022685936, 1264.5972841493792, 1451.6564222475763, 2777.7059556245376, 1548.464408168597, 1506.7199920478429, 16.57851904388378, 10.727277028395386, 589.0250295591649, 42.909108113581546, 16.57851904388378, 21.454554056790773, 42.909108113581546, 16.57851904388378, 10.727277028395386, 16.57851904388378, 10.727277028395386, 21.454554056790773, 51.68597113681414, 10.727277028395386, 294.51251477958243, 10.727277028395386, 10.727277028395386, 535.388644417188, 10.727277028395386, 10.727277028395386, 10.727277028395386, 51.68597113681414, 0.975207002581399, 0.975207002581399, 0.975207002581399, 0.975207002581399, 0.975207002581399, 0.975207002581399, 0.975207002581399, 0.975207002581399, 4336.934643780089, 2937.3437933411215, 2442.8935414664043, 1709.5378755251922, 1654.926283380634, 1574.9593091689594, 1129.2897089892601, 1123.4384669737715, 958.6284835375151, 833.8518911471849, 610.4795836159557, 526.6117813939554, 594.9050095785466, 493.4547433061878, 469.07456824165286, 459.3224982158389, 381.305938009327, 360.8265909551176, 297.4381357873267, 284.76044475376847, 276.9587887331173, 425.2754051866366, 251.60340666600092, 771.6683845623038, 235.02488762211715, 231.12405961179155, 228.19843860404734, 634.0672657714402, 315.0410010338998, 365.08708276794084, 285.8599386543131, 2728.6934738918308, 949.1909388034121, 4131.397642395944, 833.7135137851865, 1767.6531241699786, 541.7439246843717, 1716.9007250965446, 1.0001589726258773, 1.0001589726258773, 4.000635890503509, 1.0001589726258773, 1.0001589726258773, 26.004133288272808, 2.0003179452517545, 1.0001589726258773, 1.0001589726258773, 5.0007948631293875, 1.0001589726258773, 1.0001589726258773, 1.0001589726258773, 5.0007948631293875, 2.0003179452517545, 1.0001589726258773, 71.0112870564373, 1.0001589726258773, 16.002543562014036, 1.0001589726258773, 1.0001589726258773, 1.0001589726258773, 1.0001589726258773, 1.0001589726258773, 4.000635890503509, 1.0001589726258773, 1.0001589726258773, 1.0001589726258773, 1.0001589726258773, 2.0003179452517545, 1975.3139709361078, 1806.2871045623344, 1840.2878592275176, 1613.2564228455403, 1288.20750968754, 1414.2323105417972, 626.0995168637993, 580.0922041230089, 754.101876512602, 1197.3050890021354, 465.073922271033, 343.0545276106759, 257.0408559648505, 254.04037904697284, 402.06941288642315, 730.165008052461, 238.0378354849588, 228.03624575870003, 218.03465603244126, 205.03258938830484, 194.03084068942022, 170.02702534639914, 686.1417352054975, 156.02479972963687, 142.0225741128746, 140.02225616762283, 221.04481013111803, 333.03898667212735, 129.02050746873817, 126.02003055086054, 347.9711657554787, 235.07260668813893, 190.0478288594456, 355.9917595009428, 353.15018270159123, 7763.258941832813, 216.90973720959298, 2278.349499249265, 1475.125048721986, 4369.076689042561, 792.5618118638868, 467.66051322431355, 1767.6531241699786, 1268.4107688688352, 7852.426032064485, 4131.397642395944, 686.487934886684, 2172.1023980305526, 1.004167342494445, 1.004167342494445, 4.01666936997778, 1.004167342494445, 1.004167342494445, 4.01666936997778, 1.004167342494445, 2.00833468498889, 1.004167342494445, 1.004167342494445, 1.004167342494445, 8.03333873995556, 1.004167342494445, 1.004167342494445, 1.004167342494445, 1.004167342494445, 4.01666936997778, 1.004167342494445, 3.0125020274833356, 1.004167342494445, 1.004167342494445, 4.01666936997778, 3.0125020274833356, 3.0125020274833356, 1.004167342494445, 1.004167342494445, 1.004167342494445, 6.025004054966671, 5.020836712472226, 1.004167342494445, 4748.707362656231, 1850.6804122172623, 1580.5593970862567, 904.7547755874951, 946.9008436323487, 1136.7524198993312, 620.5754176615671, 612.5408234971533, 517.1461813846392, 1055.3845285293912, 684.8532428670529, 976.0031985327744, 387.60859420285584, 808.3887235736116, 448.8715491439218, 414.7232238347836, 284.17935792592795, 772.1180401082743, 257.06683967857794, 257.06683967857794, 460.8667151719361, 166.69177885407788, 164.683444169089, 163.67927682659456, 159.66260745661677, 158.65844011412236, 152.63343605915566, 148.6167666891779, 140.58342794922234, 139.57926060672787, 283.18313011610553, 338.4418287093042, 1248.6991613089933, 1915.5244451635701, 302.04632539445413, 542.0098627548864, 284.1061019720077, 198.81877751522498, 249.9455417993432, 484.09043227794365, 4719.687016771832, 7852.426032064485, 3861.4004621387553, 474.9446950135114, 1118.9206702633448, 1996.477570607008, 2172.1023980305526, 8775.725933753374, 2278.349499249265, 1.0098361534249882, 1.0098361534249882, 1.0098361534249882, 1.0098361534249882, 1.0098361534249882, 1.0098361534249882, 8.078689227399906, 1.0098361534249882, 1.0098361534249882, 2.0196723068499765, 1.0098361534249882, 1.0098361534249882, 1.0098361534249882, 1.0098361534249882, 1.0098361534249882, 1.0098361534249882, 1.0098361534249882, 1.0098361534249882, 1.0098361534249882, 1.0098361534249882, 2.0196723068499765, 1.0098361534249882, 8.078689227399906, 1.0098361534249882, 8.078689227399906, 1.0098361534249882, 1.0098361534249882, 1.0098361534249882, 1.0098361534249882, 1.0098361534249882, 2640.6987336196535, 1123.9476387620118, 782.623018904366, 765.4558042961412, 1244.0861241824107, 591.7639859070431, 678.5912234971381, 547.3311951563437, 529.1541443946938, 588.7309200204154, 429.18036520562003, 363.5410152329958, 313.04920756174636, 300.93117372064654, 271.64592527132186, 257.508219123372, 255.48854681652205, 254.47871066309705, 339.29527036999696, 569.5129693547491, 230.24264298089733, 220.14428144664743, 219.13444529322246, 199.9475583781477, 191.8688691507478, 190.8590329973228, 189.8491968438978, 537.23336428009, 171.67214608224802, 153.4950953205982, 291.8294137326697, 557.3982908929859, 655.1997971376343, 264.53972898843915, 259.5081620815053, 224.14899690950378, 489.72296116247145, 688.3096811086012, 447.4954574877321, 1996.477570607008, 5398.676247406176, 2959.2728924731464, 465.23564291528527, 701.547977288699, 989.8842903558558, 438.7367412204345, 1509.802608149927, 774.4309466027033, 8775.725933753374, 554.377631726881, 1.0081371088304205, 1.0081371088304205, 1.0081371088304205, 12.097645305965045, 8.065096870643364, 10.081371088304204, 3.0244113264912613, 19.154605067777986, 1.0081371088304205, 1.0081371088304205, 5.040685544152102, 1.0081371088304205, 1.0081371088304205, 1.0081371088304205, 1.0081371088304205, 11.089508197134624, 1.0081371088304205, 1.0081371088304205, 13.105782414795465, 3.0244113264912613, 11.089508197134624, 1.0081371088304205, 11.089508197134624, 1.0081371088304205, 1.0081371088304205, 8.065096870643364, 1.0081371088304205, 3.0244113264912613, 6.048822652982523, 1.0081371088304205, 1806.5816990241135, 1778.3586372594302, 842.8026229822316, 696.6227422018205, 695.61460509299, 756.0688865030967, 504.06855441521026, 583.7210319371377, 466.76748138848467, 445.5966021030458, 1398.2437675321953, 1118.9885233720709, 369.9863189407643, 359.9049478524601, 306.4736810844478, 385.10440580688464, 457.6689903284086, 286.3109389078394, 285.302801799009, 445.58821789833416, 279.25397914602644, 261.1075111870789, 259.09123696941805, 322.5912462854334, 228.84712370450544, 212.71692996321872, 210.7006557455579, 206.6681073102362, 205.65997020140577, 195.57859911310157, 288.3188289207886, 474.7928805957683, 242.9526827219363, 280.2672133886406, 235.89610533011384, 1361.7089130735924, 730.9409030279153, 325.64697564276605, 349.70862256668124, 890.0632008121045, 1118.9206702633448, 2728.6934738918308, 14729.957930338216, 1609.1856025514705, 4131.397642395944, 1264.5972841493792, 5248.774224486671, 5398.676247406176, 3861.4004621387553, 1.0177830331547502, 1.0177830331547502, 1.0177830331547502, 15.266745497321253, 6.106698198928501, 3.0533490994642505, 1.0177830331547502, 1.0177830331547502, 1.0177830331547502, 1.0177830331547502, 1.0177830331547502, 5.088915165773751, 1.0177830331547502, 1.0177830331547502, 1.0177830331547502, 1.0177830331547502, 1.0177830331547502, 4.071132132619001, 1.0177830331547502, 1.0177830331547502, 1.0177830331547502, 7.124481232083252, 1.0177830331547502, 3.0533490994642505, 1.0177830331547502, 1.0177830331547502, 1.0177830331547502, 2.0355660663095003, 1.0177830331547502, 2.0355660663095003, 6223.716629257114, 2080.3177653018884, 1356.704783195282, 1514.3878228372741, 942.4670887012987, 2173.5524044860817, 945.3501336784694, 577.0829797987434, 743.9721658548018, 548.5850548704104, 783.5699176634749, 429.5044399913046, 377.5975053004123, 348.08179733892456, 323.65500454321057, 320.6016554437463, 282.9436832170206, 264.62358862023507, 318.5512182623182, 225.94783336035454, 207.62773876356903, 186.2542950673193, 183.20094596785503, 308.3267501130479, 156.73858710583153, 151.64967194005777, 149.6141058737483, 133.32957734327226, 129.25844521065326, 118.06283184595102, 361.2370591654798, 565.7193049870925, 212.68064106830408, 319.33478793034897, 559.3676469053325, 405.4857145088814, 1004.7267536952758, 942.5954282199075, 1432.4234648471947, 1235.8459951061777, 4369.076689042561, 642.4528721383073, 2342.3338961834443, 908.5642942488972, 5398.676247406176, 7763.258941832813, 482.314907196959, 989.8842903558558, 0.9911645489710786, 5.9469872938264725, 0.9911645489710786, 0.9911645489710786, 4.955822744855394, 2.9734936469132363, 0.9911645489710786, 0.9911645489710786, 4.955822744855394, 0.9911645489710786, 0.9911645489710786, 0.9911645489710786, 0.9911645489710786, 0.9911645489710786, 0.9911645489710786, 0.9911645489710786, 0.9911645489710786, 0.9911645489710786, 2.9734936469132363, 0.9911645489710786, 5.9469872938264725, 0.9911645489710786, 1.9823290979421573, 0.9911645489710786, 6.938151842797551, 0.9911645489710786, 0.9911645489710786, 3.9646581958843146, 0.9911645489710786, 2.9734936469132363, 6620.979187126806, 4415.744539602891, 2180.5620077363733, 1830.6649644031927, 1510.534772631924, 767.161360903615, 580.822425697052, 510.4497427201055, 466.83850256537806, 403.403971431229, 470.81616355478576, 362.7662249234148, 337.98711119913787, 333.03128845428245, 301.31402288720795, 285.45539010367065, 272.57025096704666, 265.63209912424907, 260.6762763793937, 240.8529853999721, 393.54556290988563, 233.91483355717457, 225.98551716540595, 200.2152388921579, 271.5977580225295, 1564.2670642368655, 390.53658071784275, 177.4184542658231, 148.6746823456618, 135.7895432090378, 247.82508236248836, 313.2758877142983, 317.28056484668053, 389.0367495725103, 349.244681722444, 338.35373435231617, 2777.7059556245376, 877.2490342055648, 981.2731305555453, 1646.266403086469, 1548.464408168597, 677.0759723535809, 1676.6926118005076, 594.4953778130384, 15.19371587098842, 53.684462744159084, 15.19371587098842, 17.219544653786876, 17.219544653786876, 25.3228597849807, 15.19371587098842, 107.36892548831817, 25.3228597849807, 439.60484586726494, 15.19371587098842, 126.61429892490348, 21.271202219383788, 15.19371587098842, 31.400346133376065, 125.60138453350426, 85.08480887753515, 404.1528421682919, 17.219544653786876, 41.52949004736835, 75.9685793549421, 30.38743174197684, 102.30435353132202, 53.684462744159084, 33.426174916174524, 1.012914391399228, 1.012914391399228, 1.012914391399228, 1.012914391399228, 1.012914391399228, 2576.8159934590853, 1484.9324977912684, 1263.1091147165928, 1095.9351052376446, 650.2844036139772, 624.9523457919747, 499.3716636015749, 362.62335212092364, 518.5873403160023, 330.21009159614835, 297.79683107137305, 356.52845994965827, 266.39648493799695, 734.2231337923586, 176.2471041034657, 173.20836092926797, 216.75367728607165, 131.67887088189963, 131.67887088189963, 117.49806940231045, 113.44641183671354, 110.40766866251585, 89.13646644313206, 88.12355205173284, 461.8014919890001, 350.3847517104644, 377.548125238517, 1063.6673906276806, 3368.0519769954635, 146.84707591534138, 171.11919734107389, 1639.8685566795593, 1333.7360788531732, 343.18211009901717, 1629.0828833338753, 209.48934997694653, 5248.774224486671, 7852.426032064485, 1716.9007250965446, 14729.957930338216, 3861.4004621387553, 474.3858405504349, 1694.795650498136, 1.0062787270721982, 3.018836181216595, 1.0062787270721982, 1.0062787270721982, 1.0062787270721982, 1.0062787270721982, 1.0062787270721982, 1.0062787270721982, 1.0062787270721982, 4.025114908288793, 1.0062787270721982, 1.0062787270721982, 1.0062787270721982, 54.3390512618987, 3.018836181216595, 1.0062787270721982, 1.0062787270721982, 1.0062787270721982, 1.0062787270721982, 10.062787270721984, 1.0062787270721982, 3.018836181216595, 1.0062787270721982, 1.0062787270721982, 1.0062787270721982, 4.025114908288793, 4.025114908288793, 2.0125574541443965, 1.0062787270721982, 2.0125574541443965, 3400.215818776958, 2230.8246113610135, 2687.966053213245, 1967.25379758037, 547.4156275272759, 533.3277253482651, 509.17703589853227, 494.0847133742076, 458.87460385100496, 350.184997021125, 306.91501175702047, 293.8333883050819, 260.62619031169936, 226.4127135912446, 224.4001561371002, 217.3562050475948, 2930.572485073607, 182.1364496000679, 176.0987772376347, 169.0548261481293, 153.96064524204635, 358.25205559270944, 152.95436651497414, 144.90413669839657, 143.89785797132436, 139.87274306303556, 129.8099557923136, 129.8099557923136, 126.79111961109699, 120.7534472486638, 469.02942557038733, 325.07404606865026, 248.54662281767747, 1963.4550039745977, 805.6829905478402, 6423.092464812322, 162.00437293418713, 382.1191732138008, 1071.4266738350134, 1367.5990563883106, 1506.7199920478429, 1609.1856025514705, 2342.3338961834443, 430.7209585599127, 1268.4107688688352, 496.8638165387964, 3861.4004621387553, 0.9955085685292814, 63.71254838587401, 0.9955085685292814, 1.9910171370585628, 1.9910171370585628, 0.9955085685292814, 1.9910171370585628, 0.9955085685292814, 0.9955085685292814, 0.9955085685292814, 0.9955085685292814, 1.9910171370585628, 0.9955085685292814, 0.9955085685292814, 0.9955085685292814, 0.9955085685292814, 0.9955085685292814, 0.9955085685292814, 3.9820342741171255, 0.9955085685292814, 0.9955085685292814, 0.9955085685292814, 0.9955085685292814, 0.9955085685292814, 0.9955085685292814, 0.9955085685292814, 0.9955085685292814, 0.9955085685292814, 0.9955085685292814, 0.9955085685292814, 2376.278953079395, 1495.2538699309805, 1229.4530821336625, 1232.4411799607715, 1093.068408245151, 1179.6902822474997, 1056.2345912095677, 1003.4726370775156, 910.8903402042924, 812.3349919198936, 760.568546356371, 668.9817580516772, 667.9862494831478, 1282.2534485726694, 539.5656441428705, 661.0463446732343, 573.4213719108114, 469.8800443458208, 455.9429243864109, 412.1405473711225, 460.92203935057836, 360.37410180759986, 326.5268104776043, 244.89510785820323, 236.93103930996895, 207.06578225409055, 205.07476511703197, 197.11069656879772, 194.12417086320986, 276.7640105914413, 901.1314419930042, 571.4992616991354, 1602.5010035619512, 674.1769706337353, 1153.0555463494609, 483.6909361368718, 564.0719911775669, 4719.687016771832, 1509.802608149927, 2959.2728924731464, 1694.795650498136, 5398.676247406176, 3861.4004621387553, 1676.6926118005076, 13.05128508416985, 52.2051403366794, 13.05128508416985, 9.035505058271434, 9.035505058271434, 13.05128508416985, 15.059175097119057, 9.035505058271434, 18.07101011654287, 570.2407636775749, 13.05128508416985, 65.25642542084925, 9.035505058271434, 15.059175097119057, 104.4102806733588, 26.1025701683397, 13.05128508416985, 18.07101011654287, 13.05128508416985, 9.035505058271434, 9.035505058271434, 13.05128508416985, 15.059175097119057, 120.47340077695246, 13.05128508416985, 9.035505058271434, 426.67662775170663, 217.85606640498906, 9.035505058271434, 15.059175097119057, 4180.427006960251, 2426.535080649118, 2394.4050544080815, 1437.6492492716327, 1301.1127283910866, 1157.5485924652182, 1257.8754273537165, 900.5386708077198, 746.9350848171052, 1339.2518816428017, 773.0138742292802, 565.221038645202, 539.1184684768623, 859.3832407477619, 496.94591388850466, 368.4478173761796, 346.36102723373835, 434.7013234870792, 234.92313151505732, 213.84028637909063, 368.44911800833876, 280.0719188025213, 411.61897254287493, 196.77322126902237, 463.8393614006903, 178.7022111524795, 171.67459610715727, 703.795787906466, 882.2651861804891, 251.00008964533112, 373.47709962696285, 359.3660613546092, 440.8484598463712, 361.64790169055397, 1646.266403086469, 6423.092464812322, 2172.1023980305526, 603.5316253128894, 0.9997766026353944, 0.9997766026353944, 0.9997766026353944, 0.9997766026353944, 0.9997766026353944, 0.9997766026353944, 12.997095834260126, 0.9997766026353944, 0.9997766026353944, 3.9991064105415774, 0.9997766026353944, 0.9997766026353944, 2.999329807906183, 0.9997766026353944, 0.9997766026353944, 0.9997766026353944, 3.9991064105415774, 0.9997766026353944, 1.9995532052707887, 0.9997766026353944, 0.9997766026353944, 0.9997766026353944, 0.9997766026353944, 0.9997766026353944, 2.999329807906183, 3.9991064105415774, 0.9997766026353944, 1.9995532052707887, 0.9997766026353944, 0.9997766026353944, 3516.24058704621, 2485.4446341515904, 1153.7335873875807, 812.8183779425756, 882.8071308669123, 1291.8033351262764, 1129.6247129777257, 729.8241718879365, 604.8648445944136, 603.8650679917781, 554.8760144626439, 548.8773548468315, 519.8838333704051, 542.8828636348584, 443.9008115701151, 407.90885387524094, 399.9106410541578, 371.91689618036673, 450.91725421908217, 338.9242682933987, 332.9256086775863, 314.9296298301492, 398.9152551913814, 389.9229345785934, 277.93789553263963, 255.94281027466096, 249.9441506588486, 245.945044248307, 239.94638463249464, 325.9451788896579, 319.91576480742486, 361.9694279079607, 298.9726175542744, 293.95516319400195, 14729.957930338216, 320.0598907309645, 785.4300736555941, 458.920402809075, 655.4946178923419, 5248.774224486671, 1415.8928836692548, 3368.0519769954635, 0.9870285667340567, 1.9740571334681134, 0.9870285667340567, 0.9870285667340567, 0.9870285667340567, 0.9870285667340567, 1.9740571334681134, 0.9870285667340567, 0.9870285667340567, 0.9870285667340567, 5.922171400404341, 1.9740571334681134, 0.9870285667340567, 1.9740571334681134, 0.9870285667340567, 0.9870285667340567, 0.9870285667340567, 0.9870285667340567, 2.9610857002021707, 9.870285667340568, 3.948114266936227, 1.9740571334681134, 0.9870285667340567, 5.922171400404341, 1.9740571334681134, 0.9870285667340567, 0.9870285667340567, 0.9870285667340567, 0.9870285667340567, 0.9870285667340567, 6634.80602558633, 4578.8255210792895, 4008.3230095070044, 3074.593985376587, 2194.164503849808, 1192.3305086147407, 1187.426120247491, 832.06508175681, 794.5579962209157, 729.414110816468, 727.4400536829999, 708.6865109150527, 703.7513680813826, 614.9187970753175, 588.2690257734978, 672.1892615325836, 560.6322259049443, 451.0720549974639, 295.12154145348296, 287.22531291961053, 805.5582606167088, 312.90916419679235, 291.1926773468849, 187.53542767947079, 183.58731341253457, 177.66514201213022, 146.0802278766404, 144.1061707431723, 442.3028358303121, 127.32668510869334, 183.69085671119527, 679.5468621049654, 8775.725933753374, 312.7738526296078, 1415.8928836692548, 368.9169248253828], \"loglift\": [30.0, 29.0, 28.0, 27.0, 26.0, 25.0, 24.0, 23.0, 22.0, 21.0, 20.0, 19.0, 18.0, 17.0, 16.0, 15.0, 14.0, 13.0, 12.0, 11.0, 10.0, 9.0, 8.0, 7.0, 6.0, 5.0, 4.0, 3.0, 2.0, 1.0, 2.6934, 2.6934, 2.6934, 2.6934, 2.6934, 2.6934, 2.6934, 2.6934, 2.6934, 2.6934, 2.6934, 2.6934, 2.6934, 2.6934, 2.6934, 2.6934, 2.6934, 2.6934, 2.6934, 2.6934, 2.6934, 2.6934, 2.6934, 2.6934, 2.6934, 2.6934, 2.6934, 2.6934, 2.6934, 2.6934, 2.6934, 2.6934, 2.6934, 2.6934, 2.6934, 2.6934, 2.6934, 2.6934, 2.6934, 2.6916, 2.6934, 2.6901, 2.6934, 2.6934, 2.6877, 2.6934, 2.6934, 2.6934, 2.6934, 2.6934, 2.6934, 2.691, 2.6934, 2.6934, 2.6908, 2.6934, 2.6934, 2.6906, 2.6861, 2.6856, 2.6786, 2.6826, 1.1401, 1.9202, 1.0919, 1.7102, 1.9917, 1.5429, 2.694, 2.694, 2.694, 2.694, 2.694, 2.694, 2.694, 2.694, 2.694, 2.694, 2.694, 2.694, 2.694, 2.694, 2.694, 2.694, 2.694, 2.694, 2.694, 2.694, 2.694, 2.694, 2.694, 2.694, 2.694, 2.694, 2.694, 2.694, 2.694, 2.694, 2.694, 2.6932, 2.694, 2.694, 2.6929, 2.694, 2.694, 2.694, 2.694, 2.694, 2.694, 2.694, 2.6904, 2.6882, 2.694, 2.6915, 2.694, 2.6897, 2.694, 2.694, 2.6888, 2.694, 2.694, 2.694, 2.694, 2.694, 2.694, 2.694, 2.694, 2.6814, 2.6831, 2.6773, 2.677, 2.6723, 2.6821, 2.5705, 2.6452, 2.5859, 2.5279, 2.492, 2.5043, 2.4596, 2.3205, 2.075, 1.7482, 1.9183, 1.3369, 2.6981, 2.6981, 2.6981, 2.6981, 2.6981, 2.6981, 2.6981, 2.6981, 2.6981, 2.6981, 2.6981, 2.6981, 2.6981, 2.6981, 2.6981, 2.6981, 2.6981, 2.6981, 2.6981, 2.6981, 2.6981, 2.6981, 2.6981, 2.6981, 2.6981, 2.6981, 2.6981, 2.6981, 2.6981, 2.6981, 2.6967, 2.6978, 2.6981, 2.6981, 2.6981, 2.6981, 2.6981, 2.6981, 2.6981, 2.6957, 2.6981, 2.6981, 2.6964, 2.6981, 2.6981, 2.6981, 2.6981, 2.6981, 2.6981, 2.6981, 2.6981, 2.6933, 2.6981, 2.6863, 2.6981, 2.6981, 2.6981, 2.6839, 2.6918, 2.67, 2.684, 2.2828, 2.4651, 2.1236, 2.4604, 2.0058, 2.4161, 1.8109, 2.7, 2.7, 2.7, 2.7, 2.7, 2.7, 2.7, 2.7, 2.7, 2.7, 2.7, 2.7, 2.7, 2.7, 2.7, 2.7, 2.7, 2.7, 2.7, 2.7, 2.7, 2.7, 2.7, 2.7, 2.7, 2.7, 2.7, 2.7, 2.7, 2.7, 2.7, 2.7, 2.6994, 2.7, 2.6992, 2.695, 2.7, 2.7, 2.6974, 2.6923, 2.7, 2.7, 2.7, 2.7, 2.695, 2.6889, 2.7, 2.7, 2.7, 2.7, 2.7, 2.7, 2.6853, 2.7, 2.7, 2.7, 2.6954, 2.691, 2.7, 2.7, 2.6858, 2.6913, 2.6946, 2.6774, 2.6622, 2.4402, 2.6772, 2.313, 2.3516, 2.1172, 2.44, 2.4899, 2.0061, 2.0619, 1.1557, 1.2964, 2.1944, 1.5505, 2.7027, 2.7027, 2.7027, 2.7027, 2.7027, 2.7027, 2.7027, 2.7027, 2.7027, 2.7027, 2.7027, 2.7027, 2.7027, 2.7027, 2.7027, 2.7027, 2.7027, 2.7027, 2.7027, 2.7027, 2.7027, 2.7027, 2.7027, 2.7027, 2.7027, 2.7027, 2.7027, 2.7027, 2.7027, 2.7027, 2.7027, 2.7027, 2.7027, 2.7027, 2.7016, 2.6991, 2.7027, 2.701, 2.7027, 2.695, 2.6982, 2.6944, 2.7027, 2.6951, 2.7004, 2.7002, 2.7027, 2.6923, 2.7027, 2.7027, 2.694, 2.7027, 2.7027, 2.7027, 2.7027, 2.7027, 2.7027, 2.7027, 2.7027, 2.7027, 2.6955, 2.6815, 2.6007, 2.5066, 2.6487, 2.5853, 2.6484, 2.6823, 2.6494, 2.5284, 1.9349, 1.4863, 1.4842, 2.4129, 1.9708, 1.6687, 1.6164, 0.7263, 1.4449, 2.7029, 2.7029, 2.7029, 2.7029, 2.7029, 2.7029, 2.7029, 2.7029, 2.7029, 2.7029, 2.7029, 2.7029, 2.7029, 2.7029, 2.7029, 2.7029, 2.7029, 2.7029, 2.7029, 2.7029, 2.7029, 2.7029, 2.7029, 2.7029, 2.7029, 2.7029, 2.7029, 2.7029, 2.7029, 2.7029, 2.7025, 2.7029, 2.7029, 2.7029, 2.6956, 2.7029, 2.7014, 2.7029, 2.7029, 2.7012, 2.7029, 2.7029, 2.7029, 2.7029, 2.7029, 2.7029, 2.7029, 2.7029, 2.6999, 2.694, 2.7029, 2.7029, 2.7029, 2.7029, 2.7029, 2.7029, 2.7029, 2.6915, 2.7029, 2.7029, 2.696, 2.6828, 2.6734, 2.6953, 2.6951, 2.6985, 2.6435, 2.5968, 2.5904, 2.2634, 2.0396, 2.0123, 2.5024, 2.2841, 2.1177, 2.4665, 1.6582, 2.0644, 0.3543, 2.247, 2.7034, 2.7034, 2.7034, 2.7034, 2.7034, 2.7034, 2.7034, 2.7034, 2.7034, 2.7034, 2.7034, 2.7034, 2.7034, 2.7034, 2.7034, 2.7034, 2.7034, 2.7034, 2.7034, 2.7034, 2.7034, 2.7034, 2.7034, 2.7034, 2.7034, 2.7034, 2.7034, 2.7034, 2.7034, 2.7034, 2.7034, 2.7028, 2.7034, 2.7034, 2.7034, 2.7008, 2.7034, 2.7017, 2.7034, 2.7034, 2.6918, 2.6935, 2.7034, 2.7034, 2.7034, 2.7008, 2.6991, 2.7034, 2.7034, 2.6989, 2.7034, 2.7034, 2.7034, 2.7003, 2.7034, 2.7034, 2.7034, 2.7034, 2.7034, 2.7034, 2.6964, 2.682, 2.6993, 2.6925, 2.6992, 2.5767, 2.5957, 2.6687, 2.6382, 2.3451, 2.0475, 1.6243, 0.7346, 1.7578, 1.0457, 1.5065, 0.2792, 0.2291, 0.3608, 2.7078, 2.7078, 2.7078, 2.7078, 2.7078, 2.7078, 2.7078, 2.7078, 2.7078, 2.7078, 2.7078, 2.7078, 2.7078, 2.7078, 2.7078, 2.7078, 2.7078, 2.7078, 2.7078, 2.7078, 2.7078, 2.7078, 2.7078, 2.7078, 2.7078, 2.7078, 2.7078, 2.7078, 2.7078, 2.7078, 2.7077, 2.7073, 2.7078, 2.7065, 2.7078, 2.6967, 2.7037, 2.7078, 2.7051, 2.7078, 2.7028, 2.7078, 2.7078, 2.7078, 2.7078, 2.7078, 2.7078, 2.7078, 2.7047, 2.7078, 2.7078, 2.7078, 2.7078, 2.7014, 2.7078, 2.7078, 2.7078, 2.7078, 2.7078, 2.7078, 2.6938, 2.6826, 2.6984, 2.6496, 2.5807, 2.6009, 2.4047, 2.4106, 2.3273, 2.2379, 1.8896, 2.3605, 1.8345, 2.1921, 1.3548, 0.9095, 2.4274, 1.8823, 2.7092, 2.7092, 2.7092, 2.7092, 2.7092, 2.7092, 2.7092, 2.7092, 2.7092, 2.7092, 2.7092, 2.7092, 2.7092, 2.7092, 2.7092, 2.7092, 2.7092, 2.7092, 2.7092, 2.7092, 2.7092, 2.7092, 2.7092, 2.7092, 2.7092, 2.7092, 2.7092, 2.7092, 2.7092, 2.7092, 2.7092, 2.7083, 2.7092, 2.7086, 2.7092, 2.7092, 2.7092, 2.7092, 2.7092, 2.7092, 2.707, 2.7092, 2.7092, 2.7092, 2.7092, 2.7092, 2.7092, 2.7092, 2.7092, 2.7092, 2.704, 2.7092, 2.7092, 2.7092, 2.7054, 2.6879, 2.7015, 2.7092, 2.7092, 2.7092, 2.701, 2.6962, 2.6835, 2.6474, 2.6527, 2.6414, 2.2169, 2.4233, 2.2961, 2.074, 2.0922, 2.3584, 1.8254, 2.0933, 2.7111, 2.7111, 2.7111, 2.7111, 2.7111, 2.7111, 2.7111, 2.7111, 2.7111, 2.7111, 2.7111, 2.7111, 2.7111, 2.7111, 2.7111, 2.7111, 2.7111, 2.7111, 2.7111, 2.7111, 2.7111, 2.7111, 2.7111, 2.7111, 2.7111, 2.7111, 2.7111, 2.7111, 2.7111, 2.7111, 2.708, 2.7111, 2.7103, 2.7084, 2.7096, 2.7095, 2.7091, 2.7111, 2.7072, 2.7111, 2.7111, 2.7083, 2.7111, 2.6988, 2.7111, 2.7111, 2.7065, 2.7111, 2.7111, 2.7111, 2.7111, 2.7111, 2.7111, 2.7111, 2.6891, 2.6909, 2.6736, 2.642, 2.5924, 2.6974, 2.6875, 2.4746, 2.4838, 2.5828, 2.3493, 2.642, 2.0394, 1.9247, 2.1804, 1.4613, 1.6498, 2.3145, 1.4155, 2.7127, 2.7127, 2.7127, 2.7127, 2.7127, 2.7127, 2.7127, 2.7127, 2.7127, 2.7127, 2.7127, 2.7127, 2.7127, 2.7127, 2.7127, 2.7127, 2.7127, 2.7127, 2.7127, 2.7127, 2.7127, 2.7127, 2.7127, 2.7127, 2.7127, 2.7127, 2.7127, 2.7127, 2.7127, 2.7127, 2.7127, 2.7109, 2.7062, 2.7076, 2.7127, 2.7127, 2.7127, 2.7107, 2.7105, 2.7127, 2.7127, 2.7127, 2.7127, 2.7127, 2.7127, 2.7127, 2.6858, 2.7127, 2.7127, 2.7127, 2.7127, 2.7042, 2.7127, 2.7127, 2.7127, 2.7127, 2.7127, 2.7127, 2.7127, 2.7127, 2.693, 2.7001, 2.7046, 2.6556, 2.6513, 2.4938, 2.7065, 2.634, 2.5187, 2.4461, 2.3767, 2.221, 2.0325, 2.3997, 1.4788, 2.1347, 0.1505, 2.7148, 2.7148, 2.7148, 2.7148, 2.7148, 2.7148, 2.7148, 2.7148, 2.7148, 2.7148, 2.7148, 2.7148, 2.7148, 2.7148, 2.7148, 2.7148, 2.7148, 2.7148, 2.7148, 2.7148, 2.7148, 2.7148, 2.7148, 2.7148, 2.7148, 2.7148, 2.7148, 2.7148, 2.7148, 2.7148, 2.7148, 2.7148, 2.7148, 2.714, 2.7148, 2.714, 2.7148, 2.7148, 2.7148, 2.7148, 2.7148, 2.7148, 2.7148, 2.7078, 2.7148, 2.7118, 2.7131, 2.7148, 2.7148, 2.7148, 2.7127, 2.7148, 2.7148, 2.7148, 2.7148, 2.7148, 2.7148, 2.7148, 2.7148, 2.7112, 2.6934, 2.7024, 2.609, 2.6362, 2.5985, 2.647, 2.5997, 2.0908, 2.2544, 1.9928, 2.1917, 0.7641, 1.028, 1.6453, 2.7192, 2.7192, 2.7192, 2.7192, 2.7192, 2.7192, 2.7192, 2.7192, 2.7192, 2.7192, 2.7192, 2.7192, 2.7192, 2.7192, 2.7192, 2.7192, 2.7192, 2.7192, 2.7192, 2.7192, 2.7192, 2.7192, 2.7192, 2.7192, 2.7192, 2.7192, 2.7192, 2.7192, 2.7192, 2.7192, 2.7192, 2.7192, 2.7188, 2.7192, 2.7192, 2.7192, 2.7161, 2.7192, 2.7192, 2.7125, 2.7167, 2.7192, 2.7192, 2.7122, 2.7172, 2.7192, 2.7192, 2.717, 2.7192, 2.7192, 2.7138, 2.7158, 2.7119, 2.7192, 2.7105, 2.7192, 2.7192, 2.7005, 2.6918, 2.7152, 2.7057, 2.6996, 2.6889, 2.6556, 1.9646, 1.0896, 1.6571, 2.3043, 2.7196, 2.7196, 2.7196, 2.7196, 2.7196, 2.7196, 2.7196, 2.7196, 2.7196, 2.7196, 2.7196, 2.7196, 2.7196, 2.7196, 2.7196, 2.7196, 2.7196, 2.7196, 2.7196, 2.7196, 2.7196, 2.7196, 2.7196, 2.7196, 2.7196, 2.7196, 2.7196, 2.7196, 2.7196, 2.7196, 2.719, 2.7196, 2.7187, 2.7196, 2.7185, 2.7141, 2.7153, 2.7182, 2.7196, 2.7196, 2.7196, 2.7196, 2.7196, 2.7177, 2.7196, 2.7196, 2.7196, 2.7196, 2.7173, 2.7196, 2.7196, 2.7196, 2.7171, 2.717, 2.7196, 2.7196, 2.7196, 2.7196, 2.7196, 2.7165, 2.7165, 2.7055, 2.7094, 2.7024, 2.159, 2.6874, 2.4366, 2.5795, 2.3931, 1.1054, 1.6805, 0.5295, 2.7326, 2.7326, 2.7326, 2.7326, 2.7326, 2.7326, 2.7326, 2.7326, 2.7326, 2.7326, 2.7326, 2.7326, 2.7326, 2.7326, 2.7326, 2.7326, 2.7326, 2.7326, 2.7326, 2.7326, 2.7326, 2.7326, 2.7326, 2.7326, 2.7326, 2.7326, 2.7326, 2.7326, 2.7326, 2.7326, 2.7326, 2.7326, 2.7326, 2.7326, 2.7326, 2.7326, 2.7318, 2.7326, 2.7326, 2.7326, 2.7326, 2.7326, 2.7326, 2.7326, 2.7326, 2.7311, 2.7326, 2.7326, 2.7326, 2.7326, 2.7214, 2.7294, 2.7292, 2.7326, 2.7326, 2.7326, 2.7326, 2.7326, 2.7211, 2.7326, 2.7103, 2.5867, 2.1423, 2.6124, 2.2917, 2.5584], \"logprob\": [30.0, 29.0, 28.0, 27.0, 26.0, 25.0, 24.0, 23.0, 22.0, 21.0, 20.0, 19.0, 18.0, 17.0, 16.0, 15.0, 14.0, 13.0, 12.0, 11.0, 10.0, 9.0, 8.0, 7.0, 6.0, 5.0, 4.0, 3.0, 2.0, 1.0, -10.8556, -9.2461, -10.8556, -5.1891, -10.8556, -8.553, -10.8556, -10.8556, -8.6583, -9.2461, -10.8556, -5.8317, -10.8556, -10.8556, -10.8556, -10.8556, -8.553, -9.4693, -8.2906, -10.8556, -10.8556, -10.8556, -9.2461, -8.6583, -9.4693, -4.4891, -9.4693, -9.2461, -10.1624, -5.8719, -3.8671, -4.0399, -4.0756, -4.3603, -4.467, -4.4908, -4.5187, -4.688, -4.6986, -4.5402, -4.753, -4.4454, -4.7756, -4.7918, -4.3131, -4.9075, -4.9448, -4.9919, -5.0149, -5.0149, -5.0414, -4.8082, -5.0504, -5.0625, -4.9286, -5.2101, -5.2136, -5.0005, -4.5789, -4.637, -4.4603, -4.7331, -3.3321, -4.3513, -3.8943, -4.7222, -4.8082, -4.7419, -4.4507, -8.5583, -8.0276, -8.5583, -8.9149, -8.2218, -7.8651, -8.5583, -9.2514, -8.6636, -9.2514, -7.1473, -9.2514, -7.3643, -8.6636, -8.9149, -7.9164, -7.9164, -7.4596, -7.4596, -9.2514, -6.5842, -7.3643, -9.2514, -8.6636, -8.0276, -7.9705, -8.5583, -8.9149, -6.929, -3.0268, -3.7267, -3.8967, -4.0097, -3.9621, -4.1812, -4.2158, -4.4773, -4.4841, -4.5047, -4.5674, -4.8594, -4.5276, -4.3169, -5.0832, -4.8496, -5.1051, -4.7231, -5.3354, -5.3354, -4.9128, -5.4856, -5.5233, -5.6405, -5.7192, -5.7309, -5.7982, -5.8704, -5.891, -5.0925, -5.2225, -4.9803, -4.9915, -4.9528, -5.3196, -3.1687, -4.721, -4.3285, -3.9877, -3.8761, -4.0562, -3.8151, -4.0889, -4.1964, -3.8743, -4.2886, -4.8973, -8.0456, -8.481, -4.4753, -7.0947, -8.0456, -7.7878, -7.0947, -8.0456, -8.481, -8.0456, -8.481, -7.7878, -6.9086, -8.481, -5.1684, -8.481, -8.481, -4.5708, -8.481, -8.481, -8.481, -6.9086, -10.8789, -10.8789, -10.8789, -10.8789, -10.8789, -10.8789, -10.8789, -10.8789, -2.4802, -2.8688, -3.0528, -3.4098, -3.4422, -3.4918, -3.8244, -3.8296, -3.9882, -4.1301, -4.4395, -4.5873, -4.467, -4.6523, -4.703, -4.724, -4.9102, -4.9654, -5.1585, -5.2021, -5.2299, -4.8058, -5.3259, -4.217, -5.3941, -5.4108, -5.4235, -4.4158, -5.1074, -4.9817, -5.2124, -3.3575, -4.2312, -3.1019, -4.3656, -4.0687, -4.841, -4.2927, -10.8517, -10.8517, -9.4654, -10.8517, -10.8517, -7.5936, -10.1586, -10.8517, -10.8517, -9.2423, -10.8517, -10.8517, -10.8517, -9.2423, -10.1586, -10.8517, -6.5891, -10.8517, -8.0792, -10.8517, -10.8517, -10.8517, -10.8517, -10.8517, -9.4654, -10.8517, -10.8517, -10.8517, -10.8517, -10.1586, -3.2634, -3.3529, -3.3348, -3.4659, -3.6917, -3.6025, -4.4124, -4.4887, -4.229, -3.7717, -4.7097, -5.014, -5.3027, -5.3144, -4.8603, -4.2697, -5.3795, -5.4224, -5.4672, -5.5287, -5.5839, -5.7159, -4.3355, -5.8019, -5.8959, -5.9101, -5.4581, -5.0526, -5.9919, -6.0155, -5.014, -5.4007, -5.61, -4.9995, -5.0228, -2.1546, -5.4952, -3.5077, -3.9038, -3.0524, -4.4366, -4.9142, -4.0684, -4.3445, -3.4276, -3.9291, -4.8259, -4.318, -10.8451, -10.8451, -9.4588, -10.8451, -10.8451, -9.4588, -10.8451, -10.1519, -10.8451, -10.8451, -10.8451, -8.7656, -10.8451, -10.8451, -10.8451, -10.8451, -9.4588, -10.8451, -9.7465, -10.8451, -10.8451, -9.4588, -9.7465, -9.7465, -10.8451, -10.8451, -10.8451, -9.0533, -9.2356, -10.8451, -2.3836, -3.3259, -3.4837, -4.0416, -3.9971, -3.8169, -4.4186, -4.4333, -4.6009, -3.8952, -4.3245, -3.974, -4.8892, -4.1617, -4.7448, -4.8241, -5.1996, -4.2104, -5.2999, -5.2999, -4.7248, -5.7331, -5.7452, -5.7513, -5.7762, -5.7825, -5.8212, -5.8479, -5.9034, -5.9106, -5.2103, -5.046, -3.8213, -3.4875, -5.1926, -4.6713, -5.2541, -5.5772, -5.3812, -4.8412, -3.1575, -3.097, -3.8089, -4.9758, -4.5609, -4.284, -4.252, -3.7459, -4.3758, -10.8392, -10.8392, -10.8392, -10.8392, -10.8392, -10.8392, -8.7598, -10.8392, -10.8392, -10.1461, -10.8392, -10.8392, -10.8392, -10.8392, -10.8392, -10.8392, -10.8392, -10.8392, -10.8392, -10.8392, -10.1461, -10.8392, -8.7598, -10.8392, -8.7598, -10.8392, -10.8392, -10.8392, -10.8392, -10.8392, -2.9706, -3.8244, -4.1864, -4.2085, -3.7302, -4.4659, -4.3305, -4.544, -4.5777, -4.4728, -4.7871, -4.9531, -5.1027, -5.1421, -5.2445, -5.298, -5.3058, -5.3098, -5.0251, -4.5131, -5.4099, -5.4547, -5.4593, -5.551, -5.5922, -5.5975, -5.6028, -4.5739, -5.7034, -5.8153, -5.1797, -4.5458, -4.3935, -5.2785, -5.298, -5.4411, -4.7145, -4.4209, -4.8578, -3.6893, -2.9184, -3.5469, -4.907, -4.7145, -4.5366, -5.0015, -4.5739, -4.8353, -4.1178, -4.987, -10.8404, -10.8404, -10.8404, -8.3555, -8.7609, -8.5378, -9.7418, -7.8959, -10.8404, -10.8404, -9.2309, -10.8404, -10.8404, -10.8404, -10.8404, -8.4425, -10.8404, -10.8404, -8.2754, -9.7418, -8.4425, -10.8404, -8.4425, -10.8404, -10.8404, -8.7609, -10.8404, -9.7418, -9.0486, -10.8404, -3.3493, -3.3656, -4.1117, -4.3022, -4.3037, -4.223, -4.6258, -4.4808, -4.7026, -4.7491, -3.6171, -3.8382, -4.935, -4.9626, -5.1233, -4.8976, -4.7267, -5.1914, -5.1949, -4.7536, -5.2163, -5.2835, -5.2913, -5.0752, -5.4154, -5.4885, -5.498, -5.5174, -5.5222, -5.5725, -5.1914, -4.707, -5.3597, -5.2236, -5.3893, -3.7587, -4.3619, -5.0974, -5.0565, -4.4155, -4.4843, -4.016, -3.2197, -4.4106, -4.1798, -4.9028, -4.707, -4.7289, -4.9323, -10.8264, -10.8264, -10.8264, -8.1184, -9.0347, -9.7278, -10.8264, -10.8264, -10.8264, -10.8264, -10.8264, -9.217, -10.8264, -10.8264, -10.8264, -10.8264, -10.8264, -9.4401, -10.8264, -10.8264, -10.8264, -8.8805, -10.8264, -9.7278, -10.8264, -10.8264, -10.8264, -10.1333, -10.8264, -10.1333, -2.1081, -3.2043, -3.6312, -3.5226, -3.9956, -3.171, -3.9966, -4.4861, -4.2348, -4.5367, -4.1853, -4.7814, -4.9102, -4.9916, -5.0644, -5.0739, -5.1988, -5.2658, -5.0834, -5.4238, -5.5083, -5.6169, -5.6335, -5.1193, -5.7895, -5.8225, -5.836, -5.9512, -5.9822, -6.0728, -4.9685, -4.5312, -5.4937, -5.1361, -4.6444, -4.9459, -4.2348, -4.2926, -3.9574, -4.1944, -3.28, -4.7261, -3.9585, -4.5479, -3.6031, -3.6852, -4.9459, -4.772, -10.8516, -9.0598, -10.8516, -10.8516, -9.2421, -9.753, -10.8516, -10.8516, -9.2421, -10.8516, -10.8516, -10.8516, -10.8516, -10.8516, -10.8516, -10.8516, -10.8516, -10.8516, -9.753, -10.8516, -9.0598, -10.8516, -10.1584, -10.8516, -8.9057, -10.8516, -10.8516, -9.4653, -10.8516, -9.753, -2.0447, -2.4507, -3.1554, -3.3308, -3.5225, -4.2, -4.4783, -4.6074, -4.6967, -4.8428, -4.6904, -4.949, -5.0197, -5.0345, -5.1346, -5.1886, -5.2348, -5.2606, -5.2794, -5.3585, -4.8727, -5.3878, -5.4222, -5.5433, -5.2421, -3.5088, -4.8829, -5.6642, -5.841, -5.9316, -5.3382, -5.1086, -5.1086, -4.9408, -5.0434, -5.0864, -3.4056, -4.3518, -4.367, -4.0717, -4.1146, -4.6757, -4.3019, -5.0708, -8.1199, -6.8577, -8.1199, -7.9947, -7.9947, -7.6091, -8.1199, -6.1645, -7.6091, -4.7549, -8.1199, -5.9996, -7.7834, -8.1199, -7.394, -6.0077, -6.3971, -4.839, -7.9947, -7.1144, -6.5105, -7.4267, -6.2128, -6.8577, -7.3314, -10.8279, -10.8279, -10.8279, -10.8279, -10.8279, -2.9896, -3.5377, -3.7003, -3.8442, -4.3649, -4.4047, -4.6295, -4.9474, -4.5935, -5.041, -5.1444, -4.9672, -5.2558, -4.2543, -5.6689, -5.6863, -5.4667, -5.9604, -5.9604, -6.0744, -6.1094, -6.1366, -6.3506, -6.362, -4.7276, -5.0019, -4.9446, -3.9404, -2.8374, -5.8651, -5.722, -3.6749, -3.8724, -5.1309, -3.8069, -5.5653, -2.9468, -2.6586, -3.9232, -2.493, -3.6433, -5.0754, -4.7011, -10.8329, -9.7343, -10.8329, -10.8329, -10.8329, -10.8329, -10.8329, -10.8329, -10.8329, -9.4466, -10.8329, -10.8329, -10.8329, -6.8439, -9.7343, -10.8329, -10.8329, -10.8329, -10.8329, -8.5303, -10.8329, -9.7343, -10.8329, -10.8329, -10.8329, -9.4466, -9.4466, -10.1398, -10.8329, -10.1398, -2.7076, -3.1308, -2.9491, -3.2599, -4.534, -4.5601, -4.6064, -4.6385, -4.7126, -4.9807, -5.1126, -5.1562, -5.2761, -5.4168, -5.4258, -5.4577, -2.8831, -5.6344, -5.6681, -5.709, -5.8025, -4.9665, -5.8091, -5.8631, -5.8701, -5.8985, -5.9731, -5.9731, -5.9966, -6.0454, -4.7082, -5.0677, -5.3317, -3.3138, -4.2089, -2.2905, -5.7578, -4.9721, -4.0564, -3.885, -3.8575, -3.9474, -3.7605, -5.0867, -4.9276, -5.2089, -5.1426, -10.8415, -6.6827, -10.8415, -10.1484, -10.1484, -10.8415, -10.1484, -10.8415, -10.8415, -10.8415, -10.8415, -10.1484, -10.8415, -10.8415, -10.8415, -10.8415, -10.8415, -10.8415, -9.4552, -10.8415, -10.8415, -10.8415, -10.8415, -10.8415, -10.8415, -10.8415, -10.8415, -10.8415, -10.8415, -10.8415, -3.0637, -3.527, -3.7227, -3.7211, -3.8403, -3.7649, -3.8746, -3.9258, -4.0226, -4.1371, -4.203, -4.3313, -4.3328, -3.6877, -4.5463, -4.3463, -4.4872, -4.6846, -4.7147, -4.8157, -4.706, -4.9499, -5.0485, -5.3362, -5.3693, -5.504, -5.5137, -5.5533, -5.5685, -5.2175, -4.0548, -4.5012, -3.5636, -4.4022, -3.9033, -4.7234, -4.617, -3.0016, -3.9777, -3.5664, -3.9248, -4.1939, -4.2651, -4.482, -8.2637, -6.8775, -8.2637, -8.6315, -8.6315, -8.2637, -8.1206, -8.6315, -7.9383, -4.4866, -8.2637, -6.6543, -8.6315, -8.1206, -6.1843, -7.5706, -8.2637, -7.9383, -8.2637, -8.6315, -8.6315, -8.2637, -8.1206, -6.0412, -8.2637, -8.6315, -4.7766, -5.4488, -8.6315, -8.1206, -2.4945, -3.0384, -3.0522, -3.5619, -3.6617, -3.7786, -3.6986, -4.0296, -4.2167, -3.6395, -4.1849, -4.4954, -4.5427, -4.0835, -4.6262, -4.9233, -4.9852, -4.7603, -5.3734, -5.4674, -4.9288, -5.2011, -4.8199, -5.5506, -4.7018, -5.6469, -5.687, -4.2949, -4.0776, -5.3112, -4.9233, -4.9679, -4.7743, -5.0057, -4.181, -3.6946, -4.2113, -4.8448, -10.8325, -10.8325, -10.8325, -10.8325, -10.8325, -10.8325, -8.2676, -10.8325, -10.8325, -9.4462, -10.8325, -10.8325, -9.7339, -10.8325, -10.8325, -10.8325, -9.4462, -10.8325, -10.1394, -10.8325, -10.8325, -10.8325, -10.8325, -10.8325, -9.7339, -9.4462, -10.8325, -10.1394, -10.8325, -10.8325, -2.6677, -3.0141, -3.7824, -4.1318, -4.0503, -3.674, -3.807, -4.2408, -4.4273, -4.4289, -4.5135, -4.5244, -4.5787, -4.5373, -4.7367, -4.8212, -4.8411, -4.9136, -4.7233, -5.0065, -5.0244, -5.0799, -4.8461, -4.8689, -5.2049, -5.2873, -5.3111, -5.3272, -5.3519, -5.0487, -5.0673, -4.9548, -5.1422, -5.1661, -1.7952, -5.0959, -4.449, -4.8436, -4.6734, -3.8807, -4.6159, -4.9003, -10.8323, -10.1392, -10.8323, -10.8323, -10.8323, -10.8323, -10.1392, -10.8323, -10.8323, -10.8323, -9.0406, -10.1392, -10.8323, -10.1392, -10.8323, -10.8323, -10.8323, -10.8323, -9.7337, -8.5297, -9.446, -10.1392, -10.8323, -9.0406, -10.1392, -10.8323, -10.8323, -10.8323, -10.8323, -10.8323, -2.0192, -2.3901, -2.5231, -2.7883, -3.1257, -3.7356, -3.7406, -4.0954, -4.1415, -4.227, -4.2297, -4.2558, -4.2628, -4.3978, -4.4421, -4.3102, -4.4902, -4.7076, -5.1319, -5.159, -4.139, -5.0766, -5.1487, -5.5853, -5.6066, -5.6394, -5.8351, -5.8487, -4.7387, -5.9725, -5.6283, -4.4438, -2.3298, -5.194, -4.0047, -5.0829]}, \"token.table\": {\"Topic\": [10, 12, 8, 5, 12, 7, 9, 11, 14, 3, 5, 3, 8, 8, 7, 6, 12, 7, 11, 10, 4, 6, 3, 3, 1, 6, 14, 13, 2, 1, 10, 4, 3, 5, 15, 4, 9, 1, 1, 7, 10, 14, 4, 8, 5, 7, 2, 10, 1, 2, 8, 11, 2, 6, 8, 2, 3, 4, 10, 3, 1, 5, 7, 15, 12, 8, 14, 9, 13, 14, 11, 7, 15, 5, 9, 8, 11, 2, 4, 15, 3, 6, 7, 9, 12, 5, 9, 2, 3, 5, 9, 15, 13, 2, 10, 13, 3, 3, 8, 15, 5, 13, 6, 2, 5, 6, 9, 10, 10, 5, 2, 1, 1, 2, 7, 11, 7, 12, 15, 1, 7, 14, 12, 1, 3, 1, 6, 7, 7, 10, 7, 15, 8, 8, 6, 11, 9, 3, 3, 5, 11, 2, 7, 8, 12, 13, 7, 11, 10, 2, 3, 6, 10, 5, 2, 6, 9, 13, 6, 10, 13, 4, 12, 14, 15, 5, 1, 14, 15, 6, 11, 11, 7, 6, 7, 9, 15, 10, 4, 10, 8, 5, 2, 3, 10, 3, 9, 12, 2, 11, 9, 2, 13, 8, 2, 12, 7, 6, 7, 8, 2, 14, 3, 2, 13, 2, 5, 10, 6, 4, 6, 7, 7, 2, 2, 3, 9, 11, 15, 6, 3, 7, 13, 7, 15, 15, 14, 6, 3, 4, 12, 15, 1, 5, 6, 8, 15, 12, 15, 9, 13, 14, 15, 3, 15, 15, 13, 14, 8, 9, 1, 15, 15, 15, 15, 15, 8, 15, 15, 13, 15, 10, 15, 10, 12, 14, 10, 14, 4, 5, 11, 10, 14, 1, 2, 8, 10, 13, 10, 3, 4, 2, 9, 2, 11, 2, 10, 3, 1, 5, 5, 11, 14, 7, 13, 8, 13, 6, 12, 9, 13, 7, 14, 15, 2, 11, 9, 9, 1, 14, 5, 8, 6, 6, 10, 6, 5, 7, 15, 11, 4, 4, 8, 10, 5, 7, 5, 11, 1, 9, 8, 4, 7, 11, 2, 5, 11, 8, 13, 9, 2, 11, 4, 2, 8, 15, 1, 9, 11, 15, 7, 7, 4, 7, 14, 4, 6, 14, 14, 4, 3, 2, 6, 2, 4, 5, 5, 15, 3, 5, 3, 7, 4, 1, 5, 5, 13, 11, 13, 15, 8, 10, 12, 10, 14, 4, 9, 13, 3, 4, 5, 8, 2, 6, 4, 6, 2, 2, 6, 13, 13, 1, 7, 12, 6, 2, 9, 14, 10, 6, 11, 12, 8, 2, 7, 9, 7, 13, 8, 4, 10, 12, 4, 7, 2, 10, 3, 8, 7, 5, 14, 1, 2, 13, 15, 13, 4, 6, 9, 2, 9, 12, 12, 12, 8, 9, 1, 4, 1, 9, 1, 13, 2, 11, 3, 2, 7, 4, 9, 3, 14, 4, 14, 11, 7, 5, 6, 11, 3, 1, 1, 14, 6, 9, 10, 13, 6, 14, 5, 1, 3, 1, 11, 4, 10, 4, 10, 6, 15, 4, 3, 4, 2, 2, 8, 15, 14, 10, 5, 11, 6, 10, 15, 8, 14, 11, 11, 14, 8, 10, 11, 4, 1, 5, 6, 10, 2, 7, 14, 12, 15, 2, 3, 4, 5, 7, 9, 4, 5, 6, 15, 2, 4, 5, 6, 13, 15, 14, 7, 13, 1, 2, 6, 7, 13, 11, 13, 3, 2, 8, 12, 4, 7, 2, 7, 12, 5, 7, 8, 2, 6, 10, 15, 8, 4, 9, 12, 13, 12, 8, 4, 10, 9, 7, 11, 1, 7, 4, 11, 6, 8, 10, 6, 9, 6, 7, 12, 2, 2, 7, 11, 4, 10, 13, 14, 3, 6, 7, 10, 9, 6, 1, 7, 1, 6, 5, 1, 5, 8, 1, 14, 6, 3, 4, 8, 12, 8, 2, 5, 4, 3, 6, 12, 6, 2, 9, 6, 9, 11, 15, 5, 7, 3, 13, 13, 15, 6, 11, 11, 5, 4, 5, 6, 10, 11, 12, 14, 1, 14, 8, 11, 13, 6, 10, 14, 3, 2, 9, 2, 7, 12, 13, 1, 6, 10, 11, 12, 14, 1, 10, 14, 1, 10, 11, 9, 4, 5, 4, 5, 1, 11, 13, 12, 13, 11, 3, 6, 6, 14, 4, 9, 15, 5, 9, 15, 1, 5, 7, 7, 7, 8, 7, 6, 5, 12, 5, 14, 8, 14, 9, 11, 14, 10, 6, 3, 14, 1, 8, 2, 15, 2, 15, 5, 8, 12, 15, 15, 14, 4, 8, 13, 13, 6, 12, 7, 2, 9, 6, 8, 3, 4, 1, 4, 7, 9, 2, 6, 8, 10, 11, 3, 8, 12, 4, 8, 3, 14, 1, 5, 3, 13, 4, 5, 7, 15, 10, 14, 9, 15, 15, 2, 11, 14, 9, 6, 8, 9, 1, 8, 14, 4, 5, 4, 6, 11, 4, 13, 10, 4, 12, 2, 8, 11, 5, 7, 4, 6, 7, 8, 10, 12, 15, 2, 7, 8, 13, 2, 3, 8, 15, 13, 14, 9, 8, 10, 11, 8, 14, 14, 1, 9, 4, 15, 5, 8, 9, 11, 13, 1, 5, 11, 14, 13, 3, 13, 14, 12, 13, 5, 12, 14, 3, 7, 9, 12, 13, 12, 8, 13, 11, 1, 9, 8, 12, 14, 3, 2, 14, 2, 5, 8, 11, 3, 7, 6, 7, 12, 1, 12, 15, 1, 2, 5, 11, 2, 7, 10, 2, 12, 10, 11, 15, 12, 9, 10, 1, 7, 11, 8, 4, 5, 7, 11, 9, 8, 15, 4, 4, 5, 13, 2, 3, 12, 12, 10, 3, 6, 9, 1, 11, 5, 10, 12, 15, 3, 6, 8, 11, 13, 9, 6, 6, 11, 1, 8, 12, 15, 3, 11, 12, 2, 8, 10, 4, 1, 3, 6, 14, 3, 7, 9, 3, 7, 4, 1, 6, 14, 12, 6, 1, 2, 5, 11, 13, 4, 9, 12, 2, 5, 8, 13, 3, 2, 11, 14, 13, 14, 3, 8, 12, 11, 1, 6, 14, 8, 15, 8, 15, 14, 10, 12, 15, 11, 8, 10, 14, 3, 9, 1, 15, 3, 14, 15, 6, 10, 13, 6, 13, 5, 13, 8, 15, 9, 2, 3, 6, 7, 12, 15, 15, 12, 2, 12, 3, 1, 1, 2, 5, 2, 11, 13, 6, 13, 3, 7, 5, 8, 8, 11, 13, 4, 1, 6, 6, 15, 5, 6, 1, 5, 7, 10, 11, 12, 10, 10, 11, 12, 5, 12, 13, 14, 13, 6, 1, 8, 4, 5, 8, 12, 14, 5, 14, 2, 2, 5, 9, 2, 4, 5, 9, 11, 9, 1, 5, 6, 1, 4, 5, 8, 8, 12, 9, 11, 12, 13, 5, 9, 3, 3, 7, 10, 8, 8, 7, 5, 13, 4, 8, 2, 13, 15, 15, 15, 15, 4, 13, 4, 12, 2, 7, 13, 9, 5, 6, 13, 10, 5, 9, 12, 11, 15, 11, 6, 7, 10, 5, 2, 2, 2, 5, 6, 9, 4, 8, 13, 8, 4, 7, 4, 12, 13, 11, 12, 4, 12, 10, 13, 9, 13, 11, 1, 2, 5, 10, 13, 12, 5, 3, 3, 6, 7, 12, 7, 7, 5, 7, 11, 1, 9, 4, 6, 4, 11, 15, 4, 2, 13, 15, 11, 9, 1, 4, 10, 14, 5, 12, 7, 10, 10, 8, 9, 4, 4, 6, 8, 1, 5, 7, 10, 12, 5, 10, 14, 1, 2, 4, 6, 5, 11, 12, 4, 11, 12, 2, 1, 8, 11, 2, 1, 6, 10, 11, 14, 2, 3, 10, 10, 15, 13, 11, 6, 4, 5, 15, 3, 12, 6, 3, 1, 9, 2, 4, 10, 2, 13, 6, 5, 10, 15, 5, 1, 4, 9, 2, 7, 14, 10, 15, 11, 9, 15, 8, 11, 3, 4, 11, 7, 7, 7, 10, 1, 9, 2, 11, 13, 6, 4, 7, 5, 7, 13, 3, 7, 8, 14, 3, 11, 1, 3, 4, 8, 9, 10, 11, 7, 9, 8, 11, 1, 1, 11, 7, 12, 9, 2, 5, 9, 10, 14, 3, 6, 9, 14, 2, 10, 11, 3, 9, 2, 2, 1, 9, 14, 6, 7, 8, 12, 4, 5, 11, 14, 10, 7, 1, 7, 5, 10, 1, 11, 6, 9, 6, 11, 11, 7, 10, 11, 1, 2, 5, 6, 9, 12, 9, 13, 14, 1, 1, 12, 2, 14, 10, 1, 8, 14, 1, 6, 8, 5, 8, 12, 13, 11, 2, 7, 2, 8, 6, 3, 13, 11, 8, 10, 11, 2, 8, 14, 8, 11, 6, 7, 10, 14, 4, 13, 3, 8, 13, 4, 5, 1, 4, 9, 3, 8, 1, 14, 2, 3, 8, 11, 14, 9, 9, 5, 5, 12, 11, 12, 15, 14, 8, 6, 3, 3, 9, 9, 14, 6, 9, 6, 11, 9, 2, 10, 9, 3, 14, 8, 6, 4, 10, 13, 12, 6, 8, 7, 6, 9, 9, 12, 11, 1, 6, 2, 5, 11, 5, 11, 12, 11, 12, 4, 6, 12, 3, 5, 10, 4, 7, 9, 10, 5, 11, 7, 1, 8, 11, 12, 13, 10, 14, 8, 14, 6, 15, 3, 10, 13, 14, 15, 6, 10, 11, 10, 13, 15, 14, 6, 4, 13, 15, 14, 3, 8, 5, 10, 4, 11, 3, 4, 7, 4, 5, 8], \"Freq\": [1.000682240062448, 1.0045116954416113, 1.0001990388417197, 0.995849952176205, 1.0045116954416113, 0.9972636269789311, 0.00264526161002369, 0.9938003344231013, 0.006172672884615536, 1.0021182422663706, 1.0002710396442458, 0.004231236509625831, 0.9953983888894768, 0.999856208202896, 0.9919285692797672, 1.001909767689366, 1.0045116954416113, 0.9919285692797672, 0.9993855085106422, 0.9872502636857708, 0.002947285409871801, 0.9961824685366687, 1.0254233176679142, 0.9998410311564484, 0.9970965366112912, 0.0025646093402552565, 0.9976330333592948, 0.9960704954463024, 1.0029278572725486, 0.004613531878770386, 0.9965228858144033, 0.9998410526424015, 1.0254233176679142, 0.995849952176205, 1.0131419025782242, 0.9998410526424015, 1.0006444234896303, 0.9998560288712852, 0.2015708725028027, 0.08859211315104278, 0.5107859255009585, 0.19909410374804237, 0.9998410526424015, 0.9825276777314421, 1.0030143403213576, 1.0005415525151922, 0.023375518715338647, 0.9759279063653885, 0.9857016430335029, 0.014760923106990892, 0.019188561547188832, 0.9807487013007624, 1.0029278572725486, 1.0007943312829823, 1.0023101141958335, 0.998106088727969, 0.38310942790773506, 0.6030695937406932, 0.013110208559580288, 1.00157626376866, 0.1780191324944858, 0.8222291310229183, 0.9984544151302922, 1.0131419025782242, 1.0045116954416113, 0.0022177017859559243, 0.9979658036801659, 1.0089142121135117, 0.0170093967585803, 0.9831431326459413, 1.0005670277835994, 1.0002641034753956, 1.0131419025782242, 1.0019594610852613, 1.0003079885193675, 0.012304888834943366, 0.9874673290042051, 0.011236215146124488, 0.9775507177128305, 0.011236215146124488, 0.002649352954093447, 0.3517016046559051, 0.008610397100803703, 0.0059610441467102555, 0.6312083413127637, 0.995849952176205, 1.0000640874458493, 1.0029278572725486, 0.9997434591080092, 0.0021239712597157607, 0.9982664920664076, 1.0131419025782242, 0.9960704954463024, 0.0034908756160867836, 0.0034908756160867836, 0.9925723001740089, 0.9990784498226909, 0.0006603328321317685, 0.9984232421832339, 0.0006603328321317685, 0.995849952176205, 1.001152487770008, 1.0002622768803864, 0.0016820988645507818, 0.08746914095664066, 0.370061750201172, 0.539953735520801, 0.9872502636857708, 1.0058776271515402, 0.9997399910518934, 1.0029278572725486, 0.999798695247094, 0.003163062304605981, 0.6879660512518009, 0.30207245008987116, 0.006326124609211962, 0.9989386651757374, 1.0045116954416113, 0.9992155534018912, 0.9970965366112912, 0.24699843627972376, 0.7537271869979199, 1.0001203874833966, 1.0001089128548297, 1.0016552275232935, 0.9970965366112912, 0.01070407046092817, 0.9883425058923677, 1.000036977203035, 0.9872502636857708, 0.0031958156373173142, 0.997094478843002, 1.0002175984107777, 1.0002308791320087, 0.9902596541115827, 0.9996756901333224, 1.0089142121135117, 1.025423317667914, 0.001344794200638533, 0.00044826473354617766, 0.9982855616073376, 1.0029278572725486, 0.9919285692797672, 1.001667827297639, 0.9975212435733342, 0.0017439182579953394, 0.9919285692797672, 0.9937604493633028, 0.9984690166822001, 0.20011259300254236, 0.0012276846196474993, 0.10251166574056618, 0.696097179340132, 1.001849048273652, 0.37188596512498234, 0.5281297213059645, 0.001291270712239522, 0.09813657413020367, 0.9902596541115827, 0.02948859116924282, 0.9708551554181483, 0.8104169355393332, 0.19030899013984343, 0.7215924999062087, 0.27917849362121816, 0.995849952176205, 0.0027106373622552663, 0.15721696701080545, 0.8402975822991325, 0.9902596541115827, 0.9937604493633027, 1.0006615635949923, 1.0021546370043009, 0.0014715688582571016, 0.005886275433028406, 0.12802649066836785, 0.8638109197969187, 0.9872502636857708, 0.9922283058114365, 0.007516881104632094, 0.9825276777314421, 0.9958499521762049, 1.0029278572725486, 0.4117885150058656, 0.5882693071512366, 1.0002703212847306, 1.0089142121135115, 1.0045116954416113, 0.9988745044358636, 0.0010110065834371088, 1.0089142121135115, 0.9833136566289532, 0.01671354657159694, 0.982527677731442, 0.0021695642964024067, 0.9979995763451072, 0.9919285692797672, 0.9902596541115827, 0.29418500281731497, 0.7066666205241322, 0.9835969459212789, 0.016531041107920655, 1.0000258361157675, 0.002012291422571916, 0.9980965455956704, 1.0029278572725486, 0.9966989998581542, 0.0035187961160040747, 0.9902596541115827, 0.9998410526424014, 0.03377891036232737, 0.9673051603757384, 0.9919285692797672, 1.0029278572725486, 1.0029278572725486, 1.0254233176679142, 1.0003057290750006, 0.9937604493633028, 1.0131419025782242, 0.9902596541115827, 1.0254233176679142, 0.9919574141950138, 0.006936765134230866, 1.000905298413521, 0.999921782853004, 0.9992632463785224, 1.0002234472821396, 0.9902596541115827, 0.008621403999054672, 0.9857138572252507, 0.0057476026660364474, 0.9995881647510908, 0.21149247526764883, 0.13856403552018373, 0.09549067579433713, 0.0002279013742108285, 0.5541421913936295, 1.0045116954416113, 1.0005562888816002, 0.00211880434925668, 0.0007062681164188934, 0.3538403263258656, 0.6434102540576119, 1.0254233176679137, 0.9997228045308304, 1.0006559988492671, 0.9960704954463024, 1.0002234472821396, 0.0009058495037758053, 0.9991520026647132, 0.011172376276186276, 0.9893759880133848, 0.9994322692551088, 1.0004423522673551, 0.9993950653654938, 1.0003532951122998, 0.0008421576575994247, 0.9987989819129178, 0.9999194153000548, 0.9960704954463024, 0.999542682409389, 0.021775716394468833, 0.9799072377510974, 0.9872502636857708, 0.9996354250753899, 1.0002234472821396, 0.9872502636857708, 1.0002234472821396, 0.9998410526424014, 0.995849952176205, 1.0002769113263408, 1.0031736550355415, 1.0002234472821396, 0.18710838745929106, 0.2014166759120604, 0.5965455647231516, 0.009905738159609528, 0.0033019127198698423, 0.9872502636857708, 0.9977791126135875, 0.002398507482244201, 1.0029278572725486, 1.0089142121135117, 0.23398670721891787, 0.7663064661419561, 0.9989194889952979, 0.0007991355911962383, 1.000480588319235, 1.0005229851907114, 0.9958499521762049, 0.008046780025923383, 0.9937773332015378, 1.0002234472821396, 0.9964356824652475, 0.004488449020113727, 0.9825276777314421, 0.9960704954463024, 0.003025506480924014, 0.9969043854644626, 1.0015766542072315, 0.9960704954463024, 1.0005540350995914, 0.9971374814617963, 0.003125822825899048, 0.9957949656236961, 0.003550071178694104, 1.0089142121135117, 1.0006103914376803, 0.997096536611291, 1.0002234472821394, 1.0021527999747883, 0.9825276777314421, 0.9993864712001687, 0.9902596541115827, 0.9872502636857708, 0.9902596541115827, 1.0002787639076112, 1.0006680280399414, 1.0131419025782242, 0.9937604493633028, 0.9998410526424013, 0.9911831211754564, 0.00850800962382366, 0.9872502636857708, 0.995849952176205, 0.9919285692797672, 0.9982561289235354, 0.0024112466882211, 0.9912766842798814, 0.007882915978368838, 0.9825276777314421, 0.9998410526424015, 0.38839522240878926, 0.6114894381603978, 0.05201132977373298, 0.9482065504903627, 0.9937604493633028, 1.0012424906406123, 0.9960704954463024, 1.0089142121135117, 0.026615959986412308, 0.9735299210414655, 0.9998410526424014, 0.9943325222595123, 0.0014348232644437406, 0.004304469793331222, 0.9970965366112912, 1.0089142121135117, 0.9994717163136665, 1.0131419025782242, 1.0016059211751795, 0.9919285692797672, 0.7709177894442032, 0.22837335497446934, 1.0002234472821396, 0.9952733107350574, 0.004523969594250261, 1.0002234472821396, 1.0002234472821396, 0.9998410526424015, 1.0003875499934176, 0.9872317338936607, 0.011660217329452686, 0.005122934030868444, 0.0030737604185210664, 0.9918000283761308, 0.995849952176205, 1.0131419025782242, 0.9985269683520341, 0.995849952176205, 1.0021182422663706, 0.9919285692797672, 0.9998410526424015, 0.9970965366112912, 0.9997399910518934, 1.0000616246320146, 0.9960704954463024, 0.8033513495669055, 0.19601150176448334, 0.0006227529841603918, 0.9975281002922275, 0.9985177622293242, 0.0028048251748014723, 0.031244152390234318, 0.9685687240972639, 0.3362978050903843, 0.6613856833444225, 0.0020381685156992987, 0.000438914222918612, 0.6790003028550928, 0.2844164164512606, 0.035990966279326186, 1.0029278572725486, 0.9997086966126474, 0.9998410526424015, 0.9902596541115827, 0.9994454688792412, 0.0037334276460875447, 0.002986742116870036, 0.9930917538592868, 0.9960704954463024, 0.9970965366112909, 0.9981671967474585, 0.003099898126544902, 0.999842812054598, 0.3884500437546847, 0.6112958056491702, 0.00036000930839173744, 1.0004136005349147, 0.9987584820236891, 0.0016985688469790632, 1.0045116954416113, 0.9825276777314421, 0.9995165380301249, 0.9919285692797672, 0.9989985933212413, 0.008623675204969457, 0.9917226485714876, 0.9825276777314421, 0.06675018960400977, 0.9335625109405873, 0.9989619070690058, 0.3011022135905333, 0.6988267793034019, 0.0016001220040749568, 0.9984761305427731, 0.9946495725854685, 0.004702834858560135, 0.9919285692797672, 0.0025067980905374137, 0.9977056400338907, 0.021336235671156806, 0.9787998114143185, 0.9996089341512625, 1.001884770327355, 1.000389968540172, 0.9998410526424015, 0.9941795926293308, 0.007560301084633694, 1.0029278572725486, 1.0089142121135117, 0.9996314766783323, 1.0045116954416113, 1.0045116954416113, 0.754693654640362, 0.24465343749330415, 1.0005466976376276, 0.9998410526424015, 0.9970965366112909, 1.0089142121135117, 0.9999950730549285, 1.001666397106113, 0.999628752478889, 1.000709823135074, 0.9996097098446766, 1.0029278572725486, 1.0014207086987124, 0.9998410526424015, 1.0015498747988145, 0.9788131668648271, 1.0002234472821396, 0.13074162672379996, 0.8694318177132697, 0.9981771624715842, 1.001653359174667, 0.995849952176205, 0.8189398336132562, 0.18270311248589705, 1.0254233176679137, 0.9970965366112909, 0.9970965366112912, 1.0002234472821396, 0.0019283154875910544, 0.0019283154875910544, 0.9969391070845751, 0.9960704954463024, 0.013813321276600654, 0.9862711391492867, 0.9958499521762049, 0.9971752407334469, 0.002849072116381277, 1.0006323399326076, 0.9994390805025216, 0.013619610656415232, 0.9874217725901043, 0.9998410526424014, 1.0008988848427172, 0.011304471947627829, 0.9880108482226722, 0.9998410526424015, 0.9994632336763212, 0.9998410526424015, 1.0029278572725486, 0.8840470702019694, 0.1157150856191136, 0.0004045982014654322, 1.0002234472821396, 1.001038675189762, 0.995849952176205, 1.0002983470564824, 0.9941883828646915, 0.003853443344436789, 0.003853443344436789, 0.9825276777314421, 1.0002234472821396, 0.9937604493633028, 0.9992508385863044, 1.0002234472821396, 0.053477161324018016, 0.0020372251932959246, 0.944763183390985, 0.9998410526424015, 0.9942323943309748, 0.005713979277764223, 0.21038271548944346, 0.7896974393009544, 1.0029278572725486, 0.9990905084081412, 1.0002234472821396, 1.0045116954416113, 0.9998402583430616, 1.0029278572725486, 0.5630055979436224, 0.24567957089973202, 0.0007261465149745774, 0.19049243576166414, 1.0089142121135117, 0.9998410526424014, 0.9958499521762049, 0.9902596541115827, 1.0001320547120511, 1.0029278572725486, 0.015089118027447224, 0.9807926717840696, 0.005029706009149075, 0.9960704954463024, 1.0131419025782242, 1.0002234472821396, 0.9995882493514258, 0.9960704954463024, 0.0024521112875004417, 0.9980092940126798, 0.9795509044803041, 0.014352394204839622, 0.005382147826814858, 0.9937604493633027, 1.0007578860131086, 1.0254233176679137, 1.0029278572725486, 1.0017929263144116, 1.0045116954416113, 0.004239154345514084, 0.9962012711958096, 1.0029278572725486, 0.0036131865478571876, 0.9972394872085838, 0.9780114983491116, 0.01772830510602619, 0.0029547175176710323, 0.009533886468332977, 0.0013619837811904253, 0.9874382413630582, 0.0013619837811904253, 0.9825276777314421, 0.9998410526424013, 1.0089142121135115, 1.0045116954416113, 1.0003272069653038, 0.9998302161685814, 0.9825276777314421, 0.9998410526424014, 0.9985116735376999, 1.0089142121135115, 0.9996478577566527, 0.9937604493633028, 1.000626081873632, 0.9919285692797674, 0.9998410526424015, 0.9937604493633028, 1.0000465869015445, 0.9825276777314421, 0.9872502636857708, 0.2485041208365882, 0.751211998308769, 0.9413485512415207, 0.0571751831556672, 1.0045116954416113, 1.0029278572725486, 1.000319462325156, 0.0020239444227504863, 0.9978046004159897, 0.9998410526424014, 0.9965639454186556, 0.9987845839897529, 1.0002234472821396, 0.9723707486677844, 0.0027390725314585477, 0.008217217594375643, 0.016434435188751286, 1.0089142121135117, 0.9902596541115827, 0.06290951546613671, 0.9379236851314928, 0.9970965366112912, 0.9902596541115827, 0.995849952176205, 0.49544934597640067, 0.2617468242894192, 0.2430506225544607, 0.9970965366112912, 1.0002234472821396, 0.9993948907731285, 0.005796534720427094, 0.7711967415821558, 0.16552326923886254, 0.057450099673566304, 0.9825276777314421, 0.8172418715803321, 0.18287399354768807, 0.9998410526424015, 0.9991976573695017, 1.0007385922503296, 1.0000205850298007, 1.0004816892507988, 0.46045617596292115, 0.5398897098246873, 0.04433230219466416, 0.9339338329009249, 0.017732920877865665, 0.002955486812977611, 0.002596698414563095, 0.9971321911922284, 1.0060757079005949, 0.9960704954463024, 0.9969190690354215, 0.0031799651324893826, 0.43875201361735305, 0.5615220724735849, 0.999936527918091, 0.995849952176205, 0.21343722222358355, 0.2963415370610256, 0.0045845704057571645, 0.45552800948314937, 0.019102376690654854, 0.010952029302642115, 0.00012734917793769902, 0.9970965366112912, 1.0002234472821396, 0.9825276777314421, 0.9937604493633027, 0.9960704954463024, 0.9993446050667348, 0.9308349088937408, 0.06682917294621729, 0.9999575067986778, 0.007681738787403012, 0.9935048831707896, 0.0017497835378244948, 0.010498701226946969, 0.986877915333015, 1.000243975175826, 0.9970965366112912, 0.002791330808543588, 0.005582661617087176, 0.9909224370329737, 1.0045116954416113, 0.9998211047852441, 0.9970965366112909, 0.0005687892937041842, 0.9993627890382518, 0.9970965366112912, 0.995761041820993, 0.9937604493633028, 0.9991189285007591, 0.9998410526424014, 1.0025786680692874, 0.09690084189145882, 0.9033400797815335, 0.0027140789626679688, 0.0027140789626679688, 0.9933529003364765, 1.000125181487718, 1.0007468827488673, 1.0009098051141179, 1.0254233176679142, 1.0013034420756524, 0.6331424283960346, 0.36617639021195164, 0.9972127419675413, 0.002652161547786014, 1.0131419025782242, 0.946874621389621, 0.052972006791027745, 1.0131419025782242, 0.999929197226664, 0.995849952176205, 0.9919285692797675, 0.9919285692797672, 0.9987647662193276, 0.0017131471118684864, 0.9998639978340054, 1.0019097676893658, 1.0029631661203204, 1.0045116954416113, 0.0011327502520488307, 0.9990857223070687, 0.003068000586499025, 0.9971001906121831, 0.9739014431889896, 0.018910707634737664, 0.006303569211579221, 0.9872502636857708, 0.9902596541115827, 0.9991304120866854, 1.0002234472821396, 0.9970965366112912, 0.9994678101061221, 1.0029278572725486, 1.0131419025782242, 0.995164953500107, 0.005210287714660247, 0.995849952176205, 0.982527677731442, 1.0014491597847772, 1.013141902578224, 1.0131419025782242, 1.0002234472821394, 0.5582415172791307, 0.44128316741048135, 0.0004577626217951051, 0.9960704954463024, 0.9902596541115827, 1.0045116954416113, 0.9919285692797672, 1.0004079380331703, 0.9999060495053553, 0.9902596541115827, 1.0011537948448344, 1.0254233176679137, 0.9998410526424013, 0.98847436834378, 0.010814818034395842, 0.008070208152194391, 0.9926356027199101, 0.9872946462358749, 0.012379870172236676, 0.0020025165080208734, 0.997253220994395, 0.9937604493633028, 1.0254233176679142, 0.9825276777314421, 1.0045116954416113, 0.994486499184263, 0.0052618333290172644, 0.9935214748962781, 0.006348380031286122, 0.0016325442511582208, 0.9991170817088312, 0.0035705114753225224, 0.9961727016149838, 0.11069909262358543, 0.889282710742803, 0.9919285692797672, 0.9974342761816625, 0.010034363763950359, 0.9900572247097688, 1.0012418606905953, 1.0131419025782242, 1.0001320547120511, 0.07589255403254552, 0.9237955714996058, 1.0002234472821396, 1.0089142121135117, 0.9902596541115827, 0.005082003682653542, 0.9960727218000942, 0.9970774095196481, 0.0016345531303600788, 0.0016345531303600788, 0.9998410526424015, 0.995849952176205, 0.003426659387103624, 0.9937312222600511, 0.003426659387103624, 0.9998410526424015, 1.001895469103883, 1.0000454580991607, 0.9993001859893494, 0.0005433932495863781, 0.00553653051162676, 0.9855024310695631, 0.00830479576744014, 0.48082050345300925, 0.5192503949929338, 0.9998410526424015, 0.010539943591483353, 0.1496671989990636, 0.006323966154890012, 0.6724484011366378, 0.16020714259054697, 0.0021079887182966703, 1.0029278572725486, 0.998913981739484, 0.942584432942057, 0.05636717539188381, 0.11620264482511376, 0.003575465994618885, 0.8813523676735551, 1.0131419025782242, 0.9960704954463024, 1.0002234472821396, 1.000200862099804, 0.982527677731442, 0.9980248586513237, 0.0015377886882146745, 0.9920978183070065, 0.009403770789639871, 1.0002234472821394, 1.000072944183265, 1.0089142121135117, 0.9998410526424015, 1.013141902578224, 0.1652002925841436, 0.010266684849862031, 0.0009333349863510938, 0.8241347929480158, 0.999780255205879, 0.04957751362088529, 0.8407520018208464, 0.10948367591278835, 1.0002234472821396, 0.9960704954463024, 0.32806897218907244, 0.6611086863810096, 0.011598398006684378, 1.0045116954416113, 0.9960704954463024, 0.9997173306312581, 0.924089708099005, 0.07564779311885916, 0.7880404828957609, 0.21110369100403947, 0.06409051252353386, 0.9344810213108808, 0.002067435887855931, 1.0002910580658064, 1.001422440764739, 0.9995777859232262, 0.9937604493633028, 0.997127599419353, 0.002651935104838705, 0.9825276777314421, 0.9927834480905707, 0.007018893191527994, 1.0060757079005949, 1.0029278572725486, 1.0002234472821396, 0.05421942627689906, 0.02177315543403033, 0.41753227479375815, 0.5063325949952936, 1.0000445437480245, 0.9919285692797674, 0.998087793669777, 0.0008476801199844075, 0.9994148614616164, 1.0005288826925691, 0.9994384040504921, 1.0024772509721376, 0.019910799722797738, 0.2575130097481841, 0.007964319889119095, 0.7147977100484388, 0.9992201757299515, 0.20318862501869348, 0.7970092560696352, 1.0004453625763294, 0.9995289985396193, 0.09591594613097827, 0.015985991021829713, 0.8856239026093661, 1.0004283145658324, 0.9407851582200807, 0.05912037879525097, 0.9994153657662012, 0.9919285692797672, 0.9937604493633028, 1.0007563916040103, 0.9998410526424015, 0.004291097260236382, 0.98838273560778, 0.007151828767060637, 0.9989578218623913, 0.9993665557618804, 0.00048069579401725847, 0.9998410526424015, 0.31674381494344384, 0.33746107028131445, 0.3457479724164627, 1.0029278572725486, 0.999542514109459, 0.0003404436355958648, 1.0045116954416113, 0.9872502636857708, 0.9986316040550438, 0.0011528880213057537, 0.00023057760426115073, 0.9996999218243754, 0.9992407459590562, 0.002648668959402851, 0.9641155012226377, 0.023838020634625656, 0.010594675837611403, 0.0030306572487593707, 0.5566307146888044, 0.43843508198718895, 0.0020204381658395806, 0.9960704954463024, 1.0089142121135115, 0.9989461423055439, 0.9926965472841505, 0.007234225850653728, 0.10111330321379786, 0.8976888382883517, 0.9997778985733661, 1.0131419025782242, 0.9887666972812155, 0.01166304099021093, 0.9998826092875025, 0.9886022829576329, 0.007061444878268806, 0.003530722439134403, 0.9998410526424016, 0.04430137359451288, 0.754969241673157, 0.201202071741746, 1.0002234472821396, 0.7922536649454336, 0.18963518575821547, 0.017909989766053683, 0.9992978828228716, 0.9919285692797674, 0.9998410526424015, 0.008779431319474491, 0.9903198528367225, 1.0002234472821396, 1.0045116954416113, 0.9902596541115827, 0.4615417186407303, 0.5386949611597778, 0.00267754033915017, 0.01071016135660068, 0.9853348448072626, 0.9998410526424015, 1.0013850015753512, 1.0045116954416113, 1.0029278572725486, 0.995849952176205, 0.003984062322101251, 0.9960155805253127, 0.9992144149799163, 0.1880567880207599, 0.7313319534140662, 0.08125910593489624, 0.001842017987645669, 0.9983737493039526, 1.0254233176679137, 0.9980005545461105, 0.9995876185031721, 0.9937604493633028, 0.9970965366112909, 0.9981188577156428, 1.0002234472821396, 0.9924536222945469, 0.006486624982317299, 0.9986346888417934, 1.00224790362577, 1.0002234472821396, 0.9872502636857708, 1.0005672777893537, 1.0131419025782242, 0.9937604493633028, 1.0010659358018466, 0.005418781489146516, 0.9947334590790391, 0.000546249597520432, 0.9996367634623906, 0.9970965366112912, 1.0131419025782242, 1.0254233176679142, 0.9988707254162267, 0.0013701930389797348, 0.9883972874833586, 0.007445553954676901, 0.0037227769773384503, 0.7886278204955696, 0.20969294649015147, 0.7474554484494259, 0.2505554883534695, 0.9954440343063193, 0.005104841201570868, 0.999789664975534, 0.9982846727481388, 0.0044613182025692154, 0.994873959172935, 0.9963532807254191, 0.004369970529497452, 1.0131419025782242, 1.0131419025782242, 1.000255289952452, 0.0008113977496531152, 0.9988306298229849, 1.0000435788673507, 0.9970965366112912, 1.0003764594290914, 0.7913453757472055, 0.20872166242415377, 0.9998228174667513, 0.01847126712518446, 0.9818188910386509, 0.9902596541115827, 0.9960704954463024, 1.0254233176679142, 0.9919285692797672, 0.995849952176205, 0.998903139026966, 0.9757489184721997, 0.019444271926076444, 0.005302983252566303, 0.9998410526424015, 0.9970803008255859, 0.002351604483079212, 0.0014876762501680133, 0.998230763862737, 0.3556263343264768, 0.6446353412368672, 1.0001364650765692, 0.2957476208948989, 0.09607913078109237, 0.3459884601712653, 0.07717407270287203, 0.18516597980722654, 0.9960649981829652, 0.2737793195678905, 0.13334940996194666, 0.5924018035477631, 0.9958499521762049, 0.011130711634043113, 0.979502623795794, 0.008348033725532335, 1.0005122813791734, 0.9902596541115827, 0.3162472628499731, 0.6834571088965202, 0.9852191833186476, 0.005829699309577796, 0.002914849654788898, 0.005829699309577796, 1.0002234472821396, 0.999368856600856, 1.0002234472821396, 1.0029278572725486, 0.002169824739083031, 0.9916099057609453, 0.006509474217249094, 0.10327884563517652, 0.5282200501951776, 0.07568526092348814, 0.0015767762692393361, 0.29091522167465755, 1.0021881173660883, 0.999186885744648, 0.9920969659925868, 0.007422171815405886, 0.9970965366112912, 0.9998410526424015, 0.0026882726152826697, 0.9973491402698704, 0.9825276777314421, 1.0045116954416113, 0.0017345218158239988, 0.08065526443581594, 0.8898096915177114, 0.02775234905318398, 0.995849952176205, 1.0089142121135117, 1.0007372007610937, 0.6600228340896432, 0.3397230245425315, 0.9963076055544478, 1.0010659358018466, 1.0025792629912673, 0.9919285692797672, 0.995849952176205, 0.9960704954463024, 0.9998410526424015, 0.9825276777314421, 1.0029278572725486, 0.9998978556593525, 0.9994507957866265, 0.9999250266561511, 1.0131419025782242, 1.0000292358831475, 0.9998410526424015, 0.9960704954463024, 0.9998410526424015, 0.9993603534137058, 0.0024294312621749676, 0.004858862524349935, 0.9936373862295618, 1.0000031434735868, 0.9958337893603187, 0.0029203336931387645, 0.0014601668465693822, 0.9872502636857708, 0.9894860116114683, 0.005180555034615017, 0.005180555034615017, 0.0034341522908858876, 0.9959041643569074, 0.9937604493633028, 0.9995797449738093, 0.11947009705188423, 0.8799992514553424, 0.995849952176205, 1.000084016467428, 0.9989321287575185, 0.9995395874844656, 1.0001726866403449, 0.9902596541115827, 1.0089142121135117, 0.7057028832246447, 0.06304550253591926, 0.23116684263170395, 0.9825276777314421, 0.9998410526424015, 0.9919285692797672, 0.9998410526424014, 0.02720270546308308, 0.97249672030522, 1.001464018738212, 0.999937416318471, 0.9908749822280741, 0.009007954383891582, 0.998597967866067, 1.000191598033999, 1.0089142121135117, 0.9960704954463024, 0.9996523097350221, 1.0006198459279385, 0.8269291377611845, 0.17200861931183703, 0.0009198321888333531, 0.9960704954463024, 1.0045116954416113, 1.0019222079821575, 1.025423317667914, 0.9992740891663643, 0.5011366149340204, 0.012840992156097623, 0.48593017685443113, 0.9919285692797672, 0.9919285692797674, 0.021061815390854298, 0.9793744156747249, 0.9937604493633028, 1.0004957293497387, 1.0003640916718717, 0.9998410526424014, 0.9902596541115827, 0.0546120502929835, 0.9408166845927612, 0.004964731844816682, 0.9998410526424015, 0.0012936378418783652, 0.9973947760882195, 0.0012936378418783652, 0.9937604493633028, 1.0089142121135117, 0.0007762724502689431, 0.9990626434961297, 0.888050428089943, 0.11193413954861534, 0.995849952176205, 1.0045116954416113, 0.9992360161606525, 0.0005623162724595681, 0.9872502636857708, 0.9998848550954674, 0.00016067569582122246, 0.9998410526424015, 0.9998410526424015, 0.9902596541115827, 0.999765005410941, 0.9970965366112912, 0.9922907479862574, 0.0070625676013256755, 0.9872502636857708, 1.0045116954416113, 0.9980583551227873, 0.002227808828399079, 1.0002234472821396, 0.9970965366112909, 0.9531543267980238, 0.024703783847896944, 0.022645135193905534, 0.0044388640919612405, 0.016645740344854654, 0.9787695322774536, 0.012409763486725645, 0.09573246118331212, 0.8917301476889999, 1.0029278572725486, 0.0031392126059192386, 0.9982696086823178, 0.9937604493633028, 0.997506625611616, 0.9970965366112909, 0.8993045092770305, 0.03196235735718041, 0.001452834425326382, 0.06683038356501357, 0.9965513854007952, 0.004314075261475304, 1.0058776271515402, 0.9872502636857708, 1.0000381056058825, 0.9999133600120674, 0.9937604493633028, 1.001262539157267, 0.049277364698697625, 0.946829364567833, 0.0035198117641926873, 0.9856998361831397, 0.014194077641037212, 0.9902596541115827, 1.0008412518334093, 0.9970965366112912, 0.9989249624886253, 1.0029278572725486, 0.00273738835964149, 0.9973218256960497, 0.0023004300791592217, 0.9983866543551022, 0.9902596541115827, 1.0010097964879987, 1.0024387292809367, 1.013141902578224, 1.0024015965984168, 0.0042425844433588, 0.9948860519676386, 0.0007070974072264666, 1.0029278572725486, 0.9960787314169045, 0.004116027815772333, 0.987250263685771, 1.0131419025782242, 0.9983611921844292, 1.0089142121135117, 1.0131419025782242, 0.006324484633902978, 0.9936881445385207, 0.500663839471085, 0.49953239576606556, 0.9937604493633027, 0.9919285692797672, 0.9919285692797674, 0.0031046066231764187, 0.9969668018675275, 0.9993782220497608, 1.0089142121135115, 1.0029278572725486, 0.9937604493633028, 0.9989576563026685, 1.000228711032169, 0.1189681571771021, 0.8812456087192748, 0.009830306361723452, 0.9901799498899623, 1.0006606820612622, 1.0254233176679137, 1.0004981465521627, 0.9891640963256874, 0.011041831772937907, 0.9864970982905692, 0.013992866642419421, 0.9935808566222913, 0.0074425532331257776, 0.9998410526424015, 0.2717568005853145, 0.7044999667347555, 0.0014769391336158396, 0.022154087004237596, 0.012768298349370332, 0.9863510474888582, 0.00217924459450952, 0.9980940242853602, 0.9992090292736031, 1.0000998394324094, 0.9937604493633028, 0.9919285692797674, 1.0045116954416113, 1.0089142121135115, 0.01981758787149526, 0.0012785540562255005, 0.9787331300406207, 0.9987970503955461, 1.0002234472821396, 1.0254233176679137, 0.0036819155183050087, 0.9977991054606573, 1.0002234472821396, 1.0029278572725486, 0.9970250187717687, 0.9937604493633028, 0.9788131668648271, 1.0089142121135115, 1.0001474632127831, 0.9989321287575185, 1.0004481216083037, 0.9984046890706626, 1.0002234472821396, 0.515126277730795, 0.08427991958558494, 0.25839667653162857, 0.14225709503676756, 0.0018950438877352771, 0.9920554752294175, 0.005685131663205831, 1.0002234472821396, 1.011329538409814, 0.9919285692797672, 0.9988869559541586, 0.00179979631703452, 0.02165432588129922, 0.9787755298347248, 0.9993271776327928, 1.0016474370566621, 0.05440311905765801, 0.9448962783698497, 0.9902596541115827, 0.9937604493633028, 1.0020417864413302, 1.000231542794944, 0.9996218208748159, 1.001464018738212, 0.0011928244842996656, 0.0005964122421498328, 0.15864565641185555, 0.08290130165882677, 0.41331368380983413, 0.3429370392361539, 0.5296834086908101, 0.4701547687232649, 1.0002234472821394, 0.9970965366112909, 0.9970965366112909, 0.9996823122904497, 1.0029278572725486, 1.0002234472821396, 0.998597967866067, 0.2617627121331393, 0.7385092486798074, 1.0002234472821396, 0.3078905605783142, 0.657118279752791, 0.03421006228647936, 0.011060481704170434, 0.047007047242724344, 0.0027651204260426086, 0.9373758244284444, 1.0002556156990106, 0.9997540349394076, 0.9919285692797672, 0.9997439593129532, 0.9825276777314421, 1.000398831457435, 0.9984787326313024, 0.0016809406273254248, 0.9937604493633028, 0.0007916972400475256, 0.9991219169399774, 0.9937604493633028, 0.2291545169149783, 0.7426303788911334, 0.02758341407309924, 0.9825276777314421, 0.99821677424834, 0.0029192208289635403, 0.13964737779483727, 0.2865588632338396, 0.570877394203591, 0.9998410526424015, 0.9960704954463024, 0.9998941064396671, 0.9825276777314421, 0.9960704954463024, 0.9998410526424014, 0.995849952176205, 0.0049742654773019535, 0.9948530954603908, 1.0089142121135117, 1.0254233176679142, 0.9825276777314421, 0.9999950730549285, 1.0002234472821396, 0.8975700929414476, 0.001310321303564157, 0.08386056342810605, 0.017034176946334044, 1.0002234472821396, 1.0089142121135117, 1.0089142121135117, 0.995849952176205, 0.995849952176205, 0.9996589819370625, 0.9937604493633028, 1.0045116954416113, 1.0131419025782242, 1.0002234472821396, 0.9825276777314421, 0.9967745202570536, 1.025423317667914, 1.0001487992746907, 1.000345938549915, 0.0008667512248337311, 0.9993641622332919, 0.9991287486830566, 0.0014736412222463961, 1.000683439944336, 0.9937604493633028, 1.0089142121135117, 1.0029278572725486, 0.9993637638536944, 0.9976414276206231, 0.0044262487732052574, 0.995905973971183, 0.9825276777314421, 0.9994045321838531, 0.9627632000612526, 0.01415828235384195, 0.02265325176614712, 1.0045116954416113, 0.9902596541115827, 0.9825276777314421, 1.0002341912713442, 0.9902596541115827, 1.0089142121135117, 1.000038134001076, 1.0008050102185797, 1.001434275227112, 0.9970965366112909, 0.9902596541115827, 0.8468146393673647, 0.02638051836035404, 0.1266264881296994, 0.4640138196066049, 0.00021187845644137212, 0.5358406163402301, 0.10046795580292184, 0.8992194056646606, 0.028998787977354598, 0.970696271241975, 1.0045116954416113, 0.0010560767864182703, 0.9990486399516838, 0.9872502636857708, 0.005472398635005977, 0.8974733761409803, 0.01641719590501793, 0.08071787986633816, 0.005083228209954166, 0.9947877606880303, 1.0013307358132248, 0.3738329871436022, 0.6246733031923396, 0.0008091623098346368, 1.0000272682298184, 1.0000869087343924, 1.0024387292809367, 1.0002234472821396, 0.9825276777314421, 1.0002234472821396, 0.9997353982070133, 0.00037868765083598987, 1.0254233176679137, 0.9789238781813009, 0.005708010951494466, 0.014270027378736163, 1.0131419025782242, 0.8938638220946987, 0.1050289990961271, 0.0022346595552367467, 1.0030462679047434, 0.9960704954463024, 1.0131419025782242, 1.0002234472821396, 0.9902596541115827, 0.00041764028110407117, 0.9994131926820423, 1.0131419025782242, 1.0002234472821396, 1.025423317667914, 0.9995043978650306, 1.0006841752450213, 0.9990032430153634, 0.9888175851178638, 0.010956427535932008, 0.023051062918252763, 0.9773650677339171, 0.9919285692797672, 0.9998410526424015, 1.0021131594225963, 0.9825276777314421], \"Term\": [\"1\", \"aaaaaa\", \"abajar\", \"abanderizar\", \"abeja\", \"abrir\", \"abrir\", \"absolutamente\", \"absolutamente\", \"abusadores\", \"abusar\", \"abuso\", \"abuso\", \"acabar\", \"acabarlos\", \"accionar\", \"acercarnos\", \"acesos\", \"acordar\", \"acribillar\", \"acto\", \"acto\", \"actuan\", \"actuar\", \"acustica\", \"adelantar\", \"adelantar\", \"adiestrar\", \"adulto\", \"aeropuerto\", \"aeropuerto\", \"aforar\", \"afrontar\", \"agarrandose\", \"agresivamente\", \"aguaesdetodos\", \"aguantar\", \"aguar\", \"ahora\", \"ahora\", \"ahora\", \"ahora\", \"alamoneda\", \"aliexpress\", \"alma\", \"alto\", \"altura\", \"altura\", \"alzar\", \"alzar\", \"amar\", \"amar\", \"ambitos\", \"america\", \"amigar\", \"amplio\", \"andar\", \"andar\", \"andar\", \"animal\", \"ano\", \"ano\", \"anoche\", \"anorada\", \"anosdeabusos\", \"antofagasta\", \"antofagasta\", \"antropologia\", \"anunciar\", \"anunciar\", \"apagar\", \"aparecer\", \"aplazar\", \"aportar\", \"apoyar\", \"aprender\", \"aprender\", \"aprovechar\", \"aprovechar\", \"aprovechar\", \"aqui\", \"aqui\", \"aqui\", \"aqui\", \"aqui\", \"ardesantiago\", \"argentino\", \"argumento\", \"armar\", \"arribar\", \"arribar\", \"arrieta\", \"asediar\", \"asesinar\", \"asesinar\", \"asesinar\", \"asesino\", \"asi\", \"asi\", \"asi\", \"asqueda\", \"asqueroso\", \"asumir\", \"atacar\", \"atacar\", \"atacar\", \"atacar\", \"atemorizar\", \"atrapar\", \"atras\", \"atribuir\", \"aumentar\", \"aun\", \"aun\", \"aun\", \"aun\", \"auto\", \"autocrtica\", \"autogolpe\", \"avia\", \"ayer\", \"ayer\", \"ayudar\", \"bajar\", \"balar\", \"bancan\", \"barricada\", \"barricada\", \"barrio\", \"basicamente\", \"bastadeabusos\", \"bastadeabusos\", \"basto\", \"basura\", \"batucadas\", \"bencina\", \"besarian\", \"bicarbonato\", \"bien\", \"bien\", \"bien\", \"blindar\", \"bloqueandolos\", \"bolsillo\", \"bombero\", \"bombero\", \"borrokillo\", \"brayan\", \"brutalidad\", \"bueno\", \"bueno\", \"bueno\", \"bueno\", \"burlar\", \"buscar\", \"buscar\", \"buscar\", \"buscar\", \"buscarlo\", \"cabeza\", \"cabeza\", \"cabros\", \"cabros\", \"cacerolazo\", \"cacerolazo\", \"cacerolazoa\", \"cacerolazos\", \"cacerolazos\", \"cacerolazos\", \"cacerolendo\", \"cachai\", \"cachar\", \"cadena\", \"caer\", \"caer\", \"caer\", \"caer\", \"cafe\", \"cagar\", \"cagar\", \"cagen\", \"calamadesperto\", \"calamidad\", \"callar\", \"callar\", \"calle\", \"calmante\", \"calmate\", \"cambiar\", \"cambiar\", \"cambiarle\", \"cambio\", \"cambio\", \"campe\\u00f3n\", \"canal\", \"canal\", \"canceroso\", \"cancioncita\", \"caos\", \"caos\", \"capaz\", \"capaz\", \"carabinero\", \"cargar\", \"cargar\", \"caridad\", \"caro\", \"caro\", \"carolin\", \"casar\", \"casi\", \"casi\", \"casino\", \"casto\", \"castro\", \"catastrar\", \"causar\", \"caviarada\", \"ccaa\", \"ccopec\", \"cercanias\", \"cercar\", \"cercar\", \"cerrar\", \"chadwickasesino\", \"chadwikasesino\", \"charmander\", \"chichon\", \"chico\", \"chico\", \"chico\", \"chiledesperta\", \"chiledesperto\", \"chiledesperto\", \"chiledesperto\", \"chiledesperto\", \"chiledesperto\", \"chiledespeto\", \"chiledespierta\", \"chiledespierto\", \"chiledespierto\", \"chiledespierto\", \"chiledespierto\", \"chiledor\", \"chileencrisis\", \"chileenmarcha\", \"chileenpaz\", \"chilenes\", \"chileno\", \"chileno\", \"chileprotesta\", \"chileprotesta\", \"chileprotestas\", \"chileprotests\", \"chilequierepaz\", \"chileresiste\", \"chileseaburrio\", \"chileseaburrio\", \"chilesecanso\", \"chilesedesperto\", \"chileselevanta\", \"chileunido\", \"chileunido\", \"chili\", \"chillar\", \"chirrines\", \"chistoso\", \"chorrillana\", \"chucha\", \"ciclico\", \"cierto\", \"circular\", \"ciudad\", \"ciudadano\", \"ciudadano\", \"ciudadano\", \"ciudadano\", \"ciudadano\", \"civica\", \"civil\", \"civil\", \"civilidad\", \"cizaneros\", \"claro\", \"claro\", \"clase\", \"clase\", \"cobarde\", \"cobertura\", \"comediante\", \"comentario\", \"comentario\", \"comenzar\", \"comer\", \"comer\", \"comian\", \"companeres\", \"compartir\", \"compartir\", \"compatriota\", \"componer\", \"comprar\", \"comuna\", \"comuna\", \"comunista\", \"comunista\", \"conchetumereee\", \"concienciar\", \"condicionar\", \"confirmar\", \"conflicto\", \"conlosperrosno\", \"consecuencia\", \"consegui\", \"constantemente\", \"constiyente\", \"contar\", \"controlar\", \"copiapomarcha\", \"core\", \"corleone\", \"correr\", \"correr\", \"corresponsal\", \"corrompio\", \"corrupcionm\", \"corrupto\", \"corrupto\", \"cortar\", \"cortar\", \"corvo\", \"coscachos\", \"coser\", \"coser\", \"costar\", \"costar\", \"couniscomunismo\", \"crear\", \"credibilidad\", \"creeee\", \"creer\", \"creer\", \"cresta\", \"crisis\", \"crisis\", \"crisis\", \"cronicas\", \"ctmre\", \"cuanto\", \"cuatica\", \"cuerpo\", \"cuidadano\", \"cuidar\", \"cuidar\", \"cuidate\", \"cuidense\", \"cuidense\", \"cuiquerio\", \"culeaitos\", \"culiaoas\", \"culiaos\", \"culpable\", \"culpable\", \"culpar\", \"culpar\", \"culpar\", \"cundeelpanico\", \"curacautin\", \"curico\", \"curiconoolvida\", \"custodiar\", \"custodio\", \"custoria\", \"dandan\", \"dano\", \"dar\", \"decadencia\", \"decir\", \"decir\", \"decir\", \"decisi\\u00f3n\", \"declarar\", \"declarar\", \"decretar\", \"decretar\", \"defender\", \"defender\", \"defender\", \"dejar\", \"dejar\", \"dejar\", \"dejar\", \"deje\", \"delincuencia\", \"delincuente\", \"delo\", \"demandar\", \"democracia\", \"democracia\", \"democracia\", \"demostro\", \"dense\", \"dentro\", \"dentro\", \"denunciar\", \"derecho\", \"derecho\", \"derecho\", \"descansar\", \"descontentar\", \"descontentar\", \"descontentxs\", \"desestimar\", \"desigualdad\", \"desinformarn\", \"despertar\", \"desperto\", \"desperto\", \"despojar\", \"despues\", \"despues\", \"destrozo\", \"destruir\", \"destruir\", \"detener\", \"detener\", \"detenido\", \"detenido\", \"devolverles\", \"dia\", \"dia\", \"dialogar\", \"dialogar\", \"dictador\", \"dictadorpinera\", \"dictadura\", \"dictaura\", \"diferenciar\", \"diferenciar\", \"dificil\", \"difindan\", \"difundir\", \"digalo\", \"diganles\", \"dignidad\", \"dignidad\", \"digno\", \"dilencuentes\", \"dina\", \"dinamico\", \"diputar\", \"directo\", \"discursar\", \"discurso\", \"disparar\", \"displicente\", \"disturbio\", \"doler\", \"dolor\", \"doloroso\", \"domingo\", \"dormir\", \"dormir\", \"echar\", \"edificio\", \"eficacia\", \"ejemplo\", \"ejemplo\", \"electoralmente\", \"electricos\", \"elevadisimo\", \"elnalzandel\", \"emergencia\", \"emergencia\", \"emergencia\", \"emitir\", \"empezar\", \"empezar\", \"empoderamiento\", \"empresa\", \"empresa\", \"enacional\", \"encantar\", \"encapuchar\", \"encapuchar\", \"encimar\", \"encontrar\", \"enemigo\", \"enemigo\", \"energumenos\", \"enfermo\", \"enlamira\", \"enormemente\", \"entender\", \"entender\", \"entender\", \"enterrarla\", \"entonces\", \"entregarle\", \"equivocar\", \"esconder\", \"esconder\", \"esconder\", \"esconderme\", \"escondite\", \"escoriaaaaaas\", \"escribir\", \"escrutinio\", \"escuchar\", \"escuchar\", \"escuchar\", \"escuchelo\", \"especial\", \"especial\", \"esperar\", \"esperar\", \"espontanear\", \"estacionar\", \"estadioregional\", \"estadocentral\", \"estadofallido\", \"estallido\", \"estan\", \"estan\", \"estan\", \"estan\", \"estatismo\", \"esten\", \"estigmatizar\", \"estoicamente\", \"estopasaenchile\", \"estudiantil\", \"estudiar\", \"estudiar\", \"estudiar\", \"evadirnopagar\", \"evalue\", \"evasionmasiva\", \"evitar\", \"excelencia\", \"exigir\", \"exigir\", \"existir\", \"existir\", \"existir\", \"expectante\", \"explicar\", \"expliquense\", \"expresarse\", \"facil\", \"faite\", \"fallecido\", \"fallecido\", \"falsabandera\", \"falso\", \"falso\", \"faltar\", \"faltar\", \"faltar\", \"falto\", \"falto\", \"falto\", \"falto\", \"famiente\", \"familia\", \"faro\", \"farso\", \"fascista\", \"favor\", \"felizsabado\", \"feriar\", \"ffaa\", \"fidedigno\", \"fila\", \"filtrar\", \"fin\", \"flujo\", \"folk\", \"fomes\", \"formar\", \"forosaopaulo\", \"forrar\", \"forzar\", \"forzar\", \"foto\", \"foto\", \"fotograficos\", \"fracasar\", \"frente\", \"fuego\", \"fuego\", \"fuente\", \"fueracomunistas\", \"fuerapinera\", \"fuerte\", \"fuerza\", \"fuerza\", \"fuerza\", \"fuerza\", \"fuerzasdelorden\", \"fullmetal\", \"funcionar\", \"funcionar\", \"futbolero\", \"gafo\", \"gan\", \"ganar\", \"ganar\", \"ganar\", \"garoa\", \"general\", \"generar\", \"gente\", \"gente\", \"gente\", \"gente\", \"globalismo\", \"gobernar\", \"gobernar\", \"gobiero\", \"golpear\", \"grabar\", \"gracia\", \"gran\", \"grande\", \"grande\", \"gritar\", \"gritar\", \"gritar\", \"gritar\", \"grupo\", \"grupo\", \"guanaco\", \"guarimberos\", \"guerra\", \"guerra\", \"gustar\", \"gustar\", \"hablar\", \"hablarnos\", \"hacer\", \"hacer\", \"hacer\", \"hacer\", \"hacer\", \"hacer\", \"hacer\", \"hacianedo\", \"hackeados\", \"harmamos\", \"haste\", \"hazte\", \"hecho\", \"helicopteros\", \"helicopteros\", \"herir\", \"hermano\", \"hermano\", \"hermoso\", \"hermoso\", \"hermoso\", \"hijo\", \"hiledespierta\", \"hombre\", \"hombre\", \"hombre\", \"honorifica\", \"hora\", \"horno\", \"hoy\", \"hoy\", \"hueoncitos\", \"humanidad\", \"humanizar\", \"humano\", \"humilde\", \"ignorante\", \"igual\", \"igual\", \"imagen\", \"imagen\", \"imagen\", \"imagenes\", \"imaginar\", \"imbeciles\", \"imperar\", \"imponer\", \"importante\", \"importante\", \"importar\", \"importar\", \"importarte\", \"impotencia\", \"impotencia\", \"impregandos\", \"impuesto\", \"impulsivo\", \"impunemente\", \"incedio\", \"incendiar\", \"incendiar\", \"incendio\", \"incitar\", \"incompetente\", \"infetenible\", \"informar\", \"informar\", \"iniciar\", \"iniciar\", \"injusticia\", \"injusticia\", \"injusticia\", \"injustificable\", \"innumerable\", \"inocente\", \"inpotencia\", \"integralmente\", \"inteligencia\", \"intensidad\", \"interesadisima\", \"interesar\", \"interesar\", \"interferenciacl\", \"interlocutor\", \"internacional\", \"intolerable\", \"ion\", \"iquique\", \"ir\", \"ir\", \"ir\", \"irracionalidad\", \"irrarazabal\", \"irrespirable\", \"islamico\", \"izquierdo\", \"jamar\", \"jax\", \"jugar\", \"juguera\", \"juguete\", \"juntar\", \"juntar\", \"junto\", \"junto\", \"justicia\", \"justicia\", \"justificar\", \"justificar\", \"kajsj\", \"klos\", \"laburar\", \"laceinogenas\", \"lacrar\", \"lacrar\", \"lacrimogenas\", \"lacrimogenas\", \"lado\", \"lado\", \"ladron\", \"ladron\", \"ladr\\u00f3n\", \"ladr\\u00f3n\", \"lambiscona\", \"laprensamiente\", \"laserena\", \"laserena\", \"latinoamerica\", \"latioameriaca\", \"latvmiente\", \"leer\", \"leer\", \"legua\", \"leisonados\", \"letrero\", \"levantar\", \"levantar\", \"ley\", \"ley\", \"ley\", \"liban\\u00e9s\", \"liberabarcelona\", \"librar\", \"librar\", \"librar\", \"libre\", \"liderazgo\", \"llamar\", \"llegar\", \"llegar\", \"llenar\", \"llenar\", \"llenar\", \"llevar\", \"llevar\", \"lloraaar\", \"llorar\", \"llorar\", \"llorar\", \"llorar\", \"llorar\", \"llorar\", \"llor\\u00f3n\", \"local\", \"loco\", \"loco\", \"lograr\", \"lograr\", \"lograr\", \"loquita\", \"lora\", \"lourdes\", \"luchar\", \"lucidez\", \"luego\", \"luego\", \"lumpen\", \"lumpen\", \"lunes\", \"luz\", \"maaaalo\", \"machista\", \"magnumphotos\", \"mal\", \"mal\", \"mal\", \"mal\", \"maldito\", \"malo\", \"malo\", \"malo\", \"manana\", \"manchar\", \"mandar\", \"mandar\", \"mandar\", \"mandatado\", \"mandatario\", \"manera\", \"manifestaci\\u00f3n\", \"manifestaci\\u00f3n\", \"manifestante\", \"manifestante\", \"manifestar\", \"manifestar\", \"manifestar\", \"manipular\", \"manir\", \"mano\", \"mansi\\u00f3n\", \"mantener\", \"mantener\", \"marabunta\", \"marchar\", \"marchar\", \"marino\", \"marioneta\", \"martes\", \"mas\", \"mas\", \"mas\", \"mas\", \"matar\", \"matriz\", \"mayoria\", \"medio\", \"medio\", \"medir\", \"mega\", \"megamiente\", \"mejor\", \"mejor\", \"mejor\", \"mejor\", \"mejorar\", \"menos\", \"menos\", \"mensaje\", \"mentir\", \"mentira\", \"mentira\", \"mentira\", \"mentiroso\", \"merecer\", \"merecer\", \"mesacentral\", \"mesios\", \"metense\", \"meter\", \"metrico\", \"metro\", \"metro\", \"metro\", \"mexico\", \"miedo\", \"miedo\", \"mier\", \"mierda\", \"mierda\", \"mierda\", \"migaja\", \"milicos\", \"milicos\", \"milicoschilenos\", \"militante\", \"militar\", \"militar\", \"militar\", \"mill\\u00f3n\", \"ministro\", \"minuto\", \"minuto\", \"minuto\", \"minuto\", \"mirar\", \"mirar\", \"mirar\", \"mirar\", \"mismisimo\", \"mismxs\", \"modelar\", \"momento\", \"momento\", \"monedar\", \"monedar\", \"montaje\", \"morenitos\", \"morir\", \"morir\", \"mostrar\", \"movimiento\", \"movimiento\", \"movimiento\", \"mo\\u00f1o\", \"muerte\", \"muerte\", \"muerte\", \"muertecruzada\", \"muerto\", \"muerto\", \"muerto\", \"mujer\", \"multitud\", \"mun\", \"mundo\", \"mundo\", \"nacional\", \"nacotrficante\", \"narcisismo\", \"necesitar\", \"necesitar\", \"nefasto\", \"nefasto\", \"nefasto\", \"negocio\", \"neoliberalismo\", \"neolriberal\", \"nevar\", \"niches\", \"nino\", \"nino\", \"ninos\", \"nivel\", \"nivel\", \"nivel\", \"noche\", \"noche\", \"nofear\", \"nomas\", \"nomasabusos\", \"nomasengano\", \"nomaspoliticos\", \"nombrar\", \"nonse\", \"normal\", \"normal\", \"normalidad\", \"noscansamos\", \"notario\", \"noteniscara\", \"noticiar\", \"novar\", \"nuevaconstit\", \"nuevamente\", \"nuevo\", \"nuevo\", \"nunca\", \"nunca\", \"obesidad\", \"observatorio\", \"obstruir\", \"octubre\", \"octubre\", \"ocurrir\", \"ocurrir\", \"ocurrir\", \"odiar\", \"odiar\", \"ojalar\", \"ojalar\", \"ojo\", \"ojo\", \"olvidar\", \"oportunidad\", \"ordenar\", \"ordenar\", \"organizar\", \"organizar\", \"oso\", \"pabell\\u00f3n\", \"pacificamente\", \"pacificar\", \"pacificar\", \"paco\", \"pacoscobardes\", \"pagar\", \"pais\", \"pais\", \"paises\", \"palabra\", \"palabra\", \"palante\", \"palazo\", \"paliza\", \"panaderias\", \"pancho\", \"panico\", \"parar\", \"parar\", \"parar\", \"paremosesto\", \"parlamentario\", \"parlamentario\", \"paronacional\", \"paronacional\", \"partir\", \"partir\", \"pasaje\", \"pasar\", \"pasar\", \"pasar\", \"pasar\", \"pasar\", \"pasear\", \"paso\", \"paso\", \"paso\", \"paulsen\", \"payaso\", \"payaso\", \"payaso\", \"paz\", \"peajerinconada\", \"pedir\", \"pedir\", \"pegar\", \"pegar\", \"pegar\", \"pegar\", \"pelambrar\", \"pelear\", \"pellejerias\", \"pelotuda\", \"penar\", \"penar\", \"penar\", \"pensar\", \"pensar\", \"pensar\", \"pensar\", \"pensar\", \"pense\", \"pensionar\", \"peor\", \"peor\", \"pequeneces\", \"pequenos\", \"perder\", \"perder\", \"perderles\", \"perfume\", \"periodista\", \"periodista\", \"periodista\", \"periodista\", \"perjuicio\", \"permitirme\", \"perro\", \"personar\", \"personar\", \"pescar\", \"picar\", \"pie\", \"piedrazos\", \"piee\", \"pileta\", \"piloto\", \"piment\\u00f3n\", \"pineda\", \"pinera\", \"pineraculiao\", \"pineradictador\", \"pinerafuera\", \"pinerarenuncia\", \"pistolitas\", \"placer\", \"plata\", \"plaza\", \"pleno\", \"pleno\", \"pleno\", \"poblar\", \"pobre\", \"pobre\", \"pobre\", \"pobreshito\", \"poder\", \"poder\", \"poder\", \"poderoso\", \"poderoso\", \"podis\", \"policia\", \"policial\", \"policial\", \"polideportivo\", \"politica\", \"politicas\", \"politico\", \"politicos\", \"politruchos\", \"pona\", \"poner\", \"poner\", \"poner\", \"poniendonos\", \"porreivindicar\", \"preciojusto\", \"preferir\", \"preguntar\", \"preguntar\", \"prender\", \"prensar\", \"preocupar\", \"preocupar\", \"presenciar\", \"presidente\", \"prevision\", \"primar\", \"primero\", \"privilegio\", \"problema\", \"problema\", \"problema\", \"prontuario\", \"pronunciarse\", \"propio\", \"proteccion\", \"proteger\", \"protestar\", \"protestar\", \"protestar\", \"provechoso\", \"provenir\", \"provocar\", \"provocar\", \"psiquico\", \"publicar\", \"pueblo\", \"puesto\", \"punetazos\", \"puro\", \"puro\", \"puro\", \"putada\", \"puto\", \"puto\", \"puto\", \"pxta\", \"qleaos\", \"quedar\", \"quedar\", \"quedo\", \"quedo\", \"quejarnos\", \"quemandolos\", \"quemar\", \"quemar\", \"queren\", \"querer\", \"querer\", \"querian\", \"quietooos\", \"quiseron\", \"quitar\", \"quoere\", \"rabiar\", \"rabiar\", \"rage\", \"rajaaaa\", \"rajar\", \"rajar\", \"rancagua\", \"rapidas\", \"real\", \"real\", \"real\", \"realidad\", \"realidad\", \"realidad\", \"realmente\", \"realmente\", \"realmente\", \"reciente\", \"reclamar\", \"reclamar\", \"reconcha\", \"reconocer\", \"reconstruccion\", \"recordar\", \"recordar\", \"recordar\", \"recordar\", \"redar\", \"redar\", \"reglar\", \"rematar\", \"renunciapinera\", \"renunciar\", \"repararnos\", \"repetir\", \"representar\", \"representar\", \"representar\", \"reprimir\", \"reprimir\", \"rescatense\", \"resguardar\", \"resguardarte\", \"resistir\", \"resolver\", \"respetar\", \"respetar\", \"responder\", \"responder\", \"reunamonos\", \"rico\", \"ridiculo\", \"rioslibres\", \"risa\", \"robar\", \"robar\", \"robar\", \"robarnos\", \"romper\", \"romper\", \"rondar\", \"rtw\", \"rubilar\", \"rumiar\", \"sabeis\", \"saber\", \"saber\", \"sacar\", \"sacar\", \"saciar\", \"sacoweaaaaa\", \"salian\", \"salir\", \"salir\", \"salud\", \"saludmental\", \"salvador\", \"salvarte\", \"sangrar\", \"saqueador\", \"saquear\", \"saquear\", \"saqueo\", \"saqueo\", \"sebastian\", \"sectario\", \"sector\", \"seguir\", \"seguir\", \"seguridad\", \"seguridad\", \"seguro\", \"seguro\", \"sendobpico\", \"sentir\", \"sentir\", \"sentir\", \"sentir\", \"sera\", \"sera\", \"seriar\", \"seriar\", \"serio\", \"servicio\", \"sesantia\", \"shock\", \"shopico\", \"sicopatas\", \"siempre\", \"siempre\", \"siempre\", \"significar\", \"siguelalucha\", \"siguemevoxeador\", \"silenciar\", \"silenciar\", \"sindical\", \"sintonizar\", \"situaci\\u00f3n\", \"sobrebisn\", \"sobredosis\", \"sobreviviente\", \"social\", \"sociedad\", \"soldar\", \"solidaridad\", \"solito\", \"solo\", \"solo\", \"solo\", \"solo\", \"solucionar\", \"solucionar\", \"solucionar\", \"sonar\", \"sonido\", \"soys\", \"subir\", \"subir\", \"suceder\", \"suceder\", \"sueldo\", \"suerte\", \"sufrir\", \"sufrir\", \"sumarnos\", \"sundde\", \"superar\", \"supermercado\", \"suponer\", \"tal\", \"tambien\", \"tambien\", \"tambien\", \"tambien\", \"tambien\", \"tambien\", \"tan\", \"tan\", \"tardar\", \"tarifar\", \"tecnicos\", \"tele\", \"televisar\", \"temprano\", \"tendencia\", \"tener\", \"tener\", \"termiado\", \"terminar\", \"terminar\", \"terminar\", \"terrible\", \"terrible\", \"terrible\", \"terrible\", \"terrorismo\", \"terrorista\", \"terroritas\", \"tiempo\", \"timorato\", \"tipo\", \"tirar\", \"tirar\", \"tirenles\", \"tocar\", \"tocar\", \"todavias\", \"tomar\", \"tomar\", \"tomar\", \"tongozurdo\", \"tonto\", \"toquedequeda\", \"toquedequeda\", \"toquedequeda\", \"toquedequeda\", \"toro\", \"torturador\", \"torturar\", \"totalitarista\", \"toxico\", \"trabajar\", \"traficante\", \"tranquilo\", \"tranquilo\", \"transandino\", \"transeuntes\", \"transmitiran\", \"transportar\", \"tratabamos\", \"tratar\", \"tratar\", \"tratar\", \"tratar\", \"traumando\", \"tropo\", \"trrble\", \"truman\", \"tufillo\", \"tv\", \"tvchanta\", \"twrminsmos\", \"uac\", \"ultimar\", \"ultimatun\", \"unica\", \"unicas\", \"uniformar\", \"unir\", \"urgente\", \"urgente\", \"usar\", \"usar\", \"utilizar\", \"vagabundo\", \"valdivieso\", \"valentia\", \"valer\", \"valiente\", \"valparaiso\", \"valparaiso\", \"vandalicamente\", \"vandalismo\", \"vandalos\", \"vandalos\", \"vandalos\", \"vayance\", \"veaa\", \"veanla\", \"vecino\", \"vegetar\", \"vejetes\", \"vencer\", \"vender\", \"venezolano\", \"venezuelaesddhh\", \"veni\", \"venir\", \"venir\", \"venir\", \"ver\", \"ver\", \"ver\", \"verdad\", \"verdad\", \"verdadero\", \"verdadero\", \"verdulero\", \"verguenza\", \"verguenza\", \"verlo\", \"vestir\", \"vestir\", \"vestir\", \"vestir\", \"vez\", \"vez\", \"victimar\", \"vida\", \"vida\", \"vida\", \"videos\", \"viejo\", \"viernes\", \"vinadelmar\", \"vino\", \"violecia\", \"violencia\", \"violencia\", \"violenciaes\", \"violentar\", \"violentar\", \"violentar\", \"violentarnos\", \"violento\", \"violento\", \"violento\", \"viral\", \"virus\", \"visualizaci\\u00f3n\", \"vivalavida\", \"vivemos\", \"vivir\", \"vivir\", \"vivirte\", \"vlado\", \"volcar\", \"volver\", \"votar\", \"vuelo\", \"wea\", \"wea\", \"weas\", \"weas\", \"webean\", \"weones\", \"wn\", \"zoom\"]}, \"R\": 30, \"lambda.step\": 0.01, \"plot.opts\": {\"xlab\": \"PC1\", \"ylab\": \"PC2\"}, \"topic.order\": [2, 15, 9, 4, 3, 7, 14, 10, 12, 1, 13, 5, 11, 8, 6]};\n",
       "\n",
       "function LDAvis_load_lib(url, callback){\n",
       "  var s = document.createElement('script');\n",
       "  s.src = url;\n",
       "  s.async = true;\n",
       "  s.onreadystatechange = s.onload = callback;\n",
       "  s.onerror = function(){console.warn(\"failed to load library \" + url);};\n",
       "  document.getElementsByTagName(\"head\")[0].appendChild(s);\n",
       "}\n",
       "\n",
       "if(typeof(LDAvis) !== \"undefined\"){\n",
       "   // already loaded: just create the visualization\n",
       "   !function(LDAvis){\n",
       "       new LDAvis(\"#\" + \"ldavis_el2147625387042243282237799608\", ldavis_el2147625387042243282237799608_data);\n",
       "   }(LDAvis);\n",
       "}else if(typeof define === \"function\" && define.amd){\n",
       "   // require.js is available: use it to load d3/LDAvis\n",
       "   require.config({paths: {d3: \"https://cdnjs.cloudflare.com/ajax/libs/d3/3.5.5/d3.min\"}});\n",
       "   require([\"d3\"], function(d3){\n",
       "      window.d3 = d3;\n",
       "      LDAvis_load_lib(\"https://cdn.rawgit.com/bmabey/pyLDAvis/files/ldavis.v1.0.0.js\", function(){\n",
       "        new LDAvis(\"#\" + \"ldavis_el2147625387042243282237799608\", ldavis_el2147625387042243282237799608_data);\n",
       "      });\n",
       "    });\n",
       "}else{\n",
       "    // require.js not available: dynamically load d3 & LDAvis\n",
       "    LDAvis_load_lib(\"https://cdnjs.cloudflare.com/ajax/libs/d3/3.5.5/d3.min.js\", function(){\n",
       "         LDAvis_load_lib(\"https://cdn.rawgit.com/bmabey/pyLDAvis/files/ldavis.v1.0.0.js\", function(){\n",
       "                 new LDAvis(\"#\" + \"ldavis_el2147625387042243282237799608\", ldavis_el2147625387042243282237799608_data);\n",
       "            })\n",
       "         });\n",
       "}\n",
       "</script>"
      ],
      "text/plain": [
       "PreparedData(topic_coordinates=              x         y  topics  cluster      Freq\n",
       "topic                                               \n",
       "1      0.046732 -0.211374  1       1        6.764875\n",
       "14     0.130426 -0.028817  2       1        6.761233\n",
       "8     -0.071498  0.205806  3       1        6.733116\n",
       "3      0.012480  0.248749  4       1        6.720660\n",
       "2      0.058090 -0.039805  5       1        6.702762\n",
       "6      0.081515 -0.127699  6       1        6.701299\n",
       "13    -0.234947  0.075870  7       1        6.697635\n",
       "9      0.122400  0.093161  8       1        6.668188\n",
       "11     0.121017 -0.015839  9       1        6.659189\n",
       "0     -0.278366 -0.029842  10      1        6.646311\n",
       "12     0.089094  0.090891  11      1        6.635778\n",
       "4      0.069843 -0.001360  12      1        6.621511\n",
       "10     0.099445  0.105084  13      1        6.592423\n",
       "7     -0.307783 -0.113728  14      1        6.590168\n",
       "5      0.061553 -0.251097  15      1        6.504852, topic_info=      Category          Freq             Term         Total  loglift  logprob\n",
       "term                                                                         \n",
       "7      Default  14729.000000  toquedequeda     14729.000000  30.0000  30.0000\n",
       "1106   Default  6634.000000   pinerarenuncia   6634.000000   29.0000  29.0000\n",
       "241    Default  6620.000000   poblar           6620.000000   28.0000  28.0000\n",
       "5      Default  6223.000000   querer           6223.000000   27.0000  27.0000\n",
       "3      Default  7763.000000   gente            7763.000000   26.0000  26.0000\n",
       "0      Default  6423.000000   decir            6423.000000   25.0000  25.0000\n",
       "258    Default  8775.000000   chiledesperto    8775.000000   24.0000  24.0000\n",
       "97     Default  4748.000000   dar              4748.000000   23.0000  23.0000\n",
       "516    Default  4578.000000   renunciapinera   4578.000000   22.0000  22.0000\n",
       "194    Default  4415.000000   chileno          4415.000000   21.0000  21.0000\n",
       "223    Default  7852.000000   hacer            7852.000000   20.0000  20.0000\n",
       "306    Default  4336.000000   militar          4336.000000   19.0000  19.0000\n",
       "167    Default  4180.000000   pinera           4180.000000   18.0000  18.0000\n",
       "181    Default  4008.000000   chilesecanso     4008.000000   17.0000  17.0000\n",
       "407    Default  3516.000000   hoy              3516.000000   16.0000  16.0000\n",
       "93     Default  4719.000000   ver              4719.000000   15.0000  15.0000\n",
       "115    Default  3400.000000   hablar           3400.000000   14.0000  14.0000\n",
       "38     Default  4369.000000   ir               4369.000000   13.0000  13.0000\n",
       "19301  Default  3074.000000   estopasaenchile  3074.000000   12.0000  12.0000\n",
       "149    Default  5398.000000   solo             5398.000000   11.0000  11.0000\n",
       "90     Default  3368.000000   quedo            3368.000000   10.0000  10.0000\n",
       "15     Default  5248.000000   ahora            5248.000000   9.0000   9.0000 \n",
       "25     Default  2937.000000   milicos          2937.000000   8.0000   8.0000 \n",
       "43     Default  2930.000000   creer            2930.000000   7.0000   7.0000 \n",
       "34     Default  2687.000000   saber            2687.000000   6.0000   6.0000 \n",
       "151    Default  2640.000000   violencia        2640.000000   5.0000   5.0000 \n",
       "22     Default  4131.000000   estan            4131.000000   4.0000   4.0000 \n",
       "210    Default  2576.000000   salir            2576.000000   3.0000   3.0000 \n",
       "436    Default  2517.000000   social           2517.000000   2.0000   2.0000 \n",
       "231    Default  2485.000000   hora             2485.000000   1.0000   1.0000 \n",
       "...        ...          ...      ...                   ...      ...      ... \n",
       "432    Topic15  1186.408337   chileseaburrio   1187.426120   2.7318  -3.7406 \n",
       "16875  Topic15  832.065082    chadwickasesino  832.065082    2.7326  -4.0954 \n",
       "1443   Topic15  794.557996    chiledespierta   794.557996    2.7326  -4.1415 \n",
       "5636   Topic15  729.414111    chileprotestas   729.414111    2.7326  -4.2270 \n",
       "3255   Topic15  727.440054    chilequierepaz   727.440054    2.7326  -4.2297 \n",
       "3187   Topic15  708.686511    chileprotests    708.686511    2.7326  -4.2558 \n",
       "810    Topic15  703.751368    chileresiste     703.751368    2.7326  -4.2628 \n",
       "2303   Topic15  614.918797    latvmiente       614.918797    2.7326  -4.3978 \n",
       "510    Topic15  588.269026    chileselevanta   588.269026    2.7326  -4.4421 \n",
       "902    Topic15  671.179425    paronacional     672.189262    2.7311  -4.3102 \n",
       "431    Topic15  560.632226    chileenmarcha    560.632226    2.7326  -4.4902 \n",
       "199    Topic15  451.072055    estadofallido    451.072055    2.7326  -4.7076 \n",
       "617    Topic15  295.121541    chiledesperta    295.121541    2.7326  -5.1319 \n",
       "1477   Topic15  287.225313    autogolpe        287.225313    2.7326  -5.1590 \n",
       "3132   Topic15  796.532053    chileprotesta    805.558261    2.7214  -4.1390 \n",
       "1234   Topic15  311.901027    bastadeabusos    312.909164    2.7294  -5.0766 \n",
       "3932   Topic15  290.186399    poderoso         291.192677    2.7292  -5.1487 \n",
       "7169   Topic15  187.535428    megamiente       187.535428    2.7326  -5.5853 \n",
       "1804   Topic15  183.587313    noscansamos      183.587313    2.7326  -5.6066 \n",
       "1878   Topic15  177.665142    dictadorpinera   177.665142    2.7326  -5.6394 \n",
       "2083   Topic15  146.080228    pineraculiao     146.080228    2.7326  -5.8351 \n",
       "18956  Topic15  144.106171    chadwikasesino   144.106171    2.7326  -5.8487 \n",
       "651    Topic15  437.253655    enemigo          442.302836    2.7211  -4.7387 \n",
       "6459   Topic15  127.326685    laprensamiente   127.326685    2.7326  -5.9725 \n",
       "4352   Topic15  179.639199    chileunido       183.690857    2.7103  -5.6283 \n",
       "789    Topic15  587.281997    caer             679.546862    2.5867  -4.4438 \n",
       "258    Topic15  4863.089748   chiledesperto    8775.725934   2.1423  -2.3298 \n",
       "1980   Topic15  277.355027    mentira          312.773853    2.6124  -5.1940 \n",
       "443    Topic15  911.027367    chiledespierto   1415.892884   2.2917  -4.0047 \n",
       "622    Topic15  309.926970    cacerolazos      368.916925    2.5584  -5.0829 \n",
       "\n",
       "[1141 rows x 6 columns], token_table=       Topic      Freq           Term\n",
       "term                                 \n",
       "1057   10     1.000682  1            \n",
       "14177  12     1.004512  aaaaaa       \n",
       "1183   8      1.000199  abajar       \n",
       "12139  5      0.995850  abanderizar  \n",
       "13609  12     1.004512  abeja        \n",
       "1654   7      0.997264  abrir        \n",
       "1654   9      0.002645  abrir        \n",
       "1252   11     0.993800  absolutamente\n",
       "1252   14     0.006173  absolutamente\n",
       "2923   3      1.002118  abusadores   \n",
       "179    5      1.000271  abusar       \n",
       "69     3      0.004231  abuso        \n",
       "69     8      0.995398  abuso        \n",
       "674    8      0.999856  acabar       \n",
       "10343  7      0.991929  acabarlos    \n",
       "560    6      1.001910  accionar     \n",
       "14273  12     1.004512  acercarnos   \n",
       "10105  7      0.991929  acesos       \n",
       "784    11     0.999386  acordar      \n",
       "4579   10     0.987250  acribillar   \n",
       "1083   4      0.002947  acto         \n",
       "1083   6      0.996182  acto         \n",
       "1282   3      1.025423  actuan       \n",
       "251    3      0.999841  actuar       \n",
       "12755  1      0.997097  acustica     \n",
       "358    6      0.002565  adelantar    \n",
       "358    14     0.997633  adelantar    \n",
       "8960   13     0.996070  adiestrar    \n",
       "2548   2      1.002928  adulto       \n",
       "3495   1      0.004614  aeropuerto   \n",
       "...   ..           ...     ...       \n",
       "151    15     0.000379  violencia    \n",
       "12066  3      1.025423  violenciaes  \n",
       "572    10     0.978924  violentar    \n",
       "572    13     0.005708  violentar    \n",
       "572    14     0.014270  violentar    \n",
       "13633  15     1.013142  violentarnos \n",
       "225    6      0.893864  violento     \n",
       "225    10     0.105029  violento     \n",
       "225    11     0.002235  violento     \n",
       "1205   10     1.003046  viral        \n",
       "7803   13     0.996070  virus        \n",
       "14087  15     1.013142  visualización\n",
       "11987  14     1.000223  vivalavida   \n",
       "14010  6      0.990260  vivemos      \n",
       "8      4      0.000418  vivir        \n",
       "8      13     0.999413  vivir        \n",
       "14049  15     1.013142  vivirte      \n",
       "11221  14     1.000223  vlado        \n",
       "7449   3      1.025423  volcar       \n",
       "244    8      0.999504  volver       \n",
       "1715   5      1.000684  votar        \n",
       "2362   10     0.999003  vuelo        \n",
       "118    4      0.988818  wea          \n",
       "118    11     0.010956  wea          \n",
       "429    3      0.023051  weas         \n",
       "429    4      0.977365  weas         \n",
       "10299  7      0.991929  webean       \n",
       "131    4      0.999841  weones       \n",
       "280    5      1.002113  wn           \n",
       "27053  8      0.982528  zoom         \n",
       "\n",
       "[1515 rows x 3 columns], R=30, lambda_step=0.01, plot_opts={'xlab': 'PC1', 'ylab': 'PC2'}, topic_order=[2, 15, 9, 4, 3, 7, 14, 10, 12, 1, 13, 5, 11, 8, 6])"
      ]
     },
     "execution_count": 197,
     "metadata": {},
     "output_type": "execute_result"
    }
   ],
   "source": [
    "data"
   ]
  }
 ],
 "metadata": {
  "kernelspec": {
   "display_name": "Python 3",
   "language": "python",
   "name": "python3"
  },
  "language_info": {
   "codemirror_mode": {
    "name": "ipython",
    "version": 3
   },
   "file_extension": ".py",
   "mimetype": "text/x-python",
   "name": "python",
   "nbconvert_exporter": "python",
   "pygments_lexer": "ipython3",
   "version": "3.7.1"
  }
 },
 "nbformat": 4,
 "nbformat_minor": 2
}
