{
 "cells": [
  {
   "cell_type": "code",
   "execution_count": 37,
   "metadata": {},
   "outputs": [],
   "source": [
    "from sklearn.metrics.pairwise import cosine_similarity\n",
    "from sklearn.metrics.pairwise import cosine_distances\n",
    "import numpy as np"
   ]
  },
  {
   "cell_type": "code",
   "execution_count": 38,
   "metadata": {},
   "outputs": [],
   "source": [
    "\n",
    "import gensim, pickle\n",
    "from gensim.models.keyedvectors import KeyedVectors\n",
    "LdaModel = gensim.models.ldamodel.LdaModel\n"
   ]
  },
  {
   "cell_type": "code",
   "execution_count": 39,
   "metadata": {},
   "outputs": [],
   "source": [
    "#ruta_word_embedding = '../data/wiki.multi.en.vec'\n",
    "#ruta_word_embedding = '../data/embedding_english__europe_northamerica_word2vec_300dimensions_cbow_trim3_epoch50.bin'\n",
    "ruta_word_embedding = '../data/embedding_english_europe_northamerica_word2vec_300dimensions_cbow_trim3_epoch50.model'\n",
    "wordembedding = gensim.models.Word2Vec.load(ruta_word_embedding)\n",
    "#wordembedding = KeyedVectors.load_word2vec_format(ruta_word_embedding, binary=False)\n",
    "#wordembedding = KeyedVectors.load_word2vec_format(ruta_word_embedding, binary=True)"
   ]
  },
  {
   "cell_type": "code",
   "execution_count": 40,
   "metadata": {},
   "outputs": [
    {
     "data": {
      "text/plain": [
       "True"
      ]
     },
     "execution_count": 40,
     "metadata": {},
     "output_type": "execute_result"
    }
   ],
   "source": [
    "'deletefacebook' in wordembedding.wv"
   ]
  },
  {
   "cell_type": "code",
   "execution_count": 41,
   "metadata": {},
   "outputs": [
    {
     "data": {
      "text/plain": [
       "23994"
      ]
     },
     "execution_count": 41,
     "metadata": {},
     "output_type": "execute_result"
    }
   ],
   "source": [
    "len(wordembedding.wv.vocab)"
   ]
  },
  {
   "cell_type": "code",
   "execution_count": 42,
   "metadata": {},
   "outputs": [],
   "source": [
    "\"\"\"\n",
    "Note: \n",
    "LDAvis Scenario:\n",
    "If you wish to calculate topic similarity metric over one topic modeling output, therefore lda_model_collection_1\n",
    "and lda_model_collection_2 should be the same. \n",
    "\n",
    "Sankey diagram scenario:\n",
    "If you wish to calculate topic similarity metric over two different topic modeling outputs, lda_model_collection_1\n",
    "and lda_model_collection_2 should be different\n",
    "\n",
    "\n",
    "The same shouuld be done with the most relevant documents.\n",
    "\"\"\"\n",
    "\n",
    "\n",
    "\n",
    "lda_model_collecion_1 = LdaModel.load(\"../data/cambridge_analytica/regional_datasets/files_europe/english_europe_tweets_20190411.csv_gensim.model\")\n",
    "lda_model_collecion_2 = LdaModel.load(\"../data/cambridge_analytica/regional_datasets/files_europe/english_europe_tweets_20190411.csv_gensim.model\")\n",
    "#lda_model_collecion_2 = LdaModel.load(\"../data/cambridge_analytica/regional_datasets/files_northamerica/english_northamerica_tweets_20190411.csv_gensim.model\")"
   ]
  },
  {
   "cell_type": "code",
   "execution_count": 43,
   "metadata": {},
   "outputs": [],
   "source": [
    "with open('../data/cambridge_analytica/regional_datasets/files_europe/english_europe_tweets_20190411.csvsent_topics_sorteddf_mallet_ldamodel', 'rb') as f:\n",
    "    most_relevant_documents_collection_1 = pickle.load(f)\n",
    "most_relevant_documents_collection_1 = most_relevant_documents_collection_1[['Topic_Num','Topic_Perc_Contrib','text']]\n",
    "\n",
    "# ../data/cambridge_analytica/regional_datasets/files_northamerica/english_northamerica_tweets_20190411.csvsent_topics_sorteddf_mallet_ldamodel\n",
    "with open('../data/cambridge_analytica/regional_datasets/files_europe/english_europe_tweets_20190411.csvsent_topics_sorteddf_mallet_ldamodel', 'rb') as f:\n",
    "    most_relevant_documents_collection_2 = pickle.load(f)\n",
    "most_relevant_documents_collection_2 = most_relevant_documents_collection_2[['Topic_Num','Topic_Perc_Contrib','text']]\n"
   ]
  },
  {
   "cell_type": "code",
   "execution_count": 44,
   "metadata": {},
   "outputs": [],
   "source": [
    "'''My own tokenizer '''\n",
    "import unidecode\n",
    "from string import punctuation\n",
    "from string import digits\n",
    "punctuation+=\"¡¿<>'`\"\n",
    "punctuation+='\"'\n",
    "\n",
    "#Remove digits and puntuaction\n",
    "remove_digits = str.maketrans(digits, ' '*len(digits))#remove_digits = str.maketrans('', '', digits)\n",
    "remove_punctuation = str.maketrans(punctuation, ' '*len(punctuation))#remove_punctuation = str.maketrans('', '', punctuation)\n",
    "remove_hashtags_caracter = str.maketrans('#', ' '*len('#'))\n",
    "#las palabras de los hashtag se mantiene, pero no el simbolo. \n",
    "\n",
    "\n",
    "def text_cleaner(tweet):\n",
    "    tweet = tweet.translate(remove_digits)\n",
    "    #tweet = tweet.lower() it wasn't a good idea,, we lost a lot of\n",
    "    tweet = tweet.translate(remove_punctuation)\n",
    "    tweet = tweet.translate(remove_hashtags_caracter)\n",
    "    tweet = tweet.lower()\n",
    "    tweet = unidecode.unidecode(tweet)\n",
    "    #tweet = tweet.strip().split()\n",
    "    #filtered_words = [word for word in tweet if word not in stopWords]\n",
    "    #corpus[id_tweet]= filtered_words\n",
    "    #id_tweet+=1\n",
    "    tweet = tweet.split()\n",
    "    return tweet\n"
   ]
  },
  {
   "cell_type": "code",
   "execution_count": 45,
   "metadata": {},
   "outputs": [],
   "source": [
    "def get_dicts_relevant_keywords_documents(lda_model,df_relevant_documents, n_terms):\n",
    "    num_topics = lda_model.num_topics\n",
    "    #create dictionary of top keywords \n",
    "    topKeywordsDict = {}\n",
    "    for topic_id in range(num_topics):\n",
    "        topKeywordsDict[topic_id] = []\n",
    "        for term, probability in lda_model.show_topic(topic_id,topn=n_terms):\n",
    "            topKeywordsDict[topic_id].append({\n",
    "                \"term\":term,\n",
    "                \"probability\":probability\n",
    "            })\n",
    "\n",
    "    #create dictionary of relevant documents\n",
    "    relevantDocumentsDict = {}\n",
    "    for index,row in df_relevant_documents.iterrows():\n",
    "        topic_id = int(row['Topic_Num'])\n",
    "        if topic_id not in relevantDocumentsDict:\n",
    "            relevantDocumentsDict[topic_id]=[]\n",
    "        relevantDocumentsDict[topic_id].append({\n",
    "            'topic_perc_contrib':row['Topic_Perc_Contrib'],\n",
    "            'text':row['text']\n",
    "        })\n",
    "    return (topKeywordsDict, relevantDocumentsDict)\n",
    "\n",
    "def getDocumentVector(text, wordembedding):\n",
    "    #preprocesar    \n",
    "    #encontrar palabras en word embedding\n",
    "    #ponderas palabras TF-IDF\n",
    "    document_vector = 0.0\n",
    "    words_found = 0.0\n",
    "    for word in text_cleaner(text):\n",
    "        if word in wordembedding.wv:\n",
    "            document_vector+=wordembedding.wv[word] #aqui hay que ponderar\n",
    "            words_found+=1\n",
    "    return document_vector/words_found\n",
    "\n",
    "        \n",
    "    \n",
    "def get_topkeywords_relevantdocuments_vectors(wordembedding, lda_model,most_relevant_documents,  n_terms): #n_terms : numero de top keywords a considerar\n",
    "    topKeywordsDict, relevantDocumentsDict = get_dicts_relevant_keywords_documents(lda_model, most_relevant_documents, n_terms)\n",
    "\n",
    "    ### Create top keyword vector per topic\n",
    "    #create keyword vector\n",
    "    topkeywords_vectors_dict = {}\n",
    "    num_topics = lda_model.num_topics\n",
    "    for topic_id in range(num_topics):\n",
    "        topkeywords_vector = 0\n",
    "        ranking = 1.0\n",
    "        for item in topKeywordsDict[topic_id]:\n",
    "            if item['term'] in wordembedding.wv: #no todas las palabras aparecerán en el ranking, que hacer con el resto\n",
    "                #print(item['term'], item['probability'])\n",
    "                topkeywords_vector += wordembedding.wv[item['term']]/ranking\n",
    "            else:\n",
    "                print(item['term'],\" position:\",ranking)\n",
    "            ranking+=1\n",
    "        topkeywords_vectors_dict[topic_id] = topkeywords_vector\n",
    "        \n",
    "    relevantdocuments_vectors_dict = {}\n",
    "    for topic_id in range(num_topics):\n",
    "        relevantDocumentsvector = 0.0\n",
    "        for item in relevantDocumentsDict[topic_id]:\n",
    "            #quizas esto hacerlo para los primero 100 docs, 500 docs, el resto es un % pequeño que se pierde, optimizar\n",
    "            #revisar si multiplicar por la contribucion es lo correcto, eso no da 1 o si? OHHHHHH, habria que sacar todooos los docs no solo los 100 primeros\n",
    "            relevantDocumentsvector+= float(item['topic_perc_contrib'])*getDocumentVector(item['text'], wordembedding)\n",
    "        relevantdocuments_vectors_dict[topic_id] = relevantDocumentsvector\n",
    "        \n",
    "    return (topkeywords_vectors_dict, relevantdocuments_vectors_dict)\n"
   ]
  },
  {
   "cell_type": "code",
   "execution_count": 46,
   "metadata": {},
   "outputs": [],
   "source": [
    "def get_topic_vectors(wordembedding, lda_model,most_relevant_documents,  n_terms, lambda_):\n",
    "    num_topics = lda_model.num_topics\n",
    "    topkeywords_vectors_dict, relevantdocuments_vectors_dict = get_topkeywords_relevantdocuments_vectors(wordembedding, lda_model,most_relevant_documents,  n_terms)\n",
    "    final_topic_vectors_dict = dict()\n",
    "    for topic_id in range(num_topics):\n",
    "        final_topic_vector = lambda_*topkeywords_vectors_dict[topic_id]+(1-lambda_)*relevantdocuments_vectors_dict[topic_id]\n",
    "        final_topic_vectors_dict[topic_id] = final_topic_vector\n",
    "    return final_topic_vectors_dict"
   ]
  },
  {
   "cell_type": "code",
   "execution_count": 47,
   "metadata": {},
   "outputs": [],
   "source": [
    "def get_matrix(wordembedding, lda_model_1,most_relevant_documents_1,lda_model_2,most_relevant_documents_2, n_terms, lambda_):\n",
    "    \n",
    "    final_topic_vectors_dict_1 =  get_topic_vectors(wordembedding, lda_model_1,most_relevant_documents_1,  n_terms, lambda_)\n",
    "    final_topic_vectors_dict_2 =  get_topic_vectors(wordembedding, lda_model_2,most_relevant_documents_2,  n_terms, lambda_)\n",
    "    \n",
    "    topic_similarity_matrix = []\n",
    "    for i in range(lda_model_1.num_topics):\n",
    "        row = []\n",
    "        for j in range(lda_model_2.num_topics):\n",
    "            topic_i = final_topic_vectors_dict_1[i].reshape(1,-1)\n",
    "            topic_j = final_topic_vectors_dict_2[j].reshape(1,-1)\n",
    "            row.append(float(cosine_similarity(topic_i,topic_j)))\n",
    "        topic_similarity_matrix.append(row)\n",
    "    topic_similarity_matrix= np.asarray(topic_similarity_matrix)\n",
    "    return topic_similarity_matrix"
   ]
  },
  {
   "cell_type": "markdown",
   "metadata": {},
   "source": [
    " "
   ]
  },
  {
   "cell_type": "code",
   "execution_count": 48,
   "metadata": {},
   "outputs": [
    {
     "name": "stdout",
     "output_type": "stream",
     "text": [
      "0.0\n",
      "0.01\n",
      "0.02\n",
      "0.03\n",
      "0.04\n",
      "0.05\n",
      "0.06\n",
      "0.07\n",
      "0.08\n",
      "0.09\n",
      "0.1\n",
      "0.11\n",
      "0.12\n",
      "0.13\n",
      "0.14\n",
      "0.15\n",
      "0.16\n",
      "0.17\n",
      "0.18\n",
      "0.19\n",
      "0.2\n",
      "0.21\n",
      "0.22\n",
      "0.23\n",
      "0.24\n",
      "0.25\n",
      "0.26\n",
      "0.27\n",
      "0.28\n",
      "0.29\n",
      "0.3\n",
      "0.31\n",
      "0.32\n",
      "0.33\n",
      "0.34\n",
      "0.35\n",
      "0.36\n",
      "0.37\n",
      "0.38\n",
      "0.39\n",
      "0.4\n",
      "0.41\n",
      "0.42\n",
      "0.43\n",
      "0.44\n",
      "0.45\n",
      "0.46\n",
      "0.47\n",
      "0.48\n",
      "0.49\n",
      "0.5\n",
      "0.51\n",
      "0.52\n",
      "0.53\n",
      "0.54\n",
      "0.55\n",
      "0.56\n",
      "0.57\n",
      "0.58\n",
      "0.59\n",
      "0.6\n",
      "0.61\n",
      "0.62\n",
      "0.63\n",
      "0.64\n",
      "0.65\n",
      "0.66\n",
      "0.67\n",
      "0.68\n",
      "0.69\n",
      "0.7\n",
      "0.71\n",
      "0.72\n",
      "0.73\n",
      "0.74\n",
      "0.75\n",
      "0.76\n",
      "0.77\n",
      "0.78\n",
      "0.79\n",
      "0.8\n",
      "0.81\n",
      "0.82\n",
      "0.83\n",
      "0.84\n",
      "0.85\n",
      "0.86\n",
      "0.87\n",
      "0.88\n",
      "0.89\n",
      "0.9\n",
      "0.91\n",
      "0.92\n",
      "0.93\n",
      "0.94\n",
      "0.95\n",
      "0.96\n",
      "0.97\n",
      "0.98\n",
      "0.99\n",
      "1.0\n"
     ]
    }
   ],
   "source": [
    "topn = 30\n",
    "#lambda_ = 0.8\n",
    "\n",
    "\n",
    "i = 0.0\n",
    "matrices_dict = dict()\n",
    "while i <=1.01:\n",
    "    lambda_ = round(i,2)\n",
    "    print(lambda_)\n",
    "    matrix = get_matrix(wordembedding, lda_model_collecion_1, most_relevant_documents_collection_1, lda_model_collecion_2, most_relevant_documents_collection_2,topn, lambda_)\n",
    "    matrices_dict[lambda_] = matrix\n",
    "    i+=0.01\n",
    " "
   ]
  },
  {
   "cell_type": "code",
   "execution_count": 49,
   "metadata": {},
   "outputs": [],
   "source": [
    "with open('../data/cambridge_analytica/regional_datasets/matrix_europe_vs_europe_own_wordembedding', 'wb') as f:\n",
    "            pickle.dump(matrices_dict, f)"
   ]
  },
  {
   "cell_type": "markdown",
   "metadata": {},
   "source": [
    "# OLD"
   ]
  },
  {
   "cell_type": "code",
   "execution_count": 33,
   "metadata": {},
   "outputs": [],
   "source": [
    "#matrices_dict"
   ]
  },
  {
   "cell_type": "code",
   "execution_count": 34,
   "metadata": {},
   "outputs": [
    {
     "data": {
      "text/plain": [
       "\"\\nwith open('../data/cambridge_analytica/regional_datasets/files_europe/matrix_europe_vs_europe', 'wb') as f:\\n            pickle.dump(matrices_dict, f)\\n\""
      ]
     },
     "execution_count": 34,
     "metadata": {},
     "output_type": "execute_result"
    }
   ],
   "source": [
    "\"\"\"\n",
    "with open('../data/cambridge_analytica/matrix_collection_1_1', 'wb') as f:\n",
    "            pickle.dump(matrices_dict, f)\n",
    "\"\"\"\n",
    "\"\"\"\n",
    "with open('../data/cambridge_analytica/regional_datasets/files_europe/matrix_europe_vs_europe', 'wb') as f:\n",
    "            pickle.dump(matrices_dict, f)\n",
    "\"\"\"     \n",
    "\n"
   ]
  },
  {
   "cell_type": "code",
   "execution_count": 35,
   "metadata": {},
   "outputs": [
    {
     "data": {
      "text/plain": [
       "\"\\n\\n\\n\\nwith open('../data/cambridge_analytica/matrix_collection_1_2', 'rb') as f:\\n    matrix_sankey_2 = pickle.load(f)\\n\""
      ]
     },
     "execution_count": 35,
     "metadata": {},
     "output_type": "execute_result"
    }
   ],
   "source": [
    "\"\"\"\n",
    "\n",
    "\n",
    "\n",
    "with open('../data/cambridge_analytica/matrix_collection_1_2', 'rb') as f:\n",
    "    matrix_sankey_2 = pickle.load(f)\n",
    "\"\"\""
   ]
  },
  {
   "cell_type": "code",
   "execution_count": 36,
   "metadata": {},
   "outputs": [],
   "source": [
    "#matrix_sankey_2[0.8]"
   ]
  },
  {
   "cell_type": "code",
   "execution_count": null,
   "metadata": {},
   "outputs": [],
   "source": []
  }
 ],
 "metadata": {
  "kernelspec": {
   "display_name": "Python 3",
   "language": "python",
   "name": "python3"
  },
  "language_info": {
   "codemirror_mode": {
    "name": "ipython",
    "version": 3
   },
   "file_extension": ".py",
   "mimetype": "text/x-python",
   "name": "python",
   "nbconvert_exporter": "python",
   "pygments_lexer": "ipython3",
   "version": "3.7.1"
  }
 },
 "nbformat": 4,
 "nbformat_minor": 4
}
