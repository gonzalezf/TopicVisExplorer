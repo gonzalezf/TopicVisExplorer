{
 "cells": [
  {
   "cell_type": "code",
   "execution_count": 33,
   "metadata": {},
   "outputs": [],
   "source": [
    "#http://scikit-bio.org/docs/0.1.1/generated/skbio.math.stats.ordination.PCoA.html?highlight=pcoa\n",
    "from skbio.stats.ordination import pcoa"
   ]
  },
  {
   "cell_type": "code",
   "execution_count": 39,
   "metadata": {},
   "outputs": [],
   "source": [
    "import pickle\n",
    "import numpy as np"
   ]
  },
  {
   "cell_type": "code",
   "execution_count": 23,
   "metadata": {},
   "outputs": [],
   "source": [
    "with open('../data/cambridge_analytica/matrix_collection_1_1', 'rb') as f:\n",
    "    matrix = pickle.load(f)\n"
   ]
  },
  {
   "cell_type": "code",
   "execution_count": null,
   "metadata": {},
   "outputs": [],
   "source": []
  },
  {
   "cell_type": "code",
   "execution_count": 44,
   "metadata": {},
   "outputs": [],
   "source": [
    "matrix_cosine_distance = 1-matrix[0.0]\n"
   ]
  },
  {
   "cell_type": "code",
   "execution_count": 45,
   "metadata": {},
   "outputs": [],
   "source": [
    "np.fill_diagonal(matrix_cosine_distance,0)"
   ]
  },
  {
   "cell_type": "code",
   "execution_count": 46,
   "metadata": {},
   "outputs": [
    {
     "data": {
      "text/plain": [
       "array([[0.        , 0.04102474, 0.04572612, 0.06115913, 0.05137181,\n",
       "        0.03854328, 0.06479633, 0.02488416, 0.08327824, 0.18000174,\n",
       "        0.03539121, 0.05264175, 0.08093512, 0.04041588, 0.04878378],\n",
       "       [0.04102474, 0.        , 0.06326449, 0.06750011, 0.03691661,\n",
       "        0.00996703, 0.06325734, 0.03829789, 0.06135094, 0.18754733,\n",
       "        0.02793956, 0.07327133, 0.09507996, 0.02998447, 0.04344666],\n",
       "       [0.04572612, 0.06326449, 0.        , 0.04282653, 0.0489291 ,\n",
       "        0.05532724, 0.04913598, 0.03831267, 0.0866589 , 0.11377668,\n",
       "        0.04856694, 0.04168594, 0.1082477 , 0.05285537, 0.04716456],\n",
       "       [0.06115913, 0.06750011, 0.04282653, 0.        , 0.04253328,\n",
       "        0.05915129, 0.04293376, 0.06188405, 0.0965302 , 0.14946032,\n",
       "        0.05097729, 0.04782283, 0.11927098, 0.04900587, 0.03631735],\n",
       "       [0.05137181, 0.03691661, 0.0489291 , 0.04253328, 0.        ,\n",
       "        0.03231955, 0.0417738 , 0.05409241, 0.08198017, 0.15886146,\n",
       "        0.04504836, 0.0454936 , 0.09562683, 0.02693027, 0.01632512],\n",
       "       [0.03854328, 0.00996703, 0.05532724, 0.05915129, 0.03231955,\n",
       "        0.        , 0.05846703, 0.03613734, 0.06124777, 0.18502253,\n",
       "        0.02181041, 0.06224084, 0.09800792, 0.02736139, 0.03784245],\n",
       "       [0.06479633, 0.06325734, 0.04913598, 0.04293376, 0.0417738 ,\n",
       "        0.05846703, 0.        , 0.05969024, 0.08716249, 0.1443581 ,\n",
       "        0.06405962, 0.06354296, 0.10368699, 0.04847705, 0.02788073],\n",
       "       [0.02488416, 0.03829789, 0.03831267, 0.06188405, 0.05409241,\n",
       "        0.03613734, 0.05969024, 0.        , 0.08664966, 0.16565531,\n",
       "        0.03816456, 0.05920112, 0.09013575, 0.04456544, 0.05650997],\n",
       "       [0.08327824, 0.06135094, 0.0866589 , 0.0965302 , 0.08198017,\n",
       "        0.06124777, 0.08716249, 0.08664966, 0.        , 0.16730183,\n",
       "        0.07686746, 0.10854197, 0.07936603, 0.09616148, 0.06567323],\n",
       "       [0.18000174, 0.18754733, 0.11377668, 0.14946032, 0.15886146,\n",
       "        0.18502253, 0.1443581 , 0.16565531, 0.16730183, 0.        ,\n",
       "        0.18044925, 0.15350938, 0.19458115, 0.16509104, 0.14217281],\n",
       "       [0.03539121, 0.02793956, 0.04856694, 0.05097729, 0.04504836,\n",
       "        0.02181041, 0.06405962, 0.03816456, 0.07686746, 0.18044925,\n",
       "        0.        , 0.05263722, 0.10822588, 0.03427851, 0.04484248],\n",
       "       [0.05264175, 0.07327133, 0.04168594, 0.04782283, 0.0454936 ,\n",
       "        0.06224084, 0.06354296, 0.05920112, 0.10854197, 0.15350938,\n",
       "        0.05263722, 0.        , 0.10901022, 0.04724526, 0.04493177],\n",
       "       [0.08093512, 0.09507996, 0.1082477 , 0.11927098, 0.09562683,\n",
       "        0.09800792, 0.10368699, 0.09013575, 0.07936603, 0.19458115,\n",
       "        0.10822588, 0.10901022, 0.        , 0.11057472, 0.08041412],\n",
       "       [0.04041588, 0.02998447, 0.05285537, 0.04900587, 0.02693027,\n",
       "        0.02736139, 0.04847705, 0.04456544, 0.09616148, 0.16509104,\n",
       "        0.03427851, 0.04724526, 0.11057472, 0.        , 0.030595  ],\n",
       "       [0.04878378, 0.04344666, 0.04716456, 0.03631735, 0.01632512,\n",
       "        0.03784245, 0.02788073, 0.05650997, 0.06567323, 0.14217281,\n",
       "        0.04484248, 0.04493177, 0.08041412, 0.030595  , 0.        ]])"
      ]
     },
     "execution_count": 46,
     "metadata": {},
     "output_type": "execute_result"
    }
   ],
   "source": [
    "matrix_cosine_distance"
   ]
  },
  {
   "cell_type": "code",
   "execution_count": 49,
   "metadata": {},
   "outputs": [
    {
     "name": "stderr",
     "output_type": "stream",
     "text": [
      "C:\\ProgramData\\Anaconda3\\lib\\site-packages\\skbio\\stats\\ordination\\_principal_coordinate_analysis.py:152: RuntimeWarning: The result contains negative eigenvalues. Please compare their magnitude with the magnitude of some of the largest positive eigenvalues. If the negative ones are smaller, it's probably safe to ignore them, but if they are large in magnitude, the results won't be useful. See the Notes section for more details. The smallest eigenvalue is -0.0022445570207539024 and the largest is 0.02905962629993767.\n",
      "  RuntimeWarning\n"
     ]
    }
   ],
   "source": [
    "respuesta = pcoa(matrix_cosine_distance)"
   ]
  },
  {
   "cell_type": "code",
   "execution_count": 54,
   "metadata": {},
   "outputs": [
    {
     "data": {
      "text/plain": [
       "PC1     0.545657\n",
       "PC2     0.220290\n",
       "PC3     0.096681\n",
       "PC4     0.064649\n",
       "PC5     0.032530\n",
       "PC6     0.026169\n",
       "PC7     0.006677\n",
       "PC8     0.005987\n",
       "PC9     0.001360\n",
       "PC10    0.000000\n",
       "PC11    0.000000\n",
       "PC12    0.000000\n",
       "PC13    0.000000\n",
       "PC14    0.000000\n",
       "PC15    0.000000\n",
       "dtype: float64"
      ]
     },
     "execution_count": 54,
     "metadata": {},
     "output_type": "execute_result"
    }
   ],
   "source": [
    "respuesta.proportion_explained"
   ]
  },
  {
   "cell_type": "code",
   "execution_count": null,
   "metadata": {},
   "outputs": [],
   "source": [
    "pcoa(matrix_consine_distance)"
   ]
  }
 ],
 "metadata": {
  "kernelspec": {
   "display_name": "Python 3",
   "language": "python",
   "name": "python3"
  },
  "language_info": {
   "codemirror_mode": {
    "name": "ipython",
    "version": 3
   },
   "file_extension": ".py",
   "mimetype": "text/x-python",
   "name": "python",
   "nbconvert_exporter": "python",
   "pygments_lexer": "ipython3",
   "version": "3.7.1"
  }
 },
 "nbformat": 4,
 "nbformat_minor": 4
}
