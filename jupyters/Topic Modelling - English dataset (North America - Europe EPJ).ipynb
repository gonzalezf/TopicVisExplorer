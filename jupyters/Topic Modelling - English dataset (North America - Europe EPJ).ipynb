{
 "cells": [
  {
   "cell_type": "code",
   "execution_count": 20,
   "metadata": {},
   "outputs": [],
   "source": [
    "import nltk; \n",
    "import time\n",
    "import os"
   ]
  },
  {
   "cell_type": "code",
   "execution_count": 21,
   "metadata": {},
   "outputs": [],
   "source": [
    "import re\n",
    "import numpy as np\n",
    "import pandas as pd\n",
    "from pprint import pprint\n",
    "from string import digits\n",
    "from string import punctuation\n",
    "import unidecode\n"
   ]
  },
  {
   "cell_type": "code",
   "execution_count": 22,
   "metadata": {},
   "outputs": [],
   "source": [
    "import gensim\n",
    "import gensim.corpora as corpora\n",
    "from gensim.utils import simple_preprocess\n",
    "from gensim.models import CoherenceModel"
   ]
  },
  {
   "cell_type": "code",
   "execution_count": 23,
   "metadata": {},
   "outputs": [],
   "source": [
    "import spacy\n"
   ]
  },
  {
   "cell_type": "code",
   "execution_count": 24,
   "metadata": {},
   "outputs": [],
   "source": [
    "import pyLDAvis\n",
    "import pyLDAvis.gensim  # don't skip this\n",
    "import matplotlib.pyplot as plt\n",
    "%matplotlib inline"
   ]
  },
  {
   "cell_type": "code",
   "execution_count": 25,
   "metadata": {},
   "outputs": [],
   "source": [
    "# NLTK Stop words\n",
    "from nltk.corpus import stopwords\n",
    "stop_words = stopwords.words('english')\n",
    "stop_words.extend(['linkremoved',' <link removed>','usernameremoved','<usernameremoved>','<linkremoved>','usernameremoved_usernameremoved','linkremoved_linkremoved'])\n",
    "##stop_words.extend(['from', 'subject', 're', 'edu', 'use'])"
   ]
  },
  {
   "cell_type": "markdown",
   "metadata": {},
   "source": [
    "# Import data"
   ]
  },
  {
   "cell_type": "code",
   "execution_count": 26,
   "metadata": {},
   "outputs": [],
   "source": [
    "#file_name = 'english_europe_tweets_20190411.csv'\n",
    "file_name = 'english_northamerica_tweets_20190411.csv'\n",
    "\n",
    "\n"
   ]
  },
  {
   "cell_type": "code",
   "execution_count": 27,
   "metadata": {},
   "outputs": [],
   "source": [
    "df  = pd.read_csv('../data/cambridge_analytica/regional_datasets/'+file_name)"
   ]
  },
  {
   "cell_type": "code",
   "execution_count": 28,
   "metadata": {},
   "outputs": [
    {
     "data": {
      "text/plain": [
       "342400"
      ]
     },
     "execution_count": 28,
     "metadata": {},
     "output_type": "execute_result"
    }
   ],
   "source": [
    "len(df) #number of tweets"
   ]
  },
  {
   "cell_type": "code",
   "execution_count": 30,
   "metadata": {},
   "outputs": [
    {
     "data": {
      "text/plain": [
       "143719"
      ]
     },
     "execution_count": 30,
     "metadata": {},
     "output_type": "execute_result"
    }
   ],
   "source": [
    "len(df.groupby('user.screen_name').sum()) #number of users"
   ]
  },
  {
   "cell_type": "code",
   "execution_count": 31,
   "metadata": {},
   "outputs": [
    {
     "name": "stderr",
     "output_type": "stream",
     "text": [
      "C:\\Users\\gonza\\AppData\\Roaming\\Python\\Python37\\site-packages\\ipykernel_launcher.py:1: FutureWarning: Passing a negative integer is deprecated in version 1.0 and will not be supported in future version. Instead, use None to not limit the column width.\n",
      "  \"\"\"Entry point for launching an IPython kernel.\n"
     ]
    }
   ],
   "source": [
    "pd.set_option('display.max_colwidth', -1)"
   ]
  },
  {
   "cell_type": "code",
   "execution_count": 32,
   "metadata": {},
   "outputs": [
    {
     "data": {
      "text/html": [
       "<div>\n",
       "<style scoped>\n",
       "    .dataframe tbody tr th:only-of-type {\n",
       "        vertical-align: middle;\n",
       "    }\n",
       "\n",
       "    .dataframe tbody tr th {\n",
       "        vertical-align: top;\n",
       "    }\n",
       "\n",
       "    .dataframe thead th {\n",
       "        text-align: right;\n",
       "    }\n",
       "</style>\n",
       "<table border=\"1\" class=\"dataframe\">\n",
       "  <thead>\n",
       "    <tr style=\"text-align: right;\">\n",
       "      <th></th>\n",
       "      <th>Unnamed: 0</th>\n",
       "      <th>created_at2</th>\n",
       "      <th>id</th>\n",
       "      <th>created_at</th>\n",
       "      <th>user.screen_name</th>\n",
       "      <th>user_location</th>\n",
       "      <th>coordinates</th>\n",
       "      <th>text</th>\n",
       "      <th>full_text</th>\n",
       "      <th>retweet_created_at</th>\n",
       "      <th>retweet_full_text</th>\n",
       "      <th>texto_completo</th>\n",
       "      <th>ubicacion_encontrada</th>\n",
       "    </tr>\n",
       "  </thead>\n",
       "  <tbody>\n",
       "    <tr>\n",
       "      <th>0</th>\n",
       "      <td>1</td>\n",
       "      <td>2018-04-01</td>\n",
       "      <td>id-980480936205783047</td>\n",
       "      <td>Sun Apr 01 16:24:06 +0000 2018</td>\n",
       "      <td>stanscott53</td>\n",
       "      <td>Coldspring, TX</td>\n",
       "      <td>NaN</td>\n",
       "      <td>@SenTedCruz Hold Facebook accountable for abusing our data and censoring our voice. Vote no on the CRA. https://t.co/wWkYeCP4Dw</td>\n",
       "      <td>NaN</td>\n",
       "      <td>NaN</td>\n",
       "      <td>NaN</td>\n",
       "      <td>&lt;usernameremoved&gt; Hold Facebook accountable for abusing our data and censoring our voice. Vote no on the CRA. &lt;link removed&gt;</td>\n",
       "      <td>United States</td>\n",
       "    </tr>\n",
       "  </tbody>\n",
       "</table>\n",
       "</div>"
      ],
      "text/plain": [
       "   Unnamed: 0 created_at2                     id  \\\n",
       "0  1           2018-04-01  id-980480936205783047   \n",
       "\n",
       "                       created_at user.screen_name   user_location  \\\n",
       "0  Sun Apr 01 16:24:06 +0000 2018  stanscott53      Coldspring, TX   \n",
       "\n",
       "  coordinates  \\\n",
       "0  NaN          \n",
       "\n",
       "                                                                                                                              text  \\\n",
       "0  @SenTedCruz Hold Facebook accountable for abusing our data and censoring our voice. Vote no on the CRA. https://t.co/wWkYeCP4Dw   \n",
       "\n",
       "  full_text  retweet_created_at  retweet_full_text  \\\n",
       "0  NaN      NaN                 NaN                  \n",
       "\n",
       "                                                                                                                 texto_completo  \\\n",
       "0  <usernameremoved> Hold Facebook accountable for abusing our data and censoring our voice. Vote no on the CRA. <link removed>   \n",
       "\n",
       "  ubicacion_encontrada  \n",
       "0  United States        "
      ]
     },
     "execution_count": 32,
     "metadata": {},
     "output_type": "execute_result"
    }
   ],
   "source": [
    "df.head(1)"
   ]
  },
  {
   "cell_type": "code",
   "execution_count": 33,
   "metadata": {},
   "outputs": [],
   "source": [
    "df['text'] = df['texto_completo']"
   ]
  },
  {
   "cell_type": "markdown",
   "metadata": {},
   "source": [
    "# Remover links"
   ]
  },
  {
   "cell_type": "code",
   "execution_count": 34,
   "metadata": {},
   "outputs": [],
   "source": [
    "df['text'].replace({\"http\\\\S+\": '<linkremoved>'}, inplace=True, regex=True)"
   ]
  },
  {
   "cell_type": "code",
   "execution_count": 35,
   "metadata": {},
   "outputs": [],
   "source": [
    "df['text'].replace({\"<link removed>\": '<linkremoved>'}, inplace=True, regex=True)\n"
   ]
  },
  {
   "cell_type": "code",
   "execution_count": 36,
   "metadata": {},
   "outputs": [
    {
     "name": "stdout",
     "output_type": "stream",
     "text": [
      "<usernameremoved> Hold Facebook accountable for abusing our data and censoring our voice. Vote no on the CRA. <linkremoved>\n",
      "Both sides should just drop it. Trump won...elections over. Move on. <linkremoved>\n",
      "$AAPL lobbing threes while they can. Wasnt it just a few years back when their platform was actually hacked and people private photos were exposed? <linkremoved>\n",
      "15 min #RSI Signals:\n",
      "\n",
      "$BTC - $SLR: 6.84\n",
      "$BTC - $OMNI: 6.97\n",
      "$BTC - $RBY: 6.99\n",
      "$BTC - $SPHR: 21.13\n",
      "$BTC - $RDN: 21.17\n",
      "$BTC - $MCO: 21.48\n",
      "$BTC - $VIBE: 23.76\n",
      "$BTC - $ADX: 26.25\n",
      "$BTC - $PPT: 26.63\n",
      "\n",
      "#Bitcoin #tokensale #smartcontract #ETH #DAPP $LTC #signals #RADS #BigData #litecoin\n",
      "<usernameremoved> Hold Facebook accountable for abusing our data and censoring our voice. Vote no on the CRA.\n",
      "\n",
      "<linkremoved>\n"
     ]
    }
   ],
   "source": [
    "for texto in df['text'][0:5]:\n",
    "    print(texto)\n"
   ]
  },
  {
   "cell_type": "code",
   "execution_count": 37,
   "metadata": {},
   "outputs": [
    {
     "data": {
      "text/html": [
       "<div>\n",
       "<style scoped>\n",
       "    .dataframe tbody tr th:only-of-type {\n",
       "        vertical-align: middle;\n",
       "    }\n",
       "\n",
       "    .dataframe tbody tr th {\n",
       "        vertical-align: top;\n",
       "    }\n",
       "\n",
       "    .dataframe thead th {\n",
       "        text-align: right;\n",
       "    }\n",
       "</style>\n",
       "<table border=\"1\" class=\"dataframe\">\n",
       "  <thead>\n",
       "    <tr style=\"text-align: right;\">\n",
       "      <th></th>\n",
       "      <th>Unnamed: 0</th>\n",
       "      <th>created_at2</th>\n",
       "      <th>id</th>\n",
       "      <th>created_at</th>\n",
       "      <th>user.screen_name</th>\n",
       "      <th>user_location</th>\n",
       "      <th>coordinates</th>\n",
       "      <th>text</th>\n",
       "      <th>full_text</th>\n",
       "      <th>retweet_created_at</th>\n",
       "      <th>retweet_full_text</th>\n",
       "      <th>texto_completo</th>\n",
       "      <th>ubicacion_encontrada</th>\n",
       "    </tr>\n",
       "  </thead>\n",
       "  <tbody>\n",
       "    <tr>\n",
       "      <th>0</th>\n",
       "      <td>1</td>\n",
       "      <td>2018-04-01</td>\n",
       "      <td>id-980480936205783047</td>\n",
       "      <td>Sun Apr 01 16:24:06 +0000 2018</td>\n",
       "      <td>stanscott53</td>\n",
       "      <td>Coldspring, TX</td>\n",
       "      <td>NaN</td>\n",
       "      <td>&lt;usernameremoved&gt; Hold Facebook accountable for abusing our data and censoring our voice. Vote no on the CRA. &lt;linkremoved&gt;</td>\n",
       "      <td>NaN</td>\n",
       "      <td>NaN</td>\n",
       "      <td>NaN</td>\n",
       "      <td>&lt;usernameremoved&gt; Hold Facebook accountable for abusing our data and censoring our voice. Vote no on the CRA. &lt;link removed&gt;</td>\n",
       "      <td>United States</td>\n",
       "    </tr>\n",
       "    <tr>\n",
       "      <th>1</th>\n",
       "      <td>6</td>\n",
       "      <td>2018-04-01</td>\n",
       "      <td>id-980481012550524928</td>\n",
       "      <td>Sun Apr 01 16:24:24 +0000 2018</td>\n",
       "      <td>RShaffer1</td>\n",
       "      <td>Boston, MA</td>\n",
       "      <td>NaN</td>\n",
       "      <td>Both sides should just drop it. Trump won...elections over. Move on. &lt;linkremoved&gt;</td>\n",
       "      <td>NaN</td>\n",
       "      <td>NaN</td>\n",
       "      <td>NaN</td>\n",
       "      <td>Both sides should just drop it. Trump won...elections over. Move on. &lt;link removed&gt;</td>\n",
       "      <td>United States</td>\n",
       "    </tr>\n",
       "    <tr>\n",
       "      <th>2</th>\n",
       "      <td>9</td>\n",
       "      <td>2018-04-01</td>\n",
       "      <td>id-980480980191404032</td>\n",
       "      <td>Sun Apr 01 16:24:16 +0000 2018</td>\n",
       "      <td>pcampisi14</td>\n",
       "      <td>Toronto, Ontario</td>\n",
       "      <td>NaN</td>\n",
       "      <td>$AAPL lobbing threes while they can. Wasnt it just a few years back when their platform was actually hacked and people private photos were exposed? &lt;linkremoved&gt;</td>\n",
       "      <td>$AAPL lobbing threes while they can. Wasnt it just a few years back when their platform was actually hacked and people private photos were exposed? https://t.co/hy2odYiyLO</td>\n",
       "      <td>NaN</td>\n",
       "      <td>NaN</td>\n",
       "      <td>$AAPL lobbing threes while they can. Wasnt it just a few years back when their platform was actually hacked and people private photos were exposed? &lt;link removed&gt;</td>\n",
       "      <td>Canada</td>\n",
       "    </tr>\n",
       "    <tr>\n",
       "      <th>3</th>\n",
       "      <td>16</td>\n",
       "      <td>2018-04-01</td>\n",
       "      <td>id-980481205492682753</td>\n",
       "      <td>Sun Apr 01 16:25:10 +0000 2018</td>\n",
       "      <td>CoinSignalBot</td>\n",
       "      <td>Seattle, WA</td>\n",
       "      <td>NaN</td>\n",
       "      <td>15 min #RSI Signals:\\n\\n$BTC - $SLR: 6.84\\n$BTC - $OMNI: 6.97\\n$BTC - $RBY: 6.99\\n$BTC - $SPHR: 21.13\\n$BTC - $RDN: 21.17\\n$BTC - $MCO: 21.48\\n$BTC - $VIBE: 23.76\\n$BTC - $ADX: 26.25\\n$BTC - $PPT: 26.63\\n\\n#Bitcoin #tokensale #smartcontract #ETH #DAPP $LTC #signals #RADS #BigData #litecoin</td>\n",
       "      <td>15 min #RSI Signals:\\n\\n$BTC - $SLR: 6.84\\n$BTC - $OMNI: 6.97\\n$BTC - $RBY: 6.99\\n$BTC - $SPHR: 21.13\\n$BTC - $RDN: 21.17\\n$BTC - $MCO: 21.48\\n$BTC - $VIBE: 23.76\\n$BTC - $ADX: 26.25\\n$BTC - $PPT: 26.63\\n\\n#Bitcoin #tokensale #smartcontract #ETH #DAPP $LTC #signals #RADS #BigData #litecoin</td>\n",
       "      <td>NaN</td>\n",
       "      <td>NaN</td>\n",
       "      <td>15 min #RSI Signals:\\n\\n$BTC - $SLR: 6.84\\n$BTC - $OMNI: 6.97\\n$BTC - $RBY: 6.99\\n$BTC - $SPHR: 21.13\\n$BTC - $RDN: 21.17\\n$BTC - $MCO: 21.48\\n$BTC - $VIBE: 23.76\\n$BTC - $ADX: 26.25\\n$BTC - $PPT: 26.63\\n\\n#Bitcoin #tokensale #smartcontract #ETH #DAPP $LTC #signals #RADS #BigData #litecoin</td>\n",
       "      <td>United States</td>\n",
       "    </tr>\n",
       "    <tr>\n",
       "      <th>4</th>\n",
       "      <td>20</td>\n",
       "      <td>2018-04-01</td>\n",
       "      <td>id-980481164334063616</td>\n",
       "      <td>Sun Apr 01 16:25:00 +0000 2018</td>\n",
       "      <td>kimbee802009</td>\n",
       "      <td>South Dakota, USA</td>\n",
       "      <td>NaN</td>\n",
       "      <td>&lt;usernameremoved&gt; Hold Facebook accountable for abusing our data and censoring our voice. Vote no on the CRA.\\n\\n&lt;linkremoved&gt;</td>\n",
       "      <td>NaN</td>\n",
       "      <td>NaN</td>\n",
       "      <td>NaN</td>\n",
       "      <td>&lt;usernameremoved&gt; Hold Facebook accountable for abusing our data and censoring our voice. Vote no on the CRA.\\n\\n&lt;link removed&gt;</td>\n",
       "      <td>United States</td>\n",
       "    </tr>\n",
       "  </tbody>\n",
       "</table>\n",
       "</div>"
      ],
      "text/plain": [
       "   Unnamed: 0 created_at2                     id  \\\n",
       "0  1           2018-04-01  id-980480936205783047   \n",
       "1  6           2018-04-01  id-980481012550524928   \n",
       "2  9           2018-04-01  id-980480980191404032   \n",
       "3  16          2018-04-01  id-980481205492682753   \n",
       "4  20          2018-04-01  id-980481164334063616   \n",
       "\n",
       "                       created_at user.screen_name      user_location  \\\n",
       "0  Sun Apr 01 16:24:06 +0000 2018  stanscott53      Coldspring, TX      \n",
       "1  Sun Apr 01 16:24:24 +0000 2018  RShaffer1        Boston, MA          \n",
       "2  Sun Apr 01 16:24:16 +0000 2018  pcampisi14       Toronto, Ontario    \n",
       "3  Sun Apr 01 16:25:10 +0000 2018  CoinSignalBot    Seattle, WA         \n",
       "4  Sun Apr 01 16:25:00 +0000 2018  kimbee802009     South Dakota, USA   \n",
       "\n",
       "  coordinates  \\\n",
       "0  NaN          \n",
       "1  NaN          \n",
       "2  NaN          \n",
       "3  NaN          \n",
       "4  NaN          \n",
       "\n",
       "                                                                                                                                                                                                                                                                                                 text  \\\n",
       "0  <usernameremoved> Hold Facebook accountable for abusing our data and censoring our voice. Vote no on the CRA. <linkremoved>                                                                                                                                                                          \n",
       "1  Both sides should just drop it. Trump won...elections over. Move on. <linkremoved>                                                                                                                                                                                                                   \n",
       "2  $AAPL lobbing threes while they can. Wasnt it just a few years back when their platform was actually hacked and people private photos were exposed? <linkremoved>                                                                                                                                    \n",
       "3  15 min #RSI Signals:\\n\\n$BTC - $SLR: 6.84\\n$BTC - $OMNI: 6.97\\n$BTC - $RBY: 6.99\\n$BTC - $SPHR: 21.13\\n$BTC - $RDN: 21.17\\n$BTC - $MCO: 21.48\\n$BTC - $VIBE: 23.76\\n$BTC - $ADX: 26.25\\n$BTC - $PPT: 26.63\\n\\n#Bitcoin #tokensale #smartcontract #ETH #DAPP $LTC #signals #RADS #BigData #litecoin   \n",
       "4  <usernameremoved> Hold Facebook accountable for abusing our data and censoring our voice. Vote no on the CRA.\\n\\n<linkremoved>                                                                                                                                                                       \n",
       "\n",
       "                                                                                                                                                                                                                                                                                            full_text  \\\n",
       "0  NaN                                                                                                                                                                                                                                                                                                  \n",
       "1  NaN                                                                                                                                                                                                                                                                                                  \n",
       "2  $AAPL lobbing threes while they can. Wasnt it just a few years back when their platform was actually hacked and people private photos were exposed? https://t.co/hy2odYiyLO                                                                                                                          \n",
       "3  15 min #RSI Signals:\\n\\n$BTC - $SLR: 6.84\\n$BTC - $OMNI: 6.97\\n$BTC - $RBY: 6.99\\n$BTC - $SPHR: 21.13\\n$BTC - $RDN: 21.17\\n$BTC - $MCO: 21.48\\n$BTC - $VIBE: 23.76\\n$BTC - $ADX: 26.25\\n$BTC - $PPT: 26.63\\n\\n#Bitcoin #tokensale #smartcontract #ETH #DAPP $LTC #signals #RADS #BigData #litecoin   \n",
       "4  NaN                                                                                                                                                                                                                                                                                                  \n",
       "\n",
       "   retweet_created_at  retweet_full_text  \\\n",
       "0 NaN                 NaN                  \n",
       "1 NaN                 NaN                  \n",
       "2 NaN                 NaN                  \n",
       "3 NaN                 NaN                  \n",
       "4 NaN                 NaN                  \n",
       "\n",
       "                                                                                                                                                                                                                                                                                       texto_completo  \\\n",
       "0  <usernameremoved> Hold Facebook accountable for abusing our data and censoring our voice. Vote no on the CRA. <link removed>                                                                                                                                                                         \n",
       "1  Both sides should just drop it. Trump won...elections over. Move on. <link removed>                                                                                                                                                                                                                  \n",
       "2  $AAPL lobbing threes while they can. Wasnt it just a few years back when their platform was actually hacked and people private photos were exposed? <link removed>                                                                                                                                   \n",
       "3  15 min #RSI Signals:\\n\\n$BTC - $SLR: 6.84\\n$BTC - $OMNI: 6.97\\n$BTC - $RBY: 6.99\\n$BTC - $SPHR: 21.13\\n$BTC - $RDN: 21.17\\n$BTC - $MCO: 21.48\\n$BTC - $VIBE: 23.76\\n$BTC - $ADX: 26.25\\n$BTC - $PPT: 26.63\\n\\n#Bitcoin #tokensale #smartcontract #ETH #DAPP $LTC #signals #RADS #BigData #litecoin   \n",
       "4  <usernameremoved> Hold Facebook accountable for abusing our data and censoring our voice. Vote no on the CRA.\\n\\n<link removed>                                                                                                                                                                      \n",
       "\n",
       "  ubicacion_encontrada  \n",
       "0  United States        \n",
       "1  United States        \n",
       "2  Canada               \n",
       "3  United States        \n",
       "4  United States        "
      ]
     },
     "execution_count": 37,
     "metadata": {},
     "output_type": "execute_result"
    }
   ],
   "source": [
    "df.head()"
   ]
  },
  {
   "cell_type": "markdown",
   "metadata": {},
   "source": [
    "# remove usernames"
   ]
  },
  {
   "cell_type": "code",
   "execution_count": 38,
   "metadata": {},
   "outputs": [],
   "source": [
    "df['text'].replace({\"@[^\\\\s]+\": '<usernameremoved>'}, inplace=True, regex=True)"
   ]
  },
  {
   "cell_type": "markdown",
   "metadata": {},
   "source": [
    "# remove duplicates - Quizas esto debieramos no hacerlo. Deben haber bots que publican lo mismo"
   ]
  },
  {
   "cell_type": "code",
   "execution_count": 39,
   "metadata": {},
   "outputs": [],
   "source": [
    "df.drop_duplicates(['text'],keep='first', inplace=True)"
   ]
  },
  {
   "cell_type": "code",
   "execution_count": 40,
   "metadata": {},
   "outputs": [
    {
     "data": {
      "text/plain": [
       "342400"
      ]
     },
     "execution_count": 40,
     "metadata": {},
     "output_type": "execute_result"
    }
   ],
   "source": [
    "len(df)"
   ]
  },
  {
   "cell_type": "code",
   "execution_count": 41,
   "metadata": {},
   "outputs": [
    {
     "data": {
      "text/plain": [
       "143719"
      ]
     },
     "execution_count": 41,
     "metadata": {},
     "output_type": "execute_result"
    }
   ],
   "source": [
    "# numero de usuarios\n",
    "tweets_by_user_data = df.groupby('user.screen_name').agg('size').sort_values(ascending=False).reset_index()\n",
    "len(tweets_by_user_data)"
   ]
  },
  {
   "cell_type": "markdown",
   "metadata": {},
   "source": [
    "# remove digits, puntuaactions, symbols"
   ]
  },
  {
   "cell_type": "code",
   "execution_count": 42,
   "metadata": {},
   "outputs": [
    {
     "data": {
      "text/plain": [
       "'!\"#$%&\\'()*+,-./:;<=>?@[\\\\]^_`{|}~'"
      ]
     },
     "execution_count": 42,
     "metadata": {},
     "output_type": "execute_result"
    }
   ],
   "source": [
    "punctuation"
   ]
  },
  {
   "cell_type": "code",
   "execution_count": 43,
   "metadata": {},
   "outputs": [],
   "source": [
    "punctuation+='¡¿'"
   ]
  },
  {
   "cell_type": "code",
   "execution_count": 44,
   "metadata": {},
   "outputs": [
    {
     "data": {
      "text/plain": [
       "'!\"#$%&\\'()*+,-./:;<=>?@[\\\\]^_`{|}~¡¿'"
      ]
     },
     "execution_count": 44,
     "metadata": {},
     "output_type": "execute_result"
    }
   ],
   "source": [
    "punctuation"
   ]
  },
  {
   "cell_type": "code",
   "execution_count": 45,
   "metadata": {},
   "outputs": [],
   "source": [
    "#Remove digits and puntuaction\n",
    "remove_digits = str.maketrans(digits, ' '*len(digits))#remove_digits = str.maketrans('', '', digits)\n",
    "remove_punctuation = str.maketrans(punctuation, ' '*len(punctuation))#remove_punctuation = str.maketrans('', '', punctuation)\n",
    "remove_hashtags_caracter = str.maketrans('#', ' '*len('#'))\n",
    "#las palabras de los hashtag se mantiene, pero no el simbolo. "
   ]
  },
  {
   "cell_type": "code",
   "execution_count": 46,
   "metadata": {},
   "outputs": [],
   "source": [
    "import unidecode\n",
    "\n",
    "data = []\n",
    "for tweet in df['text']:\n",
    "    tweet = tweet.translate(remove_digits)\n",
    "    #tweet = tweet.lower() it wasn't a good idea,, we lost a lot of\n",
    "    tweet = tweet.translate(remove_punctuation)\n",
    "    tweet = tweet.translate(remove_hashtags_caracter)\n",
    "    tweet = tweet.lower()\n",
    "    tweet = unidecode.unidecode(tweet)\n",
    "    #tweet = tweet.strip().split()\n",
    "    #filtered_words = [word for word in tweet if word not in stopWords]\n",
    "    #corpus[id_tweet]= filtered_words\n",
    "    #id_tweet+=1\n",
    "    data.append(tweet)\n"
   ]
  },
  {
   "cell_type": "code",
   "execution_count": 47,
   "metadata": {},
   "outputs": [
    {
     "data": {
      "text/plain": [
       "[' usernameremoved  hold facebook accountable for abusing our data and censoring our voice  vote no on the cra   linkremoved ',\n",
       " 'both sides should just drop it  trump won   elections over  move on   linkremoved ',\n",
       " ' aapl lobbing threes while they can  wasnt it just a few years back when their platform was actually hacked and people private photos were exposed   linkremoved ',\n",
       " '   min  rsi signals \\n\\n btc    slr      \\n btc    omni      \\n btc    rby      \\n btc    sphr       \\n btc    rdn       \\n btc    mco       \\n btc    vibe       \\n btc    adx       \\n btc    ppt       \\n\\n bitcoin  tokensale  smartcontract  eth  dapp  ltc  signals  rads  bigdata  litecoin',\n",
       " ' usernameremoved  hold facebook accountable for abusing our data and censoring our voice  vote no on the cra \\n\\n linkremoved ']"
      ]
     },
     "execution_count": 47,
     "metadata": {},
     "output_type": "execute_result"
    }
   ],
   "source": [
    "data[0:5]"
   ]
  },
  {
   "cell_type": "code",
   "execution_count": 48,
   "metadata": {},
   "outputs": [
    {
     "data": {
      "text/plain": [
       "342400"
      ]
     },
     "execution_count": 48,
     "metadata": {},
     "output_type": "execute_result"
    }
   ],
   "source": [
    "len(data)"
   ]
  },
  {
   "cell_type": "markdown",
   "metadata": {},
   "source": [
    "# Twitter tokenizer"
   ]
  },
  {
   "cell_type": "code",
   "execution_count": 49,
   "metadata": {},
   "outputs": [],
   "source": [
    "from nltk.tokenize import TweetTokenizer"
   ]
  },
  {
   "cell_type": "code",
   "execution_count": 50,
   "metadata": {},
   "outputs": [],
   "source": [
    "tknzr = TweetTokenizer()\n",
    "def sent_to_words(sentences):\n",
    "    for sentence in sentences:\n",
    "        yield(tknzr.tokenize(sentence))\n"
   ]
  },
  {
   "cell_type": "code",
   "execution_count": 51,
   "metadata": {},
   "outputs": [],
   "source": [
    "data_words = list(sent_to_words(data))\n"
   ]
  },
  {
   "cell_type": "markdown",
   "metadata": {},
   "source": [
    "# Create bigram and trigram models"
   ]
  },
  {
   "cell_type": "code",
   "execution_count": 52,
   "metadata": {},
   "outputs": [
    {
     "name": "stdout",
     "output_type": "stream",
     "text": [
      "['both', 'sides', 'should', 'just', 'drop', 'it', 'trump', 'won', 'elections', 'over', 'move', 'on', 'linkremoved']\n"
     ]
    }
   ],
   "source": [
    "# Build the bigram and trigram models\n",
    "#quizas el min count es muy bajo\n",
    "#documentaicon de bigramas \n",
    "#https://www.machinelearningplus.com/nlp/topic-modeling-gensim-python/#3importpackages\n",
    "min_count = int(len(df)*0.02)\n",
    "bigram = gensim.models.Phrases(data_words, min_count=min_count, threshold=1) # higher threshold fewer phrases.\n",
    "trigram = gensim.models.Phrases(bigram[data_words], min_count =min_count, threshold=1)  \n",
    "\n",
    "# Faster way to get a sentence clubbed as a trigram/bigram\n",
    "bigram_mod = gensim.models.phrases.Phraser(bigram)\n",
    "trigram_mod = gensim.models.phrases.Phraser(trigram)\n",
    "\n",
    "# See trigram example\n",
    "print(trigram_mod[bigram_mod[data_words[1]]])"
   ]
  },
  {
   "cell_type": "code",
   "execution_count": 53,
   "metadata": {},
   "outputs": [
    {
     "name": "stdout",
     "output_type": "stream",
     "text": [
      "['usernameremoved', 'hold', 'facebook', 'accountable', 'for', 'abusing', 'our', 'data', 'and', 'censoring', 'our', 'voice', 'vote', 'no', 'on', 'the', 'cra', 'linkremoved']\n",
      "['both', 'sides', 'should', 'just', 'drop', 'it', 'trump', 'won', 'elections', 'over', 'move', 'on', 'linkremoved']\n",
      "['aapl', 'lobbing', 'threes', 'while', 'they', 'can', 'wasnt', 'it', 'just', 'a', 'few', 'years', 'back', 'when', 'their', 'platform', 'was', 'actually', 'hacked', 'and', 'people', 'private', 'photos', 'were', 'exposed', 'linkremoved']\n",
      "['min', 'rsi', 'signals', 'btc', 'slr', 'btc', 'omni', 'btc', 'rby', 'btc', 'sphr', 'btc', 'rdn', 'btc', 'mco', 'btc', 'vibe', 'btc', 'adx', 'btc', 'ppt', 'bitcoin', 'tokensale', 'smartcontract', 'eth', 'dapp', 'ltc', 'signals', 'rads', 'bigdata', 'litecoin']\n",
      "['usernameremoved', 'hold', 'facebook', 'accountable', 'for', 'abusing', 'our', 'data', 'and', 'censoring', 'our', 'voice', 'vote', 'no', 'on', 'the', 'cra', 'linkremoved']\n"
     ]
    }
   ],
   "source": [
    "# See trigram example\n",
    "#print(trigram_mod[bigram_mod[data_words[1]]])\n",
    "for i in range(0,5):\n",
    "    print(trigram_mod[bigram_mod[data_words[i]]])"
   ]
  },
  {
   "cell_type": "markdown",
   "metadata": {},
   "source": [
    "# Remove stopwords, make bigrams and lemmatize"
   ]
  },
  {
   "cell_type": "code",
   "execution_count": 54,
   "metadata": {},
   "outputs": [],
   "source": [
    "def remove_stopwords(texts):\n",
    "    return [[word for word in simple_preprocess(str(doc)) if word not in stop_words] for doc in texts]\n"
   ]
  },
  {
   "cell_type": "code",
   "execution_count": 55,
   "metadata": {},
   "outputs": [],
   "source": [
    "def make_bigrams(texts):\n",
    "    return [bigram_mod[doc] for doc in texts]\n",
    "\n",
    "def make_trigrams(texts):\n",
    "    return [trigram_mod[bigram_mod[doc]] for doc in texts]\n",
    "\n",
    "def lemmatization(texts, allowed_postags=['NOUN', 'ADJ', 'VERB', 'ADV']):\n",
    "    \"\"\"https://spacy.io/api/annotation\"\"\"\n",
    "    texts_out = []\n",
    "    for sent in texts:\n",
    "        doc = nlp(\" \".join(sent)) \n",
    "        texts_out.append([token.lemma_ for token in doc if token.pos_ in allowed_postags])\n",
    "    return texts_out"
   ]
  },
  {
   "cell_type": "code",
   "execution_count": 56,
   "metadata": {},
   "outputs": [],
   "source": [
    "# Remove Stop Words\n",
    "data_words_nostops = remove_stopwords(data_words)\n"
   ]
  },
  {
   "cell_type": "code",
   "execution_count": 57,
   "metadata": {},
   "outputs": [
    {
     "data": {
      "text/plain": [
       "['hold',\n",
       " 'facebook',\n",
       " 'accountable',\n",
       " 'abusing',\n",
       " 'data',\n",
       " 'censoring',\n",
       " 'voice',\n",
       " 'vote',\n",
       " 'cra']"
      ]
     },
     "execution_count": 57,
     "metadata": {},
     "output_type": "execute_result"
    }
   ],
   "source": [
    "data_words_nostops[0]"
   ]
  },
  {
   "cell_type": "code",
   "execution_count": 58,
   "metadata": {},
   "outputs": [
    {
     "name": "stdout",
     "output_type": "stream",
     "text": [
      "Pretty printing has been turned OFF\n"
     ]
    },
    {
     "data": {
      "text/plain": [
       "[['hold', 'facebook', 'accountable', 'abusing', 'data', 'censoring', 'voice', 'vote', 'cra'], ['sides', 'drop', 'trump', 'elections', 'move'], ['aapl', 'lobbing', 'threes', 'wasnt', 'years', 'back', 'platform', 'actually', 'hacked', 'people', 'private', 'photos', 'exposed'], ['min', 'rsi', 'signals', 'btc', 'slr', 'btc', 'omni', 'btc', 'rby', 'btc', 'sphr', 'btc', 'rdn', 'btc', 'mco', 'btc', 'vibe', 'btc', 'adx', 'btc', 'ppt', 'bitcoin', 'tokensale', 'smartcontract', 'eth', 'dapp', 'ltc', 'signals', 'rads', 'bigdata', 'litecoin'], ['hold', 'facebook', 'accountable', 'abusing', 'data', 'censoring', 'voice', 'vote', 'cra'], ['factsss', 'lmfao'], ['hooray', 'users', 'lock', 'barn', 'door', 'horse', 'gone'], ['mary', 'gray', 'worried', 'ethics', 'lol'], ['jumped', 'ship', 'google', 'pixel', 'even', 'though', 'trust', 'google', 'data', 'much', 'facebook', 'got', 'tired', 'ios', 'bs'], ['samsung', 'smart', 'refrigerator', 'sold', 'dietary', 'habits', 'cambridge', 'analytica', 'russians', 'know', 'eat', 'frozen', 'burritos', 'walmart']]"
      ]
     },
     "execution_count": 58,
     "metadata": {},
     "output_type": "execute_result"
    }
   ],
   "source": [
    "%pprint\n",
    "data_words_nostops[0:10]"
   ]
  },
  {
   "cell_type": "code",
   "execution_count": 59,
   "metadata": {},
   "outputs": [],
   "source": [
    "# Form Bigrams\n",
    "data_words_bigrams = make_bigrams(data_words_nostops)\n",
    "\n"
   ]
  },
  {
   "cell_type": "code",
   "execution_count": 60,
   "metadata": {},
   "outputs": [
    {
     "name": "stderr",
     "output_type": "stream",
     "text": [
      "C:\\Users\\gonza\\tesisenv\\Scripts\\python.exe: No module named spacy\n"
     ]
    }
   ],
   "source": [
    "# Initialize spacy 'en' model, keeping only tagger component (for efficiency)\n",
    "!python -m spacy download en"
   ]
  },
  {
   "cell_type": "code",
   "execution_count": 61,
   "metadata": {},
   "outputs": [],
   "source": [
    "\n",
    "nlp = spacy.load('en', disable=['parser', 'ner'])"
   ]
  },
  {
   "cell_type": "code",
   "execution_count": 62,
   "metadata": {},
   "outputs": [
    {
     "name": "stdout",
     "output_type": "stream",
     "text": [
      "[['hold', 'accountable', 'abusing', 'datum', 'censor', 'voice', 'vote']]\n"
     ]
    }
   ],
   "source": [
    "\n",
    "#sera mejor ocupar wordnetlemattizer?\n",
    "# Do lemmatization keeping only noun, adj, vb, adv\n",
    "data_lemmatized = lemmatization(data_words_bigrams, allowed_postags=['NOUN', 'ADJ', 'VERB', 'ADV'])\n",
    "\n",
    "print(data_lemmatized[:1])"
   ]
  },
  {
   "cell_type": "code",
   "execution_count": 63,
   "metadata": {},
   "outputs": [
    {
     "data": {
      "text/plain": [
       "['hold', 'accountable', 'abusing', 'datum', 'censor', 'voice', 'vote']"
      ]
     },
     "execution_count": 63,
     "metadata": {},
     "output_type": "execute_result"
    }
   ],
   "source": [
    "data_lemmatized[0]"
   ]
  },
  {
   "cell_type": "code",
   "execution_count": 64,
   "metadata": {},
   "outputs": [
    {
     "data": {
      "text/plain": [
       "['side', 'drop', 'trump', 'election', 'move']"
      ]
     },
     "execution_count": 64,
     "metadata": {},
     "output_type": "execute_result"
    }
   ],
   "source": [
    "data_lemmatized[1]"
   ]
  },
  {
   "cell_type": "code",
   "execution_count": 65,
   "metadata": {},
   "outputs": [
    {
     "data": {
      "text/plain": [
       "['sell', 'dietary', 'habit', 'know', 'eat', 'frozen']"
      ]
     },
     "execution_count": 65,
     "metadata": {},
     "output_type": "execute_result"
    }
   ],
   "source": [
    "data_lemmatized[9]"
   ]
  },
  {
   "cell_type": "markdown",
   "metadata": {},
   "source": [
    "# Create dictionary and corpus for topic modeling"
   ]
  },
  {
   "cell_type": "code",
   "execution_count": 66,
   "metadata": {},
   "outputs": [
    {
     "name": "stdout",
     "output_type": "stream",
     "text": [
      "[[(0, 1), (1, 1), (2, 1), (3, 1), (4, 1), (5, 1), (6, 1)]]\n"
     ]
    }
   ],
   "source": [
    "#The two main inputs to the LDA topic model are the dictionary(id2word) and the corpus\n",
    "# Create Dictionary\n",
    "id2word = corpora.Dictionary(data_lemmatized)\n",
    "\n",
    "# Create Corpus\n",
    "texts = data_lemmatized\n",
    "\n",
    "# Term Document Frequency\n",
    "corpus = [id2word.doc2bow(text) for text in texts]\n",
    "\n",
    "# View\n",
    "print(corpus[:1])"
   ]
  },
  {
   "cell_type": "code",
   "execution_count": 67,
   "metadata": {},
   "outputs": [
    {
     "data": {
      "text/plain": [
       "'abusing'"
      ]
     },
     "execution_count": 67,
     "metadata": {},
     "output_type": "execute_result"
    }
   ],
   "source": [
    "id2word[0]"
   ]
  },
  {
   "cell_type": "code",
   "execution_count": 68,
   "metadata": {},
   "outputs": [
    {
     "data": {
      "text/plain": [
       "[[('abusing', 1), ('accountable', 1), ('censor', 1), ('datum', 1), ('hold', 1), ('voice', 1), ('vote', 1)]]"
      ]
     },
     "execution_count": 68,
     "metadata": {},
     "output_type": "execute_result"
    }
   ],
   "source": [
    "[[(id2word[id], freq) for id, freq in cp] for cp in corpus[:1]]\n"
   ]
  },
  {
   "cell_type": "code",
   "execution_count": 69,
   "metadata": {},
   "outputs": [],
   "source": [
    "from gensim.test.utils import common_corpus, common_dictionary"
   ]
  },
  {
   "cell_type": "code",
   "execution_count": 70,
   "metadata": {},
   "outputs": [],
   "source": [
    "from gensim.models.wrappers import LdaMallet"
   ]
  },
  {
   "cell_type": "code",
   "execution_count": 71,
   "metadata": {},
   "outputs": [],
   "source": [
    "path_to_mallet_binary = \"C:\\\\mallet\\\\bin\\\\mallet\""
   ]
  },
  {
   "cell_type": "code",
   "execution_count": 72,
   "metadata": {},
   "outputs": [],
   "source": [
    "import os\n",
    "os.environ.update({'MALLET_HOME':r'C:\\mallet'}) #OJO!, por alguna razon mallet solo puede estar disponible en esa carpeta\n"
   ]
  },
  {
   "cell_type": "markdown",
   "metadata": {},
   "source": [
    "# Calcular mejor numero de topicos"
   ]
  },
  {
   "cell_type": "code",
   "execution_count": 73,
   "metadata": {},
   "outputs": [],
   "source": [
    "lista_num_topics = [1,2,3,4,5,6,7,8,9,10,11,12,13,14,15]\n",
    "def compute_coherence_values(dictionary, corpus, texts, limit, start=2, step=3):\n",
    "    \"\"\"\n",
    "    Compute c_v coherence for various number of topics\n",
    "\n",
    "    Parameters:\n",
    "    ----------\n",
    "    dictionary : Gensim dictionary\n",
    "    corpus : Gensim corpus\n",
    "    texts : List of input texts\n",
    "    limit : Max num of topics\n",
    "\n",
    "    Returns:\n",
    "    -------\n",
    "    model_list : List of LDA topic models\n",
    "    coherence_values : Coherence values corresponding to the LDA model with respective number of topics\n",
    "    \"\"\"\n",
    "    coherence_values = []\n",
    "    model_list = []\n",
    "    \n",
    "    #modificar aqui la lista de valores en las que se desea probar\n",
    "    \n",
    "    #for num_topics in range(start, limit, step):\n",
    "    for num_topics in lista_num_topics:\n",
    "        model = gensim.models.wrappers.LdaMallet(path_to_mallet_binary, corpus=corpus, num_topics=num_topics, id2word=id2word)\n",
    "        model_list.append(model)\n",
    "        coherencemodel = CoherenceModel(model=model, texts=texts, dictionary=dictionary, coherence='c_v')\n",
    "        coherence_values.append(coherencemodel.get_coherence())\n",
    "\n",
    "    return model_list, coherence_values"
   ]
  },
  {
   "cell_type": "code",
   "execution_count": 74,
   "metadata": {},
   "outputs": [
    {
     "name": "stdout",
     "output_type": "stream",
     "text": [
      "00:43:37.50\n"
     ]
    }
   ],
   "source": [
    "start = time.time()\n",
    "model_list, coherence_values = compute_coherence_values(dictionary=id2word, corpus=corpus, texts=data_lemmatized, start=1, limit=41, step=10)\n",
    "#ojo, el numero de start, limit y step no tiene sentido en la linea anterior, se modifican directamente en el algoritmo\n",
    "end = time.time()\n",
    "hours, rem = divmod(end-start, 3600)\n",
    "minutes, seconds = divmod(rem, 60)\n",
    "print(\"{:0>2}:{:0>2}:{:05.2f}\".format(int(hours),int(minutes),seconds))\n"
   ]
  },
  {
   "cell_type": "code",
   "execution_count": 75,
   "metadata": {},
   "outputs": [
    {
     "data": {
      "image/png": "[encoded data removed]",
      "text/plain": [
       "<Figure size 432x288 with 1 Axes>"
      ]
     },
     "metadata": {
      "needs_background": "light"
     },
     "output_type": "display_data"
    }
   ],
   "source": [
    "# Show graph\n",
    "\n",
    "#x = range(start, limit, step)\n",
    "\n",
    "x = lista_num_topics\n",
    "plt.title(\"Coherence Score on Tweets\")\n",
    "plt.plot(x, coherence_values)\n",
    "plt.xlabel(\"Num Topics\")\n",
    "plt.ylabel(\"Coherence score\")\n",
    "plt.xticks(x, x)\n",
    "\n",
    "plt.legend((\"coherence_values\"), loc='best')\n",
    "plt.show()"
   ]
  },
  {
   "cell_type": "code",
   "execution_count": 76,
   "metadata": {},
   "outputs": [
    {
     "name": "stdout",
     "output_type": "stream",
     "text": [
      "Num Topics = 1  has Coherence Value of 0.2131\n",
      "Num Topics = 2  has Coherence Value of 0.203\n",
      "Num Topics = 3  has Coherence Value of 0.2554\n",
      "Num Topics = 4  has Coherence Value of 0.3463\n",
      "Num Topics = 5  has Coherence Value of 0.3934\n",
      "Num Topics = 6  has Coherence Value of 0.4153\n",
      "Num Topics = 7  has Coherence Value of 0.4154\n",
      "Num Topics = 8  has Coherence Value of 0.4508\n",
      "Num Topics = 9  has Coherence Value of 0.4597\n",
      "Num Topics = 10  has Coherence Value of 0.4584\n",
      "Num Topics = 11  has Coherence Value of 0.4719\n",
      "Num Topics = 12  has Coherence Value of 0.4737\n",
      "Num Topics = 13  has Coherence Value of 0.4652\n",
      "Num Topics = 14  has Coherence Value of 0.4626\n",
      "Num Topics = 15  has Coherence Value of 0.4696\n"
     ]
    }
   ],
   "source": [
    "# Print the coherence scores\n",
    "for m, cv in zip(x, coherence_values):\n",
    "    print(\"Num Topics =\", m, \" has Coherence Value of\", round(cv, 4))"
   ]
  },
  {
   "cell_type": "markdown",
   "metadata": {},
   "source": [
    " # the lda model was previously calculated?"
   ]
  },
  {
   "cell_type": "code",
   "execution_count": 77,
   "metadata": {},
   "outputs": [
    {
     "data": {
      "text/plain": [
       "15"
      ]
     },
     "execution_count": 77,
     "metadata": {},
     "output_type": "execute_result"
    }
   ],
   "source": [
    "len(model_list)"
   ]
  },
  {
   "cell_type": "code",
   "execution_count": 78,
   "metadata": {},
   "outputs": [],
   "source": [
    "ldamallet = model_list[10]"
   ]
  },
  {
   "cell_type": "code",
   "execution_count": 79,
   "metadata": {},
   "outputs": [
    {
     "data": {
      "text/plain": [
       "<class 'gensim.models.wrappers.ldamallet.LdaMallet'>"
      ]
     },
     "execution_count": 79,
     "metadata": {},
     "output_type": "execute_result"
    }
   ],
   "source": [
    "type(ldamallet)"
   ]
  },
  {
   "cell_type": "code",
   "execution_count": 80,
   "metadata": {},
   "outputs": [
    {
     "data": {
      "text/plain": [
       "11"
      ]
     },
     "execution_count": 80,
     "metadata": {},
     "output_type": "execute_result"
    }
   ],
   "source": [
    "ldamallet.num_topics"
   ]
  },
  {
   "cell_type": "markdown",
   "metadata": {},
   "source": [
    "### Save elements from topic model"
   ]
  },
  {
   "cell_type": "code",
   "execution_count": 81,
   "metadata": {},
   "outputs": [],
   "source": [
    "from gensim.models.wrappers import LdaMallet\n",
    "from gensim.models.wrappers.ldamallet import malletmodel2ldamodel"
   ]
  },
  {
   "cell_type": "code",
   "execution_count": 82,
   "metadata": {},
   "outputs": [],
   "source": [
    "ldamodel = malletmodel2ldamodel(ldamallet) #esto es temporal, "
   ]
  },
  {
   "cell_type": "code",
   "execution_count": 83,
   "metadata": {},
   "outputs": [
    {
     "data": {
      "text/plain": [
       "<class 'gensim.models.ldamodel.LdaModel'>"
      ]
     },
     "execution_count": 83,
     "metadata": {},
     "output_type": "execute_result"
    }
   ],
   "source": [
    "type(ldamodel)"
   ]
  },
  {
   "cell_type": "code",
   "execution_count": 84,
   "metadata": {},
   "outputs": [],
   "source": [
    "ldamallet.save(file_name+'_mallet.model')\n",
    "ldamodel.save(file_name+'_gensim.model')"
   ]
  },
  {
   "cell_type": "code",
   "execution_count": null,
   "metadata": {},
   "outputs": [],
   "source": []
  },
  {
   "cell_type": "code",
   "execution_count": 85,
   "metadata": {},
   "outputs": [],
   "source": [
    "#corpus\n",
    "import pickle\n",
    "with open(file_name+'_corpus.pkl', 'wb') as f:\n",
    "    pickle.dump(corpus, f)"
   ]
  },
  {
   "cell_type": "code",
   "execution_count": 86,
   "metadata": {},
   "outputs": [],
   "source": [
    "#id2word\n",
    "id2word.save(file_name+\"_id2word\")"
   ]
  },
  {
   "cell_type": "markdown",
   "metadata": {},
   "source": [
    "# Mapear text con clean text"
   ]
  },
  {
   "cell_type": "code",
   "execution_count": 87,
   "metadata": {},
   "outputs": [
    {
     "data": {
      "text/html": [
       "<div>\n",
       "<style scoped>\n",
       "    .dataframe tbody tr th:only-of-type {\n",
       "        vertical-align: middle;\n",
       "    }\n",
       "\n",
       "    .dataframe tbody tr th {\n",
       "        vertical-align: top;\n",
       "    }\n",
       "\n",
       "    .dataframe thead th {\n",
       "        text-align: right;\n",
       "    }\n",
       "</style>\n",
       "<table border=\"1\" class=\"dataframe\">\n",
       "  <thead>\n",
       "    <tr style=\"text-align: right;\">\n",
       "      <th></th>\n",
       "      <th>Unnamed: 0</th>\n",
       "      <th>created_at2</th>\n",
       "      <th>id</th>\n",
       "      <th>created_at</th>\n",
       "      <th>user.screen_name</th>\n",
       "      <th>user_location</th>\n",
       "      <th>coordinates</th>\n",
       "      <th>text</th>\n",
       "      <th>full_text</th>\n",
       "      <th>retweet_created_at</th>\n",
       "      <th>retweet_full_text</th>\n",
       "      <th>texto_completo</th>\n",
       "      <th>ubicacion_encontrada</th>\n",
       "    </tr>\n",
       "  </thead>\n",
       "  <tbody>\n",
       "    <tr>\n",
       "      <th>0</th>\n",
       "      <td>1</td>\n",
       "      <td>2018-04-01</td>\n",
       "      <td>id-980480936205783047</td>\n",
       "      <td>Sun Apr 01 16:24:06 +0000 2018</td>\n",
       "      <td>stanscott53</td>\n",
       "      <td>Coldspring, TX</td>\n",
       "      <td>NaN</td>\n",
       "      <td>&lt;usernameremoved&gt; Hold Facebook accountable for abusing our data and censoring our voice. Vote no on the CRA. &lt;linkremoved&gt;</td>\n",
       "      <td>NaN</td>\n",
       "      <td>NaN</td>\n",
       "      <td>NaN</td>\n",
       "      <td>&lt;usernameremoved&gt; Hold Facebook accountable for abusing our data and censoring our voice. Vote no on the CRA. &lt;link removed&gt;</td>\n",
       "      <td>United States</td>\n",
       "    </tr>\n",
       "  </tbody>\n",
       "</table>\n",
       "</div>"
      ],
      "text/plain": [
       "   Unnamed: 0 created_at2                     id  \\\n",
       "0  1           2018-04-01  id-980480936205783047   \n",
       "\n",
       "                       created_at user.screen_name   user_location  \\\n",
       "0  Sun Apr 01 16:24:06 +0000 2018  stanscott53      Coldspring, TX   \n",
       "\n",
       "  coordinates  \\\n",
       "0  NaN          \n",
       "\n",
       "                                                                                                                          text  \\\n",
       "0  <usernameremoved> Hold Facebook accountable for abusing our data and censoring our voice. Vote no on the CRA. <linkremoved>   \n",
       "\n",
       "  full_text  retweet_created_at  retweet_full_text  \\\n",
       "0  NaN      NaN                 NaN                  \n",
       "\n",
       "                                                                                                                 texto_completo  \\\n",
       "0  <usernameremoved> Hold Facebook accountable for abusing our data and censoring our voice. Vote no on the CRA. <link removed>   \n",
       "\n",
       "  ubicacion_encontrada  \n",
       "0  United States        "
      ]
     },
     "execution_count": 87,
     "metadata": {},
     "output_type": "execute_result"
    }
   ],
   "source": [
    "df.head(1)"
   ]
  },
  {
   "cell_type": "code",
   "execution_count": 88,
   "metadata": {
    "scrolled": true
   },
   "outputs": [
    {
     "data": {
      "text/plain": [
       "' usernameremoved  hold facebook accountable for abusing our data and censoring our voice  vote no on the cra   linkremoved '"
      ]
     },
     "execution_count": 88,
     "metadata": {},
     "output_type": "execute_result"
    }
   ],
   "source": [
    "data[0]"
   ]
  },
  {
   "cell_type": "code",
   "execution_count": 89,
   "metadata": {},
   "outputs": [],
   "source": [
    "df[\"clean_text\"] = data\n"
   ]
  },
  {
   "cell_type": "code",
   "execution_count": 90,
   "metadata": {},
   "outputs": [
    {
     "data": {
      "text/html": [
       "<div>\n",
       "<style scoped>\n",
       "    .dataframe tbody tr th:only-of-type {\n",
       "        vertical-align: middle;\n",
       "    }\n",
       "\n",
       "    .dataframe tbody tr th {\n",
       "        vertical-align: top;\n",
       "    }\n",
       "\n",
       "    .dataframe thead th {\n",
       "        text-align: right;\n",
       "    }\n",
       "</style>\n",
       "<table border=\"1\" class=\"dataframe\">\n",
       "  <thead>\n",
       "    <tr style=\"text-align: right;\">\n",
       "      <th></th>\n",
       "      <th>Unnamed: 0</th>\n",
       "      <th>created_at2</th>\n",
       "      <th>id</th>\n",
       "      <th>created_at</th>\n",
       "      <th>user.screen_name</th>\n",
       "      <th>user_location</th>\n",
       "      <th>coordinates</th>\n",
       "      <th>text</th>\n",
       "      <th>full_text</th>\n",
       "      <th>retweet_created_at</th>\n",
       "      <th>retweet_full_text</th>\n",
       "      <th>texto_completo</th>\n",
       "      <th>ubicacion_encontrada</th>\n",
       "      <th>clean_text</th>\n",
       "    </tr>\n",
       "  </thead>\n",
       "  <tbody>\n",
       "    <tr>\n",
       "      <th>0</th>\n",
       "      <td>1</td>\n",
       "      <td>2018-04-01</td>\n",
       "      <td>id-980480936205783047</td>\n",
       "      <td>Sun Apr 01 16:24:06 +0000 2018</td>\n",
       "      <td>stanscott53</td>\n",
       "      <td>Coldspring, TX</td>\n",
       "      <td>NaN</td>\n",
       "      <td>&lt;usernameremoved&gt; Hold Facebook accountable for abusing our data and censoring our voice. Vote no on the CRA. &lt;linkremoved&gt;</td>\n",
       "      <td>NaN</td>\n",
       "      <td>NaN</td>\n",
       "      <td>NaN</td>\n",
       "      <td>&lt;usernameremoved&gt; Hold Facebook accountable for abusing our data and censoring our voice. Vote no on the CRA. &lt;link removed&gt;</td>\n",
       "      <td>United States</td>\n",
       "      <td>usernameremoved  hold facebook accountable for abusing our data and censoring our voice  vote no on the cra   linkremoved</td>\n",
       "    </tr>\n",
       "    <tr>\n",
       "      <th>1</th>\n",
       "      <td>6</td>\n",
       "      <td>2018-04-01</td>\n",
       "      <td>id-980481012550524928</td>\n",
       "      <td>Sun Apr 01 16:24:24 +0000 2018</td>\n",
       "      <td>RShaffer1</td>\n",
       "      <td>Boston, MA</td>\n",
       "      <td>NaN</td>\n",
       "      <td>Both sides should just drop it. Trump won...elections over. Move on. &lt;linkremoved&gt;</td>\n",
       "      <td>NaN</td>\n",
       "      <td>NaN</td>\n",
       "      <td>NaN</td>\n",
       "      <td>Both sides should just drop it. Trump won...elections over. Move on. &lt;link removed&gt;</td>\n",
       "      <td>United States</td>\n",
       "      <td>both sides should just drop it  trump won   elections over  move on   linkremoved</td>\n",
       "    </tr>\n",
       "    <tr>\n",
       "      <th>2</th>\n",
       "      <td>9</td>\n",
       "      <td>2018-04-01</td>\n",
       "      <td>id-980480980191404032</td>\n",
       "      <td>Sun Apr 01 16:24:16 +0000 2018</td>\n",
       "      <td>pcampisi14</td>\n",
       "      <td>Toronto, Ontario</td>\n",
       "      <td>NaN</td>\n",
       "      <td>$AAPL lobbing threes while they can. Wasnt it just a few years back when their platform was actually hacked and people private photos were exposed? &lt;linkremoved&gt;</td>\n",
       "      <td>$AAPL lobbing threes while they can. Wasnt it just a few years back when their platform was actually hacked and people private photos were exposed? https://t.co/hy2odYiyLO</td>\n",
       "      <td>NaN</td>\n",
       "      <td>NaN</td>\n",
       "      <td>$AAPL lobbing threes while they can. Wasnt it just a few years back when their platform was actually hacked and people private photos were exposed? &lt;link removed&gt;</td>\n",
       "      <td>Canada</td>\n",
       "      <td>aapl lobbing threes while they can  wasnt it just a few years back when their platform was actually hacked and people private photos were exposed   linkremoved</td>\n",
       "    </tr>\n",
       "    <tr>\n",
       "      <th>3</th>\n",
       "      <td>16</td>\n",
       "      <td>2018-04-01</td>\n",
       "      <td>id-980481205492682753</td>\n",
       "      <td>Sun Apr 01 16:25:10 +0000 2018</td>\n",
       "      <td>CoinSignalBot</td>\n",
       "      <td>Seattle, WA</td>\n",
       "      <td>NaN</td>\n",
       "      <td>15 min #RSI Signals:\\n\\n$BTC - $SLR: 6.84\\n$BTC - $OMNI: 6.97\\n$BTC - $RBY: 6.99\\n$BTC - $SPHR: 21.13\\n$BTC - $RDN: 21.17\\n$BTC - $MCO: 21.48\\n$BTC - $VIBE: 23.76\\n$BTC - $ADX: 26.25\\n$BTC - $PPT: 26.63\\n\\n#Bitcoin #tokensale #smartcontract #ETH #DAPP $LTC #signals #RADS #BigData #litecoin</td>\n",
       "      <td>15 min #RSI Signals:\\n\\n$BTC - $SLR: 6.84\\n$BTC - $OMNI: 6.97\\n$BTC - $RBY: 6.99\\n$BTC - $SPHR: 21.13\\n$BTC - $RDN: 21.17\\n$BTC - $MCO: 21.48\\n$BTC - $VIBE: 23.76\\n$BTC - $ADX: 26.25\\n$BTC - $PPT: 26.63\\n\\n#Bitcoin #tokensale #smartcontract #ETH #DAPP $LTC #signals #RADS #BigData #litecoin</td>\n",
       "      <td>NaN</td>\n",
       "      <td>NaN</td>\n",
       "      <td>15 min #RSI Signals:\\n\\n$BTC - $SLR: 6.84\\n$BTC - $OMNI: 6.97\\n$BTC - $RBY: 6.99\\n$BTC - $SPHR: 21.13\\n$BTC - $RDN: 21.17\\n$BTC - $MCO: 21.48\\n$BTC - $VIBE: 23.76\\n$BTC - $ADX: 26.25\\n$BTC - $PPT: 26.63\\n\\n#Bitcoin #tokensale #smartcontract #ETH #DAPP $LTC #signals #RADS #BigData #litecoin</td>\n",
       "      <td>United States</td>\n",
       "      <td>min  rsi signals \\n\\n btc    slr      \\n btc    omni      \\n btc    rby      \\n btc    sphr       \\n btc    rdn       \\n btc    mco       \\n btc    vibe       \\n btc    adx       \\n btc    ppt       \\n\\n bitcoin  tokensale  smartcontract  eth  dapp  ltc  signals  rads  bigdata  litecoin</td>\n",
       "    </tr>\n",
       "    <tr>\n",
       "      <th>4</th>\n",
       "      <td>20</td>\n",
       "      <td>2018-04-01</td>\n",
       "      <td>id-980481164334063616</td>\n",
       "      <td>Sun Apr 01 16:25:00 +0000 2018</td>\n",
       "      <td>kimbee802009</td>\n",
       "      <td>South Dakota, USA</td>\n",
       "      <td>NaN</td>\n",
       "      <td>&lt;usernameremoved&gt; Hold Facebook accountable for abusing our data and censoring our voice. Vote no on the CRA.\\n\\n&lt;linkremoved&gt;</td>\n",
       "      <td>NaN</td>\n",
       "      <td>NaN</td>\n",
       "      <td>NaN</td>\n",
       "      <td>&lt;usernameremoved&gt; Hold Facebook accountable for abusing our data and censoring our voice. Vote no on the CRA.\\n\\n&lt;link removed&gt;</td>\n",
       "      <td>United States</td>\n",
       "      <td>usernameremoved  hold facebook accountable for abusing our data and censoring our voice  vote no on the cra \\n\\n linkremoved</td>\n",
       "    </tr>\n",
       "  </tbody>\n",
       "</table>\n",
       "</div>"
      ],
      "text/plain": [
       "   Unnamed: 0 created_at2                     id  \\\n",
       "0  1           2018-04-01  id-980480936205783047   \n",
       "1  6           2018-04-01  id-980481012550524928   \n",
       "2  9           2018-04-01  id-980480980191404032   \n",
       "3  16          2018-04-01  id-980481205492682753   \n",
       "4  20          2018-04-01  id-980481164334063616   \n",
       "\n",
       "                       created_at user.screen_name      user_location  \\\n",
       "0  Sun Apr 01 16:24:06 +0000 2018  stanscott53      Coldspring, TX      \n",
       "1  Sun Apr 01 16:24:24 +0000 2018  RShaffer1        Boston, MA          \n",
       "2  Sun Apr 01 16:24:16 +0000 2018  pcampisi14       Toronto, Ontario    \n",
       "3  Sun Apr 01 16:25:10 +0000 2018  CoinSignalBot    Seattle, WA         \n",
       "4  Sun Apr 01 16:25:00 +0000 2018  kimbee802009     South Dakota, USA   \n",
       "\n",
       "  coordinates  \\\n",
       "0  NaN          \n",
       "1  NaN          \n",
       "2  NaN          \n",
       "3  NaN          \n",
       "4  NaN          \n",
       "\n",
       "                                                                                                                                                                                                                                                                                                 text  \\\n",
       "0  <usernameremoved> Hold Facebook accountable for abusing our data and censoring our voice. Vote no on the CRA. <linkremoved>                                                                                                                                                                          \n",
       "1  Both sides should just drop it. Trump won...elections over. Move on. <linkremoved>                                                                                                                                                                                                                   \n",
       "2  $AAPL lobbing threes while they can. Wasnt it just a few years back when their platform was actually hacked and people private photos were exposed? <linkremoved>                                                                                                                                    \n",
       "3  15 min #RSI Signals:\\n\\n$BTC - $SLR: 6.84\\n$BTC - $OMNI: 6.97\\n$BTC - $RBY: 6.99\\n$BTC - $SPHR: 21.13\\n$BTC - $RDN: 21.17\\n$BTC - $MCO: 21.48\\n$BTC - $VIBE: 23.76\\n$BTC - $ADX: 26.25\\n$BTC - $PPT: 26.63\\n\\n#Bitcoin #tokensale #smartcontract #ETH #DAPP $LTC #signals #RADS #BigData #litecoin   \n",
       "4  <usernameremoved> Hold Facebook accountable for abusing our data and censoring our voice. Vote no on the CRA.\\n\\n<linkremoved>                                                                                                                                                                       \n",
       "\n",
       "                                                                                                                                                                                                                                                                                            full_text  \\\n",
       "0  NaN                                                                                                                                                                                                                                                                                                  \n",
       "1  NaN                                                                                                                                                                                                                                                                                                  \n",
       "2  $AAPL lobbing threes while they can. Wasnt it just a few years back when their platform was actually hacked and people private photos were exposed? https://t.co/hy2odYiyLO                                                                                                                          \n",
       "3  15 min #RSI Signals:\\n\\n$BTC - $SLR: 6.84\\n$BTC - $OMNI: 6.97\\n$BTC - $RBY: 6.99\\n$BTC - $SPHR: 21.13\\n$BTC - $RDN: 21.17\\n$BTC - $MCO: 21.48\\n$BTC - $VIBE: 23.76\\n$BTC - $ADX: 26.25\\n$BTC - $PPT: 26.63\\n\\n#Bitcoin #tokensale #smartcontract #ETH #DAPP $LTC #signals #RADS #BigData #litecoin   \n",
       "4  NaN                                                                                                                                                                                                                                                                                                  \n",
       "\n",
       "   retweet_created_at  retweet_full_text  \\\n",
       "0 NaN                 NaN                  \n",
       "1 NaN                 NaN                  \n",
       "2 NaN                 NaN                  \n",
       "3 NaN                 NaN                  \n",
       "4 NaN                 NaN                  \n",
       "\n",
       "                                                                                                                                                                                                                                                                                       texto_completo  \\\n",
       "0  <usernameremoved> Hold Facebook accountable for abusing our data and censoring our voice. Vote no on the CRA. <link removed>                                                                                                                                                                         \n",
       "1  Both sides should just drop it. Trump won...elections over. Move on. <link removed>                                                                                                                                                                                                                  \n",
       "2  $AAPL lobbing threes while they can. Wasnt it just a few years back when their platform was actually hacked and people private photos were exposed? <link removed>                                                                                                                                   \n",
       "3  15 min #RSI Signals:\\n\\n$BTC - $SLR: 6.84\\n$BTC - $OMNI: 6.97\\n$BTC - $RBY: 6.99\\n$BTC - $SPHR: 21.13\\n$BTC - $RDN: 21.17\\n$BTC - $MCO: 21.48\\n$BTC - $VIBE: 23.76\\n$BTC - $ADX: 26.25\\n$BTC - $PPT: 26.63\\n\\n#Bitcoin #tokensale #smartcontract #ETH #DAPP $LTC #signals #RADS #BigData #litecoin   \n",
       "4  <usernameremoved> Hold Facebook accountable for abusing our data and censoring our voice. Vote no on the CRA.\\n\\n<link removed>                                                                                                                                                                      \n",
       "\n",
       "  ubicacion_encontrada  \\\n",
       "0  United States         \n",
       "1  United States         \n",
       "2  Canada                \n",
       "3  United States         \n",
       "4  United States         \n",
       "\n",
       "                                                                                                                                                                                                                                                                                           clean_text  \n",
       "0   usernameremoved  hold facebook accountable for abusing our data and censoring our voice  vote no on the cra   linkremoved                                                                                                                                                                          \n",
       "1  both sides should just drop it  trump won   elections over  move on   linkremoved                                                                                                                                                                                                                   \n",
       "2   aapl lobbing threes while they can  wasnt it just a few years back when their platform was actually hacked and people private photos were exposed   linkremoved                                                                                                                                    \n",
       "3     min  rsi signals \\n\\n btc    slr      \\n btc    omni      \\n btc    rby      \\n btc    sphr       \\n btc    rdn       \\n btc    mco       \\n btc    vibe       \\n btc    adx       \\n btc    ppt       \\n\\n bitcoin  tokensale  smartcontract  eth  dapp  ltc  signals  rads  bigdata  litecoin  \n",
       "4   usernameremoved  hold facebook accountable for abusing our data and censoring our voice  vote no on the cra \\n\\n linkremoved                                                                                                                                                                       "
      ]
     },
     "execution_count": 90,
     "metadata": {},
     "output_type": "execute_result"
    }
   ],
   "source": [
    "df.head()"
   ]
  },
  {
   "cell_type": "markdown",
   "metadata": {},
   "source": [
    "# Highest topic per tweet"
   ]
  },
  {
   "cell_type": "code",
   "execution_count": 91,
   "metadata": {},
   "outputs": [
    {
     "data": {
      "text/html": [
       "<div>\n",
       "<style scoped>\n",
       "    .dataframe tbody tr th:only-of-type {\n",
       "        vertical-align: middle;\n",
       "    }\n",
       "\n",
       "    .dataframe tbody tr th {\n",
       "        vertical-align: top;\n",
       "    }\n",
       "\n",
       "    .dataframe thead th {\n",
       "        text-align: right;\n",
       "    }\n",
       "</style>\n",
       "<table border=\"1\" class=\"dataframe\">\n",
       "  <thead>\n",
       "    <tr style=\"text-align: right;\">\n",
       "      <th></th>\n",
       "      <th>Document_No</th>\n",
       "      <th>Dominant_Topic</th>\n",
       "      <th>Topic_Perc_Contrib</th>\n",
       "      <th>Keywords</th>\n",
       "      <th>Text</th>\n",
       "    </tr>\n",
       "  </thead>\n",
       "  <tbody>\n",
       "    <tr>\n",
       "      <th>0</th>\n",
       "      <td>0</td>\n",
       "      <td>3.0</td>\n",
       "      <td>0.1363</td>\n",
       "      <td>amp, leave, love, free, conservative, call, group, hate, stop, woman</td>\n",
       "      <td>usernameremoved  hold facebook accountable for abusing our data and censoring our voice  vote no on the cra   linkremoved</td>\n",
       "    </tr>\n",
       "    <tr>\n",
       "      <th>1</th>\n",
       "      <td>1</td>\n",
       "      <td>8.0</td>\n",
       "      <td>0.1028</td>\n",
       "      <td>work, ad, election, pay, campaign, money, vote, run, political, russian</td>\n",
       "      <td>both sides should just drop it  trump won   elections over  move on   linkremoved</td>\n",
       "    </tr>\n",
       "    <tr>\n",
       "      <th>2</th>\n",
       "      <td>2</td>\n",
       "      <td>0.0</td>\n",
       "      <td>0.1109</td>\n",
       "      <td>facebook, delete, year, post, twitter, account, friend, page, follow, check</td>\n",
       "      <td>aapl lobbing threes while they can  wasnt it just a few years back when their platform was actually hacked and people private photos were exposed   linkremoved</td>\n",
       "    </tr>\n",
       "    <tr>\n",
       "      <th>3</th>\n",
       "      <td>3</td>\n",
       "      <td>2.0</td>\n",
       "      <td>0.1424</td>\n",
       "      <td>bigdata, business, big, analytic, learn, tech, ai, machinelearne, technology, marketing</td>\n",
       "      <td>min  rsi signals \\n\\n btc    slr      \\n btc    omni      \\n btc    rby      \\n btc    sphr       \\n btc    rdn       \\n btc    mco       \\n btc    vibe       \\n btc    adx       \\n btc    ppt       \\n\\n bitcoin  tokensale  smartcontract  eth  dapp  ltc  signals  rads  bigdata  litecoin</td>\n",
       "    </tr>\n",
       "    <tr>\n",
       "      <th>4</th>\n",
       "      <td>4</td>\n",
       "      <td>3.0</td>\n",
       "      <td>0.1324</td>\n",
       "      <td>amp, leave, love, free, conservative, call, group, hate, stop, woman</td>\n",
       "      <td>usernameremoved  hold facebook accountable for abusing our data and censoring our voice  vote no on the cra \\n\\n linkremoved</td>\n",
       "    </tr>\n",
       "    <tr>\n",
       "      <th>5</th>\n",
       "      <td>5</td>\n",
       "      <td>1.0</td>\n",
       "      <td>0.1087</td>\n",
       "      <td>time, back, put, man, show, start, turn, guy, bring, play</td>\n",
       "      <td>factsss lmfao   linkremoved</td>\n",
       "    </tr>\n",
       "    <tr>\n",
       "      <th>6</th>\n",
       "      <td>6</td>\n",
       "      <td>3.0</td>\n",
       "      <td>0.1046</td>\n",
       "      <td>amp, leave, love, free, conservative, call, group, hate, stop, woman</td>\n",
       "      <td>hooray   usernameremoved  users can now lock the barn door after     that horse is gone   linkremoved</td>\n",
       "    </tr>\n",
       "    <tr>\n",
       "      <th>7</th>\n",
       "      <td>7</td>\n",
       "      <td>1.0</td>\n",
       "      <td>0.1235</td>\n",
       "      <td>time, back, put, man, show, start, turn, guy, bring, play</td>\n",
       "      <td>mary gray is worried about ethics  lol  linkremoved</td>\n",
       "    </tr>\n",
       "    <tr>\n",
       "      <th>8</th>\n",
       "      <td>8</td>\n",
       "      <td>1.0</td>\n",
       "      <td>0.1046</td>\n",
       "      <td>time, back, put, man, show, start, turn, guy, bring, play</td>\n",
       "      <td>usernameremoved   usernameremoved  i jumped ship to the google pixel   even though i trust google with my data about as much as i do facebook  but  i got tired of the ios bs</td>\n",
       "    </tr>\n",
       "    <tr>\n",
       "      <th>9</th>\n",
       "      <td>9</td>\n",
       "      <td>4.0</td>\n",
       "      <td>0.1008</td>\n",
       "      <td>datum, user, give, company, data, information, sell, share, personal, access</td>\n",
       "      <td>my samsung smart refrigerator just sold my dietary habits to cambridge analytica  now the russians know i eat frozen burritos from walmart</td>\n",
       "    </tr>\n",
       "    <tr>\n",
       "      <th>10</th>\n",
       "      <td>10</td>\n",
       "      <td>0.0</td>\n",
       "      <td>0.1046</td>\n",
       "      <td>facebook, delete, year, post, twitter, account, friend, page, follow, check</td>\n",
       "      <td>dont just delete facebook  poison your data first   linkremoved</td>\n",
       "    </tr>\n",
       "    <tr>\n",
       "      <th>11</th>\n",
       "      <td>11</td>\n",
       "      <td>8.0</td>\n",
       "      <td>0.1705</td>\n",
       "      <td>work, ad, election, pay, campaign, money, vote, run, political, russian</td>\n",
       "      <td>john bolton super pac paid cambridge analytica for behavioral microtargeting with psychographic messaging electiondata  linkremoved   linkremoved</td>\n",
       "    </tr>\n",
       "    <tr>\n",
       "      <th>12</th>\n",
       "      <td>12</td>\n",
       "      <td>7.0</td>\n",
       "      <td>0.1171</td>\n",
       "      <td>people, news, lie, story, fake, care, report, fact, real, world</td>\n",
       "      <td>zuckerberg is revealing himself to be a real turd   and just what we feared   linkremoved</td>\n",
       "    </tr>\n",
       "    <tr>\n",
       "      <th>13</th>\n",
       "      <td>13</td>\n",
       "      <td>2.0</td>\n",
       "      <td>0.1129</td>\n",
       "      <td>bigdata, business, big, analytic, learn, tech, ai, machinelearne, technology, marketing</td>\n",
       "      <td>usernameremoved   usernameremoved  thanks broadcasting exactly what ive been thinking  didnt we all know that  facebooks whole business model was to mine it and sell it</td>\n",
       "    </tr>\n",
       "    <tr>\n",
       "      <th>14</th>\n",
       "      <td>14</td>\n",
       "      <td>5.0</td>\n",
       "      <td>0.1066</td>\n",
       "      <td>make, good, thing, read, bad, great, time, feel, problem, answer</td>\n",
       "      <td>good morning everyone except mark zuckerberg</td>\n",
       "    </tr>\n",
       "    <tr>\n",
       "      <th>15</th>\n",
       "      <td>15</td>\n",
       "      <td>2.0</td>\n",
       "      <td>0.1454</td>\n",
       "      <td>bigdata, business, big, analytic, learn, tech, ai, machinelearne, technology, marketing</td>\n",
       "      <td>finally  an article that demystifies the machine learning aspect of the cambridge analytics story  how cambridge analyticas facebook targeting model really worked   ars technica  linkremoved</td>\n",
       "    </tr>\n",
       "    <tr>\n",
       "      <th>16</th>\n",
       "      <td>16</td>\n",
       "      <td>10.0</td>\n",
       "      <td>0.1279</td>\n",
       "      <td>question, today, medium, social, watch, live, talk, hear, testimony, hearing</td>\n",
       "      <td>icymi   here s replay  amp  links to all stories  usernameremoved   amp   usernameremoved  covered on beyond social media show     \\n linkremoved   linkremoved</td>\n",
       "    </tr>\n",
       "    <tr>\n",
       "      <th>17</th>\n",
       "      <td>17</td>\n",
       "      <td>3.0</td>\n",
       "      <td>0.1298</td>\n",
       "      <td>amp, leave, love, free, conservative, call, group, hate, stop, woman</td>\n",
       "      <td>senior editor paul rosenberg s latest for salon  a christian nationalist worldview is the strongest predictor of support for trump  more than racism  sexism  etc   linkremoved</td>\n",
       "    </tr>\n",
       "    <tr>\n",
       "      <th>18</th>\n",
       "      <td>18</td>\n",
       "      <td>7.0</td>\n",
       "      <td>0.1324</td>\n",
       "      <td>people, news, lie, story, fake, care, report, fact, real, world</td>\n",
       "      <td>ice spokesman resigns  saying he could no longer spread falsehoods for trump administration  linkremoved</td>\n",
       "    </tr>\n",
       "    <tr>\n",
       "      <th>19</th>\n",
       "      <td>19</td>\n",
       "      <td>7.0</td>\n",
       "      <td>0.1574</td>\n",
       "      <td>people, news, lie, story, fake, care, report, fact, real, world</td>\n",
       "      <td>usernameremoved   usernameremoved   usernameremoved   usernameremoved   usernameremoved   usernameremoved   usernameremoved   usernameremoved   usernameremoved   usernameremoved  ignoring the fact that the antisemitism issues in labour pre date the cambridge analytica story \\nalso any investigation into cambridge analytica needs to take place via police electoral commission etc \\nwhat you want is a massive firestorm of media accusations lacking any evidence</td>\n",
       "    </tr>\n",
       "  </tbody>\n",
       "</table>\n",
       "</div>"
      ],
      "text/plain": [
       "    Document_No  Dominant_Topic  Topic_Perc_Contrib  \\\n",
       "0   0            3.0             0.1363               \n",
       "1   1            8.0             0.1028               \n",
       "2   2            0.0             0.1109               \n",
       "3   3            2.0             0.1424               \n",
       "4   4            3.0             0.1324               \n",
       "5   5            1.0             0.1087               \n",
       "6   6            3.0             0.1046               \n",
       "7   7            1.0             0.1235               \n",
       "8   8            1.0             0.1046               \n",
       "9   9            4.0             0.1008               \n",
       "10  10           0.0             0.1046               \n",
       "11  11           8.0             0.1705               \n",
       "12  12           7.0             0.1171               \n",
       "13  13           2.0             0.1129               \n",
       "14  14           5.0             0.1066               \n",
       "15  15           2.0             0.1454               \n",
       "16  16           10.0            0.1279               \n",
       "17  17           3.0             0.1298               \n",
       "18  18           7.0             0.1324               \n",
       "19  19           7.0             0.1574               \n",
       "\n",
       "                                                                                   Keywords  \\\n",
       "0   amp, leave, love, free, conservative, call, group, hate, stop, woman                      \n",
       "1   work, ad, election, pay, campaign, money, vote, run, political, russian                   \n",
       "2   facebook, delete, year, post, twitter, account, friend, page, follow, check               \n",
       "3   bigdata, business, big, analytic, learn, tech, ai, machinelearne, technology, marketing   \n",
       "4   amp, leave, love, free, conservative, call, group, hate, stop, woman                      \n",
       "5   time, back, put, man, show, start, turn, guy, bring, play                                 \n",
       "6   amp, leave, love, free, conservative, call, group, hate, stop, woman                      \n",
       "7   time, back, put, man, show, start, turn, guy, bring, play                                 \n",
       "8   time, back, put, man, show, start, turn, guy, bring, play                                 \n",
       "9   datum, user, give, company, data, information, sell, share, personal, access              \n",
       "10  facebook, delete, year, post, twitter, account, friend, page, follow, check               \n",
       "11  work, ad, election, pay, campaign, money, vote, run, political, russian                   \n",
       "12  people, news, lie, story, fake, care, report, fact, real, world                           \n",
       "13  bigdata, business, big, analytic, learn, tech, ai, machinelearne, technology, marketing   \n",
       "14  make, good, thing, read, bad, great, time, feel, problem, answer                          \n",
       "15  bigdata, business, big, analytic, learn, tech, ai, machinelearne, technology, marketing   \n",
       "16  question, today, medium, social, watch, live, talk, hear, testimony, hearing              \n",
       "17  amp, leave, love, free, conservative, call, group, hate, stop, woman                      \n",
       "18  people, news, lie, story, fake, care, report, fact, real, world                           \n",
       "19  people, news, lie, story, fake, care, report, fact, real, world                           \n",
       "\n",
       "                                                                                                                                                                                                                                                                                                                                                                                                                                                                              Text  \n",
       "0    usernameremoved  hold facebook accountable for abusing our data and censoring our voice  vote no on the cra   linkremoved                                                                                                                                                                                                                                                                                                                                                      \n",
       "1   both sides should just drop it  trump won   elections over  move on   linkremoved                                                                                                                                                                                                                                                                                                                                                                                               \n",
       "2    aapl lobbing threes while they can  wasnt it just a few years back when their platform was actually hacked and people private photos were exposed   linkremoved                                                                                                                                                                                                                                                                                                                \n",
       "3      min  rsi signals \\n\\n btc    slr      \\n btc    omni      \\n btc    rby      \\n btc    sphr       \\n btc    rdn       \\n btc    mco       \\n btc    vibe       \\n btc    adx       \\n btc    ppt       \\n\\n bitcoin  tokensale  smartcontract  eth  dapp  ltc  signals  rads  bigdata  litecoin                                                                                                                                                                              \n",
       "4    usernameremoved  hold facebook accountable for abusing our data and censoring our voice  vote no on the cra \\n\\n linkremoved                                                                                                                                                                                                                                                                                                                                                   \n",
       "5   factsss lmfao   linkremoved                                                                                                                                                                                                                                                                                                                                                                                                                                                     \n",
       "6   hooray   usernameremoved  users can now lock the barn door after     that horse is gone   linkremoved                                                                                                                                                                                                                                                                                                                                                                           \n",
       "7   mary gray is worried about ethics  lol  linkremoved                                                                                                                                                                                                                                                                                                                                                                                                                             \n",
       "8    usernameremoved   usernameremoved  i jumped ship to the google pixel   even though i trust google with my data about as much as i do facebook  but  i got tired of the ios bs                                                                                                                                                                                                                                                                                                  \n",
       "9   my samsung smart refrigerator just sold my dietary habits to cambridge analytica  now the russians know i eat frozen burritos from walmart                                                                                                                                                                                                                                                                                                                                      \n",
       "10  dont just delete facebook  poison your data first   linkremoved                                                                                                                                                                                                                                                                                                                                                                                                                 \n",
       "11  john bolton super pac paid cambridge analytica for behavioral microtargeting with psychographic messaging electiondata  linkremoved   linkremoved                                                                                                                                                                                                                                                                                                                               \n",
       "12  zuckerberg is revealing himself to be a real turd   and just what we feared   linkremoved                                                                                                                                                                                                                                                                                                                                                                                       \n",
       "13   usernameremoved   usernameremoved  thanks broadcasting exactly what ive been thinking  didnt we all know that  facebooks whole business model was to mine it and sell it                                                                                                                                                                                                                                                                                                       \n",
       "14  good morning everyone except mark zuckerberg                                                                                                                                                                                                                                                                                                                                                                                                                                    \n",
       "15  finally  an article that demystifies the machine learning aspect of the cambridge analytics story  how cambridge analyticas facebook targeting model really worked   ars technica  linkremoved                                                                                                                                                                                                                                                                                  \n",
       "16  icymi   here s replay  amp  links to all stories  usernameremoved   amp   usernameremoved  covered on beyond social media show     \\n linkremoved   linkremoved                                                                                                                                                                                                                                                                                                                 \n",
       "17  senior editor paul rosenberg s latest for salon  a christian nationalist worldview is the strongest predictor of support for trump  more than racism  sexism  etc   linkremoved                                                                                                                                                                                                                                                                                                 \n",
       "18  ice spokesman resigns  saying he could no longer spread falsehoods for trump administration  linkremoved                                                                                                                                                                                                                                                                                                                                                                        \n",
       "19   usernameremoved   usernameremoved   usernameremoved   usernameremoved   usernameremoved   usernameremoved   usernameremoved   usernameremoved   usernameremoved   usernameremoved  ignoring the fact that the antisemitism issues in labour pre date the cambridge analytica story \\nalso any investigation into cambridge analytica needs to take place via police electoral commission etc \\nwhat you want is a massive firestorm of media accusations lacking any evidence  "
      ]
     },
     "execution_count": 91,
     "metadata": {},
     "output_type": "execute_result"
    }
   ],
   "source": [
    "def format_topics_sentences(ldamodel=ldamallet, corpus=corpus, texts=data):\n",
    "    # Init output\n",
    "    sent_topics_df = pd.DataFrame()\n",
    "\n",
    "    # Get main topic in each document\n",
    "    for i, row in enumerate(ldamodel[corpus]):\n",
    "        row = sorted(row, key=lambda x: (x[1]), reverse=True)\n",
    "        # Get the Dominant topic, Perc Contribution and Keywords for each document\n",
    "        for j, (topic_num, prop_topic) in enumerate(row):\n",
    "            if j == 0:  # => dominant topic\n",
    "                wp = ldamodel.show_topic(topic_num)\n",
    "                topic_keywords = \", \".join([word for word, prop in wp])\n",
    "                sent_topics_df = sent_topics_df.append(pd.Series([int(topic_num), round(prop_topic,4), topic_keywords]), ignore_index=True)\n",
    "            else:\n",
    "                break\n",
    "    sent_topics_df.columns = ['Dominant_Topic', 'Perc_Contribution', 'Topic_Keywords']\n",
    "\n",
    "    # Add original text to the end of the output\n",
    "    contents = pd.Series(texts)\n",
    "    sent_topics_df = pd.concat([sent_topics_df, contents], axis=1)\n",
    "    return(sent_topics_df)\n",
    "\n",
    "\n",
    "df_topic_sents_keywords = format_topics_sentences(ldamodel=ldamallet, corpus=corpus, texts=data)\n",
    "\n",
    "# Format\n",
    "df_dominant_topic = df_topic_sents_keywords.reset_index()\n",
    "df_dominant_topic.columns = ['Document_No', 'Dominant_Topic', 'Topic_Perc_Contrib', 'Keywords', 'Text']\n",
    "\n",
    "# Show\n",
    "df_dominant_topic.head(20)"
   ]
  },
  {
   "cell_type": "code",
   "execution_count": 92,
   "metadata": {},
   "outputs": [
    {
     "data": {
      "text/plain": [
       "342400"
      ]
     },
     "execution_count": 92,
     "metadata": {},
     "output_type": "execute_result"
    }
   ],
   "source": [
    "len(df_dominant_topic)"
   ]
  },
  {
   "cell_type": "code",
   "execution_count": 93,
   "metadata": {},
   "outputs": [
    {
     "data": {
      "text/html": [
       "<div>\n",
       "<style scoped>\n",
       "    .dataframe tbody tr th:only-of-type {\n",
       "        vertical-align: middle;\n",
       "    }\n",
       "\n",
       "    .dataframe tbody tr th {\n",
       "        vertical-align: top;\n",
       "    }\n",
       "\n",
       "    .dataframe thead th {\n",
       "        text-align: right;\n",
       "    }\n",
       "</style>\n",
       "<table border=\"1\" class=\"dataframe\">\n",
       "  <thead>\n",
       "    <tr style=\"text-align: right;\">\n",
       "      <th></th>\n",
       "      <th>Dominant_Topic</th>\n",
       "      <th>Perc_Contribution</th>\n",
       "      <th>Topic_Keywords</th>\n",
       "      <th>0</th>\n",
       "    </tr>\n",
       "  </thead>\n",
       "  <tbody>\n",
       "    <tr>\n",
       "      <th>0</th>\n",
       "      <td>3.0</td>\n",
       "      <td>0.1363</td>\n",
       "      <td>amp, leave, love, free, conservative, call, group, hate, stop, woman</td>\n",
       "      <td>usernameremoved  hold facebook accountable for abusing our data and censoring our voice  vote no on the cra   linkremoved</td>\n",
       "    </tr>\n",
       "    <tr>\n",
       "      <th>1</th>\n",
       "      <td>8.0</td>\n",
       "      <td>0.1028</td>\n",
       "      <td>work, ad, election, pay, campaign, money, vote, run, political, russian</td>\n",
       "      <td>both sides should just drop it  trump won   elections over  move on   linkremoved</td>\n",
       "    </tr>\n",
       "    <tr>\n",
       "      <th>2</th>\n",
       "      <td>0.0</td>\n",
       "      <td>0.1109</td>\n",
       "      <td>facebook, delete, year, post, twitter, account, friend, page, follow, check</td>\n",
       "      <td>aapl lobbing threes while they can  wasnt it just a few years back when their platform was actually hacked and people private photos were exposed   linkremoved</td>\n",
       "    </tr>\n",
       "    <tr>\n",
       "      <th>3</th>\n",
       "      <td>2.0</td>\n",
       "      <td>0.1424</td>\n",
       "      <td>bigdata, business, big, analytic, learn, tech, ai, machinelearne, technology, marketing</td>\n",
       "      <td>min  rsi signals \\n\\n btc    slr      \\n btc    omni      \\n btc    rby      \\n btc    sphr       \\n btc    rdn       \\n btc    mco       \\n btc    vibe       \\n btc    adx       \\n btc    ppt       \\n\\n bitcoin  tokensale  smartcontract  eth  dapp  ltc  signals  rads  bigdata  litecoin</td>\n",
       "    </tr>\n",
       "    <tr>\n",
       "      <th>4</th>\n",
       "      <td>3.0</td>\n",
       "      <td>0.1324</td>\n",
       "      <td>amp, leave, love, free, conservative, call, group, hate, stop, woman</td>\n",
       "      <td>usernameremoved  hold facebook accountable for abusing our data and censoring our voice  vote no on the cra \\n\\n linkremoved</td>\n",
       "    </tr>\n",
       "    <tr>\n",
       "      <th>...</th>\n",
       "      <td>...</td>\n",
       "      <td>...</td>\n",
       "      <td>...</td>\n",
       "      <td>...</td>\n",
       "    </tr>\n",
       "    <tr>\n",
       "      <th>342395</th>\n",
       "      <td>0.0</td>\n",
       "      <td>0.0909</td>\n",
       "      <td>facebook, delete, year, post, twitter, account, friend, page, follow, check</td>\n",
       "      <td>marky zuckerberg is at it again     linkremoved</td>\n",
       "    </tr>\n",
       "    <tr>\n",
       "      <th>342396</th>\n",
       "      <td>2.0</td>\n",
       "      <td>0.1087</td>\n",
       "      <td>bigdata, business, big, analytic, learn, tech, ai, machinelearne, technology, marketing</td>\n",
       "      <td>learn the basics of  hadoop security  in under   min     linkremoved   bigdata  datascience  linkremoved</td>\n",
       "    </tr>\n",
       "    <tr>\n",
       "      <th>342397</th>\n",
       "      <td>4.0</td>\n",
       "      <td>0.1008</td>\n",
       "      <td>datum, user, give, company, data, information, sell, share, personal, access</td>\n",
       "      <td>facebook facing possible australian lawsuit over cambridge analytica privacy breaches  linkremoved    via  usernameremoved   linkremoved</td>\n",
       "    </tr>\n",
       "    <tr>\n",
       "      <th>342398</th>\n",
       "      <td>1.0</td>\n",
       "      <td>0.1195</td>\n",
       "      <td>time, back, put, man, show, start, turn, guy, bring, play</td>\n",
       "      <td>ladies  amp  gents  quite the interesting explanation abt the current situation w trump from some  i m friends w on fb  now  if this is true  then it means that we won t even have   wait  til dems re take cong   start bringing down the right   linkremoved</td>\n",
       "    </tr>\n",
       "    <tr>\n",
       "      <th>342399</th>\n",
       "      <td>9.0</td>\n",
       "      <td>0.1674</td>\n",
       "      <td>trump, retweete, family, call, child, break, president, supporter, policy, end</td>\n",
       "      <td>yesterday  the new york times  exposed the trump administration for bullying governments into weakening international safeguards that protect mothers and newborn babies from the infant formula industrys     linkremoved</td>\n",
       "    </tr>\n",
       "  </tbody>\n",
       "</table>\n",
       "<p>342400 rows × 4 columns</p>\n",
       "</div>"
      ],
      "text/plain": [
       "        Dominant_Topic  Perc_Contribution  \\\n",
       "0       3.0             0.1363              \n",
       "1       8.0             0.1028              \n",
       "2       0.0             0.1109              \n",
       "3       2.0             0.1424              \n",
       "4       3.0             0.1324              \n",
       "...     ...                ...              \n",
       "342395  0.0             0.0909              \n",
       "342396  2.0             0.1087              \n",
       "342397  4.0             0.1008              \n",
       "342398  1.0             0.1195              \n",
       "342399  9.0             0.1674              \n",
       "\n",
       "                                                                                 Topic_Keywords  \\\n",
       "0       amp, leave, love, free, conservative, call, group, hate, stop, woman                      \n",
       "1       work, ad, election, pay, campaign, money, vote, run, political, russian                   \n",
       "2       facebook, delete, year, post, twitter, account, friend, page, follow, check               \n",
       "3       bigdata, business, big, analytic, learn, tech, ai, machinelearne, technology, marketing   \n",
       "4       amp, leave, love, free, conservative, call, group, hate, stop, woman                      \n",
       "...                                                                      ...                      \n",
       "342395  facebook, delete, year, post, twitter, account, friend, page, follow, check               \n",
       "342396  bigdata, business, big, analytic, learn, tech, ai, machinelearne, technology, marketing   \n",
       "342397  datum, user, give, company, data, information, sell, share, personal, access              \n",
       "342398  time, back, put, man, show, start, turn, guy, bring, play                                 \n",
       "342399  trump, retweete, family, call, child, break, president, supporter, policy, end            \n",
       "\n",
       "                                                                                                                                                                                                                                                                                                         0  \n",
       "0        usernameremoved  hold facebook accountable for abusing our data and censoring our voice  vote no on the cra   linkremoved                                                                                                                                                                          \n",
       "1       both sides should just drop it  trump won   elections over  move on   linkremoved                                                                                                                                                                                                                   \n",
       "2        aapl lobbing threes while they can  wasnt it just a few years back when their platform was actually hacked and people private photos were exposed   linkremoved                                                                                                                                    \n",
       "3          min  rsi signals \\n\\n btc    slr      \\n btc    omni      \\n btc    rby      \\n btc    sphr       \\n btc    rdn       \\n btc    mco       \\n btc    vibe       \\n btc    adx       \\n btc    ppt       \\n\\n bitcoin  tokensale  smartcontract  eth  dapp  ltc  signals  rads  bigdata  litecoin  \n",
       "4        usernameremoved  hold facebook accountable for abusing our data and censoring our voice  vote no on the cra \\n\\n linkremoved                                                                                                                                                                       \n",
       "...                                                                                                                                ...                                                                                                                                                                      \n",
       "342395  marky zuckerberg is at it again     linkremoved                                                                                                                                                                                                                                                     \n",
       "342396  learn the basics of  hadoop security  in under   min     linkremoved   bigdata  datascience  linkremoved                                                                                                                                                                                            \n",
       "342397  facebook facing possible australian lawsuit over cambridge analytica privacy breaches  linkremoved    via  usernameremoved   linkremoved                                                                                                                                                            \n",
       "342398  ladies  amp  gents  quite the interesting explanation abt the current situation w trump from some  i m friends w on fb  now  if this is true  then it means that we won t even have   wait  til dems re take cong   start bringing down the right   linkremoved                                     \n",
       "342399  yesterday  the new york times  exposed the trump administration for bullying governments into weakening international safeguards that protect mothers and newborn babies from the infant formula industrys     linkremoved                                                                          \n",
       "\n",
       "[342400 rows x 4 columns]"
      ]
     },
     "execution_count": 93,
     "metadata": {},
     "output_type": "execute_result"
    }
   ],
   "source": [
    "df_topic_sents_keywords"
   ]
  },
  {
   "cell_type": "markdown",
   "metadata": {},
   "source": [
    "# matrix, document with topic distribution. this matrix is useful for the merge operation\n"
   ]
  },
  {
   "cell_type": "code",
   "execution_count": 94,
   "metadata": {},
   "outputs": [
    {
     "name": "stdout",
     "output_type": "stream",
     "text": [
      "0\n",
      "10000\n",
      "20000\n",
      "30000\n",
      "40000\n",
      "50000\n",
      "60000\n",
      "70000\n",
      "80000\n",
      "90000\n",
      "100000\n",
      "110000\n",
      "120000\n",
      "130000\n",
      "140000\n",
      "150000\n",
      "160000\n",
      "170000\n",
      "180000\n",
      "190000\n",
      "200000\n",
      "210000\n",
      "220000\n",
      "230000\n",
      "240000\n",
      "250000\n",
      "260000\n",
      "270000\n",
      "280000\n",
      "290000\n",
      "300000\n",
      "310000\n",
      "320000\n",
      "330000\n",
      "340000\n"
     ]
    }
   ],
   "source": [
    "matrix_documents_topic_contribution= pd.DataFrame()\n",
    "for i, row in enumerate(ldamodel[corpus]): #i = index_row, row = (topic_index, contribution)\n",
    "    matrix_documents_topic_contribution = matrix_documents_topic_contribution.append(pd.DataFrame(pd.DataFrame(row).T.iloc[1,:]).T, ignore_index=True)\n",
    "    if i%10000 == 0:\n",
    "        print(i)"
   ]
  },
  {
   "cell_type": "code",
   "execution_count": 95,
   "metadata": {},
   "outputs": [],
   "source": [
    "contents = pd.Series(texts)\n",
    "matrix_documents_topic_contribution = pd.concat([matrix_documents_topic_contribution, contents], axis=1)"
   ]
  },
  {
   "cell_type": "code",
   "execution_count": 96,
   "metadata": {},
   "outputs": [],
   "source": [
    "# Add original text to the end of the output\n",
    "contents = pd.Series(data)\n",
    "matrix_documents_topic_contribution = pd.concat([matrix_documents_topic_contribution, contents], axis=1)"
   ]
  },
  {
   "cell_type": "code",
   "execution_count": 97,
   "metadata": {},
   "outputs": [],
   "source": [
    "matrix_documents_topic_contribution = matrix_documents_topic_contribution.reset_index()\n"
   ]
  },
  {
   "cell_type": "code",
   "execution_count": 98,
   "metadata": {},
   "outputs": [
    {
     "data": {
      "text/html": [
       "<div>\n",
       "<style scoped>\n",
       "    .dataframe tbody tr th:only-of-type {\n",
       "        vertical-align: middle;\n",
       "    }\n",
       "\n",
       "    .dataframe tbody tr th {\n",
       "        vertical-align: top;\n",
       "    }\n",
       "\n",
       "    .dataframe thead th {\n",
       "        text-align: right;\n",
       "    }\n",
       "</style>\n",
       "<table border=\"1\" class=\"dataframe\">\n",
       "  <thead>\n",
       "    <tr style=\"text-align: right;\">\n",
       "      <th></th>\n",
       "      <th>index</th>\n",
       "      <th>0</th>\n",
       "      <th>1</th>\n",
       "      <th>2</th>\n",
       "      <th>3</th>\n",
       "      <th>4</th>\n",
       "      <th>5</th>\n",
       "      <th>6</th>\n",
       "      <th>7</th>\n",
       "      <th>8</th>\n",
       "      <th>9</th>\n",
       "      <th>10</th>\n",
       "      <th>0</th>\n",
       "      <th>0</th>\n",
       "    </tr>\n",
       "  </thead>\n",
       "  <tbody>\n",
       "    <tr>\n",
       "      <th>0</th>\n",
       "      <td>0</td>\n",
       "      <td>0.079757</td>\n",
       "      <td>0.079745</td>\n",
       "      <td>0.079745</td>\n",
       "      <td>0.132669</td>\n",
       "      <td>0.097288</td>\n",
       "      <td>0.079757</td>\n",
       "      <td>0.079757</td>\n",
       "      <td>0.079745</td>\n",
       "      <td>0.097289</td>\n",
       "      <td>0.114503</td>\n",
       "      <td>0.079745</td>\n",
       "      <td>[hold, accountable, abusing, datum, censor, voice, vote]</td>\n",
       "      <td>usernameremoved  hold facebook accountable for abusing our data and censoring our voice  vote no on the cra   linkremoved</td>\n",
       "    </tr>\n",
       "    <tr>\n",
       "      <th>1</th>\n",
       "      <td>1</td>\n",
       "      <td>0.082645</td>\n",
       "      <td>0.100826</td>\n",
       "      <td>0.082645</td>\n",
       "      <td>0.098908</td>\n",
       "      <td>0.082645</td>\n",
       "      <td>0.095298</td>\n",
       "      <td>0.088173</td>\n",
       "      <td>0.082645</td>\n",
       "      <td>0.102745</td>\n",
       "      <td>0.100826</td>\n",
       "      <td>0.082645</td>\n",
       "      <td>[side, drop, trump, election, move]</td>\n",
       "      <td>both sides should just drop it  trump won   elections over  move on   linkremoved</td>\n",
       "    </tr>\n",
       "    <tr>\n",
       "      <th>2</th>\n",
       "      <td>2</td>\n",
       "      <td>0.110938</td>\n",
       "      <td>0.093992</td>\n",
       "      <td>0.077042</td>\n",
       "      <td>0.087434</td>\n",
       "      <td>0.110940</td>\n",
       "      <td>0.077284</td>\n",
       "      <td>0.084232</td>\n",
       "      <td>0.093113</td>\n",
       "      <td>0.093991</td>\n",
       "      <td>0.077042</td>\n",
       "      <td>0.093993</td>\n",
       "      <td>[lob, three, year, back, platform, actually, hack, people, private, photo, expose]</td>\n",
       "      <td>aapl lobbing threes while they can  wasnt it just a few years back when their platform was actually hacked and people private photos were exposed   linkremoved</td>\n",
       "    </tr>\n",
       "    <tr>\n",
       "      <th>3</th>\n",
       "      <td>3</td>\n",
       "      <td>0.085763</td>\n",
       "      <td>0.085763</td>\n",
       "      <td>0.142317</td>\n",
       "      <td>0.085763</td>\n",
       "      <td>0.085763</td>\n",
       "      <td>0.085763</td>\n",
       "      <td>0.085763</td>\n",
       "      <td>0.085763</td>\n",
       "      <td>0.085763</td>\n",
       "      <td>0.085813</td>\n",
       "      <td>0.085763</td>\n",
       "      <td>[signal, rad, bigdata]</td>\n",
       "      <td>min  rsi signals \\n\\n btc    slr      \\n btc    omni      \\n btc    rby      \\n btc    sphr       \\n btc    rdn       \\n btc    mco       \\n btc    vibe       \\n btc    adx       \\n btc    ppt       \\n\\n bitcoin  tokensale  smartcontract  eth  dapp  ltc  signals  rads  bigdata  litecoin</td>\n",
       "    </tr>\n",
       "    <tr>\n",
       "      <th>4</th>\n",
       "      <td>4</td>\n",
       "      <td>0.079757</td>\n",
       "      <td>0.079745</td>\n",
       "      <td>0.079745</td>\n",
       "      <td>0.132669</td>\n",
       "      <td>0.097288</td>\n",
       "      <td>0.079757</td>\n",
       "      <td>0.079757</td>\n",
       "      <td>0.079745</td>\n",
       "      <td>0.097289</td>\n",
       "      <td>0.114503</td>\n",
       "      <td>0.079745</td>\n",
       "      <td>[hold, accountable, abusing, datum, censor, voice, vote]</td>\n",
       "      <td>usernameremoved  hold facebook accountable for abusing our data and censoring our voice  vote no on the cra \\n\\n linkremoved</td>\n",
       "    </tr>\n",
       "  </tbody>\n",
       "</table>\n",
       "</div>"
      ],
      "text/plain": [
       "   index         0         1         2         3         4         5  \\\n",
       "0  0      0.079757  0.079745  0.079745  0.132669  0.097288  0.079757   \n",
       "1  1      0.082645  0.100826  0.082645  0.098908  0.082645  0.095298   \n",
       "2  2      0.110938  0.093992  0.077042  0.087434  0.110940  0.077284   \n",
       "3  3      0.085763  0.085763  0.142317  0.085763  0.085763  0.085763   \n",
       "4  4      0.079757  0.079745  0.079745  0.132669  0.097288  0.079757   \n",
       "\n",
       "          6         7         8         9        10  \\\n",
       "0  0.079757  0.079745  0.097289  0.114503  0.079745   \n",
       "1  0.088173  0.082645  0.102745  0.100826  0.082645   \n",
       "2  0.084232  0.093113  0.093991  0.077042  0.093993   \n",
       "3  0.085763  0.085763  0.085763  0.085813  0.085763   \n",
       "4  0.079757  0.079745  0.097289  0.114503  0.079745   \n",
       "\n",
       "                                                                                    0  \\\n",
       "0  [hold, accountable, abusing, datum, censor, voice, vote]                             \n",
       "1  [side, drop, trump, election, move]                                                  \n",
       "2  [lob, three, year, back, platform, actually, hack, people, private, photo, expose]   \n",
       "3  [signal, rad, bigdata]                                                               \n",
       "4  [hold, accountable, abusing, datum, censor, voice, vote]                             \n",
       "\n",
       "                                                                                                                                                                                                                                                                                                    0  \n",
       "0   usernameremoved  hold facebook accountable for abusing our data and censoring our voice  vote no on the cra   linkremoved                                                                                                                                                                          \n",
       "1  both sides should just drop it  trump won   elections over  move on   linkremoved                                                                                                                                                                                                                   \n",
       "2   aapl lobbing threes while they can  wasnt it just a few years back when their platform was actually hacked and people private photos were exposed   linkremoved                                                                                                                                    \n",
       "3     min  rsi signals \\n\\n btc    slr      \\n btc    omni      \\n btc    rby      \\n btc    sphr       \\n btc    rdn       \\n btc    mco       \\n btc    vibe       \\n btc    adx       \\n btc    ppt       \\n\\n bitcoin  tokensale  smartcontract  eth  dapp  ltc  signals  rads  bigdata  litecoin  \n",
       "4   usernameremoved  hold facebook accountable for abusing our data and censoring our voice  vote no on the cra \\n\\n linkremoved                                                                                                                                                                       "
      ]
     },
     "execution_count": 98,
     "metadata": {},
     "output_type": "execute_result"
    }
   ],
   "source": [
    "matrix_documents_topic_contribution.head()"
   ]
  },
  {
   "cell_type": "code",
   "execution_count": 99,
   "metadata": {},
   "outputs": [],
   "source": []
  },
  {
   "cell_type": "code",
   "execution_count": null,
   "metadata": {},
   "outputs": [],
   "source": [
    "matrix_documents_topic_contribution.to_csv(file_name+'_matrix_document_topic_distribution.csv)"
   ]
  },
  {
   "cell_type": "code",
   "execution_count": 100,
   "metadata": {},
   "outputs": [
    {
     "data": {
      "text/html": [
       "<div>\n",
       "<style scoped>\n",
       "    .dataframe tbody tr th:only-of-type {\n",
       "        vertical-align: middle;\n",
       "    }\n",
       "\n",
       "    .dataframe tbody tr th {\n",
       "        vertical-align: top;\n",
       "    }\n",
       "\n",
       "    .dataframe thead th {\n",
       "        text-align: right;\n",
       "    }\n",
       "</style>\n",
       "<table border=\"1\" class=\"dataframe\">\n",
       "  <thead>\n",
       "    <tr style=\"text-align: right;\">\n",
       "      <th></th>\n",
       "      <th>Dominant_Topic</th>\n",
       "      <th>Perc_Contribution</th>\n",
       "      <th>Topic_Keywords</th>\n",
       "      <th>0</th>\n",
       "    </tr>\n",
       "  </thead>\n",
       "  <tbody>\n",
       "    <tr>\n",
       "      <th>0</th>\n",
       "      <td>3.0</td>\n",
       "      <td>0.1363</td>\n",
       "      <td>amp, leave, love, free, conservative, call, group, hate, stop, woman</td>\n",
       "      <td>usernameremoved  hold facebook accountable for abusing our data and censoring our voice  vote no on the cra   linkremoved</td>\n",
       "    </tr>\n",
       "    <tr>\n",
       "      <th>1</th>\n",
       "      <td>8.0</td>\n",
       "      <td>0.1028</td>\n",
       "      <td>work, ad, election, pay, campaign, money, vote, run, political, russian</td>\n",
       "      <td>both sides should just drop it  trump won   elections over  move on   linkremoved</td>\n",
       "    </tr>\n",
       "    <tr>\n",
       "      <th>2</th>\n",
       "      <td>0.0</td>\n",
       "      <td>0.1109</td>\n",
       "      <td>facebook, delete, year, post, twitter, account, friend, page, follow, check</td>\n",
       "      <td>aapl lobbing threes while they can  wasnt it just a few years back when their platform was actually hacked and people private photos were exposed   linkremoved</td>\n",
       "    </tr>\n",
       "    <tr>\n",
       "      <th>3</th>\n",
       "      <td>2.0</td>\n",
       "      <td>0.1424</td>\n",
       "      <td>bigdata, business, big, analytic, learn, tech, ai, machinelearne, technology, marketing</td>\n",
       "      <td>min  rsi signals \\n\\n btc    slr      \\n btc    omni      \\n btc    rby      \\n btc    sphr       \\n btc    rdn       \\n btc    mco       \\n btc    vibe       \\n btc    adx       \\n btc    ppt       \\n\\n bitcoin  tokensale  smartcontract  eth  dapp  ltc  signals  rads  bigdata  litecoin</td>\n",
       "    </tr>\n",
       "    <tr>\n",
       "      <th>4</th>\n",
       "      <td>3.0</td>\n",
       "      <td>0.1324</td>\n",
       "      <td>amp, leave, love, free, conservative, call, group, hate, stop, woman</td>\n",
       "      <td>usernameremoved  hold facebook accountable for abusing our data and censoring our voice  vote no on the cra \\n\\n linkremoved</td>\n",
       "    </tr>\n",
       "    <tr>\n",
       "      <th>...</th>\n",
       "      <td>...</td>\n",
       "      <td>...</td>\n",
       "      <td>...</td>\n",
       "      <td>...</td>\n",
       "    </tr>\n",
       "    <tr>\n",
       "      <th>342395</th>\n",
       "      <td>0.0</td>\n",
       "      <td>0.0909</td>\n",
       "      <td>facebook, delete, year, post, twitter, account, friend, page, follow, check</td>\n",
       "      <td>marky zuckerberg is at it again     linkremoved</td>\n",
       "    </tr>\n",
       "    <tr>\n",
       "      <th>342396</th>\n",
       "      <td>2.0</td>\n",
       "      <td>0.1087</td>\n",
       "      <td>bigdata, business, big, analytic, learn, tech, ai, machinelearne, technology, marketing</td>\n",
       "      <td>learn the basics of  hadoop security  in under   min     linkremoved   bigdata  datascience  linkremoved</td>\n",
       "    </tr>\n",
       "    <tr>\n",
       "      <th>342397</th>\n",
       "      <td>4.0</td>\n",
       "      <td>0.1008</td>\n",
       "      <td>datum, user, give, company, data, information, sell, share, personal, access</td>\n",
       "      <td>facebook facing possible australian lawsuit over cambridge analytica privacy breaches  linkremoved    via  usernameremoved   linkremoved</td>\n",
       "    </tr>\n",
       "    <tr>\n",
       "      <th>342398</th>\n",
       "      <td>1.0</td>\n",
       "      <td>0.1195</td>\n",
       "      <td>time, back, put, man, show, start, turn, guy, bring, play</td>\n",
       "      <td>ladies  amp  gents  quite the interesting explanation abt the current situation w trump from some  i m friends w on fb  now  if this is true  then it means that we won t even have   wait  til dems re take cong   start bringing down the right   linkremoved</td>\n",
       "    </tr>\n",
       "    <tr>\n",
       "      <th>342399</th>\n",
       "      <td>9.0</td>\n",
       "      <td>0.1674</td>\n",
       "      <td>trump, retweete, family, call, child, break, president, supporter, policy, end</td>\n",
       "      <td>yesterday  the new york times  exposed the trump administration for bullying governments into weakening international safeguards that protect mothers and newborn babies from the infant formula industrys     linkremoved</td>\n",
       "    </tr>\n",
       "  </tbody>\n",
       "</table>\n",
       "<p>342400 rows × 4 columns</p>\n",
       "</div>"
      ],
      "text/plain": [
       "        Dominant_Topic  Perc_Contribution  \\\n",
       "0       3.0             0.1363              \n",
       "1       8.0             0.1028              \n",
       "2       0.0             0.1109              \n",
       "3       2.0             0.1424              \n",
       "4       3.0             0.1324              \n",
       "...     ...                ...              \n",
       "342395  0.0             0.0909              \n",
       "342396  2.0             0.1087              \n",
       "342397  4.0             0.1008              \n",
       "342398  1.0             0.1195              \n",
       "342399  9.0             0.1674              \n",
       "\n",
       "                                                                                 Topic_Keywords  \\\n",
       "0       amp, leave, love, free, conservative, call, group, hate, stop, woman                      \n",
       "1       work, ad, election, pay, campaign, money, vote, run, political, russian                   \n",
       "2       facebook, delete, year, post, twitter, account, friend, page, follow, check               \n",
       "3       bigdata, business, big, analytic, learn, tech, ai, machinelearne, technology, marketing   \n",
       "4       amp, leave, love, free, conservative, call, group, hate, stop, woman                      \n",
       "...                                                                      ...                      \n",
       "342395  facebook, delete, year, post, twitter, account, friend, page, follow, check               \n",
       "342396  bigdata, business, big, analytic, learn, tech, ai, machinelearne, technology, marketing   \n",
       "342397  datum, user, give, company, data, information, sell, share, personal, access              \n",
       "342398  time, back, put, man, show, start, turn, guy, bring, play                                 \n",
       "342399  trump, retweete, family, call, child, break, president, supporter, policy, end            \n",
       "\n",
       "                                                                                                                                                                                                                                                                                                         0  \n",
       "0        usernameremoved  hold facebook accountable for abusing our data and censoring our voice  vote no on the cra   linkremoved                                                                                                                                                                          \n",
       "1       both sides should just drop it  trump won   elections over  move on   linkremoved                                                                                                                                                                                                                   \n",
       "2        aapl lobbing threes while they can  wasnt it just a few years back when their platform was actually hacked and people private photos were exposed   linkremoved                                                                                                                                    \n",
       "3          min  rsi signals \\n\\n btc    slr      \\n btc    omni      \\n btc    rby      \\n btc    sphr       \\n btc    rdn       \\n btc    mco       \\n btc    vibe       \\n btc    adx       \\n btc    ppt       \\n\\n bitcoin  tokensale  smartcontract  eth  dapp  ltc  signals  rads  bigdata  litecoin  \n",
       "4        usernameremoved  hold facebook accountable for abusing our data and censoring our voice  vote no on the cra \\n\\n linkremoved                                                                                                                                                                       \n",
       "...                                                                                                                                ...                                                                                                                                                                      \n",
       "342395  marky zuckerberg is at it again     linkremoved                                                                                                                                                                                                                                                     \n",
       "342396  learn the basics of  hadoop security  in under   min     linkremoved   bigdata  datascience  linkremoved                                                                                                                                                                                            \n",
       "342397  facebook facing possible australian lawsuit over cambridge analytica privacy breaches  linkremoved    via  usernameremoved   linkremoved                                                                                                                                                            \n",
       "342398  ladies  amp  gents  quite the interesting explanation abt the current situation w trump from some  i m friends w on fb  now  if this is true  then it means that we won t even have   wait  til dems re take cong   start bringing down the right   linkremoved                                     \n",
       "342399  yesterday  the new york times  exposed the trump administration for bullying governments into weakening international safeguards that protect mothers and newborn babies from the infant formula industrys     linkremoved                                                                          \n",
       "\n",
       "[342400 rows x 4 columns]"
      ]
     },
     "execution_count": 100,
     "metadata": {},
     "output_type": "execute_result"
    }
   ],
   "source": [
    "df_topic_sents_keywords"
   ]
  },
  {
   "cell_type": "markdown",
   "metadata": {},
   "source": [
    "#  Find the most representative tweets for each topic"
   ]
  },
  {
   "cell_type": "code",
   "execution_count": 101,
   "metadata": {},
   "outputs": [
    {
     "data": {
      "text/html": [
       "<div>\n",
       "<style scoped>\n",
       "    .dataframe tbody tr th:only-of-type {\n",
       "        vertical-align: middle;\n",
       "    }\n",
       "\n",
       "    .dataframe tbody tr th {\n",
       "        vertical-align: top;\n",
       "    }\n",
       "\n",
       "    .dataframe thead th {\n",
       "        text-align: right;\n",
       "    }\n",
       "</style>\n",
       "<table border=\"1\" class=\"dataframe\">\n",
       "  <thead>\n",
       "    <tr style=\"text-align: right;\">\n",
       "      <th></th>\n",
       "      <th>Topic_Num</th>\n",
       "      <th>Topic_Perc_Contrib</th>\n",
       "      <th>Keywords</th>\n",
       "      <th>Text</th>\n",
       "    </tr>\n",
       "  </thead>\n",
       "  <tbody>\n",
       "    <tr>\n",
       "      <th>0</th>\n",
       "      <td>0.0</td>\n",
       "      <td>0.2848</td>\n",
       "      <td>facebook, delete, year, post, twitter, account, friend, page, follow, check</td>\n",
       "      <td>years it took for each product to reach    million users  \\n\\nautomobile    years \\ntelephone    years \\nelectricity    years \\ncredit card    years \\ntv    years \\natm    years \\ndebit card    years \\n internet   years \\n paypal   years \\n youtube   years\\n facebook   years\\n twitter   years  linkremoved</td>\n",
       "    </tr>\n",
       "    <tr>\n",
       "      <th>1</th>\n",
       "      <td>0.0</td>\n",
       "      <td>0.2672</td>\n",
       "      <td>facebook, delete, year, post, twitter, account, friend, page, follow, check</td>\n",
       "      <td>usernameremoved  my facebook privacy are set to max  i have  removed     of my pics   fb messenger was removed   months ago   my usage is down by       my friends rarely post anything what i am noticing is people are deleting a lot of pictures   also when they post they remove within a few hrs</td>\n",
       "    </tr>\n",
       "    <tr>\n",
       "      <th>2</th>\n",
       "      <td>0.0</td>\n",
       "      <td>0.2662</td>\n",
       "      <td>facebook, delete, year, post, twitter, account, friend, page, follow, check</td>\n",
       "      <td>hi jay \\n\\nwe have received a request to permanently delete your account  your account has been deactivated from the site and will be permanently deleted within    days  \\n\\nif you did not request  deletefacebook  ididit  yay</td>\n",
       "    </tr>\n",
       "    <tr>\n",
       "      <th>3</th>\n",
       "      <td>0.0</td>\n",
       "      <td>0.2642</td>\n",
       "      <td>facebook, delete, year, post, twitter, account, friend, page, follow, check</td>\n",
       "      <td>psa   in case you still have a facebook page and want to know how to delete your account here are the instructions another twitter follower shared  i successfully deleted my account this past weekend following these instructions   linkremoved</td>\n",
       "    </tr>\n",
       "    <tr>\n",
       "      <th>4</th>\n",
       "      <td>0.0</td>\n",
       "      <td>0.2619</td>\n",
       "      <td>facebook, delete, year, post, twitter, account, friend, page, follow, check</td>\n",
       "      <td>facebook  delete his text message thread and about to block his number from my phone when he texts me  he was like geez  you the one who didnt reply  and sent a screenshot of the last text message he sent  he did indeed replied to my text but i never got it  fuck imessage</td>\n",
       "    </tr>\n",
       "    <tr>\n",
       "      <th>...</th>\n",
       "      <td>...</td>\n",
       "      <td>...</td>\n",
       "      <td>...</td>\n",
       "      <td>...</td>\n",
       "    </tr>\n",
       "    <tr>\n",
       "      <th>1095</th>\n",
       "      <td>10.0</td>\n",
       "      <td>0.2108</td>\n",
       "      <td>question, today, medium, social, watch, live, talk, hear, testimony, hearing</td>\n",
       "      <td>facebook  zuckerberg arrives on capitol hill  vo mon      facebook chief executive mark zuckerberg is meeting with us lawmakers monday on capitol hill ahead of two days of congressional testimony set to start tuesday   linkremoved</td>\n",
       "    </tr>\n",
       "    <tr>\n",
       "      <th>1096</th>\n",
       "      <td>10.0</td>\n",
       "      <td>0.2106</td>\n",
       "      <td>question, today, medium, social, watch, live, talk, hear, testimony, hearing</td>\n",
       "      <td>today on the hill  facebook ceo mark zuckerberg is in the hot seat this afternoon  where he will face questions from    senators in a joint senate judiciary committee  amp  senate commerce committee hearing</td>\n",
       "    </tr>\n",
       "    <tr>\n",
       "      <th>1097</th>\n",
       "      <td>10.0</td>\n",
       "      <td>0.2099</td>\n",
       "      <td>question, today, medium, social, watch, live, talk, hear, testimony, hearing</td>\n",
       "      <td>usernameremoved   usernameremoved   usernameremoved   usernameremoved  tech   humanity   create wealth as new asset class \\n\\npersons asset class\\n\\n bigdata incomes wages based on intellectual conversion rates  based on not limited to  inputs outputs  proficiency  core median standard   stock tangible assets  social influences</td>\n",
       "    </tr>\n",
       "    <tr>\n",
       "      <th>1098</th>\n",
       "      <td>10.0</td>\n",
       "      <td>0.2095</td>\n",
       "      <td>question, today, medium, social, watch, live, talk, hear, testimony, hearing</td>\n",
       "      <td>still mad about the election \\n\\nday   of    days of comedy clips  \\n\\nnsfw\\n\\ntodays clip is the one thats at the beginning of the latest episode of unbothered by thai rivera  i talk about kanye  trump and this     linkremoved</td>\n",
       "    </tr>\n",
       "    <tr>\n",
       "      <th>1099</th>\n",
       "      <td>10.0</td>\n",
       "      <td>0.2091</td>\n",
       "      <td>question, today, medium, social, watch, live, talk, hear, testimony, hearing</td>\n",
       "      <td>facebook ceo mark zuckerberg is testifying before a joint hearing of the senate judiciary and commerce committees  watch live uninterrupted coverage now on ktvu plus or livestreaming on  linkremoved   linkremoved</td>\n",
       "    </tr>\n",
       "  </tbody>\n",
       "</table>\n",
       "<p>1100 rows × 4 columns</p>\n",
       "</div>"
      ],
      "text/plain": [
       "      Topic_Num  Topic_Perc_Contrib  \\\n",
       "0     0.0        0.2848               \n",
       "1     0.0        0.2672               \n",
       "2     0.0        0.2662               \n",
       "3     0.0        0.2642               \n",
       "4     0.0        0.2619               \n",
       "...   ...           ...               \n",
       "1095  10.0       0.2108               \n",
       "1096  10.0       0.2106               \n",
       "1097  10.0       0.2099               \n",
       "1098  10.0       0.2095               \n",
       "1099  10.0       0.2091               \n",
       "\n",
       "                                                                          Keywords  \\\n",
       "0     facebook, delete, year, post, twitter, account, friend, page, follow, check    \n",
       "1     facebook, delete, year, post, twitter, account, friend, page, follow, check    \n",
       "2     facebook, delete, year, post, twitter, account, friend, page, follow, check    \n",
       "3     facebook, delete, year, post, twitter, account, friend, page, follow, check    \n",
       "4     facebook, delete, year, post, twitter, account, friend, page, follow, check    \n",
       "...                                                                           ...    \n",
       "1095  question, today, medium, social, watch, live, talk, hear, testimony, hearing   \n",
       "1096  question, today, medium, social, watch, live, talk, hear, testimony, hearing   \n",
       "1097  question, today, medium, social, watch, live, talk, hear, testimony, hearing   \n",
       "1098  question, today, medium, social, watch, live, talk, hear, testimony, hearing   \n",
       "1099  question, today, medium, social, watch, live, talk, hear, testimony, hearing   \n",
       "\n",
       "                                                                                                                                                                                                                                                                                                                                            Text  \n",
       "0     years it took for each product to reach    million users  \\n\\nautomobile    years \\ntelephone    years \\nelectricity    years \\ncredit card    years \\ntv    years \\natm    years \\ndebit card    years \\n internet   years \\n paypal   years \\n youtube   years\\n facebook   years\\n twitter   years  linkremoved                          \n",
       "1      usernameremoved  my facebook privacy are set to max  i have  removed     of my pics   fb messenger was removed   months ago   my usage is down by       my friends rarely post anything what i am noticing is people are deleting a lot of pictures   also when they post they remove within a few hrs                                     \n",
       "2     hi jay \\n\\nwe have received a request to permanently delete your account  your account has been deactivated from the site and will be permanently deleted within    days  \\n\\nif you did not request  deletefacebook  ididit  yay                                                                                                           \n",
       "3     psa   in case you still have a facebook page and want to know how to delete your account here are the instructions another twitter follower shared  i successfully deleted my account this past weekend following these instructions   linkremoved                                                                                          \n",
       "4     facebook  delete his text message thread and about to block his number from my phone when he texts me  he was like geez  you the one who didnt reply  and sent a screenshot of the last text message he sent  he did indeed replied to my text but i never got it  fuck imessage                                                            \n",
       "...                                                                                                                                                                                                                                                                                 ...                                                           \n",
       "1095  facebook  zuckerberg arrives on capitol hill  vo mon      facebook chief executive mark zuckerberg is meeting with us lawmakers monday on capitol hill ahead of two days of congressional testimony set to start tuesday   linkremoved                                                                                                      \n",
       "1096  today on the hill  facebook ceo mark zuckerberg is in the hot seat this afternoon  where he will face questions from    senators in a joint senate judiciary committee  amp  senate commerce committee hearing                                                                                                                              \n",
       "1097   usernameremoved   usernameremoved   usernameremoved   usernameremoved  tech   humanity   create wealth as new asset class \\n\\npersons asset class\\n\\n bigdata incomes wages based on intellectual conversion rates  based on not limited to  inputs outputs  proficiency  core median standard   stock tangible assets  social influences  \n",
       "1098  still mad about the election \\n\\nday   of    days of comedy clips  \\n\\nnsfw\\n\\ntodays clip is the one thats at the beginning of the latest episode of unbothered by thai rivera  i talk about kanye  trump and this     linkremoved                                                                                                         \n",
       "1099  facebook ceo mark zuckerberg is testifying before a joint hearing of the senate judiciary and commerce committees  watch live uninterrupted coverage now on ktvu plus or livestreaming on  linkremoved   linkremoved                                                                                                                        \n",
       "\n",
       "[1100 rows x 4 columns]"
      ]
     },
     "execution_count": 101,
     "metadata": {},
     "output_type": "execute_result"
    }
   ],
   "source": [
    "# Group top 5 sentences under each topic\n",
    "numero_de_tweets_por_topico = 100\n",
    "\n",
    "\n",
    "sent_topics_sorteddf_mallet = pd.DataFrame()\n",
    "sent_topics_outdf_grpd = df_topic_sents_keywords.groupby('Dominant_Topic') # esta matriz contiene todos los tweets con el porcentaje de contribucion y max topico. se agrupa y se obtiene lo q queremos\n",
    "\n",
    "for i, grp in sent_topics_outdf_grpd:\n",
    "    sent_topics_sorteddf_mallet = pd.concat([sent_topics_sorteddf_mallet, \n",
    "                                             grp.sort_values(['Perc_Contribution'], ascending=False).head(numero_de_tweets_por_topico)], \n",
    "                                            axis=0)\n",
    "\n",
    "\n",
    "# Reset Index    \n",
    "sent_topics_sorteddf_mallet.reset_index(drop=True, inplace=True)\n",
    "\n",
    "# Format\n",
    "sent_topics_sorteddf_mallet.columns = ['Topic_Num', \"Topic_Perc_Contrib\", \"Keywords\", \"Text\"]\n",
    "\n",
    "# Show\n",
    "sent_topics_sorteddf_mallet\n"
   ]
  },
  {
   "cell_type": "code",
   "execution_count": 102,
   "metadata": {},
   "outputs": [
    {
     "data": {
      "text/html": [
       "<div>\n",
       "<style scoped>\n",
       "    .dataframe tbody tr th:only-of-type {\n",
       "        vertical-align: middle;\n",
       "    }\n",
       "\n",
       "    .dataframe tbody tr th {\n",
       "        vertical-align: top;\n",
       "    }\n",
       "\n",
       "    .dataframe thead th {\n",
       "        text-align: right;\n",
       "    }\n",
       "</style>\n",
       "<table border=\"1\" class=\"dataframe\">\n",
       "  <thead>\n",
       "    <tr style=\"text-align: right;\">\n",
       "      <th></th>\n",
       "      <th>Topic_Num</th>\n",
       "      <th>Topic_Perc_Contrib</th>\n",
       "      <th>Keywords</th>\n",
       "      <th>Text</th>\n",
       "    </tr>\n",
       "  </thead>\n",
       "  <tbody>\n",
       "    <tr>\n",
       "      <th>0</th>\n",
       "      <td>0.0</td>\n",
       "      <td>0.2848</td>\n",
       "      <td>facebook, delete, year, post, twitter, account, friend, page, follow, check</td>\n",
       "      <td>years it took for each product to reach    million users  \\n\\nautomobile    years \\ntelephone    years \\nelectricity    years \\ncredit card    years \\ntv    years \\natm    years \\ndebit card    years \\n internet   years \\n paypal   years \\n youtube   years\\n facebook   years\\n twitter   years  linkremoved</td>\n",
       "    </tr>\n",
       "    <tr>\n",
       "      <th>1</th>\n",
       "      <td>0.0</td>\n",
       "      <td>0.2672</td>\n",
       "      <td>facebook, delete, year, post, twitter, account, friend, page, follow, check</td>\n",
       "      <td>usernameremoved  my facebook privacy are set to max  i have  removed     of my pics   fb messenger was removed   months ago   my usage is down by       my friends rarely post anything what i am noticing is people are deleting a lot of pictures   also when they post they remove within a few hrs</td>\n",
       "    </tr>\n",
       "    <tr>\n",
       "      <th>2</th>\n",
       "      <td>0.0</td>\n",
       "      <td>0.2662</td>\n",
       "      <td>facebook, delete, year, post, twitter, account, friend, page, follow, check</td>\n",
       "      <td>hi jay \\n\\nwe have received a request to permanently delete your account  your account has been deactivated from the site and will be permanently deleted within    days  \\n\\nif you did not request  deletefacebook  ididit  yay</td>\n",
       "    </tr>\n",
       "    <tr>\n",
       "      <th>3</th>\n",
       "      <td>0.0</td>\n",
       "      <td>0.2642</td>\n",
       "      <td>facebook, delete, year, post, twitter, account, friend, page, follow, check</td>\n",
       "      <td>psa   in case you still have a facebook page and want to know how to delete your account here are the instructions another twitter follower shared  i successfully deleted my account this past weekend following these instructions   linkremoved</td>\n",
       "    </tr>\n",
       "    <tr>\n",
       "      <th>4</th>\n",
       "      <td>0.0</td>\n",
       "      <td>0.2619</td>\n",
       "      <td>facebook, delete, year, post, twitter, account, friend, page, follow, check</td>\n",
       "      <td>facebook  delete his text message thread and about to block his number from my phone when he texts me  he was like geez  you the one who didnt reply  and sent a screenshot of the last text message he sent  he did indeed replied to my text but i never got it  fuck imessage</td>\n",
       "    </tr>\n",
       "  </tbody>\n",
       "</table>\n",
       "</div>"
      ],
      "text/plain": [
       "   Topic_Num  Topic_Perc_Contrib  \\\n",
       "0  0.0        0.2848               \n",
       "1  0.0        0.2672               \n",
       "2  0.0        0.2662               \n",
       "3  0.0        0.2642               \n",
       "4  0.0        0.2619               \n",
       "\n",
       "                                                                      Keywords  \\\n",
       "0  facebook, delete, year, post, twitter, account, friend, page, follow, check   \n",
       "1  facebook, delete, year, post, twitter, account, friend, page, follow, check   \n",
       "2  facebook, delete, year, post, twitter, account, friend, page, follow, check   \n",
       "3  facebook, delete, year, post, twitter, account, friend, page, follow, check   \n",
       "4  facebook, delete, year, post, twitter, account, friend, page, follow, check   \n",
       "\n",
       "                                                                                                                                                                                                                                                                                                                  Text  \n",
       "0  years it took for each product to reach    million users  \\n\\nautomobile    years \\ntelephone    years \\nelectricity    years \\ncredit card    years \\ntv    years \\natm    years \\ndebit card    years \\n internet   years \\n paypal   years \\n youtube   years\\n facebook   years\\n twitter   years  linkremoved   \n",
       "1   usernameremoved  my facebook privacy are set to max  i have  removed     of my pics   fb messenger was removed   months ago   my usage is down by       my friends rarely post anything what i am noticing is people are deleting a lot of pictures   also when they post they remove within a few hrs              \n",
       "2  hi jay \\n\\nwe have received a request to permanently delete your account  your account has been deactivated from the site and will be permanently deleted within    days  \\n\\nif you did not request  deletefacebook  ididit  yay                                                                                    \n",
       "3  psa   in case you still have a facebook page and want to know how to delete your account here are the instructions another twitter follower shared  i successfully deleted my account this past weekend following these instructions   linkremoved                                                                   \n",
       "4  facebook  delete his text message thread and about to block his number from my phone when he texts me  he was like geez  you the one who didnt reply  and sent a screenshot of the last text message he sent  he did indeed replied to my text but i never got it  fuck imessage                                     "
      ]
     },
     "execution_count": 102,
     "metadata": {},
     "output_type": "execute_result"
    }
   ],
   "source": [
    "sent_topics_sorteddf_mallet.head()"
   ]
  },
  {
   "cell_type": "code",
   "execution_count": null,
   "metadata": {},
   "outputs": [],
   "source": []
  },
  {
   "cell_type": "code",
   "execution_count": 103,
   "metadata": {},
   "outputs": [],
   "source": [
    "sent_topics_sorteddf_mallet.rename(columns={\"Text\": \"clean_text\"},inplace=True)"
   ]
  },
  {
   "cell_type": "code",
   "execution_count": 104,
   "metadata": {},
   "outputs": [
    {
     "data": {
      "text/html": [
       "<div>\n",
       "<style scoped>\n",
       "    .dataframe tbody tr th:only-of-type {\n",
       "        vertical-align: middle;\n",
       "    }\n",
       "\n",
       "    .dataframe tbody tr th {\n",
       "        vertical-align: top;\n",
       "    }\n",
       "\n",
       "    .dataframe thead th {\n",
       "        text-align: right;\n",
       "    }\n",
       "</style>\n",
       "<table border=\"1\" class=\"dataframe\">\n",
       "  <thead>\n",
       "    <tr style=\"text-align: right;\">\n",
       "      <th></th>\n",
       "      <th>Topic_Num</th>\n",
       "      <th>Topic_Perc_Contrib</th>\n",
       "      <th>Keywords</th>\n",
       "      <th>clean_text</th>\n",
       "    </tr>\n",
       "  </thead>\n",
       "  <tbody>\n",
       "    <tr>\n",
       "      <th>0</th>\n",
       "      <td>0.0</td>\n",
       "      <td>0.2848</td>\n",
       "      <td>facebook, delete, year, post, twitter, account, friend, page, follow, check</td>\n",
       "      <td>years it took for each product to reach    million users  \\n\\nautomobile    years \\ntelephone    years \\nelectricity    years \\ncredit card    years \\ntv    years \\natm    years \\ndebit card    years \\n internet   years \\n paypal   years \\n youtube   years\\n facebook   years\\n twitter   years  linkremoved</td>\n",
       "    </tr>\n",
       "    <tr>\n",
       "      <th>1</th>\n",
       "      <td>0.0</td>\n",
       "      <td>0.2672</td>\n",
       "      <td>facebook, delete, year, post, twitter, account, friend, page, follow, check</td>\n",
       "      <td>usernameremoved  my facebook privacy are set to max  i have  removed     of my pics   fb messenger was removed   months ago   my usage is down by       my friends rarely post anything what i am noticing is people are deleting a lot of pictures   also when they post they remove within a few hrs</td>\n",
       "    </tr>\n",
       "    <tr>\n",
       "      <th>2</th>\n",
       "      <td>0.0</td>\n",
       "      <td>0.2662</td>\n",
       "      <td>facebook, delete, year, post, twitter, account, friend, page, follow, check</td>\n",
       "      <td>hi jay \\n\\nwe have received a request to permanently delete your account  your account has been deactivated from the site and will be permanently deleted within    days  \\n\\nif you did not request  deletefacebook  ididit  yay</td>\n",
       "    </tr>\n",
       "    <tr>\n",
       "      <th>3</th>\n",
       "      <td>0.0</td>\n",
       "      <td>0.2642</td>\n",
       "      <td>facebook, delete, year, post, twitter, account, friend, page, follow, check</td>\n",
       "      <td>psa   in case you still have a facebook page and want to know how to delete your account here are the instructions another twitter follower shared  i successfully deleted my account this past weekend following these instructions   linkremoved</td>\n",
       "    </tr>\n",
       "    <tr>\n",
       "      <th>4</th>\n",
       "      <td>0.0</td>\n",
       "      <td>0.2619</td>\n",
       "      <td>facebook, delete, year, post, twitter, account, friend, page, follow, check</td>\n",
       "      <td>facebook  delete his text message thread and about to block his number from my phone when he texts me  he was like geez  you the one who didnt reply  and sent a screenshot of the last text message he sent  he did indeed replied to my text but i never got it  fuck imessage</td>\n",
       "    </tr>\n",
       "    <tr>\n",
       "      <th>...</th>\n",
       "      <td>...</td>\n",
       "      <td>...</td>\n",
       "      <td>...</td>\n",
       "      <td>...</td>\n",
       "    </tr>\n",
       "    <tr>\n",
       "      <th>1095</th>\n",
       "      <td>10.0</td>\n",
       "      <td>0.2108</td>\n",
       "      <td>question, today, medium, social, watch, live, talk, hear, testimony, hearing</td>\n",
       "      <td>facebook  zuckerberg arrives on capitol hill  vo mon      facebook chief executive mark zuckerberg is meeting with us lawmakers monday on capitol hill ahead of two days of congressional testimony set to start tuesday   linkremoved</td>\n",
       "    </tr>\n",
       "    <tr>\n",
       "      <th>1096</th>\n",
       "      <td>10.0</td>\n",
       "      <td>0.2106</td>\n",
       "      <td>question, today, medium, social, watch, live, talk, hear, testimony, hearing</td>\n",
       "      <td>today on the hill  facebook ceo mark zuckerberg is in the hot seat this afternoon  where he will face questions from    senators in a joint senate judiciary committee  amp  senate commerce committee hearing</td>\n",
       "    </tr>\n",
       "    <tr>\n",
       "      <th>1097</th>\n",
       "      <td>10.0</td>\n",
       "      <td>0.2099</td>\n",
       "      <td>question, today, medium, social, watch, live, talk, hear, testimony, hearing</td>\n",
       "      <td>usernameremoved   usernameremoved   usernameremoved   usernameremoved  tech   humanity   create wealth as new asset class \\n\\npersons asset class\\n\\n bigdata incomes wages based on intellectual conversion rates  based on not limited to  inputs outputs  proficiency  core median standard   stock tangible assets  social influences</td>\n",
       "    </tr>\n",
       "    <tr>\n",
       "      <th>1098</th>\n",
       "      <td>10.0</td>\n",
       "      <td>0.2095</td>\n",
       "      <td>question, today, medium, social, watch, live, talk, hear, testimony, hearing</td>\n",
       "      <td>still mad about the election \\n\\nday   of    days of comedy clips  \\n\\nnsfw\\n\\ntodays clip is the one thats at the beginning of the latest episode of unbothered by thai rivera  i talk about kanye  trump and this     linkremoved</td>\n",
       "    </tr>\n",
       "    <tr>\n",
       "      <th>1099</th>\n",
       "      <td>10.0</td>\n",
       "      <td>0.2091</td>\n",
       "      <td>question, today, medium, social, watch, live, talk, hear, testimony, hearing</td>\n",
       "      <td>facebook ceo mark zuckerberg is testifying before a joint hearing of the senate judiciary and commerce committees  watch live uninterrupted coverage now on ktvu plus or livestreaming on  linkremoved   linkremoved</td>\n",
       "    </tr>\n",
       "  </tbody>\n",
       "</table>\n",
       "<p>1100 rows × 4 columns</p>\n",
       "</div>"
      ],
      "text/plain": [
       "      Topic_Num  Topic_Perc_Contrib  \\\n",
       "0     0.0        0.2848               \n",
       "1     0.0        0.2672               \n",
       "2     0.0        0.2662               \n",
       "3     0.0        0.2642               \n",
       "4     0.0        0.2619               \n",
       "...   ...           ...               \n",
       "1095  10.0       0.2108               \n",
       "1096  10.0       0.2106               \n",
       "1097  10.0       0.2099               \n",
       "1098  10.0       0.2095               \n",
       "1099  10.0       0.2091               \n",
       "\n",
       "                                                                          Keywords  \\\n",
       "0     facebook, delete, year, post, twitter, account, friend, page, follow, check    \n",
       "1     facebook, delete, year, post, twitter, account, friend, page, follow, check    \n",
       "2     facebook, delete, year, post, twitter, account, friend, page, follow, check    \n",
       "3     facebook, delete, year, post, twitter, account, friend, page, follow, check    \n",
       "4     facebook, delete, year, post, twitter, account, friend, page, follow, check    \n",
       "...                                                                           ...    \n",
       "1095  question, today, medium, social, watch, live, talk, hear, testimony, hearing   \n",
       "1096  question, today, medium, social, watch, live, talk, hear, testimony, hearing   \n",
       "1097  question, today, medium, social, watch, live, talk, hear, testimony, hearing   \n",
       "1098  question, today, medium, social, watch, live, talk, hear, testimony, hearing   \n",
       "1099  question, today, medium, social, watch, live, talk, hear, testimony, hearing   \n",
       "\n",
       "                                                                                                                                                                                                                                                                                                                                      clean_text  \n",
       "0     years it took for each product to reach    million users  \\n\\nautomobile    years \\ntelephone    years \\nelectricity    years \\ncredit card    years \\ntv    years \\natm    years \\ndebit card    years \\n internet   years \\n paypal   years \\n youtube   years\\n facebook   years\\n twitter   years  linkremoved                          \n",
       "1      usernameremoved  my facebook privacy are set to max  i have  removed     of my pics   fb messenger was removed   months ago   my usage is down by       my friends rarely post anything what i am noticing is people are deleting a lot of pictures   also when they post they remove within a few hrs                                     \n",
       "2     hi jay \\n\\nwe have received a request to permanently delete your account  your account has been deactivated from the site and will be permanently deleted within    days  \\n\\nif you did not request  deletefacebook  ididit  yay                                                                                                           \n",
       "3     psa   in case you still have a facebook page and want to know how to delete your account here are the instructions another twitter follower shared  i successfully deleted my account this past weekend following these instructions   linkremoved                                                                                          \n",
       "4     facebook  delete his text message thread and about to block his number from my phone when he texts me  he was like geez  you the one who didnt reply  and sent a screenshot of the last text message he sent  he did indeed replied to my text but i never got it  fuck imessage                                                            \n",
       "...                                                                                                                                                                                                                                                                                 ...                                                           \n",
       "1095  facebook  zuckerberg arrives on capitol hill  vo mon      facebook chief executive mark zuckerberg is meeting with us lawmakers monday on capitol hill ahead of two days of congressional testimony set to start tuesday   linkremoved                                                                                                      \n",
       "1096  today on the hill  facebook ceo mark zuckerberg is in the hot seat this afternoon  where he will face questions from    senators in a joint senate judiciary committee  amp  senate commerce committee hearing                                                                                                                              \n",
       "1097   usernameremoved   usernameremoved   usernameremoved   usernameremoved  tech   humanity   create wealth as new asset class \\n\\npersons asset class\\n\\n bigdata incomes wages based on intellectual conversion rates  based on not limited to  inputs outputs  proficiency  core median standard   stock tangible assets  social influences  \n",
       "1098  still mad about the election \\n\\nday   of    days of comedy clips  \\n\\nnsfw\\n\\ntodays clip is the one thats at the beginning of the latest episode of unbothered by thai rivera  i talk about kanye  trump and this     linkremoved                                                                                                         \n",
       "1099  facebook ceo mark zuckerberg is testifying before a joint hearing of the senate judiciary and commerce committees  watch live uninterrupted coverage now on ktvu plus or livestreaming on  linkremoved   linkremoved                                                                                                                        \n",
       "\n",
       "[1100 rows x 4 columns]"
      ]
     },
     "execution_count": 104,
     "metadata": {},
     "output_type": "execute_result"
    }
   ],
   "source": [
    "sent_topics_sorteddf_mallet"
   ]
  },
  {
   "cell_type": "markdown",
   "metadata": {},
   "source": [
    "# find original text - username- created at"
   ]
  },
  {
   "cell_type": "code",
   "execution_count": null,
   "metadata": {},
   "outputs": [],
   "source": []
  },
  {
   "cell_type": "code",
   "execution_count": 105,
   "metadata": {},
   "outputs": [],
   "source": [
    "sent_topics_sorteddf_mallet = pd.merge(sent_topics_sorteddf_mallet, df, on='clean_text', how='left')\n"
   ]
  },
  {
   "cell_type": "code",
   "execution_count": 106,
   "metadata": {},
   "outputs": [],
   "source": [
    "from datetime import datetime"
   ]
  },
  {
   "cell_type": "code",
   "execution_count": 107,
   "metadata": {},
   "outputs": [],
   "source": [
    "#ignorar para la vis por ahora\n",
    "#sent_topics_sorteddf_mallet.to_csv(\"Topic_Modeling_num_topics_\"+str(num_topic)+\"_\"+datetime.now().strftime(\"%Y_%m_%d_%H_%M\")+\".csv\")"
   ]
  },
  {
   "cell_type": "code",
   "execution_count": 108,
   "metadata": {},
   "outputs": [
    {
     "data": {
      "text/html": [
       "<div>\n",
       "<style scoped>\n",
       "    .dataframe tbody tr th:only-of-type {\n",
       "        vertical-align: middle;\n",
       "    }\n",
       "\n",
       "    .dataframe tbody tr th {\n",
       "        vertical-align: top;\n",
       "    }\n",
       "\n",
       "    .dataframe thead th {\n",
       "        text-align: right;\n",
       "    }\n",
       "</style>\n",
       "<table border=\"1\" class=\"dataframe\">\n",
       "  <thead>\n",
       "    <tr style=\"text-align: right;\">\n",
       "      <th></th>\n",
       "      <th>Topic_Num</th>\n",
       "      <th>Topic_Perc_Contrib</th>\n",
       "      <th>Keywords</th>\n",
       "      <th>clean_text</th>\n",
       "      <th>Unnamed: 0</th>\n",
       "      <th>created_at2</th>\n",
       "      <th>id</th>\n",
       "      <th>created_at</th>\n",
       "      <th>user.screen_name</th>\n",
       "      <th>user_location</th>\n",
       "      <th>coordinates</th>\n",
       "      <th>text</th>\n",
       "      <th>full_text</th>\n",
       "      <th>retweet_created_at</th>\n",
       "      <th>retweet_full_text</th>\n",
       "      <th>texto_completo</th>\n",
       "      <th>ubicacion_encontrada</th>\n",
       "    </tr>\n",
       "  </thead>\n",
       "  <tbody>\n",
       "    <tr>\n",
       "      <th>0</th>\n",
       "      <td>0.0</td>\n",
       "      <td>0.2848</td>\n",
       "      <td>facebook, delete, year, post, twitter, account, friend, page, follow, check</td>\n",
       "      <td>years it took for each product to reach    million users  \\n\\nautomobile    years \\ntelephone    years \\nelectricity    years \\ncredit card    years \\ntv    years \\natm    years \\ndebit card    years \\n internet   years \\n paypal   years \\n youtube   years\\n facebook   years\\n twitter   years  linkremoved</td>\n",
       "      <td>125172</td>\n",
       "      <td>2018-04-07</td>\n",
       "      <td>id-982708772295577600</td>\n",
       "      <td>Sat Apr 07 19:56:43 +0000 2018</td>\n",
       "      <td>GaryDower</td>\n",
       "      <td>Tyler, TX</td>\n",
       "      <td>NaN</td>\n",
       "      <td>Years it took for each product to reach 50 million users: \\n\\nAutomobile 62 years \\nTelephone 50 years \\nElectricity 46 years \\nCredit card 28 years \\nTV 22 years \\nATM 18 years \\nDebit card 12 years \\n#Internet 7 years \\n#PayPal 5 years \\n#YouTube 4 years\\n#Facebook 3 years\\n#Twitter 2 years &lt;linkremoved&gt;</td>\n",
       "      <td>Years it took for each product to reach 50 million users: \\n\\nAutomobile 62 years \\nTelephone 50 years \\nElectricity 46 years \\nCredit card 28 years \\nTV 22 years \\nATM 18 years \\nDebit card 12 years \\n#Internet 7 years \\n#PayPal 5 years \\n#YouTube 4 years\\n#Facebook 3 years\\n#Twitter 2 years https://t.co/JO2nW2X2c2</td>\n",
       "      <td>NaN</td>\n",
       "      <td>NaN</td>\n",
       "      <td>Years it took for each product to reach 50 million users: \\n\\nAutomobile 62 years \\nTelephone 50 years \\nElectricity 46 years \\nCredit card 28 years \\nTV 22 years \\nATM 18 years \\nDebit card 12 years \\n#Internet 7 years \\n#PayPal 5 years \\n#YouTube 4 years\\n#Facebook 3 years\\n#Twitter 2 years &lt;link removed&gt;</td>\n",
       "      <td>United States</td>\n",
       "    </tr>\n",
       "    <tr>\n",
       "      <th>1</th>\n",
       "      <td>0.0</td>\n",
       "      <td>0.2672</td>\n",
       "      <td>facebook, delete, year, post, twitter, account, friend, page, follow, check</td>\n",
       "      <td>usernameremoved  my facebook privacy are set to max  i have  removed     of my pics   fb messenger was removed   months ago   my usage is down by       my friends rarely post anything what i am noticing is people are deleting a lot of pictures   also when they post they remove within a few hrs</td>\n",
       "      <td>149558</td>\n",
       "      <td>2018-04-09</td>\n",
       "      <td>id-983146099857747968</td>\n",
       "      <td>Mon Apr 09 00:54:30 +0000 2018</td>\n",
       "      <td>CardyTruster</td>\n",
       "      <td>Canada</td>\n",
       "      <td>NaN</td>\n",
       "      <td>&lt;usernameremoved&gt; My Facebook privacy are set to max. I have  removed 80% of my pics , FB messenger was removed 5 months ago , my usage is down by 70% . my friends rarely post anything.What I am noticing is people are deleting a lot of pictures . Also when they post they remove within a few hrs.</td>\n",
       "      <td>@andrewrsorkin My Facebook privacy are set to max. I have  removed 80% of my pics , FB messenger was removed 5 months ago , my usage is down by 70% . my friends rarely post anything.What I am noticing is people are deleting a lot of pictures . Also when they post they remove within a few hrs.</td>\n",
       "      <td>NaN</td>\n",
       "      <td>NaN</td>\n",
       "      <td>&lt;usernameremoved&gt; My Facebook privacy are set to max. I have  removed 80% of my pics , FB messenger was removed 5 months ago , my usage is down by 70% . my friends rarely post anything.What I am noticing is people are deleting a lot of pictures . Also when they post they remove within a few hrs.</td>\n",
       "      <td>Canada</td>\n",
       "    </tr>\n",
       "    <tr>\n",
       "      <th>2</th>\n",
       "      <td>0.0</td>\n",
       "      <td>0.2662</td>\n",
       "      <td>facebook, delete, year, post, twitter, account, friend, page, follow, check</td>\n",
       "      <td>hi jay \\n\\nwe have received a request to permanently delete your account  your account has been deactivated from the site and will be permanently deleted within    days  \\n\\nif you did not request  deletefacebook  ididit  yay</td>\n",
       "      <td>203012</td>\n",
       "      <td>2018-04-10</td>\n",
       "      <td>id-983533588279889920</td>\n",
       "      <td>Tue Apr 10 02:34:15 +0000 2018</td>\n",
       "      <td>jhannah469</td>\n",
       "      <td>Apopka, FL</td>\n",
       "      <td>NaN</td>\n",
       "      <td>Hi Jay,\\n\\nWe have received a request to permanently delete your account. Your account has been deactivated from the site and will be permanently deleted within 14 days. \\n\\nIf you did not request #DeleteFacebook #IDidIt #Yay</td>\n",
       "      <td>Hi Jay,\\n\\nWe have received a request to permanently delete your account. Your account has been deactivated from the site and will be permanently deleted within 14 days. \\n\\nIf you did not request #DeleteFacebook #IDidIt #Yay</td>\n",
       "      <td>NaN</td>\n",
       "      <td>NaN</td>\n",
       "      <td>Hi Jay,\\n\\nWe have received a request to permanently delete your account. Your account has been deactivated from the site and will be permanently deleted within 14 days. \\n\\nIf you did not request #DeleteFacebook #IDidIt #Yay</td>\n",
       "      <td>United States</td>\n",
       "    </tr>\n",
       "    <tr>\n",
       "      <th>3</th>\n",
       "      <td>0.0</td>\n",
       "      <td>0.2642</td>\n",
       "      <td>facebook, delete, year, post, twitter, account, friend, page, follow, check</td>\n",
       "      <td>psa   in case you still have a facebook page and want to know how to delete your account here are the instructions another twitter follower shared  i successfully deleted my account this past weekend following these instructions   linkremoved</td>\n",
       "      <td>76514</td>\n",
       "      <td>2018-04-05</td>\n",
       "      <td>id-981935297964511232</td>\n",
       "      <td>Thu Apr 05 16:43:13 +0000 2018</td>\n",
       "      <td>Lulukonen</td>\n",
       "      <td>Forgotten USA</td>\n",
       "      <td>NaN</td>\n",
       "      <td>PSA!! In case you still have a Facebook page and want to know how to delete your account here are the instructions another Twitter follower shared. I successfully deleted my account this past weekend following these instructions. &lt;linkremoved&gt;</td>\n",
       "      <td>PSA!! In case you still have a Facebook page and want to know how to delete your account here are the instructions another Twitter follower shared. I successfully deleted my account this past weekend following these instructions. https://t.co/FWhdvfRFNK</td>\n",
       "      <td>NaN</td>\n",
       "      <td>NaN</td>\n",
       "      <td>PSA!! In case you still have a Facebook page and want to know how to delete your account here are the instructions another Twitter follower shared. I successfully deleted my account this past weekend following these instructions. &lt;link removed&gt;</td>\n",
       "      <td>United States</td>\n",
       "    </tr>\n",
       "    <tr>\n",
       "      <th>4</th>\n",
       "      <td>0.0</td>\n",
       "      <td>0.2619</td>\n",
       "      <td>facebook, delete, year, post, twitter, account, friend, page, follow, check</td>\n",
       "      <td>facebook  delete his text message thread and about to block his number from my phone when he texts me  he was like geez  you the one who didnt reply  and sent a screenshot of the last text message he sent  he did indeed replied to my text but i never got it  fuck imessage</td>\n",
       "      <td>83414</td>\n",
       "      <td>2018-04-05</td>\n",
       "      <td>id-981791351430721536</td>\n",
       "      <td>Thu Apr 05 07:11:13 +0000 2018</td>\n",
       "      <td>_kimmmbo</td>\n",
       "      <td>Norwalk, Ca</td>\n",
       "      <td>NaN</td>\n",
       "      <td>Facebook, delete his text message thread and about to block his number from my phone when he texts me. He was like Geez, you the one who didnt reply. And sent a screenshot of the last text message he sent. He did indeed replied to my text but I never got it (Fuck iMessage)</td>\n",
       "      <td>Facebook, delete his text message thread and about to block his number from my phone when he texts me. He was like Geez, you the one who didnt reply. And sent a screenshot of the last text message he sent. He did indeed replied to my text but I never got it (Fuck iMessage)</td>\n",
       "      <td>NaN</td>\n",
       "      <td>NaN</td>\n",
       "      <td>Facebook, delete his text message thread and about to block his number from my phone when he texts me. He was like Geez, you the one who didnt reply. And sent a screenshot of the last text message he sent. He did indeed replied to my text but I never got it (Fuck iMessage)</td>\n",
       "      <td>United States</td>\n",
       "    </tr>\n",
       "    <tr>\n",
       "      <th>...</th>\n",
       "      <td>...</td>\n",
       "      <td>...</td>\n",
       "      <td>...</td>\n",
       "      <td>...</td>\n",
       "      <td>...</td>\n",
       "      <td>...</td>\n",
       "      <td>...</td>\n",
       "      <td>...</td>\n",
       "      <td>...</td>\n",
       "      <td>...</td>\n",
       "      <td>...</td>\n",
       "      <td>...</td>\n",
       "      <td>...</td>\n",
       "      <td>...</td>\n",
       "      <td>...</td>\n",
       "      <td>...</td>\n",
       "      <td>...</td>\n",
       "    </tr>\n",
       "    <tr>\n",
       "      <th>1105</th>\n",
       "      <td>10.0</td>\n",
       "      <td>0.2108</td>\n",
       "      <td>question, today, medium, social, watch, live, talk, hear, testimony, hearing</td>\n",
       "      <td>facebook  zuckerberg arrives on capitol hill  vo mon      facebook chief executive mark zuckerberg is meeting with us lawmakers monday on capitol hill ahead of two days of congressional testimony set to start tuesday   linkremoved</td>\n",
       "      <td>156202</td>\n",
       "      <td>2018-04-09</td>\n",
       "      <td>id-983376169000202241</td>\n",
       "      <td>Mon Apr 09 16:08:43 +0000 2018</td>\n",
       "      <td>cbsnewspath</td>\n",
       "      <td>New York, NY</td>\n",
       "      <td>NaN</td>\n",
       "      <td>FACEBOOK- ZUCKERBERG ARRIVES ON CAPITOL HILL- VO MON0140- Facebook Chief Executive Mark Zuckerberg is meeting with US lawmakers Monday on Capitol Hill ahead of two days of congressional testimony set to start Tuesday. &lt;linkremoved&gt;</td>\n",
       "      <td>FACEBOOK- ZUCKERBERG ARRIVES ON CAPITOL HILL- VO MON0140- Facebook Chief Executive Mark Zuckerberg is meeting with US lawmakers Monday on Capitol Hill ahead of two days of congressional testimony set to start Tuesday. https://t.co/oV18fWYn1M</td>\n",
       "      <td>NaN</td>\n",
       "      <td>NaN</td>\n",
       "      <td>FACEBOOK- ZUCKERBERG ARRIVES ON CAPITOL HILL- VO MON0140- Facebook Chief Executive Mark Zuckerberg is meeting with US lawmakers Monday on Capitol Hill ahead of two days of congressional testimony set to start Tuesday. &lt;link removed&gt;</td>\n",
       "      <td>United States</td>\n",
       "    </tr>\n",
       "    <tr>\n",
       "      <th>1106</th>\n",
       "      <td>10.0</td>\n",
       "      <td>0.2106</td>\n",
       "      <td>question, today, medium, social, watch, live, talk, hear, testimony, hearing</td>\n",
       "      <td>today on the hill  facebook ceo mark zuckerberg is in the hot seat this afternoon  where he will face questions from    senators in a joint senate judiciary committee  amp  senate commerce committee hearing</td>\n",
       "      <td>185726</td>\n",
       "      <td>2018-04-10</td>\n",
       "      <td>id-983680576774459393</td>\n",
       "      <td>Tue Apr 10 12:18:20 +0000 2018</td>\n",
       "      <td>MariannaNBCNews</td>\n",
       "      <td>Washington, DC</td>\n",
       "      <td>NaN</td>\n",
       "      <td>Today on the Hill: Facebook CEO Mark Zuckerberg is in the hot seat this afternoon, where he will face questions from 43 senators in a joint Senate Judiciary Committee &amp;amp; Senate Commerce Committee hearing.</td>\n",
       "      <td>Today on the Hill: Facebook CEO Mark Zuckerberg is in the hot seat this afternoon, where he will face questions from 43 senators in a joint Senate Judiciary Committee &amp;amp; Senate Commerce Committee hearing.</td>\n",
       "      <td>NaN</td>\n",
       "      <td>NaN</td>\n",
       "      <td>Today on the Hill: Facebook CEO Mark Zuckerberg is in the hot seat this afternoon, where he will face questions from 43 senators in a joint Senate Judiciary Committee &amp;amp; Senate Commerce Committee hearing.</td>\n",
       "      <td>United States</td>\n",
       "    </tr>\n",
       "    <tr>\n",
       "      <th>1107</th>\n",
       "      <td>10.0</td>\n",
       "      <td>0.2099</td>\n",
       "      <td>question, today, medium, social, watch, live, talk, hear, testimony, hearing</td>\n",
       "      <td>usernameremoved   usernameremoved   usernameremoved   usernameremoved  tech   humanity   create wealth as new asset class \\n\\npersons asset class\\n\\n bigdata incomes wages based on intellectual conversion rates  based on not limited to  inputs outputs  proficiency  core median standard   stock tangible assets  social influences</td>\n",
       "      <td>930705</td>\n",
       "      <td>2018-06-30</td>\n",
       "      <td>id-1013179457912205312</td>\n",
       "      <td>Sat Jun 30 21:56:21 +0000 2018</td>\n",
       "      <td>matthew_ashburn</td>\n",
       "      <td>Beverly Hills, CA</td>\n",
       "      <td>NaN</td>\n",
       "      <td>&lt;usernameremoved&gt; &lt;usernameremoved&gt; &lt;usernameremoved&gt; &lt;usernameremoved&gt; Tech + Humanity , create wealth as new asset class:\\n\\nPersons Asset Class\\n\\n#Bigdata incomes/wages based on Intellectual conversion rates (based on,not limited to) Inputs/Outputs, Proficiency (Core,Median,Standard), Stock/Tangible Assets, Social Influences</td>\n",
       "      <td>@scottsantens @impcapital @adamscrabble @basicincome Tech + Humanity , create wealth as new asset class:\\n\\nPersons Asset Class\\n\\n#Bigdata incomes/wages based on Intellectual conversion rates (based on,not limited to) Inputs/Outputs, Proficiency (Core,Median,Standard), Stock/Tangible Assets, Social Influences</td>\n",
       "      <td>NaN</td>\n",
       "      <td>NaN</td>\n",
       "      <td>&lt;usernameremoved&gt; &lt;usernameremoved&gt; &lt;usernameremoved&gt; &lt;usernameremoved&gt; Tech + Humanity , create wealth as new asset class:\\n\\nPersons Asset Class\\n\\n#Bigdata incomes/wages based on Intellectual conversion rates (based on,not limited to) Inputs/Outputs, Proficiency (Core,Median,Standard), Stock/Tangible Assets, Social Influences</td>\n",
       "      <td>United States</td>\n",
       "    </tr>\n",
       "    <tr>\n",
       "      <th>1108</th>\n",
       "      <td>10.0</td>\n",
       "      <td>0.2095</td>\n",
       "      <td>question, today, medium, social, watch, live, talk, hear, testimony, hearing</td>\n",
       "      <td>still mad about the election \\n\\nday   of    days of comedy clips  \\n\\nnsfw\\n\\ntodays clip is the one thats at the beginning of the latest episode of unbothered by thai rivera  i talk about kanye  trump and this     linkremoved</td>\n",
       "      <td>543322</td>\n",
       "      <td>2018-04-27</td>\n",
       "      <td>id-989657372674220032</td>\n",
       "      <td>Fri Apr 27 00:07:59 +0000 2018</td>\n",
       "      <td>ThaiRivera</td>\n",
       "      <td>Los Angeles, CA</td>\n",
       "      <td>NaN</td>\n",
       "      <td>Still Mad About the Election \\n\\nDay 7 of 30 days of comedy clips. \\n\\nNSFW\\n\\nTodays clip is the one thats at the beginning of the LATEST EPISODE of Unbothered by Thai Rivera. I talk about Kanye, Trump and this... &lt;linkremoved&gt;</td>\n",
       "      <td>Still Mad About the Election \\n\\nDay 7 of 30 days of comedy clips. \\n\\nNSFW\\n\\nTodays clip is the one thats at the beginning of the LATEST EPISODE of Unbothered by Thai Rivera. I talk about Kanye, Trump and this... https://t.co/Omj6A3QEtz</td>\n",
       "      <td>NaN</td>\n",
       "      <td>NaN</td>\n",
       "      <td>Still Mad About the Election \\n\\nDay 7 of 30 days of comedy clips. \\n\\nNSFW\\n\\nTodays clip is the one thats at the beginning of the LATEST EPISODE of Unbothered by Thai Rivera. I talk about Kanye, Trump and this... &lt;link removed&gt;</td>\n",
       "      <td>United States</td>\n",
       "    </tr>\n",
       "    <tr>\n",
       "      <th>1109</th>\n",
       "      <td>10.0</td>\n",
       "      <td>0.2091</td>\n",
       "      <td>question, today, medium, social, watch, live, talk, hear, testimony, hearing</td>\n",
       "      <td>facebook ceo mark zuckerberg is testifying before a joint hearing of the senate judiciary and commerce committees  watch live uninterrupted coverage now on ktvu plus or livestreaming on  linkremoved   linkremoved</td>\n",
       "      <td>235548</td>\n",
       "      <td>2018-04-10</td>\n",
       "      <td>id-983775504850284544</td>\n",
       "      <td>Tue Apr 10 18:35:32 +0000 2018</td>\n",
       "      <td>KTVU</td>\n",
       "      <td>Oakland, CA</td>\n",
       "      <td>NaN</td>\n",
       "      <td>Facebook CEO Mark Zuckerberg is testifying before a joint hearing of the senate judiciary and commerce committees. Watch live uninterrupted coverage now on KTVU Plus or livestreaming on &lt;linkremoved&gt; &lt;linkremoved&gt;</td>\n",
       "      <td>Facebook CEO Mark Zuckerberg is testifying before a joint hearing of the senate judiciary and commerce committees. Watch live uninterrupted coverage now on KTVU Plus or livestreaming on https://t.co/wGGTF7wiOS https://t.co/isHHiIbzWZ</td>\n",
       "      <td>NaN</td>\n",
       "      <td>NaN</td>\n",
       "      <td>Facebook CEO Mark Zuckerberg is testifying before a joint hearing of the senate judiciary and commerce committees. Watch live uninterrupted coverage now on KTVU Plus or livestreaming on &lt;link removed&gt; &lt;link removed&gt;</td>\n",
       "      <td>United States</td>\n",
       "    </tr>\n",
       "  </tbody>\n",
       "</table>\n",
       "<p>1110 rows × 17 columns</p>\n",
       "</div>"
      ],
      "text/plain": [
       "      Topic_Num  Topic_Perc_Contrib  \\\n",
       "0     0.0        0.2848               \n",
       "1     0.0        0.2672               \n",
       "2     0.0        0.2662               \n",
       "3     0.0        0.2642               \n",
       "4     0.0        0.2619               \n",
       "...   ...           ...               \n",
       "1105  10.0       0.2108               \n",
       "1106  10.0       0.2106               \n",
       "1107  10.0       0.2099               \n",
       "1108  10.0       0.2095               \n",
       "1109  10.0       0.2091               \n",
       "\n",
       "                                                                          Keywords  \\\n",
       "0     facebook, delete, year, post, twitter, account, friend, page, follow, check    \n",
       "1     facebook, delete, year, post, twitter, account, friend, page, follow, check    \n",
       "2     facebook, delete, year, post, twitter, account, friend, page, follow, check    \n",
       "3     facebook, delete, year, post, twitter, account, friend, page, follow, check    \n",
       "4     facebook, delete, year, post, twitter, account, friend, page, follow, check    \n",
       "...                                                                           ...    \n",
       "1105  question, today, medium, social, watch, live, talk, hear, testimony, hearing   \n",
       "1106  question, today, medium, social, watch, live, talk, hear, testimony, hearing   \n",
       "1107  question, today, medium, social, watch, live, talk, hear, testimony, hearing   \n",
       "1108  question, today, medium, social, watch, live, talk, hear, testimony, hearing   \n",
       "1109  question, today, medium, social, watch, live, talk, hear, testimony, hearing   \n",
       "\n",
       "                                                                                                                                                                                                                                                                                                                                      clean_text  \\\n",
       "0     years it took for each product to reach    million users  \\n\\nautomobile    years \\ntelephone    years \\nelectricity    years \\ncredit card    years \\ntv    years \\natm    years \\ndebit card    years \\n internet   years \\n paypal   years \\n youtube   years\\n facebook   years\\n twitter   years  linkremoved                           \n",
       "1      usernameremoved  my facebook privacy are set to max  i have  removed     of my pics   fb messenger was removed   months ago   my usage is down by       my friends rarely post anything what i am noticing is people are deleting a lot of pictures   also when they post they remove within a few hrs                                      \n",
       "2     hi jay \\n\\nwe have received a request to permanently delete your account  your account has been deactivated from the site and will be permanently deleted within    days  \\n\\nif you did not request  deletefacebook  ididit  yay                                                                                                            \n",
       "3     psa   in case you still have a facebook page and want to know how to delete your account here are the instructions another twitter follower shared  i successfully deleted my account this past weekend following these instructions   linkremoved                                                                                           \n",
       "4     facebook  delete his text message thread and about to block his number from my phone when he texts me  he was like geez  you the one who didnt reply  and sent a screenshot of the last text message he sent  he did indeed replied to my text but i never got it  fuck imessage                                                             \n",
       "...                                                                                                                                                                                                                                                                                 ...                                                            \n",
       "1105  facebook  zuckerberg arrives on capitol hill  vo mon      facebook chief executive mark zuckerberg is meeting with us lawmakers monday on capitol hill ahead of two days of congressional testimony set to start tuesday   linkremoved                                                                                                       \n",
       "1106  today on the hill  facebook ceo mark zuckerberg is in the hot seat this afternoon  where he will face questions from    senators in a joint senate judiciary committee  amp  senate commerce committee hearing                                                                                                                               \n",
       "1107   usernameremoved   usernameremoved   usernameremoved   usernameremoved  tech   humanity   create wealth as new asset class \\n\\npersons asset class\\n\\n bigdata incomes wages based on intellectual conversion rates  based on not limited to  inputs outputs  proficiency  core median standard   stock tangible assets  social influences   \n",
       "1108  still mad about the election \\n\\nday   of    days of comedy clips  \\n\\nnsfw\\n\\ntodays clip is the one thats at the beginning of the latest episode of unbothered by thai rivera  i talk about kanye  trump and this     linkremoved                                                                                                          \n",
       "1109  facebook ceo mark zuckerberg is testifying before a joint hearing of the senate judiciary and commerce committees  watch live uninterrupted coverage now on ktvu plus or livestreaming on  linkremoved   linkremoved                                                                                                                         \n",
       "\n",
       "      Unnamed: 0 created_at2                      id  \\\n",
       "0     125172      2018-04-07  id-982708772295577600    \n",
       "1     149558      2018-04-09  id-983146099857747968    \n",
       "2     203012      2018-04-10  id-983533588279889920    \n",
       "3     76514       2018-04-05  id-981935297964511232    \n",
       "4     83414       2018-04-05  id-981791351430721536    \n",
       "...     ...              ...                    ...    \n",
       "1105  156202      2018-04-09  id-983376169000202241    \n",
       "1106  185726      2018-04-10  id-983680576774459393    \n",
       "1107  930705      2018-06-30  id-1013179457912205312   \n",
       "1108  543322      2018-04-27  id-989657372674220032    \n",
       "1109  235548      2018-04-10  id-983775504850284544    \n",
       "\n",
       "                          created_at user.screen_name      user_location  \\\n",
       "0     Sat Apr 07 19:56:43 +0000 2018  GaryDower        Tyler, TX           \n",
       "1     Mon Apr 09 00:54:30 +0000 2018  CardyTruster     Canada              \n",
       "2     Tue Apr 10 02:34:15 +0000 2018  jhannah469       Apopka, FL          \n",
       "3     Thu Apr 05 16:43:13 +0000 2018  Lulukonen        Forgotten USA       \n",
       "4     Thu Apr 05 07:11:13 +0000 2018  _kimmmbo         Norwalk, Ca         \n",
       "...                              ...       ...                 ...         \n",
       "1105  Mon Apr 09 16:08:43 +0000 2018  cbsnewspath      New York, NY        \n",
       "1106  Tue Apr 10 12:18:20 +0000 2018  MariannaNBCNews  Washington, DC      \n",
       "1107  Sat Jun 30 21:56:21 +0000 2018  matthew_ashburn  Beverly Hills, CA   \n",
       "1108  Fri Apr 27 00:07:59 +0000 2018  ThaiRivera       Los Angeles, CA     \n",
       "1109  Tue Apr 10 18:35:32 +0000 2018  KTVU             Oakland, CA         \n",
       "\n",
       "     coordinates  \\\n",
       "0     NaN          \n",
       "1     NaN          \n",
       "2     NaN          \n",
       "3     NaN          \n",
       "4     NaN          \n",
       "...   ...          \n",
       "1105  NaN          \n",
       "1106  NaN          \n",
       "1107  NaN          \n",
       "1108  NaN          \n",
       "1109  NaN          \n",
       "\n",
       "                                                                                                                                                                                                                                                                                                                                            text  \\\n",
       "0     Years it took for each product to reach 50 million users: \\n\\nAutomobile 62 years \\nTelephone 50 years \\nElectricity 46 years \\nCredit card 28 years \\nTV 22 years \\nATM 18 years \\nDebit card 12 years \\n#Internet 7 years \\n#PayPal 5 years \\n#YouTube 4 years\\n#Facebook 3 years\\n#Twitter 2 years <linkremoved>                          \n",
       "1     <usernameremoved> My Facebook privacy are set to max. I have  removed 80% of my pics , FB messenger was removed 5 months ago , my usage is down by 70% . my friends rarely post anything.What I am noticing is people are deleting a lot of pictures . Also when they post they remove within a few hrs.                                     \n",
       "2     Hi Jay,\\n\\nWe have received a request to permanently delete your account. Your account has been deactivated from the site and will be permanently deleted within 14 days. \\n\\nIf you did not request #DeleteFacebook #IDidIt #Yay                                                                                                            \n",
       "3     PSA!! In case you still have a Facebook page and want to know how to delete your account here are the instructions another Twitter follower shared. I successfully deleted my account this past weekend following these instructions. <linkremoved>                                                                                          \n",
       "4     Facebook, delete his text message thread and about to block his number from my phone when he texts me. He was like Geez, you the one who didnt reply. And sent a screenshot of the last text message he sent. He did indeed replied to my text but I never got it (Fuck iMessage)                                                            \n",
       "...                                                                                                                                                                                                                                                                                 ...                                                            \n",
       "1105  FACEBOOK- ZUCKERBERG ARRIVES ON CAPITOL HILL- VO MON0140- Facebook Chief Executive Mark Zuckerberg is meeting with US lawmakers Monday on Capitol Hill ahead of two days of congressional testimony set to start Tuesday. <linkremoved>                                                                                                      \n",
       "1106  Today on the Hill: Facebook CEO Mark Zuckerberg is in the hot seat this afternoon, where he will face questions from 43 senators in a joint Senate Judiciary Committee &amp; Senate Commerce Committee hearing.                                                                                                                              \n",
       "1107  <usernameremoved> <usernameremoved> <usernameremoved> <usernameremoved> Tech + Humanity , create wealth as new asset class:\\n\\nPersons Asset Class\\n\\n#Bigdata incomes/wages based on Intellectual conversion rates (based on,not limited to) Inputs/Outputs, Proficiency (Core,Median,Standard), Stock/Tangible Assets, Social Influences   \n",
       "1108  Still Mad About the Election \\n\\nDay 7 of 30 days of comedy clips. \\n\\nNSFW\\n\\nTodays clip is the one thats at the beginning of the LATEST EPISODE of Unbothered by Thai Rivera. I talk about Kanye, Trump and this... <linkremoved>                                                                                                         \n",
       "1109  Facebook CEO Mark Zuckerberg is testifying before a joint hearing of the senate judiciary and commerce committees. Watch live uninterrupted coverage now on KTVU Plus or livestreaming on <linkremoved> <linkremoved>                                                                                                                        \n",
       "\n",
       "                                                                                                                                                                                                                                                                                                                          full_text  \\\n",
       "0     Years it took for each product to reach 50 million users: \\n\\nAutomobile 62 years \\nTelephone 50 years \\nElectricity 46 years \\nCredit card 28 years \\nTV 22 years \\nATM 18 years \\nDebit card 12 years \\n#Internet 7 years \\n#PayPal 5 years \\n#YouTube 4 years\\n#Facebook 3 years\\n#Twitter 2 years https://t.co/JO2nW2X2c2   \n",
       "1     @andrewrsorkin My Facebook privacy are set to max. I have  removed 80% of my pics , FB messenger was removed 5 months ago , my usage is down by 70% . my friends rarely post anything.What I am noticing is people are deleting a lot of pictures . Also when they post they remove within a few hrs.                           \n",
       "2     Hi Jay,\\n\\nWe have received a request to permanently delete your account. Your account has been deactivated from the site and will be permanently deleted within 14 days. \\n\\nIf you did not request #DeleteFacebook #IDidIt #Yay                                                                                               \n",
       "3     PSA!! In case you still have a Facebook page and want to know how to delete your account here are the instructions another Twitter follower shared. I successfully deleted my account this past weekend following these instructions. https://t.co/FWhdvfRFNK                                                                   \n",
       "4     Facebook, delete his text message thread and about to block his number from my phone when he texts me. He was like Geez, you the one who didnt reply. And sent a screenshot of the last text message he sent. He did indeed replied to my text but I never got it (Fuck iMessage)                                               \n",
       "...                                                                                                                                                                                                                                                                                 ...                                               \n",
       "1105  FACEBOOK- ZUCKERBERG ARRIVES ON CAPITOL HILL- VO MON0140- Facebook Chief Executive Mark Zuckerberg is meeting with US lawmakers Monday on Capitol Hill ahead of two days of congressional testimony set to start Tuesday. https://t.co/oV18fWYn1M                                                                               \n",
       "1106  Today on the Hill: Facebook CEO Mark Zuckerberg is in the hot seat this afternoon, where he will face questions from 43 senators in a joint Senate Judiciary Committee &amp; Senate Commerce Committee hearing.                                                                                                                 \n",
       "1107  @scottsantens @impcapital @adamscrabble @basicincome Tech + Humanity , create wealth as new asset class:\\n\\nPersons Asset Class\\n\\n#Bigdata incomes/wages based on Intellectual conversion rates (based on,not limited to) Inputs/Outputs, Proficiency (Core,Median,Standard), Stock/Tangible Assets, Social Influences         \n",
       "1108  Still Mad About the Election \\n\\nDay 7 of 30 days of comedy clips. \\n\\nNSFW\\n\\nTodays clip is the one thats at the beginning of the LATEST EPISODE of Unbothered by Thai Rivera. I talk about Kanye, Trump and this... https://t.co/Omj6A3QEtz                                                                                  \n",
       "1109  Facebook CEO Mark Zuckerberg is testifying before a joint hearing of the senate judiciary and commerce committees. Watch live uninterrupted coverage now on KTVU Plus or livestreaming on https://t.co/wGGTF7wiOS https://t.co/isHHiIbzWZ                                                                                       \n",
       "\n",
       "      retweet_created_at  retweet_full_text  \\\n",
       "0    NaN                 NaN                  \n",
       "1    NaN                 NaN                  \n",
       "2    NaN                 NaN                  \n",
       "3    NaN                 NaN                  \n",
       "4    NaN                 NaN                  \n",
       "...   ..                  ..                  \n",
       "1105 NaN                 NaN                  \n",
       "1106 NaN                 NaN                  \n",
       "1107 NaN                 NaN                  \n",
       "1108 NaN                 NaN                  \n",
       "1109 NaN                 NaN                  \n",
       "\n",
       "                                                                                                                                                                                                                                                                                                                                  texto_completo  \\\n",
       "0     Years it took for each product to reach 50 million users: \\n\\nAutomobile 62 years \\nTelephone 50 years \\nElectricity 46 years \\nCredit card 28 years \\nTV 22 years \\nATM 18 years \\nDebit card 12 years \\n#Internet 7 years \\n#PayPal 5 years \\n#YouTube 4 years\\n#Facebook 3 years\\n#Twitter 2 years <link removed>                         \n",
       "1     <usernameremoved> My Facebook privacy are set to max. I have  removed 80% of my pics , FB messenger was removed 5 months ago , my usage is down by 70% . my friends rarely post anything.What I am noticing is people are deleting a lot of pictures . Also when they post they remove within a few hrs.                                     \n",
       "2     Hi Jay,\\n\\nWe have received a request to permanently delete your account. Your account has been deactivated from the site and will be permanently deleted within 14 days. \\n\\nIf you did not request #DeleteFacebook #IDidIt #Yay                                                                                                            \n",
       "3     PSA!! In case you still have a Facebook page and want to know how to delete your account here are the instructions another Twitter follower shared. I successfully deleted my account this past weekend following these instructions. <link removed>                                                                                         \n",
       "4     Facebook, delete his text message thread and about to block his number from my phone when he texts me. He was like Geez, you the one who didnt reply. And sent a screenshot of the last text message he sent. He did indeed replied to my text but I never got it (Fuck iMessage)                                                            \n",
       "...                                                                                                                                                                                                                                                                                 ...                                                            \n",
       "1105  FACEBOOK- ZUCKERBERG ARRIVES ON CAPITOL HILL- VO MON0140- Facebook Chief Executive Mark Zuckerberg is meeting with US lawmakers Monday on Capitol Hill ahead of two days of congressional testimony set to start Tuesday. <link removed>                                                                                                     \n",
       "1106  Today on the Hill: Facebook CEO Mark Zuckerberg is in the hot seat this afternoon, where he will face questions from 43 senators in a joint Senate Judiciary Committee &amp; Senate Commerce Committee hearing.                                                                                                                              \n",
       "1107  <usernameremoved> <usernameremoved> <usernameremoved> <usernameremoved> Tech + Humanity , create wealth as new asset class:\\n\\nPersons Asset Class\\n\\n#Bigdata incomes/wages based on Intellectual conversion rates (based on,not limited to) Inputs/Outputs, Proficiency (Core,Median,Standard), Stock/Tangible Assets, Social Influences   \n",
       "1108  Still Mad About the Election \\n\\nDay 7 of 30 days of comedy clips. \\n\\nNSFW\\n\\nTodays clip is the one thats at the beginning of the LATEST EPISODE of Unbothered by Thai Rivera. I talk about Kanye, Trump and this... <link removed>                                                                                                        \n",
       "1109  Facebook CEO Mark Zuckerberg is testifying before a joint hearing of the senate judiciary and commerce committees. Watch live uninterrupted coverage now on KTVU Plus or livestreaming on <link removed> <link removed>                                                                                                                      \n",
       "\n",
       "     ubicacion_encontrada  \n",
       "0     United States        \n",
       "1     Canada               \n",
       "2     United States        \n",
       "3     United States        \n",
       "4     United States        \n",
       "...             ...        \n",
       "1105  United States        \n",
       "1106  United States        \n",
       "1107  United States        \n",
       "1108  United States        \n",
       "1109  United States        \n",
       "\n",
       "[1110 rows x 17 columns]"
      ]
     },
     "execution_count": 108,
     "metadata": {},
     "output_type": "execute_result"
    }
   ],
   "source": [
    "sent_topics_sorteddf_mallet"
   ]
  },
  {
   "cell_type": "code",
   "execution_count": 109,
   "metadata": {},
   "outputs": [
    {
     "data": {
      "text/plain": [
       "<class 'pandas.core.frame.DataFrame'>"
      ]
     },
     "execution_count": 109,
     "metadata": {},
     "output_type": "execute_result"
    }
   ],
   "source": [
    "type(sent_topics_sorteddf_mallet)"
   ]
  },
  {
   "cell_type": "code",
   "execution_count": 110,
   "metadata": {},
   "outputs": [],
   "source": [
    "#corpus\n",
    "import pickle\n",
    "with open(file_name+'sent_topics_sorteddf_mallet_ldamodel', 'wb') as f:\n",
    "    pickle.dump(sent_topics_sorteddf_mallet, f)"
   ]
  },
  {
   "cell_type": "markdown",
   "metadata": {},
   "source": [
    "# Topic distribution across documents"
   ]
  },
  {
   "cell_type": "code",
   "execution_count": 111,
   "metadata": {},
   "outputs": [],
   "source": [
    "# Number of Documents for Each Topic\n",
    "topic_counts = df_topic_sents_keywords['Dominant_Topic'].value_counts()\n",
    "\n",
    "# Percentage of Documents for Each Topic\n",
    "topic_contribution = round(topic_counts/topic_counts.sum(), 4)\n",
    "\n",
    "# Topic Number and Keywords\n",
    "topic_num_keywords = df_topic_sents_keywords[['Dominant_Topic', 'Topic_Keywords']]\n",
    "\n",
    "# Concatenate Column wise\n",
    "df_dominant_topics = pd.concat([topic_num_keywords.drop_duplicates(subset='Dominant_Topic', keep='first').sort_values(by=['Dominant_Topic']).reset_index(drop=True), topic_counts.sort_index(), topic_contribution.sort_index()], axis=1)\n",
    "\n",
    "# Change Column names\n",
    "df_dominant_topics.columns = ['Dominant_Topic', 'Topic_Keywords', 'Num_Documents', 'Perc_Documents']\n",
    "\n"
   ]
  },
  {
   "cell_type": "code",
   "execution_count": 112,
   "metadata": {},
   "outputs": [
    {
     "data": {
      "text/html": [
       "<div>\n",
       "<style scoped>\n",
       "    .dataframe tbody tr th:only-of-type {\n",
       "        vertical-align: middle;\n",
       "    }\n",
       "\n",
       "    .dataframe tbody tr th {\n",
       "        vertical-align: top;\n",
       "    }\n",
       "\n",
       "    .dataframe thead th {\n",
       "        text-align: right;\n",
       "    }\n",
       "</style>\n",
       "<table border=\"1\" class=\"dataframe\">\n",
       "  <thead>\n",
       "    <tr style=\"text-align: right;\">\n",
       "      <th></th>\n",
       "      <th>Dominant_Topic</th>\n",
       "      <th>Topic_Keywords</th>\n",
       "      <th>Num_Documents</th>\n",
       "      <th>Perc_Documents</th>\n",
       "    </tr>\n",
       "  </thead>\n",
       "  <tbody>\n",
       "    <tr>\n",
       "      <th>0.0</th>\n",
       "      <td>0.0</td>\n",
       "      <td>facebook, delete, year, post, twitter, account, friend, page, follow, check</td>\n",
       "      <td>53774</td>\n",
       "      <td>0.1571</td>\n",
       "    </tr>\n",
       "    <tr>\n",
       "      <th>1.0</th>\n",
       "      <td>1.0</td>\n",
       "      <td>time, back, put, man, show, start, turn, guy, bring, play</td>\n",
       "      <td>33381</td>\n",
       "      <td>0.0975</td>\n",
       "    </tr>\n",
       "    <tr>\n",
       "      <th>2.0</th>\n",
       "      <td>2.0</td>\n",
       "      <td>bigdata, business, big, analytic, learn, tech, ai, machinelearne, technology, marketing</td>\n",
       "      <td>36975</td>\n",
       "      <td>0.1080</td>\n",
       "    </tr>\n",
       "    <tr>\n",
       "      <th>3.0</th>\n",
       "      <td>3.0</td>\n",
       "      <td>amp, leave, love, free, conservative, call, group, hate, stop, woman</td>\n",
       "      <td>26707</td>\n",
       "      <td>0.0780</td>\n",
       "    </tr>\n",
       "    <tr>\n",
       "      <th>4.0</th>\n",
       "      <td>4.0</td>\n",
       "      <td>datum, user, give, company, data, information, sell, share, personal, access</td>\n",
       "      <td>31738</td>\n",
       "      <td>0.0927</td>\n",
       "    </tr>\n",
       "    <tr>\n",
       "      <th>5.0</th>\n",
       "      <td>5.0</td>\n",
       "      <td>make, good, thing, read, bad, great, time, feel, problem, answer</td>\n",
       "      <td>27326</td>\n",
       "      <td>0.0798</td>\n",
       "    </tr>\n",
       "    <tr>\n",
       "      <th>6.0</th>\n",
       "      <td>6.0</td>\n",
       "      <td>privacy, facebook, change, issue, protect, law, security, service, control, scandal</td>\n",
       "      <td>26558</td>\n",
       "      <td>0.0776</td>\n",
       "    </tr>\n",
       "    <tr>\n",
       "      <th>7.0</th>\n",
       "      <td>7.0</td>\n",
       "      <td>people, news, lie, story, fake, care, report, fact, real, world</td>\n",
       "      <td>24423</td>\n",
       "      <td>0.0713</td>\n",
       "    </tr>\n",
       "    <tr>\n",
       "      <th>8.0</th>\n",
       "      <td>8.0</td>\n",
       "      <td>work, ad, election, pay, campaign, money, vote, run, political, russian</td>\n",
       "      <td>26012</td>\n",
       "      <td>0.0760</td>\n",
       "    </tr>\n",
       "    <tr>\n",
       "      <th>9.0</th>\n",
       "      <td>9.0</td>\n",
       "      <td>trump, retweete, family, call, child, break, president, supporter, policy, end</td>\n",
       "      <td>26329</td>\n",
       "      <td>0.0769</td>\n",
       "    </tr>\n",
       "    <tr>\n",
       "      <th>10.0</th>\n",
       "      <td>10.0</td>\n",
       "      <td>question, today, medium, social, watch, live, talk, hear, testimony, hearing</td>\n",
       "      <td>29177</td>\n",
       "      <td>0.0852</td>\n",
       "    </tr>\n",
       "  </tbody>\n",
       "</table>\n",
       "</div>"
      ],
      "text/plain": [
       "      Dominant_Topic  \\\n",
       "0.0   0.0              \n",
       "1.0   1.0              \n",
       "2.0   2.0              \n",
       "3.0   3.0              \n",
       "4.0   4.0              \n",
       "5.0   5.0              \n",
       "6.0   6.0              \n",
       "7.0   7.0              \n",
       "8.0   8.0              \n",
       "9.0   9.0              \n",
       "10.0  10.0             \n",
       "\n",
       "                                                                               Topic_Keywords  \\\n",
       "0.0   facebook, delete, year, post, twitter, account, friend, page, follow, check               \n",
       "1.0   time, back, put, man, show, start, turn, guy, bring, play                                 \n",
       "2.0   bigdata, business, big, analytic, learn, tech, ai, machinelearne, technology, marketing   \n",
       "3.0   amp, leave, love, free, conservative, call, group, hate, stop, woman                      \n",
       "4.0   datum, user, give, company, data, information, sell, share, personal, access              \n",
       "5.0   make, good, thing, read, bad, great, time, feel, problem, answer                          \n",
       "6.0   privacy, facebook, change, issue, protect, law, security, service, control, scandal       \n",
       "7.0   people, news, lie, story, fake, care, report, fact, real, world                           \n",
       "8.0   work, ad, election, pay, campaign, money, vote, run, political, russian                   \n",
       "9.0   trump, retweete, family, call, child, break, president, supporter, policy, end            \n",
       "10.0  question, today, medium, social, watch, live, talk, hear, testimony, hearing              \n",
       "\n",
       "      Num_Documents  Perc_Documents  \n",
       "0.0   53774          0.1571          \n",
       "1.0   33381          0.0975          \n",
       "2.0   36975          0.1080          \n",
       "3.0   26707          0.0780          \n",
       "4.0   31738          0.0927          \n",
       "5.0   27326          0.0798          \n",
       "6.0   26558          0.0776          \n",
       "7.0   24423          0.0713          \n",
       "8.0   26012          0.0760          \n",
       "9.0   26329          0.0769          \n",
       "10.0  29177          0.0852          "
      ]
     },
     "execution_count": 112,
     "metadata": {},
     "output_type": "execute_result"
    }
   ],
   "source": [
    "#funciona perfecto\n",
    "df_dominant_topics"
   ]
  },
  {
   "cell_type": "code",
   "execution_count": null,
   "metadata": {},
   "outputs": [],
   "source": []
  }
 ],
 "metadata": {
  "kernelspec": {
   "display_name": "Python 3",
   "language": "python",
   "name": "python3"
  },
  "language_info": {
   "codemirror_mode": {
    "name": "ipython",
    "version": 3
   },
   "file_extension": ".py",
   "mimetype": "text/x-python",
   "name": "python",
   "nbconvert_exporter": "python",
   "pygments_lexer": "ipython3",
   "version": "3.7.1"
  }
 },
 "nbformat": 4,
 "nbformat_minor": 2
}
