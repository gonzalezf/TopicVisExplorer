{
 "cells": [
  {
   "cell_type": "code",
   "execution_count": 1,
   "metadata": {},
   "outputs": [],
   "source": [
    "import json\n",
    "import pandas as pd\n",
    "import pickle\n",
    "%matplotlib inline\n",
    "import matplotlib.pyplot as plt\n",
    "import numpy as np\n",
    "\n",
    "from ipywidgets import interact\n",
    "from ipywidgets import FloatSlider\n",
    "from scipy.spatial import procrustes\n",
    "from ipywidgets import Play"
   ]
  },
  {
   "cell_type": "code",
   "execution_count": 2,
   "metadata": {},
   "outputs": [],
   "source": [
    "with open('../jupyters/new_circle_positions.pkl', 'rb') as f:\n",
    "    new_circle_positions = pickle.load(f)"
   ]
  },
  {
   "cell_type": "markdown",
   "metadata": {},
   "source": [
    "#### Traditional way"
   ]
  },
  {
   "cell_type": "code",
   "execution_count": 3,
   "metadata": {},
   "outputs": [],
   "source": [
    "def plot_circles(lambda_):\n",
    "    data = new_circle_positions\n",
    "    new_circle_positions_selected = data[lambda_]\n",
    "    x = [i[0] for i in new_circle_positions_selected]\n",
    "    y = [i[1] for i in new_circle_positions_selected]\n",
    "    plt.figure()\n",
    "    plt.plot(x, y, 'o'); # markersize = 15\n",
    "\n",
    "    n = range(len(x))\n",
    "    for i, txt in enumerate(n):\n",
    "        plt.annotate(txt, (x[i], y[i]), fontsize =15)\n",
    "\n",
    "    plt.show()\n"
   ]
  },
  {
   "cell_type": "code",
   "execution_count": 4,
   "metadata": {},
   "outputs": [
    {
     "data": {
      "application/vnd.jupyter.widget-view+json": {
       "model_id": "d5c2fdfcc7084ec08e5130247fe25493",
       "version_major": 2,
       "version_minor": 0
      },
      "text/plain": [
       "interactive(children=(FloatSlider(value=0.0, description='lambda_', max=1.0, step=0.01), Output()), _dom_class…"
      ]
     },
     "metadata": {},
     "output_type": "display_data"
    }
   ],
   "source": [
    "interact(plot_circles, lambda_=FloatSlider(min=0, max=1, step=0.01));"
   ]
  },
  {
   "cell_type": "markdown",
   "metadata": {},
   "source": [
    "#### Apply procrustes"
   ]
  },
  {
   "cell_type": "code",
   "execution_count": 5,
   "metadata": {},
   "outputs": [],
   "source": [
    "#get new matrix according to procrustes\n",
    "\n",
    "lambdas = list(new_circle_positions.keys())\n",
    "standardized_matrix = dict()\n",
    "disparity_values = dict()\n",
    "original_a = new_circle_positions[0.0]\n",
    "for i in range(len(lambdas)-1):\n",
    "    #print(lambdas[i], lambdas[i+1])\n",
    "    original_b = new_circle_positions[lambdas[i+1]]\n",
    "    mtx1, mtx2, disparity = procrustes(original_a, original_b)\n",
    "    disparity_values[lambdas[i]] = disparity\n",
    "    standardized_matrix[lambdas[i]] = mtx1.tolist()\n",
    "    original_a = mtx2\n",
    "    \n",
    "    \n",
    "standardized_matrix[lambdas[len(lambdas)-1]] = mtx2\n",
    "disparity_values[lambdas[len(lambdas)-1]] = disparity\n",
    "    \n",
    "\n",
    "with open('../jupyters/standardized_matrix.pkl', 'wb') as f:\n",
    "    pickle.dump(standardized_matrix, f)"
   ]
  },
  {
   "cell_type": "code",
   "execution_count": null,
   "metadata": {},
   "outputs": [],
   "source": []
  },
  {
   "cell_type": "code",
   "execution_count": 6,
   "metadata": {},
   "outputs": [],
   "source": [
    "def plot_circles_with_procrustes(lambda_):\n",
    "    data = standardized_matrix\n",
    "    new_circle_positions_selected = data[lambda_]\n",
    "    #print(lambda_, new_circle_positions_selected)\n",
    "    x = [i[0] for i in new_circle_positions_selected]\n",
    "    y = [i[1] for i in new_circle_positions_selected]\n",
    "    plt.figure()\n",
    "    plt.plot(x, y, 'o'); # markersize = 15\n",
    "\n",
    "    n = range(len(x))\n",
    "    for i, txt in enumerate(n):\n",
    "        plt.annotate(txt, (x[i], y[i]), fontsize =15)\n",
    "\n",
    "    plt.show()\n"
   ]
  },
  {
   "cell_type": "code",
   "execution_count": 7,
   "metadata": {},
   "outputs": [
    {
     "data": {
      "application/vnd.jupyter.widget-view+json": {
       "model_id": "2aee8fcfc138499d90f44e297c593a0c",
       "version_major": 2,
       "version_minor": 0
      },
      "text/plain": [
       "interactive(children=(FloatSlider(value=0.0, description='lambda_', max=1.0, step=0.01), Output()), _dom_class…"
      ]
     },
     "metadata": {},
     "output_type": "display_data"
    }
   ],
   "source": [
    "interact(plot_circles_with_procrustes, lambda_=FloatSlider(min=0, max=1, step=0.01));"
   ]
  },
  {
   "cell_type": "markdown",
   "metadata": {},
   "source": [
    "### Compare| traditional ways vs procrustes"
   ]
  },
  {
   "cell_type": "code",
   "execution_count": 8,
   "metadata": {},
   "outputs": [],
   "source": [
    "def compare_traditional_vs_procrustes(lambda_):\n",
    "    lambda_ = lambda_/100.0\n",
    "\n",
    "    data = new_circle_positions\n",
    "    new_circle_positions_selected = data[lambda_]\n",
    "    x_traditional = [i[0] for i in new_circle_positions_selected]\n",
    "    y_traditional = [i[1] for i in new_circle_positions_selected]\n",
    "    \n",
    "    #procrustes data\n",
    "    data = standardized_matrix\n",
    "    new_circle_positions_selected = data[lambda_]\n",
    "    x_procrustes = [i[0] for i in new_circle_positions_selected]\n",
    "    y_procrustes = [i[1] for i in new_circle_positions_selected]\n",
    "    \n",
    "    #plot\n",
    "    fig, (ax1, ax2) = plt.subplots(1, 2, figsize=(15,5))\n",
    "    fig.suptitle('Similarity between topics with omega = '+str(lambda_)+\" disparity =\"+str(np.format_float_scientific(disparity_values[lambda_], precision=2)), fontsize=16)\n",
    "    ax1.plot(x_traditional, y_traditional,'o')\n",
    "    ax1.title.set_text('Traditional way')\n",
    "    ax2.plot(x_procrustes, y_procrustes,'o')\n",
    "    ax2.title.set_text('With Procrustes')\n",
    "    \n",
    "    \n",
    "    \n",
    "    n = range(len(x_traditional))\n",
    "    for i, txt in enumerate(n):\n",
    "        ax1.annotate(txt, (x_traditional[i], y_traditional[i]), fontsize =15)\n",
    "        ax2.annotate(txt, (x_procrustes[i], y_procrustes[i]), fontsize =15)\n",
    "    \n",
    "    \n"
   ]
  },
  {
   "cell_type": "code",
   "execution_count": 9,
   "metadata": {},
   "outputs": [],
   "source": [
    "#s = disparity_values[0]\n",
    "#np.format_float_scientific(s,  precision=2, exp_digits=1)"
   ]
  },
  {
   "cell_type": "code",
   "execution_count": 10,
   "metadata": {},
   "outputs": [
    {
     "data": {
      "application/vnd.jupyter.widget-view+json": {
       "model_id": "8113f8798a854e3c891defd5b8b09537",
       "version_major": 2,
       "version_minor": 0
      },
      "text/plain": [
       "interactive(children=(Play(value=0, description='lambda_', interval=200), Output()), _dom_classes=('widget-int…"
      ]
     },
     "metadata": {},
     "output_type": "display_data"
    }
   ],
   "source": [
    "#compare_traditional_vs_procrustes(0.0)\n",
    "#interact(compare_traditional_vs_procrustes, lambda_=FloatSlider(min=0, max=1, step=0.01));\n",
    "interact(compare_traditional_vs_procrustes, lambda_=Play(value=0, min=0, max=100, step=1, interval=200));\n"
   ]
  },
  {
   "cell_type": "code",
   "execution_count": null,
   "metadata": {},
   "outputs": [],
   "source": []
  }
 ],
 "metadata": {
  "kernelspec": {
   "display_name": "Python 3",
   "language": "python",
   "name": "python3"
  },
  "language_info": {
   "codemirror_mode": {
    "name": "ipython",
    "version": 3
   },
   "file_extension": ".py",
   "mimetype": "text/x-python",
   "name": "python",
   "nbconvert_exporter": "python",
   "pygments_lexer": "ipython3",
   "version": "3.7.2"
  }
 },
 "nbformat": 4,
 "nbformat_minor": 4
}
