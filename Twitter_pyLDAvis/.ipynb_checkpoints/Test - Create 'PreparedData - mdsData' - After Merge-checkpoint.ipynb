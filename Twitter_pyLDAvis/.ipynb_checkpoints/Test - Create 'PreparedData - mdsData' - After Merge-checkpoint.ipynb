{
 "cells": [
  {
   "cell_type": "code",
   "execution_count": 5,
   "metadata": {},
   "outputs": [],
   "source": [
    "import gensim\n",
    "import pickle\n",
    "from gensim.corpora import Dictionary\n",
    "import gensim_helpers \n",
    "from _prepare import prepare, js_PCoA, PreparedData, _pcoa\n"
   ]
  },
  {
   "cell_type": "code",
   "execution_count": 2,
   "metadata": {},
   "outputs": [
    {
     "name": "stdout",
     "output_type": "stream",
     "text": [
      "We need to create prepared data\n"
     ]
    }
   ],
   "source": [
    "print(\"We need to create prepared data\")\n",
    "##Load Gensim Model\n",
    "LdaModel = gensim.models.ldamodel.LdaModel\n",
    "lda_model = LdaModel.load(\"../data/cambridge_analytica/collection_I/collection_1_gensim.model\")\n",
    "\n"
   ]
  },
  {
   "cell_type": "code",
   "execution_count": 3,
   "metadata": {},
   "outputs": [],
   "source": [
    "##Load corpus\n",
    "with open('../data/cambridge_analytica/collection_I/collection_1_corpus.pkl', 'rb') as f:\n",
    "    corpus = pickle.load(f)\n",
    "\n",
    "##Load id2word\n",
    "id2word = Dictionary.load(\"../data/cambridge_analytica/collection_I/collection_1_id2word\")\n",
    "\n",
    "data_dict = gensim_helpers.prepare(lda_model, corpus,id2word, mds='pcoa')   #retorna un dict de preparedData\n",
    "\n"
   ]
  },
  {
   "cell_type": "code",
   "execution_count": null,
   "metadata": {},
   "outputs": [],
   "source": [
    "PreparedDataObtained = prepare(**data_dict)"
   ]
  },
  {
   "cell_type": "code",
   "execution_count": null,
   "metadata": {},
   "outputs": [],
   "source": []
  }
 ],
 "metadata": {
  "kernelspec": {
   "display_name": "Python 3",
   "language": "python",
   "name": "python3"
  },
  "language_info": {
   "codemirror_mode": {
    "name": "ipython",
    "version": 3
   },
   "file_extension": ".py",
   "mimetype": "text/x-python",
   "name": "python",
   "nbconvert_exporter": "python",
   "pygments_lexer": "ipython3",
   "version": "3.7.1"
  }
 },
 "nbformat": 4,
 "nbformat_minor": 4
}
