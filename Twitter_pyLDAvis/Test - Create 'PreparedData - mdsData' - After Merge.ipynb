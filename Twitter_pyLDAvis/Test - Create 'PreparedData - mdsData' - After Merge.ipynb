{
 "cells": [
  {
   "cell_type": "code",
   "execution_count": 1,
   "metadata": {},
   "outputs": [],
   "source": [
    "import gensim\n",
    "import pickle\n",
    "from gensim.corpora import Dictionary\n",
    "import gensim_helpers \n",
    "from _prepare import prepare, js_PCoA, PreparedData, _pcoa\n",
    "import numpy as np\n",
    "\n",
    "\n"
   ]
  },
  {
   "cell_type": "code",
   "execution_count": 2,
   "metadata": {},
   "outputs": [
    {
     "name": "stdout",
     "output_type": "stream",
     "text": [
      "We need to create prepared data\n"
     ]
    }
   ],
   "source": [
    "print(\"We need to create prepared data\")\n",
    "##Load Gensim Model\n",
    "LdaModel = gensim.models.ldamodel.LdaModel\n",
    "lda_model = LdaModel.load(\"../data/cambridge_analytica/collection_I/collection_1_gensim.model\")\n",
    "\n"
   ]
  },
  {
   "cell_type": "code",
   "execution_count": 3,
   "metadata": {},
   "outputs": [],
   "source": [
    "##Load corpus\n",
    "with open('../data/cambridge_analytica/collection_I/collection_1_corpus.pkl', 'rb') as f:\n",
    "    corpus = pickle.load(f)\n",
    "\n",
    "##Load id2word\n",
    "id2word = Dictionary.load(\"../data/cambridge_analytica/collection_I/collection_1_id2word\")\n",
    "\n",
    "\n"
   ]
  },
  {
   "cell_type": "code",
   "execution_count": 68,
   "metadata": {},
   "outputs": [],
   "source": [
    "data_dict = gensim_helpers.prepare(lda_model, corpus,id2word, mds='pcoa')   #retorna un dict de preparedData\n"
   ]
  },
  {
   "cell_type": "code",
   "execution_count": 69,
   "metadata": {},
   "outputs": [
    {
     "data": {
      "text/plain": [
       "dict_keys(['topic_term_dists', 'doc_topic_dists', 'doc_lengths', 'vocab', 'term_frequency', 'mds'])"
      ]
     },
     "execution_count": 69,
     "metadata": {},
     "output_type": "execute_result"
    }
   ],
   "source": [
    "data_dict.keys()"
   ]
  },
  {
   "cell_type": "code",
   "execution_count": 70,
   "metadata": {},
   "outputs": [],
   "source": [
    "#type(data_dict['topic_term_dists'])"
   ]
  },
  {
   "cell_type": "code",
   "execution_count": 71,
   "metadata": {},
   "outputs": [],
   "source": [
    "#type(data_dict['topic_term_dists'][0])"
   ]
  },
  {
   "cell_type": "code",
   "execution_count": 72,
   "metadata": {},
   "outputs": [],
   "source": [
    "def merge_topics(topic_index_1, topic_index_2, data_dict):\n",
    "    #return a new data_dict, this is the input for prepare(**data_dict)\n",
    "    \n",
    "    #create a ne topic_term_dists\n",
    "    #the first column of the merge is going to be equal to =first_column_merge+second_column_merge (point wise)\n",
    "    data_dict['topic_term_dists'][topic_index_1] = np.add(data_dict['topic_term_dists'][topic_index_1],data_dict['topic_term_dists'][topic_index_2])\n",
    "    data_dict['topic_term_dists'] =  np.delete(data_dict['topic_term_dists'], topic_index_2, 0) #borramos la segunda columna con la que hicimos el merge\n",
    "    #we must delete all the references to the topic_index_2 (it doesn't exist anymore)\n",
    "    \n",
    "    #create a new doc_topic_dists:\n",
    "    data_dict['doc_topic_dists'][:,topic_index_1] = data_dict['doc_topic_dists'][:,topic_index_1]+data_dict['doc_topic_dists'][:,topic_index_2]\n",
    "    data_dict['doc_topic_dists'] = np.delete(data_dict['doc_topic_dists'], topic_index_2, 1)\n",
    "    \n",
    "\n",
    "    #things that keep the the same\n",
    "    \n",
    "    return data_dict"
   ]
  },
  {
   "cell_type": "code",
   "execution_count": 73,
   "metadata": {},
   "outputs": [],
   "source": [
    "a = merge_topics(0,3,data_dict)"
   ]
  },
  {
   "cell_type": "code",
   "execution_count": 74,
   "metadata": {},
   "outputs": [
    {
     "name": "stderr",
     "output_type": "stream",
     "text": [
      "C:\\Users\\gonza\\Desktop\\TopicVisExplorer\\Twitter_pyLDAvis\\_prepare.py:236: RuntimeWarning: divide by zero encountered in log\n",
      "  kernel = (topic_given_term * np.log((topic_given_term.T / topic_proportion).T))\n",
      "C:\\Users\\gonza\\Desktop\\TopicVisExplorer\\Twitter_pyLDAvis\\_prepare.py:255: RuntimeWarning: divide by zero encountered in log\n",
      "  log_lift = np.log(topic_term_dists / term_proportion)\n",
      "C:\\Users\\gonza\\Desktop\\TopicVisExplorer\\Twitter_pyLDAvis\\_prepare.py:256: RuntimeWarning: divide by zero encountered in log\n",
      "  log_ttd = np.log(topic_term_dists)\n"
     ]
    }
   ],
   "source": [
    "PreparedDataObtainedMerged = prepare(**a)"
   ]
  },
  {
   "cell_type": "code",
   "execution_count": 76,
   "metadata": {},
   "outputs": [
    {
     "data": {
      "text/plain": [
       "PreparedData(topic_coordinates=              x         y  topics  cluster       Freq\n",
       "topic                                                \n",
       "0      0.444958  0.178547       1        1  13.479521\n",
       "6     -0.015431  0.078508       2        1   6.720978\n",
       "13    -0.018263 -0.153968       3        1   6.720116\n",
       "12    -0.027629 -0.238357       4        1   6.712481\n",
       "3      0.228160 -0.092367       5        1   6.709831\n",
       "11    -0.031269 -0.123541       6        1   6.687672\n",
       "8     -0.039770  0.050343       7        1   6.683521\n",
       "10     0.053569  0.002058       8        1   6.675270\n",
       "5     -0.029509 -0.264880       9        1   6.634464\n",
       "4     -0.129529  0.085107      10        1   6.621429\n",
       "1     -0.148950  0.096312      11        1   6.617830\n",
       "2      0.025053  0.046414      12        1   6.616276\n",
       "7     -0.157767  0.132260      13        1   6.580834\n",
       "9     -0.153623  0.203563      14        1   6.539776, topic_info=     Category           Freq     Term          Total  loglift  logprob\n",
       "12    Default  125957.000000    datum  125957.000000  30.0000  30.0000\n",
       "25    Default   43395.000000  privacy   43395.000000  29.0000  29.0000\n",
       "165   Default   57042.000000     user   57042.000000  28.0000  28.0000\n",
       "53    Default   41076.000000    trump   41076.000000  27.0000  27.0000\n",
       "72    Default   36802.000000   people   36802.000000  26.0000  26.0000\n",
       "...       ...            ...      ...            ...      ...      ...\n",
       "588   Topic14    4809.495438      day   10282.033891   2.0939  -3.9304\n",
       "120   Topic14    3069.942218     week    6899.702592   2.0439  -4.3793\n",
       "705   Topic14    2950.098259     live    8176.146974   1.8343  -4.4191\n",
       "914   Topic14    1810.975378    speak    3462.620043   2.2056  -4.9071\n",
       "3165  Topic14    1557.971464   minute    2071.080143   2.5690  -5.0576\n",
       "\n",
       "[1074 rows x 6 columns], token_table=       Topic      Freq         Term\n",
       "term                               \n",
       "23411      9  0.972423  abandonment\n",
       "3005       3  1.000317      ability\n",
       "1900       4  0.984689   absolutely\n",
       "1900      11  0.014671   absolutely\n",
       "1900      13  0.000587   absolutely\n",
       "...      ...       ...          ...\n",
       "1463       6  0.003457      youtube\n",
       "1463      13  0.996572      youtube\n",
       "27603      9  0.972423        zilch\n",
       "7161       2  0.995207      zionist\n",
       "1885      14  1.000023   zuckerberg\n",
       "\n",
       "[1468 rows x 3 columns], R=30, lambda_step=0.01, plot_opts={'xlab': 'PC1', 'ylab': 'PC2'}, topic_order=[1, 7, 14, 13, 4, 12, 9, 11, 6, 5, 2, 3, 8, 10])"
      ]
     },
     "execution_count": 76,
     "metadata": {},
     "output_type": "execute_result"
    }
   ],
   "source": [
    "PreparedDataObtainedMerged"
   ]
  },
  {
   "cell_type": "code",
   "execution_count": null,
   "metadata": {},
   "outputs": [],
   "source": []
  },
  {
   "cell_type": "code",
   "execution_count": null,
   "metadata": {},
   "outputs": [],
   "source": []
  },
  {
   "cell_type": "code",
   "execution_count": null,
   "metadata": {},
   "outputs": [],
   "source": []
  },
  {
   "cell_type": "code",
   "execution_count": null,
   "metadata": {},
   "outputs": [],
   "source": []
  },
  {
   "cell_type": "code",
   "execution_count": null,
   "metadata": {},
   "outputs": [],
   "source": []
  },
  {
   "cell_type": "code",
   "execution_count": null,
   "metadata": {},
   "outputs": [],
   "source": []
  },
  {
   "cell_type": "code",
   "execution_count": 6,
   "metadata": {},
   "outputs": [
    {
     "name": "stderr",
     "output_type": "stream",
     "text": [
      "C:\\Users\\gonza\\Desktop\\TopicVisExplorer\\Twitter_pyLDAvis\\_prepare.py:236: RuntimeWarning: divide by zero encountered in log\n",
      "  kernel = (topic_given_term * np.log((topic_given_term.T / topic_proportion).T))\n",
      "C:\\Users\\gonza\\Desktop\\TopicVisExplorer\\Twitter_pyLDAvis\\_prepare.py:255: RuntimeWarning: divide by zero encountered in log\n",
      "  log_lift = np.log(topic_term_dists / term_proportion)\n",
      "C:\\Users\\gonza\\Desktop\\TopicVisExplorer\\Twitter_pyLDAvis\\_prepare.py:256: RuntimeWarning: divide by zero encountered in log\n",
      "  log_ttd = np.log(topic_term_dists)\n"
     ]
    }
   ],
   "source": [
    "PreparedDataObtained = prepare(**data_dict)"
   ]
  },
  {
   "cell_type": "code",
   "execution_count": 8,
   "metadata": {},
   "outputs": [],
   "source": [
    "#Para obtener un nuevo MdsData, habria que pasar otro lda_model (donde esten mezclado)"
   ]
  },
  {
   "cell_type": "code",
   "execution_count": 9,
   "metadata": {},
   "outputs": [
    {
     "data": {
      "text/plain": [
       "<gensim.models.ldamodel.LdaModel at 0x1e4c44fa198>"
      ]
     },
     "execution_count": 9,
     "metadata": {},
     "output_type": "execute_result"
    }
   ],
   "source": [
    "lda_model"
   ]
  },
  {
   "cell_type": "code",
   "execution_count": 10,
   "metadata": {},
   "outputs": [
    {
     "data": {
      "text/plain": [
       "<bound method LdaState.merge of <gensim.models.ldamodel.LdaState object at 0x000001E4C44FA2B0>>"
      ]
     },
     "execution_count": 10,
     "metadata": {},
     "output_type": "execute_result"
    }
   ],
   "source": [
    "#probemos mezclar cosas\n",
    "lda_model.state.merge"
   ]
  },
  {
   "cell_type": "code",
   "execution_count": 11,
   "metadata": {},
   "outputs": [
    {
     "ename": "TypeError",
     "evalue": "'LdaState' object is not callable",
     "output_type": "error",
     "traceback": [
      "\u001b[1;31m---------------------------------------------------------------------------\u001b[0m",
      "\u001b[1;31mTypeError\u001b[0m                                 Traceback (most recent call last)",
      "\u001b[1;32m<ipython-input-11-ee31069c800f>\u001b[0m in \u001b[0;36m<module>\u001b[1;34m\u001b[0m\n\u001b[1;32m----> 1\u001b[1;33m \u001b[0mlda_model\u001b[0m\u001b[1;33m.\u001b[0m\u001b[0mstate\u001b[0m\u001b[1;33m(\u001b[0m\u001b[1;33m)\u001b[0m\u001b[1;33m\u001b[0m\u001b[1;33m\u001b[0m\u001b[0m\n\u001b[0m",
      "\u001b[1;31mTypeError\u001b[0m: 'LdaState' object is not callable"
     ]
    }
   ],
   "source": [
    "lda_model.state}}}"
   ]
  },
  {
   "cell_type": "code",
   "execution_count": null,
   "metadata": {},
   "outputs": [],
   "source": []
  }
 ],
 "metadata": {
  "kernelspec": {
   "display_name": "Python 3",
   "language": "python",
   "name": "python3"
  },
  "language_info": {
   "codemirror_mode": {
    "name": "ipython",
    "version": 3
   },
   "file_extension": ".py",
   "mimetype": "text/x-python",
   "name": "python",
   "nbconvert_exporter": "python",
   "pygments_lexer": "ipython3",
   "version": "3.7.1"
  }
 },
 "nbformat": 4,
 "nbformat_minor": 4
}
