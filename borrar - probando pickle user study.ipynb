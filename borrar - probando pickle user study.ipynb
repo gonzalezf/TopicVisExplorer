{
 "cells": [
  {
   "cell_type": "code",
   "execution_count": 10,
   "metadata": {},
   "outputs": [],
   "source": [
    "import pickle"
   ]
  },
  {
   "cell_type": "code",
   "execution_count": 16,
   "metadata": {},
   "outputs": [],
   "source": [
    "route_file = 'user_study_results/user_study_data.pkl'\n",
    "with open(route_file, 'rb') as handle:\n",
    "    data_user_study = pickle.load(handle)            "
   ]
  },
  {
   "cell_type": "code",
   "execution_count": 17,
   "metadata": {},
   "outputs": [
    {
     "data": {
      "text/plain": [
       "dict_keys(['topic_id', 'mdsDat', 'name_topics_circles', 'relevantDocumentsDict_new', 'lamData_new', 'omega_value', 'circle_positions', 'relevance_value'])"
      ]
     },
     "execution_count": 17,
     "metadata": {},
     "output_type": "execute_result"
    }
   ],
   "source": [
    "data_user_study.keys()"
   ]
  },
  {
   "cell_type": "code",
   "execution_count": 18,
   "metadata": {},
   "outputs": [
    {
     "data": {
      "text/plain": [
       "{'LDAvisContainer-topic1': 'fly seat good ',\n",
       " 'LDAvisContainer-topic2': 'delay plane wait ',\n",
       " 'LDAvisContainer-topic3': 'flight today change ',\n",
       " 'LDAvisContainer-topic4': 'cancel hour hold ',\n",
       " 'LDAvisContainer-topic5': 'CHUPALALA ',\n",
       " 'LDAvisContainer-topic6': 'time day give '}"
      ]
     },
     "execution_count": 18,
     "metadata": {},
     "output_type": "execute_result"
    }
   ],
   "source": [
    "data_user_study['name_topics_circles']"
   ]
  },
  {
   "cell_type": "code",
   "execution_count": null,
   "metadata": {},
   "outputs": [],
   "source": []
  }
 ],
 "metadata": {
  "kernelspec": {
   "display_name": "Python 3",
   "language": "python",
   "name": "python3"
  },
  "language_info": {
   "codemirror_mode": {
    "name": "ipython",
    "version": 3
   },
   "file_extension": ".py",
   "mimetype": "text/x-python",
   "name": "python",
   "nbconvert_exporter": "python",
   "pygments_lexer": "ipython3",
   "version": "3.9.1"
  }
 },
 "nbformat": 4,
 "nbformat_minor": 4
}
