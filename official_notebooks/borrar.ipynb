{
 "cells": [
  {
   "cell_type": "code",
   "execution_count": 9,
   "metadata": {},
   "outputs": [],
   "source": [
    "# we need the data lemmatized before calculating coherence"
   ]
  },
  {
   "cell_type": "code",
   "execution_count": 10,
   "metadata": {},
   "outputs": [],
   "source": [
    "#https://radimrehurek.com/gensim/models/coherencemodel.html"
   ]
  },
  {
   "cell_type": "code",
   "execution_count": null,
   "metadata": {},
   "outputs": [],
   "source": []
  },
  {
   "cell_type": "markdown",
   "metadata": {},
   "source": [
    "# Seleccionar idioma"
   ]
  },
  {
   "cell_type": "code",
   "execution_count": 11,
   "metadata": {},
   "outputs": [],
   "source": [
    "idioma = 'english'"
   ]
  },
  {
   "cell_type": "markdown",
   "metadata": {},
   "source": [
    "# Importar Librerias"
   ]
  },
  {
   "cell_type": "code",
   "execution_count": 12,
   "metadata": {},
   "outputs": [
    {
     "name": "stdout",
     "output_type": "stream",
     "text": [
      "Today's date: 2021-04-17\n"
     ]
    }
   ],
   "source": [
    "from datetime import date\n",
    "\n",
    "today = date.today()\n",
    "print(\"Today's date:\", today)"
   ]
  },
  {
   "cell_type": "code",
   "execution_count": 13,
   "metadata": {},
   "outputs": [],
   "source": [
    "import nltk; \n",
    "#nltk.download('stopwords')\n",
    "import time\n"
   ]
  },
  {
   "cell_type": "code",
   "execution_count": 14,
   "metadata": {},
   "outputs": [],
   "source": [
    "import re\n",
    "import numpy as np\n",
    "import pandas as pd\n",
    "from pprint import pprint\n",
    "from string import digits\n",
    "from string import punctuation\n",
    "import unidecode\n"
   ]
  },
  {
   "cell_type": "code",
   "execution_count": 15,
   "metadata": {},
   "outputs": [],
   "source": [
    "# Gensim\n",
    "import gensim\n",
    "import gensim.corpora as corpora\n",
    "from gensim.utils import simple_preprocess\n",
    "from gensim.models import CoherenceModel"
   ]
  },
  {
   "cell_type": "code",
   "execution_count": 16,
   "metadata": {},
   "outputs": [],
   "source": [
    "import spacy\n"
   ]
  },
  {
   "cell_type": "code",
   "execution_count": 17,
   "metadata": {},
   "outputs": [],
   "source": [
    "import pyLDAvis\n",
    "import pyLDAvis.gensim  # don't skip this\n",
    "import matplotlib.pyplot as plt\n",
    "%matplotlib inline"
   ]
  },
  {
   "cell_type": "code",
   "execution_count": 18,
   "metadata": {},
   "outputs": [
    {
     "name": "stderr",
     "output_type": "stream",
     "text": [
      "c:\\users\\gonza\\tesisenv\\lib\\site-packages\\ipykernel\\ipkernel.py:283: DeprecationWarning: `should_run_async` will not call `transform_cell` automatically in the future. Please pass the result to `transformed_cell` argument and any exception that happen during thetransform in `preprocessing_exc_tuple` in IPython 7.17 and above.\n",
      "  and should_run_async(code)\n"
     ]
    }
   ],
   "source": [
    "import logging\n",
    "logging.basicConfig(format='%(asctime)s : %(levelname)s : %(message)s', level=logging.ERROR)"
   ]
  },
  {
   "cell_type": "code",
   "execution_count": 19,
   "metadata": {},
   "outputs": [
    {
     "name": "stderr",
     "output_type": "stream",
     "text": [
      "c:\\users\\gonza\\tesisenv\\lib\\site-packages\\ipykernel\\ipkernel.py:283: DeprecationWarning: `should_run_async` will not call `transform_cell` automatically in the future. Please pass the result to `transformed_cell` argument and any exception that happen during thetransform in `preprocessing_exc_tuple` in IPython 7.17 and above.\n",
      "  and should_run_async(code)\n"
     ]
    }
   ],
   "source": [
    "import warnings\n",
    "warnings.filterwarnings(\"ignore\",category=DeprecationWarning)"
   ]
  },
  {
   "cell_type": "code",
   "execution_count": 20,
   "metadata": {},
   "outputs": [],
   "source": [
    "# NLTK Stop words\n",
    "from nltk.corpus import stopwords\n",
    "stop_words = stopwords.words(idioma)\n",
    "stop_words.extend(['linkremoved','amp', 'usernameremoved','link','removed', '<usernameremoved>','<linkremoved>','usernameremoved_usernameremoved','linkremoved_linkremoved'])\n",
    "##stop_words.extend(['from', 'subject', 're', 'edu', 'use'])"
   ]
  },
  {
   "cell_type": "code",
   "execution_count": 21,
   "metadata": {},
   "outputs": [],
   "source": [
    "#stopwords"
   ]
  },
  {
   "cell_type": "markdown",
   "metadata": {},
   "source": [
    "# Importar datos"
   ]
  },
  {
   "cell_type": "code",
   "execution_count": 22,
   "metadata": {},
   "outputs": [],
   "source": [
    "path_data = \"G:\\\\My Drive\\\\2019-1\\\\Tesis\\\\Topic Modeling\\\\LDA2VEC\\\\Data\\\\\"\n"
   ]
  },
  {
   "cell_type": "code",
   "execution_count": 23,
   "metadata": {},
   "outputs": [],
   "source": [
    "region = 'europe_english'\n",
    "\n",
    "#full_english\n",
    "#full_spanish\n",
    "#northamerica_english\n",
    "#asia_english\n",
    "#europe_english\n",
    "#latinamerica_spanish\n",
    "#europe_spanish\n",
    "name_file = ''\n",
    "if region == 'full_english':\n",
    "    name_file = 'English_tweets_geolocated_without_preprocess_text_20190411.csv'\n",
    "elif region == 'full_spanish':\n",
    "    name_file = 'Spanish_tweets_geolocated_without_preprocess_text_20190411.csv'\n",
    "elif region == 'northamerica_english':\n",
    "    name_file = 'english_northamerica_tweets_20190411.csv'\n",
    "elif region == 'asia_english':\n",
    "    name_file = 'english_asia_tweets_20190411.csv'\n",
    "elif region == 'europe_english':\n",
    "    name_file = 'english_europe_tweets_20190411.csv'\n",
    "elif region == 'latinamerica_spanish':\n",
    "    name_file = 'spanish_latinamerica_tweets_20190411.csv'\n",
    "elif region == 'europe_spanish':\n",
    "    name_file = 'spanish_europe_tweets_20190411.csv'\n",
    "    "
   ]
  },
  {
   "cell_type": "code",
   "execution_count": 24,
   "metadata": {},
   "outputs": [],
   "source": [
    "df = pd.read_csv(path_data+name_file,encoding='utf-8')"
   ]
  },
  {
   "cell_type": "code",
   "execution_count": 25,
   "metadata": {},
   "outputs": [
    {
     "data": {
      "text/plain": [
       "111745"
      ]
     },
     "execution_count": 25,
     "metadata": {},
     "output_type": "execute_result"
    }
   ],
   "source": [
    "len(df)"
   ]
  },
  {
   "cell_type": "code",
   "execution_count": null,
   "metadata": {},
   "outputs": [],
   "source": []
  },
  {
   "cell_type": "code",
   "execution_count": 26,
   "metadata": {},
   "outputs": [
    {
     "data": {
      "text/plain": [
       "111745"
      ]
     },
     "execution_count": 26,
     "metadata": {},
     "output_type": "execute_result"
    }
   ],
   "source": [
    "len(df)"
   ]
  },
  {
   "cell_type": "markdown",
   "metadata": {},
   "source": [
    "**Se usará la columna 'texto completo' para extraer los datos de los tweets**"
   ]
  },
  {
   "cell_type": "code",
   "execution_count": 20,
   "metadata": {},
   "outputs": [
    {
     "name": "stderr",
     "output_type": "stream",
     "text": [
      "<ipython-input-20-3662fb1d5b04>:1: FutureWarning: Passing a negative integer is deprecated in version 1.0 and will not be supported in future version. Instead, use None to not limit the column width.\n",
      "  pd.set_option('display.max_colwidth', -1)\n"
     ]
    },
    {
     "data": {
      "text/html": [
       "<div>\n",
       "<style scoped>\n",
       "    .dataframe tbody tr th:only-of-type {\n",
       "        vertical-align: middle;\n",
       "    }\n",
       "\n",
       "    .dataframe tbody tr th {\n",
       "        vertical-align: top;\n",
       "    }\n",
       "\n",
       "    .dataframe thead th {\n",
       "        text-align: right;\n",
       "    }\n",
       "</style>\n",
       "<table border=\"1\" class=\"dataframe\">\n",
       "  <thead>\n",
       "    <tr style=\"text-align: right;\">\n",
       "      <th></th>\n",
       "      <th>Unnamed: 0</th>\n",
       "      <th>created_at2</th>\n",
       "      <th>id</th>\n",
       "      <th>created_at</th>\n",
       "      <th>user.screen_name</th>\n",
       "      <th>user_location</th>\n",
       "      <th>coordinates</th>\n",
       "      <th>text</th>\n",
       "      <th>full_text</th>\n",
       "      <th>retweet_created_at</th>\n",
       "      <th>retweet_full_text</th>\n",
       "      <th>texto_completo</th>\n",
       "      <th>ubicacion_encontrada</th>\n",
       "    </tr>\n",
       "  </thead>\n",
       "  <tbody>\n",
       "    <tr>\n",
       "      <th>0</th>\n",
       "      <td>2</td>\n",
       "      <td>2018-04-01</td>\n",
       "      <td>id-980480940567924736</td>\n",
       "      <td>Sun Apr 01 16:24:07 +0000 2018</td>\n",
       "      <td>CamHatch</td>\n",
       "      <td>Rotterdam, The Netherlands</td>\n",
       "      <td>NaN</td>\n",
       "      <td>Meet our newest product: the transparent CamHatch webcam cover! We've combined everything you loved about the Matte https://t.co/ZHCUxIFlds</td>\n",
       "      <td>Meet our newest product: the transparent CamHatch webcam cover! We've combined everything you loved about the Matte Black version with the transparency of Mark Zuckerberg. Protect your privacy without having to change the appearance of your laptop, tablet or smartphone.  https://t.co/s9GbLf8tRG</td>\n",
       "      <td>NaN</td>\n",
       "      <td>NaN</td>\n",
       "      <td>meet our newest product: the transparent camhatch webcam cover! we've combined everything you loved about the matte black version with the transparency of mark zuckerberg. protect your privacy without having to change the appearance of your laptop, tablet or smartphone.  &lt;link removed&gt;</td>\n",
       "      <td>Netherlands</td>\n",
       "    </tr>\n",
       "    <tr>\n",
       "      <th>1</th>\n",
       "      <td>17</td>\n",
       "      <td>2018-04-01</td>\n",
       "      <td>id-980481203110281216</td>\n",
       "      <td>Sun Apr 01 16:25:09 +0000 2018</td>\n",
       "      <td>iky86</td>\n",
       "      <td>stoke on trent</td>\n",
       "      <td>NaN</td>\n",
       "      <td>@SupportOurLefty This week has been the most #Triggered I've seen Lefties since Trump won (Sadly, we have #Maybot &amp;amp; https://t.co/GPajHgkGur</td>\n",
       "      <td>@SupportOurLefty This week has been the most #Triggered I've seen Lefties since Trump won (Sadly, we have #Maybot &amp;amp; Amber Dudd  on other side) Friends! https://t.co/B9IOQD3FFB</td>\n",
       "      <td>NaN</td>\n",
       "      <td>NaN</td>\n",
       "      <td>&lt;usernameremoved&gt; this week has been the most #triggered i've seen lefties since trump won (sadly, we have #maybot &amp;amp; amber dudd  on other side) friends! &lt;link removed&gt;</td>\n",
       "      <td>United Kingdom</td>\n",
       "    </tr>\n",
       "    <tr>\n",
       "      <th>2</th>\n",
       "      <td>43</td>\n",
       "      <td>2018-04-01</td>\n",
       "      <td>id-980480454846566401</td>\n",
       "      <td>Sun Apr 01 16:22:11 +0000 2018</td>\n",
       "      <td>MichaelJF80</td>\n",
       "      <td>Liverpool, England</td>\n",
       "      <td>NaN</td>\n",
       "      <td>Pulitzer prize for this lady. Investigative journalism at it's finest. https://t.co/ojcRGpCQf4</td>\n",
       "      <td>NaN</td>\n",
       "      <td>NaN</td>\n",
       "      <td>NaN</td>\n",
       "      <td>pulitzer prize for this lady. investigative journalism at it's finest. &lt;link removed&gt;</td>\n",
       "      <td>United Kingdom</td>\n",
       "    </tr>\n",
       "    <tr>\n",
       "      <th>3</th>\n",
       "      <td>45</td>\n",
       "      <td>2018-04-01</td>\n",
       "      <td>id-980480424429400071</td>\n",
       "      <td>Sun Apr 01 16:22:04 +0000 2018</td>\n",
       "      <td>ruechids1</td>\n",
       "      <td>Enfield, London</td>\n",
       "      <td>NaN</td>\n",
       "      <td>Theres no more secrecy, confident and privacy and no protection of personal data. Our lives are traded on the open https://t.co/jSIOYGP0mu</td>\n",
       "      <td>Theres no more secrecy, confident and privacy and no protection of personal data. Our lives are traded on the open market! https://t.co/gVYQCH3qvJ</td>\n",
       "      <td>NaN</td>\n",
       "      <td>NaN</td>\n",
       "      <td>theres no more secrecy, confident and privacy and no protection of personal data. our lives are traded on the open market! &lt;link removed&gt;</td>\n",
       "      <td>United Kingdom</td>\n",
       "    </tr>\n",
       "    <tr>\n",
       "      <th>4</th>\n",
       "      <td>51</td>\n",
       "      <td>2018-04-01</td>\n",
       "      <td>id-980480325083164673</td>\n",
       "      <td>Sun Apr 01 16:21:40 +0000 2018</td>\n",
       "      <td>Hugh_Macfarlane</td>\n",
       "      <td>Glenrothes, Fife</td>\n",
       "      <td>NaN</td>\n",
       "      <td>AggregateIQ: the obscure Canadian tech firm and the Brexit data riddle https://t.co/nzEsS4mVbi</td>\n",
       "      <td>NaN</td>\n",
       "      <td>NaN</td>\n",
       "      <td>NaN</td>\n",
       "      <td>aggregateiq: the obscure canadian tech firm and the brexit data riddle &lt;link removed&gt;</td>\n",
       "      <td>United Kingdom</td>\n",
       "    </tr>\n",
       "    <tr>\n",
       "      <th>5</th>\n",
       "      <td>73</td>\n",
       "      <td>2018-04-01</td>\n",
       "      <td>id-980482011507908608</td>\n",
       "      <td>Sun Apr 01 16:28:22 +0000 2018</td>\n",
       "      <td>amasoliverdilme</td>\n",
       "      <td>Barcelona</td>\n",
       "      <td>NaN</td>\n",
       "      <td>80 Best Data Science Books That Are Worthy Reading https://t.co/ggd5ebEBLq #bigdata #datascience https://t.co/Pz20Aqe6HK</td>\n",
       "      <td>NaN</td>\n",
       "      <td>NaN</td>\n",
       "      <td>NaN</td>\n",
       "      <td>80 best data science books that are worthy reading &lt;link removed&gt; #bigdata #datascience &lt;link removed&gt;</td>\n",
       "      <td>Spain</td>\n",
       "    </tr>\n",
       "    <tr>\n",
       "      <th>6</th>\n",
       "      <td>77</td>\n",
       "      <td>2018-04-01</td>\n",
       "      <td>id-980482066977640449</td>\n",
       "      <td>Sun Apr 01 16:28:35 +0000 2018</td>\n",
       "      <td>tinchissy</td>\n",
       "      <td>united kingdom</td>\n",
       "      <td>NaN</td>\n",
       "      <td>You cant just go swanning around being *Hacked off* and expect us plebs to keep you up to date. Awake. That is wha https://t.co/7lJt54Tovb</td>\n",
       "      <td>You cant just go swanning around being *Hacked off* and expect us plebs to keep you up to date. Awake. That is what you need to be young man. AWAKE! We need you now. Put the champagne down. https://t.co/EmGYJ5qtmb</td>\n",
       "      <td>NaN</td>\n",
       "      <td>NaN</td>\n",
       "      <td>you cant just go swanning around being *hacked off* and expect us plebs to keep you up to date. awake. that is what you need to be young man. awake! we need you now. put the champagne down. &lt;link removed&gt;</td>\n",
       "      <td>United Kingdom</td>\n",
       "    </tr>\n",
       "    <tr>\n",
       "      <th>7</th>\n",
       "      <td>90</td>\n",
       "      <td>2018-04-01</td>\n",
       "      <td>id-980482108228501506</td>\n",
       "      <td>Sun Apr 01 16:28:45 +0000 2018</td>\n",
       "      <td>Tonybirte</td>\n",
       "      <td>Antwerp, Belgium</td>\n",
       "      <td>NaN</td>\n",
       "      <td>Recommend everyone does this in the #FBPE community. https://t.co/qkIdUVcJgY</td>\n",
       "      <td>NaN</td>\n",
       "      <td>NaN</td>\n",
       "      <td>NaN</td>\n",
       "      <td>recommend everyone does this in the #fbpe community. &lt;link removed&gt;</td>\n",
       "      <td>Belgium</td>\n",
       "    </tr>\n",
       "    <tr>\n",
       "      <th>8</th>\n",
       "      <td>91</td>\n",
       "      <td>2018-04-01</td>\n",
       "      <td>id-980482280358666240</td>\n",
       "      <td>Sun Apr 01 16:29:26 +0000 2018</td>\n",
       "      <td>thetommoriarty</td>\n",
       "      <td>London</td>\n",
       "      <td>NaN</td>\n",
       "      <td>@omminc I'm pretty sure many who voted Leave had no idea what they were voting for and had been conditioned by https://t.co/ivBv7KmbAs</td>\n",
       "      <td>@omminc I'm pretty sure many who voted Leave had no idea what they were voting for and had been conditioned by #CambridgeAnalytica to vote based on a lie they had been programmed with. They voted that way because they were told to.</td>\n",
       "      <td>NaN</td>\n",
       "      <td>NaN</td>\n",
       "      <td>&lt;usernameremoved&gt; i'm pretty sure many who voted leave had no idea what they were voting for and had been conditioned by #cambridgeanalytica to vote based on a lie they had been programmed with. they voted that way because they were told to.</td>\n",
       "      <td>United Kingdom</td>\n",
       "    </tr>\n",
       "    <tr>\n",
       "      <th>9</th>\n",
       "      <td>94</td>\n",
       "      <td>2018-04-01</td>\n",
       "      <td>id-980482244564471809</td>\n",
       "      <td>Sun Apr 01 16:29:18 +0000 2018</td>\n",
       "      <td>WillBlackWriter</td>\n",
       "      <td>Cambridge, European Union</td>\n",
       "      <td>NaN</td>\n",
       "      <td>The longer @CamAnalytica ignores questions about this, the more suspicious people will be that their data was someh https://t.co/xIF0fDgbrm</td>\n",
       "      <td>The longer @CamAnalytica ignores questions about this, the more suspicious people will be that their data was somehow given to Russia to aid its hybrid war on democracy. https://t.co/BeHQAgi90D</td>\n",
       "      <td>NaN</td>\n",
       "      <td>NaN</td>\n",
       "      <td>the longer &lt;usernameremoved&gt; ignores questions about this, the more suspicious people will be that their data was somehow given to russia to aid its hybrid war on democracy. &lt;link removed&gt;</td>\n",
       "      <td>United Kingdom</td>\n",
       "    </tr>\n",
       "  </tbody>\n",
       "</table>\n",
       "</div>"
      ],
      "text/plain": [
       "   Unnamed: 0 created_at2                     id  \\\n",
       "0  2           2018-04-01  id-980480940567924736   \n",
       "1  17          2018-04-01  id-980481203110281216   \n",
       "2  43          2018-04-01  id-980480454846566401   \n",
       "3  45          2018-04-01  id-980480424429400071   \n",
       "4  51          2018-04-01  id-980480325083164673   \n",
       "5  73          2018-04-01  id-980482011507908608   \n",
       "6  77          2018-04-01  id-980482066977640449   \n",
       "7  90          2018-04-01  id-980482108228501506   \n",
       "8  91          2018-04-01  id-980482280358666240   \n",
       "9  94          2018-04-01  id-980482244564471809   \n",
       "\n",
       "                       created_at user.screen_name  \\\n",
       "0  Sun Apr 01 16:24:07 +0000 2018  CamHatch          \n",
       "1  Sun Apr 01 16:25:09 +0000 2018  iky86             \n",
       "2  Sun Apr 01 16:22:11 +0000 2018  MichaelJF80       \n",
       "3  Sun Apr 01 16:22:04 +0000 2018  ruechids1         \n",
       "4  Sun Apr 01 16:21:40 +0000 2018  Hugh_Macfarlane   \n",
       "5  Sun Apr 01 16:28:22 +0000 2018  amasoliverdilme   \n",
       "6  Sun Apr 01 16:28:35 +0000 2018  tinchissy         \n",
       "7  Sun Apr 01 16:28:45 +0000 2018  Tonybirte         \n",
       "8  Sun Apr 01 16:29:26 +0000 2018  thetommoriarty    \n",
       "9  Sun Apr 01 16:29:18 +0000 2018  WillBlackWriter   \n",
       "\n",
       "                user_location coordinates  \\\n",
       "0  Rotterdam, The Netherlands  NaN          \n",
       "1  stoke on trent              NaN          \n",
       "2  Liverpool, England          NaN          \n",
       "3  Enfield, London             NaN          \n",
       "4  Glenrothes, Fife            NaN          \n",
       "5  Barcelona                   NaN          \n",
       "6  united kingdom              NaN          \n",
       "7  Antwerp, Belgium            NaN          \n",
       "8  London                      NaN          \n",
       "9  Cambridge, European Union   NaN          \n",
       "\n",
       "                                                                                                                                              text  \\\n",
       "0  Meet our newest product: the transparent CamHatch webcam cover! We've combined everything you loved about the Matte https://t.co/ZHCUxIFlds       \n",
       "1  @SupportOurLefty This week has been the most #Triggered I've seen Lefties since Trump won (Sadly, we have #Maybot &amp; https://t.co/GPajHgkGur   \n",
       "2  Pulitzer prize for this lady. Investigative journalism at it's finest. https://t.co/ojcRGpCQf4                                                    \n",
       "3  Theres no more secrecy, confident and privacy and no protection of personal data. Our lives are traded on the open https://t.co/jSIOYGP0mu        \n",
       "4  AggregateIQ: the obscure Canadian tech firm and the Brexit data riddle https://t.co/nzEsS4mVbi                                                    \n",
       "5  80 Best Data Science Books That Are Worthy Reading https://t.co/ggd5ebEBLq #bigdata #datascience https://t.co/Pz20Aqe6HK                          \n",
       "6  You cant just go swanning around being *Hacked off* and expect us plebs to keep you up to date. Awake. That is wha https://t.co/7lJt54Tovb        \n",
       "7  Recommend everyone does this in the #FBPE community. https://t.co/qkIdUVcJgY                                                                      \n",
       "8  @omminc I'm pretty sure many who voted Leave had no idea what they were voting for and had been conditioned by https://t.co/ivBv7KmbAs            \n",
       "9  The longer @CamAnalytica ignores questions about this, the more suspicious people will be that their data was someh https://t.co/xIF0fDgbrm       \n",
       "\n",
       "                                                                                                                                                                                                                                                                                                 full_text  \\\n",
       "0  Meet our newest product: the transparent CamHatch webcam cover! We've combined everything you loved about the Matte Black version with the transparency of Mark Zuckerberg. Protect your privacy without having to change the appearance of your laptop, tablet or smartphone.  https://t.co/s9GbLf8tRG   \n",
       "1  @SupportOurLefty This week has been the most #Triggered I've seen Lefties since Trump won (Sadly, we have #Maybot &amp; Amber Dudd  on other side) Friends! https://t.co/B9IOQD3FFB                                                                                                                       \n",
       "2  NaN                                                                                                                                                                                                                                                                                                       \n",
       "3  Theres no more secrecy, confident and privacy and no protection of personal data. Our lives are traded on the open market! https://t.co/gVYQCH3qvJ                                                                                                                                                        \n",
       "4  NaN                                                                                                                                                                                                                                                                                                       \n",
       "5  NaN                                                                                                                                                                                                                                                                                                       \n",
       "6  You cant just go swanning around being *Hacked off* and expect us plebs to keep you up to date. Awake. That is what you need to be young man. AWAKE! We need you now. Put the champagne down. https://t.co/EmGYJ5qtmb                                                                                     \n",
       "7  NaN                                                                                                                                                                                                                                                                                                       \n",
       "8  @omminc I'm pretty sure many who voted Leave had no idea what they were voting for and had been conditioned by #CambridgeAnalytica to vote based on a lie they had been programmed with. They voted that way because they were told to.                                                                   \n",
       "9  The longer @CamAnalytica ignores questions about this, the more suspicious people will be that their data was somehow given to Russia to aid its hybrid war on democracy. https://t.co/BeHQAgi90D                                                                                                         \n",
       "\n",
       "   retweet_created_at  retweet_full_text  \\\n",
       "0 NaN                 NaN                  \n",
       "1 NaN                 NaN                  \n",
       "2 NaN                 NaN                  \n",
       "3 NaN                 NaN                  \n",
       "4 NaN                 NaN                  \n",
       "5 NaN                 NaN                  \n",
       "6 NaN                 NaN                  \n",
       "7 NaN                 NaN                  \n",
       "8 NaN                 NaN                  \n",
       "9 NaN                 NaN                  \n",
       "\n",
       "                                                                                                                                                                                                                                                                                   texto_completo  \\\n",
       "0  meet our newest product: the transparent camhatch webcam cover! we've combined everything you loved about the matte black version with the transparency of mark zuckerberg. protect your privacy without having to change the appearance of your laptop, tablet or smartphone.  <link removed>   \n",
       "1  <usernameremoved> this week has been the most #triggered i've seen lefties since trump won (sadly, we have #maybot &amp; amber dudd  on other side) friends! <link removed>                                                                                                                      \n",
       "2  pulitzer prize for this lady. investigative journalism at it's finest. <link removed>                                                                                                                                                                                                            \n",
       "3  theres no more secrecy, confident and privacy and no protection of personal data. our lives are traded on the open market! <link removed>                                                                                                                                                        \n",
       "4  aggregateiq: the obscure canadian tech firm and the brexit data riddle <link removed>                                                                                                                                                                                                            \n",
       "5  80 best data science books that are worthy reading <link removed> #bigdata #datascience <link removed>                                                                                                                                                                                           \n",
       "6  you cant just go swanning around being *hacked off* and expect us plebs to keep you up to date. awake. that is what you need to be young man. awake! we need you now. put the champagne down. <link removed>                                                                                     \n",
       "7  recommend everyone does this in the #fbpe community. <link removed>                                                                                                                                                                                                                              \n",
       "8  <usernameremoved> i'm pretty sure many who voted leave had no idea what they were voting for and had been conditioned by #cambridgeanalytica to vote based on a lie they had been programmed with. they voted that way because they were told to.                                                \n",
       "9  the longer <usernameremoved> ignores questions about this, the more suspicious people will be that their data was somehow given to russia to aid its hybrid war on democracy. <link removed>                                                                                                     \n",
       "\n",
       "  ubicacion_encontrada  \n",
       "0  Netherlands          \n",
       "1  United Kingdom       \n",
       "2  United Kingdom       \n",
       "3  United Kingdom       \n",
       "4  United Kingdom       \n",
       "5  Spain                \n",
       "6  United Kingdom       \n",
       "7  Belgium              \n",
       "8  United Kingdom       \n",
       "9  United Kingdom       "
      ]
     },
     "execution_count": 20,
     "metadata": {},
     "output_type": "execute_result"
    }
   ],
   "source": [
    "pd.set_option('display.max_colwidth', -1)\n",
    "df['texto_completo'] =  df['texto_completo'].str.lower()\n",
    "df.head(10)"
   ]
  },
  {
   "cell_type": "markdown",
   "metadata": {},
   "source": [
    "# remove links"
   ]
  },
  {
   "cell_type": "code",
   "execution_count": 21,
   "metadata": {},
   "outputs": [],
   "source": [
    "df['texto_completo'].replace({\"http\\S+\": '<linkremoved>'}, inplace=True, regex=True)\n"
   ]
  },
  {
   "cell_type": "code",
   "execution_count": 22,
   "metadata": {},
   "outputs": [],
   "source": [
    "df['texto_completo'].replace({\"<link removed>\": '<linkremoved>'}, inplace=True, regex=True)\n",
    "\n"
   ]
  },
  {
   "cell_type": "code",
   "execution_count": 23,
   "metadata": {},
   "outputs": [
    {
     "data": {
      "text/plain": [
       "0    meet our newest product: the transparent camhatch webcam cover! we've combined everything you loved about the matte black version with the transparency of mark zuckerberg. protect your privacy without having to change the appearance of your laptop, tablet or smartphone.  <linkremoved>\n",
       "1    <usernameremoved> this week has been the most #triggered i've seen lefties since trump won (sadly, we have #maybot &amp; amber dudd  on other side) friends! <linkremoved>                                                                                                                   \n",
       "2    pulitzer prize for this lady. investigative journalism at it's finest. <linkremoved>                                                                                                                                                                                                         \n",
       "3    theres no more secrecy, confident and privacy and no protection of personal data. our lives are traded on the open market! <linkremoved>                                                                                                                                                     \n",
       "4    aggregateiq: the obscure canadian tech firm and the brexit data riddle <linkremoved>                                                                                                                                                                                                         \n",
       "Name: texto_completo, dtype: object"
      ]
     },
     "execution_count": 23,
     "metadata": {},
     "output_type": "execute_result"
    }
   ],
   "source": [
    "df['texto_completo'].head()"
   ]
  },
  {
   "cell_type": "code",
   "execution_count": null,
   "metadata": {},
   "outputs": [],
   "source": []
  },
  {
   "cell_type": "markdown",
   "metadata": {},
   "source": [
    "# remove usernames"
   ]
  },
  {
   "cell_type": "code",
   "execution_count": 24,
   "metadata": {},
   "outputs": [],
   "source": [
    "df['texto_completo'].replace({\"@[^\\s]+\": '<usernameremoved>'}, inplace=True, regex=True)"
   ]
  },
  {
   "cell_type": "markdown",
   "metadata": {},
   "source": [
    "# remove duplicates"
   ]
  },
  {
   "cell_type": "code",
   "execution_count": 25,
   "metadata": {},
   "outputs": [
    {
     "data": {
      "text/plain": [
       "111745"
      ]
     },
     "execution_count": 25,
     "metadata": {},
     "output_type": "execute_result"
    }
   ],
   "source": [
    "len(df)"
   ]
  },
  {
   "cell_type": "code",
   "execution_count": 26,
   "metadata": {},
   "outputs": [],
   "source": [
    "df.drop_duplicates(['texto_completo'],keep='first', inplace=True)"
   ]
  },
  {
   "cell_type": "code",
   "execution_count": 27,
   "metadata": {},
   "outputs": [
    {
     "name": "stdout",
     "output_type": "stream",
     "text": [
      "El numero de tweets no duplicados es 111695\n"
     ]
    }
   ],
   "source": [
    "print(\"El numero de tweets no duplicados es\", len(df)) #numero de tweets no duplicados"
   ]
  },
  {
   "cell_type": "code",
   "execution_count": null,
   "metadata": {},
   "outputs": [],
   "source": []
  },
  {
   "cell_type": "code",
   "execution_count": 28,
   "metadata": {},
   "outputs": [
    {
     "name": "stdout",
     "output_type": "stream",
     "text": [
      "El numero de usuarios es 46918\n"
     ]
    }
   ],
   "source": [
    "# numero de usuarios\n",
    "tweets_by_user_data = df.groupby('user.screen_name').agg('size').sort_values(ascending=False).reset_index()\n",
    "print(\"El numero de usuarios es\",len(tweets_by_user_data))"
   ]
  },
  {
   "cell_type": "markdown",
   "metadata": {},
   "source": [
    "# remove digits, puntuactions, symbols"
   ]
  },
  {
   "cell_type": "code",
   "execution_count": 29,
   "metadata": {},
   "outputs": [
    {
     "data": {
      "text/plain": [
       "'!\"#$%&\\'()*+,-./:;<=>?@[\\\\]^_`{|}~'"
      ]
     },
     "execution_count": 29,
     "metadata": {},
     "output_type": "execute_result"
    }
   ],
   "source": [
    "punctuation"
   ]
  },
  {
   "cell_type": "code",
   "execution_count": 30,
   "metadata": {},
   "outputs": [],
   "source": [
    "punctuation+='¡¿'"
   ]
  },
  {
   "cell_type": "code",
   "execution_count": 31,
   "metadata": {},
   "outputs": [
    {
     "data": {
      "text/plain": [
       "'!\"#$%&\\'()*+,-./:;<=>?@[\\\\]^_`{|}~¡¿'"
      ]
     },
     "execution_count": 31,
     "metadata": {},
     "output_type": "execute_result"
    }
   ],
   "source": [
    "punctuation"
   ]
  },
  {
   "cell_type": "code",
   "execution_count": 32,
   "metadata": {},
   "outputs": [],
   "source": [
    "#Remove digits and puntuaction\n",
    "remove_digits = str.maketrans(digits, ' '*len(digits))#remove_digits = str.maketrans('', '', digits)\n",
    "remove_punctuation = str.maketrans(punctuation, ' '*len(punctuation))#remove_punctuation = str.maketrans('', '', punctuation)\n",
    "remove_hashtags_caracter = str.maketrans('#', ' '*len('#'))\n",
    "#las palabras de los hashtag se mantiene, pero no el simbolo. "
   ]
  },
  {
   "cell_type": "code",
   "execution_count": 33,
   "metadata": {},
   "outputs": [
    {
     "data": {
      "text/plain": [
       "0    meet our newest product: the transparent camhatch webcam cover! we've combined everything you loved about the matte black version with the transparency of mark zuckerberg. protect your privacy without having to change the appearance of your laptop, tablet or smartphone.  <linkremoved>\n",
       "1    <usernameremoved> this week has been the most #triggered i've seen lefties since trump won (sadly, we have #maybot &amp; amber dudd  on other side) friends! <linkremoved>                                                                                                                   \n",
       "2    pulitzer prize for this lady. investigative journalism at it's finest. <linkremoved>                                                                                                                                                                                                         \n",
       "3    theres no more secrecy, confident and privacy and no protection of personal data. our lives are traded on the open market! <linkremoved>                                                                                                                                                     \n",
       "4    aggregateiq: the obscure canadian tech firm and the brexit data riddle <linkremoved>                                                                                                                                                                                                         \n",
       "Name: texto_completo, dtype: object"
      ]
     },
     "execution_count": 33,
     "metadata": {},
     "output_type": "execute_result"
    }
   ],
   "source": [
    "df['texto_completo'].head()"
   ]
  },
  {
   "cell_type": "code",
   "execution_count": 34,
   "metadata": {},
   "outputs": [],
   "source": [
    "#df['texto_completo'].replace({\"ee.uu\": 'eeuu'}, inplace=True, regex=True)\n"
   ]
  },
  {
   "cell_type": "code",
   "execution_count": 35,
   "metadata": {},
   "outputs": [],
   "source": [
    "#a = df[df['texto_completo'].str.contains('ee.uu', regex = True)]"
   ]
  },
  {
   "cell_type": "code",
   "execution_count": 36,
   "metadata": {},
   "outputs": [],
   "source": [
    "#len(a)+51"
   ]
  },
  {
   "cell_type": "code",
   "execution_count": null,
   "metadata": {},
   "outputs": [],
   "source": []
  },
  {
   "cell_type": "markdown",
   "metadata": {},
   "source": [
    "# Ojo, en Topic modeling no remuevo tildes. Solo lo hago en word embeddings"
   ]
  },
  {
   "cell_type": "code",
   "execution_count": 37,
   "metadata": {},
   "outputs": [],
   "source": [
    "import unidecode\n",
    "\n",
    "data = []\n",
    "for tweet in df['texto_completo']:\n",
    "    tweet = tweet.translate(remove_digits)\n",
    "    #tweet = tweet.lower() it wasn't a good idea,, we lost a lot of\n",
    "    tweet = tweet.translate(remove_punctuation)\n",
    "    tweet = tweet.translate(remove_hashtags_caracter)\n",
    "    tweet = tweet.lower()\n",
    "    #tweet = unidecode.unidecode(tweet)  #esta linea se hacia en word embeddings\n",
    "    #tweet = tweet.strip().split()\n",
    "    #filtered_words = [word for word in tweet if word not in stopWords]\n",
    "    #corpus[id_tweet]= filtered_words\n",
    "    #id_tweet+=1\n",
    "    data.append(tweet)\n"
   ]
  },
  {
   "cell_type": "code",
   "execution_count": 38,
   "metadata": {},
   "outputs": [
    {
     "data": {
      "text/plain": [
       "['meet our newest product  the transparent camhatch webcam cover  we ve combined everything you loved about the matte black version with the transparency of mark zuckerberg  protect your privacy without having to change the appearance of your laptop  tablet or smartphone    linkremoved ',\n",
       " ' usernameremoved  this week has been the most  triggered i ve seen lefties since trump won  sadly  we have  maybot  amp  amber dudd  on other side  friends   linkremoved ',\n",
       " 'pulitzer prize for this lady  investigative journalism at it s finest   linkremoved ',\n",
       " 'theres no more secrecy  confident and privacy and no protection of personal data  our lives are traded on the open market   linkremoved ',\n",
       " 'aggregateiq  the obscure canadian tech firm and the brexit data riddle  linkremoved ']"
      ]
     },
     "execution_count": 38,
     "metadata": {},
     "output_type": "execute_result"
    }
   ],
   "source": [
    "data[0:5]"
   ]
  },
  {
   "cell_type": "code",
   "execution_count": null,
   "metadata": {},
   "outputs": [],
   "source": []
  },
  {
   "cell_type": "code",
   "execution_count": null,
   "metadata": {},
   "outputs": [],
   "source": []
  },
  {
   "cell_type": "code",
   "execution_count": 39,
   "metadata": {},
   "outputs": [
    {
     "data": {
      "text/plain": [
       "111695"
      ]
     },
     "execution_count": 39,
     "metadata": {},
     "output_type": "execute_result"
    }
   ],
   "source": [
    "len(data)"
   ]
  },
  {
   "cell_type": "code",
   "execution_count": 40,
   "metadata": {},
   "outputs": [
    {
     "data": {
      "text/plain": [
       "111695"
      ]
     },
     "execution_count": 40,
     "metadata": {},
     "output_type": "execute_result"
    }
   ],
   "source": [
    "len(df)"
   ]
  },
  {
   "cell_type": "code",
   "execution_count": 41,
   "metadata": {},
   "outputs": [
    {
     "name": "stdout",
     "output_type": "stream",
     "text": [
      "(' usernameremoved  this week has been the most  triggered i ve seen lefties '\n",
      " 'since trump won  sadly  we have  maybot  amp  amber dudd  on other side  '\n",
      " 'friends   linkremoved ')\n"
     ]
    }
   ],
   "source": [
    "pprint(data[1])"
   ]
  },
  {
   "cell_type": "markdown",
   "metadata": {},
   "source": [
    "#  Twitter tokenizer"
   ]
  },
  {
   "cell_type": "code",
   "execution_count": 42,
   "metadata": {},
   "outputs": [],
   "source": [
    "from nltk.tokenize import TweetTokenizer"
   ]
  },
  {
   "cell_type": "code",
   "execution_count": 43,
   "metadata": {},
   "outputs": [],
   "source": [
    "tknzr = TweetTokenizer()\n",
    "def sent_to_words(sentences):\n",
    "    for sentence in sentences:\n",
    "        yield(tknzr.tokenize(sentence))\n"
   ]
  },
  {
   "cell_type": "code",
   "execution_count": 44,
   "metadata": {},
   "outputs": [],
   "source": [
    "data_words = list(sent_to_words(data))\n",
    "#0:27"
   ]
  },
  {
   "cell_type": "code",
   "execution_count": 45,
   "metadata": {},
   "outputs": [
    {
     "name": "stdout",
     "output_type": "stream",
     "text": [
      "['usernameremoved', 'this', 'week', 'has', 'been', 'the', 'most', 'triggered', 'i', 've', 'seen', 'lefties', 'since', 'trump', 'won', 'sadly', 'we', 'have', 'maybot', 'amp', 'amber', 'dudd', 'on', 'other', 'side', 'friends', 'linkremoved']\n"
     ]
    }
   ],
   "source": [
    "print(data_words[1])"
   ]
  },
  {
   "cell_type": "code",
   "execution_count": 46,
   "metadata": {},
   "outputs": [
    {
     "name": "stdout",
     "output_type": "stream",
     "text": [
      "['aggregateiq', 'the', 'obscure', 'canadian', 'tech', 'firm', 'and', 'the', 'brexit', 'data', 'riddle', 'linkremoved']\n"
     ]
    }
   ],
   "source": [
    "print(data_words[4])"
   ]
  },
  {
   "cell_type": "code",
   "execution_count": 47,
   "metadata": {},
   "outputs": [
    {
     "name": "stdout",
     "output_type": "stream",
     "text": [
      "['best', 'data', 'science', 'books', 'that', 'are', 'worthy', 'reading', 'linkremoved', 'bigdata', 'datascience', 'linkremoved']\n"
     ]
    }
   ],
   "source": [
    "print(data_words[5])"
   ]
  },
  {
   "cell_type": "markdown",
   "metadata": {},
   "source": [
    "# Create brigram and trigram models"
   ]
  },
  {
   "cell_type": "code",
   "execution_count": null,
   "metadata": {},
   "outputs": [],
   "source": []
  },
  {
   "cell_type": "code",
   "execution_count": 48,
   "metadata": {},
   "outputs": [
    {
     "name": "stdout",
     "output_type": "stream",
     "text": [
      "['usernameremoved', 'this_week', 'has_been', 'the', 'most', 'triggered', 'i_ve_seen', 'lefties', 'since', 'trump_won', 'sadly', 'we', 'have', 'maybot', 'amp', 'amber', 'dudd', 'on', 'other_side', 'friends', 'linkremoved']\n"
     ]
    }
   ],
   "source": [
    "# Build the bigram and trigram models\n",
    "#quizas el min count es muy bajo\n",
    "#documentaicon de bigramas \n",
    "#https://www.machinelearningplus.com/nlp/topic-modeling-gensim-python/#3importpackages\n",
    "min_count = 5#int(len(df)*0.03)\n",
    "bigram = gensim.models.Phrases(data_words, min_count=min_count) # higher threshold fewer phrases.\n",
    "trigram = gensim.models.Phrases(bigram[data_words], min_count =min_count)  \n",
    "\n",
    "# Faster way to get a sentence clubbed as a trigram/bigram\n",
    "bigram_mod = gensim.models.phrases.Phraser(bigram)\n",
    "trigram_mod = gensim.models.phrases.Phraser(trigram)\n",
    "\n",
    "# See trigram example\n",
    "print(trigram_mod[bigram_mod[data_words[1]]])"
   ]
  },
  {
   "cell_type": "code",
   "execution_count": 49,
   "metadata": {},
   "outputs": [
    {
     "name": "stdout",
     "output_type": "stream",
     "text": [
      "['meet', 'our_newest', 'product', 'the', 'transparent', 'camhatch', 'webcam', 'cover', 'we_ve', 'combined', 'everything', 'you', 'loved', 'about', 'the', 'matte', 'black', 'version', 'with', 'the', 'transparency', 'of', 'mark_zuckerberg', 'protect_your_privacy', 'without_having', 'to', 'change', 'the', 'appearance', 'of', 'your', 'laptop', 'tablet', 'or', 'smartphone', 'linkremoved']\n",
      "['usernameremoved', 'this_week', 'has_been', 'the', 'most', 'triggered', 'i_ve_seen', 'lefties', 'since', 'trump_won', 'sadly', 'we', 'have', 'maybot', 'amp', 'amber', 'dudd', 'on', 'other_side', 'friends', 'linkremoved']\n",
      "['pulitzer', 'prize', 'for', 'this', 'lady', 'investigative_journalism', 'at', 'it', 's', 'finest', 'linkremoved']\n",
      "['theres_no', 'more', 'secrecy', 'confident', 'and', 'privacy', 'and', 'no', 'protection', 'of', 'personal_data', 'our_lives', 'are', 'traded', 'on', 'the', 'open', 'market', 'linkremoved']\n",
      "['aggregateiq', 'the', 'obscure_canadian_tech', 'firm', 'and', 'the', 'brexit_data_riddle', 'linkremoved']\n"
     ]
    }
   ],
   "source": [
    "# See trigram example\n",
    "#print(trigram_mod[bigram_mod[data_words[1]]])\n",
    "for i in range(0,5):\n",
    "    print(trigram_mod[bigram_mod[data_words[i]]])"
   ]
  },
  {
   "cell_type": "code",
   "execution_count": null,
   "metadata": {},
   "outputs": [],
   "source": []
  },
  {
   "cell_type": "markdown",
   "metadata": {},
   "source": [
    "# Remove Stopwords, Make Bigrams and Lemmatize"
   ]
  },
  {
   "cell_type": "code",
   "execution_count": 50,
   "metadata": {},
   "outputs": [],
   "source": [
    "def remove_stopwords(texts):\n",
    "    return [[word for word in simple_preprocess(str(doc)) if word not in stop_words] for doc in texts]\n"
   ]
  },
  {
   "cell_type": "code",
   "execution_count": 51,
   "metadata": {},
   "outputs": [],
   "source": [
    "def make_bigrams(texts):\n",
    "    return [bigram_mod[doc] for doc in texts]\n",
    "\n",
    "def make_trigrams(texts):\n",
    "    return [trigram_mod[bigram_mod[doc]] for doc in texts]\n",
    "\n",
    "def lemmatization(texts, allowed_postags=['NOUN', 'ADJ', 'VERB', 'ADV']):\n",
    "    \"\"\"https://spacy.io/api/annotation\"\"\"\n",
    "    texts_out = []\n",
    "    for sent in texts:\n",
    "        doc = nlp(\" \".join(sent)) \n",
    "        texts_out.append([token.lemma_ for token in doc if token.pos_ in allowed_postags])\n",
    "    return texts_out"
   ]
  },
  {
   "cell_type": "code",
   "execution_count": 52,
   "metadata": {},
   "outputs": [],
   "source": [
    "#%pprint"
   ]
  },
  {
   "cell_type": "code",
   "execution_count": 53,
   "metadata": {},
   "outputs": [],
   "source": [
    "# Remove Stop Words\n",
    "data_words_nostops = remove_stopwords(data_words)#0:33\n"
   ]
  },
  {
   "cell_type": "code",
   "execution_count": 54,
   "metadata": {},
   "outputs": [
    {
     "data": {
      "text/plain": [
       "['meet',\n",
       " 'newest',\n",
       " 'product',\n",
       " 'transparent',\n",
       " 'camhatch',\n",
       " 'webcam',\n",
       " 'cover',\n",
       " 'combined',\n",
       " 'everything',\n",
       " 'loved',\n",
       " 'matte',\n",
       " 'black',\n",
       " 'version',\n",
       " 'transparency',\n",
       " 'mark',\n",
       " 'zuckerberg',\n",
       " 'protect',\n",
       " 'privacy',\n",
       " 'without',\n",
       " 'change',\n",
       " 'appearance',\n",
       " 'laptop',\n",
       " 'tablet',\n",
       " 'smartphone']"
      ]
     },
     "execution_count": 54,
     "metadata": {},
     "output_type": "execute_result"
    }
   ],
   "source": [
    "data_words_nostops[0]"
   ]
  },
  {
   "cell_type": "code",
   "execution_count": 55,
   "metadata": {},
   "outputs": [],
   "source": [
    "#%pprint\n"
   ]
  },
  {
   "cell_type": "code",
   "execution_count": 56,
   "metadata": {},
   "outputs": [
    {
     "data": {
      "text/plain": [
       "[['meet',\n",
       "  'newest',\n",
       "  'product',\n",
       "  'transparent',\n",
       "  'camhatch',\n",
       "  'webcam',\n",
       "  'cover',\n",
       "  'combined',\n",
       "  'everything',\n",
       "  'loved',\n",
       "  'matte',\n",
       "  'black',\n",
       "  'version',\n",
       "  'transparency',\n",
       "  'mark',\n",
       "  'zuckerberg',\n",
       "  'protect',\n",
       "  'privacy',\n",
       "  'without',\n",
       "  'change',\n",
       "  'appearance',\n",
       "  'laptop',\n",
       "  'tablet',\n",
       "  'smartphone'],\n",
       " ['week',\n",
       "  'triggered',\n",
       "  'seen',\n",
       "  'lefties',\n",
       "  'since',\n",
       "  'trump',\n",
       "  'sadly',\n",
       "  'maybot',\n",
       "  'amber',\n",
       "  'dudd',\n",
       "  'side',\n",
       "  'friends'],\n",
       " ['pulitzer', 'prize', 'lady', 'investigative', 'journalism', 'finest'],\n",
       " ['theres',\n",
       "  'secrecy',\n",
       "  'confident',\n",
       "  'privacy',\n",
       "  'protection',\n",
       "  'personal',\n",
       "  'data',\n",
       "  'lives',\n",
       "  'traded',\n",
       "  'open',\n",
       "  'market'],\n",
       " ['aggregateiq',\n",
       "  'obscure',\n",
       "  'canadian',\n",
       "  'tech',\n",
       "  'firm',\n",
       "  'brexit',\n",
       "  'data',\n",
       "  'riddle'],\n",
       " ['best',\n",
       "  'data',\n",
       "  'science',\n",
       "  'books',\n",
       "  'worthy',\n",
       "  'reading',\n",
       "  'bigdata',\n",
       "  'datascience'],\n",
       " ['cant',\n",
       "  'go',\n",
       "  'swanning',\n",
       "  'around',\n",
       "  'hacked',\n",
       "  'expect',\n",
       "  'us',\n",
       "  'plebs',\n",
       "  'keep',\n",
       "  'date',\n",
       "  'awake',\n",
       "  'need',\n",
       "  'young',\n",
       "  'man',\n",
       "  'awake',\n",
       "  'need',\n",
       "  'put',\n",
       "  'champagne'],\n",
       " ['recommend', 'everyone', 'fbpe', 'community'],\n",
       " ['pretty',\n",
       "  'sure',\n",
       "  'many',\n",
       "  'voted',\n",
       "  'leave',\n",
       "  'idea',\n",
       "  'voting',\n",
       "  'conditioned',\n",
       "  'vote',\n",
       "  'based',\n",
       "  'lie',\n",
       "  'programmed',\n",
       "  'voted',\n",
       "  'way',\n",
       "  'told'],\n",
       " ['longer',\n",
       "  'ignores',\n",
       "  'questions',\n",
       "  'suspicious',\n",
       "  'people',\n",
       "  'data',\n",
       "  'somehow',\n",
       "  'given',\n",
       "  'russia',\n",
       "  'aid',\n",
       "  'hybrid',\n",
       "  'war',\n",
       "  'democracy']]"
      ]
     },
     "execution_count": 56,
     "metadata": {},
     "output_type": "execute_result"
    }
   ],
   "source": [
    "data_words_nostops[0:10]"
   ]
  },
  {
   "cell_type": "code",
   "execution_count": 57,
   "metadata": {},
   "outputs": [
    {
     "data": {
      "text/plain": [
       "['pulitzer', 'prize', 'lady', 'investigative', 'journalism', 'finest']"
      ]
     },
     "execution_count": 57,
     "metadata": {},
     "output_type": "execute_result"
    }
   ],
   "source": [
    "data_words_nostops[2]"
   ]
  },
  {
   "cell_type": "code",
   "execution_count": 58,
   "metadata": {},
   "outputs": [],
   "source": [
    "# Form Bigrams\n",
    "data_words_bigrams = make_bigrams(data_words_nostops)\n",
    "# Form Trigrams\n",
    "\n",
    "data_words_trigrams = make_trigrams(data_words_bigrams)\n"
   ]
  },
  {
   "cell_type": "code",
   "execution_count": 59,
   "metadata": {},
   "outputs": [],
   "source": [
    "#%pprint\n",
    "#data_words_trigrams"
   ]
  },
  {
   "cell_type": "markdown",
   "metadata": {},
   "source": [
    "# Inicializar en el idioma correspondiente"
   ]
  },
  {
   "cell_type": "code",
   "execution_count": 60,
   "metadata": {},
   "outputs": [
    {
     "name": "stdout",
     "output_type": "stream",
     "text": [
      "Collecting en_core_web_sm==2.3.1\n",
      "  Downloading https://github.com/explosion/spacy-models/releases/download/en_core_web_sm-2.3.1/en_core_web_sm-2.3.1.tar.gz (12.0 MB)\n",
      "Requirement already satisfied: spacy<2.4.0,>=2.3.0 in c:\\users\\gonza\\tesisenv\\lib\\site-packages (from en_core_web_sm==2.3.1) (2.3.5)\n",
      "Requirement already satisfied: srsly<1.1.0,>=1.0.2 in c:\\users\\gonza\\tesisenv\\lib\\site-packages (from spacy<2.4.0,>=2.3.0->en_core_web_sm==2.3.1) (1.0.5)\n",
      "Requirement already satisfied: wasabi<1.1.0,>=0.4.0 in c:\\users\\gonza\\tesisenv\\lib\\site-packages (from spacy<2.4.0,>=2.3.0->en_core_web_sm==2.3.1) (0.8.0)\n",
      "Requirement already satisfied: tqdm<5.0.0,>=4.38.0 in c:\\users\\gonza\\tesisenv\\lib\\site-packages (from spacy<2.4.0,>=2.3.0->en_core_web_sm==2.3.1) (4.54.1)\n",
      "Requirement already satisfied: thinc<7.5.0,>=7.4.1 in c:\\users\\gonza\\tesisenv\\lib\\site-packages (from spacy<2.4.0,>=2.3.0->en_core_web_sm==2.3.1) (7.4.5)\n",
      "Requirement already satisfied: blis<0.8.0,>=0.4.0 in c:\\users\\gonza\\tesisenv\\lib\\site-packages (from spacy<2.4.0,>=2.3.0->en_core_web_sm==2.3.1) (0.7.4)\n",
      "Requirement already satisfied: setuptools in c:\\users\\gonza\\tesisenv\\lib\\site-packages (from spacy<2.4.0,>=2.3.0->en_core_web_sm==2.3.1) (49.2.1)\n",
      "Requirement already satisfied: cymem<2.1.0,>=2.0.2 in c:\\users\\gonza\\tesisenv\\lib\\site-packages (from spacy<2.4.0,>=2.3.0->en_core_web_sm==2.3.1) (2.0.5)\n",
      "Requirement already satisfied: requests<3.0.0,>=2.13.0 in c:\\users\\gonza\\tesisenv\\lib\\site-packages (from spacy<2.4.0,>=2.3.0->en_core_web_sm==2.3.1) (2.25.1)\n",
      "Requirement already satisfied: numpy>=1.15.0 in c:\\users\\gonza\\tesisenv\\lib\\site-packages (from spacy<2.4.0,>=2.3.0->en_core_web_sm==2.3.1) (1.19.0)\n",
      "Requirement already satisfied: catalogue<1.1.0,>=0.0.7 in c:\\users\\gonza\\tesisenv\\lib\\site-packages (from spacy<2.4.0,>=2.3.0->en_core_web_sm==2.3.1) (1.0.0)\n",
      "Requirement already satisfied: plac<1.2.0,>=0.9.6 in c:\\users\\gonza\\tesisenv\\lib\\site-packages (from spacy<2.4.0,>=2.3.0->en_core_web_sm==2.3.1) (1.1.3)\n",
      "Requirement already satisfied: murmurhash<1.1.0,>=0.28.0 in c:\\users\\gonza\\tesisenv\\lib\\site-packages (from spacy<2.4.0,>=2.3.0->en_core_web_sm==2.3.1) (1.0.5)\n",
      "Requirement already satisfied: preshed<3.1.0,>=3.0.2 in c:\\users\\gonza\\tesisenv\\lib\\site-packages (from spacy<2.4.0,>=2.3.0->en_core_web_sm==2.3.1) (3.0.5)\n",
      "Requirement already satisfied: idna<3,>=2.5 in c:\\users\\gonza\\tesisenv\\lib\\site-packages (from requests<3.0.0,>=2.13.0->spacy<2.4.0,>=2.3.0->en_core_web_sm==2.3.1) (2.10)\n",
      "Requirement already satisfied: certifi>=2017.4.17 in c:\\users\\gonza\\tesisenv\\lib\\site-packages (from requests<3.0.0,>=2.13.0->spacy<2.4.0,>=2.3.0->en_core_web_sm==2.3.1) (2020.12.5)\n",
      "Requirement already satisfied: urllib3<1.27,>=1.21.1 in c:\\users\\gonza\\tesisenv\\lib\\site-packages (from requests<3.0.0,>=2.13.0->spacy<2.4.0,>=2.3.0->en_core_web_sm==2.3.1) (1.26.2)\n",
      "Requirement already satisfied: chardet<5,>=3.0.2 in c:\\users\\gonza\\tesisenv\\lib\\site-packages (from requests<3.0.0,>=2.13.0->spacy<2.4.0,>=2.3.0->en_core_web_sm==2.3.1) (4.0.0)\n",
      "[+] Download and installation successful\n",
      "You can now load the model via spacy.load('en_core_web_sm')\n",
      "IDIOMA ACTUAL : ENGLISH\n"
     ]
    }
   ],
   "source": [
    "# Initialize spacy 'en' model, keeping only tagger component (for efficiency)\n",
    "if idioma == 'english':\n",
    "    !python -m spacy download en_core_web_sm\n",
    "    print(\"IDIOMA ACTUAL : ENGLISH\")\n",
    "elif idioma == 'spanish':\n",
    "    !python -m spacy download es\n",
    "    print(\"IDIOMA ACTUAL : SPANISH\")\n",
    "else:\n",
    "    print(\"Error!!!!!!!\")"
   ]
  },
  {
   "cell_type": "code",
   "execution_count": 61,
   "metadata": {},
   "outputs": [
    {
     "name": "stdout",
     "output_type": "stream",
     "text": [
      "IDIOMA ACTUAL : ENGLISH\n"
     ]
    }
   ],
   "source": [
    "if idioma == 'english':\n",
    "    nlp = spacy.load('en_core_web_sm', disable=['parser', 'ner'])\n",
    "    print(\"IDIOMA ACTUAL : ENGLISH\")\n",
    "elif idioma == 'spanish':\n",
    "    nlp = spacy.load('es', disable=['parser', 'ner'])\n",
    "    print(\"IDIOMA ACTUAL : SPANISH\")\n",
    "else:\n",
    "    print(\"ERROR!!\")"
   ]
  },
  {
   "cell_type": "code",
   "execution_count": 62,
   "metadata": {},
   "outputs": [
    {
     "name": "stdout",
     "output_type": "stream",
     "text": [
      "[['meet', 'new', 'product', 'transparent', 'camhatch', 'webcam', 'cover', 'combine', 'love', 'black', 'version', 'transparency', 'protect', 'privacy', 'change', 'appearance', 'laptop', 'tablet', 'smartphone']]\n"
     ]
    }
   ],
   "source": [
    "\n",
    "# Do lemmatization keeping only noun, adj, vb, adv\n",
    "data_lemmatized = lemmatization(data_words_trigrams, allowed_postags=['NOUN', 'ADJ', 'VERB', 'ADV'])\n",
    "\n",
    "#Aqui aparecen la lista de postags disponibles, https://spacy.io/api/annotation solo lematizaremos en una seleccion\n",
    "\n",
    "print(data_lemmatized[:1])#4:13"
   ]
  },
  {
   "cell_type": "code",
   "execution_count": 63,
   "metadata": {},
   "outputs": [
    {
     "data": {
      "text/plain": [
       "[['meet',\n",
       "  'new',\n",
       "  'product',\n",
       "  'transparent',\n",
       "  'camhatch',\n",
       "  'webcam',\n",
       "  'cover',\n",
       "  'combine',\n",
       "  'love',\n",
       "  'black',\n",
       "  'version',\n",
       "  'transparency',\n",
       "  'protect',\n",
       "  'privacy',\n",
       "  'change',\n",
       "  'appearance',\n",
       "  'laptop',\n",
       "  'tablet',\n",
       "  'smartphone'],\n",
       " ['week',\n",
       "  'trigger',\n",
       "  'see',\n",
       "  'lefty',\n",
       "  'trump',\n",
       "  'sadly',\n",
       "  'maybot',\n",
       "  'dudd',\n",
       "  'side',\n",
       "  'friend'],\n",
       " ['fine'],\n",
       " ['s', 'life', 'trade', 'open', 'market'],\n",
       " ['aggregateiq', 'firm', 'brexit_data_riddle'],\n",
       " ['good', 'book', 'worthy', 'reading', 'bigdata_datascience'],\n",
       " ['can',\n",
       "  'go',\n",
       "  'swanne',\n",
       "  'around',\n",
       "  'hack',\n",
       "  'expect',\n",
       "  'pleb',\n",
       "  'keep',\n",
       "  'date',\n",
       "  'awake',\n",
       "  'need',\n",
       "  'awake',\n",
       "  'need',\n",
       "  'put',\n",
       "  'champagne'],\n",
       " ['recommend', 'fbpe', 'community'],\n",
       " ['pretty_sure',\n",
       "  'many',\n",
       "  'idea',\n",
       "  'voting',\n",
       "  'condition',\n",
       "  'vote',\n",
       "  'base',\n",
       "  'vote',\n",
       "  'way',\n",
       "  'tell'],\n",
       " ['long',\n",
       "  'ignore',\n",
       "  'question',\n",
       "  'suspicious',\n",
       "  'people',\n",
       "  'datum',\n",
       "  'somehow',\n",
       "  'give',\n",
       "  'aid',\n",
       "  'hybrid',\n",
       "  'war',\n",
       "  'democracy'],\n",
       " ['decision', 'delete', 'old', 'account', 'take'],\n",
       " ['business', 'bigdata_datascience_machinelearning_deeplearning', 'iot'],\n",
       " [],\n",
       " ['post'],\n",
       " ['founder', 'leave', 'company'],\n",
       " ['quite', 'thread'],\n",
       " ['black',\n",
       "  'third',\n",
       "  'time',\n",
       "  'turn',\n",
       "  'parliament',\n",
       "  'request',\n",
       "  'answer_question',\n",
       "  'issue'],\n",
       " ['look',\n",
       "  'halve',\n",
       "  'next',\n",
       "  'couple',\n",
       "  'year',\n",
       "  'basically',\n",
       "  'techlash',\n",
       "  'deletefacebook',\n",
       "  'digitalfix'],\n",
       " ['else', 'paranoid', 'thought', 'psyop', 'culture', 'war'],\n",
       " ['suspicious',\n",
       "  'speed',\n",
       "  'get',\n",
       "  'warrant',\n",
       "  'execute',\n",
       "  'seem',\n",
       "  'want',\n",
       "  'evidence',\n",
       "  'grubby',\n",
       "  'hand'],\n",
       " ['facebook',\n",
       "  'cheat',\n",
       "  'advertiser',\n",
       "  'video',\n",
       "  'really',\n",
       "  'watch',\n",
       "  'fake',\n",
       "  'targeting',\n",
       "  'spread',\n",
       "  'steal',\n",
       "  'content',\n",
       "  'maybe',\n",
       "  'get',\n",
       "  'care'],\n",
       " ['information', 'legal', 'connection', 'beleave'],\n",
       " ['never_mind', 'seeing', 'know', 'rt'],\n",
       " ['pay', 'whiff'],\n",
       " ['want', 'skilled', 'migrant', 'create', 'new', 'hurdle', 'bigdata_ividata'],\n",
       " ['tory',\n",
       "  'news',\n",
       "  'network',\n",
       "  'try',\n",
       "  'hide',\n",
       "  'story',\n",
       "  'involve',\n",
       "  'tory',\n",
       "  'company',\n",
       "  'sense',\n",
       "  'believe',\n",
       "  'endorse',\n",
       "  'antisemitism',\n",
       "  'vote',\n",
       "  'labour'],\n",
       " ['go'],\n",
       " ['give',\n",
       "  'ago',\n",
       "  'little',\n",
       "  'wonder',\n",
       "  'cambridge_university',\n",
       "  'get',\n",
       "  'tie',\n",
       "  'mention',\n",
       "  'pesky',\n",
       "  'latent',\n",
       "  'trait',\n",
       "  'problem',\n",
       "  'embarrass',\n",
       "  'fore'],\n",
       " ['scottish_government_believe', 'could', 'trigger', 'second'],\n",
       " []]"
      ]
     },
     "execution_count": 63,
     "metadata": {},
     "output_type": "execute_result"
    }
   ],
   "source": [
    "data_lemmatized[:30]"
   ]
  },
  {
   "cell_type": "code",
   "execution_count": 64,
   "metadata": {},
   "outputs": [
    {
     "data": {
      "text/plain": [
       "['week',\n",
       " 'trigger',\n",
       " 'see',\n",
       " 'lefty',\n",
       " 'trump',\n",
       " 'sadly',\n",
       " 'maybot',\n",
       " 'dudd',\n",
       " 'side',\n",
       " 'friend']"
      ]
     },
     "execution_count": 64,
     "metadata": {},
     "output_type": "execute_result"
    }
   ],
   "source": [
    "data_lemmatized[1]"
   ]
  },
  {
   "cell_type": "code",
   "execution_count": null,
   "metadata": {},
   "outputs": [],
   "source": []
  },
  {
   "cell_type": "code",
   "execution_count": 65,
   "metadata": {},
   "outputs": [
    {
     "data": {
      "text/plain": [
       "['long',\n",
       " 'ignore',\n",
       " 'question',\n",
       " 'suspicious',\n",
       " 'people',\n",
       " 'datum',\n",
       " 'somehow',\n",
       " 'give',\n",
       " 'aid',\n",
       " 'hybrid',\n",
       " 'war',\n",
       " 'democracy']"
      ]
     },
     "execution_count": 65,
     "metadata": {},
     "output_type": "execute_result"
    }
   ],
   "source": [
    "data_lemmatized[9]"
   ]
  },
  {
   "cell_type": "code",
   "execution_count": 66,
   "metadata": {},
   "outputs": [
    {
     "data": {
      "text/plain": [
       "[['meet',\n",
       "  'new',\n",
       "  'product',\n",
       "  'transparent',\n",
       "  'camhatch',\n",
       "  'webcam',\n",
       "  'cover',\n",
       "  'combine',\n",
       "  'love',\n",
       "  'black',\n",
       "  'version',\n",
       "  'transparency',\n",
       "  'protect',\n",
       "  'privacy',\n",
       "  'change',\n",
       "  'appearance',\n",
       "  'laptop',\n",
       "  'tablet',\n",
       "  'smartphone'],\n",
       " ['week',\n",
       "  'trigger',\n",
       "  'see',\n",
       "  'lefty',\n",
       "  'trump',\n",
       "  'sadly',\n",
       "  'maybot',\n",
       "  'dudd',\n",
       "  'side',\n",
       "  'friend'],\n",
       " ['fine'],\n",
       " ['s', 'life', 'trade', 'open', 'market'],\n",
       " ['aggregateiq', 'firm', 'brexit_data_riddle'],\n",
       " ['good', 'book', 'worthy', 'reading', 'bigdata_datascience'],\n",
       " ['can',\n",
       "  'go',\n",
       "  'swanne',\n",
       "  'around',\n",
       "  'hack',\n",
       "  'expect',\n",
       "  'pleb',\n",
       "  'keep',\n",
       "  'date',\n",
       "  'awake',\n",
       "  'need',\n",
       "  'awake',\n",
       "  'need',\n",
       "  'put',\n",
       "  'champagne'],\n",
       " ['recommend', 'fbpe', 'community'],\n",
       " ['pretty_sure',\n",
       "  'many',\n",
       "  'idea',\n",
       "  'voting',\n",
       "  'condition',\n",
       "  'vote',\n",
       "  'base',\n",
       "  'vote',\n",
       "  'way',\n",
       "  'tell'],\n",
       " ['long',\n",
       "  'ignore',\n",
       "  'question',\n",
       "  'suspicious',\n",
       "  'people',\n",
       "  'datum',\n",
       "  'somehow',\n",
       "  'give',\n",
       "  'aid',\n",
       "  'hybrid',\n",
       "  'war',\n",
       "  'democracy']]"
      ]
     },
     "execution_count": 66,
     "metadata": {},
     "output_type": "execute_result"
    }
   ],
   "source": [
    "data_lemmatized[:10]"
   ]
  },
  {
   "cell_type": "code",
   "execution_count": 67,
   "metadata": {},
   "outputs": [
    {
     "data": {
      "text/plain": [
       "0    meet our newest product: the transparent camhatch webcam cover! we've combined everything you loved about the matte black version with the transparency of mark zuckerberg. protect your privacy without having to change the appearance of your laptop, tablet or smartphone.  <linkremoved>\n",
       "1    <usernameremoved> this week has been the most #triggered i've seen lefties since trump won (sadly, we have #maybot &amp; amber dudd  on other side) friends! <linkremoved>                                                                                                                   \n",
       "2    pulitzer prize for this lady. investigative journalism at it's finest. <linkremoved>                                                                                                                                                                                                         \n",
       "3    theres no more secrecy, confident and privacy and no protection of personal data. our lives are traded on the open market! <linkremoved>                                                                                                                                                     \n",
       "4    aggregateiq: the obscure canadian tech firm and the brexit data riddle <linkremoved>                                                                                                                                                                                                         \n",
       "5    80 best data science books that are worthy reading <linkremoved> #bigdata #datascience <linkremoved>                                                                                                                                                                                         \n",
       "6    you cant just go swanning around being *hacked off* and expect us plebs to keep you up to date. awake. that is what you need to be young man. awake! we need you now. put the champagne down. <linkremoved>                                                                                  \n",
       "7    recommend everyone does this in the #fbpe community. <linkremoved>                                                                                                                                                                                                                           \n",
       "8    <usernameremoved> i'm pretty sure many who voted leave had no idea what they were voting for and had been conditioned by #cambridgeanalytica to vote based on a lie they had been programmed with. they voted that way because they were told to.                                            \n",
       "9    the longer <usernameremoved> ignores questions about this, the more suspicious people will be that their data was somehow given to russia to aid its hybrid war on democracy. <linkremoved>                                                                                                  \n",
       "Name: texto_completo, dtype: object"
      ]
     },
     "execution_count": 67,
     "metadata": {},
     "output_type": "execute_result"
    }
   ],
   "source": [
    "\n",
    "df['texto_completo'].head(10)"
   ]
  },
  {
   "cell_type": "code",
   "execution_count": 68,
   "metadata": {},
   "outputs": [],
   "source": [
    "#from nltk.stem import WordNetLemmatizer \n",
    "#nltk.download('wordnet') #esto no funciona en español"
   ]
  },
  {
   "cell_type": "code",
   "execution_count": 69,
   "metadata": {},
   "outputs": [],
   "source": [
    "\n",
    "#lemmatizer = WordNetLemmatizer() \n",
    "#def lemmatization_tweets(sentence):\n",
    " #   for word in sentence:\n",
    "  #      yield(lemmatizer.lemmatize(word, pos=\"v\"))\n"
   ]
  },
  {
   "cell_type": "code",
   "execution_count": 70,
   "metadata": {},
   "outputs": [],
   "source": [
    "#prueba = list(lemmatization_tweets(data_words_nostops))\n"
   ]
  },
  {
   "cell_type": "code",
   "execution_count": 71,
   "metadata": {},
   "outputs": [],
   "source": [
    "#prueba[1]"
   ]
  },
  {
   "cell_type": "markdown",
   "metadata": {},
   "source": [
    "# Create dictionary and corpus for topic modeling"
   ]
  },
  {
   "cell_type": "code",
   "execution_count": 72,
   "metadata": {},
   "outputs": [
    {
     "name": "stdout",
     "output_type": "stream",
     "text": [
      "[[(0, 1), (1, 1), (2, 1), (3, 1), (4, 1), (5, 1), (6, 1), (7, 1), (8, 1), (9, 1), (10, 1), (11, 1), (12, 1), (13, 1), (14, 1), (15, 1), (16, 1), (17, 1), (18, 1)]]\n"
     ]
    }
   ],
   "source": [
    "#The two main inputs to the LDA topic model are the dictionary(id2word) and the corpus\n",
    "# Create Dictionary\n",
    "id2word = corpora.Dictionary(data_lemmatized)\n",
    "\n",
    "# Create Corpus\n",
    "texts = data_lemmatized\n",
    "\n",
    "# Term Document Frequency\n",
    "corpus = [id2word.doc2bow(text) for text in texts]\n",
    "\n",
    "# View\n",
    "print(corpus[:1])"
   ]
  },
  {
   "cell_type": "code",
   "execution_count": 73,
   "metadata": {},
   "outputs": [
    {
     "data": {
      "text/plain": [
       "111695"
      ]
     },
     "execution_count": 73,
     "metadata": {},
     "output_type": "execute_result"
    }
   ],
   "source": [
    "id2word.num_docs #NUMERO DE TWEETS PROCESADOS"
   ]
  },
  {
   "cell_type": "code",
   "execution_count": 74,
   "metadata": {},
   "outputs": [
    {
     "name": "stdout",
     "output_type": "stream",
     "text": [
      "El vocabulary size es:  37758\n"
     ]
    }
   ],
   "source": [
    "print(\"El vocabulary size es: \",str(len(id2word)))\n"
   ]
  },
  {
   "cell_type": "markdown",
   "metadata": {},
   "source": [
    "(0, 1) above implies, word id 0 occurs once in the first document."
   ]
  },
  {
   "cell_type": "code",
   "execution_count": 75,
   "metadata": {},
   "outputs": [
    {
     "data": {
      "text/plain": [
       "'appearance'"
      ]
     },
     "execution_count": 75,
     "metadata": {},
     "output_type": "execute_result"
    }
   ],
   "source": [
    "id2word[0]\n"
   ]
  },
  {
   "cell_type": "code",
   "execution_count": 76,
   "metadata": {},
   "outputs": [
    {
     "data": {
      "text/plain": [
       "[[('appearance', 1),\n",
       "  ('black', 1),\n",
       "  ('camhatch', 1),\n",
       "  ('change', 1),\n",
       "  ('combine', 1),\n",
       "  ('cover', 1),\n",
       "  ('laptop', 1),\n",
       "  ('love', 1),\n",
       "  ('meet', 1),\n",
       "  ('new', 1),\n",
       "  ('privacy', 1),\n",
       "  ('product', 1),\n",
       "  ('protect', 1),\n",
       "  ('smartphone', 1),\n",
       "  ('tablet', 1),\n",
       "  ('transparency', 1),\n",
       "  ('transparent', 1),\n",
       "  ('version', 1),\n",
       "  ('webcam', 1)]]"
      ]
     },
     "execution_count": 76,
     "metadata": {},
     "output_type": "execute_result"
    }
   ],
   "source": [
    "[[(id2word[id], freq) for id, freq in cp] for cp in corpus[:1]]\n"
   ]
  },
  {
   "cell_type": "markdown",
   "metadata": {},
   "source": [
    "# Gensim - Build the topic model "
   ]
  },
  {
   "cell_type": "code",
   "execution_count": 77,
   "metadata": {},
   "outputs": [],
   "source": [
    "'''\n",
    "lda_model = gensim.models.ldamodel.LdaModel(corpus=corpus,\n",
    "                                           id2word=id2word,\n",
    "                                           num_topics=5, \n",
    "                                           random_state=100,\n",
    "                                           update_every=1,\n",
    "                                           chunksize=100,\n",
    "                                           passes=10,\n",
    "                                           alpha='auto',\n",
    "                                           per_word_topics=True)\n",
    "''';"
   ]
  },
  {
   "cell_type": "markdown",
   "metadata": {},
   "source": [
    "# Gensim - View the topics in LDA model"
   ]
  },
  {
   "cell_type": "code",
   "execution_count": 78,
   "metadata": {},
   "outputs": [],
   "source": [
    "#pprint(lda_model.print_topics())\n",
    "#doc_lda = lda_model[corpus]"
   ]
  },
  {
   "cell_type": "markdown",
   "metadata": {},
   "source": [
    "# Gensim -  Compute Model Perplexity and Coherence Score"
   ]
  },
  {
   "cell_type": "markdown",
   "metadata": {},
   "source": [
    "Model perplexity and topic coherence provide a convenient measure to judge how good a given topic model is."
   ]
  },
  {
   "cell_type": "code",
   "execution_count": 79,
   "metadata": {},
   "outputs": [],
   "source": [
    "# Compute Perplexity\n",
    "#print('\\nPerplexity: ', lda_model.log_perplexity(corpus))  # a measure of how good the model is. lower the better.\n",
    "\n",
    "# Compute Coherence Score\n",
    "#coherence_model_lda = CoherenceModel(model=lda_model, texts=data_lemmatized, dictionary=id2word, coherence='c_v')\n",
    "#coherence_lda = coherence_model_lda.get_coherence()\n",
    "#print('\\nCoherence Score: ', coherence_lda)"
   ]
  },
  {
   "cell_type": "markdown",
   "metadata": {},
   "source": [
    "# Calcular mejor numero de topicos"
   ]
  },
  {
   "cell_type": "code",
   "execution_count": 80,
   "metadata": {},
   "outputs": [],
   "source": [
    "from gensim.test.utils import common_corpus, common_dictionary"
   ]
  },
  {
   "cell_type": "code",
   "execution_count": 81,
   "metadata": {},
   "outputs": [],
   "source": [
    "from gensim.models.wrappers import LdaMallet"
   ]
  },
  {
   "cell_type": "code",
   "execution_count": null,
   "metadata": {},
   "outputs": [],
   "source": []
  },
  {
   "cell_type": "code",
   "execution_count": 82,
   "metadata": {},
   "outputs": [],
   "source": [
    "#Instructions about how to install mallet are available here: http://mallet.cs.umass.edu/download.php\n",
    "\n",
    "'''\n",
    "Windows installation: After unzipping MALLET, set the environment variable %MALLET_HOME% to point to the MALLET directory.\n",
    "In all command line examples, substitute bin\\mallet for bin/mallet.\n",
    "'''\n",
    "import os\n",
    "from gensim.models.wrappers import LdaMallet\n",
    "\n",
    "\n",
    "path_to_mallet_binary = \"C:\\\\mallet-2.0.8\\\\bin\\\\mallet\"\n",
    "os.environ.update({'MALLET_HOME':r'C:\\mallet-2.0.8'}) #OJO!, por alguna razon mallet solo puede estar disponible en esa carpeta\n"
   ]
  },
  {
   "cell_type": "code",
   "execution_count": 83,
   "metadata": {},
   "outputs": [],
   "source": [
    " \n",
    "def compute_coherence_values(dictionary, corpus, texts, list_num_topics,window_size,topn):\n",
    "    print(\"NUMERO DE TOPICOS A CALCULAR\",list_num_topics)\n",
    "    \"\"\"\n",
    "    Compute c_v coherence for various number of topics\n",
    "\n",
    "    Parameters:\n",
    "    ----------\n",
    "    dictionary : Gensim dictionary\n",
    "    corpus : Gensim corpus\n",
    "    texts : List of input texts\n",
    "    limit : Max num of topics\n",
    "\n",
    "    Returns:\n",
    "    -------\n",
    "    model_list : List of LDA topic models\n",
    "    coherence_values : Coherence values corresponding to the LDA model with respective number of topics\n",
    "    \"\"\"\n",
    "    coherence_values = []\n",
    "    model_list = []\n",
    "    \n",
    "    #modificar aqui la lista de valores en las que se desea probar\n",
    "    \n",
    "    #for num_topics in range(start, limit, step):\n",
    "    for num_topics in list_num_topics:\n",
    "        model = gensim.models.wrappers.LdaMallet(path_to_mallet_binary, corpus=corpus, num_topics=num_topics, id2word=id2word, random_seed=1)\n",
    "        model_list.append(model)\n",
    "        coherencemodel = CoherenceModel(model=model, texts=texts, dictionary=dictionary, coherence='c_v', window_size=window_size, topn=topn)\n",
    "        coherence_values.append(coherencemodel.get_coherence())\n",
    "\n",
    "    return model_list, coherence_values"
   ]
  },
  {
   "cell_type": "code",
   "execution_count": 84,
   "metadata": {},
   "outputs": [
    {
     "name": "stdout",
     "output_type": "stream",
     "text": [
      "NUMERO DE TOPICOS A CALCULAR [1, 2, 3, 4, 5, 6, 7, 8, 9, 10, 11, 12, 13, 14, 15]\n",
      "00:15:48.03\n"
     ]
    }
   ],
   "source": [
    "start = time.time()\n",
    "#list_num_topics= [5,8,11,15,20,50, 100]\n",
    "list_num_topics = [1,2,3,4,5,6,7,8,9,10,11,12,13,14,15]\n",
    "#list_num_topics = [4]\n",
    "topn=20\n",
    "window_size=110\n",
    "model_list, coherence_values = compute_coherence_values(dictionary=id2word, corpus=corpus, texts=data_lemmatized, list_num_topics= list_num_topics,window_size = window_size, topn=topn)\n",
    "#ojo, el numero de start, limit y step no tiene sentido en la linea anterior, se modifican directamente en el algoritmo\n",
    "end = time.time()\n",
    "hours, rem = divmod(end-start, 3600)\n",
    "minutes, seconds = divmod(rem, 60)\n",
    "print(\"{:0>2}:{:0>2}:{:05.2f}\".format(int(hours),int(minutes),seconds))\n",
    "\n",
    "#04:46\n"
   ]
  },
  {
   "cell_type": "code",
   "execution_count": null,
   "metadata": {},
   "outputs": [],
   "source": []
  },
  {
   "cell_type": "code",
   "execution_count": 85,
   "metadata": {},
   "outputs": [
    {
     "data": {
      "image/png": "[encoded data removed]",
      "text/plain": [
       "<Figure size 432x216 with 1 Axes>"
      ]
     },
     "metadata": {
      "needs_background": "light"
     },
     "output_type": "display_data"
    }
   ],
   "source": [
    "# Show graph\n",
    "\n",
    "#x = range(start, limit, step)\n",
    "\n",
    "x = list_num_topics\n",
    "plt.figure(figsize=(6,3))\n",
    "plt.title(\"Coherence Score on \"+region)\n",
    "plt.plot(x, coherence_values)\n",
    "\n",
    "\n",
    "plt.xlabel(\"Num topics\")\n",
    "plt.ylabel(\"Coherence score\")\n",
    "plt.xticks(x, x)\n",
    "\n",
    "plt.legend((\"coherence_values\"), loc='best')\n",
    "plt.show()"
   ]
  },
  {
   "cell_type": "code",
   "execution_count": 86,
   "metadata": {},
   "outputs": [
    {
     "name": "stdout",
     "output_type": "stream",
     "text": [
      "Num Topics = 1  has Coherence Value of 0.2505\n",
      "Num Topics = 2  has Coherence Value of 0.1247\n",
      "Num Topics = 3  has Coherence Value of 0.209\n",
      "Num Topics = 4  has Coherence Value of 0.2787\n",
      "Num Topics = 5  has Coherence Value of 0.3352\n",
      "Num Topics = 6  has Coherence Value of 0.3521\n",
      "Num Topics = 7  has Coherence Value of 0.3821\n",
      "Num Topics = 8  has Coherence Value of 0.3877\n",
      "Num Topics = 9  has Coherence Value of 0.3908\n",
      "Num Topics = 10  has Coherence Value of 0.4139\n",
      "Num Topics = 11  has Coherence Value of 0.3849\n",
      "Num Topics = 12  has Coherence Value of 0.3932\n",
      "Num Topics = 13  has Coherence Value of 0.3682\n",
      "Num Topics = 14  has Coherence Value of 0.4068\n",
      "Num Topics = 15  has Coherence Value of 0.385\n"
     ]
    }
   ],
   "source": [
    "# Print the coherence scores\n",
    "for m, cv in zip(x, coherence_values):\n",
    "    print(\"Num Topics =\", m, \" has Coherence Value of\", round(cv, 4))"
   ]
  },
  {
   "cell_type": "code",
   "execution_count": 87,
   "metadata": {},
   "outputs": [],
   "source": [
    "#save information for later\n",
    "dict_models = dict()\n",
    "dict_models['model_list'] = model_list\n",
    "dict_models['coherence_values'] = coherence_values\n",
    "\n"
   ]
  },
  {
   "cell_type": "code",
   "execution_count": 88,
   "metadata": {},
   "outputs": [],
   "source": [
    "import pickle\n",
    "\n",
    "\n",
    "with open('coherence_and_model_lists_europe_dataset.pkl', 'wb') as handle:\n",
    "    pickle.dump(dict_models, handle, protocol=4)"
   ]
  },
  {
   "cell_type": "markdown",
   "metadata": {},
   "source": [
    "# [Parece que hasta aqui llegue] Seleccionar el mejor modelo de los ya realizados"
   ]
  },
  {
   "cell_type": "code",
   "execution_count": null,
   "metadata": {},
   "outputs": [],
   "source": [
    "#ojo, revisar bien que pertenezca el numerod e topicos\n",
    "ldamallet = model_list_2[2]"
   ]
  },
  {
   "cell_type": "markdown",
   "metadata": {},
   "source": [
    "# [Saltar] Building LDA Mallet Model"
   ]
  },
  {
   "cell_type": "code",
   "execution_count": null,
   "metadata": {},
   "outputs": [],
   "source": []
  },
  {
   "cell_type": "markdown",
   "metadata": {},
   "source": [
    "El algoritmo detras de Mallet debiese dar mejores resultados que Gensim"
   ]
  },
  {
   "cell_type": "code",
   "execution_count": null,
   "metadata": {},
   "outputs": [],
   "source": [
    "#colocar el mejor numero de topicos segun lo obtenido en el punto anterior\n",
    "num_topics = 4"
   ]
  },
  {
   "cell_type": "code",
   "execution_count": null,
   "metadata": {},
   "outputs": [],
   "source": [
    "start = time.time()\n",
    "\n",
    "\n",
    "ldamallet = LdaMallet(path_to_mallet_binary, corpus=corpus, num_topics=num_topics, id2word=id2word,random_seed=1)\n",
    "\n",
    "end = time.time()\n",
    "hours, rem = divmod(end-start, 3600)\n",
    "minutes, seconds = divmod(rem, 60)\n",
    "print(\"{:0>2}:{:0>2}:{:05.2f}\".format(int(hours),int(minutes),seconds))"
   ]
  },
  {
   "cell_type": "code",
   "execution_count": null,
   "metadata": {},
   "outputs": [],
   "source": [
    "# Show Topics\n",
    "#docu : https://www.pydoc.io/pypi/gensim-3.2.0/autoapi/models/wrappers/ldamallet/index.html\n",
    "pprint(ldamallet.show_topics(formatted=False, num_words=30))\n"
   ]
  },
  {
   "cell_type": "markdown",
   "metadata": {},
   "source": [
    "# Keywords by topic - colocar numero de topicos a extraer"
   ]
  },
  {
   "cell_type": "code",
   "execution_count": null,
   "metadata": {},
   "outputs": [],
   "source": [
    "num_topicos_actual = -1"
   ]
  },
  {
   "cell_type": "code",
   "execution_count": null,
   "metadata": {},
   "outputs": [],
   "source": [
    "topicos = ldamallet.show_topics(formatted=False, num_words=100, num_topics=num_topicos_actual)\n",
    "list_of_df = list()\n",
    "for topic in topicos:\n",
    "    number, words_weight = topic\n",
    "    words_weight_df=pd.DataFrame(words_weight, columns=['term', 'weight'])\n",
    "    list_of_df.append(words_weight_df)"
   ]
  },
  {
   "cell_type": "code",
   "execution_count": null,
   "metadata": {},
   "outputs": [],
   "source": [
    "#pprint(ldamallet.show_topics(formatted=False, num_words=30,num_topics=num_topicos_actual))\n",
    "len(topicos)"
   ]
  },
  {
   "cell_type": "code",
   "execution_count": null,
   "metadata": {},
   "outputs": [],
   "source": [
    "keywords_by_topic= pd.concat(list_of_df,axis=1)\n",
    "keywords_by_topic"
   ]
  },
  {
   "cell_type": "code",
   "execution_count": null,
   "metadata": {},
   "outputs": [],
   "source": [
    "len(keywords_by_topic)"
   ]
  },
  {
   "cell_type": "code",
   "execution_count": null,
   "metadata": {},
   "outputs": [],
   "source": [
    "keywords_by_topic.to_csv(region+'_'+str(today)+'_'+'keywords_weights.csv', encoding='utf-8')"
   ]
  },
  {
   "cell_type": "code",
   "execution_count": null,
   "metadata": {},
   "outputs": [],
   "source": [
    "# Compute Coherence Score\n",
    "coherence_model_ldamallet = CoherenceModel(model=ldamallet, texts=data_lemmatized, dictionary=id2word, coherence='c_v')\n",
    "coherence_ldamallet = coherence_model_ldamallet.get_coherence()\n",
    "print('\\nCoherence Score: ', coherence_ldamallet)"
   ]
  },
  {
   "cell_type": "markdown",
   "metadata": {},
   "source": [
    "# Highest topic per tweet"
   ]
  },
  {
   "cell_type": "code",
   "execution_count": null,
   "metadata": {},
   "outputs": [],
   "source": [
    "print(\"hola\")"
   ]
  },
  {
   "cell_type": "code",
   "execution_count": null,
   "metadata": {},
   "outputs": [],
   "source": [
    "def format_topics_sentences(ldamodel=ldamallet, corpus=corpus, texts=data):\n",
    "    # Init output\n",
    "    sent_topics_df = pd.DataFrame()\n",
    "\n",
    "    # Get main topic in each document\n",
    "    for i, row in enumerate(ldamodel[corpus]):\n",
    "        row = sorted(row, key=lambda x: (x[1]), reverse=True)\n",
    "        # Get the Dominant topic, Perc Contribution and Keywords for each document\n",
    "        for j, (topic_num, prop_topic) in enumerate(row):\n",
    "            if j == 0:  # => dominant topic\n",
    "                wp = ldamodel.show_topic(topic_num)\n",
    "                topic_keywords = \", \".join([word for word, prop in wp])\n",
    "                sent_topics_df = sent_topics_df.append(pd.Series([int(topic_num), round(prop_topic,4), topic_keywords]), ignore_index=True)\n",
    "            else:\n",
    "                break\n",
    "    sent_topics_df.columns = ['Dominant_Topic', 'Perc_Contribution', 'Topic_Keywords']\n",
    "\n",
    "    # Add original text to the end of the output\n",
    "    contents = pd.Series(texts)\n",
    "    sent_topics_df = pd.concat([sent_topics_df, contents], axis=1)\n",
    "    return(sent_topics_df)\n",
    "\n",
    "\n",
    "df_topic_sents_keywords = format_topics_sentences(ldamodel=ldamallet, corpus=corpus, texts=data)\n",
    "\n",
    "# Format\n",
    "df_dominant_topic = df_topic_sents_keywords.reset_index()\n",
    "df_dominant_topic.columns = ['Document_No', 'Dominant_Topic', 'Topic_Perc_Contrib', 'Keywords', 'Text']\n",
    "\n",
    "# Show\n",
    "df_dominant_topic['Dominant_Topic'] = df_dominant_topic['Dominant_Topic'].astype(int)\n",
    "\n",
    "#df_dominant_topic.head(20)\n",
    "#10:38"
   ]
  },
  {
   "cell_type": "code",
   "execution_count": null,
   "metadata": {},
   "outputs": [],
   "source": [
    "\n",
    "df_dominant_topic.to_csv(region+'_'+str(today)+'_'+'highest_topic_per_tweet.csv', encoding='utf-8', index=False)"
   ]
  },
  {
   "cell_type": "markdown",
   "metadata": {},
   "source": [
    "#  Find the most representative tweets for each topic"
   ]
  },
  {
   "cell_type": "code",
   "execution_count": null,
   "metadata": {},
   "outputs": [],
   "source": [
    "# Group top 5 sentences under each topic\n",
    "numero_de_tweets_por_topico = 50\n",
    "sent_topics_sorteddf_mallet = pd.DataFrame()\n",
    "sent_topics_outdf_grpd = df_topic_sents_keywords.groupby('Dominant_Topic') # esta matriz contiene todos los tweets con el porcentaje de contribucion y max topico. se agrupa y se obtiene lo q queremos\n",
    "\n",
    "for i, grp in sent_topics_outdf_grpd:\n",
    "    sent_topics_sorteddf_mallet = pd.concat([sent_topics_sorteddf_mallet, \n",
    "                                             grp.sort_values(['Perc_Contribution'], ascending=False).head(numero_de_tweets_por_topico)], \n",
    "                                            axis=0)\n",
    "\n",
    "\n",
    "# Reset Index    \n",
    "sent_topics_sorteddf_mallet.reset_index(drop=True, inplace=True)\n",
    "\n",
    "# Format\n",
    "sent_topics_sorteddf_mallet.columns = ['Topic_Num', \"Topic_Perc_Contrib\", \"Keywords\", \"Text\"]\n",
    "\n",
    "sent_topics_sorteddf_mallet['Topic_Num'] = sent_topics_sorteddf_mallet['Topic_Num'].astype(int)\n",
    "\n",
    "# Show\n",
    "sent_topics_sorteddf_mallet\n"
   ]
  },
  {
   "cell_type": "code",
   "execution_count": null,
   "metadata": {},
   "outputs": [],
   "source": []
  },
  {
   "cell_type": "code",
   "execution_count": null,
   "metadata": {},
   "outputs": [],
   "source": [
    "\n",
    "sent_topics_sorteddf_mallet.to_csv(region+'_'+str(today)+'_'+'most_representative_tweets_per_topic.csv', encoding='utf-8', index=False)"
   ]
  },
  {
   "cell_type": "markdown",
   "metadata": {},
   "source": [
    "#  (RANDOM) Find the most representative tweets for each topic"
   ]
  },
  {
   "cell_type": "markdown",
   "metadata": {},
   "source": [
    "#El objetivo es obtener los tweets en orden aleatorio. ¿entregan la misma info?"
   ]
  },
  {
   "cell_type": "code",
   "execution_count": null,
   "metadata": {},
   "outputs": [],
   "source": [
    "# Group top 5 sentences under each topic\n",
    "numero_de_tweets_por_topico = 30\n",
    "sent_topics_sorteddf_mallet = pd.DataFrame()\n",
    "sent_topics_outdf_grpd = df_topic_sents_keywords.groupby('Dominant_Topic') # esta matriz contiene todos los tweets con el porcentaje de contribucion y max topico. se agrupa y se obtiene lo q queremos\n",
    "\n",
    "for i, grp in sent_topics_outdf_grpd:\n",
    "    sent_topics_sorteddf_mallet = pd.concat([sent_topics_sorteddf_mallet, \n",
    "                                             grp.sort_values(['Perc_Contribution'], ascending=False).head(numero_de_tweets_por_topico)], \n",
    "                                            axis=0)\n",
    "\n",
    "\n",
    "# Reset Index    \n",
    "sent_topics_sorteddf_mallet.reset_index(drop=True, inplace=True)\n",
    "\n",
    "# Format\n",
    "sent_topics_sorteddf_mallet.columns = ['Topic_Num', \"Topic_Perc_Contrib\", \"Keywords\", \"Text\"]\n",
    "\n",
    "sent_topics_sorteddf_mallet['Topic_Num'] = sent_topics_sorteddf_mallet['Topic_Num'].astype(int)\n",
    "\n",
    "# Show\n",
    "sent_topics_sorteddf_mallet\n"
   ]
  },
  {
   "cell_type": "code",
   "execution_count": null,
   "metadata": {},
   "outputs": [],
   "source": [
    "from sklearn.utils import shuffle #poneraleatorio30tweets\n",
    "sent_topics_sorteddf_mallet = shuffle(sent_topics_sorteddf_mallet)"
   ]
  },
  {
   "cell_type": "code",
   "execution_count": null,
   "metadata": {},
   "outputs": [],
   "source": [
    "sent_topics_sorteddf_mallet.sort_values(by='Topic_Num',inplace=True)\n",
    "sent_topics_sorteddf_mallet"
   ]
  },
  {
   "cell_type": "code",
   "execution_count": null,
   "metadata": {},
   "outputs": [],
   "source": [
    "sent_topics_sorteddf_mallet.groupby('Topic_Num').size()"
   ]
  },
  {
   "cell_type": "code",
   "execution_count": null,
   "metadata": {},
   "outputs": [],
   "source": [
    "#DataFrame.sort_values(by, axis=0, ascending=True, inplace=False, kind='quicksort', na_position='last')"
   ]
  },
  {
   "cell_type": "code",
   "execution_count": null,
   "metadata": {},
   "outputs": [],
   "source": [
    "\n",
    "sent_topics_sorteddf_mallet.to_csv(region+'_'+str(today)+'_'+'RANDOM_most_representative_tweets_per_topic.csv', encoding='utf-8', index=False)"
   ]
  },
  {
   "cell_type": "markdown",
   "metadata": {},
   "source": [
    "# Topic distribution across documents"
   ]
  },
  {
   "cell_type": "markdown",
   "metadata": {},
   "source": [
    "Muestra el numero de documentos y el porcentaje de documentos en donde ese topico es el principal componente. \n",
    "El código siguiente fue arreglado. El del tutorial tenía errores."
   ]
  },
  {
   "cell_type": "code",
   "execution_count": null,
   "metadata": {},
   "outputs": [],
   "source": [
    "# Number of Documents for Each Topic\n",
    "topic_counts = df_topic_sents_keywords['Dominant_Topic'].value_counts()\n",
    "\n",
    "# Percentage of Documents for Each Topic\n",
    "topic_contribution = round(topic_counts/topic_counts.sum(), 4)\n",
    "\n",
    "# Topic Number and Keywords\n",
    "topic_num_keywords = df_topic_sents_keywords[['Dominant_Topic', 'Topic_Keywords']]\n",
    "\n",
    "# Concatenate Column wise\n",
    "df_dominant_topics = pd.concat([topic_num_keywords.drop_duplicates(subset='Dominant_Topic', keep='first').sort_values(by=['Dominant_Topic']).reset_index(drop=True), topic_counts.sort_index(), topic_contribution.sort_index()], axis=1)\n",
    "\n",
    "# Change Column names\n",
    "\n",
    "df_dominant_topics.columns = ['Dominant_Topic', 'Topic_Keywords', 'Num_Documents', 'Perc_Documents']\n",
    "\n",
    "df_dominant_topics['Dominant_Topic'] = df_dominant_topics['Dominant_Topic'].astype(int)\n"
   ]
  },
  {
   "cell_type": "code",
   "execution_count": null,
   "metadata": {
    "scrolled": false
   },
   "outputs": [],
   "source": [
    "#funciona perfecto\n",
    "df_dominant_topics"
   ]
  },
  {
   "cell_type": "code",
   "execution_count": null,
   "metadata": {},
   "outputs": [],
   "source": [
    "df_dominant_topics.to_csv(region+'_'+str(today)+'_'+'topic_distribution_across_documents.csv', encoding='utf-8', index=False)"
   ]
  },
  {
   "cell_type": "code",
   "execution_count": null,
   "metadata": {},
   "outputs": [],
   "source": []
  },
  {
   "cell_type": "markdown",
   "metadata": {},
   "source": [
    "# Visualize topics with Mallet"
   ]
  },
  {
   "cell_type": "code",
   "execution_count": null,
   "metadata": {},
   "outputs": [],
   "source": [
    "prueba = gensim.models.wrappers.ldamallet.malletmodel2ldamodel(ldamallet)\n"
   ]
  },
  {
   "cell_type": "code",
   "execution_count": null,
   "metadata": {},
   "outputs": [],
   "source": [
    "pyLDAvis.enable_notebook()\n"
   ]
  },
  {
   "cell_type": "code",
   "execution_count": null,
   "metadata": {},
   "outputs": [],
   "source": [
    "vis = pyLDAvis.gensim.prepare(prueba, corpus,id2word, mds='pcoa', sort_topics=False, R=30)\n"
   ]
  },
  {
   "cell_type": "code",
   "execution_count": null,
   "metadata": {},
   "outputs": [],
   "source": []
  },
  {
   "cell_type": "code",
   "execution_count": null,
   "metadata": {},
   "outputs": [],
   "source": [
    "pyLDAvis.display(vis)"
   ]
  },
  {
   "cell_type": "code",
   "execution_count": null,
   "metadata": {},
   "outputs": [],
   "source": []
  },
  {
   "cell_type": "code",
   "execution_count": null,
   "metadata": {},
   "outputs": [],
   "source": [
    "pyLDAvis.save_html(vis,region+\"_\"+str(today)+\"_visualization.html\")"
   ]
  },
  {
   "cell_type": "code",
   "execution_count": null,
   "metadata": {},
   "outputs": [],
   "source": [
    "pyLDAvis.save_json(vis,region+\"_\"+str(today)+\"_visualization.json\")"
   ]
  },
  {
   "cell_type": "code",
   "execution_count": null,
   "metadata": {},
   "outputs": [],
   "source": [
    "#para cargar json model\n",
    "#esto no funciona, hay que arreglasrlo.\n",
    "\n",
    "import json\n",
    "def load_R_model(filename):\n",
    "    with open(filename, 'r') as j:\n",
    "        data_input = json.load(j)\n",
    "    data = {'topic_term_dists': data_input['phi'], \n",
    "            'doc_topic_dists': data_input['theta'],\n",
    "            'doc_lengths': data_input['doc.length'],\n",
    "            'vocab': data_input['vocab'],\n",
    "            'term_frequency': data_input['term.frequency']}\n",
    "    return data\n",
    "\n",
    "def vis_R_model(filename):\n",
    "    return pyLDAvis.display(pyLDAvis.prepare(**load_R_model(filename)))"
   ]
  },
  {
   "cell_type": "code",
   "execution_count": null,
   "metadata": {},
   "outputs": [],
   "source": []
  },
  {
   "cell_type": "code",
   "execution_count": null,
   "metadata": {},
   "outputs": [],
   "source": []
  },
  {
   "cell_type": "markdown",
   "metadata": {},
   "source": [
    "# Obtener tweets "
   ]
  },
  {
   "cell_type": "code",
   "execution_count": null,
   "metadata": {},
   "outputs": [],
   "source": []
  },
  {
   "cell_type": "code",
   "execution_count": null,
   "metadata": {},
   "outputs": [],
   "source": [
    "a = df[df['texto_completo'].str.contains(\"y por primera vez en dos\")]['texto_completo']\n",
    "a"
   ]
  },
  {
   "cell_type": "code",
   "execution_count": null,
   "metadata": {},
   "outputs": [],
   "source": [
    "a.drop_duplicates(inplace=True)\n",
    "a"
   ]
  },
  {
   "cell_type": "code",
   "execution_count": null,
   "metadata": {},
   "outputs": [],
   "source": []
  },
  {
   "cell_type": "code",
   "execution_count": null,
   "metadata": {},
   "outputs": [],
   "source": [
    "a[a['texto_completo'].str.contains(\"Stop peddling lies\")]['texto_completo']"
   ]
  },
  {
   "cell_type": "markdown",
   "metadata": {},
   "source": [
    "# Visualize the topics-keywords - Gensim"
   ]
  },
  {
   "cell_type": "code",
   "execution_count": null,
   "metadata": {},
   "outputs": [],
   "source": [
    "'''\n",
    "pyLDAvis.enable_notebook()\n",
    "vis = pyLDAvis.gensim.prepare(lda_model, corpus, id2word)\n",
    "vis\n",
    "''';"
   ]
  }
 ],
 "metadata": {
  "kernelspec": {
   "display_name": "Python 3",
   "language": "python",
   "name": "python3"
  },
  "language_info": {
   "codemirror_mode": {
    "name": "ipython",
    "version": 3
   },
   "file_extension": ".py",
   "mimetype": "text/x-python",
   "name": "python",
   "nbconvert_exporter": "python",
   "pygments_lexer": "ipython3",
   "version": "3.9.1"
  }
 },
 "nbformat": 4,
 "nbformat_minor": 2
}
