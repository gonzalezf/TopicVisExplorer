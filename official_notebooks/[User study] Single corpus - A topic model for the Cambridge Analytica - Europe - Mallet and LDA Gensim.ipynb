{
 "cells": [
  {
   "cell_type": "code",
   "execution_count": 13,
   "metadata": {},
   "outputs": [],
   "source": [
    "#tutorial a seguir: https://www.machinelearningplus.com/nlp/topic-modeling-gensim-python/#3importpackages\n",
    "\n",
    "\n",
    "#tutorial de LDA con visualizaciones: https://www.machinelearningplus.com/nlp/topic-modeling-visualization-how-to-present-results-lda-models/\n",
    "\n",
    " \n",
    "#tutorial opcional:\n",
    "#https://rstudio-pubs-static.s3.amazonaws.com/79360_850b2a69980c4488b1db95987a24867a.html#applying-the-lda-model\n",
    "\n",
    "#Visualization of topics\n",
    "#https://liferay.de.dariah.eu/tatom/topic_model_visualization.html\n",
    "#diapositivas de lda2vec: https://www.slideshare.net/ChristopherMoody3/word2vec-lda-and-introducing-a-new-hybrid-algorithm-lda2vec?next_slideshow=1\n",
    "\n",
    "\n",
    "#slides lda: https://vtechworks.lib.vt.edu/bitstream/handle/10919/81761/Clustering%20and%20Topic%20Analysis%20-%20Final%20Presentation.pdf?sequence=1&isAllowed=y\n"
   ]
  },
  {
   "cell_type": "code",
   "execution_count": 14,
   "metadata": {},
   "outputs": [],
   "source": [
    "#!python -m spacy download en\n",
    "#!pip install nltk\n",
    "#!pip install unidecode"
   ]
  },
  {
   "cell_type": "code",
   "execution_count": 15,
   "metadata": {},
   "outputs": [],
   "source": [
    "#!python -m spacy download es\n",
    "#You can now load the model via spacy.load('es_core_news_sm')\n",
    "#You can now load the model via spacy.load('es')\n"
   ]
  },
  {
   "cell_type": "markdown",
   "metadata": {},
   "source": [
    "# Seleccionar idioma"
   ]
  },
  {
   "cell_type": "code",
   "execution_count": 16,
   "metadata": {},
   "outputs": [],
   "source": [
    "idioma = 'english'"
   ]
  },
  {
   "cell_type": "markdown",
   "metadata": {},
   "source": [
    "# Importar Librerias"
   ]
  },
  {
   "cell_type": "code",
   "execution_count": 17,
   "metadata": {},
   "outputs": [
    {
     "name": "stdout",
     "output_type": "stream",
     "text": [
      "Today's date: 2021-04-04\n"
     ]
    }
   ],
   "source": [
    "from datetime import date\n",
    "\n",
    "today = date.today()\n",
    "print(\"Today's date:\", today)"
   ]
  },
  {
   "cell_type": "code",
   "execution_count": 18,
   "metadata": {},
   "outputs": [],
   "source": [
    "import nltk; \n",
    "#nltk.download('stopwords')\n",
    "import time\n"
   ]
  },
  {
   "cell_type": "code",
   "execution_count": 19,
   "metadata": {},
   "outputs": [],
   "source": [
    "import re\n",
    "import numpy as np\n",
    "import pandas as pd\n",
    "from pprint import pprint\n",
    "from string import digits\n",
    "from string import punctuation\n",
    "import unidecode\n"
   ]
  },
  {
   "cell_type": "code",
   "execution_count": 20,
   "metadata": {},
   "outputs": [],
   "source": [
    "# Gensim\n",
    "import gensim\n",
    "import gensim.corpora as corpora\n",
    "from gensim.utils import simple_preprocess\n",
    "from gensim.models import CoherenceModel"
   ]
  },
  {
   "cell_type": "code",
   "execution_count": 21,
   "metadata": {},
   "outputs": [],
   "source": [
    "import spacy\n"
   ]
  },
  {
   "cell_type": "code",
   "execution_count": 22,
   "metadata": {},
   "outputs": [],
   "source": [
    "import pyLDAvis\n",
    "import pyLDAvis.gensim  # don't skip this\n",
    "import matplotlib.pyplot as plt\n",
    "%matplotlib inline"
   ]
  },
  {
   "cell_type": "code",
   "execution_count": 23,
   "metadata": {},
   "outputs": [],
   "source": [
    "import logging\n",
    "logging.basicConfig(format='%(asctime)s : %(levelname)s : %(message)s', level=logging.ERROR)"
   ]
  },
  {
   "cell_type": "code",
   "execution_count": 24,
   "metadata": {},
   "outputs": [],
   "source": [
    "import warnings\n",
    "warnings.filterwarnings(\"ignore\",category=DeprecationWarning)"
   ]
  },
  {
   "cell_type": "code",
   "execution_count": 25,
   "metadata": {},
   "outputs": [],
   "source": [
    "# NLTK Stop words\n",
    "from nltk.corpus import stopwords\n",
    "stop_words = stopwords.words(idioma)\n",
    "stop_words.extend(['linkremoved','amp', 'usernameremoved','link','removed', '<usernameremoved>','<linkremoved>','usernameremoved_usernameremoved','linkremoved_linkremoved'])\n",
    "##stop_words.extend(['from', 'subject', 're', 'edu', 'use'])"
   ]
  },
  {
   "cell_type": "code",
   "execution_count": 26,
   "metadata": {},
   "outputs": [],
   "source": [
    "#stopwords"
   ]
  },
  {
   "cell_type": "markdown",
   "metadata": {},
   "source": [
    "# Importar datos"
   ]
  },
  {
   "cell_type": "code",
   "execution_count": 27,
   "metadata": {},
   "outputs": [],
   "source": [
    "path_data = \"G:\\\\My Drive\\\\2019-1\\\\Tesis\\\\Topic Modeling\\\\LDA2VEC\\\\Data\\\\\"\n"
   ]
  },
  {
   "cell_type": "code",
   "execution_count": 28,
   "metadata": {},
   "outputs": [],
   "source": [
    "region = 'europe_english'\n",
    "\n",
    "#full_english\n",
    "#full_spanish\n",
    "#northamerica_english\n",
    "#asia_english\n",
    "#europe_english\n",
    "#latinamerica_spanish\n",
    "#europe_spanish\n",
    "name_file = ''\n",
    "if region == 'full_english':\n",
    "    name_file = 'English_tweets_geolocated_without_preprocess_text_20190411.csv'\n",
    "elif region == 'full_spanish':\n",
    "    name_file = 'Spanish_tweets_geolocated_without_preprocess_text_20190411.csv'\n",
    "elif region == 'northamerica_english':\n",
    "    name_file = 'english_northamerica_tweets_20190411.csv'\n",
    "elif region == 'asia_english':\n",
    "    name_file = 'english_asia_tweets_20190411.csv'\n",
    "elif region == 'europe_english':\n",
    "    name_file = 'english_europe_tweets_20190411.csv'\n",
    "elif region == 'latinamerica_spanish':\n",
    "    name_file = 'spanish_latinamerica_tweets_20190411.csv'\n",
    "elif region == 'europe_spanish':\n",
    "    name_file = 'spanish_europe_tweets_20190411.csv'\n",
    "    "
   ]
  },
  {
   "cell_type": "code",
   "execution_count": 29,
   "metadata": {},
   "outputs": [],
   "source": [
    "df = pd.read_csv(path_data+name_file,encoding='utf-8')"
   ]
  },
  {
   "cell_type": "code",
   "execution_count": 30,
   "metadata": {},
   "outputs": [
    {
     "data": {
      "text/plain": [
       "111745"
      ]
     },
     "execution_count": 30,
     "metadata": {},
     "output_type": "execute_result"
    }
   ],
   "source": [
    "len(df)"
   ]
  },
  {
   "cell_type": "code",
   "execution_count": null,
   "metadata": {},
   "outputs": [],
   "source": []
  },
  {
   "cell_type": "code",
   "execution_count": 31,
   "metadata": {},
   "outputs": [
    {
     "data": {
      "text/plain": [
       "111745"
      ]
     },
     "execution_count": 31,
     "metadata": {},
     "output_type": "execute_result"
    }
   ],
   "source": [
    "len(df)"
   ]
  },
  {
   "cell_type": "markdown",
   "metadata": {},
   "source": [
    "**Se usará la columna 'texto completo' para extraer los datos de los tweets**"
   ]
  },
  {
   "cell_type": "code",
   "execution_count": 32,
   "metadata": {},
   "outputs": [
    {
     "name": "stderr",
     "output_type": "stream",
     "text": [
      "<ipython-input-32-3662fb1d5b04>:1: FutureWarning: Passing a negative integer is deprecated in version 1.0 and will not be supported in future version. Instead, use None to not limit the column width.\n",
      "  pd.set_option('display.max_colwidth', -1)\n"
     ]
    },
    {
     "data": {
      "text/html": [
       "<div>\n",
       "<style scoped>\n",
       "    .dataframe tbody tr th:only-of-type {\n",
       "        vertical-align: middle;\n",
       "    }\n",
       "\n",
       "    .dataframe tbody tr th {\n",
       "        vertical-align: top;\n",
       "    }\n",
       "\n",
       "    .dataframe thead th {\n",
       "        text-align: right;\n",
       "    }\n",
       "</style>\n",
       "<table border=\"1\" class=\"dataframe\">\n",
       "  <thead>\n",
       "    <tr style=\"text-align: right;\">\n",
       "      <th></th>\n",
       "      <th>Unnamed: 0</th>\n",
       "      <th>created_at2</th>\n",
       "      <th>id</th>\n",
       "      <th>created_at</th>\n",
       "      <th>user.screen_name</th>\n",
       "      <th>user_location</th>\n",
       "      <th>coordinates</th>\n",
       "      <th>text</th>\n",
       "      <th>full_text</th>\n",
       "      <th>retweet_created_at</th>\n",
       "      <th>retweet_full_text</th>\n",
       "      <th>texto_completo</th>\n",
       "      <th>ubicacion_encontrada</th>\n",
       "    </tr>\n",
       "  </thead>\n",
       "  <tbody>\n",
       "    <tr>\n",
       "      <th>0</th>\n",
       "      <td>2</td>\n",
       "      <td>2018-04-01</td>\n",
       "      <td>id-980480940567924736</td>\n",
       "      <td>Sun Apr 01 16:24:07 +0000 2018</td>\n",
       "      <td>CamHatch</td>\n",
       "      <td>Rotterdam, The Netherlands</td>\n",
       "      <td>NaN</td>\n",
       "      <td>Meet our newest product: the transparent CamHatch webcam cover! We've combined everything you loved about the Matte https://t.co/ZHCUxIFlds</td>\n",
       "      <td>Meet our newest product: the transparent CamHatch webcam cover! We've combined everything you loved about the Matte Black version with the transparency of Mark Zuckerberg. Protect your privacy without having to change the appearance of your laptop, tablet or smartphone.  https://t.co/s9GbLf8tRG</td>\n",
       "      <td>NaN</td>\n",
       "      <td>NaN</td>\n",
       "      <td>meet our newest product: the transparent camhatch webcam cover! we've combined everything you loved about the matte black version with the transparency of mark zuckerberg. protect your privacy without having to change the appearance of your laptop, tablet or smartphone.  &lt;link removed&gt;</td>\n",
       "      <td>Netherlands</td>\n",
       "    </tr>\n",
       "    <tr>\n",
       "      <th>1</th>\n",
       "      <td>17</td>\n",
       "      <td>2018-04-01</td>\n",
       "      <td>id-980481203110281216</td>\n",
       "      <td>Sun Apr 01 16:25:09 +0000 2018</td>\n",
       "      <td>iky86</td>\n",
       "      <td>stoke on trent</td>\n",
       "      <td>NaN</td>\n",
       "      <td>@SupportOurLefty This week has been the most #Triggered I've seen Lefties since Trump won (Sadly, we have #Maybot &amp;amp; https://t.co/GPajHgkGur</td>\n",
       "      <td>@SupportOurLefty This week has been the most #Triggered I've seen Lefties since Trump won (Sadly, we have #Maybot &amp;amp; Amber Dudd  on other side) Friends! https://t.co/B9IOQD3FFB</td>\n",
       "      <td>NaN</td>\n",
       "      <td>NaN</td>\n",
       "      <td>&lt;usernameremoved&gt; this week has been the most #triggered i've seen lefties since trump won (sadly, we have #maybot &amp;amp; amber dudd  on other side) friends! &lt;link removed&gt;</td>\n",
       "      <td>United Kingdom</td>\n",
       "    </tr>\n",
       "    <tr>\n",
       "      <th>2</th>\n",
       "      <td>43</td>\n",
       "      <td>2018-04-01</td>\n",
       "      <td>id-980480454846566401</td>\n",
       "      <td>Sun Apr 01 16:22:11 +0000 2018</td>\n",
       "      <td>MichaelJF80</td>\n",
       "      <td>Liverpool, England</td>\n",
       "      <td>NaN</td>\n",
       "      <td>Pulitzer prize for this lady. Investigative journalism at it's finest. https://t.co/ojcRGpCQf4</td>\n",
       "      <td>NaN</td>\n",
       "      <td>NaN</td>\n",
       "      <td>NaN</td>\n",
       "      <td>pulitzer prize for this lady. investigative journalism at it's finest. &lt;link removed&gt;</td>\n",
       "      <td>United Kingdom</td>\n",
       "    </tr>\n",
       "    <tr>\n",
       "      <th>3</th>\n",
       "      <td>45</td>\n",
       "      <td>2018-04-01</td>\n",
       "      <td>id-980480424429400071</td>\n",
       "      <td>Sun Apr 01 16:22:04 +0000 2018</td>\n",
       "      <td>ruechids1</td>\n",
       "      <td>Enfield, London</td>\n",
       "      <td>NaN</td>\n",
       "      <td>Theres no more secrecy, confident and privacy and no protection of personal data. Our lives are traded on the open https://t.co/jSIOYGP0mu</td>\n",
       "      <td>Theres no more secrecy, confident and privacy and no protection of personal data. Our lives are traded on the open market! https://t.co/gVYQCH3qvJ</td>\n",
       "      <td>NaN</td>\n",
       "      <td>NaN</td>\n",
       "      <td>theres no more secrecy, confident and privacy and no protection of personal data. our lives are traded on the open market! &lt;link removed&gt;</td>\n",
       "      <td>United Kingdom</td>\n",
       "    </tr>\n",
       "    <tr>\n",
       "      <th>4</th>\n",
       "      <td>51</td>\n",
       "      <td>2018-04-01</td>\n",
       "      <td>id-980480325083164673</td>\n",
       "      <td>Sun Apr 01 16:21:40 +0000 2018</td>\n",
       "      <td>Hugh_Macfarlane</td>\n",
       "      <td>Glenrothes, Fife</td>\n",
       "      <td>NaN</td>\n",
       "      <td>AggregateIQ: the obscure Canadian tech firm and the Brexit data riddle https://t.co/nzEsS4mVbi</td>\n",
       "      <td>NaN</td>\n",
       "      <td>NaN</td>\n",
       "      <td>NaN</td>\n",
       "      <td>aggregateiq: the obscure canadian tech firm and the brexit data riddle &lt;link removed&gt;</td>\n",
       "      <td>United Kingdom</td>\n",
       "    </tr>\n",
       "    <tr>\n",
       "      <th>5</th>\n",
       "      <td>73</td>\n",
       "      <td>2018-04-01</td>\n",
       "      <td>id-980482011507908608</td>\n",
       "      <td>Sun Apr 01 16:28:22 +0000 2018</td>\n",
       "      <td>amasoliverdilme</td>\n",
       "      <td>Barcelona</td>\n",
       "      <td>NaN</td>\n",
       "      <td>80 Best Data Science Books That Are Worthy Reading https://t.co/ggd5ebEBLq #bigdata #datascience https://t.co/Pz20Aqe6HK</td>\n",
       "      <td>NaN</td>\n",
       "      <td>NaN</td>\n",
       "      <td>NaN</td>\n",
       "      <td>80 best data science books that are worthy reading &lt;link removed&gt; #bigdata #datascience &lt;link removed&gt;</td>\n",
       "      <td>Spain</td>\n",
       "    </tr>\n",
       "    <tr>\n",
       "      <th>6</th>\n",
       "      <td>77</td>\n",
       "      <td>2018-04-01</td>\n",
       "      <td>id-980482066977640449</td>\n",
       "      <td>Sun Apr 01 16:28:35 +0000 2018</td>\n",
       "      <td>tinchissy</td>\n",
       "      <td>united kingdom</td>\n",
       "      <td>NaN</td>\n",
       "      <td>You cant just go swanning around being *Hacked off* and expect us plebs to keep you up to date. Awake. That is wha https://t.co/7lJt54Tovb</td>\n",
       "      <td>You cant just go swanning around being *Hacked off* and expect us plebs to keep you up to date. Awake. That is what you need to be young man. AWAKE! We need you now. Put the champagne down. https://t.co/EmGYJ5qtmb</td>\n",
       "      <td>NaN</td>\n",
       "      <td>NaN</td>\n",
       "      <td>you cant just go swanning around being *hacked off* and expect us plebs to keep you up to date. awake. that is what you need to be young man. awake! we need you now. put the champagne down. &lt;link removed&gt;</td>\n",
       "      <td>United Kingdom</td>\n",
       "    </tr>\n",
       "    <tr>\n",
       "      <th>7</th>\n",
       "      <td>90</td>\n",
       "      <td>2018-04-01</td>\n",
       "      <td>id-980482108228501506</td>\n",
       "      <td>Sun Apr 01 16:28:45 +0000 2018</td>\n",
       "      <td>Tonybirte</td>\n",
       "      <td>Antwerp, Belgium</td>\n",
       "      <td>NaN</td>\n",
       "      <td>Recommend everyone does this in the #FBPE community. https://t.co/qkIdUVcJgY</td>\n",
       "      <td>NaN</td>\n",
       "      <td>NaN</td>\n",
       "      <td>NaN</td>\n",
       "      <td>recommend everyone does this in the #fbpe community. &lt;link removed&gt;</td>\n",
       "      <td>Belgium</td>\n",
       "    </tr>\n",
       "    <tr>\n",
       "      <th>8</th>\n",
       "      <td>91</td>\n",
       "      <td>2018-04-01</td>\n",
       "      <td>id-980482280358666240</td>\n",
       "      <td>Sun Apr 01 16:29:26 +0000 2018</td>\n",
       "      <td>thetommoriarty</td>\n",
       "      <td>London</td>\n",
       "      <td>NaN</td>\n",
       "      <td>@omminc I'm pretty sure many who voted Leave had no idea what they were voting for and had been conditioned by https://t.co/ivBv7KmbAs</td>\n",
       "      <td>@omminc I'm pretty sure many who voted Leave had no idea what they were voting for and had been conditioned by #CambridgeAnalytica to vote based on a lie they had been programmed with. They voted that way because they were told to.</td>\n",
       "      <td>NaN</td>\n",
       "      <td>NaN</td>\n",
       "      <td>&lt;usernameremoved&gt; i'm pretty sure many who voted leave had no idea what they were voting for and had been conditioned by #cambridgeanalytica to vote based on a lie they had been programmed with. they voted that way because they were told to.</td>\n",
       "      <td>United Kingdom</td>\n",
       "    </tr>\n",
       "    <tr>\n",
       "      <th>9</th>\n",
       "      <td>94</td>\n",
       "      <td>2018-04-01</td>\n",
       "      <td>id-980482244564471809</td>\n",
       "      <td>Sun Apr 01 16:29:18 +0000 2018</td>\n",
       "      <td>WillBlackWriter</td>\n",
       "      <td>Cambridge, European Union</td>\n",
       "      <td>NaN</td>\n",
       "      <td>The longer @CamAnalytica ignores questions about this, the more suspicious people will be that their data was someh https://t.co/xIF0fDgbrm</td>\n",
       "      <td>The longer @CamAnalytica ignores questions about this, the more suspicious people will be that their data was somehow given to Russia to aid its hybrid war on democracy. https://t.co/BeHQAgi90D</td>\n",
       "      <td>NaN</td>\n",
       "      <td>NaN</td>\n",
       "      <td>the longer &lt;usernameremoved&gt; ignores questions about this, the more suspicious people will be that their data was somehow given to russia to aid its hybrid war on democracy. &lt;link removed&gt;</td>\n",
       "      <td>United Kingdom</td>\n",
       "    </tr>\n",
       "  </tbody>\n",
       "</table>\n",
       "</div>"
      ],
      "text/plain": [
       "   Unnamed: 0 created_at2                     id  \\\n",
       "0  2           2018-04-01  id-980480940567924736   \n",
       "1  17          2018-04-01  id-980481203110281216   \n",
       "2  43          2018-04-01  id-980480454846566401   \n",
       "3  45          2018-04-01  id-980480424429400071   \n",
       "4  51          2018-04-01  id-980480325083164673   \n",
       "5  73          2018-04-01  id-980482011507908608   \n",
       "6  77          2018-04-01  id-980482066977640449   \n",
       "7  90          2018-04-01  id-980482108228501506   \n",
       "8  91          2018-04-01  id-980482280358666240   \n",
       "9  94          2018-04-01  id-980482244564471809   \n",
       "\n",
       "                       created_at user.screen_name  \\\n",
       "0  Sun Apr 01 16:24:07 +0000 2018  CamHatch          \n",
       "1  Sun Apr 01 16:25:09 +0000 2018  iky86             \n",
       "2  Sun Apr 01 16:22:11 +0000 2018  MichaelJF80       \n",
       "3  Sun Apr 01 16:22:04 +0000 2018  ruechids1         \n",
       "4  Sun Apr 01 16:21:40 +0000 2018  Hugh_Macfarlane   \n",
       "5  Sun Apr 01 16:28:22 +0000 2018  amasoliverdilme   \n",
       "6  Sun Apr 01 16:28:35 +0000 2018  tinchissy         \n",
       "7  Sun Apr 01 16:28:45 +0000 2018  Tonybirte         \n",
       "8  Sun Apr 01 16:29:26 +0000 2018  thetommoriarty    \n",
       "9  Sun Apr 01 16:29:18 +0000 2018  WillBlackWriter   \n",
       "\n",
       "                user_location coordinates  \\\n",
       "0  Rotterdam, The Netherlands  NaN          \n",
       "1  stoke on trent              NaN          \n",
       "2  Liverpool, England          NaN          \n",
       "3  Enfield, London             NaN          \n",
       "4  Glenrothes, Fife            NaN          \n",
       "5  Barcelona                   NaN          \n",
       "6  united kingdom              NaN          \n",
       "7  Antwerp, Belgium            NaN          \n",
       "8  London                      NaN          \n",
       "9  Cambridge, European Union   NaN          \n",
       "\n",
       "                                                                                                                                              text  \\\n",
       "0  Meet our newest product: the transparent CamHatch webcam cover! We've combined everything you loved about the Matte https://t.co/ZHCUxIFlds       \n",
       "1  @SupportOurLefty This week has been the most #Triggered I've seen Lefties since Trump won (Sadly, we have #Maybot &amp; https://t.co/GPajHgkGur   \n",
       "2  Pulitzer prize for this lady. Investigative journalism at it's finest. https://t.co/ojcRGpCQf4                                                    \n",
       "3  Theres no more secrecy, confident and privacy and no protection of personal data. Our lives are traded on the open https://t.co/jSIOYGP0mu        \n",
       "4  AggregateIQ: the obscure Canadian tech firm and the Brexit data riddle https://t.co/nzEsS4mVbi                                                    \n",
       "5  80 Best Data Science Books That Are Worthy Reading https://t.co/ggd5ebEBLq #bigdata #datascience https://t.co/Pz20Aqe6HK                          \n",
       "6  You cant just go swanning around being *Hacked off* and expect us plebs to keep you up to date. Awake. That is wha https://t.co/7lJt54Tovb        \n",
       "7  Recommend everyone does this in the #FBPE community. https://t.co/qkIdUVcJgY                                                                      \n",
       "8  @omminc I'm pretty sure many who voted Leave had no idea what they were voting for and had been conditioned by https://t.co/ivBv7KmbAs            \n",
       "9  The longer @CamAnalytica ignores questions about this, the more suspicious people will be that their data was someh https://t.co/xIF0fDgbrm       \n",
       "\n",
       "                                                                                                                                                                                                                                                                                                 full_text  \\\n",
       "0  Meet our newest product: the transparent CamHatch webcam cover! We've combined everything you loved about the Matte Black version with the transparency of Mark Zuckerberg. Protect your privacy without having to change the appearance of your laptop, tablet or smartphone.  https://t.co/s9GbLf8tRG   \n",
       "1  @SupportOurLefty This week has been the most #Triggered I've seen Lefties since Trump won (Sadly, we have #Maybot &amp; Amber Dudd  on other side) Friends! https://t.co/B9IOQD3FFB                                                                                                                       \n",
       "2  NaN                                                                                                                                                                                                                                                                                                       \n",
       "3  Theres no more secrecy, confident and privacy and no protection of personal data. Our lives are traded on the open market! https://t.co/gVYQCH3qvJ                                                                                                                                                        \n",
       "4  NaN                                                                                                                                                                                                                                                                                                       \n",
       "5  NaN                                                                                                                                                                                                                                                                                                       \n",
       "6  You cant just go swanning around being *Hacked off* and expect us plebs to keep you up to date. Awake. That is what you need to be young man. AWAKE! We need you now. Put the champagne down. https://t.co/EmGYJ5qtmb                                                                                     \n",
       "7  NaN                                                                                                                                                                                                                                                                                                       \n",
       "8  @omminc I'm pretty sure many who voted Leave had no idea what they were voting for and had been conditioned by #CambridgeAnalytica to vote based on a lie they had been programmed with. They voted that way because they were told to.                                                                   \n",
       "9  The longer @CamAnalytica ignores questions about this, the more suspicious people will be that their data was somehow given to Russia to aid its hybrid war on democracy. https://t.co/BeHQAgi90D                                                                                                         \n",
       "\n",
       "   retweet_created_at  retweet_full_text  \\\n",
       "0 NaN                 NaN                  \n",
       "1 NaN                 NaN                  \n",
       "2 NaN                 NaN                  \n",
       "3 NaN                 NaN                  \n",
       "4 NaN                 NaN                  \n",
       "5 NaN                 NaN                  \n",
       "6 NaN                 NaN                  \n",
       "7 NaN                 NaN                  \n",
       "8 NaN                 NaN                  \n",
       "9 NaN                 NaN                  \n",
       "\n",
       "                                                                                                                                                                                                                                                                                   texto_completo  \\\n",
       "0  meet our newest product: the transparent camhatch webcam cover! we've combined everything you loved about the matte black version with the transparency of mark zuckerberg. protect your privacy without having to change the appearance of your laptop, tablet or smartphone.  <link removed>   \n",
       "1  <usernameremoved> this week has been the most #triggered i've seen lefties since trump won (sadly, we have #maybot &amp; amber dudd  on other side) friends! <link removed>                                                                                                                      \n",
       "2  pulitzer prize for this lady. investigative journalism at it's finest. <link removed>                                                                                                                                                                                                            \n",
       "3  theres no more secrecy, confident and privacy and no protection of personal data. our lives are traded on the open market! <link removed>                                                                                                                                                        \n",
       "4  aggregateiq: the obscure canadian tech firm and the brexit data riddle <link removed>                                                                                                                                                                                                            \n",
       "5  80 best data science books that are worthy reading <link removed> #bigdata #datascience <link removed>                                                                                                                                                                                           \n",
       "6  you cant just go swanning around being *hacked off* and expect us plebs to keep you up to date. awake. that is what you need to be young man. awake! we need you now. put the champagne down. <link removed>                                                                                     \n",
       "7  recommend everyone does this in the #fbpe community. <link removed>                                                                                                                                                                                                                              \n",
       "8  <usernameremoved> i'm pretty sure many who voted leave had no idea what they were voting for and had been conditioned by #cambridgeanalytica to vote based on a lie they had been programmed with. they voted that way because they were told to.                                                \n",
       "9  the longer <usernameremoved> ignores questions about this, the more suspicious people will be that their data was somehow given to russia to aid its hybrid war on democracy. <link removed>                                                                                                     \n",
       "\n",
       "  ubicacion_encontrada  \n",
       "0  Netherlands          \n",
       "1  United Kingdom       \n",
       "2  United Kingdom       \n",
       "3  United Kingdom       \n",
       "4  United Kingdom       \n",
       "5  Spain                \n",
       "6  United Kingdom       \n",
       "7  Belgium              \n",
       "8  United Kingdom       \n",
       "9  United Kingdom       "
      ]
     },
     "execution_count": 32,
     "metadata": {},
     "output_type": "execute_result"
    }
   ],
   "source": [
    "pd.set_option('display.max_colwidth', -1)\n",
    "df['texto_completo'] =  df['texto_completo'].str.lower()\n",
    "df.head(10)"
   ]
  },
  {
   "cell_type": "markdown",
   "metadata": {},
   "source": [
    "# remove links"
   ]
  },
  {
   "cell_type": "code",
   "execution_count": 33,
   "metadata": {},
   "outputs": [],
   "source": [
    "df['texto_completo'].replace({\"http\\S+\": '<linkremoved>'}, inplace=True, regex=True)\n"
   ]
  },
  {
   "cell_type": "code",
   "execution_count": 34,
   "metadata": {},
   "outputs": [],
   "source": [
    "df['texto_completo'].replace({\"<link removed>\": '<linkremoved>'}, inplace=True, regex=True)\n",
    "\n"
   ]
  },
  {
   "cell_type": "code",
   "execution_count": 35,
   "metadata": {},
   "outputs": [
    {
     "data": {
      "text/plain": [
       "0    meet our newest product: the transparent camhatch webcam cover! we've combined everything you loved about the matte black version with the transparency of mark zuckerberg. protect your privacy without having to change the appearance of your laptop, tablet or smartphone.  <linkremoved>\n",
       "1    <usernameremoved> this week has been the most #triggered i've seen lefties since trump won (sadly, we have #maybot &amp; amber dudd  on other side) friends! <linkremoved>                                                                                                                   \n",
       "2    pulitzer prize for this lady. investigative journalism at it's finest. <linkremoved>                                                                                                                                                                                                         \n",
       "3    theres no more secrecy, confident and privacy and no protection of personal data. our lives are traded on the open market! <linkremoved>                                                                                                                                                     \n",
       "4    aggregateiq: the obscure canadian tech firm and the brexit data riddle <linkremoved>                                                                                                                                                                                                         \n",
       "Name: texto_completo, dtype: object"
      ]
     },
     "execution_count": 35,
     "metadata": {},
     "output_type": "execute_result"
    }
   ],
   "source": [
    "df['texto_completo'].head()"
   ]
  },
  {
   "cell_type": "code",
   "execution_count": null,
   "metadata": {},
   "outputs": [],
   "source": []
  },
  {
   "cell_type": "markdown",
   "metadata": {},
   "source": [
    "# remove usernames"
   ]
  },
  {
   "cell_type": "code",
   "execution_count": 36,
   "metadata": {},
   "outputs": [],
   "source": [
    "df['texto_completo'].replace({\"@[^\\s]+\": '<usernameremoved>'}, inplace=True, regex=True)"
   ]
  },
  {
   "cell_type": "markdown",
   "metadata": {},
   "source": [
    "# remove duplicates"
   ]
  },
  {
   "cell_type": "code",
   "execution_count": 37,
   "metadata": {},
   "outputs": [
    {
     "data": {
      "text/plain": [
       "111745"
      ]
     },
     "execution_count": 37,
     "metadata": {},
     "output_type": "execute_result"
    }
   ],
   "source": [
    "len(df)"
   ]
  },
  {
   "cell_type": "code",
   "execution_count": 38,
   "metadata": {},
   "outputs": [],
   "source": [
    "df.drop_duplicates(['texto_completo'],keep='first', inplace=True)"
   ]
  },
  {
   "cell_type": "code",
   "execution_count": 39,
   "metadata": {},
   "outputs": [
    {
     "name": "stdout",
     "output_type": "stream",
     "text": [
      "El numero de tweets no duplicados es 111695\n"
     ]
    }
   ],
   "source": [
    "print(\"El numero de tweets no duplicados es\", len(df)) #numero de tweets no duplicados"
   ]
  },
  {
   "cell_type": "code",
   "execution_count": null,
   "metadata": {},
   "outputs": [],
   "source": []
  },
  {
   "cell_type": "code",
   "execution_count": 40,
   "metadata": {},
   "outputs": [
    {
     "name": "stdout",
     "output_type": "stream",
     "text": [
      "El numero de usuarios es 46918\n"
     ]
    }
   ],
   "source": [
    "# numero de usuarios\n",
    "tweets_by_user_data = df.groupby('user.screen_name').agg('size').sort_values(ascending=False).reset_index()\n",
    "print(\"El numero de usuarios es\",len(tweets_by_user_data))"
   ]
  },
  {
   "cell_type": "markdown",
   "metadata": {},
   "source": [
    "# remove digits, puntuactions, symbols"
   ]
  },
  {
   "cell_type": "code",
   "execution_count": 41,
   "metadata": {},
   "outputs": [
    {
     "data": {
      "text/plain": [
       "'!\"#$%&\\'()*+,-./:;<=>?@[\\\\]^_`{|}~'"
      ]
     },
     "execution_count": 41,
     "metadata": {},
     "output_type": "execute_result"
    }
   ],
   "source": [
    "punctuation"
   ]
  },
  {
   "cell_type": "code",
   "execution_count": 42,
   "metadata": {},
   "outputs": [],
   "source": [
    "punctuation+='¡¿'"
   ]
  },
  {
   "cell_type": "code",
   "execution_count": 43,
   "metadata": {},
   "outputs": [
    {
     "data": {
      "text/plain": [
       "'!\"#$%&\\'()*+,-./:;<=>?@[\\\\]^_`{|}~¡¿'"
      ]
     },
     "execution_count": 43,
     "metadata": {},
     "output_type": "execute_result"
    }
   ],
   "source": [
    "punctuation"
   ]
  },
  {
   "cell_type": "code",
   "execution_count": 44,
   "metadata": {},
   "outputs": [],
   "source": [
    "#Remove digits and puntuaction\n",
    "remove_digits = str.maketrans(digits, ' '*len(digits))#remove_digits = str.maketrans('', '', digits)\n",
    "remove_punctuation = str.maketrans(punctuation, ' '*len(punctuation))#remove_punctuation = str.maketrans('', '', punctuation)\n",
    "remove_hashtags_caracter = str.maketrans('#', ' '*len('#'))\n",
    "#las palabras de los hashtag se mantiene, pero no el simbolo. "
   ]
  },
  {
   "cell_type": "code",
   "execution_count": 45,
   "metadata": {},
   "outputs": [
    {
     "data": {
      "text/plain": [
       "0    meet our newest product: the transparent camhatch webcam cover! we've combined everything you loved about the matte black version with the transparency of mark zuckerberg. protect your privacy without having to change the appearance of your laptop, tablet or smartphone.  <linkremoved>\n",
       "1    <usernameremoved> this week has been the most #triggered i've seen lefties since trump won (sadly, we have #maybot &amp; amber dudd  on other side) friends! <linkremoved>                                                                                                                   \n",
       "2    pulitzer prize for this lady. investigative journalism at it's finest. <linkremoved>                                                                                                                                                                                                         \n",
       "3    theres no more secrecy, confident and privacy and no protection of personal data. our lives are traded on the open market! <linkremoved>                                                                                                                                                     \n",
       "4    aggregateiq: the obscure canadian tech firm and the brexit data riddle <linkremoved>                                                                                                                                                                                                         \n",
       "Name: texto_completo, dtype: object"
      ]
     },
     "execution_count": 45,
     "metadata": {},
     "output_type": "execute_result"
    }
   ],
   "source": [
    "df['texto_completo'].head()"
   ]
  },
  {
   "cell_type": "code",
   "execution_count": 46,
   "metadata": {},
   "outputs": [],
   "source": [
    "#df['texto_completo'].replace({\"ee.uu\": 'eeuu'}, inplace=True, regex=True)\n"
   ]
  },
  {
   "cell_type": "code",
   "execution_count": 47,
   "metadata": {},
   "outputs": [],
   "source": [
    "#a = df[df['texto_completo'].str.contains('ee.uu', regex = True)]"
   ]
  },
  {
   "cell_type": "code",
   "execution_count": 48,
   "metadata": {},
   "outputs": [],
   "source": [
    "#len(a)+51"
   ]
  },
  {
   "cell_type": "code",
   "execution_count": null,
   "metadata": {},
   "outputs": [],
   "source": []
  },
  {
   "cell_type": "markdown",
   "metadata": {},
   "source": [
    "# Ojo, en Topic modeling no remuevo tildes. Solo lo hago en word embeddings"
   ]
  },
  {
   "cell_type": "code",
   "execution_count": 49,
   "metadata": {},
   "outputs": [],
   "source": [
    "import unidecode\n",
    "\n",
    "data = []\n",
    "for tweet in df['texto_completo']:\n",
    "    tweet = tweet.translate(remove_digits)\n",
    "    #tweet = tweet.lower() it wasn't a good idea,, we lost a lot of\n",
    "    tweet = tweet.translate(remove_punctuation)\n",
    "    tweet = tweet.translate(remove_hashtags_caracter)\n",
    "    tweet = tweet.lower()\n",
    "    #tweet = unidecode.unidecode(tweet)  #esta linea se hacia en word embeddings\n",
    "    #tweet = tweet.strip().split()\n",
    "    #filtered_words = [word for word in tweet if word not in stopWords]\n",
    "    #corpus[id_tweet]= filtered_words\n",
    "    #id_tweet+=1\n",
    "    data.append(tweet)\n"
   ]
  },
  {
   "cell_type": "code",
   "execution_count": 50,
   "metadata": {},
   "outputs": [
    {
     "data": {
      "text/plain": [
       "['meet our newest product  the transparent camhatch webcam cover  we ve combined everything you loved about the matte black version with the transparency of mark zuckerberg  protect your privacy without having to change the appearance of your laptop  tablet or smartphone    linkremoved ',\n",
       " ' usernameremoved  this week has been the most  triggered i ve seen lefties since trump won  sadly  we have  maybot  amp  amber dudd  on other side  friends   linkremoved ',\n",
       " 'pulitzer prize for this lady  investigative journalism at it s finest   linkremoved ',\n",
       " 'theres no more secrecy  confident and privacy and no protection of personal data  our lives are traded on the open market   linkremoved ',\n",
       " 'aggregateiq  the obscure canadian tech firm and the brexit data riddle  linkremoved ']"
      ]
     },
     "execution_count": 50,
     "metadata": {},
     "output_type": "execute_result"
    }
   ],
   "source": [
    "data[0:5]"
   ]
  },
  {
   "cell_type": "code",
   "execution_count": null,
   "metadata": {},
   "outputs": [],
   "source": []
  },
  {
   "cell_type": "code",
   "execution_count": null,
   "metadata": {},
   "outputs": [],
   "source": []
  },
  {
   "cell_type": "code",
   "execution_count": 51,
   "metadata": {},
   "outputs": [
    {
     "data": {
      "text/plain": [
       "111695"
      ]
     },
     "execution_count": 51,
     "metadata": {},
     "output_type": "execute_result"
    }
   ],
   "source": [
    "len(data)"
   ]
  },
  {
   "cell_type": "code",
   "execution_count": 52,
   "metadata": {},
   "outputs": [
    {
     "data": {
      "text/plain": [
       "111695"
      ]
     },
     "execution_count": 52,
     "metadata": {},
     "output_type": "execute_result"
    }
   ],
   "source": [
    "len(df)"
   ]
  },
  {
   "cell_type": "code",
   "execution_count": 53,
   "metadata": {},
   "outputs": [
    {
     "name": "stdout",
     "output_type": "stream",
     "text": [
      "(' usernameremoved  this week has been the most  triggered i ve seen lefties '\n",
      " 'since trump won  sadly  we have  maybot  amp  amber dudd  on other side  '\n",
      " 'friends   linkremoved ')\n"
     ]
    }
   ],
   "source": [
    "pprint(data[1])"
   ]
  },
  {
   "cell_type": "markdown",
   "metadata": {},
   "source": [
    "#  Twitter tokenizer"
   ]
  },
  {
   "cell_type": "code",
   "execution_count": 54,
   "metadata": {},
   "outputs": [],
   "source": [
    "from nltk.tokenize import TweetTokenizer"
   ]
  },
  {
   "cell_type": "code",
   "execution_count": 55,
   "metadata": {},
   "outputs": [],
   "source": [
    "tknzr = TweetTokenizer()\n",
    "def sent_to_words(sentences):\n",
    "    for sentence in sentences:\n",
    "        yield(tknzr.tokenize(sentence))\n"
   ]
  },
  {
   "cell_type": "code",
   "execution_count": 56,
   "metadata": {},
   "outputs": [],
   "source": [
    "data_words = list(sent_to_words(data))\n",
    "#0:27"
   ]
  },
  {
   "cell_type": "code",
   "execution_count": 57,
   "metadata": {},
   "outputs": [
    {
     "name": "stdout",
     "output_type": "stream",
     "text": [
      "['usernameremoved', 'this', 'week', 'has', 'been', 'the', 'most', 'triggered', 'i', 've', 'seen', 'lefties', 'since', 'trump', 'won', 'sadly', 'we', 'have', 'maybot', 'amp', 'amber', 'dudd', 'on', 'other', 'side', 'friends', 'linkremoved']\n"
     ]
    }
   ],
   "source": [
    "print(data_words[1])"
   ]
  },
  {
   "cell_type": "code",
   "execution_count": 58,
   "metadata": {},
   "outputs": [
    {
     "name": "stdout",
     "output_type": "stream",
     "text": [
      "['aggregateiq', 'the', 'obscure', 'canadian', 'tech', 'firm', 'and', 'the', 'brexit', 'data', 'riddle', 'linkremoved']\n"
     ]
    }
   ],
   "source": [
    "print(data_words[4])"
   ]
  },
  {
   "cell_type": "code",
   "execution_count": 59,
   "metadata": {},
   "outputs": [
    {
     "name": "stdout",
     "output_type": "stream",
     "text": [
      "['best', 'data', 'science', 'books', 'that', 'are', 'worthy', 'reading', 'linkremoved', 'bigdata', 'datascience', 'linkremoved']\n"
     ]
    }
   ],
   "source": [
    "print(data_words[5])"
   ]
  },
  {
   "cell_type": "markdown",
   "metadata": {},
   "source": [
    "# Create brigram and trigram models"
   ]
  },
  {
   "cell_type": "code",
   "execution_count": null,
   "metadata": {},
   "outputs": [],
   "source": []
  },
  {
   "cell_type": "code",
   "execution_count": 60,
   "metadata": {},
   "outputs": [
    {
     "name": "stdout",
     "output_type": "stream",
     "text": [
      "['usernameremoved', 'this_week', 'has_been', 'the', 'most', 'triggered', 'i_ve_seen', 'lefties', 'since', 'trump_won', 'sadly', 'we', 'have', 'maybot', 'amp', 'amber', 'dudd', 'on', 'other_side', 'friends', 'linkremoved']\n"
     ]
    }
   ],
   "source": [
    "# Build the bigram and trigram models\n",
    "#quizas el min count es muy bajo\n",
    "#documentaicon de bigramas \n",
    "#https://www.machinelearningplus.com/nlp/topic-modeling-gensim-python/#3importpackages\n",
    "min_count = 5#int(len(df)*0.03)\n",
    "bigram = gensim.models.Phrases(data_words, min_count=min_count) # higher threshold fewer phrases.\n",
    "trigram = gensim.models.Phrases(bigram[data_words], min_count =min_count)  \n",
    "\n",
    "# Faster way to get a sentence clubbed as a trigram/bigram\n",
    "bigram_mod = gensim.models.phrases.Phraser(bigram)\n",
    "trigram_mod = gensim.models.phrases.Phraser(trigram)\n",
    "\n",
    "# See trigram example\n",
    "print(trigram_mod[bigram_mod[data_words[1]]])"
   ]
  },
  {
   "cell_type": "code",
   "execution_count": 61,
   "metadata": {},
   "outputs": [
    {
     "name": "stdout",
     "output_type": "stream",
     "text": [
      "['meet', 'our_newest', 'product', 'the', 'transparent', 'camhatch', 'webcam', 'cover', 'we_ve', 'combined', 'everything', 'you', 'loved', 'about', 'the', 'matte', 'black', 'version', 'with', 'the', 'transparency', 'of', 'mark_zuckerberg', 'protect_your_privacy', 'without_having', 'to', 'change', 'the', 'appearance', 'of', 'your', 'laptop', 'tablet', 'or', 'smartphone', 'linkremoved']\n",
      "['usernameremoved', 'this_week', 'has_been', 'the', 'most', 'triggered', 'i_ve_seen', 'lefties', 'since', 'trump_won', 'sadly', 'we', 'have', 'maybot', 'amp', 'amber', 'dudd', 'on', 'other_side', 'friends', 'linkremoved']\n",
      "['pulitzer', 'prize', 'for', 'this', 'lady', 'investigative_journalism', 'at', 'it', 's', 'finest', 'linkremoved']\n",
      "['theres_no', 'more', 'secrecy', 'confident', 'and', 'privacy', 'and', 'no', 'protection', 'of', 'personal_data', 'our_lives', 'are', 'traded', 'on', 'the', 'open', 'market', 'linkremoved']\n",
      "['aggregateiq', 'the', 'obscure_canadian_tech', 'firm', 'and', 'the', 'brexit_data_riddle', 'linkremoved']\n"
     ]
    }
   ],
   "source": [
    "# See trigram example\n",
    "#print(trigram_mod[bigram_mod[data_words[1]]])\n",
    "for i in range(0,5):\n",
    "    print(trigram_mod[bigram_mod[data_words[i]]])"
   ]
  },
  {
   "cell_type": "code",
   "execution_count": null,
   "metadata": {},
   "outputs": [],
   "source": []
  },
  {
   "cell_type": "markdown",
   "metadata": {},
   "source": [
    "# Remove Stopwords, Make Bigrams and Lemmatize"
   ]
  },
  {
   "cell_type": "code",
   "execution_count": 62,
   "metadata": {},
   "outputs": [],
   "source": [
    "def remove_stopwords(texts):\n",
    "    return [[word for word in simple_preprocess(str(doc)) if word not in stop_words] for doc in texts]\n"
   ]
  },
  {
   "cell_type": "code",
   "execution_count": 63,
   "metadata": {},
   "outputs": [],
   "source": [
    "def make_bigrams(texts):\n",
    "    return [bigram_mod[doc] for doc in texts]\n",
    "\n",
    "def make_trigrams(texts):\n",
    "    return [trigram_mod[bigram_mod[doc]] for doc in texts]\n",
    "\n",
    "def lemmatization(texts, allowed_postags=['NOUN', 'ADJ', 'VERB', 'ADV']):\n",
    "    \"\"\"https://spacy.io/api/annotation\"\"\"\n",
    "    texts_out = []\n",
    "    for sent in texts:\n",
    "        doc = nlp(\" \".join(sent)) \n",
    "        texts_out.append([token.lemma_ for token in doc if token.pos_ in allowed_postags])\n",
    "    return texts_out"
   ]
  },
  {
   "cell_type": "code",
   "execution_count": 64,
   "metadata": {},
   "outputs": [],
   "source": [
    "#%pprint"
   ]
  },
  {
   "cell_type": "code",
   "execution_count": 65,
   "metadata": {},
   "outputs": [],
   "source": [
    "# Remove Stop Words\n",
    "data_words_nostops = remove_stopwords(data_words)#0:33\n"
   ]
  },
  {
   "cell_type": "code",
   "execution_count": 66,
   "metadata": {},
   "outputs": [
    {
     "data": {
      "text/plain": [
       "['meet',\n",
       " 'newest',\n",
       " 'product',\n",
       " 'transparent',\n",
       " 'camhatch',\n",
       " 'webcam',\n",
       " 'cover',\n",
       " 'combined',\n",
       " 'everything',\n",
       " 'loved',\n",
       " 'matte',\n",
       " 'black',\n",
       " 'version',\n",
       " 'transparency',\n",
       " 'mark',\n",
       " 'zuckerberg',\n",
       " 'protect',\n",
       " 'privacy',\n",
       " 'without',\n",
       " 'change',\n",
       " 'appearance',\n",
       " 'laptop',\n",
       " 'tablet',\n",
       " 'smartphone']"
      ]
     },
     "execution_count": 66,
     "metadata": {},
     "output_type": "execute_result"
    }
   ],
   "source": [
    "data_words_nostops[0]"
   ]
  },
  {
   "cell_type": "code",
   "execution_count": 67,
   "metadata": {},
   "outputs": [],
   "source": [
    "#%pprint\n"
   ]
  },
  {
   "cell_type": "code",
   "execution_count": 68,
   "metadata": {},
   "outputs": [
    {
     "data": {
      "text/plain": [
       "[['meet',\n",
       "  'newest',\n",
       "  'product',\n",
       "  'transparent',\n",
       "  'camhatch',\n",
       "  'webcam',\n",
       "  'cover',\n",
       "  'combined',\n",
       "  'everything',\n",
       "  'loved',\n",
       "  'matte',\n",
       "  'black',\n",
       "  'version',\n",
       "  'transparency',\n",
       "  'mark',\n",
       "  'zuckerberg',\n",
       "  'protect',\n",
       "  'privacy',\n",
       "  'without',\n",
       "  'change',\n",
       "  'appearance',\n",
       "  'laptop',\n",
       "  'tablet',\n",
       "  'smartphone'],\n",
       " ['week',\n",
       "  'triggered',\n",
       "  'seen',\n",
       "  'lefties',\n",
       "  'since',\n",
       "  'trump',\n",
       "  'sadly',\n",
       "  'maybot',\n",
       "  'amber',\n",
       "  'dudd',\n",
       "  'side',\n",
       "  'friends'],\n",
       " ['pulitzer', 'prize', 'lady', 'investigative', 'journalism', 'finest'],\n",
       " ['theres',\n",
       "  'secrecy',\n",
       "  'confident',\n",
       "  'privacy',\n",
       "  'protection',\n",
       "  'personal',\n",
       "  'data',\n",
       "  'lives',\n",
       "  'traded',\n",
       "  'open',\n",
       "  'market'],\n",
       " ['aggregateiq',\n",
       "  'obscure',\n",
       "  'canadian',\n",
       "  'tech',\n",
       "  'firm',\n",
       "  'brexit',\n",
       "  'data',\n",
       "  'riddle'],\n",
       " ['best',\n",
       "  'data',\n",
       "  'science',\n",
       "  'books',\n",
       "  'worthy',\n",
       "  'reading',\n",
       "  'bigdata',\n",
       "  'datascience'],\n",
       " ['cant',\n",
       "  'go',\n",
       "  'swanning',\n",
       "  'around',\n",
       "  'hacked',\n",
       "  'expect',\n",
       "  'us',\n",
       "  'plebs',\n",
       "  'keep',\n",
       "  'date',\n",
       "  'awake',\n",
       "  'need',\n",
       "  'young',\n",
       "  'man',\n",
       "  'awake',\n",
       "  'need',\n",
       "  'put',\n",
       "  'champagne'],\n",
       " ['recommend', 'everyone', 'fbpe', 'community'],\n",
       " ['pretty',\n",
       "  'sure',\n",
       "  'many',\n",
       "  'voted',\n",
       "  'leave',\n",
       "  'idea',\n",
       "  'voting',\n",
       "  'conditioned',\n",
       "  'vote',\n",
       "  'based',\n",
       "  'lie',\n",
       "  'programmed',\n",
       "  'voted',\n",
       "  'way',\n",
       "  'told'],\n",
       " ['longer',\n",
       "  'ignores',\n",
       "  'questions',\n",
       "  'suspicious',\n",
       "  'people',\n",
       "  'data',\n",
       "  'somehow',\n",
       "  'given',\n",
       "  'russia',\n",
       "  'aid',\n",
       "  'hybrid',\n",
       "  'war',\n",
       "  'democracy']]"
      ]
     },
     "execution_count": 68,
     "metadata": {},
     "output_type": "execute_result"
    }
   ],
   "source": [
    "data_words_nostops[0:10]"
   ]
  },
  {
   "cell_type": "code",
   "execution_count": 69,
   "metadata": {},
   "outputs": [
    {
     "data": {
      "text/plain": [
       "['pulitzer', 'prize', 'lady', 'investigative', 'journalism', 'finest']"
      ]
     },
     "execution_count": 69,
     "metadata": {},
     "output_type": "execute_result"
    }
   ],
   "source": [
    "data_words_nostops[2]"
   ]
  },
  {
   "cell_type": "code",
   "execution_count": 70,
   "metadata": {},
   "outputs": [],
   "source": [
    "# Form Bigrams\n",
    "data_words_bigrams = make_bigrams(data_words_nostops)\n",
    "# Form Trigrams\n",
    "\n",
    "data_words_trigrams = make_trigrams(data_words_bigrams)\n"
   ]
  },
  {
   "cell_type": "code",
   "execution_count": 71,
   "metadata": {},
   "outputs": [],
   "source": [
    "#%pprint\n",
    "#data_words_trigrams"
   ]
  },
  {
   "cell_type": "markdown",
   "metadata": {},
   "source": [
    "# Inicializar en el idioma correspondiente"
   ]
  },
  {
   "cell_type": "code",
   "execution_count": 72,
   "metadata": {},
   "outputs": [
    {
     "name": "stdout",
     "output_type": "stream",
     "text": [
      "Collecting en_core_web_sm==2.3.1\n",
      "  Downloading https://github.com/explosion/spacy-models/releases/download/en_core_web_sm-2.3.1/en_core_web_sm-2.3.1.tar.gz (12.0 MB)\n",
      "Requirement already satisfied: spacy<2.4.0,>=2.3.0 in c:\\users\\gonza\\tesisenv\\lib\\site-packages (from en_core_web_sm==2.3.1) (2.3.5)\n",
      "Requirement already satisfied: preshed<3.1.0,>=3.0.2 in c:\\users\\gonza\\tesisenv\\lib\\site-packages (from spacy<2.4.0,>=2.3.0->en_core_web_sm==2.3.1) (3.0.5)\n",
      "Requirement already satisfied: numpy>=1.15.0 in c:\\users\\gonza\\tesisenv\\lib\\site-packages (from spacy<2.4.0,>=2.3.0->en_core_web_sm==2.3.1) (1.19.0)\n",
      "Requirement already satisfied: tqdm<5.0.0,>=4.38.0 in c:\\users\\gonza\\tesisenv\\lib\\site-packages (from spacy<2.4.0,>=2.3.0->en_core_web_sm==2.3.1) (4.54.1)\n",
      "Requirement already satisfied: wasabi<1.1.0,>=0.4.0 in c:\\users\\gonza\\tesisenv\\lib\\site-packages (from spacy<2.4.0,>=2.3.0->en_core_web_sm==2.3.1) (0.8.0)\n",
      "Requirement already satisfied: requests<3.0.0,>=2.13.0 in c:\\users\\gonza\\tesisenv\\lib\\site-packages (from spacy<2.4.0,>=2.3.0->en_core_web_sm==2.3.1) (2.25.1)\n",
      "Requirement already satisfied: catalogue<1.1.0,>=0.0.7 in c:\\users\\gonza\\tesisenv\\lib\\site-packages (from spacy<2.4.0,>=2.3.0->en_core_web_sm==2.3.1) (1.0.0)\n",
      "Requirement already satisfied: plac<1.2.0,>=0.9.6 in c:\\users\\gonza\\tesisenv\\lib\\site-packages (from spacy<2.4.0,>=2.3.0->en_core_web_sm==2.3.1) (1.1.3)\n",
      "Requirement already satisfied: setuptools in c:\\users\\gonza\\tesisenv\\lib\\site-packages (from spacy<2.4.0,>=2.3.0->en_core_web_sm==2.3.1) (49.2.1)\n",
      "Requirement already satisfied: cymem<2.1.0,>=2.0.2 in c:\\users\\gonza\\tesisenv\\lib\\site-packages (from spacy<2.4.0,>=2.3.0->en_core_web_sm==2.3.1) (2.0.5)\n",
      "Requirement already satisfied: blis<0.8.0,>=0.4.0 in c:\\users\\gonza\\tesisenv\\lib\\site-packages (from spacy<2.4.0,>=2.3.0->en_core_web_sm==2.3.1) (0.7.4)\n",
      "Requirement already satisfied: srsly<1.1.0,>=1.0.2 in c:\\users\\gonza\\tesisenv\\lib\\site-packages (from spacy<2.4.0,>=2.3.0->en_core_web_sm==2.3.1) (1.0.5)\n",
      "Requirement already satisfied: murmurhash<1.1.0,>=0.28.0 in c:\\users\\gonza\\tesisenv\\lib\\site-packages (from spacy<2.4.0,>=2.3.0->en_core_web_sm==2.3.1) (1.0.5)\n",
      "Requirement already satisfied: thinc<7.5.0,>=7.4.1 in c:\\users\\gonza\\tesisenv\\lib\\site-packages (from spacy<2.4.0,>=2.3.0->en_core_web_sm==2.3.1) (7.4.5)\n",
      "Requirement already satisfied: chardet<5,>=3.0.2 in c:\\users\\gonza\\tesisenv\\lib\\site-packages (from requests<3.0.0,>=2.13.0->spacy<2.4.0,>=2.3.0->en_core_web_sm==2.3.1) (4.0.0)\n",
      "Requirement already satisfied: urllib3<1.27,>=1.21.1 in c:\\users\\gonza\\tesisenv\\lib\\site-packages (from requests<3.0.0,>=2.13.0->spacy<2.4.0,>=2.3.0->en_core_web_sm==2.3.1) (1.26.2)\n",
      "Requirement already satisfied: certifi>=2017.4.17 in c:\\users\\gonza\\tesisenv\\lib\\site-packages (from requests<3.0.0,>=2.13.0->spacy<2.4.0,>=2.3.0->en_core_web_sm==2.3.1) (2020.12.5)\n",
      "Requirement already satisfied: idna<3,>=2.5 in c:\\users\\gonza\\tesisenv\\lib\\site-packages (from requests<3.0.0,>=2.13.0->spacy<2.4.0,>=2.3.0->en_core_web_sm==2.3.1) (2.10)\n",
      "[+] Download and installation successful\n",
      "You can now load the model via spacy.load('en_core_web_sm')\n",
      "IDIOMA ACTUAL : ENGLISH\n"
     ]
    }
   ],
   "source": [
    "# Initialize spacy 'en' model, keeping only tagger component (for efficiency)\n",
    "if idioma == 'english':\n",
    "    !python -m spacy download en_core_web_sm\n",
    "    print(\"IDIOMA ACTUAL : ENGLISH\")\n",
    "elif idioma == 'spanish':\n",
    "    !python -m spacy download es\n",
    "    print(\"IDIOMA ACTUAL : SPANISH\")\n",
    "else:\n",
    "    print(\"Error!!!!!!!\")"
   ]
  },
  {
   "cell_type": "code",
   "execution_count": 73,
   "metadata": {},
   "outputs": [
    {
     "name": "stdout",
     "output_type": "stream",
     "text": [
      "IDIOMA ACTUAL : ENGLISH\n"
     ]
    }
   ],
   "source": [
    "if idioma == 'english':\n",
    "    nlp = spacy.load('en_core_web_sm', disable=['parser', 'ner'])\n",
    "    print(\"IDIOMA ACTUAL : ENGLISH\")\n",
    "elif idioma == 'spanish':\n",
    "    nlp = spacy.load('es', disable=['parser', 'ner'])\n",
    "    print(\"IDIOMA ACTUAL : SPANISH\")\n",
    "else:\n",
    "    print(\"ERROR!!\")"
   ]
  },
  {
   "cell_type": "code",
   "execution_count": 74,
   "metadata": {},
   "outputs": [
    {
     "name": "stdout",
     "output_type": "stream",
     "text": [
      "[['meet', 'new', 'product', 'transparent', 'camhatch', 'webcam', 'cover', 'combine', 'love', 'black', 'version', 'transparency', 'protect', 'privacy', 'change', 'appearance', 'laptop', 'tablet', 'smartphone']]\n"
     ]
    }
   ],
   "source": [
    "\n",
    "# Do lemmatization keeping only noun, adj, vb, adv\n",
    "data_lemmatized = lemmatization(data_words_trigrams, allowed_postags=['NOUN', 'ADJ', 'VERB', 'ADV'])\n",
    "\n",
    "#Aqui aparecen la lista de postags disponibles, https://spacy.io/api/annotation solo lematizaremos en una seleccion\n",
    "\n",
    "print(data_lemmatized[:1])#4:13"
   ]
  },
  {
   "cell_type": "code",
   "execution_count": 75,
   "metadata": {},
   "outputs": [
    {
     "data": {
      "text/plain": [
       "[['meet',\n",
       "  'new',\n",
       "  'product',\n",
       "  'transparent',\n",
       "  'camhatch',\n",
       "  'webcam',\n",
       "  'cover',\n",
       "  'combine',\n",
       "  'love',\n",
       "  'black',\n",
       "  'version',\n",
       "  'transparency',\n",
       "  'protect',\n",
       "  'privacy',\n",
       "  'change',\n",
       "  'appearance',\n",
       "  'laptop',\n",
       "  'tablet',\n",
       "  'smartphone'],\n",
       " ['week',\n",
       "  'trigger',\n",
       "  'see',\n",
       "  'lefty',\n",
       "  'trump',\n",
       "  'sadly',\n",
       "  'maybot',\n",
       "  'dudd',\n",
       "  'side',\n",
       "  'friend'],\n",
       " ['fine'],\n",
       " ['s', 'life', 'trade', 'open', 'market'],\n",
       " ['aggregateiq', 'firm', 'brexit_data_riddle'],\n",
       " ['good', 'book', 'worthy', 'reading', 'bigdata_datascience'],\n",
       " ['can',\n",
       "  'go',\n",
       "  'swanne',\n",
       "  'around',\n",
       "  'hack',\n",
       "  'expect',\n",
       "  'pleb',\n",
       "  'keep',\n",
       "  'date',\n",
       "  'awake',\n",
       "  'need',\n",
       "  'awake',\n",
       "  'need',\n",
       "  'put',\n",
       "  'champagne'],\n",
       " ['recommend', 'fbpe', 'community'],\n",
       " ['pretty_sure',\n",
       "  'many',\n",
       "  'idea',\n",
       "  'voting',\n",
       "  'condition',\n",
       "  'vote',\n",
       "  'base',\n",
       "  'vote',\n",
       "  'way',\n",
       "  'tell'],\n",
       " ['long',\n",
       "  'ignore',\n",
       "  'question',\n",
       "  'suspicious',\n",
       "  'people',\n",
       "  'datum',\n",
       "  'somehow',\n",
       "  'give',\n",
       "  'aid',\n",
       "  'hybrid',\n",
       "  'war',\n",
       "  'democracy'],\n",
       " ['decision', 'delete', 'old', 'account', 'take'],\n",
       " ['business', 'bigdata_datascience_machinelearning_deeplearning', 'iot'],\n",
       " [],\n",
       " ['post'],\n",
       " ['founder', 'leave', 'company'],\n",
       " ['quite', 'thread'],\n",
       " ['black',\n",
       "  'third',\n",
       "  'time',\n",
       "  'turn',\n",
       "  'parliament',\n",
       "  'request',\n",
       "  'answer_question',\n",
       "  'issue'],\n",
       " ['look',\n",
       "  'halve',\n",
       "  'next',\n",
       "  'couple',\n",
       "  'year',\n",
       "  'basically',\n",
       "  'techlash',\n",
       "  'deletefacebook',\n",
       "  'digitalfix'],\n",
       " ['else', 'paranoid', 'thought', 'psyop', 'culture', 'war'],\n",
       " ['suspicious',\n",
       "  'speed',\n",
       "  'get',\n",
       "  'warrant',\n",
       "  'execute',\n",
       "  'seem',\n",
       "  'want',\n",
       "  'evidence',\n",
       "  'grubby',\n",
       "  'hand'],\n",
       " ['facebook',\n",
       "  'cheat',\n",
       "  'advertiser',\n",
       "  'video',\n",
       "  'really',\n",
       "  'watch',\n",
       "  'fake',\n",
       "  'targeting',\n",
       "  'spread',\n",
       "  'steal',\n",
       "  'content',\n",
       "  'maybe',\n",
       "  'get',\n",
       "  'care'],\n",
       " ['information', 'legal', 'connection', 'beleave'],\n",
       " ['never_mind', 'seeing', 'know', 'rt'],\n",
       " ['pay', 'whiff'],\n",
       " ['want', 'skilled', 'migrant', 'create', 'new', 'hurdle', 'bigdata_ividata'],\n",
       " ['tory',\n",
       "  'news',\n",
       "  'network',\n",
       "  'try',\n",
       "  'hide',\n",
       "  'story',\n",
       "  'involve',\n",
       "  'tory',\n",
       "  'company',\n",
       "  'sense',\n",
       "  'believe',\n",
       "  'endorse',\n",
       "  'antisemitism',\n",
       "  'vote',\n",
       "  'labour'],\n",
       " ['go'],\n",
       " ['give',\n",
       "  'ago',\n",
       "  'little',\n",
       "  'wonder',\n",
       "  'cambridge_university',\n",
       "  'get',\n",
       "  'tie',\n",
       "  'mention',\n",
       "  'pesky',\n",
       "  'latent',\n",
       "  'trait',\n",
       "  'problem',\n",
       "  'embarrass',\n",
       "  'fore'],\n",
       " ['scottish_government_believe', 'could', 'trigger', 'second'],\n",
       " []]"
      ]
     },
     "execution_count": 75,
     "metadata": {},
     "output_type": "execute_result"
    }
   ],
   "source": [
    "data_lemmatized[:30]"
   ]
  },
  {
   "cell_type": "code",
   "execution_count": 76,
   "metadata": {},
   "outputs": [
    {
     "data": {
      "text/plain": [
       "['week',\n",
       " 'trigger',\n",
       " 'see',\n",
       " 'lefty',\n",
       " 'trump',\n",
       " 'sadly',\n",
       " 'maybot',\n",
       " 'dudd',\n",
       " 'side',\n",
       " 'friend']"
      ]
     },
     "execution_count": 76,
     "metadata": {},
     "output_type": "execute_result"
    }
   ],
   "source": [
    "data_lemmatized[1]"
   ]
  },
  {
   "cell_type": "code",
   "execution_count": null,
   "metadata": {},
   "outputs": [],
   "source": []
  },
  {
   "cell_type": "code",
   "execution_count": 77,
   "metadata": {},
   "outputs": [
    {
     "data": {
      "text/plain": [
       "['long',\n",
       " 'ignore',\n",
       " 'question',\n",
       " 'suspicious',\n",
       " 'people',\n",
       " 'datum',\n",
       " 'somehow',\n",
       " 'give',\n",
       " 'aid',\n",
       " 'hybrid',\n",
       " 'war',\n",
       " 'democracy']"
      ]
     },
     "execution_count": 77,
     "metadata": {},
     "output_type": "execute_result"
    }
   ],
   "source": [
    "data_lemmatized[9]"
   ]
  },
  {
   "cell_type": "code",
   "execution_count": 78,
   "metadata": {},
   "outputs": [
    {
     "data": {
      "text/plain": [
       "[['meet',\n",
       "  'new',\n",
       "  'product',\n",
       "  'transparent',\n",
       "  'camhatch',\n",
       "  'webcam',\n",
       "  'cover',\n",
       "  'combine',\n",
       "  'love',\n",
       "  'black',\n",
       "  'version',\n",
       "  'transparency',\n",
       "  'protect',\n",
       "  'privacy',\n",
       "  'change',\n",
       "  'appearance',\n",
       "  'laptop',\n",
       "  'tablet',\n",
       "  'smartphone'],\n",
       " ['week',\n",
       "  'trigger',\n",
       "  'see',\n",
       "  'lefty',\n",
       "  'trump',\n",
       "  'sadly',\n",
       "  'maybot',\n",
       "  'dudd',\n",
       "  'side',\n",
       "  'friend'],\n",
       " ['fine'],\n",
       " ['s', 'life', 'trade', 'open', 'market'],\n",
       " ['aggregateiq', 'firm', 'brexit_data_riddle'],\n",
       " ['good', 'book', 'worthy', 'reading', 'bigdata_datascience'],\n",
       " ['can',\n",
       "  'go',\n",
       "  'swanne',\n",
       "  'around',\n",
       "  'hack',\n",
       "  'expect',\n",
       "  'pleb',\n",
       "  'keep',\n",
       "  'date',\n",
       "  'awake',\n",
       "  'need',\n",
       "  'awake',\n",
       "  'need',\n",
       "  'put',\n",
       "  'champagne'],\n",
       " ['recommend', 'fbpe', 'community'],\n",
       " ['pretty_sure',\n",
       "  'many',\n",
       "  'idea',\n",
       "  'voting',\n",
       "  'condition',\n",
       "  'vote',\n",
       "  'base',\n",
       "  'vote',\n",
       "  'way',\n",
       "  'tell'],\n",
       " ['long',\n",
       "  'ignore',\n",
       "  'question',\n",
       "  'suspicious',\n",
       "  'people',\n",
       "  'datum',\n",
       "  'somehow',\n",
       "  'give',\n",
       "  'aid',\n",
       "  'hybrid',\n",
       "  'war',\n",
       "  'democracy']]"
      ]
     },
     "execution_count": 78,
     "metadata": {},
     "output_type": "execute_result"
    }
   ],
   "source": [
    "data_lemmatized[:10]"
   ]
  },
  {
   "cell_type": "code",
   "execution_count": 79,
   "metadata": {},
   "outputs": [
    {
     "data": {
      "text/plain": [
       "0    meet our newest product: the transparent camhatch webcam cover! we've combined everything you loved about the matte black version with the transparency of mark zuckerberg. protect your privacy without having to change the appearance of your laptop, tablet or smartphone.  <linkremoved>\n",
       "1    <usernameremoved> this week has been the most #triggered i've seen lefties since trump won (sadly, we have #maybot &amp; amber dudd  on other side) friends! <linkremoved>                                                                                                                   \n",
       "2    pulitzer prize for this lady. investigative journalism at it's finest. <linkremoved>                                                                                                                                                                                                         \n",
       "3    theres no more secrecy, confident and privacy and no protection of personal data. our lives are traded on the open market! <linkremoved>                                                                                                                                                     \n",
       "4    aggregateiq: the obscure canadian tech firm and the brexit data riddle <linkremoved>                                                                                                                                                                                                         \n",
       "5    80 best data science books that are worthy reading <linkremoved> #bigdata #datascience <linkremoved>                                                                                                                                                                                         \n",
       "6    you cant just go swanning around being *hacked off* and expect us plebs to keep you up to date. awake. that is what you need to be young man. awake! we need you now. put the champagne down. <linkremoved>                                                                                  \n",
       "7    recommend everyone does this in the #fbpe community. <linkremoved>                                                                                                                                                                                                                           \n",
       "8    <usernameremoved> i'm pretty sure many who voted leave had no idea what they were voting for and had been conditioned by #cambridgeanalytica to vote based on a lie they had been programmed with. they voted that way because they were told to.                                            \n",
       "9    the longer <usernameremoved> ignores questions about this, the more suspicious people will be that their data was somehow given to russia to aid its hybrid war on democracy. <linkremoved>                                                                                                  \n",
       "Name: texto_completo, dtype: object"
      ]
     },
     "execution_count": 79,
     "metadata": {},
     "output_type": "execute_result"
    }
   ],
   "source": [
    "\n",
    "df['texto_completo'].head(10)"
   ]
  },
  {
   "cell_type": "code",
   "execution_count": 80,
   "metadata": {},
   "outputs": [],
   "source": [
    "#from nltk.stem import WordNetLemmatizer \n",
    "#nltk.download('wordnet') #esto no funciona en español"
   ]
  },
  {
   "cell_type": "code",
   "execution_count": 81,
   "metadata": {},
   "outputs": [],
   "source": [
    "\n",
    "#lemmatizer = WordNetLemmatizer() \n",
    "#def lemmatization_tweets(sentence):\n",
    " #   for word in sentence:\n",
    "  #      yield(lemmatizer.lemmatize(word, pos=\"v\"))\n"
   ]
  },
  {
   "cell_type": "code",
   "execution_count": 82,
   "metadata": {},
   "outputs": [],
   "source": [
    "#prueba = list(lemmatization_tweets(data_words_nostops))\n"
   ]
  },
  {
   "cell_type": "code",
   "execution_count": 83,
   "metadata": {},
   "outputs": [],
   "source": [
    "#prueba[1]"
   ]
  },
  {
   "cell_type": "markdown",
   "metadata": {},
   "source": [
    "# Create dictionary and corpus for topic modeling"
   ]
  },
  {
   "cell_type": "code",
   "execution_count": 84,
   "metadata": {},
   "outputs": [
    {
     "name": "stdout",
     "output_type": "stream",
     "text": [
      "[[(0, 1), (1, 1), (2, 1), (3, 1), (4, 1), (5, 1), (6, 1), (7, 1), (8, 1), (9, 1), (10, 1), (11, 1), (12, 1), (13, 1), (14, 1), (15, 1), (16, 1), (17, 1), (18, 1)]]\n"
     ]
    }
   ],
   "source": [
    "#The two main inputs to the LDA topic model are the dictionary(id2word) and the corpus\n",
    "# Create Dictionary\n",
    "id2word = corpora.Dictionary(data_lemmatized)\n",
    "\n",
    "# Create Corpus\n",
    "texts = data_lemmatized\n",
    "\n",
    "# Term Document Frequency\n",
    "corpus = [id2word.doc2bow(text) for text in texts]\n",
    "\n",
    "# View\n",
    "print(corpus[:1])"
   ]
  },
  {
   "cell_type": "code",
   "execution_count": 85,
   "metadata": {},
   "outputs": [
    {
     "data": {
      "text/plain": [
       "111695"
      ]
     },
     "execution_count": 85,
     "metadata": {},
     "output_type": "execute_result"
    }
   ],
   "source": [
    "id2word.num_docs #NUMERO DE TWEETS PROCESADOS"
   ]
  },
  {
   "cell_type": "code",
   "execution_count": 86,
   "metadata": {},
   "outputs": [
    {
     "name": "stdout",
     "output_type": "stream",
     "text": [
      "El vocabulary size es:  37758\n"
     ]
    }
   ],
   "source": [
    "print(\"El vocabulary size es: \",str(len(id2word)))\n"
   ]
  },
  {
   "cell_type": "markdown",
   "metadata": {},
   "source": [
    "(0, 1) above implies, word id 0 occurs once in the first document."
   ]
  },
  {
   "cell_type": "code",
   "execution_count": 90,
   "metadata": {},
   "outputs": [
    {
     "data": {
      "text/plain": [
       "'appearance'"
      ]
     },
     "execution_count": 90,
     "metadata": {},
     "output_type": "execute_result"
    }
   ],
   "source": [
    "id2word[0]\n"
   ]
  },
  {
   "cell_type": "code",
   "execution_count": 88,
   "metadata": {},
   "outputs": [
    {
     "data": {
      "text/plain": [
       "[[('appearance', 1),\n",
       "  ('black', 1),\n",
       "  ('camhatch', 1),\n",
       "  ('change', 1),\n",
       "  ('combine', 1),\n",
       "  ('cover', 1),\n",
       "  ('laptop', 1),\n",
       "  ('love', 1),\n",
       "  ('meet', 1),\n",
       "  ('new', 1),\n",
       "  ('privacy', 1),\n",
       "  ('product', 1),\n",
       "  ('protect', 1),\n",
       "  ('smartphone', 1),\n",
       "  ('tablet', 1),\n",
       "  ('transparency', 1),\n",
       "  ('transparent', 1),\n",
       "  ('version', 1),\n",
       "  ('webcam', 1)]]"
      ]
     },
     "execution_count": 88,
     "metadata": {},
     "output_type": "execute_result"
    }
   ],
   "source": [
    "[[(id2word[id], freq) for id, freq in cp] for cp in corpus[:1]]\n"
   ]
  },
  {
   "cell_type": "markdown",
   "metadata": {},
   "source": [
    "# Gensim - Build the topic model "
   ]
  },
  {
   "cell_type": "code",
   "execution_count": 77,
   "metadata": {},
   "outputs": [],
   "source": [
    "'''\n",
    "lda_model = gensim.models.ldamodel.LdaModel(corpus=corpus,\n",
    "                                           id2word=id2word,\n",
    "                                           num_topics=5, \n",
    "                                           random_state=100,\n",
    "                                           update_every=1,\n",
    "                                           chunksize=100,\n",
    "                                           passes=10,\n",
    "                                           alpha='auto',\n",
    "                                           per_word_topics=True)\n",
    "''';"
   ]
  },
  {
   "cell_type": "markdown",
   "metadata": {},
   "source": [
    "# Gensim - View the topics in LDA model"
   ]
  },
  {
   "cell_type": "code",
   "execution_count": 78,
   "metadata": {},
   "outputs": [],
   "source": [
    "#pprint(lda_model.print_topics())\n",
    "#doc_lda = lda_model[corpus]"
   ]
  },
  {
   "cell_type": "markdown",
   "metadata": {},
   "source": [
    "# Gensim -  Compute Model Perplexity and Coherence Score"
   ]
  },
  {
   "cell_type": "markdown",
   "metadata": {},
   "source": [
    "Model perplexity and topic coherence provide a convenient measure to judge how good a given topic model is."
   ]
  },
  {
   "cell_type": "code",
   "execution_count": 79,
   "metadata": {},
   "outputs": [],
   "source": [
    "# Compute Perplexity\n",
    "#print('\\nPerplexity: ', lda_model.log_perplexity(corpus))  # a measure of how good the model is. lower the better.\n",
    "\n",
    "# Compute Coherence Score\n",
    "#coherence_model_lda = CoherenceModel(model=lda_model, texts=data_lemmatized, dictionary=id2word, coherence='c_v')\n",
    "#coherence_lda = coherence_model_lda.get_coherence()\n",
    "#print('\\nCoherence Score: ', coherence_lda)"
   ]
  },
  {
   "cell_type": "markdown",
   "metadata": {},
   "source": [
    "# Calcular mejor numero de topicos"
   ]
  },
  {
   "cell_type": "code",
   "execution_count": 80,
   "metadata": {},
   "outputs": [],
   "source": [
    "from gensim.test.utils import common_corpus, common_dictionary"
   ]
  },
  {
   "cell_type": "code",
   "execution_count": 81,
   "metadata": {},
   "outputs": [],
   "source": [
    "from gensim.models.wrappers import LdaMallet"
   ]
  },
  {
   "cell_type": "code",
   "execution_count": null,
   "metadata": {},
   "outputs": [],
   "source": []
  },
  {
   "cell_type": "code",
   "execution_count": 82,
   "metadata": {},
   "outputs": [],
   "source": [
    "#Instructions about how to install mallet are available here: http://mallet.cs.umass.edu/download.php\n",
    "\n",
    "'''\n",
    "Windows installation: After unzipping MALLET, set the environment variable %MALLET_HOME% to point to the MALLET directory.\n",
    "In all command line examples, substitute bin\\mallet for bin/mallet.\n",
    "'''\n",
    "import os\n",
    "from gensim.models.wrappers import LdaMallet\n",
    "\n",
    "\n",
    "path_to_mallet_binary = \"C:\\\\mallet-2.0.8\\\\bin\\\\mallet\"\n",
    "os.environ.update({'MALLET_HOME':r'C:\\mallet-2.0.8'}) #OJO!, por alguna razon mallet solo puede estar disponible en esa carpeta\n"
   ]
  },
  {
   "cell_type": "code",
   "execution_count": 83,
   "metadata": {},
   "outputs": [],
   "source": [
    " \n",
    "def compute_coherence_values(dictionary, corpus, texts, list_num_topics,window_size,topn):\n",
    "    print(\"NUMERO DE TOPICOS A CALCULAR\",list_num_topics)\n",
    "    \"\"\"\n",
    "    Compute c_v coherence for various number of topics\n",
    "\n",
    "    Parameters:\n",
    "    ----------\n",
    "    dictionary : Gensim dictionary\n",
    "    corpus : Gensim corpus\n",
    "    texts : List of input texts\n",
    "    limit : Max num of topics\n",
    "\n",
    "    Returns:\n",
    "    -------\n",
    "    model_list : List of LDA topic models\n",
    "    coherence_values : Coherence values corresponding to the LDA model with respective number of topics\n",
    "    \"\"\"\n",
    "    coherence_values = []\n",
    "    model_list = []\n",
    "    \n",
    "    #modificar aqui la lista de valores en las que se desea probar\n",
    "    \n",
    "    #for num_topics in range(start, limit, step):\n",
    "    for num_topics in list_num_topics:\n",
    "        model = gensim.models.wrappers.LdaMallet(path_to_mallet_binary, corpus=corpus, num_topics=num_topics, id2word=id2word, random_seed=1)\n",
    "        model_list.append(model)\n",
    "        coherencemodel = CoherenceModel(model=model, texts=texts, dictionary=dictionary, coherence='c_v', window_size=window_size, topn=topn)\n",
    "        coherence_values.append(coherencemodel.get_coherence())\n",
    "\n",
    "    return model_list, coherence_values"
   ]
  },
  {
   "cell_type": "code",
   "execution_count": 84,
   "metadata": {},
   "outputs": [
    {
     "name": "stdout",
     "output_type": "stream",
     "text": [
      "NUMERO DE TOPICOS A CALCULAR [1, 2, 3, 4, 5, 6, 7, 8, 9, 10, 11, 12, 13, 14, 15]\n",
      "00:15:48.03\n"
     ]
    }
   ],
   "source": [
    "start = time.time()\n",
    "#list_num_topics= [5,8,11,15,20,50, 100]\n",
    "list_num_topics = [1,2,3,4,5,6,7,8,9,10,11,12,13,14,15]\n",
    "#list_num_topics = [4]\n",
    "topn=20\n",
    "window_size=110\n",
    "model_list, coherence_values = compute_coherence_values(dictionary=id2word, corpus=corpus, texts=data_lemmatized, list_num_topics= list_num_topics,window_size = window_size, topn=topn)\n",
    "#ojo, el numero de start, limit y step no tiene sentido en la linea anterior, se modifican directamente en el algoritmo\n",
    "end = time.time()\n",
    "hours, rem = divmod(end-start, 3600)\n",
    "minutes, seconds = divmod(rem, 60)\n",
    "print(\"{:0>2}:{:0>2}:{:05.2f}\".format(int(hours),int(minutes),seconds))\n",
    "\n",
    "#04:46\n"
   ]
  },
  {
   "cell_type": "code",
   "execution_count": null,
   "metadata": {},
   "outputs": [],
   "source": []
  },
  {
   "cell_type": "code",
   "execution_count": 85,
   "metadata": {},
   "outputs": [
    {
     "data": {
      "image/png": "[encoded data removed]",
      "text/plain": [
       "<Figure size 432x216 with 1 Axes>"
      ]
     },
     "metadata": {
      "needs_background": "light"
     },
     "output_type": "display_data"
    }
   ],
   "source": [
    "# Show graph\n",
    "\n",
    "#x = range(start, limit, step)\n",
    "\n",
    "x = list_num_topics\n",
    "plt.figure(figsize=(6,3))\n",
    "plt.title(\"Coherence Score on \"+region)\n",
    "plt.plot(x, coherence_values)\n",
    "\n",
    "\n",
    "plt.xlabel(\"Num topics\")\n",
    "plt.ylabel(\"Coherence score\")\n",
    "plt.xticks(x, x)\n",
    "\n",
    "plt.legend((\"coherence_values\"), loc='best')\n",
    "plt.show()"
   ]
  },
  {
   "cell_type": "code",
   "execution_count": 86,
   "metadata": {},
   "outputs": [
    {
     "name": "stdout",
     "output_type": "stream",
     "text": [
      "Num Topics = 1  has Coherence Value of 0.2505\n",
      "Num Topics = 2  has Coherence Value of 0.1247\n",
      "Num Topics = 3  has Coherence Value of 0.209\n",
      "Num Topics = 4  has Coherence Value of 0.2787\n",
      "Num Topics = 5  has Coherence Value of 0.3352\n",
      "Num Topics = 6  has Coherence Value of 0.3521\n",
      "Num Topics = 7  has Coherence Value of 0.3821\n",
      "Num Topics = 8  has Coherence Value of 0.3877\n",
      "Num Topics = 9  has Coherence Value of 0.3908\n",
      "Num Topics = 10  has Coherence Value of 0.4139\n",
      "Num Topics = 11  has Coherence Value of 0.3849\n",
      "Num Topics = 12  has Coherence Value of 0.3932\n",
      "Num Topics = 13  has Coherence Value of 0.3682\n",
      "Num Topics = 14  has Coherence Value of 0.4068\n",
      "Num Topics = 15  has Coherence Value of 0.385\n"
     ]
    }
   ],
   "source": [
    "# Print the coherence scores\n",
    "for m, cv in zip(x, coherence_values):\n",
    "    print(\"Num Topics =\", m, \" has Coherence Value of\", round(cv, 4))"
   ]
  },
  {
   "cell_type": "code",
   "execution_count": 87,
   "metadata": {},
   "outputs": [],
   "source": [
    "#save information for later\n",
    "dict_models = dict()\n",
    "dict_models['model_list'] = model_list\n",
    "dict_models['coherence_values'] = coherence_values\n",
    "\n"
   ]
  },
  {
   "cell_type": "code",
   "execution_count": 88,
   "metadata": {},
   "outputs": [],
   "source": [
    "import pickle\n",
    "\n",
    "\n",
    "with open('coherence_and_model_lists_europe_dataset.pkl', 'wb') as handle:\n",
    "    pickle.dump(dict_models, handle, protocol=4)"
   ]
  },
  {
   "cell_type": "markdown",
   "metadata": {},
   "source": [
    "#  Seleccionar el mejor modelo de los ya realizados"
   ]
  },
  {
   "cell_type": "code",
   "execution_count": 91,
   "metadata": {},
   "outputs": [],
   "source": [
    "import pickle\n",
    "\n",
    "\n",
    "\n",
    "with open('lists_of_topic_models/coherence_and_model_lists_europe_dataset.pkl', 'rb') as handle:\n",
    "    dict_models = pickle.load(handle)   "
   ]
  },
  {
   "cell_type": "code",
   "execution_count": null,
   "metadata": {},
   "outputs": [],
   "source": []
  },
  {
   "cell_type": "code",
   "execution_count": 94,
   "metadata": {},
   "outputs": [
    {
     "data": {
      "text/plain": [
       "<gensim.models.wrappers.ldamallet.LdaMallet at 0x212c9818160>"
      ]
     },
     "execution_count": 94,
     "metadata": {},
     "output_type": "execute_result"
    }
   ],
   "source": []
  },
  {
   "cell_type": "code",
   "execution_count": 110,
   "metadata": {},
   "outputs": [],
   "source": [
    "#ojo, revisar bien que pertenezca el numerod e topicos\n",
    "ldamallet = dict_models['model_list'][5]"
   ]
  },
  {
   "cell_type": "markdown",
   "metadata": {},
   "source": [
    "# [Saltar] Building LDA Mallet Model"
   ]
  },
  {
   "cell_type": "code",
   "execution_count": null,
   "metadata": {},
   "outputs": [],
   "source": []
  },
  {
   "cell_type": "markdown",
   "metadata": {},
   "source": [
    "El algoritmo detras de Mallet debiese dar mejores resultados que Gensim"
   ]
  },
  {
   "cell_type": "code",
   "execution_count": null,
   "metadata": {},
   "outputs": [],
   "source": [
    "#colocar el mejor numero de topicos segun lo obtenido en el punto anterior\n",
    "num_topics = 4"
   ]
  },
  {
   "cell_type": "code",
   "execution_count": null,
   "metadata": {},
   "outputs": [],
   "source": [
    "start = time.time()\n",
    "\n",
    "\n",
    "ldamallet = LdaMallet(path_to_mallet_binary, corpus=corpus, num_topics=num_topics, id2word=id2word,random_seed=1)\n",
    "\n",
    "end = time.time()\n",
    "hours, rem = divmod(end-start, 3600)\n",
    "minutes, seconds = divmod(rem, 60)\n",
    "print(\"{:0>2}:{:0>2}:{:05.2f}\".format(int(hours),int(minutes),seconds))"
   ]
  },
  {
   "cell_type": "code",
   "execution_count": null,
   "metadata": {},
   "outputs": [],
   "source": [
    "# Show Topics\n",
    "#docu : https://www.pydoc.io/pypi/gensim-3.2.0/autoapi/models/wrappers/ldamallet/index.html\n",
    "pprint(ldamallet.show_topics(formatted=False, num_words=30))\n"
   ]
  },
  {
   "cell_type": "markdown",
   "metadata": {},
   "source": [
    "### visualize topics with PyLdaVIS"
   ]
  },
  {
   "cell_type": "code",
   "execution_count": 111,
   "metadata": {},
   "outputs": [],
   "source": [
    "prueba = gensim.models.wrappers.ldamallet.malletmodel2ldamodel(ldamallet)\n"
   ]
  },
  {
   "cell_type": "code",
   "execution_count": 112,
   "metadata": {},
   "outputs": [],
   "source": [
    "pyLDAvis.enable_notebook()\n"
   ]
  },
  {
   "cell_type": "code",
   "execution_count": 113,
   "metadata": {},
   "outputs": [
    {
     "name": "stderr",
     "output_type": "stream",
     "text": [
      "c:\\users\\gonza\\tesisenv\\lib\\site-packages\\pyLDAvis\\_prepare.py:223: RuntimeWarning: divide by zero encountered in log\n",
      "  kernel = (topic_given_term * np.log((topic_given_term.T / topic_proportion).T))\n",
      "c:\\users\\gonza\\tesisenv\\lib\\site-packages\\pyLDAvis\\_prepare.py:240: RuntimeWarning: divide by zero encountered in log\n",
      "  log_lift = np.log(topic_term_dists / term_proportion)\n",
      "c:\\users\\gonza\\tesisenv\\lib\\site-packages\\pyLDAvis\\_prepare.py:241: RuntimeWarning: divide by zero encountered in log\n",
      "  log_ttd = np.log(topic_term_dists)\n"
     ]
    }
   ],
   "source": [
    "vis = pyLDAvis.gensim.prepare(prueba, corpus,id2word, mds='pcoa', sort_topics=False, R=30)\n"
   ]
  },
  {
   "cell_type": "code",
   "execution_count": 114,
   "metadata": {},
   "outputs": [
    {
     "data": {
      "text/html": [
       "\n",
       "<link rel=\"stylesheet\" type=\"text/css\" href=\"https://cdn.rawgit.com/bmabey/pyLDAvis/files/ldavis.v1.0.0.css\">\n",
       "\n",
       "\n",
       "<div id=\"ldavis_el1762022798506137767437792666\"></div>\n",
       "<script type=\"text/javascript\">\n",
       "\n",
       "var ldavis_el1762022798506137767437792666_data = {\"mdsDat\": {\"x\": [0.09686094622098657, 0.24066428203498513, 0.16527353430537425, -0.28792544553234484, 0.04157123289896462, -0.25644454992796567], \"y\": [-0.1537039378374018, -0.05283922524329972, -0.11732498273551087, -0.01003718680570498, 0.4353238531581253, -0.10141852053620744], \"topics\": [1, 2, 3, 4, 5, 6], \"cluster\": [1, 1, 1, 1, 1, 1], \"Freq\": [16.60601913960826, 16.73616286791696, 16.778584524251023, 16.722454914479375, 16.534405530700063, 16.622373023044318]}, \"tinfo\": {\"Term\": [\"facebook\", \"datum\", \"bigdata\", \"privacy\", \"people\", \"make\", \"user\", \"ai\", \"company\", \"good\", \"trump\", \"business\", \"late\", \"share\", \"time\", \"page\", \"question\", \"delete\", \"today\", \"find\", \"data\", \"follow\", \"thing\", \"technology\", \"account\", \"work\", \"great\", \"post\", \"ad\", \"tech\", \"trigid\", \"narrator\", \"carter\", \"aircraft\", \"servicing\", \"technician\", \"brexittrump\", \"businesss\", \"transmission\", \"supernovae\", \"unheeding\", \"digital_life_app\", \"glorify\", \"liberalism\", \"undermined\", \"euro\", \"twitspain\", \"parentblogger\", \"privacyonline\", \"eupol\", \"criticized\", \"exploiter\", \"gaaaaahhhhh\", \"wrest\", \"overjoy\", \"staaaahp\", \"fellate\", \"respecting\", \"dbvn\", \"fightback\", \"good\", \"today\", \"great\", \"talk\", \"live\", \"follow\", \"watch\", \"start\", \"show\", \"year\", \"hear\", \"bad\", \"support\", \"love\", \"week\", \"set\", \"free\", \"end\", \"explain\", \"plan\", \"join\", \"meet\", \"team\", \"visit\", \"guy\", \"design\", \"hope\", \"deal\", \"zuckerberg\", \"cover\", \"time\", \"management\", \"speak\", \"call\", \"group\", \"read\", \"work\", \"world\", \"rig\", \"reference\", \"part\", \"earth\", \"deflection\", \"export\", \"representative\", \"boast\", \"convince\", \"expense\", \"bill\", \"poor\", \"potentially\", \"surround\", \"leader\", \"loud\", \"uncover\", \"drop\", \"electorate\", \"contribute\", \"state\", \"dollar\", \"police\", \"brexiteer\", \"owe\", \"basis\", \"false\", \"political\", \"supporter\", \"contempt\", \"story\", \"leave\", \"report\", \"lie\", \"tory\", \"medium\", \"important\", \"government\", \"campaign\", \"turn\", \"break\", \"trust\", \"link\", \"play\", \"true\", \"evidence\", \"continue\", \"firm\", \"number\", \"result\", \"hold\", \"hard\", \"clear\", \"huge\", \"brand\", \"ca\", \"spend\", \"country\", \"target\", \"top\", \"snp\", \"work\", \"run\", \"article\", \"happen\", \"back\", \"fact\", \"interesting\", \"lack\", \"thing\", \"village\", \"narrative\", \"muslim\", \"assault\", \"suspect\", \"bomb\", \"sigh\", \"repeatedly\", \"usual\", \"familiar\", \"ridiculous\", \"mind\", \"bully\", \"proof\", \"gullible\", \"duty\", \"disagree\", \"bankrupt\", \"finger\", \"surely\", \"general\", \"make\", \"progressive\", \"trump_supporter\", \"bitch\", \"productive\", \"greedy\", \"put\", \"people\", \"deletefacebook\", \"trump\", \"stop\", \"face\", \"vote\", \"election\", \"problem\", \"public\", \"understand\", \"move\", \"real\", \"democracy\", \"power\", \"feel\", \"reason\", \"man\", \"idea\", \"stuff\", \"remember\", \"word\", \"agree\", \"lot\", \"regulation\", \"person\", \"place\", \"child\", \"lose\", \"point\", \"care\", \"money\", \"life\", \"big\", \"world\", \"send\", \"adulteress\", \"prend\", \"datasecurity_cybersecurity\", \"ehr\", \"overambitious\", \"sensable\", \"isolated\", \"smarterplanet\", \"analytics_firm\", \"eyerolle\", \"contrition\", \"written_testimony\", \"julia_hartley_brewer\", \"crazygirl\", \"every_lawmaker\", \"bridesmaid\", \"datastream\", \"disintereste\", \"colorado\", \"statute\", \"publicidad\", \"give_consent\", \"shoppingonline\", \"giving\", \"received\", \"todays_hearing\", \"wkend\", \"pottage\", \"nest\", \"political_ads\", \"datum\", \"privacy\", \"user\", \"company\", \"question\", \"data\", \"scandal\", \"information\", \"platform\", \"pay\", \"access\", \"issue\", \"answer\", \"sell\", \"service\", \"online\", \"collect\", \"gdpr\", \"protect\", \"control\", \"case\", \"law\", \"advertising\", \"claim\", \"rule\", \"provide\", \"product\", \"term\", \"reveal\", \"site\", \"give\", \"app\", \"include\", \"facebook\", \"change\", \"enhanced\", \"bigquery\", \"flickr\", \"inspiring\", \"cable\", \"healthit\", \"growthhacking\", \"leverage\", \"cybersafety\", \"infographic\", \"nytime\", \"deeplearning_iot\", \"dataviz\", \"overcome\", \"digital_markete\", \"cost\", \"telecom\", \"genetic\", \"aviation\", \"enhance\", \"token\", \"cloud_innovation\", \"classification\", \"pim\", \"datamine\", \"industry\", \"landscape\", \"sustainable\", \"autonomouscar\", \"governor\", \"bigdata\", \"ai\", \"late\", \"business\", \"technology\", \"tech\", \"analytic\", \"video\", \"marketing\", \"future\", \"internet\", \"learn\", \"tool\", \"digital\", \"cybersecurity\", \"build\", \"job\", \"iot\", \"datascience\", \"daily\", \"market\", \"impact\", \"system\", \"strategy\", \"machinelearne\", \"human\", \"innovation\", \"grow\", \"research\", \"security\", \"create\", \"open\", \"typeform\", \"prev\", \"beltane\", \"rtebia\", \"cambridge_analytica_reportedly_planned\", \"strategic_partner_manag\", \"makingread\", \"retargette\", \"fink\", \"jetson\", \"belonged\", \"bankcrupte\", \"heh\", \"primani\", \"stay_updated\", \"rockmusic\", \"looky\", \"greenhouse\", \"batterylife\", \"mondaymadness\", \"communuication\", \"whetherspoon\", \"cybernew\", \"cssir\", \"legge\", \"scrabble\", \"cylchoedd\", \"membersay\", \"receiving\", \"algorithms_statistic\", \"delete\", \"page\", \"find\", \"share\", \"account\", \"post\", \"ad\", \"day\", \"friend\", \"check\", \"twitter\", \"event\", \"content\", \"update\", \"reach\", \"message\", \"info\", \"profile\", \"socialmedia\", \"write\", \"comment\", \"win\", \"full\", \"website\", \"feature\", \"social\", \"head\", \"photo\", \"email\", \"sign\", \"facebook\", \"news\", \"add\", \"change\", \"read\"], \"Freq\": [20289.0, 14297.0, 10839.0, 6053.0, 6102.0, 4679.0, 4248.0, 3634.0, 3138.0, 3046.0, 3068.0, 2971.0, 2854.0, 2839.0, 3191.0, 2724.0, 2715.0, 2674.0, 2627.0, 2459.0, 2423.0, 2364.0, 2221.0, 2058.0, 2064.0, 3162.0, 1957.0, 1919.0, 1887.0, 1832.0, 1.1965817931943368, 3.58974537958301, 3.58974537958301, 8.376072552360357, 3.58974537958301, 3.58974537958301, 1.1965817931943368, 1.1965817931943368, 4.786327172777347, 1.1965817931943368, 1.1965817931943368, 5.982908965971684, 8.376072552360357, 10.76923613874903, 3.58974537958301, 11.965817931943368, 1.1965817931943368, 1.1965817931943368, 1.1965817931943368, 5.982908965971684, 1.1965817931943368, 1.1965817931943368, 1.1965817931943368, 1.1965817931943368, 1.1965817931943368, 1.1965817931943368, 1.1965817931943368, 1.1965817931943368, 1.1965817931943368, 7.17949075916602, 3046.4972454727813, 2627.6936178547635, 1956.4112318727405, 1804.44534413706, 1794.872689791505, 2357.2661325928434, 1749.4025816501205, 1712.308546061096, 1663.248692540128, 1553.1631675662493, 1191.7954660215594, 1066.1543777361542, 1050.5988144246276, 1023.077433181158, 1056.5817233905993, 928.5474715188053, 1231.2826651969724, 880.6841997910318, 849.5730731679791, 845.9833277883961, 765.8123476443756, 753.8465297124321, 855.5559821339508, 621.0259506678608, 606.6669691495288, 588.7182422516137, 576.7524243196702, 554.0173702489778, 513.3335892803705, 503.76093493481574, 3007.0100462973683, 717.949075916602, 732.3080574349341, 1145.1287760869802, 938.12012586436, 1143.9321942937859, 1218.1202654718347, 780.1713291627076, 140.01263796318761, 111.29209684253375, 920.2540050742846, 107.70202920245202, 41.88412246762023, 41.88412246762023, 89.75169100204336, 53.85101460122601, 87.35831257532219, 41.88412246762023, 83.76824493524046, 270.4517622194906, 135.2258811097453, 111.29209684253375, 533.7233891588178, 53.85101460122601, 58.637771454668325, 294.3855464867022, 51.457636174504856, 89.75169100204336, 537.3134567988996, 93.34175864212509, 294.3855464867022, 89.75169100204336, 41.88412246762023, 93.34175864212509, 120.86561054941838, 636.6386615078275, 140.01263796318761, 46.67087932106254, 1760.3298328534102, 1583.219829276045, 1382.1760414314676, 1317.5548239099965, 1182.328942800251, 1038.7262371969816, 1030.3494127034576, 968.1215736087076, 952.5646138350202, 942.9911001281355, 931.0242079945298, 859.222855192895, 840.0758277791258, 814.9453542985536, 721.6035956564285, 703.6532574560199, 679.7194731888084, 770.6678534042123, 641.4254183612699, 627.0651478009429, 848.4526522726499, 557.6571734260294, 544.4935920790631, 537.3134567988996, 526.5432538786544, 522.9531862385726, 588.7710929734044, 796.995016098145, 761.0943396973275, 763.4877181240488, 561.2472410661111, 1944.6199717109394, 850.846030699371, 764.6844073374093, 975.3017088888711, 794.6016376714238, 688.0962976823323, 787.4215023912603, 277.6365187381873, 2221.0921499054984, 32.311146577289044, 65.81900228707028, 34.70456484227341, 34.70456484227341, 138.81825936909365, 69.40912968454683, 34.70456484227341, 69.40912968454683, 131.63800457414055, 64.62229315457809, 129.24458630915618, 463.1264342744763, 65.81900228707028, 132.83471370663273, 32.311146577289044, 69.40912968454683, 65.81900228707028, 32.311146577289044, 65.81900228707028, 263.2760091482811, 131.63800457414055, 4679.13270804445, 32.311146577289044, 34.70456484227341, 69.40912968454683, 32.311146577289044, 32.311146577289044, 1073.4480918454915, 6092.446193517723, 1615.5573288644523, 3044.428033060123, 1286.462317429101, 1243.380788659382, 1144.0539306625308, 1130.8901302051167, 1081.825055772937, 916.6791954890151, 914.2857772240308, 867.6141210568354, 861.6305753943745, 953.777178596273, 910.6956498265542, 780.2543543849058, 745.5497895426324, 733.5826982177106, 686.9110420505152, 655.7966046057185, 619.8953306309528, 618.6986214984606, 722.8123160252808, 1044.727072665679, 697.681424242945, 563.65000140382, 549.2894918139137, 548.0927826814217, 647.4196406782731, 852.056902334437, 673.7472415931012, 811.3687918297028, 728.7958616877418, 1092.5954379653667, 1051.9073274606324, 733.5826982177106, 1.1844095572281494, 1.1844095572281494, 7.106457343368897, 9.475276457825196, 1.1844095572281494, 2.368819114456299, 7.106457343368897, 1.1844095572281494, 3.5532286716844483, 1.1844095572281494, 4.737638228912598, 1.1844095572281494, 1.1844095572281494, 1.1844095572281494, 1.1844095572281494, 1.1844095572281494, 3.5532286716844483, 3.5532286716844483, 1.1844095572281494, 3.5532286716844483, 1.1844095572281494, 4.737638228912598, 1.1844095572281494, 1.1844095572281494, 1.1844095572281494, 1.1844095572281494, 1.1844095572281494, 1.1844095572281494, 3.5532286716844483, 1.1844095572281494, 14297.00776530099, 6052.332837435843, 4248.4770817773715, 3138.685326654596, 2715.8511147241466, 2423.3019540887935, 1545.654472182735, 1428.397926017148, 1410.6317826587258, 1394.050048857532, 1401.1565062009006, 1232.9703490745035, 1222.3106630594502, 1214.019796158853, 1124.0046698095139, 978.3222942704514, 957.0029222403447, 951.0808744542039, 864.6189767765491, 838.5619665175299, 838.5619665175299, 1048.2024581469122, 790.0011746711756, 708.2769152224333, 671.5602189483608, 652.6096660327103, 628.9214748881474, 579.1762734845651, 574.4386352556523, 538.906348538808, 2220.76791980278, 827.9022805024764, 668.0069902766762, 1385.7591819569348, 761.5753452977, 8.146477375621826, 8.146477375621826, 8.146477375621826, 16.292954751243652, 24.43943212686548, 8.146477375621826, 8.146477375621826, 130.34363800994922, 8.146477375621826, 598.1841958670884, 8.146477375621826, 8.146477375621826, 130.34363800994922, 24.43943212686548, 65.17181900497461, 395.6860439587744, 48.87886425373096, 24.43943212686548, 16.292954751243652, 97.75772850746192, 66.3356014872063, 16.292954751243652, 29.094562055792238, 8.146477375621826, 96.59394602523022, 1071.843666135386, 122.19716063432739, 52.370211700426026, 16.292954751243652, 8.146477375621826, 10839.470039505955, 3634.4926920095663, 2854.758428914334, 2966.4815472085766, 2058.7312110678586, 1831.7936270326793, 1474.5124049875508, 1419.8146283226613, 1324.3844647796627, 1253.3937333635295, 1249.9023859168346, 1104.4295756378735, 1061.3696237953009, 1006.6718471304115, 963.6118952878389, 874.0006441559989, 851.8887769935968, 822.7942149378044, 803.0099127398657, 785.5531755063905, 708.743531679099, 684.3040995522334, 649.3906250852827, 640.0803652274292, 637.7528002629658, 604.0031082782469, 711.0710966435623, 579.5636761513814, 771.5877857196101, 1224.2991713077374, 1114.9036179779587, 830.9406923134263, 1.1900511752665037, 1.1900511752665037, 1.1900511752665037, 1.1900511752665037, 1.1900511752665037, 1.1900511752665037, 1.1900511752665037, 1.1900511752665037, 1.1900511752665037, 1.1900511752665037, 1.1900511752665037, 1.1900511752665037, 1.1900511752665037, 1.1900511752665037, 1.1900511752665037, 1.1900511752665037, 2.3801023505330074, 2.3801023505330074, 1.1900511752665037, 1.1900511752665037, 1.1900511752665037, 1.1900511752665037, 1.1900511752665037, 1.1900511752665037, 2.3801023505330074, 2.3801023505330074, 1.1900511752665037, 1.1900511752665037, 1.1900511752665037, 1.1900511752665037, 2674.0449908238343, 2722.837089009761, 2457.45567692533, 2832.3217971342788, 2064.7387890873842, 1919.5525457048707, 1887.421163972675, 1755.325483518093, 1706.5333853321665, 1727.9543064869633, 1501.8445831863278, 962.7514007906016, 941.3304796358045, 900.8687396767433, 808.0447480059561, 906.8189955530759, 790.1939803769585, 773.5332639232274, 1055.575392461389, 749.7322404178974, 723.5511145620343, 699.7500910567043, 673.568965200841, 661.6684534481761, 660.4784022729096, 641.4375834686455, 636.6773787675795, 625.966918190181, 616.446508788049, 615.2564576127825, 18887.302202654682, 1779.1265070234233, 742.5919333662983, 1445.912177948802, 1480.4236620315307], \"Total\": [20289.0, 14297.0, 10839.0, 6053.0, 6102.0, 4679.0, 4248.0, 3634.0, 3138.0, 3046.0, 3068.0, 2971.0, 2854.0, 2839.0, 3191.0, 2724.0, 2715.0, 2674.0, 2627.0, 2459.0, 2423.0, 2364.0, 2221.0, 2058.0, 2064.0, 3162.0, 1957.0, 1919.0, 1887.0, 1832.0, 1.1965817931943368, 3.58974537958301, 3.58974537958301, 8.376072552360357, 3.58974537958301, 3.58974537958301, 1.1965817931943368, 1.1965817931943368, 4.786327172777347, 1.1965817931943368, 1.1965817931943368, 5.982908965971684, 8.376072552360357, 10.76923613874903, 3.58974537958301, 11.965817931943368, 1.1965817931943368, 1.1965817931943368, 1.1965817931943368, 5.982908965971684, 1.1965817931943368, 1.1965817931943368, 1.1965817931943368, 1.1965817931943368, 1.1965817931943368, 1.1965817931943368, 1.1965817931943368, 1.1965817931943368, 1.1965817931943368, 7.17949075916602, 3046.4972454727813, 2627.6936178547635, 1957.601283048007, 1804.44534413706, 1794.872689791505, 2364.372589936212, 1749.4025816501205, 1712.308546061096, 1663.248692540128, 1556.728675894066, 1191.7954660215594, 1066.1543777361542, 1050.5988144246276, 1023.077433181158, 1057.7784126039599, 928.5474715188053, 1234.8727328370542, 880.6841997910318, 849.5730731679791, 845.9833277883961, 765.8123476443756, 753.8465297124321, 857.9248012484071, 621.0259506678608, 606.6669691495288, 588.7182422516137, 576.7524243196702, 554.0173702489778, 513.3335892803705, 503.76093493481574, 3191.4679784636764, 727.5225896234866, 743.0784396273638, 1651.3283133385048, 1255.8637896605164, 2624.3558563253164, 3162.740237182774, 1832.07865662334, 140.01263796318761, 111.29209684253375, 920.2540050742846, 107.70202920245202, 41.88412246762023, 41.88412246762023, 89.75169100204336, 53.85101460122601, 87.35831257532219, 41.88412246762023, 83.76824493524046, 270.4517622194906, 135.2258811097453, 111.29209684253375, 533.7233891588178, 53.85101460122601, 58.637771454668325, 294.3855464867022, 51.457636174504856, 89.75169100204336, 537.3134567988996, 93.34175864212509, 294.3855464867022, 89.75169100204336, 41.88412246762023, 93.34175864212509, 120.86561054941838, 636.6386615078275, 140.01263796318761, 46.67087932106254, 1761.5265419859024, 1583.219829276045, 1382.1760414314676, 1317.5548239099965, 1182.328942800251, 1038.7262371969816, 1030.3494127034576, 968.1215736087076, 952.5646138350202, 942.9911001281355, 931.0242079945298, 859.222855192895, 840.0758277791258, 814.9453542985536, 721.6035956564285, 703.6532574560199, 679.7194731888084, 771.831635886444, 641.4254183612699, 627.0651478009429, 852.0423976522329, 557.6571734260294, 544.4935920790631, 537.3134567988996, 526.5432538786544, 522.9531862385726, 589.9555025306325, 817.3390713505122, 781.4381402710991, 784.9086392788458, 563.6273434166441, 3162.740237182774, 1034.1139116904126, 914.6308554209888, 1371.412431743785, 1044.2104973403084, 824.5211387864416, 1316.3106549831573, 277.6365187381873, 2221.0921499054984, 32.311146577289044, 65.81900228707028, 34.70456484227341, 34.70456484227341, 138.81825936909365, 69.40912968454683, 34.70456484227341, 69.40912968454683, 131.63800457414055, 64.62229315457809, 129.24458630915618, 463.1264342744763, 65.81900228707028, 132.83471370663273, 32.311146577289044, 69.40912968454683, 65.81900228707028, 32.311146577289044, 65.81900228707028, 263.2760091482811, 131.63800457414055, 4679.13270804445, 32.311146577289044, 34.70456484227341, 69.40912968454683, 32.311146577289044, 32.311146577289044, 1073.4480918454915, 6102.946504550843, 1615.5573288644523, 3068.2290565654534, 1286.462317429101, 1243.380788659382, 1144.0539306625308, 1130.8901302051167, 1081.825055772937, 916.6791954890151, 914.2857772240308, 867.6141210568354, 861.6305753943745, 954.9738678096336, 911.8857010018207, 780.2543543849058, 745.5497895426324, 733.5826982177106, 686.9110420505152, 655.7966046057185, 619.8953306309528, 618.6986214984606, 723.9967255825089, 1050.7101964719832, 698.8452067251767, 563.65000140382, 549.2894918139137, 548.0927826814217, 649.7800049536992, 865.2193020595747, 678.5092242939462, 928.6443347390394, 810.1634236249566, 1704.1036259926223, 1832.07865662334, 903.7600162808207, 1.1844095572281494, 1.1844095572281494, 7.106457343368897, 9.475276457825196, 1.1844095572281494, 2.368819114456299, 7.106457343368897, 1.1844095572281494, 3.5532286716844483, 1.1844095572281494, 4.737638228912598, 1.1844095572281494, 1.1844095572281494, 1.1844095572281494, 1.1844095572281494, 1.1844095572281494, 3.5532286716844483, 3.5532286716844483, 1.1844095572281494, 3.5532286716844483, 1.1844095572281494, 4.737638228912598, 1.1844095572281494, 1.1844095572281494, 1.1844095572281494, 1.1844095572281494, 1.1844095572281494, 1.1844095572281494, 3.5532286716844483, 1.1844095572281494, 14297.00776530099, 6053.529546568336, 4248.4770817773715, 3138.685326654596, 2715.8511147241466, 2423.3019540887935, 1545.654472182735, 1428.397926017148, 1410.6317826587258, 1394.050048857532, 1402.353195414261, 1232.9703490745035, 1222.3106630594502, 1214.019796158853, 1124.0046698095139, 978.3222942704514, 957.0029222403447, 951.0808744542039, 864.6189767765491, 838.5619665175299, 838.5619665175299, 1050.595621733301, 790.0011746711756, 708.2769152224333, 671.5602189483608, 652.6096660327103, 628.9214748881474, 579.1762734845651, 574.4386352556523, 538.906348538808, 2785.6007503556266, 1463.3896080947893, 891.7677856040171, 20289.815292547377, 2219.454415380108, 8.146477375621826, 8.146477375621826, 8.146477375621826, 16.292954751243652, 24.43943212686548, 8.146477375621826, 8.146477375621826, 130.34363800994922, 8.146477375621826, 598.1841958670884, 8.146477375621826, 8.146477375621826, 130.34363800994922, 24.43943212686548, 65.17181900497461, 395.6860439587744, 48.87886425373096, 24.43943212686548, 16.292954751243652, 97.75772850746192, 66.3356014872063, 16.292954751243652, 29.094562055792238, 8.146477375621826, 96.59394602523022, 1071.843666135386, 122.19716063432739, 52.370211700426026, 16.292954751243652, 8.146477375621826, 10839.470039505955, 3634.4926920095663, 2854.758428914334, 2971.2417519096425, 2058.7312110678586, 1832.9780365899073, 1474.5124049875508, 1419.8146283226613, 1324.3844647796627, 1253.3937333635295, 1249.9023859168346, 1104.4295756378735, 1061.3696237953009, 1006.6718471304115, 963.6118952878389, 874.0006441559989, 851.8887769935968, 822.7942149378044, 803.0099127398657, 785.5531755063905, 708.743531679099, 684.3040995522334, 649.3906250852827, 640.0803652274292, 637.7528002629658, 604.0031082782469, 712.2555062007905, 579.5636761513814, 775.1778533596919, 1249.4300630900734, 1195.858554367129, 1155.1726178788517, 1.1900511752665037, 1.1900511752665037, 1.1900511752665037, 1.1900511752665037, 1.1900511752665037, 1.1900511752665037, 1.1900511752665037, 1.1900511752665037, 1.1900511752665037, 1.1900511752665037, 1.1900511752665037, 1.1900511752665037, 1.1900511752665037, 1.1900511752665037, 1.1900511752665037, 1.1900511752665037, 2.3801023505330074, 2.3801023505330074, 1.1900511752665037, 1.1900511752665037, 1.1900511752665037, 1.1900511752665037, 1.1900511752665037, 1.1900511752665037, 2.3801023505330074, 2.3801023505330074, 1.1900511752665037, 1.1900511752665037, 1.1900511752665037, 1.1900511752665037, 2674.0449908238343, 2724.033798142253, 2459.8488405117187, 2839.501287893445, 2064.7387890873842, 1919.5525457048707, 1887.421163972675, 1755.325483518093, 1706.5333853321665, 1730.3476849136846, 1503.04129231882, 962.7514007906016, 941.3304796358045, 900.8687396767433, 808.0447480059561, 908.015704685568, 790.1939803769585, 773.5332639232274, 1059.1654999397338, 749.7322404178974, 723.5511145620343, 699.7500910567043, 673.568965200841, 661.6684534481761, 660.4784022729096, 641.4375834686455, 636.6773787675795, 625.966918190181, 616.446508788049, 615.2564576127825, 20289.815292547377, 1840.1521784763345, 756.9524429562045, 2219.454415380108, 2624.3558563253164], \"Category\": [\"Default\", \"Default\", \"Default\", \"Default\", \"Default\", \"Default\", \"Default\", \"Default\", \"Default\", \"Default\", \"Default\", \"Default\", \"Default\", \"Default\", \"Default\", \"Default\", \"Default\", \"Default\", \"Default\", \"Default\", \"Default\", \"Default\", \"Default\", \"Default\", \"Default\", \"Default\", \"Default\", \"Default\", \"Default\", \"Default\", \"Topic1\", \"Topic1\", \"Topic1\", \"Topic1\", \"Topic1\", \"Topic1\", \"Topic1\", \"Topic1\", \"Topic1\", \"Topic1\", \"Topic1\", \"Topic1\", \"Topic1\", \"Topic1\", \"Topic1\", \"Topic1\", \"Topic1\", \"Topic1\", \"Topic1\", \"Topic1\", \"Topic1\", \"Topic1\", \"Topic1\", \"Topic1\", \"Topic1\", \"Topic1\", \"Topic1\", \"Topic1\", \"Topic1\", \"Topic1\", \"Topic1\", \"Topic1\", \"Topic1\", \"Topic1\", \"Topic1\", \"Topic1\", \"Topic1\", \"Topic1\", \"Topic1\", \"Topic1\", \"Topic1\", \"Topic1\", \"Topic1\", \"Topic1\", \"Topic1\", \"Topic1\", \"Topic1\", \"Topic1\", \"Topic1\", \"Topic1\", \"Topic1\", \"Topic1\", \"Topic1\", \"Topic1\", \"Topic1\", \"Topic1\", \"Topic1\", \"Topic1\", \"Topic1\", \"Topic1\", \"Topic1\", \"Topic1\", \"Topic1\", \"Topic1\", \"Topic1\", \"Topic1\", \"Topic1\", \"Topic1\", \"Topic2\", \"Topic2\", \"Topic2\", \"Topic2\", \"Topic2\", \"Topic2\", \"Topic2\", \"Topic2\", \"Topic2\", \"Topic2\", \"Topic2\", \"Topic2\", \"Topic2\", \"Topic2\", \"Topic2\", \"Topic2\", \"Topic2\", \"Topic2\", \"Topic2\", \"Topic2\", \"Topic2\", \"Topic2\", \"Topic2\", \"Topic2\", \"Topic2\", \"Topic2\", \"Topic2\", \"Topic2\", \"Topic2\", \"Topic2\", \"Topic2\", \"Topic2\", \"Topic2\", \"Topic2\", \"Topic2\", \"Topic2\", \"Topic2\", \"Topic2\", \"Topic2\", \"Topic2\", \"Topic2\", \"Topic2\", \"Topic2\", \"Topic2\", \"Topic2\", \"Topic2\", \"Topic2\", \"Topic2\", \"Topic2\", \"Topic2\", \"Topic2\", \"Topic2\", \"Topic2\", \"Topic2\", \"Topic2\", \"Topic2\", \"Topic2\", \"Topic2\", \"Topic2\", \"Topic2\", \"Topic2\", \"Topic2\", \"Topic2\", \"Topic2\", \"Topic2\", \"Topic2\", \"Topic2\", \"Topic2\", \"Topic3\", \"Topic3\", \"Topic3\", \"Topic3\", \"Topic3\", \"Topic3\", \"Topic3\", \"Topic3\", \"Topic3\", \"Topic3\", \"Topic3\", \"Topic3\", \"Topic3\", \"Topic3\", \"Topic3\", \"Topic3\", \"Topic3\", \"Topic3\", \"Topic3\", \"Topic3\", \"Topic3\", \"Topic3\", \"Topic3\", \"Topic3\", \"Topic3\", \"Topic3\", \"Topic3\", \"Topic3\", \"Topic3\", \"Topic3\", \"Topic3\", \"Topic3\", \"Topic3\", \"Topic3\", \"Topic3\", \"Topic3\", \"Topic3\", \"Topic3\", \"Topic3\", \"Topic3\", \"Topic3\", \"Topic3\", \"Topic3\", \"Topic3\", \"Topic3\", \"Topic3\", \"Topic3\", \"Topic3\", \"Topic3\", \"Topic3\", \"Topic3\", \"Topic3\", \"Topic3\", \"Topic3\", \"Topic3\", \"Topic3\", \"Topic3\", \"Topic3\", \"Topic3\", \"Topic3\", \"Topic3\", \"Topic3\", \"Topic3\", \"Topic3\", \"Topic3\", \"Topic4\", \"Topic4\", \"Topic4\", \"Topic4\", \"Topic4\", \"Topic4\", \"Topic4\", \"Topic4\", \"Topic4\", \"Topic4\", \"Topic4\", \"Topic4\", \"Topic4\", \"Topic4\", \"Topic4\", \"Topic4\", \"Topic4\", \"Topic4\", \"Topic4\", \"Topic4\", \"Topic4\", \"Topic4\", \"Topic4\", \"Topic4\", \"Topic4\", \"Topic4\", \"Topic4\", \"Topic4\", \"Topic4\", \"Topic4\", \"Topic4\", \"Topic4\", \"Topic4\", \"Topic4\", \"Topic4\", \"Topic4\", \"Topic4\", \"Topic4\", \"Topic4\", \"Topic4\", \"Topic4\", \"Topic4\", \"Topic4\", \"Topic4\", \"Topic4\", \"Topic4\", \"Topic4\", \"Topic4\", \"Topic4\", \"Topic4\", \"Topic4\", \"Topic4\", \"Topic4\", \"Topic4\", \"Topic4\", \"Topic4\", \"Topic4\", \"Topic4\", \"Topic4\", \"Topic4\", \"Topic4\", \"Topic4\", \"Topic4\", \"Topic4\", \"Topic4\", \"Topic5\", \"Topic5\", \"Topic5\", \"Topic5\", \"Topic5\", \"Topic5\", \"Topic5\", \"Topic5\", \"Topic5\", \"Topic5\", \"Topic5\", \"Topic5\", \"Topic5\", \"Topic5\", \"Topic5\", \"Topic5\", \"Topic5\", \"Topic5\", \"Topic5\", \"Topic5\", \"Topic5\", \"Topic5\", \"Topic5\", \"Topic5\", \"Topic5\", \"Topic5\", \"Topic5\", \"Topic5\", \"Topic5\", \"Topic5\", \"Topic5\", \"Topic5\", \"Topic5\", \"Topic5\", \"Topic5\", \"Topic5\", \"Topic5\", \"Topic5\", \"Topic5\", \"Topic5\", \"Topic5\", \"Topic5\", \"Topic5\", \"Topic5\", \"Topic5\", \"Topic5\", \"Topic5\", \"Topic5\", \"Topic5\", \"Topic5\", \"Topic5\", \"Topic5\", \"Topic5\", \"Topic5\", \"Topic5\", \"Topic5\", \"Topic5\", \"Topic5\", \"Topic5\", \"Topic5\", \"Topic5\", \"Topic5\", \"Topic6\", \"Topic6\", \"Topic6\", \"Topic6\", \"Topic6\", \"Topic6\", \"Topic6\", \"Topic6\", \"Topic6\", \"Topic6\", \"Topic6\", \"Topic6\", \"Topic6\", \"Topic6\", \"Topic6\", \"Topic6\", \"Topic6\", \"Topic6\", \"Topic6\", \"Topic6\", \"Topic6\", \"Topic6\", \"Topic6\", \"Topic6\", \"Topic6\", \"Topic6\", \"Topic6\", \"Topic6\", \"Topic6\", \"Topic6\", \"Topic6\", \"Topic6\", \"Topic6\", \"Topic6\", \"Topic6\", \"Topic6\", \"Topic6\", \"Topic6\", \"Topic6\", \"Topic6\", \"Topic6\", \"Topic6\", \"Topic6\", \"Topic6\", \"Topic6\", \"Topic6\", \"Topic6\", \"Topic6\", \"Topic6\", \"Topic6\", \"Topic6\", \"Topic6\", \"Topic6\", \"Topic6\", \"Topic6\", \"Topic6\", \"Topic6\", \"Topic6\", \"Topic6\", \"Topic6\", \"Topic6\", \"Topic6\", \"Topic6\", \"Topic6\", \"Topic6\"], \"logprob\": [30.0, 29.0, 28.0, 27.0, 26.0, 25.0, 24.0, 23.0, 22.0, 21.0, 20.0, 19.0, 18.0, 17.0, 16.0, 15.0, 14.0, 13.0, 12.0, 11.0, 10.0, 9.0, 8.0, 7.0, 6.0, 5.0, 4.0, 3.0, 2.0, 1.0, -11.6255, -10.5269, -10.5269, -9.6796, -10.5269, -10.5269, -11.6255, -11.6255, -10.2392, -11.6255, -11.6255, -10.0161, -9.6796, -9.4283, -10.5269, -9.3229, -11.6255, -11.6255, -11.6255, -10.0161, -11.6255, -11.6255, -11.6255, -11.6255, -11.6255, -11.6255, -11.6255, -11.6255, -11.6255, -9.8338, -3.7833, -3.9311, -4.2261, -4.307, -4.3123, -4.0397, -4.338, -4.3594, -4.3885, -4.457, -4.7218, -4.8332, -4.8479, -4.8744, -4.8422, -4.9714, -4.6892, -5.0243, -5.0603, -5.0645, -5.1641, -5.1798, -5.0532, -5.3736, -5.397, -5.4271, -5.4476, -5.4878, -5.5641, -5.5829, -3.7963, -5.2286, -5.2088, -4.7617, -4.9611, -4.7628, -4.6999, -5.1455, -6.8711, -7.1006, -4.9882, -7.1334, -8.0779, -8.0779, -7.3158, -7.8266, -7.3428, -8.0779, -7.3848, -6.2127, -6.9059, -7.1006, -5.5329, -7.8266, -7.7414, -6.1279, -7.872, -7.3158, -5.5262, -7.2765, -6.1279, -7.3158, -8.0779, -7.2765, -7.0181, -5.3566, -6.8711, -7.9697, -4.3395, -4.4456, -4.5814, -4.6293, -4.7376, -4.8671, -4.8752, -4.9374, -4.9536, -4.9637, -4.9765, -5.0568, -5.0793, -5.1097, -5.2313, -5.2565, -5.2911, -5.1655, -5.3491, -5.3718, -5.0694, -5.4891, -5.513, -5.5262, -5.5465, -5.5533, -5.4348, -5.132, -5.178, -5.1749, -5.4826, -4.24, -5.0666, -5.1733, -4.9301, -5.135, -5.2789, -5.144, -6.189, -4.1096, -8.3399, -7.6284, -8.2685, -8.2685, -6.8822, -7.5753, -8.2685, -7.5753, -6.9353, -7.6468, -6.9536, -5.6773, -7.6284, -6.9262, -8.3399, -7.5753, -7.6284, -8.3399, -7.6284, -6.2421, -6.9353, -3.3645, -8.3399, -8.2685, -7.5753, -8.3399, -8.3399, -4.8367, -3.1005, -4.4279, -3.7943, -4.6557, -4.6897, -4.773, -4.7846, -4.8289, -4.9946, -4.9972, -5.0496, -5.0565, -4.9549, -5.0011, -5.1557, -5.2012, -5.2174, -5.2831, -5.3295, -5.3858, -5.3877, -5.2322, -4.8638, -5.2676, -5.4809, -5.5067, -5.5089, -5.3423, -5.0677, -5.3025, -5.1166, -5.2239, -4.819, -4.857, -5.2174, -11.6427, -11.6427, -9.851, -9.5633, -11.6427, -10.9496, -9.851, -11.6427, -10.5441, -11.6427, -10.2564, -11.6427, -11.6427, -11.6427, -11.6427, -11.6427, -10.5441, -10.5441, -11.6427, -10.5441, -11.6427, -10.2564, -11.6427, -11.6427, -11.6427, -11.6427, -11.6427, -11.6427, -10.5441, -11.6427, -2.2442, -3.1038, -3.4577, -3.7604, -3.9051, -4.0191, -4.4688, -4.5477, -4.5602, -4.572, -4.5669, -4.6948, -4.7035, -4.7103, -4.7873, -4.9261, -4.9482, -4.9544, -5.0497, -5.0803, -5.0803, -4.8572, -5.14, -5.2492, -5.3024, -5.331, -5.368, -5.4504, -5.4586, -5.5224, -4.1064, -5.0931, -5.3077, -4.578, -5.1766, -9.7031, -9.7031, -9.7031, -9.0099, -8.6045, -9.7031, -9.7031, -6.9305, -9.7031, -5.4068, -9.7031, -9.7031, -6.9305, -8.6045, -7.6237, -5.8201, -7.9113, -8.6045, -9.0099, -7.2182, -7.606, -9.0099, -8.4301, -9.7031, -7.2302, -4.8235, -6.995, -7.8423, -9.0099, -9.7031, -2.5097, -3.6025, -3.8439, -3.8055, -4.1708, -4.2876, -4.5046, -4.5424, -4.612, -4.6671, -4.6699, -4.7936, -4.8334, -4.8863, -4.93, -5.0276, -5.0532, -5.088, -5.1123, -5.1343, -5.2372, -5.2723, -5.3246, -5.3391, -5.3427, -5.3971, -5.2339, -5.4384, -5.1522, -4.6906, -4.7842, -5.0781, -11.632, -11.632, -11.632, -11.632, -11.632, -11.632, -11.632, -11.632, -11.632, -11.632, -11.632, -11.632, -11.632, -11.632, -11.632, -11.632, -10.9388, -10.9388, -11.632, -11.632, -11.632, -11.632, -11.632, -11.632, -10.9388, -10.9388, -11.632, -11.632, -11.632, -11.632, -3.9146, -3.8966, -3.9991, -3.8571, -4.1732, -4.2461, -4.263, -4.3356, -4.3638, -4.3513, -4.4915, -4.9362, -4.9587, -5.0026, -5.1114, -4.996, -5.1337, -5.155, -4.8441, -5.1863, -5.2218, -5.2553, -5.2934, -5.3112, -5.313, -5.3423, -5.3497, -5.3667, -5.382, -5.3839, -1.9597, -4.3221, -5.1958, -4.5295, -4.5059], \"loglift\": [30.0, 29.0, 28.0, 27.0, 26.0, 25.0, 24.0, 23.0, 22.0, 21.0, 20.0, 19.0, 18.0, 17.0, 16.0, 15.0, 14.0, 13.0, 12.0, 11.0, 10.0, 9.0, 8.0, 7.0, 6.0, 5.0, 4.0, 3.0, 2.0, 1.0, 1.7954, 1.7954, 1.7954, 1.7954, 1.7954, 1.7954, 1.7954, 1.7954, 1.7954, 1.7954, 1.7954, 1.7954, 1.7954, 1.7954, 1.7954, 1.7954, 1.7954, 1.7954, 1.7954, 1.7954, 1.7954, 1.7954, 1.7954, 1.7954, 1.7954, 1.7954, 1.7954, 1.7954, 1.7954, 1.7954, 1.7954, 1.7954, 1.7948, 1.7954, 1.7954, 1.7924, 1.7954, 1.7954, 1.7954, 1.7931, 1.7954, 1.7954, 1.7954, 1.7954, 1.7943, 1.7954, 1.7925, 1.7954, 1.7954, 1.7954, 1.7954, 1.7954, 1.7926, 1.7954, 1.7954, 1.7954, 1.7954, 1.7954, 1.7954, 1.7954, 1.7359, 1.7822, 1.7808, 1.4293, 1.5037, 0.965, 0.8413, 0.9417, 1.7876, 1.7876, 1.7876, 1.7876, 1.7876, 1.7876, 1.7876, 1.7876, 1.7876, 1.7876, 1.7876, 1.7876, 1.7876, 1.7876, 1.7876, 1.7876, 1.7876, 1.7876, 1.7876, 1.7876, 1.7876, 1.7876, 1.7876, 1.7876, 1.7876, 1.7876, 1.7876, 1.7876, 1.7876, 1.7876, 1.7869, 1.7876, 1.7876, 1.7876, 1.7876, 1.7876, 1.7876, 1.7876, 1.7876, 1.7876, 1.7876, 1.7876, 1.7876, 1.7876, 1.7876, 1.7876, 1.7876, 1.7861, 1.7876, 1.7876, 1.7834, 1.7876, 1.7876, 1.7876, 1.7876, 1.7876, 1.7856, 1.7624, 1.7612, 1.7599, 1.7834, 1.3012, 1.5925, 1.6085, 1.4467, 1.5144, 1.6067, 1.2738, 1.7851, 1.7851, 1.7851, 1.7851, 1.7851, 1.7851, 1.7851, 1.7851, 1.7851, 1.7851, 1.7851, 1.7851, 1.7851, 1.7851, 1.7851, 1.7851, 1.7851, 1.7851, 1.7851, 1.7851, 1.7851, 1.7851, 1.7851, 1.7851, 1.7851, 1.7851, 1.7851, 1.7851, 1.7851, 1.7851, 1.7833, 1.7851, 1.7773, 1.7851, 1.7851, 1.7851, 1.7851, 1.7851, 1.7851, 1.7851, 1.7851, 1.7851, 1.7838, 1.7838, 1.7851, 1.7851, 1.7851, 1.7851, 1.7851, 1.7851, 1.7851, 1.7834, 1.7794, 1.7834, 1.7851, 1.7851, 1.7851, 1.7814, 1.7697, 1.778, 1.6501, 1.6792, 1.3406, 1.2302, 1.5764, 1.7884, 1.7884, 1.7884, 1.7884, 1.7884, 1.7884, 1.7884, 1.7884, 1.7884, 1.7884, 1.7884, 1.7884, 1.7884, 1.7884, 1.7884, 1.7884, 1.7884, 1.7884, 1.7884, 1.7884, 1.7884, 1.7884, 1.7884, 1.7884, 1.7884, 1.7884, 1.7884, 1.7884, 1.7884, 1.7884, 1.7884, 1.7882, 1.7884, 1.7884, 1.7884, 1.7884, 1.7884, 1.7884, 1.7884, 1.7884, 1.7876, 1.7884, 1.7884, 1.7884, 1.7884, 1.7884, 1.7884, 1.7884, 1.7884, 1.7884, 1.7884, 1.7861, 1.7884, 1.7884, 1.7884, 1.7884, 1.7884, 1.7884, 1.7884, 1.7884, 1.5618, 1.2188, 1.4995, -0.8955, 0.7188, 1.7997, 1.7997, 1.7997, 1.7997, 1.7997, 1.7997, 1.7997, 1.7997, 1.7997, 1.7997, 1.7997, 1.7997, 1.7997, 1.7997, 1.7997, 1.7997, 1.7997, 1.7997, 1.7997, 1.7997, 1.7997, 1.7997, 1.7997, 1.7997, 1.7997, 1.7997, 1.7997, 1.7997, 1.7997, 1.7997, 1.7997, 1.7997, 1.7997, 1.7981, 1.7997, 1.7991, 1.7997, 1.7997, 1.7997, 1.7997, 1.7997, 1.7997, 1.7997, 1.7997, 1.7997, 1.7997, 1.7997, 1.7997, 1.7997, 1.7997, 1.7997, 1.7997, 1.7997, 1.7997, 1.7997, 1.7997, 1.7981, 1.7997, 1.7951, 1.7794, 1.7296, 1.4703, 1.7944, 1.7944, 1.7944, 1.7944, 1.7944, 1.7944, 1.7944, 1.7944, 1.7944, 1.7944, 1.7944, 1.7944, 1.7944, 1.7944, 1.7944, 1.7944, 1.7944, 1.7944, 1.7944, 1.7944, 1.7944, 1.7944, 1.7944, 1.7944, 1.7944, 1.7944, 1.7944, 1.7944, 1.7944, 1.7944, 1.7944, 1.794, 1.7934, 1.7919, 1.7944, 1.7944, 1.7944, 1.7944, 1.7944, 1.793, 1.7936, 1.7944, 1.7944, 1.7944, 1.7944, 1.7931, 1.7944, 1.7944, 1.791, 1.7944, 1.7944, 1.7944, 1.7944, 1.7944, 1.7944, 1.7944, 1.7944, 1.7944, 1.7944, 1.7944, 1.7228, 1.7607, 1.7753, 1.3659, 1.2219]}, \"token.table\": {\"Topic\": [2, 4, 6, 6, 3, 6, 4, 4, 3, 4, 5, 1, 6, 5, 4, 4, 4, 6, 2, 6, 3, 5, 5, 1, 2, 6, 1, 6, 3, 2, 6, 6, 6, 2, 3, 5, 5, 2, 3, 2, 3, 2, 2, 2, 1, 4, 5, 3, 5, 6, 1, 2, 5, 1, 2, 6, 2, 1, 3, 4, 1, 4, 2, 4, 6, 2, 6, 3, 4, 5, 2, 5, 4, 4, 6, 6, 4, 2, 6, 2, 2, 4, 4, 2, 5, 2, 3, 1, 4, 1, 4, 5, 6, 1, 6, 6, 5, 5, 6, 5, 4, 5, 5, 4, 4, 5, 4, 6, 1, 1, 5, 2, 6, 3, 2, 3, 1, 5, 1, 5, 3, 4, 2, 2, 3, 2, 4, 3, 2, 6, 1, 5, 5, 1, 1, 6, 4, 2, 2, 1, 1, 2, 4, 3, 2, 3, 4, 6, 2, 3, 2, 3, 6, 3, 1, 1, 1, 6, 3, 6, 2, 5, 5, 1, 4, 1, 2, 6, 6, 5, 1, 4, 3, 5, 1, 3, 4, 4, 4, 1, 1, 2, 5, 1, 6, 3, 6, 1, 6, 5, 5, 3, 1, 2, 3, 2, 6, 5, 1, 6, 1, 2, 1, 2, 5, 3, 5, 2, 1, 4, 5, 6, 5, 4, 4, 5, 5, 1, 2, 5, 5, 4, 4, 6, 5, 1, 4, 3, 5, 5, 1, 4, 2, 5, 2, 6, 5, 1, 2, 1, 3, 2, 1, 6, 1, 3, 5, 1, 2, 3, 2, 1, 5, 3, 6, 3, 1, 2, 5, 5, 2, 1, 6, 3, 6, 3, 6, 2, 3, 3, 3, 3, 1, 4, 1, 6, 2, 5, 4, 1, 2, 4, 5, 4, 5, 1, 2, 3, 6, 1, 2, 4, 3, 5, 6, 3, 6, 5, 3, 1, 4, 2, 1, 3, 2, 2, 4, 2, 6, 2, 4, 3, 6, 4, 6, 6, 3, 4, 1, 3, 4, 3, 6, 3, 3, 4, 4, 3, 4, 3, 4, 6, 1, 6, 3, 3, 4, 6, 2, 3, 5, 3, 3, 2, 2, 2, 5, 1, 2, 6, 4, 3, 2, 6, 6, 4, 2, 6, 4, 6, 3, 5, 4, 3, 6, 4, 4, 1, 1, 1, 6, 4, 1, 3, 6, 4, 4, 2, 6, 6, 2, 3, 6, 1, 3, 2, 4, 1, 1, 2, 4, 6, 3, 2, 3, 6, 5, 3, 1, 1, 2, 3, 2, 3, 5, 5, 1, 1, 2, 3, 1, 4, 4, 5, 1, 5, 5, 4, 3, 1, 6, 1, 4, 5, 5, 2, 6, 2, 1, 1, 2, 3, 6, 3, 2, 2, 1, 3, 6, 6, 2, 1, 3, 1, 6, 4, 3, 5, 3, 1, 3, 1, 6, 1, 2, 6, 6, 4, 3, 1, 2, 1, 3, 1, 6, 4, 1, 2, 4, 1], \"Freq\": [0.0007130871190439266, 0.9990350537805411, 1.0001265103915304, 0.9997768574493525, 0.018495217408010935, 0.9815676095822947, 0.8443025420533421, 0.9999985130766722, 0.9986233009801156, 0.0013812217164316952, 0.9998644399504092, 0.9551015646044779, 0.8402999978350149, 1.000330682204368, 1.1257367227377895, 0.9997458395244032, 0.565809675987782, 0.43392408726116133, 0.836403009439129, 0.16400059008610374, 1.0085128616096843, 0.9820195442928306, 0.9820195442928306, 0.15609879465411874, 0.761340746932665, 0.08331653456998976, 0.9998552013297718, 0.8402999978350149, 0.9903703021944834, 0.9963386307790129, 0.8402999978350149, 0.8402999978350149, 0.8402999978350149, 0.35913308948187733, 0.6413929196138757, 0.9999566363019371, 0.9820195442928306, 1.002766621945329, 0.9941055350152602, 1.002766621945329, 0.9941055350152602, 1.0008674427370992, 0.9999739985337418, 1.002766621945329, 0.8357138690289182, 0.8443025420533421, 0.9999992629799495, 1.0027499309719146, 0.998235837960249, 0.0016827981084967109, 0.8357138690289182, 1.0000895180728588, 0.9820195442928306, 0.6933811954602435, 0.30641998681474514, 0.8402999978350149, 1.0004570673302957, 0.0029476386294986505, 0.9933542181410452, 0.0029476386294986505, 1.1142851587052243, 1.0005223626875057, 0.005406734158108337, 0.3433276190398794, 0.6515114660520547, 0.0011558370710333667, 0.9986432293728288, 0.9998307171990702, 0.9996090297220172, 0.996749837457223, 0.9990934841360054, 0.9820195442928306, 0.9999969464666442, 0.8443025420533421, 1.0006203921588006, 0.8402999978350149, 1.0001002564171475, 1.0070519493895398, 0.9996489228353337, 1.0004127096872415, 1.002766621945329, 1.0553781775666777, 1.0005223626875057, 0.995898357411457, 1.0007934473454876, 0.9751155033896699, 0.02446964876762032, 1.0004745605476837, 0.8443025420533421, 0.010034631567569148, 0.005853535081082003, 0.9323845164866333, 0.0518455964324406, 0.8357138690289182, 0.8402999978350149, 0.8402999978350149, 0.9820195442928306, 1.0004027603997614, 0.8402999978350149, 1.000568802351695, 0.9998753955988505, 1.0042037207452288, 0.9999876555199276, 0.9850196323955659, 1.1257367227377895, 0.9973635996724061, 0.9999994568583078, 0.9998145736952211, 0.8357138690289182, 0.9999686467430253, 0.9820195442928306, 1.002766621945329, 0.9999831749936936, 1.0002740052164283, 0.0010471490725642997, 0.998980215226342, 1.000478595239904, 1.000325977994243, 1.0028566428347017, 0.9973635996724061, 1.0027499309719146, 1.1257367227377895, 0.9963386307790129, 0.9986903348642505, 0.9941055350152602, 1.002766621945329, 0.9498403598100099, 1.0000971533767504, 0.9911065449459647, 0.9992756731010988, 1.0003585850740175, 1.002478284798931, 0.9820195442928306, 1.0028566428347017, 1.0028566428347017, 1.0002582174476136, 0.8443025420533421, 1.0004927747300336, 1.002766621945329, 1.0005025192599724, 0.8357138690289182, 1.002766621945329, 0.8443025420533421, 0.9996937473516921, 4.928581091456799e-05, 0.0007885729746330879, 0.06831013392759124, 0.9308611107434456, 0.8344237250395082, 0.1649442247171121, 1.0011118915460795, 1.0058448381662723, 0.9992756731010987, 0.9996740109382583, 0.8357138690289182, 0.9749995138670713, 0.0008130580900182236, 0.9988418635873877, 1.0027499309719146, 0.8402999978350149, 0.9989225164559511, 0.001295619346894878, 0.9820195442928306, 0.9968817985931688, 0.002960616287718363, 0.9968638607574104, 0.0032392001974245665, 1.0002734283851955, 1.0006399267505302, 0.9996858661783214, 0.8357138690289182, 0.9999149657443692, 1.0027499309719146, 0.9820195442928306, 0.0466685687040411, 0.15580122167349106, 0.7973145468590407, 1.0553781775666777, 0.8443025420533421, 0.9551015646044779, 0.9998367812498369, 0.9998744232005341, 0.9820195442928306, 0.9991820177776377, 0.000510829252442555, 0.9903703021944834, 0.8402999978350149, 0.7468962858253593, 0.25321217365934356, 1.0007528488526334, 0.9820195442928306, 0.9903703021944834, 1.00054895167762, 0.7109458667807635, 0.2887533982001871, 1.0006147622415835, 1.000506726394214, 0.9820195442928306, 1.000171618355894, 0.8402999978350149, 0.004694602065603581, 0.995255637907959, 1.0004292581528753, 0.9994166220947321, 0.9999948538704448, 1.0001295043230332, 0.9995556075837739, 0.9996608794073646, 0.2511864676164312, 0.7490739302132858, 1.0001458550995386, 0.9997545154964785, 0.9996920750023804, 0.9997214179537088, 0.0014039905501525068, 0.9982372811584322, 0.9820195442928306, 0.4018808158981048, 0.5978831797954792, 1.0000780973652545, 1.000250105139851, 0.9850196323955659, 1.000024048368656, 0.8402999978350149, 1.0001305604785589, 1.0002450369939864, 0.8443025420533421, 1.0013091983124722, 0.998386536697711, 1.0000846205000111, 0.0019036820243933114, 0.9975293807820952, 1.0005182662907433, 0.9996110429787926, 0.9998611505035624, 0.8402999978350149, 0.9973635996724061, 1.0214280621464558, 1.0003378805055583, 0.09997982831362277, 0.8998184548226049, 0.9999097369825218, 1.0000709299379387, 0.8402999978350149, 0.0015389824130880362, 0.9957216212679594, 0.0015389824130880362, 0.0038069488746097445, 0.0019034744373048723, 0.9945653934917957, 1.002766621945329, 0.999924313469688, 1.000387610586629, 0.9999716383242943, 0.8402999978350149, 1.0005688544499527, 0.9869109361560652, 0.01374527766234074, 1.0003618633672655, 0.9997097030432724, 1.0002635562607498, 1.0002035829330227, 0.8402999978350149, 0.0011013025378743694, 0.998881401852053, 0.999726998363472, 0.8402999978350149, 0.125990107970538, 0.8733160475564642, 1.0004447587168066, 1.0085128616096843, 1.0027499309719146, 1.1142851587052243, 1.1257367227377895, 0.03314943226625346, 0.9667678688797525, 0.9993367609871827, 0.9820195442928306, 0.9996705643198168, 0.09089550632943745, 0.18438802712543026, 0.005194028933110712, 0.7193730072358335, 0.8443025420533421, 0.9820195442928306, 0.8357138690289182, 1.002766621945329, 0.0003671026404598885, 0.9996204899722764, 0.8357138690289182, 0.9997239837339648, 0.9999640982347995, 0.9982063574467381, 0.0014746975077184247, 0.00016385527863538052, 1.0006209502267511, 1.0000528491344474, 0.9820195442928306, 0.9994729704131827, 1.0000197074942925, 1.0002610300900638, 1.000067054436421, 0.015025092446567823, 0.9847214434212143, 0.9986903348642505, 1.0005675723357998, 0.8443025420533421, 0.9983296014942437, 1.0002331034365954, 0.9983296014942437, 0.8443025420533421, 0.9990287148917373, 0.001096628666181929, 0.8443025420533421, 0.8402999978350149, 0.8402999978350149, 0.00016519288331001648, 0.9997473297922197, 0.8357138690289182, 1.0001617121235356, 1.0001248567825842, 0.9903703021944834, 1.000603382037387, 0.9903703021944834, 1.0012443004449296, 1.000440683391974, 1.0005981124516017, 1.000349963774201, 0.8443025420533421, 0.9995825677562842, 1.0000548208534137, 0.9999446218714168, 0.4359164925147976, 0.5639479098967661, 1.0004287505761462, 1.0006038637039167, 0.8443025420533421, 0.8402999978350149, 0.9973754035477735, 0.9987905666132599, 0.0014309320438585385, 1.0001688500685117, 0.9941055350152602, 0.9998726345804075, 1.002766621945329, 0.005160106139079739, 0.9959004848423897, 0.8357138690289182, 0.9998961068061726, 0.8402999978350149, 0.9992364105950897, 0.9981075701803779, 0.999909736982522, 0.8402999978350149, 0.8402999978350149, 1.0006548646558129, 0.8229267495385632, 0.17696309655177092, 1.0002235479038062, 0.8402999978350149, 0.020009123150254878, 0.9796466694364788, 0.9999836937100073, 0.8121625063925466, 0.18810303281571242, 0.8443025420533421, 0.9999958453824621, 1.1142851587052243, 1.0004873509379704, 0.0024652216323497868, 0.9973582375449423, 0.8443025420533421, 0.9998504778381949, 1.0085128616096843, 0.9995831695716327, 1.000173780586267, 0.8443025420533421, 0.9953385096600931, 0.003548443884706214, 0.9993178081859825, 0.0009441395136613681, 0.0018882790273227362, 0.9970113264264047, 0.9850911572230256, 0.014803282417285905, 0.9983803820346893, 0.001695043093437503, 0.8357138690289182, 0.9998198069724025, 0.9994166220947321, 1.1257367227377895, 0.8402999978350149, 0.9996406288603735, 0.9991333982488952, 0.0005676894308232359, 0.8402999978350149, 0.9998744450981548, 1.000310150117968, 0.8357138690289182, 1.0003818637236823, 0.999909736982522, 0.998951635778839, 0.9973754035477735, 1.0013091983124722, 0.9929308725627509, 0.9993984744001633, 0.9997531961062124, 0.0025593836503886966, 0.9738454789728991, 0.02303445285349827, 0.9977564452669905, 0.002331206647820071, 0.0005455602740665737, 0.9994664220899631, 1.1142851587052243, 1.000130560478559, 1.002478284798931, 0.9996956479527304, 0.999958511444245, 0.9421996461476401, 0.057653719617946714, 1.000116597362476, 0.8443025420533421, 0.9949408540861572, 0.9996517482816409, 0.9720876568526817, 0.02675470615190867, 0.9997217840244425, 1.0446423362861477, 0.8357138690289182, 1.0005493380935981, 0.9921032438847395, 0.007822101791469693, 1.0085128616096843, 0.9997406316748347, 1.0000094379171376, 0.8357138690289182, 0.0006653177162267099, 0.9993072097725182, 0.8402999978350149, 1.0061773927682724, 1.1142851587052243, 0.9996874311827332, 0.8357138690289182, 1.0001457041603017, 0.9998877052251458, 1.0027499309719146, 1.0001305604785589, 0.9903703021944834, 0.9999582132311333, 0.9999528600347541, 0.9997698747822009, 1.0005010765589564, 0.9992641061731978, 0.0009453775838913886, 0.8402999978350149, 1.0003571402797795, 0.8443025420533421, 1.0004871168143377, 0.38510908536862304, 0.6149730468324892, 0.4257459128079136, 0.5742111541973398, 0.8357138690289182, 1.0003571402797795, 0.8443025420533421, 0.9976048004049745, 0.0006423726982646326, 0.0012847453965292653, 0.9993501510765386], \"Term\": [\"access\", \"access\", \"account\", \"ad\", \"add\", \"add\", \"adulteress\", \"advertising\", \"agree\", \"agree\", \"ai\", \"aircraft\", \"algorithms_statistic\", \"analytic\", \"analytics_firm\", \"answer\", \"app\", \"app\", \"article\", \"article\", \"assault\", \"autonomouscar\", \"aviation\", \"back\", \"back\", \"back\", \"bad\", \"bankcrupte\", \"bankrupt\", \"basis\", \"batterylife\", \"belonged\", \"beltane\", \"big\", \"big\", \"bigdata\", \"bigquery\", \"bill\", \"bitch\", \"boast\", \"bomb\", \"brand\", \"break\", \"brexiteer\", \"brexittrump\", \"bridesmaid\", \"build\", \"bully\", \"business\", \"business\", \"businesss\", \"ca\", \"cable\", \"call\", \"call\", \"cambridge_analytica_reportedly_planned\", \"campaign\", \"care\", \"care\", \"care\", \"carter\", \"case\", \"change\", \"change\", \"change\", \"check\", \"check\", \"child\", \"claim\", \"classification\", \"clear\", \"cloud_innovation\", \"collect\", \"colorado\", \"comment\", \"communuication\", \"company\", \"contempt\", \"content\", \"continue\", \"contribute\", \"contrition\", \"control\", \"convince\", \"cost\", \"country\", \"country\", \"cover\", \"crazygirl\", \"create\", \"create\", \"create\", \"create\", \"criticized\", \"cssir\", \"cybernew\", \"cybersafety\", \"cybersecurity\", \"cylchoedd\", \"daily\", \"data\", \"datamine\", \"datascience\", \"datasecurity_cybersecurity\", \"datastream\", \"dataviz\", \"datum\", \"day\", \"dbvn\", \"deal\", \"deeplearning_iot\", \"deflection\", \"delete\", \"deletefacebook\", \"democracy\", \"democracy\", \"design\", \"digital\", \"digital_life_app\", \"digital_markete\", \"disagree\", \"disintereste\", \"dollar\", \"drop\", \"duty\", \"earth\", \"ehr\", \"election\", \"electorate\", \"email\", \"end\", \"enhance\", \"enhanced\", \"eupol\", \"euro\", \"event\", \"every_lawmaker\", \"evidence\", \"expense\", \"explain\", \"exploiter\", \"export\", \"eyerolle\", \"face\", \"facebook\", \"facebook\", \"facebook\", \"facebook\", \"fact\", \"fact\", \"false\", \"familiar\", \"feature\", \"feel\", \"fellate\", \"fightback\", \"find\", \"find\", \"finger\", \"fink\", \"firm\", \"firm\", \"flickr\", \"follow\", \"follow\", \"free\", \"free\", \"friend\", \"full\", \"future\", \"gaaaaahhhhh\", \"gdpr\", \"general\", \"genetic\", \"give\", \"give\", \"give\", \"give_consent\", \"giving\", \"glorify\", \"good\", \"government\", \"governor\", \"great\", \"great\", \"greedy\", \"greenhouse\", \"group\", \"group\", \"grow\", \"growthhacking\", \"gullible\", \"guy\", \"happen\", \"happen\", \"hard\", \"head\", \"healthit\", \"hear\", \"heh\", \"hold\", \"hold\", \"hope\", \"huge\", \"human\", \"idea\", \"impact\", \"important\", \"include\", \"include\", \"industry\", \"info\", \"infographic\", \"information\", \"innovation\", \"innovation\", \"inspiring\", \"interesting\", \"interesting\", \"internet\", \"iot\", \"isolated\", \"issue\", \"jetson\", \"job\", \"join\", \"julia_hartley_brewer\", \"lack\", \"landscape\", \"late\", \"law\", \"law\", \"leader\", \"learn\", \"leave\", \"legge\", \"leverage\", \"liberalism\", \"lie\", \"life\", \"life\", \"link\", \"live\", \"looky\", \"lose\", \"lose\", \"lose\", \"lot\", \"lot\", \"lot\", \"loud\", \"love\", \"machinelearne\", \"make\", \"makingread\", \"man\", \"management\", \"management\", \"market\", \"marketing\", \"medium\", \"meet\", \"membersay\", \"message\", \"message\", \"mind\", \"mondaymadness\", \"money\", \"money\", \"move\", \"muslim\", \"narrative\", \"narrator\", \"nest\", \"news\", \"news\", \"number\", \"nytime\", \"online\", \"open\", \"open\", \"open\", \"open\", \"overambitious\", \"overcome\", \"overjoy\", \"owe\", \"page\", \"page\", \"parentblogger\", \"part\", \"pay\", \"people\", \"people\", \"people\", \"person\", \"photo\", \"pim\", \"place\", \"plan\", \"platform\", \"play\", \"point\", \"point\", \"police\", \"political\", \"political_ads\", \"poor\", \"post\", \"potentially\", \"pottage\", \"power\", \"power\", \"prend\", \"prev\", \"primani\", \"privacy\", \"privacy\", \"privacyonline\", \"problem\", \"product\", \"productive\", \"profile\", \"progressive\", \"proof\", \"protect\", \"provide\", \"public\", \"publicidad\", \"put\", \"question\", \"reach\", \"read\", \"read\", \"real\", \"reason\", \"received\", \"receiving\", \"reference\", \"regulation\", \"regulation\", \"remember\", \"repeatedly\", \"report\", \"representative\", \"research\", \"research\", \"respecting\", \"result\", \"retargette\", \"reveal\", \"ridiculous\", \"rig\", \"rockmusic\", \"rtebia\", \"rule\", \"run\", \"run\", \"scandal\", \"scrabble\", \"security\", \"security\", \"sell\", \"send\", \"send\", \"sensable\", \"service\", \"servicing\", \"set\", \"share\", \"share\", \"shoppingonline\", \"show\", \"sigh\", \"sign\", \"site\", \"smarterplanet\", \"snp\", \"snp\", \"social\", \"socialmedia\", \"socialmedia\", \"socialmedia\", \"speak\", \"speak\", \"spend\", \"spend\", \"staaaahp\", \"start\", \"state\", \"statute\", \"stay_updated\", \"stop\", \"story\", \"story\", \"strategic_partner_manag\", \"strategy\", \"stuff\", \"supernovae\", \"support\", \"supporter\", \"surely\", \"surround\", \"suspect\", \"sustainable\", \"system\", \"talk\", \"target\", \"target\", \"target\", \"team\", \"team\", \"tech\", \"tech\", \"technician\", \"technology\", \"telecom\", \"term\", \"thing\", \"time\", \"time\", \"today\", \"todays_hearing\", \"token\", \"tool\", \"top\", \"top\", \"tory\", \"transmission\", \"trigid\", \"true\", \"trump\", \"trump\", \"trump_supporter\", \"trust\", \"turn\", \"twitspain\", \"twitter\", \"twitter\", \"typeform\", \"uncover\", \"undermined\", \"understand\", \"unheeding\", \"update\", \"user\", \"usual\", \"video\", \"village\", \"visit\", \"vote\", \"watch\", \"website\", \"week\", \"week\", \"whetherspoon\", \"win\", \"wkend\", \"word\", \"work\", \"work\", \"world\", \"world\", \"wrest\", \"write\", \"written_testimony\", \"year\", \"year\", \"year\", \"zuckerberg\"]}, \"R\": 30, \"lambda.step\": 0.01, \"plot.opts\": {\"xlab\": \"PC1\", \"ylab\": \"PC2\"}, \"topic.order\": [1, 2, 3, 4, 5, 6]};\n",
       "\n",
       "function LDAvis_load_lib(url, callback){\n",
       "  var s = document.createElement('script');\n",
       "  s.src = url;\n",
       "  s.async = true;\n",
       "  s.onreadystatechange = s.onload = callback;\n",
       "  s.onerror = function(){console.warn(\"failed to load library \" + url);};\n",
       "  document.getElementsByTagName(\"head\")[0].appendChild(s);\n",
       "}\n",
       "\n",
       "if(typeof(LDAvis) !== \"undefined\"){\n",
       "   // already loaded: just create the visualization\n",
       "   !function(LDAvis){\n",
       "       new LDAvis(\"#\" + \"ldavis_el1762022798506137767437792666\", ldavis_el1762022798506137767437792666_data);\n",
       "   }(LDAvis);\n",
       "}else if(typeof define === \"function\" && define.amd){\n",
       "   // require.js is available: use it to load d3/LDAvis\n",
       "   require.config({paths: {d3: \"https://cdnjs.cloudflare.com/ajax/libs/d3/3.5.5/d3.min\"}});\n",
       "   require([\"d3\"], function(d3){\n",
       "      window.d3 = d3;\n",
       "      LDAvis_load_lib(\"https://cdn.rawgit.com/bmabey/pyLDAvis/files/ldavis.v1.0.0.js\", function(){\n",
       "        new LDAvis(\"#\" + \"ldavis_el1762022798506137767437792666\", ldavis_el1762022798506137767437792666_data);\n",
       "      });\n",
       "    });\n",
       "}else{\n",
       "    // require.js not available: dynamically load d3 & LDAvis\n",
       "    LDAvis_load_lib(\"https://cdnjs.cloudflare.com/ajax/libs/d3/3.5.5/d3.min.js\", function(){\n",
       "         LDAvis_load_lib(\"https://cdn.rawgit.com/bmabey/pyLDAvis/files/ldavis.v1.0.0.js\", function(){\n",
       "                 new LDAvis(\"#\" + \"ldavis_el1762022798506137767437792666\", ldavis_el1762022798506137767437792666_data);\n",
       "            })\n",
       "         });\n",
       "}\n",
       "</script>"
      ],
      "text/plain": [
       "<IPython.core.display.HTML object>"
      ]
     },
     "execution_count": 114,
     "metadata": {},
     "output_type": "execute_result"
    }
   ],
   "source": [
    "pyLDAvis.display(vis)"
   ]
  },
  {
   "cell_type": "markdown",
   "metadata": {},
   "source": [
    "# Visualize results using topicVisExplorer"
   ]
  },
  {
   "cell_type": "code",
   "execution_count": 115,
   "metadata": {},
   "outputs": [],
   "source": [
    "lda_model = gensim.models.wrappers.ldamallet.malletmodel2ldamodel(ldamallet)"
   ]
  },
  {
   "cell_type": "code",
   "execution_count": 116,
   "metadata": {},
   "outputs": [
    {
     "data": {
      "text/html": [
       "<div>\n",
       "<style scoped>\n",
       "    .dataframe tbody tr th:only-of-type {\n",
       "        vertical-align: middle;\n",
       "    }\n",
       "\n",
       "    .dataframe tbody tr th {\n",
       "        vertical-align: top;\n",
       "    }\n",
       "\n",
       "    .dataframe thead th {\n",
       "        text-align: right;\n",
       "    }\n",
       "</style>\n",
       "<table border=\"1\" class=\"dataframe\">\n",
       "  <thead>\n",
       "    <tr style=\"text-align: right;\">\n",
       "      <th></th>\n",
       "      <th>0</th>\n",
       "      <th>1</th>\n",
       "      <th>2</th>\n",
       "      <th>3</th>\n",
       "      <th>4</th>\n",
       "      <th>5</th>\n",
       "    </tr>\n",
       "  </thead>\n",
       "  <tbody>\n",
       "    <tr>\n",
       "      <th>0</th>\n",
       "      <td>0.175531</td>\n",
       "      <td>0.152022</td>\n",
       "      <td>0.137256</td>\n",
       "      <td>0.216722</td>\n",
       "      <td>0.150508</td>\n",
       "      <td>0.167962</td>\n",
       "    </tr>\n",
       "    <tr>\n",
       "      <th>1</th>\n",
       "      <td>0.175133</td>\n",
       "      <td>0.141271</td>\n",
       "      <td>0.242835</td>\n",
       "      <td>0.141243</td>\n",
       "      <td>0.141243</td>\n",
       "      <td>0.158275</td>\n",
       "    </tr>\n",
       "    <tr>\n",
       "      <th>2</th>\n",
       "      <td>0.163399</td>\n",
       "      <td>0.163399</td>\n",
       "      <td>0.183007</td>\n",
       "      <td>0.163399</td>\n",
       "      <td>0.163399</td>\n",
       "      <td>0.163399</td>\n",
       "    </tr>\n",
       "    <tr>\n",
       "      <th>3</th>\n",
       "      <td>0.176404</td>\n",
       "      <td>0.157247</td>\n",
       "      <td>0.170917</td>\n",
       "      <td>0.154393</td>\n",
       "      <td>0.186718</td>\n",
       "      <td>0.154321</td>\n",
       "    </tr>\n",
       "    <tr>\n",
       "      <th>4</th>\n",
       "      <td>0.157233</td>\n",
       "      <td>0.213825</td>\n",
       "      <td>0.157233</td>\n",
       "      <td>0.157233</td>\n",
       "      <td>0.157244</td>\n",
       "      <td>0.157233</td>\n",
       "    </tr>\n",
       "  </tbody>\n",
       "</table>\n",
       "</div>"
      ],
      "text/plain": [
       "          0         1         2         3         4         5\n",
       "0  0.175531  0.152022  0.137256  0.216722  0.150508  0.167962\n",
       "1  0.175133  0.141271  0.242835  0.141243  0.141243  0.158275\n",
       "2  0.163399  0.163399  0.183007  0.163399  0.163399  0.163399\n",
       "3  0.176404  0.157247  0.170917  0.154393  0.186718  0.154321\n",
       "4  0.157233  0.213825  0.157233  0.157233  0.157244  0.157233"
      ]
     },
     "execution_count": 116,
     "metadata": {},
     "output_type": "execute_result"
    }
   ],
   "source": [
    "#with this code we get the full matrix of topic-documents contribution\n",
    "matrix_documents_topic_contribution, _ = lda_model.inference(corpus)\n",
    "matrix_documents_topic_contribution /= matrix_documents_topic_contribution.sum(axis=1)[:, None]\n",
    "matrix_documents_topic_contribution = pd.DataFrame(matrix_documents_topic_contribution)\n",
    "matrix_documents_topic_contribution.head()"
   ]
  },
  {
   "cell_type": "code",
   "execution_count": 117,
   "metadata": {},
   "outputs": [],
   "source": [
    "contents = pd.Series(df['texto_completo']).reset_index(drop=True)"
   ]
  },
  {
   "cell_type": "code",
   "execution_count": 118,
   "metadata": {},
   "outputs": [],
   "source": [
    "matrix_documents_topic_contribution = pd.concat([matrix_documents_topic_contribution, contents], axis=1)\n"
   ]
  },
  {
   "cell_type": "code",
   "execution_count": 119,
   "metadata": {},
   "outputs": [
    {
     "data": {
      "text/html": [
       "<div>\n",
       "<style scoped>\n",
       "    .dataframe tbody tr th:only-of-type {\n",
       "        vertical-align: middle;\n",
       "    }\n",
       "\n",
       "    .dataframe tbody tr th {\n",
       "        vertical-align: top;\n",
       "    }\n",
       "\n",
       "    .dataframe thead th {\n",
       "        text-align: right;\n",
       "    }\n",
       "</style>\n",
       "<table border=\"1\" class=\"dataframe\">\n",
       "  <thead>\n",
       "    <tr style=\"text-align: right;\">\n",
       "      <th></th>\n",
       "      <th>0</th>\n",
       "      <th>1</th>\n",
       "      <th>2</th>\n",
       "      <th>3</th>\n",
       "      <th>4</th>\n",
       "      <th>5</th>\n",
       "      <th>texto_completo</th>\n",
       "    </tr>\n",
       "  </thead>\n",
       "  <tbody>\n",
       "    <tr>\n",
       "      <th>0</th>\n",
       "      <td>0.175531</td>\n",
       "      <td>0.152022</td>\n",
       "      <td>0.137256</td>\n",
       "      <td>0.216722</td>\n",
       "      <td>0.150508</td>\n",
       "      <td>0.167962</td>\n",
       "      <td>meet our newest product: the transparent camhatch webcam cover! we've combined everything you loved about the matte black version with the transparency of mark zuckerberg. protect your privacy without having to change the appearance of your laptop, tablet or smartphone.  &lt;linkremoved&gt;</td>\n",
       "    </tr>\n",
       "    <tr>\n",
       "      <th>1</th>\n",
       "      <td>0.175133</td>\n",
       "      <td>0.141271</td>\n",
       "      <td>0.242835</td>\n",
       "      <td>0.141243</td>\n",
       "      <td>0.141243</td>\n",
       "      <td>0.158275</td>\n",
       "      <td>&lt;usernameremoved&gt; this week has been the most #triggered i've seen lefties since trump won (sadly, we have #maybot &amp;amp; amber dudd  on other side) friends! &lt;linkremoved&gt;</td>\n",
       "    </tr>\n",
       "    <tr>\n",
       "      <th>2</th>\n",
       "      <td>0.163399</td>\n",
       "      <td>0.163399</td>\n",
       "      <td>0.183007</td>\n",
       "      <td>0.163399</td>\n",
       "      <td>0.163399</td>\n",
       "      <td>0.163399</td>\n",
       "      <td>pulitzer prize for this lady. investigative journalism at it's finest. &lt;linkremoved&gt;</td>\n",
       "    </tr>\n",
       "    <tr>\n",
       "      <th>3</th>\n",
       "      <td>0.176404</td>\n",
       "      <td>0.157247</td>\n",
       "      <td>0.170917</td>\n",
       "      <td>0.154393</td>\n",
       "      <td>0.186718</td>\n",
       "      <td>0.154321</td>\n",
       "      <td>theres no more secrecy, confident and privacy and no protection of personal data. our lives are traded on the open market! &lt;linkremoved&gt;</td>\n",
       "    </tr>\n",
       "    <tr>\n",
       "      <th>4</th>\n",
       "      <td>0.157233</td>\n",
       "      <td>0.213825</td>\n",
       "      <td>0.157233</td>\n",
       "      <td>0.157233</td>\n",
       "      <td>0.157244</td>\n",
       "      <td>0.157233</td>\n",
       "      <td>aggregateiq: the obscure canadian tech firm and the brexit data riddle &lt;linkremoved&gt;</td>\n",
       "    </tr>\n",
       "  </tbody>\n",
       "</table>\n",
       "</div>"
      ],
      "text/plain": [
       "          0         1         2         3         4         5  \\\n",
       "0  0.175531  0.152022  0.137256  0.216722  0.150508  0.167962   \n",
       "1  0.175133  0.141271  0.242835  0.141243  0.141243  0.158275   \n",
       "2  0.163399  0.163399  0.183007  0.163399  0.163399  0.163399   \n",
       "3  0.176404  0.157247  0.170917  0.154393  0.186718  0.154321   \n",
       "4  0.157233  0.213825  0.157233  0.157233  0.157244  0.157233   \n",
       "\n",
       "                                                                                                                                                                                                                                                                                  texto_completo  \n",
       "0  meet our newest product: the transparent camhatch webcam cover! we've combined everything you loved about the matte black version with the transparency of mark zuckerberg. protect your privacy without having to change the appearance of your laptop, tablet or smartphone.  <linkremoved>  \n",
       "1  <usernameremoved> this week has been the most #triggered i've seen lefties since trump won (sadly, we have #maybot &amp; amber dudd  on other side) friends! <linkremoved>                                                                                                                     \n",
       "2  pulitzer prize for this lady. investigative journalism at it's finest. <linkremoved>                                                                                                                                                                                                           \n",
       "3  theres no more secrecy, confident and privacy and no protection of personal data. our lives are traded on the open market! <linkremoved>                                                                                                                                                       \n",
       "4  aggregateiq: the obscure canadian tech firm and the brexit data riddle <linkremoved>                                                                                                                                                                                                           "
      ]
     },
     "execution_count": 119,
     "metadata": {},
     "output_type": "execute_result"
    }
   ],
   "source": [
    "matrix_documents_topic_contribution.head()"
   ]
  },
  {
   "cell_type": "markdown",
   "metadata": {},
   "source": [
    "### topic similarity metric  "
   ]
  },
  {
   "cell_type": "code",
   "execution_count": 120,
   "metadata": {},
   "outputs": [],
   "source": [
    "# Choose the # top keywords and # top documents a considerar en la metrica\n",
    "\n",
    "topn_terms = 20\n",
    "topk_documents = 20\n",
    "relevance_lambda = 0.6 \n",
    "\n",
    "ruta_word_embedding = '../data/embedding_english_europe_northamerica_word2vec_300dimensions_cbow_trim3_epoch50.model'\n",
    "word_embedding_model = gensim.models.Word2Vec.load(ruta_word_embedding)"
   ]
  },
  {
   "cell_type": "code",
   "execution_count": 121,
   "metadata": {},
   "outputs": [],
   "source": [
    "import sys\n",
    "sys.path.insert(0,'..')\n"
   ]
  },
  {
   "cell_type": "code",
   "execution_count": 124,
   "metadata": {},
   "outputs": [],
   "source": [
    "import topicvisexplorer\n",
    "import importlib\n",
    "warnings.filterwarnings('ignore')\n",
    "importlib.reload(topicvisexplorer)\n",
    "\n",
    "vis = topicvisexplorer.TopicVisExplorer(\"borrar_nombre\")\n"
   ]
  },
  {
   "cell_type": "code",
   "execution_count": null,
   "metadata": {},
   "outputs": [],
   "source": [
    "#preparing the visualization\n",
    "vis.prepare_single_corpus( lda_model, corpus, id2word, matrix_documents_topic_contribution, topic_similarity_matrix)\n"
   ]
  },
  {
   "cell_type": "code",
   "execution_count": 125,
   "metadata": {},
   "outputs": [
    {
     "name": "stdout",
     "output_type": "stream",
     "text": [
      "we are calculating a new topic similarity matirx\n",
      "Using Prepared Data script - sort_topics False\n",
      "Calculating for different omegas\n"
     ]
    }
   ],
   "source": [
    "#calculating topic similarity matrix\n",
    "topic_similarity_matrix = vis.calculate_topic_similarity_on_single_corpus(word_embedding_model, lda_model, corpus, id2word, matrix_documents_topic_contribution,topn_terms, topk_documents, relevance_lambda)\n"
   ]
  },
  {
   "cell_type": "code",
   "execution_count": 126,
   "metadata": {},
   "outputs": [],
   "source": [
    "#preparing the visualization\n",
    "vis.prepare_single_corpus( lda_model, corpus, id2word, matrix_documents_topic_contribution, topic_similarity_matrix)\n"
   ]
  },
  {
   "cell_type": "code",
   "execution_count": 127,
   "metadata": {},
   "outputs": [
    {
     "name": "stdout",
     "output_type": "stream",
     "text": [
      "Single corpus data saved sucessfully\n"
     ]
    }
   ],
   "source": [
    "#save data\n",
    "#For scenario1: ../models_output/single_corpus_airlines_dataset.pkl\n",
    "\n",
    "\n",
    "vis.save_single_corpus_data(\"../models_output/single_corpus_europe_dataset_topics_\"+str(lda_model.num_topics)+\".pkl\")"
   ]
  },
  {
   "cell_type": "code",
   "execution_count": null,
   "metadata": {},
   "outputs": [],
   "source": []
  },
  {
   "cell_type": "code",
   "execution_count": null,
   "metadata": {},
   "outputs": [],
   "source": []
  }
 ],
 "metadata": {
  "kernelspec": {
   "display_name": "Python 3",
   "language": "python",
   "name": "python3"
  },
  "language_info": {
   "codemirror_mode": {
    "name": "ipython",
    "version": 3
   },
   "file_extension": ".py",
   "mimetype": "text/x-python",
   "name": "python",
   "nbconvert_exporter": "python",
   "pygments_lexer": "ipython3",
   "version": "3.9.1"
  }
 },
 "nbformat": 4,
 "nbformat_minor": 2
}
