{
 "cells": [
  {
   "cell_type": "code",
   "execution_count": 3,
   "metadata": {},
   "outputs": [
    {
     "name": "stderr",
     "output_type": "stream",
     "text": [
      "c:\\users\\gonza\\tesisenv\\lib\\site-packages\\ipykernel\\ipkernel.py:283: DeprecationWarning: `should_run_async` will not call `transform_cell` automatically in the future. Please pass the result to `transformed_cell` argument and any exception that happen during thetransform in `preprocessing_exc_tuple` in IPython 7.17 and above.\n",
      "  and should_run_async(code)\n"
     ]
    }
   ],
   "source": [
    "import topicvisexplorer\n",
    "from ipywidgets import Play\n",
    "from ipywidgets import interact, interactive, fixed, interact_manual\n",
    "import matplotlib.pyplot as plt\n",
    "import seaborn as sns\n",
    "import textwrap\n",
    "from ipywidgets import FloatSlider\n",
    "import json"
   ]
  },
  {
   "cell_type": "code",
   "execution_count": 4,
   "metadata": {},
   "outputs": [
    {
     "name": "stderr",
     "output_type": "stream",
     "text": [
      "c:\\users\\gonza\\tesisenv\\lib\\site-packages\\ipykernel\\ipkernel.py:283: DeprecationWarning: `should_run_async` will not call `transform_cell` automatically in the future. Please pass the result to `transformed_cell` argument and any exception that happen during thetransform in `preprocessing_exc_tuple` in IPython 7.17 and above.\n",
      "  and should_run_async(code)\n"
     ]
    }
   ],
   "source": [
    "vis = topicvisexplorer.TopicVisExplorer(\"name\")\n",
    "\n",
    "\n"
   ]
  },
  {
   "cell_type": "code",
   "execution_count": 5,
   "metadata": {},
   "outputs": [
    {
     "name": "stderr",
     "output_type": "stream",
     "text": [
      "c:\\users\\gonza\\tesisenv\\lib\\site-packages\\ipykernel\\ipkernel.py:283: DeprecationWarning: `should_run_async` will not call `transform_cell` automatically in the future. Please pass the result to `transformed_cell` argument and any exception that happen during thetransform in `preprocessing_exc_tuple` in IPython 7.17 and above.\n",
      "  and should_run_async(code)\n"
     ]
    },
    {
     "name": "stdout",
     "output_type": "stream",
     "text": [
      "Data loaded sucessfully\n"
     ]
    }
   ],
   "source": [
    "vis.load_single_corpus_data(\"models_output/single_corpus_europe_cambridge_analytica_lda_mallet_gensim_new_prepared_data_enero_11.pkl\")"
   ]
  },
  {
   "cell_type": "code",
   "execution_count": null,
   "metadata": {},
   "outputs": [
    {
     "name": "stdout",
     "output_type": "stream",
     "text": [
      " * Serving Flask app \"name\" (lazy loading)\n",
      " * Environment: production\n",
      "   WARNING: This is a development server. Do not use it in a production deployment.\n",
      "   Use a production WSGI server instead.\n",
      " * Debug mode: off\n"
     ]
    },
    {
     "name": "stderr",
     "output_type": "stream",
     "text": [
      "c:\\users\\gonza\\tesisenv\\lib\\site-packages\\ipykernel\\ipkernel.py:283: DeprecationWarning: `should_run_async` will not call `transform_cell` automatically in the future. Please pass the result to `transformed_cell` argument and any exception that happen during thetransform in `preprocessing_exc_tuple` in IPython 7.17 and above.\n",
      "  and should_run_async(code)\n",
      " * Running on http://127.0.0.1:5000/ (Press CTRL+C to quit)\n",
      "127.0.0.1 - - [11/Jan/2021 11:24:41] \"\u001b[37mGET /singlecorpus HTTP/1.1\u001b[0m\" 200 -\n",
      "127.0.0.1 - - [11/Jan/2021 11:24:44] \"\u001b[37mGET /singlecorpus HTTP/1.1\u001b[0m\" 200 -\n",
      "127.0.0.1 - - [11/Jan/2021 11:24:50] \"\u001b[37mGET /SingleCorpus_documents HTTP/1.1\u001b[0m\" 200 -\n"
     ]
    },
    {
     "name": "stdout",
     "output_type": "stream",
     "text": [
      "extrayendo todos los documentos\n"
     ]
    },
    {
     "name": "stderr",
     "output_type": "stream",
     "text": [
      "127.0.0.1 - - [11/Jan/2021 11:24:51] \"\u001b[33mGET /favicon.ico HTTP/1.1\u001b[0m\" 404 -\n",
      "127.0.0.1 - - [11/Jan/2021 11:28:11] \"\u001b[37mGET /singlecorpus HTTP/1.1\u001b[0m\" 200 -\n",
      "127.0.0.1 - - [11/Jan/2021 11:28:14] \"\u001b[37mGET /singlecorpus HTTP/1.1\u001b[0m\" 200 -\n",
      "127.0.0.1 - - [11/Jan/2021 11:28:15] \"\u001b[37mGET /singlecorpus HTTP/1.1\u001b[0m\" 200 -\n",
      "127.0.0.1 - - [11/Jan/2021 11:28:24] \"\u001b[37mGET /SingleCorpus_documents HTTP/1.1\u001b[0m\" 200 -\n"
     ]
    },
    {
     "name": "stdout",
     "output_type": "stream",
     "text": [
      "extrayendo todos los documentos\n"
     ]
    },
    {
     "name": "stderr",
     "output_type": "stream",
     "text": [
      "127.0.0.1 - - [11/Jan/2021 11:28:28] \"\u001b[33mGET /favicon.ico HTTP/1.1\u001b[0m\" 404 -\n",
      "127.0.0.1 - - [11/Jan/2021 11:54:45] \"\u001b[37mGET /singlecorpus HTTP/1.1\u001b[0m\" 200 -\n",
      "127.0.0.1 - - [11/Jan/2021 11:54:45] \"\u001b[37mGET /static/js/popper.min.js HTTP/1.1\u001b[0m\" 200 -\n",
      "127.0.0.1 - - [11/Jan/2021 11:54:45] \"\u001b[37mGET /static/js/jquery.min.js HTTP/1.1\u001b[0m\" 200 -\n",
      "127.0.0.1 - - [11/Jan/2021 11:54:45] \"\u001b[37mGET /static/js/bootstrap.min.js HTTP/1.1\u001b[0m\" 200 -\n",
      "127.0.0.1 - - [11/Jan/2021 11:54:45] \"\u001b[37mGET /static/fontawesome/css/fontawesome.css HTTP/1.1\u001b[0m\" 200 -\n",
      "127.0.0.1 - - [11/Jan/2021 11:54:45] \"\u001b[37mGET /static/fontawesome/css/brands.css HTTP/1.1\u001b[0m\" 200 -\n",
      "127.0.0.1 - - [11/Jan/2021 11:54:46] \"\u001b[37mGET /static/fontawesome/css/solid.css HTTP/1.1\u001b[0m\" 200 -\n",
      "127.0.0.1 - - [11/Jan/2021 11:54:46] \"\u001b[37mGET /static/css/bootstrap-table.min.css HTTP/1.1\u001b[0m\" 200 -\n",
      "127.0.0.1 - - [11/Jan/2021 11:54:46] \"\u001b[37mGET /static/css/bootstrap.min.css HTTP/1.1\u001b[0m\" 200 -\n",
      "127.0.0.1 - - [11/Jan/2021 11:54:46] \"\u001b[37mGET /static/css/LDAvis.css HTTP/1.1\u001b[0m\" 200 -\n",
      "127.0.0.1 - - [11/Jan/2021 11:54:46] \"\u001b[37mGET /static/css/nouislider.css HTTP/1.1\u001b[0m\" 200 -\n",
      "127.0.0.1 - - [11/Jan/2021 11:54:46] \"\u001b[37mGET /static/js/d3.v5.min.js HTTP/1.1\u001b[0m\" 200 -\n",
      "127.0.0.1 - - [11/Jan/2021 11:54:46] \"\u001b[37mGET /static/js/sankey.js HTTP/1.1\u001b[0m\" 200 -\n",
      "127.0.0.1 - - [11/Jan/2021 11:54:46] \"\u001b[37mGET /static/js/FileSaver.js HTTP/1.1\u001b[0m\" 200 -\n",
      "127.0.0.1 - - [11/Jan/2021 11:54:47] \"\u001b[37mGET /static/js/xlsx.full.min.js HTTP/1.1\u001b[0m\" 200 -\n",
      "127.0.0.1 - - [11/Jan/2021 11:54:47] \"\u001b[37mGET /static/js/nouislider.js HTTP/1.1\u001b[0m\" 200 -\n",
      "127.0.0.1 - - [11/Jan/2021 11:54:47] \"\u001b[37mGET /static/js/bootstrap-table.min.js HTTP/1.1\u001b[0m\" 200 -\n",
      "127.0.0.1 - - [11/Jan/2021 11:54:49] \"\u001b[37mGET /static/fontawesome/webfonts/fa-solid-900.woff2 HTTP/1.1\u001b[0m\" 200 -\n",
      "127.0.0.1 - - [11/Jan/2021 11:54:49] \"\u001b[37mGET /static/js/LDAvis.js HTTP/1.1\u001b[0m\" 200 -\n",
      "127.0.0.1 - - [11/Jan/2021 11:54:51] \"\u001b[37mGET /SingleCorpus_documents HTTP/1.1\u001b[0m\" 200 -\n"
     ]
    },
    {
     "name": "stdout",
     "output_type": "stream",
     "text": [
      "extrayendo todos los documentos\n"
     ]
    },
    {
     "name": "stderr",
     "output_type": "stream",
     "text": [
      "127.0.0.1 - - [11/Jan/2021 11:54:52] \"\u001b[33mGET /favicon.ico HTTP/1.1\u001b[0m\" 404 -\n",
      "127.0.0.1 - - [11/Jan/2021 12:08:33] \"\u001b[33mGET /scenario1 HTTP/1.1\u001b[0m\" 404 -\n"
     ]
    }
   ],
   "source": [
    "vis.run()"
   ]
  },
  {
   "cell_type": "code",
   "execution_count": 6,
   "metadata": {},
   "outputs": [
    {
     "name": "stderr",
     "output_type": "stream",
     "text": [
      "c:\\users\\gonza\\tesisenv\\lib\\site-packages\\ipykernel\\ipkernel.py:283: DeprecationWarning: `should_run_async` will not call `transform_cell` automatically in the future. Please pass the result to `transformed_cell` argument and any exception that happen during thetransform in `preprocessing_exc_tuple` in IPython 7.17 and above.\n",
      "  and should_run_async(code)\n"
     ]
    },
    {
     "data": {
      "text/plain": [
       "dict"
      ]
     },
     "execution_count": 6,
     "metadata": {},
     "output_type": "execute_result"
    }
   ],
   "source": [
    "\n",
    "type(topicvisexplorer.single_corpus_data['topic_similarity_matrix'])"
   ]
  },
  {
   "cell_type": "markdown",
   "metadata": {},
   "source": [
    "### Get confussion matrix"
   ]
  },
  {
   "cell_type": "code",
   "execution_count": 7,
   "metadata": {},
   "outputs": [
    {
     "name": "stderr",
     "output_type": "stream",
     "text": [
      "c:\\users\\gonza\\tesisenv\\lib\\site-packages\\ipykernel\\ipkernel.py:283: DeprecationWarning: `should_run_async` will not call `transform_cell` automatically in the future. Please pass the result to `transformed_cell` argument and any exception that happen during thetransform in `preprocessing_exc_tuple` in IPython 7.17 and above.\n",
      "  and should_run_async(code)\n"
     ]
    }
   ],
   "source": [
    "\n",
    "names_excel_europe = [\n",
    "\"Issues after deleting facebook account (e.g, new account makes old facebook accounts suggestion, facebook account was deleted by irrational reasons)\",\n",
    "\"Cambridge analytica interfered on UK referendum (brexit)\",\n",
    "\"Facebook has move users out of reach of european privacy law to dodge GDPR\",\n",
    "\"Bigdata (Big data companies and big data solutions)\",\n",
    "\"Promote social networks accounts\",\n",
    "\"Mark zuckerberg hearing (EU and US parliament)\",\n",
    "\"Inteligence Artificial on the industry\",\n",
    "\"News about data privacy breaches on Facebook\",\n",
    "\"Relationship between  Scottish National party (snp) and Cambridge Analytica\",\n",
    "\"Discussion about Facebook company's practices\",\n",
    "\"People share and discuss different articles thay they read (some of them related to privacy)\"\n",
    "]"
   ]
  },
  {
   "cell_type": "code",
   "execution_count": 8,
   "metadata": {},
   "outputs": [
    {
     "name": "stderr",
     "output_type": "stream",
     "text": [
      "c:\\users\\gonza\\tesisenv\\lib\\site-packages\\ipykernel\\ipkernel.py:283: DeprecationWarning: `should_run_async` will not call `transform_cell` automatically in the future. Please pass the result to `transformed_cell` argument and any exception that happen during thetransform in `preprocessing_exc_tuple` in IPython 7.17 and above.\n",
      "  and should_run_async(code)\n"
     ]
    }
   ],
   "source": [
    "names_excel_northamerica = [\n",
    "    'Delete of content on Facebook (account, messages, photos,…)',\n",
    "    \"Comments about Mark zuckerberg\",\n",
    "    \"Intelligence Artificial as a bussiness or service\",\n",
    "    \"Facebook is censonring speech\",\n",
    "    \"Facebook share information with other companies\",\n",
    "    \"Privacy, as a problem that must be resolved // People problems ?\",\n",
    "    \"Facebook and privacy regulations (such as GDPR)\",\n",
    "    \"Discussion about Fake news\",\n",
    "    \"US election was intervened (by Russia and Cambridge Analytica)\",\n",
    "    \"Trump and inmigration policies (separating child from families)\",\n",
    "    \"PC gaming streaming and Zuckerberg's hearing\"    \n",
    "]"
   ]
  },
  {
   "cell_type": "code",
   "execution_count": 9,
   "metadata": {},
   "outputs": [
    {
     "name": "stderr",
     "output_type": "stream",
     "text": [
      "c:\\users\\gonza\\tesisenv\\lib\\site-packages\\ipykernel\\ipkernel.py:283: DeprecationWarning: `should_run_async` will not call `transform_cell` automatically in the future. Please pass the result to `transformed_cell` argument and any exception that happen during thetransform in `preprocessing_exc_tuple` in IPython 7.17 and above.\n",
      "  and should_run_async(code)\n"
     ]
    }
   ],
   "source": [
    "matrices_dict_test = topicvisexplorer.single_corpus_data['topic_similarity_matrix']"
   ]
  },
  {
   "cell_type": "code",
   "execution_count": 10,
   "metadata": {},
   "outputs": [
    {
     "name": "stderr",
     "output_type": "stream",
     "text": [
      "c:\\users\\gonza\\tesisenv\\lib\\site-packages\\ipykernel\\ipkernel.py:283: DeprecationWarning: `should_run_async` will not call `transform_cell` automatically in the future. Please pass the result to `transformed_cell` argument and any exception that happen during thetransform in `preprocessing_exc_tuple` in IPython 7.17 and above.\n",
      "  and should_run_async(code)\n"
     ]
    }
   ],
   "source": [
    "def show_confussion_matrix(omega):\n",
    "    omega = omega/100.0\n",
    "    max_width = 45\n",
    "    fig, ax = plt.subplots(figsize=(10,10))     \n",
    "    sns.heatmap(matrices_dict_test[omega], annot=True, cmap='vlag_r', vmin=-1, vmax=1, linewidths=.5, ax=ax, xticklabels=names_excel_europe, yticklabels=names_excel_europe)\n",
    "    ax.set_xticklabels(textwrap.fill(x.get_text(), max_width) for x in ax.get_xticklabels())\n",
    "    ax.set_yticklabels(textwrap.fill(x.get_text(), max_width) for x in ax.get_yticklabels())\n",
    "    plt.title(\"Topic similarity metric proposed - Omega: \"+str(omega), fontsize = 20, y = 1.02)\n",
    "    plt.xlabel('North America', fontsize=16)\n",
    "    plt.ylabel('Europe', fontsize=16)"
   ]
  },
  {
   "cell_type": "code",
   "execution_count": 11,
   "metadata": {},
   "outputs": [
    {
     "name": "stderr",
     "output_type": "stream",
     "text": [
      "c:\\users\\gonza\\tesisenv\\lib\\site-packages\\ipykernel\\ipkernel.py:283: DeprecationWarning: `should_run_async` will not call `transform_cell` automatically in the future. Please pass the result to `transformed_cell` argument and any exception that happen during thetransform in `preprocessing_exc_tuple` in IPython 7.17 and above.\n",
      "  and should_run_async(code)\n"
     ]
    },
    {
     "data": {
      "application/vnd.jupyter.widget-view+json": {
       "model_id": "2bf81126ac5b49b6b26edcf3f646e95e",
       "version_major": 2,
       "version_minor": 0
      },
      "text/plain": [
       "interactive(children=(Play(value=0, description='omega', interval=200), Output()), _dom_classes=('widget-inter…"
      ]
     },
     "metadata": {},
     "output_type": "display_data"
    }
   ],
   "source": [
    "from ipywidgets import Play\n",
    "interact(show_confussion_matrix, omega=Play(value=0, min=0, max=100, step=1, interval=200));\n"
   ]
  },
  {
   "cell_type": "markdown",
   "metadata": {},
   "source": [
    "### Check bubbles positions - Scenario 1"
   ]
  },
  {
   "cell_type": "code",
   "execution_count": 12,
   "metadata": {},
   "outputs": [
    {
     "name": "stderr",
     "output_type": "stream",
     "text": [
      "c:\\users\\gonza\\tesisenv\\lib\\site-packages\\ipykernel\\ipkernel.py:283: DeprecationWarning: `should_run_async` will not call `transform_cell` automatically in the future. Please pass the result to `transformed_cell` argument and any exception that happen during thetransform in `preprocessing_exc_tuple` in IPython 7.17 and above.\n",
      "  and should_run_async(code)\n"
     ]
    }
   ],
   "source": [
    "\n",
    "data = json.loads(topicvisexplorer.single_corpus_data['new_circle_positions']) \n",
    "#single_corpus_data['new_circle_positions']"
   ]
  },
  {
   "cell_type": "code",
   "execution_count": 13,
   "metadata": {},
   "outputs": [
    {
     "name": "stderr",
     "output_type": "stream",
     "text": [
      "c:\\users\\gonza\\tesisenv\\lib\\site-packages\\ipykernel\\ipkernel.py:283: DeprecationWarning: `should_run_async` will not call `transform_cell` automatically in the future. Please pass the result to `transformed_cell` argument and any exception that happen during thetransform in `preprocessing_exc_tuple` in IPython 7.17 and above.\n",
      "  and should_run_async(code)\n"
     ]
    }
   ],
   "source": [
    "def plot_circles_with_procrustes(lambda_):\n",
    "    new_circle_positions_selected = data[str(lambda_)]\n",
    "    #print(lambda_, new_circle_positions_selected)\n",
    "    x = [i[0] for i in new_circle_positions_selected]\n",
    "    y = [i[1] for i in new_circle_positions_selected]\n",
    "    plt.figure()\n",
    "    plt.plot(x, y, 'o'); # markersize = 15\n",
    "\n",
    "    n = range(len(x))\n",
    "    for i, txt in enumerate(n):\n",
    "        plt.annotate(txt, (x[i], y[i]), fontsize =15)\n",
    "\n",
    "    plt.show()\n"
   ]
  },
  {
   "cell_type": "code",
   "execution_count": 14,
   "metadata": {},
   "outputs": [
    {
     "name": "stderr",
     "output_type": "stream",
     "text": [
      "c:\\users\\gonza\\tesisenv\\lib\\site-packages\\ipykernel\\ipkernel.py:283: DeprecationWarning: `should_run_async` will not call `transform_cell` automatically in the future. Please pass the result to `transformed_cell` argument and any exception that happen during thetransform in `preprocessing_exc_tuple` in IPython 7.17 and above.\n",
      "  and should_run_async(code)\n"
     ]
    },
    {
     "data": {
      "application/vnd.jupyter.widget-view+json": {
       "model_id": "4233040f5f144e068f165f5522048673",
       "version_major": 2,
       "version_minor": 0
      },
      "text/plain": [
       "interactive(children=(FloatSlider(value=0.0, description='lambda_', max=1.0, step=0.01), Output()), _dom_class…"
      ]
     },
     "metadata": {},
     "output_type": "display_data"
    },
    {
     "data": {
      "text/plain": [
       "<function __main__.plot_circles_with_procrustes(lambda_)>"
      ]
     },
     "execution_count": 14,
     "metadata": {},
     "output_type": "execute_result"
    }
   ],
   "source": [
    "interact(plot_circles_with_procrustes, lambda_=FloatSlider(min=0, max=1, step=0.01))"
   ]
  },
  {
   "cell_type": "code",
   "execution_count": null,
   "metadata": {},
   "outputs": [],
   "source": []
  },
  {
   "cell_type": "code",
   "execution_count": 15,
   "metadata": {},
   "outputs": [
    {
     "name": "stderr",
     "output_type": "stream",
     "text": [
      "c:\\users\\gonza\\tesisenv\\lib\\site-packages\\ipykernel\\ipkernel.py:283: DeprecationWarning: `should_run_async` will not call `transform_cell` automatically in the future. Please pass the result to `transformed_cell` argument and any exception that happen during thetransform in `preprocessing_exc_tuple` in IPython 7.17 and above.\n",
      "  and should_run_async(code)\n"
     ]
    },
    {
     "data": {
      "text/plain": [
       "[(0,\n",
       "  '0.055*\"people\" + 0.035*\"delete\" + 0.032*\"year\" + 0.026*\"account\" + 0.022*\"friend\" + 0.021*\"time\" + 0.017*\"back\" + 0.014*\"message\" + 0.014*\"deletefacebook\" + 0.014*\"call\"'),\n",
       " (1,\n",
       "  '0.035*\"trump\" + 0.033*\"leave\" + 0.025*\"vote\" + 0.023*\"campaign\" + 0.023*\"election\" + 0.019*\"amp\" + 0.017*\"lie\" + 0.015*\"government\" + 0.014*\"democracy\" + 0.013*\"tory\"'),\n",
       " (2,\n",
       "  '0.135*\"datum\" + 0.104*\"privacy\" + 0.074*\"user\" + 0.024*\"personal\" + 0.022*\"information\" + 0.021*\"law\" + 0.019*\"access\" + 0.018*\"app\" + 0.017*\"give\" + 0.015*\"sell\"'),\n",
       " (3,\n",
       "  '0.085*\"datum\" + 0.047*\"big\" + 0.045*\"business\" + 0.017*\"service\" + 0.016*\"security\" + 0.015*\"problem\" + 0.011*\"model\" + 0.011*\"build\" + 0.011*\"customer\" + 0.010*\"online\"'),\n",
       " (4,\n",
       "  '0.064*\"facebook\" + 0.034*\"page\" + 0.033*\"follow\" + 0.032*\"find\" + 0.030*\"twitter\" + 0.027*\"post\" + 0.026*\"share\" + 0.024*\"live\" + 0.023*\"check\" + 0.019*\"video\"'),\n",
       " (5,\n",
       "  '0.045*\"question\" + 0.034*\"today\" + 0.026*\"watch\" + 0.024*\"time\" + 0.022*\"talk\" + 0.021*\"week\" + 0.020*\"answer\" + 0.018*\"open\" + 0.017*\"hear\" + 0.016*\"day\"'),\n",
       " (6,\n",
       "  '0.131*\"bigdata\" + 0.039*\"late\" + 0.034*\"ai\" + 0.033*\"analytic\" + 0.030*\"machinelearne\" + 0.030*\"technology\" + 0.022*\"marketing\" + 0.020*\"tech\" + 0.020*\"datascience\" + 0.017*\"learn\"'),\n",
       " (7,\n",
       "  '0.049*\"facebook\" + 0.047*\"scandal\" + 0.033*\"company\" + 0.032*\"change\" + 0.029*\"make\" + 0.027*\"data\" + 0.016*\"tool\" + 0.016*\"public\" + 0.012*\"world\" + 0.012*\"profile\"'),\n",
       " (8,\n",
       "  '0.045*\"work\" + 0.034*\"ad\" + 0.029*\"story\" + 0.019*\"pay\" + 0.017*\"report\" + 0.016*\"target\" + 0.016*\"show\" + 0.014*\"run\" + 0.014*\"party\" + 0.014*\"political\"'),\n",
       " (9,\n",
       "  '0.043*\"social\" + 0.041*\"medium\" + 0.035*\"news\" + 0.031*\"thing\" + 0.023*\"people\" + 0.020*\"platform\" + 0.019*\"stop\" + 0.019*\"give\" + 0.019*\"internet\" + 0.019*\"bad\"'),\n",
       " (10,\n",
       "  '0.051*\"good\" + 0.037*\"read\" + 0.036*\"make\" + 0.026*\"great\" + 0.021*\"interesting\" + 0.016*\"real\" + 0.016*\"article\" + 0.015*\"happen\" + 0.014*\"lot\" + 0.014*\"point\"')]"
      ]
     },
     "execution_count": 15,
     "metadata": {},
     "output_type": "execute_result"
    }
   ],
   "source": [
    "topicvisexplorer.single_corpus_data['lda_model'][0].print_topics()"
   ]
  },
  {
   "cell_type": "code",
   "execution_count": null,
   "metadata": {},
   "outputs": [],
   "source": [
    "vis.run()"
   ]
  },
  {
   "cell_type": "code",
   "execution_count": null,
   "metadata": {},
   "outputs": [],
   "source": [
    " len(topicvisexplorer.single_corpus_data['relevantDocumentsDict'])"
   ]
  },
  {
   "cell_type": "code",
   "execution_count": null,
   "metadata": {},
   "outputs": [],
   "source": []
  }
 ],
 "metadata": {
  "kernelspec": {
   "display_name": "Python 3",
   "language": "python",
   "name": "python3"
  },
  "language_info": {
   "codemirror_mode": {
    "name": "ipython",
    "version": 3
   },
   "file_extension": ".py",
   "mimetype": "text/x-python",
   "name": "python",
   "nbconvert_exporter": "python",
   "pygments_lexer": "ipython3",
   "version": "3.9.1"
  }
 },
 "nbformat": 4,
 "nbformat_minor": 4
}
