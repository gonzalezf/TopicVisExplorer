{
 "cells": [
  {
   "cell_type": "markdown",
   "metadata": {},
   "source": [
    "# Seleccionar idioma"
   ]
  },
  {
   "cell_type": "code",
   "execution_count": 344,
   "metadata": {},
   "outputs": [],
   "source": [
    "idioma = 'english'"
   ]
  },
  {
   "cell_type": "markdown",
   "metadata": {},
   "source": [
    "# Importar Librerias"
   ]
  },
  {
   "cell_type": "code",
   "execution_count": 345,
   "metadata": {},
   "outputs": [
    {
     "name": "stdout",
     "output_type": "stream",
     "text": [
      "Today's date: 2021-04-02\n"
     ]
    }
   ],
   "source": [
    "from datetime import date\n",
    "\n",
    "today = date.today()\n",
    "print(\"Today's date:\", today)"
   ]
  },
  {
   "cell_type": "code",
   "execution_count": 346,
   "metadata": {},
   "outputs": [],
   "source": [
    "import nltk; \n",
    "#nltk.download('stopwords')\n",
    "import time\n"
   ]
  },
  {
   "cell_type": "code",
   "execution_count": 347,
   "metadata": {},
   "outputs": [],
   "source": [
    "import re\n",
    "import numpy as np\n",
    "import pandas as pd\n",
    "from pprint import pprint\n",
    "from string import digits\n",
    "from string import punctuation\n",
    "import unidecode\n"
   ]
  },
  {
   "cell_type": "code",
   "execution_count": 348,
   "metadata": {},
   "outputs": [],
   "source": [
    "# Gensim\n",
    "import gensim\n",
    "import gensim.corpora as corpora\n",
    "from gensim.utils import simple_preprocess\n",
    "from gensim.models import CoherenceModel"
   ]
  },
  {
   "cell_type": "code",
   "execution_count": 349,
   "metadata": {},
   "outputs": [],
   "source": [
    "import spacy\n"
   ]
  },
  {
   "cell_type": "code",
   "execution_count": 350,
   "metadata": {},
   "outputs": [],
   "source": [
    "import pyLDAvis\n",
    "import pyLDAvis.gensim  # don't skip this\n",
    "import matplotlib.pyplot as plt\n",
    "%matplotlib inline"
   ]
  },
  {
   "cell_type": "code",
   "execution_count": 351,
   "metadata": {},
   "outputs": [],
   "source": [
    "import logging\n",
    "logging.basicConfig(format='%(asctime)s : %(levelname)s : %(message)s', level=logging.ERROR)"
   ]
  },
  {
   "cell_type": "code",
   "execution_count": 352,
   "metadata": {},
   "outputs": [],
   "source": [
    "import warnings\n",
    "warnings.filterwarnings(\"ignore\",category=DeprecationWarning)"
   ]
  },
  {
   "cell_type": "code",
   "execution_count": 353,
   "metadata": {},
   "outputs": [],
   "source": [
    "# NLTK Stop words\n",
    "from nltk.corpus import stopwords\n",
    "stop_words = stopwords.words(idioma)\n",
    "stop_words.extend(['linkremoved','amp', 'usernameremoved','link','removed', '<usernameremoved>','<linkremoved>','usernameremoved_usernameremoved','linkremoved_linkremoved'])\n",
    "##stop_words.extend(['from', 'subject', 're', 'edu', 'use'])"
   ]
  },
  {
   "cell_type": "code",
   "execution_count": 354,
   "metadata": {},
   "outputs": [],
   "source": [
    "#stopwords"
   ]
  },
  {
   "cell_type": "markdown",
   "metadata": {},
   "source": [
    "# Importar datos"
   ]
  },
  {
   "cell_type": "code",
   "execution_count": null,
   "metadata": {},
   "outputs": [],
   "source": []
  },
  {
   "cell_type": "code",
   "execution_count": null,
   "metadata": {},
   "outputs": [],
   "source": []
  },
  {
   "cell_type": "code",
   "execution_count": 355,
   "metadata": {},
   "outputs": [],
   "source": [
    "df = pd.read_csv('../Airline tweets/airlines_tweets_with_sentiment_data.csv',encoding='utf-8')"
   ]
  },
  {
   "cell_type": "code",
   "execution_count": 356,
   "metadata": {},
   "outputs": [
    {
     "data": {
      "text/plain": [
       "10560"
      ]
     },
     "execution_count": 356,
     "metadata": {},
     "output_type": "execute_result"
    }
   ],
   "source": [
    "len(df)"
   ]
  },
  {
   "cell_type": "code",
   "execution_count": 357,
   "metadata": {},
   "outputs": [
    {
     "data": {
      "text/html": [
       "<div>\n",
       "<style scoped>\n",
       "    .dataframe tbody tr th:only-of-type {\n",
       "        vertical-align: middle;\n",
       "    }\n",
       "\n",
       "    .dataframe tbody tr th {\n",
       "        vertical-align: top;\n",
       "    }\n",
       "\n",
       "    .dataframe thead th {\n",
       "        text-align: right;\n",
       "    }\n",
       "</style>\n",
       "<table border=\"1\" class=\"dataframe\">\n",
       "  <thead>\n",
       "    <tr style=\"text-align: right;\">\n",
       "      <th></th>\n",
       "      <th>Unnamed: 0</th>\n",
       "      <th>created_at</th>\n",
       "      <th>tweet_id</th>\n",
       "      <th>id_str</th>\n",
       "      <th>text_x</th>\n",
       "      <th>truncated</th>\n",
       "      <th>entities</th>\n",
       "      <th>source</th>\n",
       "      <th>in_reply_to_status_id</th>\n",
       "      <th>in_reply_to_status_id_str</th>\n",
       "      <th>...</th>\n",
       "      <th>airline</th>\n",
       "      <th>airline_sentiment_gold</th>\n",
       "      <th>name</th>\n",
       "      <th>negativereason_gold</th>\n",
       "      <th>retweet_count_y</th>\n",
       "      <th>text_y</th>\n",
       "      <th>tweet_coord</th>\n",
       "      <th>tweet_created</th>\n",
       "      <th>tweet_location</th>\n",
       "      <th>user_timezone</th>\n",
       "    </tr>\n",
       "  </thead>\n",
       "  <tbody>\n",
       "    <tr>\n",
       "      <th>0</th>\n",
       "      <td>0</td>\n",
       "      <td>Tue Feb 24 17:04:10 +0000 2015</td>\n",
       "      <td>570267956648792064</td>\n",
       "      <td>570267956648792064</td>\n",
       "      <td>@VirginAmerica you know what would be amazingly awesome? BOS-FLL PLEASE!!!!!!! I want to fly with only you.</td>\n",
       "      <td>False</td>\n",
       "      <td>{'hashtags': [], 'symbols': [], 'user_mentions': [{'screen_name': 'VirginAmerica', 'name': 'Virgin America', 'id': 12101862, 'id_str': '12101862', 'indices': [0, 14]}], 'urls': []}</td>\n",
       "      <td>&lt;a href=\"http://twitter.com\" rel=\"nofollow\"&gt;Twitter Web Client&lt;/a&gt;</td>\n",
       "      <td>NaN</td>\n",
       "      <td>NaN</td>\n",
       "      <td>...</td>\n",
       "      <td>Virgin America</td>\n",
       "      <td>NaN</td>\n",
       "      <td>JNLpierce</td>\n",
       "      <td>NaN</td>\n",
       "      <td>0</td>\n",
       "      <td>@VirginAmerica you know what would be amazingly awesome? BOS-FLL PLEASE!!!!!!! I want to fly with only you.</td>\n",
       "      <td>NaN</td>\n",
       "      <td>2015-02-24 09:04:10 -0800</td>\n",
       "      <td>Boston | Waltham</td>\n",
       "      <td>Quito</td>\n",
       "    </tr>\n",
       "    <tr>\n",
       "      <th>1</th>\n",
       "      <td>1</td>\n",
       "      <td>Tue Feb 24 16:49:01 +0000 2015</td>\n",
       "      <td>570264145116819457</td>\n",
       "      <td>570264145116819457</td>\n",
       "      <td>@VirginAmerica I love this graphic. http://t.co/UT5GrRwAaA</td>\n",
       "      <td>False</td>\n",
       "      <td>{'hashtags': [], 'symbols': [], 'user_mentions': [{'screen_name': 'VirginAmerica', 'name': 'Virgin America', 'id': 12101862, 'id_str': '12101862', 'indices': [0, 14]}], 'urls': [], 'media': [{'id': 570264144403759104, 'id_str': '570264144403759104', 'indices': [36, 58], 'media_url': 'http://pbs.twimg.com/media/B-n8N8tUAAAJcel.jpg', 'media_url_https': 'https://pbs.twimg.com/media/B-n8N8tUAAAJcel.jpg', 'url': 'http://t.co/UT5GrRwAaA', 'display_url': 'pic.twitter.com/UT5GrRwAaA', 'expanded_url': 'https://twitter.com/DT_Les/status/570264145116819457/photo/1', 'type': 'photo', 'sizes': {'thumb': {'w': 150, 'h': 150, 'resize': 'crop'}, 'medium': {'w': 640, 'h': 377, 'resize': 'fit'}, 'small': {'w': 640, 'h': 377, 'resize': 'fit'}, 'large': {'w': 640, 'h': 377, 'resize': 'fit'}}}]}</td>\n",
       "      <td>&lt;a href=\"http://twitter.com/download/iphone\" rel=\"nofollow\"&gt;Twitter for iPhone&lt;/a&gt;</td>\n",
       "      <td>NaN</td>\n",
       "      <td>NaN</td>\n",
       "      <td>...</td>\n",
       "      <td>Virgin America</td>\n",
       "      <td>NaN</td>\n",
       "      <td>DT_Les</td>\n",
       "      <td>NaN</td>\n",
       "      <td>0</td>\n",
       "      <td>@VirginAmerica I love this graphic. http://t.co/UT5GrRwAaA</td>\n",
       "      <td>[40.74804263, -73.99295302]</td>\n",
       "      <td>2015-02-24 08:49:01 -0800</td>\n",
       "      <td>NaN</td>\n",
       "      <td>NaN</td>\n",
       "    </tr>\n",
       "    <tr>\n",
       "      <th>2</th>\n",
       "      <td>2</td>\n",
       "      <td>Tue Feb 24 00:08:07 +0000 2015</td>\n",
       "      <td>570012257549070337</td>\n",
       "      <td>570012257549070337</td>\n",
       "      <td>@VirginAmerica I'm #elevategold for a good reason: you rock!!</td>\n",
       "      <td>False</td>\n",
       "      <td>{'hashtags': [{'text': 'elevategold', 'indices': [19, 31]}], 'symbols': [], 'user_mentions': [{'screen_name': 'VirginAmerica', 'name': 'Virgin America', 'id': 12101862, 'id_str': '12101862', 'indices': [0, 14]}], 'urls': []}</td>\n",
       "      <td>&lt;a href=\"http://twitter.com/download/iphone\" rel=\"nofollow\"&gt;Twitter for iPhone&lt;/a&gt;</td>\n",
       "      <td>5.699362e+17</td>\n",
       "      <td>5.699362e+17</td>\n",
       "      <td>...</td>\n",
       "      <td>Virgin America</td>\n",
       "      <td>NaN</td>\n",
       "      <td>arieldaie</td>\n",
       "      <td>NaN</td>\n",
       "      <td>0</td>\n",
       "      <td>@VirginAmerica I'm #elevategold for a good reason: you rock!!</td>\n",
       "      <td>NaN</td>\n",
       "      <td>2015-02-23 16:08:07 -0800</td>\n",
       "      <td>Los Angeles</td>\n",
       "      <td>NaN</td>\n",
       "    </tr>\n",
       "    <tr>\n",
       "      <th>3</th>\n",
       "      <td>3</td>\n",
       "      <td>Tue Feb 24 19:13:57 +0000 2015</td>\n",
       "      <td>570300616901320704</td>\n",
       "      <td>570300616901320704</td>\n",
       "      <td>@VirginAmerica yes, nearly every time I fly VX this “ear worm” won’t go away :)</td>\n",
       "      <td>False</td>\n",
       "      <td>{'hashtags': [], 'symbols': [], 'user_mentions': [{'screen_name': 'VirginAmerica', 'name': 'Virgin America', 'id': 12101862, 'id_str': '12101862', 'indices': [0, 14]}], 'urls': []}</td>\n",
       "      <td>&lt;a href=\"https://about.twitter.com/products/tweetdeck\" rel=\"nofollow\"&gt;TweetDeck&lt;/a&gt;</td>\n",
       "      <td>5.702999e+17</td>\n",
       "      <td>5.702999e+17</td>\n",
       "      <td>...</td>\n",
       "      <td>Virgin America</td>\n",
       "      <td>NaN</td>\n",
       "      <td>cjmcginnis</td>\n",
       "      <td>NaN</td>\n",
       "      <td>0</td>\n",
       "      <td>@VirginAmerica yes, nearly every time I fly VX this “ear worm” won’t go away :)</td>\n",
       "      <td>NaN</td>\n",
       "      <td>2015-02-24 11:13:57 -0800</td>\n",
       "      <td>San Francisco CA</td>\n",
       "      <td>Pacific Time (US &amp; Canada)</td>\n",
       "    </tr>\n",
       "    <tr>\n",
       "      <th>4</th>\n",
       "      <td>4</td>\n",
       "      <td>Mon Feb 23 21:30:10 +0000 2015</td>\n",
       "      <td>569972508499283968</td>\n",
       "      <td>569972508499283968</td>\n",
       "      <td>@VirginAmerica Congrats on winning the @Travelzoo award for Best Deals from an Airline (US) http://t.co/kj1iljaebV</td>\n",
       "      <td>False</td>\n",
       "      <td>{'hashtags': [], 'symbols': [], 'user_mentions': [{'screen_name': 'VirginAmerica', 'name': 'Virgin America', 'id': 12101862, 'id_str': '12101862', 'indices': [0, 14]}, {'screen_name': 'Travelzoo', 'name': 'Travelzoo', 'id': 14825399, 'id_str': '14825399', 'indices': [39, 49]}], 'urls': [{'url': 'http://t.co/kj1iljaebV', 'expanded_url': 'http://www.travelzoo.com/tzoos/html/winners.html', 'display_url': 'travelzoo.com/tzoos/html/win…', 'indices': [92, 114]}]}</td>\n",
       "      <td>&lt;a href=\"http://www.hootsuite.com\" rel=\"nofollow\"&gt;Hootsuite&lt;/a&gt;</td>\n",
       "      <td>NaN</td>\n",
       "      <td>NaN</td>\n",
       "      <td>...</td>\n",
       "      <td>Virgin America</td>\n",
       "      <td>NaN</td>\n",
       "      <td>Travelzoo</td>\n",
       "      <td>NaN</td>\n",
       "      <td>0</td>\n",
       "      <td>@VirginAmerica Congrats on winning the @Travelzoo award for Best Deals from an Airline (US) http://t.co/kj1iljaebV</td>\n",
       "      <td>NaN</td>\n",
       "      <td>2015-02-23 13:30:10 -0800</td>\n",
       "      <td>New York, NY</td>\n",
       "      <td>Pacific Time (US &amp; Canada)</td>\n",
       "    </tr>\n",
       "  </tbody>\n",
       "</table>\n",
       "<p>5 rows × 43 columns</p>\n",
       "</div>"
      ],
      "text/plain": [
       "   Unnamed: 0                      created_at            tweet_id  \\\n",
       "0  0           Tue Feb 24 17:04:10 +0000 2015  570267956648792064   \n",
       "1  1           Tue Feb 24 16:49:01 +0000 2015  570264145116819457   \n",
       "2  2           Tue Feb 24 00:08:07 +0000 2015  570012257549070337   \n",
       "3  3           Tue Feb 24 19:13:57 +0000 2015  570300616901320704   \n",
       "4  4           Mon Feb 23 21:30:10 +0000 2015  569972508499283968   \n",
       "\n",
       "               id_str  \\\n",
       "0  570267956648792064   \n",
       "1  570264145116819457   \n",
       "2  570012257549070337   \n",
       "3  570300616901320704   \n",
       "4  569972508499283968   \n",
       "\n",
       "                                                                                                               text_x  \\\n",
       "0  @VirginAmerica you know what would be amazingly awesome? BOS-FLL PLEASE!!!!!!! I want to fly with only you.          \n",
       "1  @VirginAmerica I love this graphic. http://t.co/UT5GrRwAaA                                                           \n",
       "2  @VirginAmerica I'm #elevategold for a good reason: you rock!!                                                        \n",
       "3  @VirginAmerica yes, nearly every time I fly VX this “ear worm” won’t go away :)                                      \n",
       "4  @VirginAmerica Congrats on winning the @Travelzoo award for Best Deals from an Airline (US) http://t.co/kj1iljaebV   \n",
       "\n",
       "   truncated  \\\n",
       "0  False       \n",
       "1  False       \n",
       "2  False       \n",
       "3  False       \n",
       "4  False       \n",
       "\n",
       "                                                                                                                                                                                                                                                                                                                                                                                                                                                                                                                                                                                                                                                                                                                                                                                                            entities  \\\n",
       "0  {'hashtags': [], 'symbols': [], 'user_mentions': [{'screen_name': 'VirginAmerica', 'name': 'Virgin America', 'id': 12101862, 'id_str': '12101862', 'indices': [0, 14]}], 'urls': []}                                                                                                                                                                                                                                                                                                                                                                                                                                                                                                                                                                                                                                \n",
       "1  {'hashtags': [], 'symbols': [], 'user_mentions': [{'screen_name': 'VirginAmerica', 'name': 'Virgin America', 'id': 12101862, 'id_str': '12101862', 'indices': [0, 14]}], 'urls': [], 'media': [{'id': 570264144403759104, 'id_str': '570264144403759104', 'indices': [36, 58], 'media_url': 'http://pbs.twimg.com/media/B-n8N8tUAAAJcel.jpg', 'media_url_https': 'https://pbs.twimg.com/media/B-n8N8tUAAAJcel.jpg', 'url': 'http://t.co/UT5GrRwAaA', 'display_url': 'pic.twitter.com/UT5GrRwAaA', 'expanded_url': 'https://twitter.com/DT_Les/status/570264145116819457/photo/1', 'type': 'photo', 'sizes': {'thumb': {'w': 150, 'h': 150, 'resize': 'crop'}, 'medium': {'w': 640, 'h': 377, 'resize': 'fit'}, 'small': {'w': 640, 'h': 377, 'resize': 'fit'}, 'large': {'w': 640, 'h': 377, 'resize': 'fit'}}}]}   \n",
       "2  {'hashtags': [{'text': 'elevategold', 'indices': [19, 31]}], 'symbols': [], 'user_mentions': [{'screen_name': 'VirginAmerica', 'name': 'Virgin America', 'id': 12101862, 'id_str': '12101862', 'indices': [0, 14]}], 'urls': []}                                                                                                                                                                                                                                                                                                                                                                                                                                                                                                                                                                                    \n",
       "3  {'hashtags': [], 'symbols': [], 'user_mentions': [{'screen_name': 'VirginAmerica', 'name': 'Virgin America', 'id': 12101862, 'id_str': '12101862', 'indices': [0, 14]}], 'urls': []}                                                                                                                                                                                                                                                                                                                                                                                                                                                                                                                                                                                                                                \n",
       "4  {'hashtags': [], 'symbols': [], 'user_mentions': [{'screen_name': 'VirginAmerica', 'name': 'Virgin America', 'id': 12101862, 'id_str': '12101862', 'indices': [0, 14]}, {'screen_name': 'Travelzoo', 'name': 'Travelzoo', 'id': 14825399, 'id_str': '14825399', 'indices': [39, 49]}], 'urls': [{'url': 'http://t.co/kj1iljaebV', 'expanded_url': 'http://www.travelzoo.com/tzoos/html/winners.html', 'display_url': 'travelzoo.com/tzoos/html/win…', 'indices': [92, 114]}]}                                                                                                                                                                                                                                                                                                                                       \n",
       "\n",
       "                                                                                source  \\\n",
       "0  <a href=\"http://twitter.com\" rel=\"nofollow\">Twitter Web Client</a>                    \n",
       "1  <a href=\"http://twitter.com/download/iphone\" rel=\"nofollow\">Twitter for iPhone</a>    \n",
       "2  <a href=\"http://twitter.com/download/iphone\" rel=\"nofollow\">Twitter for iPhone</a>    \n",
       "3  <a href=\"https://about.twitter.com/products/tweetdeck\" rel=\"nofollow\">TweetDeck</a>   \n",
       "4  <a href=\"http://www.hootsuite.com\" rel=\"nofollow\">Hootsuite</a>                       \n",
       "\n",
       "   in_reply_to_status_id  in_reply_to_status_id_str  ...         airline  \\\n",
       "0 NaN                    NaN                         ...  Virgin America   \n",
       "1 NaN                    NaN                         ...  Virgin America   \n",
       "2  5.699362e+17           5.699362e+17               ...  Virgin America   \n",
       "3  5.702999e+17           5.702999e+17               ...  Virgin America   \n",
       "4 NaN                    NaN                         ...  Virgin America   \n",
       "\n",
       "   airline_sentiment_gold        name negativereason_gold retweet_count_y  \\\n",
       "0  NaN                     JNLpierce   NaN                 0                \n",
       "1  NaN                     DT_Les      NaN                 0                \n",
       "2  NaN                     arieldaie   NaN                 0                \n",
       "3  NaN                     cjmcginnis  NaN                 0                \n",
       "4  NaN                     Travelzoo   NaN                 0                \n",
       "\n",
       "                                                                                                               text_y  \\\n",
       "0  @VirginAmerica you know what would be amazingly awesome? BOS-FLL PLEASE!!!!!!! I want to fly with only you.          \n",
       "1  @VirginAmerica I love this graphic. http://t.co/UT5GrRwAaA                                                           \n",
       "2  @VirginAmerica I'm #elevategold for a good reason: you rock!!                                                        \n",
       "3  @VirginAmerica yes, nearly every time I fly VX this “ear worm” won’t go away :)                                      \n",
       "4  @VirginAmerica Congrats on winning the @Travelzoo award for Best Deals from an Airline (US) http://t.co/kj1iljaebV   \n",
       "\n",
       "                   tweet_coord              tweet_created    tweet_location  \\\n",
       "0  NaN                          2015-02-24 09:04:10 -0800  Boston | Waltham   \n",
       "1  [40.74804263, -73.99295302]  2015-02-24 08:49:01 -0800  NaN                \n",
       "2  NaN                          2015-02-23 16:08:07 -0800  Los Angeles        \n",
       "3  NaN                          2015-02-24 11:13:57 -0800  San Francisco CA   \n",
       "4  NaN                          2015-02-23 13:30:10 -0800  New York, NY       \n",
       "\n",
       "                user_timezone  \n",
       "0  Quito                       \n",
       "1  NaN                         \n",
       "2  NaN                         \n",
       "3  Pacific Time (US & Canada)  \n",
       "4  Pacific Time (US & Canada)  \n",
       "\n",
       "[5 rows x 43 columns]"
      ]
     },
     "execution_count": 357,
     "metadata": {},
     "output_type": "execute_result"
    }
   ],
   "source": [
    "df.head()"
   ]
  },
  {
   "cell_type": "code",
   "execution_count": 358,
   "metadata": {},
   "outputs": [
    {
     "data": {
      "text/plain": [
       "10259"
      ]
     },
     "execution_count": 358,
     "metadata": {},
     "output_type": "execute_result"
    }
   ],
   "source": [
    "df = df[['airline_sentiment', 'text_x', 'text_y']]\n",
    "df.drop_duplicates(inplace=True)\n",
    "len(df)"
   ]
  },
  {
   "cell_type": "code",
   "execution_count": 249,
   "metadata": {},
   "outputs": [
    {
     "data": {
      "text/plain": [
       "negative    6421\n",
       "neutral     2126\n",
       "positive    1712\n",
       "Name: airline_sentiment, dtype: int64"
      ]
     },
     "execution_count": 249,
     "metadata": {},
     "output_type": "execute_result"
    }
   ],
   "source": [
    "df['airline_sentiment'].value_counts()"
   ]
  },
  {
   "cell_type": "markdown",
   "metadata": {},
   "source": [
    "# Considerar solo algunos tweets\n"
   ]
  },
  {
   "cell_type": "code",
   "execution_count": 254,
   "metadata": {},
   "outputs": [],
   "source": [
    "df = df.loc[(df['airline_sentiment'] == 'positive') | (df['airline_sentiment'] == 'neutral')]"
   ]
  },
  {
   "cell_type": "code",
   "execution_count": 255,
   "metadata": {},
   "outputs": [
    {
     "data": {
      "text/plain": [
       "3838"
      ]
     },
     "execution_count": 255,
     "metadata": {},
     "output_type": "execute_result"
    }
   ],
   "source": [
    "len(df)"
   ]
  },
  {
   "cell_type": "code",
   "execution_count": null,
   "metadata": {},
   "outputs": [],
   "source": []
  },
  {
   "cell_type": "code",
   "execution_count": null,
   "metadata": {},
   "outputs": [],
   "source": []
  },
  {
   "cell_type": "markdown",
   "metadata": {},
   "source": [
    "**Se usará la columna 'texto completo' para extraer los datos de los tweets**"
   ]
  },
  {
   "cell_type": "code",
   "execution_count": 256,
   "metadata": {},
   "outputs": [
    {
     "data": {
      "text/html": [
       "<div>\n",
       "<style scoped>\n",
       "    .dataframe tbody tr th:only-of-type {\n",
       "        vertical-align: middle;\n",
       "    }\n",
       "\n",
       "    .dataframe tbody tr th {\n",
       "        vertical-align: top;\n",
       "    }\n",
       "\n",
       "    .dataframe thead th {\n",
       "        text-align: right;\n",
       "    }\n",
       "</style>\n",
       "<table border=\"1\" class=\"dataframe\">\n",
       "  <thead>\n",
       "    <tr style=\"text-align: right;\">\n",
       "      <th></th>\n",
       "      <th>airline_sentiment</th>\n",
       "      <th>text_x</th>\n",
       "      <th>text_y</th>\n",
       "      <th>texto_completo</th>\n",
       "    </tr>\n",
       "  </thead>\n",
       "  <tbody>\n",
       "    <tr>\n",
       "      <th>0</th>\n",
       "      <td>positive</td>\n",
       "      <td>@VirginAmerica you know what would be amazingly awesome? BOS-FLL PLEASE!!!!!!! I want to fly with only you.</td>\n",
       "      <td>@VirginAmerica you know what would be amazingly awesome? BOS-FLL PLEASE!!!!!!! I want to fly with only you.</td>\n",
       "      <td>@virginamerica you know what would be amazingly awesome? bos-fll please!!!!!!! i want to fly with only you.</td>\n",
       "    </tr>\n",
       "    <tr>\n",
       "      <th>1</th>\n",
       "      <td>positive</td>\n",
       "      <td>@VirginAmerica I love this graphic. http://t.co/UT5GrRwAaA</td>\n",
       "      <td>@VirginAmerica I love this graphic. http://t.co/UT5GrRwAaA</td>\n",
       "      <td>@virginamerica i love this graphic. http://t.co/ut5grrwaaa</td>\n",
       "    </tr>\n",
       "    <tr>\n",
       "      <th>2</th>\n",
       "      <td>positive</td>\n",
       "      <td>@VirginAmerica I'm #elevategold for a good reason: you rock!!</td>\n",
       "      <td>@VirginAmerica I'm #elevategold for a good reason: you rock!!</td>\n",
       "      <td>@virginamerica i'm #elevategold for a good reason: you rock!!</td>\n",
       "    </tr>\n",
       "    <tr>\n",
       "      <th>3</th>\n",
       "      <td>positive</td>\n",
       "      <td>@VirginAmerica yes, nearly every time I fly VX this “ear worm” won’t go away :)</td>\n",
       "      <td>@VirginAmerica yes, nearly every time I fly VX this “ear worm” won’t go away :)</td>\n",
       "      <td>@virginamerica yes, nearly every time i fly vx this “ear worm” won’t go away :)</td>\n",
       "    </tr>\n",
       "    <tr>\n",
       "      <th>4</th>\n",
       "      <td>positive</td>\n",
       "      <td>@VirginAmerica Congrats on winning the @Travelzoo award for Best Deals from an Airline (US) http://t.co/kj1iljaebV</td>\n",
       "      <td>@VirginAmerica Congrats on winning the @Travelzoo award for Best Deals from an Airline (US) http://t.co/kj1iljaebV</td>\n",
       "      <td>@virginamerica congrats on winning the @travelzoo award for best deals from an airline (us) http://t.co/kj1iljaebv</td>\n",
       "    </tr>\n",
       "    <tr>\n",
       "      <th>9</th>\n",
       "      <td>neutral</td>\n",
       "      <td>@VirginAmerica Really missed a prime opportunity for Men Without Hats parody, there. https://t.co/mWpG7grEZP</td>\n",
       "      <td>@VirginAmerica Really missed a prime opportunity for Men Without Hats parody, there. https://t.co/mWpG7grEZP</td>\n",
       "      <td>@virginamerica really missed a prime opportunity for men without hats parody, there. https://t.co/mwpg7grezp</td>\n",
       "    </tr>\n",
       "    <tr>\n",
       "      <th>10</th>\n",
       "      <td>neutral</td>\n",
       "      <td>@VirginAmerica plz help me win my bid upgrade for my flight 2/27 LAX---&amp;gt;SEA!!!  🍷👍💺✈️</td>\n",
       "      <td>@VirginAmerica plz help me win my bid upgrade for my flight 2/27 LAX---&amp;gt;SEA!!!  🍷👍💺✈️</td>\n",
       "      <td>@virginamerica plz help me win my bid upgrade for my flight 2/27 lax---&amp;gt;sea!!!  🍷👍💺✈️</td>\n",
       "    </tr>\n",
       "    <tr>\n",
       "      <th>11</th>\n",
       "      <td>neutral</td>\n",
       "      <td>Nice RT @VirginAmerica: Vibe with the moodlight from takeoff to touchdown. #MoodlitMonday #ScienceBehindTheExperience http://t.co/Y7O0uNxTQP</td>\n",
       "      <td>Nice RT @VirginAmerica: Vibe with the moodlight from takeoff to touchdown. #MoodlitMonday #ScienceBehindTheExperience http://t.co/Y7O0uNxTQP</td>\n",
       "      <td>nice rt @virginamerica: vibe with the moodlight from takeoff to touchdown. #moodlitmonday #sciencebehindtheexperience http://t.co/y7o0unxtqp</td>\n",
       "    </tr>\n",
       "    <tr>\n",
       "      <th>12</th>\n",
       "      <td>positive</td>\n",
       "      <td>@VirginAmerica I've applied more then once to be a member of the #inflight crew team...Im 100% interested. #flightattendant #dreampath -G</td>\n",
       "      <td>@VirginAmerica I've applied more then once to be a member of the #inflight crew team...Im 100% interested. #flightattendant #dreampath -G</td>\n",
       "      <td>@virginamerica i've applied more then once to be a member of the #inflight crew team...im 100% interested. #flightattendant #dreampath -g</td>\n",
       "    </tr>\n",
       "    <tr>\n",
       "      <th>13</th>\n",
       "      <td>neutral</td>\n",
       "      <td>@VirginAmerica Will flights be leaving Dallas for LA on February 24th?</td>\n",
       "      <td>@VirginAmerica Will flights be leaving Dallas for LA on February 24th?</td>\n",
       "      <td>@virginamerica will flights be leaving dallas for la on february 24th?</td>\n",
       "    </tr>\n",
       "  </tbody>\n",
       "</table>\n",
       "</div>"
      ],
      "text/plain": [
       "   airline_sentiment  \\\n",
       "0   positive           \n",
       "1   positive           \n",
       "2   positive           \n",
       "3   positive           \n",
       "4   positive           \n",
       "9   neutral            \n",
       "10  neutral            \n",
       "11  neutral            \n",
       "12  positive           \n",
       "13  neutral            \n",
       "\n",
       "                                                                                                                                          text_x  \\\n",
       "0   @VirginAmerica you know what would be amazingly awesome? BOS-FLL PLEASE!!!!!!! I want to fly with only you.                                    \n",
       "1   @VirginAmerica I love this graphic. http://t.co/UT5GrRwAaA                                                                                     \n",
       "2   @VirginAmerica I'm #elevategold for a good reason: you rock!!                                                                                  \n",
       "3   @VirginAmerica yes, nearly every time I fly VX this “ear worm” won’t go away :)                                                                \n",
       "4   @VirginAmerica Congrats on winning the @Travelzoo award for Best Deals from an Airline (US) http://t.co/kj1iljaebV                             \n",
       "9   @VirginAmerica Really missed a prime opportunity for Men Without Hats parody, there. https://t.co/mWpG7grEZP                                   \n",
       "10  @VirginAmerica plz help me win my bid upgrade for my flight 2/27 LAX---&gt;SEA!!!  🍷👍💺✈️                                                       \n",
       "11  Nice RT @VirginAmerica: Vibe with the moodlight from takeoff to touchdown. #MoodlitMonday #ScienceBehindTheExperience http://t.co/Y7O0uNxTQP   \n",
       "12  @VirginAmerica I've applied more then once to be a member of the #inflight crew team...Im 100% interested. #flightattendant #dreampath -G      \n",
       "13  @VirginAmerica Will flights be leaving Dallas for LA on February 24th?                                                                         \n",
       "\n",
       "                                                                                                                                          text_y  \\\n",
       "0   @VirginAmerica you know what would be amazingly awesome? BOS-FLL PLEASE!!!!!!! I want to fly with only you.                                    \n",
       "1   @VirginAmerica I love this graphic. http://t.co/UT5GrRwAaA                                                                                     \n",
       "2   @VirginAmerica I'm #elevategold for a good reason: you rock!!                                                                                  \n",
       "3   @VirginAmerica yes, nearly every time I fly VX this “ear worm” won’t go away :)                                                                \n",
       "4   @VirginAmerica Congrats on winning the @Travelzoo award for Best Deals from an Airline (US) http://t.co/kj1iljaebV                             \n",
       "9   @VirginAmerica Really missed a prime opportunity for Men Without Hats parody, there. https://t.co/mWpG7grEZP                                   \n",
       "10  @VirginAmerica plz help me win my bid upgrade for my flight 2/27 LAX---&gt;SEA!!!  🍷👍💺✈️                                                       \n",
       "11  Nice RT @VirginAmerica: Vibe with the moodlight from takeoff to touchdown. #MoodlitMonday #ScienceBehindTheExperience http://t.co/Y7O0uNxTQP   \n",
       "12  @VirginAmerica I've applied more then once to be a member of the #inflight crew team...Im 100% interested. #flightattendant #dreampath -G      \n",
       "13  @VirginAmerica Will flights be leaving Dallas for LA on February 24th?                                                                         \n",
       "\n",
       "                                                                                                                                  texto_completo  \n",
       "0   @virginamerica you know what would be amazingly awesome? bos-fll please!!!!!!! i want to fly with only you.                                   \n",
       "1   @virginamerica i love this graphic. http://t.co/ut5grrwaaa                                                                                    \n",
       "2   @virginamerica i'm #elevategold for a good reason: you rock!!                                                                                 \n",
       "3   @virginamerica yes, nearly every time i fly vx this “ear worm” won’t go away :)                                                               \n",
       "4   @virginamerica congrats on winning the @travelzoo award for best deals from an airline (us) http://t.co/kj1iljaebv                            \n",
       "9   @virginamerica really missed a prime opportunity for men without hats parody, there. https://t.co/mwpg7grezp                                  \n",
       "10  @virginamerica plz help me win my bid upgrade for my flight 2/27 lax---&gt;sea!!!  🍷👍💺✈️                                                      \n",
       "11  nice rt @virginamerica: vibe with the moodlight from takeoff to touchdown. #moodlitmonday #sciencebehindtheexperience http://t.co/y7o0unxtqp  \n",
       "12  @virginamerica i've applied more then once to be a member of the #inflight crew team...im 100% interested. #flightattendant #dreampath -g     \n",
       "13  @virginamerica will flights be leaving dallas for la on february 24th?                                                                        "
      ]
     },
     "execution_count": 256,
     "metadata": {},
     "output_type": "execute_result"
    }
   ],
   "source": [
    "pd.set_option('display.max_colwidth', -1)\n",
    "df['texto_completo'] =  df['text_x'].str.lower()\n",
    "df.head(10)"
   ]
  },
  {
   "cell_type": "markdown",
   "metadata": {},
   "source": [
    "# remove links"
   ]
  },
  {
   "cell_type": "code",
   "execution_count": 257,
   "metadata": {},
   "outputs": [],
   "source": [
    "df['texto_completo'].replace({\"http\\S+\": '<linkremoved>'}, inplace=True, regex=True)\n"
   ]
  },
  {
   "cell_type": "code",
   "execution_count": 258,
   "metadata": {},
   "outputs": [],
   "source": [
    "df['texto_completo'].replace({\"<link removed>\": '<linkremoved>'}, inplace=True, regex=True)\n",
    "\n"
   ]
  },
  {
   "cell_type": "code",
   "execution_count": 259,
   "metadata": {},
   "outputs": [
    {
     "data": {
      "text/plain": [
       "0    @virginamerica you know what would be amazingly awesome? bos-fll please!!!!!!! i want to fly with only you.\n",
       "1    @virginamerica i love this graphic. <linkremoved>                                                          \n",
       "2    @virginamerica i'm #elevategold for a good reason: you rock!!                                              \n",
       "3    @virginamerica yes, nearly every time i fly vx this “ear worm” won’t go away :)                            \n",
       "4    @virginamerica congrats on winning the @travelzoo award for best deals from an airline (us) <linkremoved>  \n",
       "Name: texto_completo, dtype: object"
      ]
     },
     "execution_count": 259,
     "metadata": {},
     "output_type": "execute_result"
    }
   ],
   "source": [
    "df['texto_completo'].head()"
   ]
  },
  {
   "cell_type": "code",
   "execution_count": null,
   "metadata": {},
   "outputs": [],
   "source": []
  },
  {
   "cell_type": "markdown",
   "metadata": {},
   "source": [
    "# remove usernames"
   ]
  },
  {
   "cell_type": "code",
   "execution_count": 260,
   "metadata": {},
   "outputs": [],
   "source": [
    "df['texto_completo'].replace({\"@[^\\s]+\": '<usernameremoved>'}, inplace=True, regex=True)"
   ]
  },
  {
   "cell_type": "markdown",
   "metadata": {},
   "source": [
    "# remove duplicates"
   ]
  },
  {
   "cell_type": "code",
   "execution_count": 261,
   "metadata": {},
   "outputs": [
    {
     "data": {
      "text/plain": [
       "3838"
      ]
     },
     "execution_count": 261,
     "metadata": {},
     "output_type": "execute_result"
    }
   ],
   "source": [
    "len(df)"
   ]
  },
  {
   "cell_type": "code",
   "execution_count": 262,
   "metadata": {},
   "outputs": [],
   "source": [
    "df.drop_duplicates(['texto_completo'],keep='first', inplace=True)"
   ]
  },
  {
   "cell_type": "code",
   "execution_count": 263,
   "metadata": {},
   "outputs": [
    {
     "name": "stdout",
     "output_type": "stream",
     "text": [
      "El numero de tweets no duplicados es 3740\n"
     ]
    }
   ],
   "source": [
    "print(\"El numero de tweets no duplicados es\", len(df)) #numero de tweets no duplicados"
   ]
  },
  {
   "cell_type": "code",
   "execution_count": null,
   "metadata": {},
   "outputs": [],
   "source": []
  },
  {
   "cell_type": "code",
   "execution_count": 264,
   "metadata": {},
   "outputs": [],
   "source": [
    "# numero de usuarios\n",
    "#tweets_by_user_data = df.groupby('user.screen_name').agg('size').sort_values(ascending=False).reset_index()\n",
    "#print(\"El numero de usuarios es\",len(tweets_by_user_data))"
   ]
  },
  {
   "cell_type": "markdown",
   "metadata": {},
   "source": [
    "# remove digits, puntuactions, symbols"
   ]
  },
  {
   "cell_type": "code",
   "execution_count": 265,
   "metadata": {},
   "outputs": [
    {
     "data": {
      "text/plain": [
       "'!\"#$%&\\'()*+,-./:;<=>?@[\\\\]^_`{|}~'"
      ]
     },
     "execution_count": 265,
     "metadata": {},
     "output_type": "execute_result"
    }
   ],
   "source": [
    "punctuation"
   ]
  },
  {
   "cell_type": "code",
   "execution_count": 266,
   "metadata": {},
   "outputs": [],
   "source": [
    "punctuation+='¡¿'"
   ]
  },
  {
   "cell_type": "code",
   "execution_count": 267,
   "metadata": {},
   "outputs": [
    {
     "data": {
      "text/plain": [
       "'!\"#$%&\\'()*+,-./:;<=>?@[\\\\]^_`{|}~¡¿'"
      ]
     },
     "execution_count": 267,
     "metadata": {},
     "output_type": "execute_result"
    }
   ],
   "source": [
    "punctuation"
   ]
  },
  {
   "cell_type": "code",
   "execution_count": 268,
   "metadata": {},
   "outputs": [],
   "source": [
    "#Remove digits and puntuaction\n",
    "remove_digits = str.maketrans(digits, ' '*len(digits))#remove_digits = str.maketrans('', '', digits)\n",
    "remove_punctuation = str.maketrans(punctuation, ' '*len(punctuation))#remove_punctuation = str.maketrans('', '', punctuation)\n",
    "remove_hashtags_caracter = str.maketrans('#', ' '*len('#'))\n",
    "#las palabras de los hashtag se mantiene, pero no el simbolo. "
   ]
  },
  {
   "cell_type": "code",
   "execution_count": 269,
   "metadata": {},
   "outputs": [
    {
     "data": {
      "text/plain": [
       "0    <usernameremoved> you know what would be amazingly awesome? bos-fll please!!!!!!! i want to fly with only you.     \n",
       "1    <usernameremoved> i love this graphic. <linkremoved>                                                               \n",
       "2    <usernameremoved> i'm #elevategold for a good reason: you rock!!                                                   \n",
       "3    <usernameremoved> yes, nearly every time i fly vx this “ear worm” won’t go away :)                                 \n",
       "4    <usernameremoved> congrats on winning the <usernameremoved> award for best deals from an airline (us) <linkremoved>\n",
       "Name: texto_completo, dtype: object"
      ]
     },
     "execution_count": 269,
     "metadata": {},
     "output_type": "execute_result"
    }
   ],
   "source": [
    "df['texto_completo'].head()"
   ]
  },
  {
   "cell_type": "code",
   "execution_count": 270,
   "metadata": {},
   "outputs": [],
   "source": [
    "#df['texto_completo'].replace({\"ee.uu\": 'eeuu'}, inplace=True, regex=True)\n"
   ]
  },
  {
   "cell_type": "code",
   "execution_count": 271,
   "metadata": {},
   "outputs": [],
   "source": [
    "#a = df[df['texto_completo'].str.contains('ee.uu', regex = True)]"
   ]
  },
  {
   "cell_type": "code",
   "execution_count": 272,
   "metadata": {},
   "outputs": [],
   "source": [
    "#len(a)+51"
   ]
  },
  {
   "cell_type": "code",
   "execution_count": null,
   "metadata": {},
   "outputs": [],
   "source": []
  },
  {
   "cell_type": "markdown",
   "metadata": {},
   "source": [
    "# Ojo, en Topic modeling no remuevo tildes. Solo lo hago en word embeddings"
   ]
  },
  {
   "cell_type": "code",
   "execution_count": 273,
   "metadata": {},
   "outputs": [],
   "source": [
    "import unidecode\n",
    "\n",
    "data = []\n",
    "for tweet in df['texto_completo']:\n",
    "    tweet = tweet.translate(remove_digits)\n",
    "    #tweet = tweet.lower() it wasn't a good idea,, we lost a lot of\n",
    "    tweet = tweet.translate(remove_punctuation)\n",
    "    tweet = tweet.translate(remove_hashtags_caracter)\n",
    "    tweet = tweet.lower()\n",
    "    #tweet = unidecode.unidecode(tweet)  #esta linea se hacia en word embeddings\n",
    "    #tweet = tweet.strip().split()\n",
    "    #filtered_words = [word for word in tweet if word not in stopWords]\n",
    "    #corpus[id_tweet]= filtered_words\n",
    "    #id_tweet+=1\n",
    "    data.append(tweet)\n"
   ]
  },
  {
   "cell_type": "code",
   "execution_count": 274,
   "metadata": {},
   "outputs": [
    {
     "data": {
      "text/plain": [
       "[' usernameremoved  you know what would be amazingly awesome  bos fll please        i want to fly with only you ',\n",
       " ' usernameremoved  i love this graphic   linkremoved ',\n",
       " ' usernameremoved  i m  elevategold for a good reason  you rock  ',\n",
       " ' usernameremoved  yes  nearly every time i fly vx this “ear worm” won’t go away   ',\n",
       " ' usernameremoved  congrats on winning the  usernameremoved  award for best deals from an airline  us   linkremoved ']"
      ]
     },
     "execution_count": 274,
     "metadata": {},
     "output_type": "execute_result"
    }
   ],
   "source": [
    "data[0:5]"
   ]
  },
  {
   "cell_type": "code",
   "execution_count": null,
   "metadata": {},
   "outputs": [],
   "source": []
  },
  {
   "cell_type": "code",
   "execution_count": null,
   "metadata": {},
   "outputs": [],
   "source": []
  },
  {
   "cell_type": "code",
   "execution_count": 275,
   "metadata": {},
   "outputs": [
    {
     "data": {
      "text/plain": [
       "3740"
      ]
     },
     "execution_count": 275,
     "metadata": {},
     "output_type": "execute_result"
    }
   ],
   "source": [
    "len(data)"
   ]
  },
  {
   "cell_type": "code",
   "execution_count": 276,
   "metadata": {},
   "outputs": [
    {
     "data": {
      "text/plain": [
       "3740"
      ]
     },
     "execution_count": 276,
     "metadata": {},
     "output_type": "execute_result"
    }
   ],
   "source": [
    "len(df)"
   ]
  },
  {
   "cell_type": "code",
   "execution_count": 277,
   "metadata": {},
   "outputs": [
    {
     "name": "stdout",
     "output_type": "stream",
     "text": [
      "' usernameremoved  i love this graphic   linkremoved '\n"
     ]
    }
   ],
   "source": [
    "pprint(data[1])"
   ]
  },
  {
   "cell_type": "markdown",
   "metadata": {},
   "source": [
    "#  Twitter tokenizer"
   ]
  },
  {
   "cell_type": "code",
   "execution_count": 278,
   "metadata": {},
   "outputs": [],
   "source": [
    "from nltk.tokenize import TweetTokenizer"
   ]
  },
  {
   "cell_type": "code",
   "execution_count": 279,
   "metadata": {},
   "outputs": [],
   "source": [
    "tknzr = TweetTokenizer()\n",
    "def sent_to_words(sentences):\n",
    "    for sentence in sentences:\n",
    "        yield(tknzr.tokenize(sentence))\n"
   ]
  },
  {
   "cell_type": "code",
   "execution_count": 280,
   "metadata": {},
   "outputs": [],
   "source": [
    "data_words = list(sent_to_words(data))\n",
    "#0:27"
   ]
  },
  {
   "cell_type": "code",
   "execution_count": 281,
   "metadata": {},
   "outputs": [
    {
     "name": "stdout",
     "output_type": "stream",
     "text": [
      "['usernameremoved', 'i', 'love', 'this', 'graphic', 'linkremoved']\n"
     ]
    }
   ],
   "source": [
    "print(data_words[1])"
   ]
  },
  {
   "cell_type": "code",
   "execution_count": 282,
   "metadata": {},
   "outputs": [
    {
     "name": "stdout",
     "output_type": "stream",
     "text": [
      "['usernameremoved', 'congrats', 'on', 'winning', 'the', 'usernameremoved', 'award', 'for', 'best', 'deals', 'from', 'an', 'airline', 'us', 'linkremoved']\n"
     ]
    }
   ],
   "source": [
    "print(data_words[4])"
   ]
  },
  {
   "cell_type": "code",
   "execution_count": 283,
   "metadata": {},
   "outputs": [
    {
     "name": "stdout",
     "output_type": "stream",
     "text": [
      "['usernameremoved', 'really', 'missed', 'a', 'prime', 'opportunity', 'for', 'men', 'without', 'hats', 'parody', 'there', 'linkremoved']\n"
     ]
    }
   ],
   "source": [
    "print(data_words[5])"
   ]
  },
  {
   "cell_type": "markdown",
   "metadata": {},
   "source": [
    "# Create brigram and trigram models"
   ]
  },
  {
   "cell_type": "code",
   "execution_count": null,
   "metadata": {},
   "outputs": [],
   "source": []
  },
  {
   "cell_type": "code",
   "execution_count": 284,
   "metadata": {},
   "outputs": [
    {
     "name": "stdout",
     "output_type": "stream",
     "text": [
      "['usernameremoved', 'i', 'love', 'this', 'graphic', 'linkremoved']\n"
     ]
    }
   ],
   "source": [
    "# Build the bigram and trigram models\n",
    "#quizas el min count es muy bajo\n",
    "#documentaicon de bigramas \n",
    "#https://www.machinelearningplus.com/nlp/topic-modeling-gensim-python/#3importpackages\n",
    "min_count = 5#int(len(df)*0.03)\n",
    "bigram = gensim.models.Phrases(data_words, min_count=min_count) # higher threshold fewer phrases.\n",
    "trigram = gensim.models.Phrases(bigram[data_words], min_count =min_count)  \n",
    "\n",
    "# Faster way to get a sentence clubbed as a trigram/bigram\n",
    "bigram_mod = gensim.models.phrases.Phraser(bigram)\n",
    "trigram_mod = gensim.models.phrases.Phraser(trigram)\n",
    "\n",
    "# See trigram example\n",
    "print(trigram_mod[bigram_mod[data_words[1]]])"
   ]
  },
  {
   "cell_type": "code",
   "execution_count": 285,
   "metadata": {},
   "outputs": [
    {
     "name": "stdout",
     "output_type": "stream",
     "text": [
      "['usernameremoved', 'you', 'know_what', 'would_be', 'amazingly', 'awesome', 'bos', 'fll', 'please', 'i_want', 'to', 'fly', 'with', 'only', 'you']\n",
      "['usernameremoved', 'i', 'love', 'this', 'graphic', 'linkremoved']\n",
      "['usernameremoved', 'i_m', 'elevategold', 'for', 'a', 'good', 'reason', 'you', 'rock']\n",
      "['usernameremoved', 'yes', 'nearly', 'every_time', 'i', 'fly', 'vx', 'this', '“', 'ear', 'worm', '”', 'won', '’_t', 'go', 'away']\n",
      "['usernameremoved', 'congrats', 'on', 'winning', 'the', 'usernameremoved', 'award', 'for', 'best', 'deals', 'from', 'an', 'airline', 'us', 'linkremoved']\n"
     ]
    }
   ],
   "source": [
    "# See trigram example\n",
    "#print(trigram_mod[bigram_mod[data_words[1]]])\n",
    "for i in range(0,5):\n",
    "    print(trigram_mod[bigram_mod[data_words[i]]])"
   ]
  },
  {
   "cell_type": "code",
   "execution_count": null,
   "metadata": {},
   "outputs": [],
   "source": []
  },
  {
   "cell_type": "markdown",
   "metadata": {},
   "source": [
    "# Remove Stopwords, Make Bigrams and Lemmatize"
   ]
  },
  {
   "cell_type": "code",
   "execution_count": 286,
   "metadata": {},
   "outputs": [],
   "source": [
    "def remove_stopwords(texts):\n",
    "    return [[word for word in simple_preprocess(str(doc)) if word not in stop_words] for doc in texts]\n"
   ]
  },
  {
   "cell_type": "code",
   "execution_count": 287,
   "metadata": {},
   "outputs": [],
   "source": [
    "def make_bigrams(texts):\n",
    "    return [bigram_mod[doc] for doc in texts]\n",
    "\n",
    "def make_trigrams(texts):\n",
    "    return [trigram_mod[bigram_mod[doc]] for doc in texts]\n",
    "\n",
    "def lemmatization(texts, allowed_postags=['NOUN', 'ADJ', 'VERB', 'ADV']):\n",
    "    \"\"\"https://spacy.io/api/annotation\"\"\"\n",
    "    texts_out = []\n",
    "    for sent in texts:\n",
    "        doc = nlp(\" \".join(sent)) \n",
    "        texts_out.append([token.lemma_ for token in doc if token.pos_ in allowed_postags])\n",
    "    return texts_out"
   ]
  },
  {
   "cell_type": "code",
   "execution_count": 288,
   "metadata": {},
   "outputs": [],
   "source": [
    "#%pprint"
   ]
  },
  {
   "cell_type": "code",
   "execution_count": 289,
   "metadata": {},
   "outputs": [],
   "source": [
    "# Remove Stop Words\n",
    "data_words_nostops = remove_stopwords(data_words)#0:33\n"
   ]
  },
  {
   "cell_type": "code",
   "execution_count": 290,
   "metadata": {},
   "outputs": [
    {
     "data": {
      "text/plain": [
       "['know',\n",
       " 'would',\n",
       " 'amazingly',\n",
       " 'awesome',\n",
       " 'bos',\n",
       " 'fll',\n",
       " 'please',\n",
       " 'want',\n",
       " 'fly']"
      ]
     },
     "execution_count": 290,
     "metadata": {},
     "output_type": "execute_result"
    }
   ],
   "source": [
    "data_words_nostops[0]"
   ]
  },
  {
   "cell_type": "code",
   "execution_count": 291,
   "metadata": {},
   "outputs": [],
   "source": [
    "#%pprint\n"
   ]
  },
  {
   "cell_type": "code",
   "execution_count": 292,
   "metadata": {},
   "outputs": [
    {
     "data": {
      "text/plain": [
       "[['know',\n",
       "  'would',\n",
       "  'amazingly',\n",
       "  'awesome',\n",
       "  'bos',\n",
       "  'fll',\n",
       "  'please',\n",
       "  'want',\n",
       "  'fly'],\n",
       " ['love', 'graphic'],\n",
       " ['elevategold', 'good', 'reason', 'rock'],\n",
       " ['yes', 'nearly', 'every', 'time', 'fly', 'vx', 'ear', 'worm', 'go', 'away'],\n",
       " ['congrats', 'winning', 'award', 'best', 'deals', 'airline', 'us'],\n",
       " ['really',\n",
       "  'missed',\n",
       "  'prime',\n",
       "  'opportunity',\n",
       "  'men',\n",
       "  'without',\n",
       "  'hats',\n",
       "  'parody'],\n",
       " ['plz', 'help', 'win', 'bid', 'upgrade', 'flight', 'lax', 'gt', 'sea'],\n",
       " ['nice', 'rt', 'vibe', 'moodlight', 'takeoff', 'touchdown', 'moodlitmonday'],\n",
       " ['applied',\n",
       "  'member',\n",
       "  'inflight',\n",
       "  'crew',\n",
       "  'team',\n",
       "  'im',\n",
       "  'interested',\n",
       "  'flightattendant',\n",
       "  'dreampath'],\n",
       " ['flights', 'leaving', 'dallas', 'la', 'february', 'th']]"
      ]
     },
     "execution_count": 292,
     "metadata": {},
     "output_type": "execute_result"
    }
   ],
   "source": [
    "data_words_nostops[0:10]"
   ]
  },
  {
   "cell_type": "code",
   "execution_count": 293,
   "metadata": {},
   "outputs": [
    {
     "data": {
      "text/plain": [
       "['elevategold', 'good', 'reason', 'rock']"
      ]
     },
     "execution_count": 293,
     "metadata": {},
     "output_type": "execute_result"
    }
   ],
   "source": [
    "data_words_nostops[2]"
   ]
  },
  {
   "cell_type": "code",
   "execution_count": 294,
   "metadata": {},
   "outputs": [],
   "source": [
    "# Form Bigrams\n",
    "data_words_bigrams = make_bigrams(data_words_nostops)\n",
    "# Form Trigrams\n",
    "\n",
    "data_words_trigrams = make_trigrams(data_words_bigrams)\n"
   ]
  },
  {
   "cell_type": "code",
   "execution_count": 295,
   "metadata": {},
   "outputs": [],
   "source": [
    "#%pprint\n",
    "#data_words_trigrams"
   ]
  },
  {
   "cell_type": "markdown",
   "metadata": {},
   "source": [
    "# Inicializar en el idioma correspondiente"
   ]
  },
  {
   "cell_type": "code",
   "execution_count": 296,
   "metadata": {},
   "outputs": [
    {
     "name": "stdout",
     "output_type": "stream",
     "text": [
      "Collecting en_core_web_sm==2.3.1\n",
      "  Downloading https://github.com/explosion/spacy-models/releases/download/en_core_web_sm-2.3.1/en_core_web_sm-2.3.1.tar.gz (12.0 MB)\n",
      "IDIOMA ACTUAL : ENGLISH\n"
     ]
    },
    {
     "name": "stderr",
     "output_type": "stream",
     "text": [
      "ERROR: Exception:\n",
      "Traceback (most recent call last):\n",
      "  File \"C:\\Users\\gonza\\tesisenv\\lib\\site-packages\\pip\\_vendor\\urllib3\\response.py\", line 438, in _error_catcher\n",
      "    yield\n",
      "  File \"C:\\Users\\gonza\\tesisenv\\lib\\site-packages\\pip\\_vendor\\urllib3\\response.py\", line 519, in read\n",
      "    data = self._fp.read(amt) if not fp_closed else b\"\"\n",
      "  File \"C:\\Program Files\\Python39\\lib\\http\\client.py\", line 458, in read\n",
      "    n = self.readinto(b)\n",
      "  File \"C:\\Program Files\\Python39\\lib\\http\\client.py\", line 502, in readinto\n",
      "    n = self.fp.readinto(b)\n",
      "  File \"C:\\Program Files\\Python39\\lib\\socket.py\", line 704, in readinto\n",
      "    return self._sock.recv_into(b)\n",
      "  File \"C:\\Program Files\\Python39\\lib\\ssl.py\", line 1241, in recv_into\n",
      "    return self.read(nbytes, buffer)\n",
      "  File \"C:\\Program Files\\Python39\\lib\\ssl.py\", line 1099, in read\n",
      "    return self._sslobj.read(len, buffer)\n",
      "socket.timeout: The read operation timed out\n",
      "\n",
      "During handling of the above exception, another exception occurred:\n",
      "\n",
      "Traceback (most recent call last):\n",
      "  File \"C:\\Users\\gonza\\tesisenv\\lib\\site-packages\\pip\\_internal\\cli\\base_command.py\", line 189, in _main\n",
      "    status = self.run(options, args)\n",
      "  File \"C:\\Users\\gonza\\tesisenv\\lib\\site-packages\\pip\\_internal\\cli\\req_command.py\", line 178, in wrapper\n",
      "    return func(self, options, args)\n",
      "  File \"C:\\Users\\gonza\\tesisenv\\lib\\site-packages\\pip\\_internal\\commands\\install.py\", line 316, in run\n",
      "    requirement_set = resolver.resolve(\n",
      "  File \"C:\\Users\\gonza\\tesisenv\\lib\\site-packages\\pip\\_internal\\resolution\\resolvelib\\resolver.py\", line 100, in resolve\n",
      "    r = self.factory.make_requirement_from_install_req(\n",
      "  File \"C:\\Users\\gonza\\tesisenv\\lib\\site-packages\\pip\\_internal\\resolution\\resolvelib\\factory.py\", line 301, in make_requirement_from_install_req\n",
      "    cand = self._make_candidate_from_link(\n",
      "  File \"C:\\Users\\gonza\\tesisenv\\lib\\site-packages\\pip\\_internal\\resolution\\resolvelib\\factory.py\", line 167, in _make_candidate_from_link\n",
      "    self._link_candidate_cache[link] = LinkCandidate(\n",
      "  File \"C:\\Users\\gonza\\tesisenv\\lib\\site-packages\\pip\\_internal\\resolution\\resolvelib\\candidates.py\", line 300, in __init__\n",
      "    super().__init__(\n",
      "  File \"C:\\Users\\gonza\\tesisenv\\lib\\site-packages\\pip\\_internal\\resolution\\resolvelib\\candidates.py\", line 144, in __init__\n",
      "    self.dist = self._prepare()\n",
      "  File \"C:\\Users\\gonza\\tesisenv\\lib\\site-packages\\pip\\_internal\\resolution\\resolvelib\\candidates.py\", line 226, in _prepare\n",
      "    dist = self._prepare_distribution()\n",
      "  File \"C:\\Users\\gonza\\tesisenv\\lib\\site-packages\\pip\\_internal\\resolution\\resolvelib\\candidates.py\", line 311, in _prepare_distribution\n",
      "    return self._factory.preparer.prepare_linked_requirement(\n",
      "  File \"C:\\Users\\gonza\\tesisenv\\lib\\site-packages\\pip\\_internal\\operations\\prepare.py\", line 457, in prepare_linked_requirement\n",
      "    return self._prepare_linked_requirement(req, parallel_builds)\n",
      "  File \"C:\\Users\\gonza\\tesisenv\\lib\\site-packages\\pip\\_internal\\operations\\prepare.py\", line 480, in _prepare_linked_requirement\n",
      "    local_file = unpack_url(\n",
      "  File \"C:\\Users\\gonza\\tesisenv\\lib\\site-packages\\pip\\_internal\\operations\\prepare.py\", line 230, in unpack_url\n",
      "    file = get_http_url(\n",
      "  File \"C:\\Users\\gonza\\tesisenv\\lib\\site-packages\\pip\\_internal\\operations\\prepare.py\", line 108, in get_http_url\n",
      "    from_path, content_type = download(link, temp_dir.path)\n",
      "  File \"C:\\Users\\gonza\\tesisenv\\lib\\site-packages\\pip\\_internal\\network\\download.py\", line 163, in __call__\n",
      "    for chunk in chunks:\n",
      "  File \"C:\\Users\\gonza\\tesisenv\\lib\\site-packages\\pip\\_internal\\cli\\progress_bars.py\", line 159, in iter\n",
      "    for x in it:\n",
      "  File \"C:\\Users\\gonza\\tesisenv\\lib\\site-packages\\pip\\_internal\\network\\utils.py\", line 64, in response_chunks\n",
      "    for chunk in response.raw.stream(\n",
      "  File \"C:\\Users\\gonza\\tesisenv\\lib\\site-packages\\pip\\_vendor\\urllib3\\response.py\", line 576, in stream\n",
      "    data = self.read(amt=amt, decode_content=decode_content)\n",
      "  File \"C:\\Users\\gonza\\tesisenv\\lib\\site-packages\\pip\\_vendor\\urllib3\\response.py\", line 541, in read\n",
      "    raise IncompleteRead(self._fp_bytes_read, self.length_remaining)\n",
      "  File \"C:\\Program Files\\Python39\\lib\\contextlib.py\", line 135, in __exit__\n",
      "    self.gen.throw(type, value, traceback)\n",
      "  File \"C:\\Users\\gonza\\tesisenv\\lib\\site-packages\\pip\\_vendor\\urllib3\\response.py\", line 443, in _error_catcher\n",
      "    raise ReadTimeoutError(self._pool, None, \"Read timed out.\")\n",
      "pip._vendor.urllib3.exceptions.ReadTimeoutError: HTTPSConnectionPool(host='github-releases.githubusercontent.com', port=443): Read timed out.\n"
     ]
    }
   ],
   "source": [
    "# Initialize spacy 'en' model, keeping only tagger component (for efficiency)\n",
    "if idioma == 'english':\n",
    "    !python -m spacy download en_core_web_sm\n",
    "    print(\"IDIOMA ACTUAL : ENGLISH\")\n",
    "elif idioma == 'spanish':\n",
    "    !python -m spacy download es\n",
    "    print(\"IDIOMA ACTUAL : SPANISH\")\n",
    "else:\n",
    "    print(\"Error!!!!!!!\")"
   ]
  },
  {
   "cell_type": "code",
   "execution_count": 297,
   "metadata": {},
   "outputs": [
    {
     "name": "stdout",
     "output_type": "stream",
     "text": [
      "IDIOMA ACTUAL : ENGLISH\n"
     ]
    }
   ],
   "source": [
    "if idioma == 'english':\n",
    "    nlp = spacy.load('en_core_web_sm', disable=['parser', 'ner'])\n",
    "    print(\"IDIOMA ACTUAL : ENGLISH\")\n",
    "elif idioma == 'spanish':\n",
    "    nlp = spacy.load('es', disable=['parser', 'ner'])\n",
    "    print(\"IDIOMA ACTUAL : SPANISH\")\n",
    "else:\n",
    "    print(\"ERROR!!\")"
   ]
  },
  {
   "cell_type": "code",
   "execution_count": 298,
   "metadata": {},
   "outputs": [
    {
     "name": "stdout",
     "output_type": "stream",
     "text": [
      "[['know', 'would', 'amazingly', 'awesome', 'bos', 'want', 'fly']]\n"
     ]
    }
   ],
   "source": [
    "\n",
    "# Do lemmatization keeping only noun, adj, vb, adv\n",
    "data_lemmatized = lemmatization(data_words_trigrams, allowed_postags=['NOUN', 'ADJ', 'VERB', 'ADV'])\n",
    "\n",
    "#Aqui aparecen la lista de postags disponibles, https://spacy.io/api/annotation solo lematizaremos en una seleccion\n",
    "\n",
    "print(data_lemmatized[:1])#4:13"
   ]
  },
  {
   "cell_type": "code",
   "execution_count": 299,
   "metadata": {},
   "outputs": [
    {
     "data": {
      "text/plain": [
       "[['know', 'would', 'amazingly', 'awesome', 'bos', 'want', 'fly'],\n",
       " [],\n",
       " ['elevategold', 'good', 'reason', 'rock'],\n",
       " ['nearly', 'fly', 'vx', 'worm', 'go', 'away'],\n",
       " ['congrat', 'win', 'award', 'good', 'deal', 'airline'],\n",
       " ['really', 'miss', 'prime', 'opportunity', 'man', 'hat', 'parody'],\n",
       " ['help', 'win', 'bid', 'upgrade', 'flight', 'lax', 'sea'],\n",
       " ['takeoff', 'touchdown'],\n",
       " ['member',\n",
       "  'crew',\n",
       "  'team',\n",
       "  'be',\n",
       "  'interested',\n",
       "  'flightattendant',\n",
       "  'dreampath'],\n",
       " ['flight', 'leave'],\n",
       " ['try', 'check', 'could', 'status'],\n",
       " ['happen'],\n",
       " ['do', 'do', 'hand'],\n",
       " ['dream'],\n",
       " ['book'],\n",
       " ['know', 'suicide', 'second', 'lead', 'cause', 'death', 'teen'],\n",
       " ['flight', 'leave'],\n",
       " ['awesome', 'fly', 'sit', 'morning', 'way', 'correct', 'bill'],\n",
       " ['email', 'team', 'let', 'know', 'need', 'track', 'number'],\n",
       " ['bring', 'reservation', 'online', 'use', 'book', 'code'],\n",
       " ['flight', 'redirect'],\n",
       " ['watch', 'good', 'student', 'film', 'country', 'foot', 'cmfat', 'foot'],\n",
       " ['today', 'must', 'mean', 'need', 'take', 'trip'],\n",
       " ['entertain'],\n",
       " ['say'],\n",
       " ['first'],\n",
       " ['moodlighte',\n",
       "  'way',\n",
       "  'fly',\n",
       "  'good',\n",
       "  'experience',\n",
       "  'ever',\n",
       "  'cool',\n",
       "  'calm',\n",
       "  'moodlitmonday'],\n",
       " ['fly', 'soon'],\n",
       " ['could', 'start', 'flight', 'end', 'year'],\n",
       " ['hand']]"
      ]
     },
     "execution_count": 299,
     "metadata": {},
     "output_type": "execute_result"
    }
   ],
   "source": [
    "data_lemmatized[:30]"
   ]
  },
  {
   "cell_type": "code",
   "execution_count": 300,
   "metadata": {},
   "outputs": [
    {
     "data": {
      "text/plain": [
       "[]"
      ]
     },
     "execution_count": 300,
     "metadata": {},
     "output_type": "execute_result"
    }
   ],
   "source": [
    "data_lemmatized[1]"
   ]
  },
  {
   "cell_type": "code",
   "execution_count": null,
   "metadata": {},
   "outputs": [],
   "source": []
  },
  {
   "cell_type": "code",
   "execution_count": 301,
   "metadata": {},
   "outputs": [
    {
     "data": {
      "text/plain": [
       "['flight', 'leave']"
      ]
     },
     "execution_count": 301,
     "metadata": {},
     "output_type": "execute_result"
    }
   ],
   "source": [
    "data_lemmatized[9]"
   ]
  },
  {
   "cell_type": "code",
   "execution_count": 302,
   "metadata": {},
   "outputs": [
    {
     "data": {
      "text/plain": [
       "[['know', 'would', 'amazingly', 'awesome', 'bos', 'want', 'fly'],\n",
       " [],\n",
       " ['elevategold', 'good', 'reason', 'rock'],\n",
       " ['nearly', 'fly', 'vx', 'worm', 'go', 'away'],\n",
       " ['congrat', 'win', 'award', 'good', 'deal', 'airline'],\n",
       " ['really', 'miss', 'prime', 'opportunity', 'man', 'hat', 'parody'],\n",
       " ['help', 'win', 'bid', 'upgrade', 'flight', 'lax', 'sea'],\n",
       " ['takeoff', 'touchdown'],\n",
       " ['member',\n",
       "  'crew',\n",
       "  'team',\n",
       "  'be',\n",
       "  'interested',\n",
       "  'flightattendant',\n",
       "  'dreampath'],\n",
       " ['flight', 'leave']]"
      ]
     },
     "execution_count": 302,
     "metadata": {},
     "output_type": "execute_result"
    }
   ],
   "source": [
    "data_lemmatized[:10]"
   ]
  },
  {
   "cell_type": "code",
   "execution_count": 303,
   "metadata": {},
   "outputs": [
    {
     "data": {
      "text/plain": [
       "0     <usernameremoved> you know what would be amazingly awesome? bos-fll please!!!!!!! i want to fly with only you.                              \n",
       "1     <usernameremoved> i love this graphic. <linkremoved>                                                                                        \n",
       "2     <usernameremoved> i'm #elevategold for a good reason: you rock!!                                                                            \n",
       "3     <usernameremoved> yes, nearly every time i fly vx this “ear worm” won’t go away :)                                                          \n",
       "4     <usernameremoved> congrats on winning the <usernameremoved> award for best deals from an airline (us) <linkremoved>                         \n",
       "9     <usernameremoved> really missed a prime opportunity for men without hats parody, there. <linkremoved>                                       \n",
       "10    <usernameremoved> plz help me win my bid upgrade for my flight 2/27 lax---&gt;sea!!!  🍷👍💺✈️                                                 \n",
       "11    nice rt <usernameremoved> vibe with the moodlight from takeoff to touchdown. #moodlitmonday #sciencebehindtheexperience <linkremoved>       \n",
       "12    <usernameremoved> i've applied more then once to be a member of the #inflight crew team...im 100% interested. #flightattendant #dreampath -g\n",
       "13    <usernameremoved> will flights be leaving dallas for la on february 24th?                                                                   \n",
       "Name: texto_completo, dtype: object"
      ]
     },
     "execution_count": 303,
     "metadata": {},
     "output_type": "execute_result"
    }
   ],
   "source": [
    "\n",
    "df['texto_completo'].head(10)"
   ]
  },
  {
   "cell_type": "code",
   "execution_count": 304,
   "metadata": {},
   "outputs": [],
   "source": [
    "#from nltk.stem import WordNetLemmatizer \n",
    "#nltk.download('wordnet') #esto no funciona en español"
   ]
  },
  {
   "cell_type": "code",
   "execution_count": 305,
   "metadata": {},
   "outputs": [],
   "source": [
    "\n",
    "#lemmatizer = WordNetLemmatizer() \n",
    "#def lemmatization_tweets(sentence):\n",
    " #   for word in sentence:\n",
    "  #      yield(lemmatizer.lemmatize(word, pos=\"v\"))\n"
   ]
  },
  {
   "cell_type": "code",
   "execution_count": 306,
   "metadata": {},
   "outputs": [],
   "source": [
    "#prueba = list(lemmatization_tweets(data_words_nostops))\n"
   ]
  },
  {
   "cell_type": "code",
   "execution_count": 307,
   "metadata": {},
   "outputs": [],
   "source": [
    "#prueba[1]"
   ]
  },
  {
   "cell_type": "markdown",
   "metadata": {},
   "source": [
    "# Create dictionary and corpus for topic modeling"
   ]
  },
  {
   "cell_type": "code",
   "execution_count": 308,
   "metadata": {},
   "outputs": [
    {
     "name": "stdout",
     "output_type": "stream",
     "text": [
      "[[(0, 1), (1, 1), (2, 1), (3, 1), (4, 1), (5, 1), (6, 1)]]\n"
     ]
    }
   ],
   "source": [
    "#The two main inputs to the LDA topic model are the dictionary(id2word) and the corpus\n",
    "# Create Dictionary\n",
    "id2word = corpora.Dictionary(data_lemmatized)\n",
    "\n",
    "# Create Corpus\n",
    "texts = data_lemmatized\n",
    "\n",
    "# Term Document Frequency\n",
    "corpus = [id2word.doc2bow(text) for text in texts]\n",
    "\n",
    "# View\n",
    "print(corpus[:1])"
   ]
  },
  {
   "cell_type": "code",
   "execution_count": 309,
   "metadata": {},
   "outputs": [
    {
     "data": {
      "text/plain": [
       "3740"
      ]
     },
     "execution_count": 309,
     "metadata": {},
     "output_type": "execute_result"
    }
   ],
   "source": [
    "id2word.num_docs #NUMERO DE TWEETS PROCESADOS"
   ]
  },
  {
   "cell_type": "code",
   "execution_count": 310,
   "metadata": {},
   "outputs": [
    {
     "name": "stdout",
     "output_type": "stream",
     "text": [
      "El vocabulary size es:  3013\n"
     ]
    }
   ],
   "source": [
    "print(\"El vocabulary size es: \",str(len(id2word)))\n"
   ]
  },
  {
   "cell_type": "markdown",
   "metadata": {},
   "source": [
    "(0, 1) above implies, word id 0 occurs once in the first document."
   ]
  },
  {
   "cell_type": "code",
   "execution_count": 311,
   "metadata": {},
   "outputs": [
    {
     "data": {
      "text/plain": [
       "'amazingly'"
      ]
     },
     "execution_count": 311,
     "metadata": {},
     "output_type": "execute_result"
    }
   ],
   "source": [
    "id2word[0]\n"
   ]
  },
  {
   "cell_type": "code",
   "execution_count": 312,
   "metadata": {},
   "outputs": [
    {
     "data": {
      "text/plain": [
       "[[('amazingly', 1),\n",
       "  ('awesome', 1),\n",
       "  ('bos', 1),\n",
       "  ('fly', 1),\n",
       "  ('know', 1),\n",
       "  ('want', 1),\n",
       "  ('would', 1)]]"
      ]
     },
     "execution_count": 312,
     "metadata": {},
     "output_type": "execute_result"
    }
   ],
   "source": [
    "[[(id2word[id], freq) for id, freq in cp] for cp in corpus[:1]]\n"
   ]
  },
  {
   "cell_type": "markdown",
   "metadata": {},
   "source": [
    "# Gensim - Build the topic model "
   ]
  },
  {
   "cell_type": "code",
   "execution_count": 313,
   "metadata": {},
   "outputs": [],
   "source": [
    "'''\n",
    "lda_model = gensim.models.ldamodel.LdaModel(corpus=corpus,\n",
    "                                           id2word=id2word,\n",
    "                                           num_topics=5, \n",
    "                                           random_state=100,\n",
    "                                           update_every=1,\n",
    "                                           chunksize=100,\n",
    "                                           passes=10,\n",
    "                                           alpha='auto',\n",
    "                                           per_word_topics=True)\n",
    "''';"
   ]
  },
  {
   "cell_type": "markdown",
   "metadata": {},
   "source": [
    "# Gensim - View the topics in LDA model"
   ]
  },
  {
   "cell_type": "code",
   "execution_count": 314,
   "metadata": {},
   "outputs": [],
   "source": [
    "#pprint(lda_model.print_topics())\n",
    "#doc_lda = lda_model[corpus]"
   ]
  },
  {
   "cell_type": "markdown",
   "metadata": {},
   "source": [
    "# Gensim -  Compute Model Perplexity and Coherence Score"
   ]
  },
  {
   "cell_type": "markdown",
   "metadata": {},
   "source": [
    "Model perplexity and topic coherence provide a convenient measure to judge how good a given topic model is."
   ]
  },
  {
   "cell_type": "code",
   "execution_count": 315,
   "metadata": {},
   "outputs": [],
   "source": [
    "# Compute Perplexity\n",
    "#print('\\nPerplexity: ', lda_model.log_perplexity(corpus))  # a measure of how good the model is. lower the better.\n",
    "\n",
    "# Compute Coherence Score\n",
    "#coherence_model_lda = CoherenceModel(model=lda_model, texts=data_lemmatized, dictionary=id2word, coherence='c_v')\n",
    "#coherence_lda = coherence_model_lda.get_coherence()\n",
    "#print('\\nCoherence Score: ', coherence_lda)"
   ]
  },
  {
   "cell_type": "markdown",
   "metadata": {},
   "source": [
    "# Calcular mejor numero de topicos"
   ]
  },
  {
   "cell_type": "code",
   "execution_count": 316,
   "metadata": {},
   "outputs": [],
   "source": [
    "from gensim.test.utils import common_corpus, common_dictionary"
   ]
  },
  {
   "cell_type": "code",
   "execution_count": 317,
   "metadata": {},
   "outputs": [],
   "source": [
    "from gensim.models.wrappers import LdaMallet"
   ]
  },
  {
   "cell_type": "code",
   "execution_count": null,
   "metadata": {},
   "outputs": [],
   "source": []
  },
  {
   "cell_type": "code",
   "execution_count": 318,
   "metadata": {},
   "outputs": [],
   "source": [
    "#Instructions about how to install mallet are available here: http://mallet.cs.umass.edu/download.php\n",
    "\n",
    "'''\n",
    "Windows installation: After unzipping MALLET, set the environment variable %MALLET_HOME% to point to the MALLET directory.\n",
    "In all command line examples, substitute bin\\mallet for bin/mallet.\n",
    "'''\n",
    "import os\n",
    "from gensim.models.wrappers import LdaMallet\n",
    "\n",
    "\n",
    "path_to_mallet_binary = \"C:\\\\mallet-2.0.8\\\\bin\\\\mallet\"\n",
    "os.environ.update({'MALLET_HOME':r'C:\\mallet-2.0.8'}) #OJO!, por alguna razon mallet solo puede estar disponible en esa carpeta\n"
   ]
  },
  {
   "cell_type": "code",
   "execution_count": 319,
   "metadata": {},
   "outputs": [],
   "source": [
    " \n",
    "def compute_coherence_values(dictionary, corpus, texts, list_num_topics,window_size,topn):\n",
    "    print(\"NUMERO DE TOPICOS A CALCULAR\",list_num_topics)\n",
    "    \"\"\"\n",
    "    Compute c_v coherence for various number of topics\n",
    "\n",
    "    Parameters:\n",
    "    ----------\n",
    "    dictionary : Gensim dictionary\n",
    "    corpus : Gensim corpus\n",
    "    texts : List of input texts\n",
    "    limit : Max num of topics\n",
    "\n",
    "    Returns:\n",
    "    -------\n",
    "    model_list : List of LDA topic models\n",
    "    coherence_values : Coherence values corresponding to the LDA model with respective number of topics\n",
    "    \"\"\"\n",
    "    coherence_values = []\n",
    "    model_list = []\n",
    "    \n",
    "    #modificar aqui la lista de valores en las que se desea probar\n",
    "    \n",
    "    #for num_topics in range(start, limit, step):\n",
    "    for num_topics in list_num_topics:\n",
    "        print('num', num_topics)\n",
    "        model = gensim.models.wrappers.LdaMallet(path_to_mallet_binary, corpus=corpus, num_topics=num_topics, id2word=id2word, random_seed=1)\n",
    "        model_list.append(model)\n",
    "        coherencemodel = CoherenceModel(model=model, texts=texts, dictionary=dictionary, coherence='c_v', window_size=window_size, topn=topn)\n",
    "        coherence_values.append(coherencemodel.get_coherence())\n",
    "\n",
    "    return model_list, coherence_values"
   ]
  },
  {
   "cell_type": "code",
   "execution_count": 320,
   "metadata": {},
   "outputs": [
    {
     "name": "stdout",
     "output_type": "stream",
     "text": [
      "NUMERO DE TOPICOS A CALCULAR [1, 2, 3, 4, 5, 6, 7, 8, 9, 10, 11, 12, 13, 14, 15]\n",
      "num 1\n",
      "num 2\n",
      "num 3\n",
      "num 4\n",
      "num 5\n",
      "num 6\n",
      "num 7\n",
      "num 8\n",
      "num 9\n",
      "num 10\n",
      "num 11\n",
      "num 12\n",
      "num 13\n",
      "num 14\n",
      "num 15\n",
      "00:14:20.82\n"
     ]
    }
   ],
   "source": [
    "start = time.time()\n",
    "#list_num_topics= [5,8,11,15,20,50, 100]\n",
    "list_num_topics = [1,2,3,4,5,6,7,8,9,10,11,12,13,14,15]\n",
    "#list_num_topics = [4]\n",
    "topn=20\n",
    "window_size=110\n",
    "model_list, coherence_values = compute_coherence_values(dictionary=id2word, corpus=corpus, texts=data_lemmatized, list_num_topics= list_num_topics,window_size = window_size, topn=topn)\n",
    "#ojo, el numero de start, limit y step no tiene sentido en la linea anterior, se modifican directamente en el algoritmo\n",
    "end = time.time()\n",
    "hours, rem = divmod(end-start, 3600)\n",
    "minutes, seconds = divmod(rem, 60)\n",
    "print(\"{:0>2}:{:0>2}:{:05.2f}\".format(int(hours),int(minutes),seconds))\n",
    "\n",
    "#04:46\n"
   ]
  },
  {
   "cell_type": "code",
   "execution_count": null,
   "metadata": {},
   "outputs": [],
   "source": []
  },
  {
   "cell_type": "code",
   "execution_count": 326,
   "metadata": {},
   "outputs": [
    {
     "data": {
      "image/png": "[encoded data removed]",
      "text/plain": [
       "<Figure size 432x216 with 1 Axes>"
      ]
     },
     "metadata": {
      "needs_background": "light"
     },
     "output_type": "display_data"
    }
   ],
   "source": [
    "# Show graph\n",
    "\n",
    "#x = range(start, limit, step)\n",
    "\n",
    "x = list_num_topics\n",
    "plt.figure(figsize=(6,3))\n",
    "plt.title(\"Coherence Score on airline - scenario 2 - positive and neutral tweets\")\n",
    "plt.plot(x, coherence_values)\n",
    "\n",
    "\n",
    "plt.xlabel(\"Num topics\")\n",
    "plt.ylabel(\"Coherence score\")\n",
    "plt.xticks(x, x)\n",
    "\n",
    "plt.legend((\"coherence_values\"), loc='best')\n",
    "plt.show()"
   ]
  },
  {
   "cell_type": "code",
   "execution_count": 322,
   "metadata": {},
   "outputs": [
    {
     "name": "stdout",
     "output_type": "stream",
     "text": [
      "Num Topics = 1  has Coherence Value of 0.3336\n",
      "Num Topics = 2  has Coherence Value of 0.39\n",
      "Num Topics = 3  has Coherence Value of 0.4048\n",
      "Num Topics = 4  has Coherence Value of 0.4735\n",
      "Num Topics = 5  has Coherence Value of 0.5247\n",
      "Num Topics = 6  has Coherence Value of 0.5128\n",
      "Num Topics = 7  has Coherence Value of 0.523\n",
      "Num Topics = 8  has Coherence Value of 0.5574\n",
      "Num Topics = 9  has Coherence Value of 0.5487\n",
      "Num Topics = 10  has Coherence Value of 0.5825\n",
      "Num Topics = 11  has Coherence Value of 0.591\n",
      "Num Topics = 12  has Coherence Value of 0.5781\n",
      "Num Topics = 13  has Coherence Value of 0.5978\n",
      "Num Topics = 14  has Coherence Value of 0.6169\n",
      "Num Topics = 15  has Coherence Value of 0.6011\n"
     ]
    }
   ],
   "source": [
    "# Print the coherence scores\n",
    "for m, cv in zip(x, coherence_values):\n",
    "    print(\"Num Topics =\", m, \" has Coherence Value of\", round(cv, 4))"
   ]
  },
  {
   "cell_type": "code",
   "execution_count": 327,
   "metadata": {},
   "outputs": [],
   "source": [
    "#save information for later\n",
    "dict_models = dict()\n",
    "dict_models['model_list'] = model_list\n",
    "dict_models['coherence_values'] = coherence_values\n",
    "\n"
   ]
  },
  {
   "cell_type": "code",
   "execution_count": 328,
   "metadata": {},
   "outputs": [],
   "source": [
    "import pickle\n",
    "\n",
    "\n",
    "with open('coherence_and_model_lists_airlines_data_scenario_2_positive_neutral_tweets.pkl', 'wb') as handle:\n",
    "    pickle.dump(dict_models, handle, protocol=4)"
   ]
  },
  {
   "cell_type": "code",
   "execution_count": 215,
   "metadata": {},
   "outputs": [],
   "source": [
    "#coherence_and_model_lists_airlines_data_scenario_1.pkl\n",
    "'''\n",
    "with open('coherence_and_model_lists_airlines_data_scenario_1.pkl', 'rb') as handle:\n",
    "    dict_models = pickle.load(handle)\n",
    "''';"
   ]
  },
  {
   "cell_type": "markdown",
   "metadata": {},
   "source": [
    "# Seleccionar el mejor modelo de los ya realizados"
   ]
  },
  {
   "cell_type": "code",
   "execution_count": 335,
   "metadata": {},
   "outputs": [],
   "source": [
    "#lda_positive_tweets = dict_models['model_list'][4]"
   ]
  },
  {
   "cell_type": "code",
   "execution_count": 330,
   "metadata": {},
   "outputs": [],
   "source": [
    "#lda_negative_tweets = dict_models['model_list'][5]"
   ]
  },
  {
   "cell_type": "code",
   "execution_count": null,
   "metadata": {},
   "outputs": [],
   "source": []
  },
  {
   "cell_type": "markdown",
   "metadata": {},
   "source": [
    "### Visualize topics with PyLDAvis"
   ]
  },
  {
   "cell_type": "code",
   "execution_count": 331,
   "metadata": {},
   "outputs": [],
   "source": [
    "prueba = gensim.models.wrappers.ldamallet.malletmodel2ldamodel(ldamallet)\n"
   ]
  },
  {
   "cell_type": "code",
   "execution_count": 332,
   "metadata": {},
   "outputs": [],
   "source": [
    "pyLDAvis.enable_notebook()\n"
   ]
  },
  {
   "cell_type": "code",
   "execution_count": 333,
   "metadata": {},
   "outputs": [],
   "source": [
    "vis = pyLDAvis.gensim.prepare(prueba, corpus,id2word, mds='pcoa', sort_topics=False, R=30)\n"
   ]
  },
  {
   "cell_type": "code",
   "execution_count": 334,
   "metadata": {},
   "outputs": [
    {
     "data": {
      "text/html": [
       "\n",
       "<link rel=\"stylesheet\" type=\"text/css\" href=\"https://cdn.rawgit.com/bmabey/pyLDAvis/files/ldavis.v1.0.0.css\">\n",
       "\n",
       "\n",
       "<div id=\"ldavis_el2081621865439375684863162790\"></div>\n",
       "<script type=\"text/javascript\">\n",
       "\n",
       "var ldavis_el2081621865439375684863162790_data = {\"mdsDat\": {\"x\": [0.08815588090431568, -0.32558603346075354, 0.06941276198611664, 0.08134986990681974, 0.13289284019179698, -0.24179258333394268, -0.2754804545064232, 0.08027665114452888, 0.12435145261013321, 0.10893137431590791, 0.017185990446869435, -0.004104639091715705, 0.07744547677450675, 0.06696141211184024], \"y\": [0.0039271558582941665, 0.027412796764907214, -0.11116005356320532, -0.21088894381196552, 0.1821940133620089, 0.01721995659007533, 0.014439066759810906, -0.1853270010197787, 0.2465143487782896, -0.009836983520752324, 0.2066599435297519, -0.15012508422289536, 0.05572835627544396, -0.08675757177998418], \"topics\": [1, 2, 3, 4, 5, 6, 7, 8, 9, 10, 11, 12, 13, 14], \"cluster\": [1, 1, 1, 1, 1, 1, 1, 1, 1, 1, 1, 1, 1, 1], \"Freq\": [7.127883419792126, 7.1453544649537415, 7.150758558614269, 7.112870754997222, 7.126986253242494, 7.169471115629195, 7.142287082565391, 7.137172289605028, 7.145752661298872, 7.130338250630455, 7.154164714052066, 7.19616950574769, 7.123617355386582, 7.137173573484866]}, \"tinfo\": {\"Term\": [\"flight\", \"fly\", \"good\", \"great\", \"make\", \"today\", \"love\", \"tomorrow\", \"check\", \"seat\", \"time\", \"back\", \"send\", \"book\", \"change\", \"ticket\", \"travel\", \"plane\", \"airline\", \"cancel\", \"awesome\", \"guy\", \"leave\", \"day\", \"crew\", \"work\", \"number\", \"service\", \"delay\", \"follow\", \"king\", \"calling\", \"allowance\", \"afterall\", \"byod\", \"bless\", \"embossed\", \"march\", \"reduced\", \"locally\", \"dramatically\", \"moneyelsewhere\", \"businessfirst\", \"hell\", \"nature\", \"science\", \"brood\", \"file\", \"directional\", \"marriage\", \"extend\", \"purely\", \"luved\", \"changed\", \"committed\", \"recognize\", \"ripme\", \"southwestrally\", \"joy\", \"perform\", \"check\", \"open\", \"thing\", \"happen\", \"show\", \"status\", \"big\", \"online\", \"employee\", \"phl\", \"include\", \"group\", \"drive\", \"snack\", \"information\", \"report\", \"global\", \"feedback\", \"last_night\", \"ewr\", \"seating\", \"honor\", \"happily\", \"main\", \"tourist\", \"complete\", \"stroller\", \"morning\", \"curious\", \"mile\", \"head\", \"long\", \"expect\", \"sell\", \"visit\", \"peanut\", \"set\", \"dca\", \"gate\", \"line\", \"share\", \"receipt\", \"hotel\", \"short\", \"speedy\", \"account\", \"pm\", \"elite\", \"bluemanity\", \"outsource\", \"ticketed\", \"assign\", \"extra\", \"effort\", \"concert\", \"race\", \"improve\", \"move\", \"moodlitmonday\", \"dining\", \"east\", \"official\", \"train\", \"pleasant\", \"urgent\", \"accompaniment\", \"mia\", \"distinguish\", \"lifesaver\", \"promotion\", \"pleasantly\", \"corny\", \"free\", \"discount\", \"man\", \"girl\", \"frequent\", \"tv\", \"agree\", \"sincerely\", \"coach\", \"mistake\", \"realize\", \"flight\", \"option\", \"raise\", \"deserve\", \"multiple\", \"position\", \"orlando\", \"wait\", \"refund\", \"provide\", \"register\", \"precheck\", \"aa\", \"sunkist\", \"fantastic\", \"coughed\", \"pac\", \"probablynot\", \"milage\", \"power\", \"func\", \"voluntarily\", \"multi\", \"fair\", \"level\", \"kindle\", \"imagine\", \"preemptive\", \"forever\", \"process\", \"cond\", \"structure\", \"inconvenient\", \"aircargo\", \"action\", \"pbi\", \"gate_agent\", \"southw\", \"sweetheart\", \"smile\", \"great\", \"crew\", \"pilot\", \"jetblue\", \"experience\", \"response\", \"idea\", \"bad\", \"landing\", \"smooth\", \"reward\", \"absolutely\", \"begin\", \"phx\", \"front\", \"positive\", \"application\", \"tough\", \"lead\", \"lady\", \"student\", \"pleasure\", \"fit\", \"weather\", \"follow\", \"world\", \"lot\", \"ready\", \"team\", \"perfect\", \"pick\", \"arrive\", \"note\", \"fleek\", \"depart\", \"happy\", \"offering\", \"teach\", \"magazine\", \"meantime\", \"valid\", \"loyalty\", \"timely\", \"spring\", \"merger\", \"waitliste\", \"ordnoise\", \"leisure\", \"every_time\", \"cracker\", \"waiver\", \"character\", \"coworker\", \"careyon\", \"base\", \"southwest\", \"traditionally\", \"outlook\", \"village\", \"aviation\", \"flamethrower\", \"ability\", \"link\", \"mht\", \"bday\", \"paper\", \"love\", \"send\", \"reply\", \"helpful\", \"due\", \"international\", \"figure\", \"outstanding\", \"email\", \"current\", \"military\", \"impress\", \"ice\", \"folk\", \"wifi\", \"meet\", \"companion\", \"local\", \"order\", \"stick\", \"bna\", \"amount\", \"computer\", \"roundtrip\", \"paint\", \"revenue\", \"card\", \"info\", \"give\", \"week\", \"hear\", \"credit\", \"super\", \"flt\", \"priority\", \"detail\", \"arrive\", \"minute\", \"comms\", \"sense\", \"concourse\", \"suite\", \"thatisall\", \"americanforlife\", \"soooo\", \"society\", \"historical\", \"chief\", \"humour\", \"unitedvusa\", \"contradictory\", \"yxu\", \"fingers_crosse\", \"young\", \"united\", \"snowboard\", \"startling\", \"explain\", \"separate\", \"date\", \"stretch\", \"biscuit\", \"technology\", \"fyi\", \"flyswa\", \"traveller\", \"allgood\", \"upcoming\", \"fly\", \"awesome\", \"question\", \"price\", \"rock\", \"assistance\", \"respond\", \"view\", \"lax\", \"confirmation\", \"suppose\", \"brand\", \"dm\", \"track\", \"cut\", \"resolve\", \"license\", \"entertainment\", \"accommodate\", \"aircraft\", \"degree\", \"hang\", \"kindness\", \"early\", \"soft\", \"fact\", \"guy\", \"heart\", \"month\", \"deliver\", \"direct\", \"issue\", \"treat\", \"twitter\", \"excited\", \"totally\", \"long\", \"worry\", \"nocharge\", \"swiss\", \"premiere\", \"snowy\", \"technically\", \"review\", \"flyquiet\", \"jilted\", \"premium\", \"observation\", \"referral\", \"bright\", \"dispatcher\", \"error\", \"delivery\", \"house\", \"half\", \"pro\", \"fra\", \"captain\", \"wheel\", \"warm\", \"latency\", \"happycamper\", \"letter\", \"sister\", \"band\", \"omg\", \"graduation\", \"desperate\", \"passenger\", \"cancel\", \"ago\", \"land\", \"purchase\", \"departure\", \"feel\", \"true\", \"read\", \"kid\", \"rate\", \"close\", \"expire\", \"make_sure\", \"lol\", \"drop\", \"customerservice\", \"jfk\", \"page\", \"eventually\", \"bird\", \"tweeting\", \"wear\", \"decision\", \"day\", \"recovery\", \"past\", \"stressful\", \"philly\", \"time\", \"friend\", \"happy\", \"quickly\", \"speak\", \"access\", \"understand\", \"fix\", \"flight\", \"high\", \"weather\", \"safety\", \"ipad\", \"ahead\", \"sale\", \"cry\", \"winter\", \"resolution\", \"personnel\", \"horrible\", \"boyfriend\", \"host\", \"literally\", \"moment\", \"late\", \"list\", \"den\", \"afternoon\", \"tomorrow\", \"red\", \"affordable\", \"maintenance\", \"ground\", \"feeltheheat\", \"expedient\", \"opening\", \"slot\", \"worksnicely\", \"mission\", \"pr\", \"authoritative\", \"st_class\", \"yesterday\", \"cancellation\", \"class\", \"cheer\", \"mint\", \"winner\", \"fun\", \"jet\", \"prompt\", \"join\", \"lucky\", \"holder\", \"premier\", \"complain\", \"forecast\", \"game\", \"phone\", \"chance\", \"tonight\", \"bag\", \"support\", \"problem\", \"home\", \"worry\", \"safe\", \"share\", \"flight\", \"site\", \"gate\", \"year\", \"team\", \"connection\", \"function\", \"place\", \"invite\", \"password\", \"gfc\", \"interrogate\", \"concept\", \"format\", \"busad\", \"dept\", \"wave\", \"flattering\", \"combine\", \"launch\", \"flight_attendant\", \"fill\", \"aware\", \"extremely\", \"observe\", \"restate\", \"vibrant\", \"accrue\", \"nrt\", \"kosher\", \"luvagent\", \"blow\", \"labor\", \"maverick\", \"grab\", \"tip\", \"today\", \"number\", \"call\", \"add\", \"hope\", \"finally\", \"hour\", \"baggage\", \"excellent\", \"case\", \"traveler\", \"flying\", \"low\", \"claim\", \"service\", \"sort\", \"food\", \"bit\", \"tho\", \"comment\", \"middle\", \"professional\", \"regard\", \"remind\", \"buying\", \"receive\", \"aadvantage\", \"bahama\", \"pass\", \"destination\", \"minute\", \"touch\", \"listen\", \"boarding\", \"safety\", \"give\", \"exp\", \"choose\", \"refunded\", \"dimension\", \"downloaded\", \"rare\", \"prior\", \"log\", \"tomorrow_morne\", \"pat\", \"mn\", \"desperately\", \"min\", \"flyer\", \"talk\", \"terminal\", \"tue\", \"empty\", \"deny\", \"patiently\", \"suck\", \"transpacific\", \"hammer\", \"data\", \"penguin\", \"flypbi\", \"distance\", \"delight\", \"difficult\", \"cheeze\", \"start\", \"people\", \"agent\", \"lose\", \"end\", \"buy\", \"fast\", \"bos\", \"charge\", \"reason\", \"hot\", \"weekend\", \"drink\", \"congrat\", \"foot\", \"city\", \"dragon\", \"notice\", \"automatically\", \"daily\", \"tea\", \"promo\", \"channel\", \"upgrade\", \"care\", \"air\", \"customer\", \"wonderful\", \"rebooke\", \"concern\", \"wait\", \"guy\", \"make\", \"issue\", \"kudo\", \"month\", \"save\", \"vacation\", \"life\", \"enjoy\", \"cabo\", \"reach\", \"retroactively\", \"afiliate\", \"lend\", \"illegal\", \"slow\", \"thai\", \"honour\", \"jac\", \"cable\", \"missing\", \"job\", \"practice\", \"mileage\", \"meh\", \"bwi\", \"centric\", \"steel\", \"asap\", \"bestemployee\", \"gesture\", \"actual\", \"gracia\", \"mke\", \"apology\", \"seat\", \"put\", \"request\", \"carry\", \"live\", \"nee\", \"child\", \"ride\", \"cost\", \"small\", \"method\", \"record\", \"promise\", \"attend\", \"flyingitforward\", \"type\", \"impressed\", \"opportunity\", \"assignment\", \"contact\", \"cool\", \"bring\", \"car\", \"leg\", \"point\", \"top\", \"word\", \"sit\", \"family\", \"win\", \"fare\", \"wait\", \"follow\", \"repaint\", \"sentiment\", \"medallion\", \"fl\", \"cookie\", \"bar\", \"cheap\", \"reduce\", \"accurate\", \"sobewff\", \"warn\", \"nice\", \"similar\", \"validity\", \"canadian\", \"smoothly\", \"mpls\", \"screen\", \"pen\", \"ord\", \"remotely\", \"clt\", \"anchorage\", \"minor\", \"elderly\", \"incoming\", \"employer\", \"commercial\", \"fleet\", \"wedding\", \"staff\", \"plan\", \"route\", \"handle\", \"dal\", \"award\", \"mind\", \"delay\", \"sleep\", \"match\", \"itinerary\", \"office\", \"shout\", \"present\", \"exit\", \"rdu\", \"shuttle\", \"oscar\", \"exist\", \"single\", \"boy\", \"jvmchat\", \"dmed\", \"find\", \"amazing\", \"watch\", \"message\", \"refund\", \"make\", \"real\", \"connection\", \"time\", \"learn\", \"work\", \"accept\", \"bag\", \"family\", \"trip\", \"schedule\", \"morn\", \"burn\", \"pricing\", \"acquire\", \"terrible\", \"shock\", \"frontier\", \"guest\", \"transatlantic\", \"final\", \"unfollow\", \"lhrt\", \"mention\", \"hr\", \"rant\", \"advisory\", \"depression\", \"handshake\", \"medusafriday\", \"research\", \"lifetime\", \"newsbusiness\", \"compatible\", \"heroe\", \"paypal\", \"badly\", \"padresst\", \"covering\", \"vote\", \"ticket\", \"change\", \"travel\", \"airline\", \"return\", \"fee\", \"apply\", \"beautiful\", \"book\", \"domestic\", \"wife\", \"evening\", \"sky\", \"clear\", \"benefit\", \"infant\", \"wine\", \"partner\", \"stress\", \"penalty\", \"segment\", \"pillow\", \"predict\", \"spend\", \"brother\", \"member\", \"offer\", \"special\", \"please_help\", \"year\", \"passbook\", \"bonus\", \"pay\", \"lounge\", \"home\", \"website\", \"stay\", \"display\", \"ilc\", \"die\", \"hail\", \"manage\", \"wheelchair\", \"major\", \"earning\", \"itproblem\", \"hassle\", \"uniform\", \"invalid\", \"certificate\", \"shortly\", \"fine\", \"hoo\", \"alive\", \"annual\", \"rail\", \"heat\", \"agcommunity\", \"company\", \"fall\", \"rr\", \"flythrough\", \"ctr\", \"medically\", \"nearby\", \"swaculture\", \"double\", \"good\", \"policy\", \"easy\", \"luggage\", \"voucher\", \"correct\", \"business\", \"future\", \"cabin\", \"sign\", \"desk\", \"event\", \"original\", \"area\", \"comfortable\", \"husband\", \"turn\", \"trueblue\", \"reservation\", \"trouble\", \"security\", \"advice\", \"takeoff\", \"dream\", \"please_follow\", \"deal\", \"trip\", \"work\", \"miss\", \"break\", \"hard\", \"video\", \"friendly\", \"loyal\", \"pay\", \"cheat\", \"tmrw\", \"inexpensive\", \"understanding\", \"fault\", \"exceptional\", \"dependable\", \"aka\", \"noon\", \"antonio\", \"stranger\", \"iad\", \"safely\", \"inflight\", \"ourguest\", \"sfo\", \"mdw\", \"town\", \"keepem\", \"virgin\", \"tweak\", \"saddening\", \"abt\", \"song\", \"attention\", \"unpredictable\", \"compete\", \"sneverstoppe\", \"vent\", \"back\", \"update\", \"hold\", \"left\", \"huge\", \"connect\", \"storm\", \"row\", \"silver\", \"forget\", \"reference\", \"overhead\", \"celebrate\", \"pair\", \"tomorrow_morning\", \"worker\", \"hubby\", \"mess\", \"serve\", \"kind\", \"grateful\", \"simply\", \"star\", \"leave\", \"plane\", \"selfie\", \"snow\", \"stop\", \"airport\", \"item\", \"birthday\", \"mom\", \"provide\", \"run\", \"thx\", \"usairway\", \"board\", \"post\", \"tweet\", \"condition\", \"system\", \"gold\", \"night\"], \"Freq\": [825.0, 274.0, 200.0, 185.0, 213.0, 153.0, 126.0, 122.0, 122.0, 122.0, 157.0, 117.0, 119.0, 121.0, 115.0, 115.0, 113.0, 115.0, 98.0, 99.0, 95.0, 130.0, 92.0, 86.0, 80.0, 101.0, 76.0, 73.0, 71.0, 89.0, 1.3618855966267402, 1.3618855966267402, 1.3618855966267402, 1.3618855966267402, 1.3618855966267402, 1.3618855966267402, 1.3618855966267402, 1.3618855966267402, 1.3618855966267402, 1.3618855966267402, 1.3618855966267402, 1.3618855966267402, 1.3618855966267402, 1.3618855966267402, 1.3618855966267402, 1.3618855966267402, 1.3618855966267402, 5.447542386506961, 1.3618855966267402, 1.3618855966267402, 2.7237711932534805, 1.3618855966267402, 1.3618855966267402, 1.3618855966267402, 1.3618855966267402, 1.3618855966267402, 1.3618855966267402, 2.7237711932534805, 1.3618855966267402, 1.3618855966267402, 122.56970369640662, 46.30411028530917, 43.58033909205569, 38.13279670554873, 36.77091110892199, 35.40902551229525, 27.237711932534808, 25.87582633590807, 24.513940739281328, 21.790169546027844, 19.066398352774364, 16.342627159520884, 12.256970369640664, 12.256970369640664, 9.533199176387182, 8.171313579760442, 8.171313579760442, 8.171313579760442, 6.809427983133702, 6.809427983133702, 5.447542386506961, 5.447542386506961, 5.447542386506961, 5.447542386506961, 5.447542386506961, 5.447542386506961, 5.447542386506961, 51.75165267181614, 4.085656789880221, 44.94222468868243, 17.704512756147626, 44.94222468868243, 13.618855966267404, 10.895084773013922, 13.618855966267404, 8.171313579760442, 10.895084773013922, 9.533199176387182, 13.618855966267404, 8.171313579760442, 9.533199176387182, 8.171313579760442, 9.546301014117564, 4.091271863193242, 4.091271863193242, 19.092602028235127, 17.728844740504048, 4.091271863193242, 4.091271863193242, 4.091271863193242, 4.091271863193242, 4.091271863193242, 16.36508745277297, 9.546301014117564, 4.091271863193242, 4.091271863193242, 4.091271863193242, 23.183873891428373, 1.3637572877310806, 1.3637572877310806, 1.3637572877310806, 6.818786438655403, 2.7275145754621613, 10.910058301848645, 2.7275145754621613, 1.3637572877310806, 1.3637572877310806, 1.3637572877310806, 1.3637572877310806, 6.818786438655403, 2.7275145754621613, 1.3637572877310806, 50.45901964604999, 12.273815589579726, 12.273815589579726, 10.910058301848645, 6.818786438655403, 6.818786438655403, 6.818786438655403, 5.4550291509243225, 5.4550291509243225, 5.4550291509243225, 5.4550291509243225, 612.3270221912552, 16.36508745277297, 6.818786438655403, 8.182543726386484, 5.4550291509243225, 5.4550291509243225, 5.4550291509243225, 9.546301014117564, 5.4550291509243225, 4.091271863193242, 1.2605340161509673, 1.2605340161509673, 2.5210680323019345, 1.2605340161509673, 18.90801024226451, 1.2605340161509673, 1.2605340161509673, 1.2605340161509673, 1.2605340161509673, 7.563204096905804, 1.2605340161509673, 1.2605340161509673, 1.2605340161509673, 6.302670080754837, 5.042136064603869, 1.2605340161509673, 6.302670080754837, 1.2605340161509673, 6.302670080754837, 10.084272129207738, 1.2605340161509673, 1.2605340161509673, 1.2605340161509673, 1.2605340161509673, 1.2605340161509673, 2.5210680323019345, 5.042136064603869, 1.2605340161509673, 1.2605340161509673, 10.084272129207738, 185.29850037419223, 80.6741770336619, 39.07655450067999, 37.81602048452902, 36.55548646837806, 34.034418436076116, 23.95014630686838, 20.168544258415476, 15.126408193811608, 11.344806145358707, 11.344806145358707, 8.823738113056772, 8.823738113056772, 7.563204096905804, 7.563204096905804, 6.302670080754837, 6.302670080754837, 6.302670080754837, 5.042136064603869, 5.042136064603869, 5.042136064603869, 5.042136064603869, 5.042136064603869, 59.24509875909547, 70.58990490445417, 13.865874177660642, 15.126408193811608, 12.605340161509673, 22.689612290717413, 8.823738113056772, 15.126408193811608, 13.865874177660642, 7.563204096905804, 7.563204096905804, 7.563204096905804, 7.563204096905804, 1.3029752623252187, 2.6059505246504373, 2.6059505246504373, 1.3029752623252187, 1.3029752623252187, 2.6059505246504373, 5.211901049300875, 5.211901049300875, 3.908925786975656, 1.3029752623252187, 1.3029752623252187, 1.3029752623252187, 3.908925786975656, 1.3029752623252187, 5.211901049300875, 1.3029752623252187, 3.908925786975656, 1.3029752623252187, 7.817851573951312, 15.635703147902625, 1.3029752623252187, 1.3029752623252187, 1.3029752623252187, 3.908925786975656, 1.3029752623252187, 1.3029752623252187, 1.3029752623252187, 1.3029752623252187, 2.6059505246504373, 1.3029752623252187, 125.085625183221, 118.5707488715949, 33.87735682045569, 28.66545577115481, 22.150579459528718, 15.635703147902625, 13.029752623252188, 11.726777360926969, 67.75471364091138, 10.42380209860175, 10.42380209860175, 7.817851573951312, 7.817851573951312, 7.817851573951312, 7.817851573951312, 7.817851573951312, 6.514876311626094, 6.514876311626094, 6.514876311626094, 6.514876311626094, 6.514876311626094, 5.211901049300875, 5.211901049300875, 3.908925786975656, 3.908925786975656, 3.908925786975656, 23.453554721853937, 31.27140629580525, 66.45173837858616, 40.39223313208178, 31.27140629580525, 19.544628934878283, 13.029752623252188, 15.635703147902625, 7.817851573951312, 9.120826836276532, 10.42380209860175, 9.120826836276532, 1.2909216996316664, 5.1636867985266655, 1.2909216996316664, 1.2909216996316664, 1.2909216996316664, 1.2909216996316664, 1.2909216996316664, 1.2909216996316664, 1.2909216996316664, 1.2909216996316664, 1.2909216996316664, 1.2909216996316664, 1.2909216996316664, 1.2909216996316664, 10.327373597053331, 5.1636867985266655, 1.2909216996316664, 3.8727650988949986, 1.2909216996316664, 6.454608498158331, 6.454608498158331, 21.945668893738326, 1.2909216996316664, 1.2909216996316664, 1.2909216996316664, 3.8727650988949986, 1.2909216996316664, 1.2909216996316664, 1.2909216996316664, 6.454608498158331, 273.67540032191323, 95.52820577274329, 36.145807589686655, 21.945668893738326, 19.36382549447499, 14.20013869594833, 14.20013869594833, 14.20013869594833, 14.20013869594833, 11.618295296684996, 11.618295296684996, 10.327373597053331, 9.036451897421664, 7.745530197789997, 7.745530197789997, 7.745530197789997, 7.745530197789997, 6.454608498158331, 6.454608498158331, 5.1636867985266655, 5.1636867985266655, 3.8727650988949986, 3.8727650988949986, 50.34594628563498, 3.8727650988949986, 3.8727650988949986, 72.29161517937331, 7.745530197789997, 19.36382549447499, 10.327373597053331, 12.909216996316662, 20.654747194106662, 9.036451897421664, 11.618295296684996, 9.036451897421664, 7.745530197789997, 10.327373597053331, 7.745530197789997, 1.277776652493638, 2.555553304987276, 2.555553304987276, 1.277776652493638, 2.555553304987276, 1.277776652493638, 1.277776652493638, 1.277776652493638, 3.833329957480914, 1.277776652493638, 1.277776652493638, 3.833329957480914, 1.277776652493638, 3.833329957480914, 3.833329957480914, 1.277776652493638, 2.555553304987276, 1.277776652493638, 2.555553304987276, 2.555553304987276, 6.38888326246819, 17.888873134910934, 1.277776652493638, 1.277776652493638, 2.555553304987276, 3.833329957480914, 1.277776652493638, 1.277776652493638, 1.277776652493638, 1.277776652493638, 42.16662953229006, 98.38880224201013, 24.277756397379125, 24.277756397379125, 21.722203092391847, 20.44442643989821, 19.16664978740457, 17.888873134910934, 15.333319829923656, 15.333319829923656, 14.05554317743002, 11.499989872442743, 10.222213219949104, 8.944436567455467, 7.666659914961828, 7.666659914961828, 7.666659914961828, 6.38888326246819, 6.38888326246819, 6.38888326246819, 5.111106609974552, 5.111106609974552, 5.111106609974552, 5.111106609974552, 84.33325906458012, 3.833329957480914, 3.833329957480914, 3.833329957480914, 16.611096482417295, 118.83322868190835, 24.277756397379125, 25.55553304987276, 8.944436567455467, 12.77776652493638, 7.666659914961828, 12.77776652493638, 11.499989872442743, 89.44436567455467, 8.944436567455467, 12.77776652493638, 7.666659914961828, 6.403193701821645, 6.403193701821645, 6.403193701821645, 3.841916221092987, 12.80638740364329, 3.841916221092987, 3.841916221092987, 6.403193701821645, 3.841916221092987, 3.841916221092987, 6.403193701821645, 6.403193701821645, 28.17405228801524, 12.80638740364329, 6.403193701821645, 15.367664884371948, 122.94131907497558, 3.841916221092987, 3.841916221092987, 3.841916221092987, 12.80638740364329, 1.2806387403643291, 1.2806387403643291, 1.2806387403643291, 1.2806387403643291, 1.2806387403643291, 1.2806387403643291, 1.2806387403643291, 1.2806387403643291, 1.2806387403643291, 20.490219845829266, 17.928942365100607, 11.525748663278963, 10.245109922914633, 10.245109922914633, 10.245109922914633, 8.964471182550303, 8.964471182550303, 5.1225549614573165, 5.1225549614573165, 5.1225549614573165, 5.1225549614573165, 5.1225549614573165, 5.1225549614573165, 5.1225549614573165, 5.1225549614573165, 49.94491087420883, 40.98043969165853, 52.506188354937485, 62.75129827785212, 12.80638740364329, 17.928942365100607, 43.54171717238718, 20.490219845829266, 11.525748663278963, 17.928942365100607, 124.2219578153399, 12.80638740364329, 14.08702614400762, 14.08702614400762, 12.80638740364329, 7.683832442185974, 2.625681457846632, 13.128407289233158, 3.9385221867699474, 1.312840728923316, 1.312840728923316, 1.312840728923316, 1.312840728923316, 1.312840728923316, 1.312840728923316, 3.9385221867699474, 1.312840728923316, 1.312840728923316, 6.564203644616579, 1.312840728923316, 17.066929476003107, 7.877044373539895, 1.312840728923316, 5.251362915693264, 1.312840728923316, 1.312840728923316, 1.312840728923316, 1.312840728923316, 1.312840728923316, 1.312840728923316, 1.312840728923316, 1.312840728923316, 1.312840728923316, 1.312840728923316, 1.312840728923316, 1.312840728923316, 153.60236528402797, 76.14476227755232, 65.64203644616579, 60.390673530472526, 51.20078842800932, 43.32374405446942, 40.69806259662279, 34.133858952006214, 15.75408874707979, 15.75408874707979, 13.128407289233158, 13.128407289233158, 13.128407289233158, 13.128407289233158, 72.20624009078237, 10.502725831386527, 9.189885102463212, 7.877044373539895, 7.877044373539895, 6.564203644616579, 6.564203644616579, 6.564203644616579, 5.251362915693264, 3.9385221867699474, 3.9385221867699474, 36.759540409852846, 3.9385221867699474, 3.9385221867699474, 15.75408874707979, 14.441248018156474, 13.128407289233158, 7.877044373539895, 7.877044373539895, 9.189885102463212, 7.877044373539895, 10.502725831386527, 1.2890647618134035, 7.734388570880419, 1.2890647618134035, 1.2890647618134035, 1.2890647618134035, 1.2890647618134035, 1.2890647618134035, 1.2890647618134035, 6.445323809067016, 1.2890647618134035, 2.578129523626807, 3.8671942854402097, 5.156259047253614, 7.734388570880419, 15.468777141760839, 14.179712379947436, 1.2890647618134035, 7.734388570880419, 2.578129523626807, 1.2890647618134035, 3.8671942854402097, 1.2890647618134035, 1.2890647618134035, 1.2890647618134035, 1.2890647618134035, 1.2890647618134035, 1.2890647618134035, 1.2890647618134035, 3.8671942854402097, 1.2890647618134035, 59.29697904341655, 42.53913713984231, 27.070359998081468, 25.781295236268065, 24.492230474454665, 21.91410095082786, 20.625036189014455, 18.046906665387645, 18.046906665387645, 15.468777141760839, 15.468777141760839, 12.890647618134032, 11.601582856320631, 10.312518094507228, 9.023453332693823, 9.023453332693823, 9.023453332693823, 9.023453332693823, 9.023453332693823, 7.734388570880419, 6.445323809067016, 6.445323809067016, 3.8671942854402097, 47.69539618709592, 30.937554283521678, 27.070359998081468, 36.09381333077529, 21.91410095082786, 27.070359998081468, 12.890647618134032, 42.53913713984231, 56.71884951978974, 73.47669142336399, 20.625036189014455, 10.312518094507228, 15.468777141760839, 18.260385198236037, 18.260385198236037, 18.260385198236037, 18.260385198236037, 1.404645015248926, 8.427870091493556, 1.404645015248926, 1.404645015248926, 1.404645015248926, 1.404645015248926, 4.213935045746778, 1.404645015248926, 1.404645015248926, 1.404645015248926, 1.404645015248926, 1.404645015248926, 26.688255289729597, 1.404645015248926, 11.237160121991408, 1.404645015248926, 8.427870091493556, 1.404645015248926, 1.404645015248926, 8.427870091493556, 2.809290030497852, 2.809290030497852, 5.618580060995704, 4.213935045746778, 1.404645015248926, 4.213935045746778, 122.20411632665656, 30.902190335476373, 22.474320243982817, 19.665030213484965, 19.665030213484965, 19.665030213484965, 15.451095167738186, 14.046450152489262, 12.641805137240334, 9.832515106742482, 8.427870091493556, 8.427870091493556, 8.427870091493556, 7.023225076244631, 7.023225076244631, 7.023225076244631, 5.618580060995704, 5.618580060995704, 4.213935045746778, 29.497545320227445, 21.06967522873389, 35.11612538122315, 16.855740182987113, 12.641805137240334, 26.688255289729597, 11.237160121991408, 11.237160121991408, 19.665030213484965, 21.06967522873389, 11.237160121991408, 14.046450152489262, 21.06967522873389, 15.451095167738186, 1.321438178835673, 1.321438178835673, 1.321438178835673, 6.607190894178365, 1.321438178835673, 3.9643145365070196, 9.250067251849712, 1.321438178835673, 3.9643145365070196, 1.321438178835673, 1.321438178835673, 48.893212616919904, 6.607190894178365, 1.321438178835673, 1.321438178835673, 2.642876357671346, 1.321438178835673, 2.642876357671346, 2.642876357671346, 17.17869632486375, 1.321438178835673, 11.892943609521058, 1.321438178835673, 3.9643145365070196, 2.642876357671346, 1.321438178835673, 1.321438178835673, 5.285752715342692, 3.9643145365070196, 3.9643145365070196, 50.21465079575558, 29.07163993438481, 22.464449040206443, 15.857258146028078, 14.535819967192404, 14.535819967192404, 13.21438178835673, 70.03622347829068, 10.571505430685384, 9.250067251849712, 9.250067251849712, 7.928629073014039, 6.607190894178365, 6.607190894178365, 5.285752715342692, 5.285752715342692, 5.285752715342692, 5.285752715342692, 5.285752715342692, 5.285752715342692, 3.9643145365070196, 3.9643145365070196, 3.9643145365070196, 59.46471804760529, 58.14327986876962, 19.8215726825351, 21.14301086137077, 26.42876357671346, 136.10813242007433, 10.571505430685384, 17.17869632486375, 37.00026900739885, 6.607190894178365, 25.10732539787779, 7.928629073014039, 10.571505430685384, 7.928629073014039, 7.928629073014039, 21.759444555652973, 1.279967326803116, 1.279967326803116, 1.279967326803116, 1.279967326803116, 1.279967326803116, 1.279967326803116, 1.279967326803116, 2.559934653606232, 1.279967326803116, 3.8399019804093477, 1.279967326803116, 1.279967326803116, 5.119869307212464, 1.279967326803116, 1.279967326803116, 1.279967326803116, 1.279967326803116, 1.279967326803116, 1.279967326803116, 1.279967326803116, 3.8399019804093477, 1.279967326803116, 1.279967326803116, 1.279967326803116, 1.279967326803116, 3.8399019804093477, 1.279967326803116, 1.279967326803116, 1.279967326803116, 115.19705941228044, 115.19705941228044, 113.91709208547732, 98.55748416383993, 25.59934653606232, 25.59934653606232, 15.35960792163739, 14.079640594834276, 119.03696139268978, 12.79967326803116, 12.79967326803116, 10.239738614424928, 8.959771287621813, 8.959771287621813, 6.39983663401558, 5.119869307212464, 5.119869307212464, 5.119869307212464, 3.8399019804093477, 3.8399019804093477, 3.8399019804093477, 3.8399019804093477, 3.8399019804093477, 3.8399019804093477, 3.8399019804093477, 21.759444555652973, 30.71921584327478, 12.79967326803116, 16.639575248440508, 28.15928118966855, 7.679803960818695, 6.39983663401558, 15.35960792163739, 8.959771287621813, 23.039411882456086, 6.39983663401558, 6.39983663401558, 1.339466209395394, 1.339466209395394, 5.357864837581576, 1.339466209395394, 1.339466209395394, 2.678932418790788, 2.678932418790788, 1.339466209395394, 1.339466209395394, 2.678932418790788, 2.678932418790788, 1.339466209395394, 5.357864837581576, 6.697331046976969, 8.036797256372363, 1.339466209395394, 1.339466209395394, 5.357864837581576, 1.339466209395394, 1.339466209395394, 1.339466209395394, 10.715729675163152, 4.018398628186182, 5.357864837581576, 1.339466209395394, 1.339466209395394, 1.339466209395394, 1.339466209395394, 2.678932418790788, 4.018398628186182, 199.5804651999137, 37.50505386307103, 24.110391769117093, 22.770925559721697, 21.431459350326303, 21.431459350326303, 20.091993140930906, 14.734128303349333, 12.055195884558547, 12.055195884558547, 12.055195884558547, 10.715729675163152, 9.376263465767758, 9.376263465767758, 9.376263465767758, 9.376263465767758, 8.036797256372363, 8.036797256372363, 60.27597942279272, 6.697331046976969, 6.697331046976969, 5.357864837581576, 5.357864837581576, 5.357864837581576, 5.357864837581576, 37.50505386307103, 64.2943780509789, 75.01010772614207, 22.770925559721697, 9.376263465767758, 13.394662093953938, 10.715729675163152, 12.055195884558547, 10.715729675163152, 10.715729675163152, 1.340596588025932, 4.021789764077796, 1.340596588025932, 1.340596588025932, 5.362386352103728, 5.362386352103728, 1.340596588025932, 2.681193176051864, 1.340596588025932, 1.340596588025932, 1.340596588025932, 5.362386352103728, 13.40596588025932, 1.340596588025932, 1.340596588025932, 25.471335172492704, 2.681193176051864, 2.681193176051864, 1.340596588025932, 1.340596588025932, 1.340596588025932, 1.340596588025932, 1.340596588025932, 5.362386352103728, 1.340596588025932, 1.340596588025932, 1.340596588025932, 1.340596588025932, 1.340596588025932, 117.97249974628201, 34.85551128867423, 34.85551128867423, 14.746562468285251, 14.746562468285251, 13.40596588025932, 12.065369292233388, 10.724772704207457, 8.043579528155592, 6.70298294012966, 6.70298294012966, 6.70298294012966, 6.70298294012966, 6.70298294012966, 6.70298294012966, 5.362386352103728, 5.362386352103728, 5.362386352103728, 5.362386352103728, 5.362386352103728, 4.021789764077796, 4.021789764077796, 4.021789764077796, 88.4793748097115, 108.58832363010049, 4.021789764077796, 29.493124936570503, 24.130738584466776, 38.877301052752024, 12.065369292233388, 12.065369292233388, 12.065369292233388, 20.108948820388978, 18.768352232363046, 12.065369292233388, 9.384176116181523, 20.108948820388978, 9.384176116181523, 13.40596588025932, 9.384176116181523, 8.043579528155592, 8.043579528155592, 10.724772704207457], \"Total\": [825.0, 274.0, 200.0, 185.0, 213.0, 153.0, 126.0, 122.0, 122.0, 122.0, 157.0, 117.0, 119.0, 121.0, 115.0, 115.0, 113.0, 115.0, 98.0, 99.0, 95.0, 130.0, 92.0, 86.0, 80.0, 101.0, 76.0, 73.0, 71.0, 89.0, 1.3618855966267402, 1.3618855966267402, 1.3618855966267402, 1.3618855966267402, 1.3618855966267402, 1.3618855966267402, 1.3618855966267402, 1.3618855966267402, 1.3618855966267402, 1.3618855966267402, 1.3618855966267402, 1.3618855966267402, 1.3618855966267402, 1.3618855966267402, 1.3618855966267402, 1.3618855966267402, 1.3618855966267402, 5.447542386506961, 1.3618855966267402, 1.3618855966267402, 2.7237711932534805, 1.3618855966267402, 1.3618855966267402, 1.3618855966267402, 1.3618855966267402, 1.3618855966267402, 1.3618855966267402, 2.7237711932534805, 1.3618855966267402, 1.3618855966267402, 122.56970369640662, 46.30411028530917, 43.58033909205569, 38.13279670554873, 36.77091110892199, 35.40902551229525, 27.237711932534808, 25.87582633590807, 24.513940739281328, 21.790169546027844, 19.066398352774364, 16.342627159520884, 12.256970369640664, 12.256970369640664, 9.533199176387182, 8.171313579760442, 8.171313579760442, 8.171313579760442, 6.809427983133702, 6.809427983133702, 5.447542386506961, 5.447542386506961, 5.447542386506961, 5.447542386506961, 5.447542386506961, 5.447542386506961, 5.447542386506961, 53.03229141218047, 4.085656789880221, 46.2331463883141, 19.04397896554302, 55.26959828573576, 14.921831228592623, 12.186006472645587, 16.346370541729566, 9.492751758596114, 14.76784987190892, 12.342489206885034, 32.91254260511063, 10.753156979023775, 28.801607750883182, 12.038507865200652, 9.546301014117564, 4.091271863193242, 4.091271863193242, 19.092602028235127, 17.728844740504048, 4.091271863193242, 4.091271863193242, 4.091271863193242, 4.091271863193242, 4.091271863193242, 16.36508745277297, 9.546301014117564, 4.091271863193242, 4.091271863193242, 4.091271863193242, 23.183873891428373, 1.3637572877310806, 1.3637572877310806, 1.3637572877310806, 6.818786438655403, 2.7275145754621613, 10.910058301848645, 2.7275145754621613, 1.3637572877310806, 1.3637572877310806, 1.3637572877310806, 1.3637572877310806, 6.818786438655403, 2.7275145754621613, 1.3637572877310806, 50.45901964604999, 12.273815589579726, 12.273815589579726, 10.910058301848645, 6.818786438655403, 6.818786438655403, 6.818786438655403, 5.4550291509243225, 5.4550291509243225, 5.4550291509243225, 5.4550291509243225, 825.9933456811498, 20.303609639542916, 8.107851200468806, 13.427090722044758, 6.71556316707529, 6.744093912737726, 9.446802298638426, 73.15511338269376, 31.883792727637783, 25.604865698831148, 1.2605340161509673, 1.2605340161509673, 2.5210680323019345, 1.2605340161509673, 18.90801024226451, 1.2605340161509673, 1.2605340161509673, 1.2605340161509673, 1.2605340161509673, 7.563204096905804, 1.2605340161509673, 1.2605340161509673, 1.2605340161509673, 6.302670080754837, 5.042136064603869, 1.2605340161509673, 6.302670080754837, 1.2605340161509673, 6.302670080754837, 10.084272129207738, 1.2605340161509673, 1.2605340161509673, 1.2605340161509673, 1.2605340161509673, 1.2605340161509673, 2.5210680323019345, 5.042136064603869, 1.2605340161509673, 1.2605340161509673, 10.084272129207738, 185.29850037419223, 80.6741770336619, 39.07655450067999, 37.81602048452902, 36.55548646837806, 34.034418436076116, 23.95014630686838, 20.168544258415476, 15.126408193811608, 11.344806145358707, 11.344806145358707, 8.823738113056772, 8.823738113056772, 7.563204096905804, 7.563204096905804, 6.302670080754837, 6.302670080754837, 6.302670080754837, 5.042136064603869, 5.042136064603869, 5.042136064603869, 5.042136064603869, 5.042136064603869, 73.42751029928078, 89.9597261838451, 16.675164208158492, 18.99360247925182, 15.414630192007525, 38.130278602119695, 10.126713375381991, 22.94477397970102, 24.28967627626239, 8.866179359231023, 10.118757401893081, 10.21788308426855, 33.118737146778564, 1.3029752623252187, 2.6059505246504373, 2.6059505246504373, 1.3029752623252187, 1.3029752623252187, 2.6059505246504373, 5.211901049300875, 5.211901049300875, 3.908925786975656, 1.3029752623252187, 1.3029752623252187, 1.3029752623252187, 3.908925786975656, 1.3029752623252187, 5.211901049300875, 1.3029752623252187, 3.908925786975656, 1.3029752623252187, 7.817851573951312, 15.635703147902625, 1.3029752623252187, 1.3029752623252187, 1.3029752623252187, 3.908925786975656, 1.3029752623252187, 1.3029752623252187, 1.3029752623252187, 1.3029752623252187, 2.6059505246504373, 1.3029752623252187, 126.44938247095207, 119.93450615932598, 33.87735682045569, 28.66545577115481, 22.150579459528718, 15.635703147902625, 13.029752623252188, 11.726777360926969, 69.0353523812757, 10.42380209860175, 10.42380209860175, 7.817851573951312, 7.817851573951312, 7.817851573951312, 7.817851573951312, 7.817851573951312, 6.514876311626094, 6.514876311626094, 6.514876311626094, 6.514876311626094, 6.514876311626094, 5.211901049300875, 5.211901049300875, 3.908925786975656, 3.908925786975656, 3.908925786975656, 24.81544031848068, 33.99517748905873, 76.95446420997268, 47.415458208326406, 36.557159011147945, 22.353918965376135, 15.596594037559228, 20.75557245511509, 10.373404878938588, 15.818157883253502, 24.28967627626239, 22.249234125509687, 1.2909216996316664, 5.1636867985266655, 1.2909216996316664, 1.2909216996316664, 1.2909216996316664, 1.2909216996316664, 1.2909216996316664, 1.2909216996316664, 1.2909216996316664, 1.2909216996316664, 1.2909216996316664, 1.2909216996316664, 1.2909216996316664, 1.2909216996316664, 10.327373597053331, 5.1636867985266655, 1.2909216996316664, 3.8727650988949986, 1.2909216996316664, 6.454608498158331, 6.454608498158331, 21.945668893738326, 1.2909216996316664, 1.2909216996316664, 1.2909216996316664, 3.8727650988949986, 1.2909216996316664, 1.2909216996316664, 1.2909216996316664, 6.454608498158331, 274.98824105083656, 95.52820577274329, 36.145807589686655, 21.945668893738326, 19.36382549447499, 14.20013869594833, 14.20013869594833, 14.20013869594833, 14.20013869594833, 11.618295296684996, 11.618295296684996, 10.327373597053331, 9.036451897421664, 7.745530197789997, 7.745530197789997, 7.745530197789997, 7.745530197789997, 6.454608498158331, 6.454608498158331, 5.1636867985266655, 5.1636867985266655, 3.8727650988949986, 3.8727650988949986, 53.02713946168684, 3.8727650988949986, 3.8727650988949986, 130.41510971441195, 9.084996407185391, 34.83260263623583, 14.169289818146318, 19.676248363669316, 42.540317399272084, 11.760223090675144, 19.287145885956303, 14.360521431144875, 11.76392882597618, 55.26959828573576, 28.235750043619262, 1.277776652493638, 2.555553304987276, 2.555553304987276, 1.277776652493638, 2.555553304987276, 1.277776652493638, 1.277776652493638, 1.277776652493638, 3.833329957480914, 1.277776652493638, 1.277776652493638, 3.833329957480914, 1.277776652493638, 3.833329957480914, 3.833329957480914, 1.277776652493638, 2.555553304987276, 1.277776652493638, 2.555553304987276, 2.555553304987276, 6.38888326246819, 17.888873134910934, 1.277776652493638, 1.277776652493638, 2.555553304987276, 3.833329957480914, 1.277776652493638, 1.277776652493638, 1.277776652493638, 1.277776652493638, 42.16662953229006, 99.66876956881325, 24.277756397379125, 24.277756397379125, 21.722203092391847, 20.44442643989821, 19.16664978740457, 17.888873134910934, 15.333319829923656, 15.333319829923656, 14.05554317743002, 11.499989872442743, 10.222213219949104, 8.944436567455467, 7.666659914961828, 7.666659914961828, 7.666659914961828, 6.38888326246819, 6.38888326246819, 6.38888326246819, 5.111106609974552, 5.111106609974552, 5.111106609974552, 5.111106609974552, 86.91138858820693, 3.833329957480914, 3.833329957480914, 3.833329957480914, 18.01574149766622, 157.1364729516324, 29.640142749482855, 33.118737146778564, 10.204970583606434, 17.989667574237256, 8.946627241764944, 19.138736537647663, 18.014866184068836, 825.9933456811498, 12.817201666350465, 73.42751029928078, 15.543704288501722, 6.403193701821645, 6.403193701821645, 6.403193701821645, 3.841916221092987, 12.80638740364329, 3.841916221092987, 3.841916221092987, 6.403193701821645, 3.841916221092987, 3.841916221092987, 6.403193701821645, 6.403193701821645, 28.17405228801524, 12.80638740364329, 6.403193701821645, 15.367664884371948, 122.94131907497558, 3.841916221092987, 3.841916221092987, 3.841916221092987, 12.80638740364329, 1.2806387403643291, 1.2806387403643291, 1.2806387403643291, 1.2806387403643291, 1.2806387403643291, 1.2806387403643291, 1.2806387403643291, 1.2806387403643291, 1.2806387403643291, 20.490219845829266, 17.928942365100607, 11.525748663278963, 10.245109922914633, 10.245109922914633, 10.245109922914633, 8.964471182550303, 8.964471182550303, 5.1225549614573165, 5.1225549614573165, 5.1225549614573165, 5.1225549614573165, 5.1225549614573165, 5.1225549614573165, 5.1225549614573165, 5.1225549614573165, 52.46597890651076, 43.663763467120944, 61.779341034708544, 76.02602720566398, 14.119228132566606, 20.73823239559846, 66.58112905484327, 28.235750043619262, 14.092590077586003, 28.801607750883182, 825.9933456811498, 20.843184660015652, 32.91254260511063, 42.24630733367617, 38.130278602119695, 26.151593528863128, 2.625681457846632, 13.128407289233158, 3.9385221867699474, 1.312840728923316, 1.312840728923316, 1.312840728923316, 1.312840728923316, 1.312840728923316, 1.312840728923316, 3.9385221867699474, 1.312840728923316, 1.312840728923316, 6.564203644616579, 1.312840728923316, 17.066929476003107, 7.877044373539895, 1.312840728923316, 5.251362915693264, 1.312840728923316, 1.312840728923316, 1.312840728923316, 1.312840728923316, 1.312840728923316, 1.312840728923316, 1.312840728923316, 1.312840728923316, 1.312840728923316, 1.312840728923316, 1.312840728923316, 1.312840728923316, 153.60236528402797, 76.14476227755232, 65.64203644616579, 60.390673530472526, 51.20078842800932, 43.32374405446942, 40.69806259662279, 34.133858952006214, 15.75408874707979, 15.75408874707979, 13.128407289233158, 13.128407289233158, 13.128407289233158, 13.128407289233158, 73.49716179041404, 10.502725831386527, 9.189885102463212, 7.877044373539895, 7.877044373539895, 6.564203644616579, 6.564203644616579, 6.564203644616579, 5.251362915693264, 3.9385221867699474, 3.9385221867699474, 39.45325018691518, 3.9385221867699474, 3.9385221867699474, 18.332218270706598, 17.250538048654327, 22.249234125509687, 10.482994898190332, 13.303297751446047, 24.97153867657132, 15.543704288501722, 76.95446420997268, 1.2890647618134035, 7.734388570880419, 1.2890647618134035, 1.2890647618134035, 1.2890647618134035, 1.2890647618134035, 1.2890647618134035, 1.2890647618134035, 6.445323809067016, 1.2890647618134035, 2.578129523626807, 3.8671942854402097, 5.156259047253614, 7.734388570880419, 15.468777141760839, 14.179712379947436, 1.2890647618134035, 7.734388570880419, 2.578129523626807, 1.2890647618134035, 3.8671942854402097, 1.2890647618134035, 1.2890647618134035, 1.2890647618134035, 1.2890647618134035, 1.2890647618134035, 1.2890647618134035, 1.2890647618134035, 3.8671942854402097, 1.2890647618134035, 59.29697904341655, 42.53913713984231, 27.070359998081468, 25.781295236268065, 24.492230474454665, 21.91410095082786, 20.625036189014455, 18.046906665387645, 18.046906665387645, 15.468777141760839, 15.468777141760839, 12.890647618134032, 11.601582856320631, 10.312518094507228, 9.023453332693823, 9.023453332693823, 9.023453332693823, 9.023453332693823, 9.023453332693823, 7.734388570880419, 6.445323809067016, 6.445323809067016, 3.8671942854402097, 48.99837144942114, 32.217521610324795, 29.6522033973448, 40.30774837652207, 24.47403560443409, 30.90368995556238, 14.193622880459252, 73.15511338269376, 130.41510971441195, 213.41815380091924, 42.540317399272084, 11.651984303902621, 34.83260263623583, 18.260385198236037, 18.260385198236037, 18.260385198236037, 18.260385198236037, 1.404645015248926, 8.427870091493556, 1.404645015248926, 1.404645015248926, 1.404645015248926, 1.404645015248926, 4.213935045746778, 1.404645015248926, 1.404645015248926, 1.404645015248926, 1.404645015248926, 1.404645015248926, 26.688255289729597, 1.404645015248926, 11.237160121991408, 1.404645015248926, 8.427870091493556, 1.404645015248926, 1.404645015248926, 8.427870091493556, 2.809290030497852, 2.809290030497852, 5.618580060995704, 4.213935045746778, 1.404645015248926, 4.213935045746778, 122.20411632665656, 30.902190335476373, 22.474320243982817, 19.665030213484965, 19.665030213484965, 19.665030213484965, 15.451095167738186, 14.046450152489262, 12.641805137240334, 9.832515106742482, 8.427870091493556, 8.427870091493556, 8.427870091493556, 7.023225076244631, 7.023225076244631, 7.023225076244631, 5.618580060995704, 5.618580060995704, 4.213935045746778, 30.778184060591773, 22.409141438129282, 39.07269072468066, 18.219497470718192, 13.930869899053738, 34.57237816349396, 12.517798862355738, 12.558598300827082, 26.11035402255198, 28.99830430174793, 12.57775671001734, 20.61065379710584, 73.15511338269376, 89.9597261838451, 1.321438178835673, 1.321438178835673, 1.321438178835673, 6.607190894178365, 1.321438178835673, 3.9643145365070196, 9.250067251849712, 1.321438178835673, 3.9643145365070196, 1.321438178835673, 1.321438178835673, 48.893212616919904, 6.607190894178365, 1.321438178835673, 1.321438178835673, 2.642876357671346, 1.321438178835673, 2.642876357671346, 2.642876357671346, 17.17869632486375, 1.321438178835673, 11.892943609521058, 1.321438178835673, 3.9643145365070196, 2.642876357671346, 1.321438178835673, 1.321438178835673, 5.285752715342692, 3.9643145365070196, 3.9643145365070196, 50.21465079575558, 29.07163993438481, 22.464449040206443, 15.857258146028078, 14.535819967192404, 14.535819967192404, 13.21438178835673, 71.3391987406159, 10.571505430685384, 9.250067251849712, 9.250067251849712, 7.928629073014039, 6.607190894178365, 6.607190894178365, 5.285752715342692, 5.285752715342692, 5.285752715342692, 5.285752715342692, 5.285752715342692, 5.285752715342692, 3.9643145365070196, 3.9643145365070196, 3.9643145365070196, 65.08329810860099, 63.59082225527658, 21.16103889193049, 23.87052543683293, 31.883792727637783, 213.41815380091924, 11.860570192498788, 26.151593528863128, 157.1364729516324, 7.969076490805105, 101.52207813926879, 12.0161575539986, 76.02602720566398, 28.99830430174793, 72.22300712399294, 21.759444555652973, 1.279967326803116, 1.279967326803116, 1.279967326803116, 1.279967326803116, 1.279967326803116, 1.279967326803116, 1.279967326803116, 2.559934653606232, 1.279967326803116, 3.8399019804093477, 1.279967326803116, 1.279967326803116, 5.119869307212464, 1.279967326803116, 1.279967326803116, 1.279967326803116, 1.279967326803116, 1.279967326803116, 1.279967326803116, 1.279967326803116, 3.8399019804093477, 1.279967326803116, 1.279967326803116, 1.279967326803116, 1.279967326803116, 3.8399019804093477, 1.279967326803116, 1.279967326803116, 1.279967326803116, 115.19705941228044, 115.19705941228044, 113.91709208547732, 98.55748416383993, 25.59934653606232, 25.59934653606232, 15.35960792163739, 14.079640594834276, 121.64291191734021, 12.79967326803116, 12.79967326803116, 10.239738614424928, 8.959771287621813, 8.959771287621813, 6.39983663401558, 5.119869307212464, 5.119869307212464, 5.119869307212464, 3.8399019804093477, 3.8399019804093477, 3.8399019804093477, 3.8399019804093477, 3.8399019804093477, 3.8399019804093477, 3.8399019804093477, 23.0400832960173, 33.27476914826206, 14.0774499205248, 19.36708982390267, 42.24630733367617, 8.957580613312334, 7.688901395828983, 26.075337596800544, 14.171672336922686, 66.58112905484327, 15.414863945260329, 15.421959297935375, 1.339466209395394, 1.339466209395394, 5.357864837581576, 1.339466209395394, 1.339466209395394, 2.678932418790788, 2.678932418790788, 1.339466209395394, 1.339466209395394, 2.678932418790788, 2.678932418790788, 1.339466209395394, 5.357864837581576, 6.697331046976969, 8.036797256372363, 1.339466209395394, 1.339466209395394, 5.357864837581576, 1.339466209395394, 1.339466209395394, 1.339466209395394, 10.715729675163152, 4.018398628186182, 5.357864837581576, 1.339466209395394, 1.339466209395394, 1.339466209395394, 1.339466209395394, 2.678932418790788, 4.018398628186182, 200.8695299617271, 37.50505386307103, 24.110391769117093, 22.770925559721697, 21.431459350326303, 21.431459350326303, 20.091993140930906, 14.734128303349333, 12.055195884558547, 12.055195884558547, 12.055195884558547, 10.715729675163152, 9.376263465767758, 9.376263465767758, 9.376263465767758, 9.376263465767758, 8.036797256372363, 8.036797256372363, 61.55375607528636, 6.697331046976969, 6.697331046976969, 5.357864837581576, 5.357864837581576, 5.357864837581576, 5.357864837581576, 38.845650451096965, 72.22300712399294, 101.52207813926879, 29.568264181832678, 10.636797481918725, 17.27948075554249, 13.297573074426484, 17.384917602462465, 14.58849477405815, 26.075337596800544, 1.340596588025932, 4.021789764077796, 1.340596588025932, 1.340596588025932, 5.362386352103728, 5.362386352103728, 1.340596588025932, 2.681193176051864, 1.340596588025932, 1.340596588025932, 1.340596588025932, 5.362386352103728, 13.40596588025932, 1.340596588025932, 1.340596588025932, 25.471335172492704, 2.681193176051864, 2.681193176051864, 1.340596588025932, 1.340596588025932, 1.340596588025932, 1.340596588025932, 1.340596588025932, 5.362386352103728, 1.340596588025932, 1.340596588025932, 1.340596588025932, 1.340596588025932, 1.340596588025932, 117.97249974628201, 34.85551128867423, 34.85551128867423, 14.746562468285251, 14.746562468285251, 13.40596588025932, 12.065369292233388, 10.724772704207457, 8.043579528155592, 6.70298294012966, 6.70298294012966, 6.70298294012966, 6.70298294012966, 6.70298294012966, 6.70298294012966, 5.362386352103728, 5.362386352103728, 5.362386352103728, 5.362386352103728, 5.362386352103728, 4.021789764077796, 4.021789764077796, 4.021789764077796, 92.4846660376673, 115.15252727471707, 4.021789764077796, 30.897769951819427, 25.41980334628018, 43.98840766272657, 13.386807471069062, 13.404835501628781, 13.42912657996447, 25.604865698831148, 24.05410494770574, 14.69105075008002, 10.78882113143045, 28.038108158099295, 11.9397294211688, 22.431276150771406, 12.193466146679375, 9.356420257078907, 10.771094103617752, 24.785188761371288], \"Category\": [\"Default\", \"Default\", \"Default\", \"Default\", \"Default\", \"Default\", \"Default\", \"Default\", \"Default\", \"Default\", \"Default\", \"Default\", \"Default\", \"Default\", \"Default\", \"Default\", \"Default\", \"Default\", \"Default\", \"Default\", \"Default\", \"Default\", \"Default\", \"Default\", \"Default\", \"Default\", \"Default\", \"Default\", \"Default\", \"Default\", \"Topic1\", \"Topic1\", \"Topic1\", \"Topic1\", \"Topic1\", \"Topic1\", \"Topic1\", \"Topic1\", \"Topic1\", \"Topic1\", \"Topic1\", \"Topic1\", \"Topic1\", \"Topic1\", \"Topic1\", \"Topic1\", \"Topic1\", \"Topic1\", \"Topic1\", \"Topic1\", \"Topic1\", \"Topic1\", \"Topic1\", \"Topic1\", \"Topic1\", \"Topic1\", \"Topic1\", \"Topic1\", \"Topic1\", \"Topic1\", \"Topic1\", \"Topic1\", \"Topic1\", \"Topic1\", \"Topic1\", \"Topic1\", \"Topic1\", \"Topic1\", \"Topic1\", \"Topic1\", \"Topic1\", \"Topic1\", \"Topic1\", \"Topic1\", \"Topic1\", \"Topic1\", \"Topic1\", \"Topic1\", \"Topic1\", \"Topic1\", \"Topic1\", \"Topic1\", \"Topic1\", \"Topic1\", \"Topic1\", \"Topic1\", \"Topic1\", \"Topic1\", \"Topic1\", \"Topic1\", \"Topic1\", \"Topic1\", \"Topic1\", \"Topic1\", \"Topic1\", \"Topic1\", \"Topic1\", \"Topic1\", \"Topic1\", \"Topic1\", \"Topic1\", \"Topic1\", \"Topic2\", \"Topic2\", \"Topic2\", \"Topic2\", \"Topic2\", \"Topic2\", \"Topic2\", \"Topic2\", \"Topic2\", \"Topic2\", \"Topic2\", \"Topic2\", \"Topic2\", \"Topic2\", \"Topic2\", \"Topic2\", \"Topic2\", \"Topic2\", \"Topic2\", \"Topic2\", \"Topic2\", \"Topic2\", \"Topic2\", \"Topic2\", \"Topic2\", \"Topic2\", \"Topic2\", \"Topic2\", \"Topic2\", \"Topic2\", \"Topic2\", \"Topic2\", \"Topic2\", \"Topic2\", \"Topic2\", \"Topic2\", \"Topic2\", \"Topic2\", \"Topic2\", \"Topic2\", \"Topic2\", \"Topic2\", \"Topic2\", \"Topic2\", \"Topic2\", \"Topic2\", \"Topic2\", \"Topic2\", \"Topic2\", \"Topic2\", \"Topic2\", \"Topic3\", \"Topic3\", \"Topic3\", \"Topic3\", \"Topic3\", \"Topic3\", \"Topic3\", \"Topic3\", \"Topic3\", \"Topic3\", \"Topic3\", \"Topic3\", \"Topic3\", \"Topic3\", \"Topic3\", \"Topic3\", \"Topic3\", \"Topic3\", \"Topic3\", \"Topic3\", \"Topic3\", \"Topic3\", \"Topic3\", \"Topic3\", \"Topic3\", \"Topic3\", \"Topic3\", \"Topic3\", \"Topic3\", \"Topic3\", \"Topic3\", \"Topic3\", \"Topic3\", \"Topic3\", \"Topic3\", \"Topic3\", \"Topic3\", \"Topic3\", \"Topic3\", \"Topic3\", \"Topic3\", \"Topic3\", \"Topic3\", \"Topic3\", \"Topic3\", \"Topic3\", \"Topic3\", \"Topic3\", \"Topic3\", \"Topic3\", \"Topic3\", \"Topic3\", \"Topic3\", \"Topic3\", \"Topic3\", \"Topic3\", \"Topic3\", \"Topic3\", \"Topic3\", \"Topic3\", \"Topic3\", \"Topic3\", \"Topic3\", \"Topic3\", \"Topic3\", \"Topic3\", \"Topic4\", \"Topic4\", \"Topic4\", \"Topic4\", \"Topic4\", \"Topic4\", \"Topic4\", \"Topic4\", \"Topic4\", \"Topic4\", \"Topic4\", \"Topic4\", \"Topic4\", \"Topic4\", \"Topic4\", \"Topic4\", \"Topic4\", \"Topic4\", \"Topic4\", \"Topic4\", \"Topic4\", \"Topic4\", \"Topic4\", \"Topic4\", \"Topic4\", \"Topic4\", \"Topic4\", \"Topic4\", \"Topic4\", \"Topic4\", \"Topic4\", \"Topic4\", \"Topic4\", \"Topic4\", \"Topic4\", \"Topic4\", \"Topic4\", \"Topic4\", \"Topic4\", \"Topic4\", \"Topic4\", \"Topic4\", \"Topic4\", \"Topic4\", \"Topic4\", \"Topic4\", \"Topic4\", \"Topic4\", \"Topic4\", \"Topic4\", \"Topic4\", \"Topic4\", \"Topic4\", \"Topic4\", \"Topic4\", \"Topic4\", \"Topic4\", \"Topic4\", \"Topic4\", \"Topic4\", \"Topic4\", \"Topic4\", \"Topic4\", \"Topic4\", \"Topic4\", \"Topic4\", \"Topic4\", \"Topic4\", \"Topic5\", \"Topic5\", \"Topic5\", \"Topic5\", \"Topic5\", \"Topic5\", \"Topic5\", \"Topic5\", \"Topic5\", \"Topic5\", \"Topic5\", \"Topic5\", \"Topic5\", \"Topic5\", \"Topic5\", \"Topic5\", \"Topic5\", \"Topic5\", \"Topic5\", \"Topic5\", \"Topic5\", \"Topic5\", \"Topic5\", \"Topic5\", \"Topic5\", \"Topic5\", \"Topic5\", \"Topic5\", \"Topic5\", \"Topic5\", \"Topic5\", \"Topic5\", \"Topic5\", \"Topic5\", \"Topic5\", \"Topic5\", \"Topic5\", \"Topic5\", \"Topic5\", \"Topic5\", \"Topic5\", \"Topic5\", \"Topic5\", \"Topic5\", \"Topic5\", \"Topic5\", \"Topic5\", \"Topic5\", \"Topic5\", \"Topic5\", \"Topic5\", \"Topic5\", \"Topic5\", \"Topic5\", \"Topic5\", \"Topic5\", \"Topic5\", \"Topic5\", \"Topic5\", \"Topic5\", \"Topic5\", \"Topic5\", \"Topic5\", \"Topic5\", \"Topic5\", \"Topic5\", \"Topic5\", \"Topic5\", \"Topic6\", \"Topic6\", \"Topic6\", \"Topic6\", \"Topic6\", \"Topic6\", \"Topic6\", \"Topic6\", \"Topic6\", \"Topic6\", \"Topic6\", \"Topic6\", \"Topic6\", \"Topic6\", \"Topic6\", \"Topic6\", \"Topic6\", \"Topic6\", \"Topic6\", \"Topic6\", \"Topic6\", \"Topic6\", \"Topic6\", \"Topic6\", \"Topic6\", \"Topic6\", \"Topic6\", \"Topic6\", \"Topic6\", \"Topic6\", \"Topic6\", \"Topic6\", \"Topic6\", \"Topic6\", \"Topic6\", \"Topic6\", \"Topic6\", \"Topic6\", \"Topic6\", \"Topic6\", \"Topic6\", \"Topic6\", \"Topic6\", \"Topic6\", \"Topic6\", \"Topic6\", \"Topic6\", \"Topic6\", \"Topic6\", \"Topic6\", \"Topic6\", \"Topic6\", \"Topic6\", \"Topic6\", \"Topic6\", \"Topic6\", \"Topic6\", \"Topic6\", \"Topic6\", \"Topic6\", \"Topic6\", \"Topic6\", \"Topic6\", \"Topic6\", \"Topic6\", \"Topic6\", \"Topic6\", \"Topic6\", \"Topic6\", \"Topic6\", \"Topic6\", \"Topic7\", \"Topic7\", \"Topic7\", \"Topic7\", \"Topic7\", \"Topic7\", \"Topic7\", \"Topic7\", \"Topic7\", \"Topic7\", \"Topic7\", \"Topic7\", \"Topic7\", \"Topic7\", \"Topic7\", \"Topic7\", \"Topic7\", \"Topic7\", \"Topic7\", \"Topic7\", \"Topic7\", \"Topic7\", \"Topic7\", \"Topic7\", \"Topic7\", \"Topic7\", \"Topic7\", \"Topic7\", \"Topic7\", \"Topic7\", \"Topic7\", \"Topic7\", \"Topic7\", \"Topic7\", \"Topic7\", \"Topic7\", \"Topic7\", \"Topic7\", \"Topic7\", \"Topic7\", \"Topic7\", \"Topic7\", \"Topic7\", \"Topic7\", \"Topic7\", \"Topic7\", \"Topic7\", \"Topic7\", \"Topic7\", \"Topic7\", \"Topic7\", \"Topic7\", \"Topic7\", \"Topic7\", \"Topic7\", \"Topic7\", \"Topic7\", \"Topic7\", \"Topic7\", \"Topic7\", \"Topic7\", \"Topic7\", \"Topic8\", \"Topic8\", \"Topic8\", \"Topic8\", \"Topic8\", \"Topic8\", \"Topic8\", \"Topic8\", \"Topic8\", \"Topic8\", \"Topic8\", \"Topic8\", \"Topic8\", \"Topic8\", \"Topic8\", \"Topic8\", \"Topic8\", \"Topic8\", \"Topic8\", \"Topic8\", \"Topic8\", \"Topic8\", \"Topic8\", \"Topic8\", \"Topic8\", \"Topic8\", \"Topic8\", \"Topic8\", \"Topic8\", \"Topic8\", \"Topic8\", \"Topic8\", \"Topic8\", \"Topic8\", \"Topic8\", \"Topic8\", \"Topic8\", \"Topic8\", \"Topic8\", \"Topic8\", \"Topic8\", \"Topic8\", \"Topic8\", \"Topic8\", \"Topic8\", \"Topic8\", \"Topic8\", \"Topic8\", \"Topic8\", \"Topic8\", \"Topic8\", \"Topic8\", \"Topic8\", \"Topic8\", \"Topic8\", \"Topic8\", \"Topic8\", \"Topic8\", \"Topic8\", \"Topic8\", \"Topic8\", \"Topic8\", \"Topic8\", \"Topic8\", \"Topic8\", \"Topic8\", \"Topic9\", \"Topic9\", \"Topic9\", \"Topic9\", \"Topic9\", \"Topic9\", \"Topic9\", \"Topic9\", \"Topic9\", \"Topic9\", \"Topic9\", \"Topic9\", \"Topic9\", \"Topic9\", \"Topic9\", \"Topic9\", \"Topic9\", \"Topic9\", \"Topic9\", \"Topic9\", \"Topic9\", \"Topic9\", \"Topic9\", \"Topic9\", \"Topic9\", \"Topic9\", \"Topic9\", \"Topic9\", \"Topic9\", \"Topic9\", \"Topic9\", \"Topic9\", \"Topic9\", \"Topic9\", \"Topic9\", \"Topic9\", \"Topic9\", \"Topic9\", \"Topic9\", \"Topic9\", \"Topic9\", \"Topic9\", \"Topic9\", \"Topic9\", \"Topic9\", \"Topic9\", \"Topic9\", \"Topic9\", \"Topic9\", \"Topic9\", \"Topic9\", \"Topic9\", \"Topic9\", \"Topic9\", \"Topic9\", \"Topic9\", \"Topic9\", \"Topic9\", \"Topic9\", \"Topic9\", \"Topic9\", \"Topic9\", \"Topic9\", \"Topic9\", \"Topic9\", \"Topic9\", \"Topic10\", \"Topic10\", \"Topic10\", \"Topic10\", \"Topic10\", \"Topic10\", \"Topic10\", \"Topic10\", \"Topic10\", \"Topic10\", \"Topic10\", \"Topic10\", \"Topic10\", \"Topic10\", \"Topic10\", \"Topic10\", \"Topic10\", \"Topic10\", \"Topic10\", \"Topic10\", \"Topic10\", \"Topic10\", \"Topic10\", \"Topic10\", \"Topic10\", \"Topic10\", \"Topic10\", \"Topic10\", \"Topic10\", \"Topic10\", \"Topic10\", \"Topic10\", \"Topic10\", \"Topic10\", \"Topic10\", \"Topic10\", \"Topic10\", \"Topic10\", \"Topic10\", \"Topic10\", \"Topic10\", \"Topic10\", \"Topic10\", \"Topic10\", \"Topic10\", \"Topic10\", \"Topic10\", \"Topic10\", \"Topic10\", \"Topic10\", \"Topic10\", \"Topic10\", \"Topic10\", \"Topic10\", \"Topic10\", \"Topic10\", \"Topic10\", \"Topic10\", \"Topic10\", \"Topic10\", \"Topic10\", \"Topic10\", \"Topic10\", \"Topic11\", \"Topic11\", \"Topic11\", \"Topic11\", \"Topic11\", \"Topic11\", \"Topic11\", \"Topic11\", \"Topic11\", \"Topic11\", \"Topic11\", \"Topic11\", \"Topic11\", \"Topic11\", \"Topic11\", \"Topic11\", \"Topic11\", \"Topic11\", \"Topic11\", \"Topic11\", \"Topic11\", \"Topic11\", \"Topic11\", \"Topic11\", \"Topic11\", \"Topic11\", \"Topic11\", \"Topic11\", \"Topic11\", \"Topic11\", \"Topic11\", \"Topic11\", \"Topic11\", \"Topic11\", \"Topic11\", \"Topic11\", \"Topic11\", \"Topic11\", \"Topic11\", \"Topic11\", \"Topic11\", \"Topic11\", \"Topic11\", \"Topic11\", \"Topic11\", \"Topic11\", \"Topic11\", \"Topic11\", \"Topic11\", \"Topic11\", \"Topic11\", \"Topic11\", \"Topic11\", \"Topic11\", \"Topic11\", \"Topic11\", \"Topic11\", \"Topic11\", \"Topic11\", \"Topic11\", \"Topic11\", \"Topic11\", \"Topic11\", \"Topic11\", \"Topic11\", \"Topic11\", \"Topic11\", \"Topic11\", \"Topic12\", \"Topic12\", \"Topic12\", \"Topic12\", \"Topic12\", \"Topic12\", \"Topic12\", \"Topic12\", \"Topic12\", \"Topic12\", \"Topic12\", \"Topic12\", \"Topic12\", \"Topic12\", \"Topic12\", \"Topic12\", \"Topic12\", \"Topic12\", \"Topic12\", \"Topic12\", \"Topic12\", \"Topic12\", \"Topic12\", \"Topic12\", \"Topic12\", \"Topic12\", \"Topic12\", \"Topic12\", \"Topic12\", \"Topic12\", \"Topic12\", \"Topic12\", \"Topic12\", \"Topic12\", \"Topic12\", \"Topic12\", \"Topic12\", \"Topic12\", \"Topic12\", \"Topic12\", \"Topic12\", \"Topic12\", \"Topic12\", \"Topic12\", \"Topic12\", \"Topic12\", \"Topic12\", \"Topic12\", \"Topic12\", \"Topic12\", \"Topic12\", \"Topic12\", \"Topic12\", \"Topic12\", \"Topic12\", \"Topic12\", \"Topic12\", \"Topic12\", \"Topic12\", \"Topic12\", \"Topic12\", \"Topic12\", \"Topic12\", \"Topic12\", \"Topic12\", \"Topic12\", \"Topic12\", \"Topic13\", \"Topic13\", \"Topic13\", \"Topic13\", \"Topic13\", \"Topic13\", \"Topic13\", \"Topic13\", \"Topic13\", \"Topic13\", \"Topic13\", \"Topic13\", \"Topic13\", \"Topic13\", \"Topic13\", \"Topic13\", \"Topic13\", \"Topic13\", \"Topic13\", \"Topic13\", \"Topic13\", \"Topic13\", \"Topic13\", \"Topic13\", \"Topic13\", \"Topic13\", \"Topic13\", \"Topic13\", \"Topic13\", \"Topic13\", \"Topic13\", \"Topic13\", \"Topic13\", \"Topic13\", \"Topic13\", \"Topic13\", \"Topic13\", \"Topic13\", \"Topic13\", \"Topic13\", \"Topic13\", \"Topic13\", \"Topic13\", \"Topic13\", \"Topic13\", \"Topic13\", \"Topic13\", \"Topic13\", \"Topic13\", \"Topic13\", \"Topic13\", \"Topic13\", \"Topic13\", \"Topic13\", \"Topic13\", \"Topic13\", \"Topic13\", \"Topic13\", \"Topic13\", \"Topic13\", \"Topic13\", \"Topic13\", \"Topic13\", \"Topic13\", \"Topic13\", \"Topic14\", \"Topic14\", \"Topic14\", \"Topic14\", \"Topic14\", \"Topic14\", \"Topic14\", \"Topic14\", \"Topic14\", \"Topic14\", \"Topic14\", \"Topic14\", \"Topic14\", \"Topic14\", \"Topic14\", \"Topic14\", \"Topic14\", \"Topic14\", \"Topic14\", \"Topic14\", \"Topic14\", \"Topic14\", \"Topic14\", \"Topic14\", \"Topic14\", \"Topic14\", \"Topic14\", \"Topic14\", \"Topic14\", \"Topic14\", \"Topic14\", \"Topic14\", \"Topic14\", \"Topic14\", \"Topic14\", \"Topic14\", \"Topic14\", \"Topic14\", \"Topic14\", \"Topic14\", \"Topic14\", \"Topic14\", \"Topic14\", \"Topic14\", \"Topic14\", \"Topic14\", \"Topic14\", \"Topic14\", \"Topic14\", \"Topic14\", \"Topic14\", \"Topic14\", \"Topic14\", \"Topic14\", \"Topic14\", \"Topic14\", \"Topic14\", \"Topic14\", \"Topic14\", \"Topic14\", \"Topic14\", \"Topic14\", \"Topic14\", \"Topic14\", \"Topic14\", \"Topic14\", \"Topic14\", \"Topic14\", \"Topic14\", \"Topic14\", \"Topic14\", \"Topic14\"], \"logprob\": [30.0, 29.0, 28.0, 27.0, 26.0, 25.0, 24.0, 23.0, 22.0, 21.0, 20.0, 19.0, 18.0, 17.0, 16.0, 15.0, 14.0, 13.0, 12.0, 11.0, 10.0, 9.0, 8.0, 7.0, 6.0, 5.0, 4.0, 3.0, 2.0, 1.0, -6.8352, -6.8352, -6.8352, -6.8352, -6.8352, -6.8352, -6.8352, -6.8352, -6.8352, -6.8352, -6.8352, -6.8352, -6.8352, -6.8352, -6.8352, -6.8352, -6.8352, -5.4489, -6.8352, -6.8352, -6.142, -6.8352, -6.8352, -6.8352, -6.8352, -6.8352, -6.8352, -6.142, -6.8352, -6.8352, -2.3354, -3.3088, -3.3694, -3.503, -3.5393, -3.5771, -3.8395, -3.8907, -3.9448, -4.0626, -4.1961, -4.3503, -4.638, -4.638, -4.8893, -5.0434, -5.0434, -5.0434, -5.2257, -5.2257, -5.4489, -5.4489, -5.4489, -5.4489, -5.4489, -5.4489, -5.4489, -3.1976, -5.7366, -3.3387, -4.2702, -3.3387, -4.5326, -4.7557, -4.5326, -5.0434, -4.7557, -4.8893, -4.5326, -5.0434, -4.8893, -5.0434, -4.8903, -5.7376, -5.7376, -4.1972, -4.2713, -5.7376, -5.7376, -5.7376, -5.7376, -5.7376, -4.3514, -4.8903, -5.7376, -5.7376, -5.7376, -4.003, -6.8363, -6.8363, -6.8363, -5.2268, -6.1431, -4.7568, -6.1431, -6.8363, -6.8363, -6.8363, -6.8363, -5.2268, -6.1431, -6.8363, -3.2253, -4.639, -4.639, -4.7568, -5.2268, -5.2268, -5.2268, -5.45, -5.45, -5.45, -5.45, -0.7292, -4.3514, -5.2268, -5.0445, -5.45, -5.45, -5.45, -4.8903, -5.45, -5.7376, -6.9157, -6.9157, -6.2226, -6.9157, -4.2077, -6.9157, -6.9157, -6.9157, -6.9157, -5.124, -6.9157, -6.9157, -6.9157, -5.3063, -5.5294, -6.9157, -5.3063, -6.9157, -5.3063, -4.8363, -6.9157, -6.9157, -6.9157, -6.9157, -6.9157, -6.2226, -5.5294, -6.9157, -6.9157, -4.8363, -1.9253, -2.7568, -3.4817, -3.5145, -3.5484, -3.6199, -3.9713, -4.1431, -4.4308, -4.7185, -4.7185, -4.9698, -4.9698, -5.124, -5.124, -5.3063, -5.3063, -5.3063, -5.5294, -5.5294, -5.5294, -5.5294, -5.5294, -3.0656, -2.8904, -4.5178, -4.4308, -4.6131, -4.0254, -4.9698, -4.4308, -4.5178, -5.124, -5.124, -5.124, -5.124, -6.8773, -6.1841, -6.1841, -6.8773, -6.8773, -6.1841, -5.491, -5.491, -5.7787, -6.8773, -6.8773, -6.8773, -5.7787, -6.8773, -5.491, -6.8773, -5.7787, -6.8773, -5.0855, -4.3924, -6.8773, -6.8773, -6.8773, -5.7787, -6.8773, -6.8773, -6.8773, -6.8773, -6.1841, -6.8773, -2.3129, -2.3664, -3.6192, -3.7863, -4.0441, -4.3924, -4.5747, -4.6801, -2.9261, -4.7979, -4.7979, -5.0855, -5.0855, -5.0855, -5.0855, -5.0855, -5.2679, -5.2679, -5.2679, -5.2679, -5.2679, -5.491, -5.491, -5.7787, -5.7787, -5.7787, -3.9869, -3.6992, -2.9455, -3.4433, -3.6992, -4.1692, -4.5747, -4.3924, -5.0855, -4.9314, -4.7979, -4.9314, -6.8886, -5.5023, -6.8886, -6.8886, -6.8886, -6.8886, -6.8886, -6.8886, -6.8886, -6.8886, -6.8886, -6.8886, -6.8886, -6.8886, -4.8091, -5.5023, -6.8886, -5.79, -6.8886, -5.2791, -5.2791, -4.0554, -6.8886, -6.8886, -6.8886, -5.79, -6.8886, -6.8886, -6.8886, -5.2791, -1.532, -2.5845, -3.5564, -4.0554, -4.1805, -4.4907, -4.4907, -4.4907, -4.4907, -4.6913, -4.6913, -4.8091, -4.9427, -5.0968, -5.0968, -5.0968, -5.0968, -5.2791, -5.2791, -5.5023, -5.5023, -5.79, -5.79, -3.225, -5.79, -5.79, -2.8632, -5.0968, -4.1805, -4.8091, -4.586, -4.116, -4.9427, -4.6913, -4.9427, -5.0968, -4.8091, -5.0968, -6.9048, -6.2116, -6.2116, -6.9048, -6.2116, -6.9048, -6.9048, -6.9048, -5.8061, -6.9048, -6.9048, -5.8061, -6.9048, -5.8061, -5.8061, -6.9048, -6.2116, -6.9048, -6.2116, -6.2116, -5.2953, -4.2657, -6.9048, -6.9048, -6.2116, -5.8061, -6.9048, -6.9048, -6.9048, -6.9048, -3.4082, -2.5609, -3.9603, -3.9603, -4.0715, -4.1322, -4.1967, -4.2657, -4.4198, -4.4198, -4.5069, -4.7075, -4.8253, -4.9588, -5.113, -5.113, -5.113, -5.2953, -5.2953, -5.2953, -5.5185, -5.5185, -5.5185, -5.5185, -2.7151, -5.8061, -5.8061, -5.8061, -4.3398, -2.3722, -3.9603, -3.909, -4.9588, -4.6022, -5.113, -4.6022, -4.7075, -2.6563, -4.9588, -4.6022, -5.113, -5.2893, -5.2893, -5.2893, -5.8001, -4.5961, -5.8001, -5.8001, -5.2893, -5.8001, -5.8001, -5.2893, -5.2893, -3.8077, -4.5961, -5.2893, -4.4138, -2.3344, -5.8001, -5.8001, -5.8001, -4.5961, -6.8987, -6.8987, -6.8987, -6.8987, -6.8987, -6.8987, -6.8987, -6.8987, -6.8987, -4.1261, -4.2597, -4.7015, -4.8193, -4.8193, -4.8193, -4.9528, -4.9528, -5.5124, -5.5124, -5.5124, -5.5124, -5.5124, -5.5124, -5.5124, -5.5124, -3.2352, -3.433, -3.1851, -3.0069, -4.5961, -4.2597, -3.3724, -4.1261, -4.7015, -4.2597, -2.324, -4.5961, -4.5008, -4.5008, -4.5961, -5.107, -6.18, -4.5706, -5.7746, -6.8732, -6.8732, -6.8732, -6.8732, -6.8732, -6.8732, -5.7746, -6.8732, -6.8732, -5.2637, -6.8732, -4.3082, -5.0814, -6.8732, -5.4869, -6.8732, -6.8732, -6.8732, -6.8732, -6.8732, -6.8732, -6.8732, -6.8732, -6.8732, -6.8732, -6.8732, -6.8732, -2.111, -2.8127, -2.9611, -3.0445, -3.2096, -3.3767, -3.4392, -3.6151, -4.3883, -4.3883, -4.5706, -4.5706, -4.5706, -4.5706, -2.8658, -4.7937, -4.9273, -5.0814, -5.0814, -5.2637, -5.2637, -5.2637, -5.4869, -5.7746, -5.7746, -3.541, -5.7746, -5.7746, -4.3883, -4.4753, -4.5706, -5.0814, -5.0814, -4.9273, -5.0814, -4.7937, -6.8926, -5.1009, -6.8926, -6.8926, -6.8926, -6.8926, -6.8926, -6.8926, -5.2832, -6.8926, -6.1995, -5.794, -5.5063, -5.1009, -4.4077, -4.4947, -6.8926, -5.1009, -6.1995, -6.8926, -5.794, -6.8926, -6.8926, -6.8926, -6.8926, -6.8926, -6.8926, -6.8926, -5.794, -6.8926, -3.064, -3.3961, -3.8481, -3.8969, -3.9482, -4.0594, -4.1201, -4.2536, -4.2536, -4.4077, -4.4077, -4.5901, -4.6954, -4.8132, -4.9467, -4.9467, -4.9467, -4.9467, -4.9467, -5.1009, -5.2832, -5.2832, -5.794, -3.2817, -3.7146, -3.8481, -3.5604, -4.0594, -3.8481, -4.5901, -3.3961, -3.1085, -2.8496, -4.1201, -4.8132, -4.4077, -4.2397, -4.2397, -4.2397, -4.2397, -6.8046, -5.0129, -6.8046, -6.8046, -6.8046, -6.8046, -5.706, -6.8046, -6.8046, -6.8046, -6.8046, -6.8046, -3.8602, -6.8046, -4.7252, -6.8046, -5.0129, -6.8046, -6.8046, -5.0129, -6.1115, -6.1115, -5.4183, -5.706, -6.8046, -5.706, -2.3387, -3.7136, -4.032, -4.1656, -4.1656, -4.1656, -4.4067, -4.502, -4.6074, -4.8587, -5.0129, -5.0129, -5.0129, -5.1952, -5.1952, -5.1952, -5.4183, -5.4183, -5.706, -3.7601, -4.0966, -3.5857, -4.3197, -4.6074, -3.8602, -4.7252, -4.7252, -4.1656, -4.0966, -4.7252, -4.502, -4.0966, -4.4067, -6.869, -6.869, -6.869, -5.2596, -6.869, -5.7704, -4.9231, -6.869, -5.7704, -6.869, -6.869, -3.2581, -5.2596, -6.869, -6.869, -6.1759, -6.869, -6.1759, -6.1759, -4.3041, -6.869, -4.6718, -6.869, -5.7704, -6.1759, -6.869, -6.869, -5.4827, -5.7704, -5.7704, -3.2314, -3.778, -4.0358, -4.3841, -4.4711, -4.4711, -4.5664, -2.8987, -4.7896, -4.9231, -4.9231, -5.0773, -5.2596, -5.2596, -5.4827, -5.4827, -5.4827, -5.4827, -5.4827, -5.4827, -5.7704, -5.7704, -5.7704, -3.0624, -3.0848, -4.161, -4.0964, -3.8733, -2.2343, -4.7896, -4.3041, -3.5368, -5.2596, -3.9246, -5.0773, -4.7896, -5.0773, -5.0773, -4.0735, -6.9068, -6.9068, -6.9068, -6.9068, -6.9068, -6.9068, -6.9068, -6.2136, -6.9068, -5.8081, -6.9068, -6.9068, -5.5205, -6.9068, -6.9068, -6.9068, -6.9068, -6.9068, -6.9068, -6.9068, -5.8081, -6.9068, -6.9068, -6.9068, -6.9068, -5.8081, -6.9068, -6.9068, -6.9068, -2.4069, -2.4069, -2.4181, -2.5629, -3.911, -3.911, -4.4218, -4.5089, -2.3742, -4.6042, -4.6042, -4.8273, -4.9608, -4.9608, -5.2973, -5.5205, -5.5205, -5.5205, -5.8081, -5.8081, -5.8081, -5.8081, -5.8081, -5.8081, -5.8081, -4.0735, -3.7287, -4.6042, -4.3418, -3.8157, -5.115, -5.2973, -4.4218, -4.9608, -4.0164, -5.2973, -5.2973, -6.8512, -6.8512, -5.4649, -6.8512, -6.8512, -6.158, -6.158, -6.8512, -6.8512, -6.158, -6.158, -6.8512, -5.4649, -5.2417, -5.0594, -6.8512, -6.8512, -5.4649, -6.8512, -6.8512, -6.8512, -4.7717, -5.7526, -5.4649, -6.8512, -6.8512, -6.8512, -6.8512, -6.158, -5.7526, -1.8472, -3.519, -3.9608, -4.018, -4.0786, -4.0786, -4.1431, -4.4533, -4.654, -4.654, -4.654, -4.7717, -4.9053, -4.9053, -4.9053, -4.9053, -5.0594, -5.0594, -3.0445, -5.2417, -5.2417, -5.4649, -5.4649, -5.4649, -5.4649, -3.519, -2.98, -2.8258, -4.018, -4.9053, -4.5486, -4.7717, -4.654, -4.7717, -4.7717, -6.8522, -5.7536, -6.8522, -6.8522, -5.4659, -5.4659, -6.8522, -6.1591, -6.8522, -6.8522, -6.8522, -5.4659, -4.5497, -6.8522, -6.8522, -3.9078, -6.1591, -6.1591, -6.8522, -6.8522, -6.8522, -6.8522, -6.8522, -5.4659, -6.8522, -6.8522, -6.8522, -6.8522, -6.8522, -2.3749, -3.5941, -3.5941, -4.4543, -4.4543, -4.5497, -4.655, -4.7728, -5.0605, -5.2428, -5.2428, -5.2428, -5.2428, -5.2428, -5.2428, -5.4659, -5.4659, -5.4659, -5.4659, -5.4659, -5.7536, -5.7536, -5.7536, -2.6626, -2.4578, -5.7536, -3.7612, -3.9619, -3.4849, -4.655, -4.655, -4.655, -4.1442, -4.2132, -4.655, -4.9063, -4.1442, -4.9063, -4.5497, -4.9063, -5.0605, -5.0605, -4.7728], \"loglift\": [30.0, 29.0, 28.0, 27.0, 26.0, 25.0, 24.0, 23.0, 22.0, 21.0, 20.0, 19.0, 18.0, 17.0, 16.0, 15.0, 14.0, 13.0, 12.0, 11.0, 10.0, 9.0, 8.0, 7.0, 6.0, 5.0, 4.0, 3.0, 2.0, 1.0, 2.6412, 2.6412, 2.6412, 2.6412, 2.6412, 2.6412, 2.6412, 2.6412, 2.6412, 2.6412, 2.6412, 2.6412, 2.6412, 2.6412, 2.6412, 2.6412, 2.6412, 2.6412, 2.6412, 2.6412, 2.6412, 2.6412, 2.6412, 2.6412, 2.6412, 2.6412, 2.6412, 2.6412, 2.6412, 2.6412, 2.6412, 2.6412, 2.6412, 2.6412, 2.6412, 2.6412, 2.6412, 2.6412, 2.6412, 2.6412, 2.6412, 2.6412, 2.6412, 2.6412, 2.6412, 2.6412, 2.6412, 2.6412, 2.6412, 2.6412, 2.6412, 2.6412, 2.6412, 2.6412, 2.6412, 2.6412, 2.6412, 2.6167, 2.6412, 2.6128, 2.5682, 2.4343, 2.5498, 2.5292, 2.4586, 2.4913, 2.337, 2.3829, 1.7588, 2.3666, 1.5355, 2.2537, 2.6387, 2.6387, 2.6387, 2.6387, 2.6387, 2.6387, 2.6387, 2.6387, 2.6387, 2.6387, 2.6387, 2.6387, 2.6387, 2.6387, 2.6387, 2.6387, 2.6387, 2.6387, 2.6387, 2.6387, 2.6387, 2.6387, 2.6387, 2.6387, 2.6387, 2.6387, 2.6387, 2.6387, 2.6387, 2.6387, 2.6387, 2.6387, 2.6387, 2.6387, 2.6387, 2.6387, 2.6387, 2.6387, 2.6387, 2.6387, 2.6387, 2.3394, 2.4231, 2.4656, 2.1434, 2.4308, 2.4266, 2.0896, 0.6023, 0.8731, 0.8048, 2.638, 2.638, 2.638, 2.638, 2.638, 2.638, 2.638, 2.638, 2.638, 2.638, 2.638, 2.638, 2.638, 2.638, 2.638, 2.638, 2.638, 2.638, 2.638, 2.638, 2.638, 2.638, 2.638, 2.638, 2.638, 2.638, 2.638, 2.638, 2.638, 2.638, 2.638, 2.638, 2.638, 2.638, 2.638, 2.638, 2.638, 2.638, 2.638, 2.638, 2.638, 2.638, 2.638, 2.638, 2.638, 2.638, 2.638, 2.638, 2.638, 2.638, 2.638, 2.638, 2.638, 2.4233, 2.3955, 2.4535, 2.4103, 2.4368, 2.1189, 2.5002, 2.2213, 2.0773, 2.479, 2.3469, 2.3371, 1.1611, 2.6433, 2.6433, 2.6433, 2.6433, 2.6433, 2.6433, 2.6433, 2.6433, 2.6433, 2.6433, 2.6433, 2.6433, 2.6433, 2.6433, 2.6433, 2.6433, 2.6433, 2.6433, 2.6433, 2.6433, 2.6433, 2.6433, 2.6433, 2.6433, 2.6433, 2.6433, 2.6433, 2.6433, 2.6433, 2.6433, 2.6324, 2.6318, 2.6433, 2.6433, 2.6433, 2.6433, 2.6433, 2.6433, 2.6245, 2.6433, 2.6433, 2.6433, 2.6433, 2.6433, 2.6433, 2.6433, 2.6433, 2.6433, 2.6433, 2.6433, 2.6433, 2.6433, 2.6433, 2.6433, 2.6433, 2.6433, 2.5868, 2.5597, 2.4965, 2.483, 2.4871, 2.509, 2.4634, 2.36, 2.3604, 2.0927, 1.7973, 1.7515, 2.6413, 2.6413, 2.6413, 2.6413, 2.6413, 2.6413, 2.6413, 2.6413, 2.6413, 2.6413, 2.6413, 2.6413, 2.6413, 2.6413, 2.6413, 2.6413, 2.6413, 2.6413, 2.6413, 2.6413, 2.6413, 2.6413, 2.6413, 2.6413, 2.6413, 2.6413, 2.6413, 2.6413, 2.6413, 2.6413, 2.6365, 2.6413, 2.6413, 2.6413, 2.6413, 2.6413, 2.6413, 2.6413, 2.6413, 2.6413, 2.6413, 2.6413, 2.6413, 2.6413, 2.6413, 2.6413, 2.6413, 2.6413, 2.6413, 2.6413, 2.6413, 2.6413, 2.6413, 2.5894, 2.6413, 2.6413, 2.0513, 2.4818, 2.0541, 2.325, 2.2198, 1.9188, 2.3778, 2.1344, 2.1781, 2.2234, 0.9639, 1.3478, 2.6353, 2.6353, 2.6353, 2.6353, 2.6353, 2.6353, 2.6353, 2.6353, 2.6353, 2.6353, 2.6353, 2.6353, 2.6353, 2.6353, 2.6353, 2.6353, 2.6353, 2.6353, 2.6353, 2.6353, 2.6353, 2.6353, 2.6353, 2.6353, 2.6353, 2.6353, 2.6353, 2.6353, 2.6353, 2.6353, 2.6353, 2.6224, 2.6353, 2.6353, 2.6353, 2.6353, 2.6353, 2.6353, 2.6353, 2.6353, 2.6353, 2.6353, 2.6353, 2.6353, 2.6353, 2.6353, 2.6353, 2.6353, 2.6353, 2.6353, 2.6353, 2.6353, 2.6353, 2.6353, 2.6052, 2.6353, 2.6353, 2.6353, 2.5542, 2.3559, 2.4358, 2.3761, 2.5035, 2.2932, 2.4809, 2.2313, 2.1865, 0.4124, 2.2756, 0.8867, 1.9286, 2.6391, 2.6391, 2.6391, 2.6391, 2.6391, 2.6391, 2.6391, 2.6391, 2.6391, 2.6391, 2.6391, 2.6391, 2.6391, 2.6391, 2.6391, 2.6391, 2.6391, 2.6391, 2.6391, 2.6391, 2.6391, 2.6391, 2.6391, 2.6391, 2.6391, 2.6391, 2.6391, 2.6391, 2.6391, 2.6391, 2.6391, 2.6391, 2.6391, 2.6391, 2.6391, 2.6391, 2.6391, 2.6391, 2.6391, 2.6391, 2.6391, 2.6391, 2.6391, 2.6391, 2.6391, 2.6391, 2.5899, 2.5757, 2.4765, 2.4472, 2.5415, 2.4936, 2.2144, 2.3185, 2.4381, 2.1651, 0.7446, 2.1521, 1.7905, 1.5409, 1.5481, 1.4143, 2.6399, 2.6399, 2.6399, 2.6399, 2.6399, 2.6399, 2.6399, 2.6399, 2.6399, 2.6399, 2.6399, 2.6399, 2.6399, 2.6399, 2.6399, 2.6399, 2.6399, 2.6399, 2.6399, 2.6399, 2.6399, 2.6399, 2.6399, 2.6399, 2.6399, 2.6399, 2.6399, 2.6399, 2.6399, 2.6399, 2.6399, 2.6399, 2.6399, 2.6399, 2.6399, 2.6399, 2.6399, 2.6399, 2.6399, 2.6399, 2.6399, 2.6399, 2.6399, 2.6399, 2.6221, 2.6399, 2.6399, 2.6399, 2.6399, 2.6399, 2.6399, 2.6399, 2.6399, 2.6399, 2.6399, 2.5691, 2.6399, 2.6399, 2.4883, 2.4621, 2.1123, 2.3541, 2.1158, 1.6402, 1.9602, 0.6483, 2.6387, 2.6387, 2.6387, 2.6387, 2.6387, 2.6387, 2.6387, 2.6387, 2.6387, 2.6387, 2.6387, 2.6387, 2.6387, 2.6387, 2.6387, 2.6387, 2.6387, 2.6387, 2.6387, 2.6387, 2.6387, 2.6387, 2.6387, 2.6387, 2.6387, 2.6387, 2.6387, 2.6387, 2.6387, 2.6387, 2.6387, 2.6387, 2.6387, 2.6387, 2.6387, 2.6387, 2.6387, 2.6387, 2.6387, 2.6387, 2.6387, 2.6387, 2.6387, 2.6387, 2.6387, 2.6387, 2.6387, 2.6387, 2.6387, 2.6387, 2.6387, 2.6387, 2.6387, 2.6117, 2.5981, 2.5476, 2.5282, 2.5282, 2.5062, 2.5424, 2.0965, 1.806, 1.5724, 1.9147, 2.5165, 1.8269, 2.6408, 2.6408, 2.6408, 2.6408, 2.6408, 2.6408, 2.6408, 2.6408, 2.6408, 2.6408, 2.6408, 2.6408, 2.6408, 2.6408, 2.6408, 2.6408, 2.6408, 2.6408, 2.6408, 2.6408, 2.6408, 2.6408, 2.6408, 2.6408, 2.6408, 2.6408, 2.6408, 2.6408, 2.6408, 2.6408, 2.6408, 2.6408, 2.6408, 2.6408, 2.6408, 2.6408, 2.6408, 2.6408, 2.6408, 2.6408, 2.6408, 2.6408, 2.6408, 2.6408, 2.6408, 2.6408, 2.6408, 2.6408, 2.6408, 2.5983, 2.5792, 2.534, 2.563, 2.5437, 2.382, 2.5329, 2.5296, 2.3573, 2.3214, 2.5281, 2.2574, 1.3961, 0.8791, 2.6375, 2.6375, 2.6375, 2.6375, 2.6375, 2.6375, 2.6375, 2.6375, 2.6375, 2.6375, 2.6375, 2.6375, 2.6375, 2.6375, 2.6375, 2.6375, 2.6375, 2.6375, 2.6375, 2.6375, 2.6375, 2.6375, 2.6375, 2.6375, 2.6375, 2.6375, 2.6375, 2.6375, 2.6375, 2.6375, 2.6375, 2.6375, 2.6375, 2.6375, 2.6375, 2.6375, 2.6375, 2.619, 2.6375, 2.6375, 2.6375, 2.6375, 2.6375, 2.6375, 2.6375, 2.6375, 2.6375, 2.6375, 2.6375, 2.6375, 2.6375, 2.6375, 2.6375, 2.5472, 2.5479, 2.5721, 2.5161, 2.4498, 2.1877, 2.5224, 2.2172, 1.1913, 2.4501, 1.2404, 2.2217, 0.6646, 1.3407, 0.4282, 2.6316, 2.6316, 2.6316, 2.6316, 2.6316, 2.6316, 2.6316, 2.6316, 2.6316, 2.6316, 2.6316, 2.6316, 2.6316, 2.6316, 2.6316, 2.6316, 2.6316, 2.6316, 2.6316, 2.6316, 2.6316, 2.6316, 2.6316, 2.6316, 2.6316, 2.6316, 2.6316, 2.6316, 2.6316, 2.6316, 2.6316, 2.6316, 2.6316, 2.6316, 2.6316, 2.6316, 2.6316, 2.6316, 2.61, 2.6316, 2.6316, 2.6316, 2.6316, 2.6316, 2.6316, 2.6316, 2.6316, 2.6316, 2.6316, 2.6316, 2.6316, 2.6316, 2.6316, 2.6316, 2.6316, 2.5744, 2.5517, 2.5365, 2.4798, 2.226, 2.4777, 2.4481, 2.1024, 2.1731, 1.5704, 1.7526, 1.7521, 2.6418, 2.6418, 2.6418, 2.6418, 2.6418, 2.6418, 2.6418, 2.6418, 2.6418, 2.6418, 2.6418, 2.6418, 2.6418, 2.6418, 2.6418, 2.6418, 2.6418, 2.6418, 2.6418, 2.6418, 2.6418, 2.6418, 2.6418, 2.6418, 2.6418, 2.6418, 2.6418, 2.6418, 2.6418, 2.6418, 2.6353, 2.6418, 2.6418, 2.6418, 2.6418, 2.6418, 2.6418, 2.6418, 2.6418, 2.6418, 2.6418, 2.6418, 2.6418, 2.6418, 2.6418, 2.6418, 2.6418, 2.6418, 2.6208, 2.6418, 2.6418, 2.6418, 2.6418, 2.6418, 2.6418, 2.6066, 2.5255, 2.3391, 2.3805, 2.5156, 2.3871, 2.4259, 2.2756, 2.3332, 1.7525, 2.6399, 2.6399, 2.6399, 2.6399, 2.6399, 2.6399, 2.6399, 2.6399, 2.6399, 2.6399, 2.6399, 2.6399, 2.6399, 2.6399, 2.6399, 2.6399, 2.6399, 2.6399, 2.6399, 2.6399, 2.6399, 2.6399, 2.6399, 2.6399, 2.6399, 2.6399, 2.6399, 2.6399, 2.6399, 2.6399, 2.6399, 2.6399, 2.6399, 2.6399, 2.6399, 2.6399, 2.6399, 2.6399, 2.6399, 2.6399, 2.6399, 2.6399, 2.6399, 2.6399, 2.6399, 2.6399, 2.6399, 2.6399, 2.6399, 2.6399, 2.6399, 2.6399, 2.5956, 2.5812, 2.6399, 2.5933, 2.5878, 2.5163, 2.5359, 2.5346, 2.5328, 2.3982, 2.3917, 2.443, 2.5004, 2.3075, 2.399, 2.1251, 2.378, 2.4887, 2.3479, 1.8022]}, \"token.table\": {\"Topic\": [3, 8, 4, 3, 14, 1, 2, 11, 6, 12, 5, 2, 2, 8, 11, 12, 3, 10, 8, 13, 12, 7, 10, 1, 7, 13, 9, 6, 2, 7, 5, 9, 3, 5, 12, 6, 14, 14, 13, 5, 1, 1, 11, 5, 4, 11, 13, 14, 10, 3, 12, 13, 3, 4, 10, 2, 10, 5, 10, 14, 7, 9, 4, 11, 8, 5, 14, 3, 12, 2, 7, 11, 13, 8, 8, 6, 11, 4, 4, 12, 3, 12, 10, 1, 6, 13, 14, 5, 8, 1, 8, 2, 4, 10, 12, 14, 6, 8, 9, 10, 9, 12, 4, 12, 9, 11, 7, 5, 3, 13, 6, 2, 8, 10, 12, 1, 12, 12, 8, 13, 1, 9, 8, 10, 1, 13, 10, 10, 8, 1, 11, 6, 12, 7, 6, 2, 10, 1, 4, 9, 12, 4, 10, 8, 14, 10, 13, 1, 7, 11, 12, 1, 9, 4, 9, 11, 14, 1, 7, 9, 5, 10, 9, 9, 8, 7, 12, 6, 11, 2, 8, 13, 8, 11, 1, 5, 4, 13, 12, 14, 7, 1, 4, 8, 4, 9, 2, 5, 3, 10, 14, 5, 9, 14, 7, 9, 11, 7, 10, 5, 11, 10, 13, 2, 13, 10, 3, 12, 4, 4, 4, 10, 3, 7, 13, 1, 4, 9, 10, 6, 5, 9, 11, 9, 5, 6, 9, 1, 10, 13, 14, 6, 5, 4, 11, 9, 5, 7, 6, 7, 9, 2, 3, 5, 6, 14, 12, 8, 2, 10, 12, 13, 6, 9, 8, 10, 4, 13, 13, 9, 9, 2, 5, 10, 14, 1, 2, 6, 13, 9, 2, 5, 11, 12, 13, 9, 9, 1, 13, 9, 1, 6, 4, 5, 14, 13, 2, 13, 2, 11, 2, 4, 7, 1, 1, 11, 9, 9, 10, 5, 6, 12, 13, 6, 4, 1, 8, 14, 5, 11, 14, 11, 11, 9, 1, 4, 7, 3, 6, 5, 1, 2, 8, 5, 3, 13, 10, 11, 3, 8, 10, 9, 14, 12, 1, 6, 7, 4, 1, 8, 12, 8, 10, 11, 13, 5, 3, 4, 6, 11, 4, 8, 3, 6, 11, 2, 6, 7, 8, 4, 12, 5, 8, 9, 8, 10, 9, 6, 5, 13, 4, 3, 9, 10, 14, 8, 9, 7, 3, 14, 8, 6, 2, 2, 6, 14, 1, 4, 13, 3, 12, 7, 3, 8, 13, 5, 7, 1, 7, 9, 13, 3, 10, 8, 2, 4, 8, 1, 2, 14, 9, 13, 8, 10, 6, 14, 3, 7, 1, 12, 5, 9, 10, 13, 6, 9, 11, 12, 5, 1, 1, 3, 6, 6, 4, 5, 13, 13, 1, 13, 4, 11, 5, 13, 13, 1, 4, 12, 5, 6, 5, 14, 7, 7, 12, 1, 10, 13, 8, 7, 7, 9, 2, 8, 6, 12, 14, 14, 5, 13, 14, 4, 3, 13, 10, 3, 4, 10, 2, 1, 11, 3, 14, 12, 14, 1, 4, 1, 4, 8, 13, 8, 7, 3, 5, 9, 11, 14, 11, 13, 10, 7, 3, 6, 6, 10, 7, 1, 11, 14, 6, 14, 3, 5, 1, 8, 9, 13, 8, 3, 6, 3, 1, 7, 6, 8, 5, 3, 1, 11, 2, 6, 14, 14, 9, 10, 4, 10, 6, 3, 12, 5, 10, 2, 12, 1, 5, 4, 7, 1, 8, 14, 7, 10, 4, 1, 9, 6, 1, 5, 9, 3, 9, 4, 12, 2, 4, 8, 5, 13, 4, 7, 13, 8, 1, 4, 1, 7, 13, 6, 9, 11, 6, 2, 13, 1, 1, 11, 8, 14, 4, 11, 13, 12, 4, 10, 7, 12, 12, 4, 14, 2, 11, 10, 4, 2, 8, 3, 1, 5, 10, 4, 9, 11, 11, 7, 4, 8, 2, 3, 10, 13, 10, 7, 2, 10, 9, 2, 14, 7, 1, 5, 9, 2, 12, 1, 7, 2, 11, 3, 2, 3, 1, 13, 10, 12, 11, 3, 7, 9, 14, 6, 14, 3, 4, 9, 8, 8, 6, 8, 6, 12, 4, 11, 2, 6, 1, 1, 7, 10, 2, 8, 11, 4, 4, 13, 2, 8, 13, 11, 14, 4, 2, 4, 14, 3, 12, 6, 4, 14, 4, 12, 8, 9, 6, 12, 6, 8, 6, 9, 9, 12, 13, 12, 3, 1, 11, 11, 12, 9, 9, 3, 4, 1, 7, 6, 10, 1, 3, 7, 3, 2, 3, 5, 12, 3, 8, 11, 8, 14, 2, 2, 13, 2, 12, 3, 2, 2, 5, 8, 10, 13, 2, 9, 3, 6, 14, 3, 7, 10, 3, 12, 3, 7, 6, 6, 11, 5, 12, 9, 4, 6, 6, 3, 7, 10, 3, 8, 10, 9, 2, 7, 2, 10, 14, 6, 1, 10, 5, 3, 6, 2, 13, 2, 9, 12, 9, 6, 11, 10, 6, 3, 10, 9, 11, 2, 9, 6, 9, 1, 9, 8, 9, 10, 1, 10, 6, 7, 11, 1, 14, 6, 2, 11, 9, 8, 3, 8, 11, 11, 4, 1, 10, 12, 6, 13, 7, 5, 5, 3, 8, 10, 12, 4, 6, 3, 10, 1, 5, 4, 11, 14, 13, 11, 14, 14, 6, 7, 9, 14, 6, 8, 7, 10, 12, 1, 11, 10, 1, 13, 12, 14, 1, 5, 2, 4, 5, 11, 5, 14, 5, 8, 1, 5, 14, 1, 7, 13, 12, 2, 13, 11, 1, 11, 13, 14, 11, 14, 2, 11, 6, 9, 10, 7, 13, 12, 11, 7, 10, 10, 3, 3, 11, 1, 14, 10, 14, 5, 6, 11, 5, 5, 14, 5, 8, 3, 4, 1, 4, 6, 6, 12, 2, 12, 4, 7, 11, 14, 9, 5, 1, 7, 9, 11, 12, 10, 4, 9, 14, 14, 14, 12, 6, 5, 1, 3, 3, 9, 5, 3, 4, 6, 9, 7, 8, 5, 13, 3, 6, 8, 14, 13, 9, 9, 4, 3, 7, 8, 11, 6, 5, 9, 12, 10, 5, 1, 8, 8, 14, 12, 2, 4, 6, 11, 4, 8, 14, 8, 7, 9, 14, 7, 8, 14, 7, 10, 5, 13, 4, 8, 3, 1, 14, 5, 4, 2, 12, 9, 12, 8, 5, 1, 5, 11, 13, 13, 6, 13, 9, 13, 2, 14, 5, 9, 14, 6, 5, 6, 12, 10, 3, 6, 12, 14, 12, 13, 5, 5, 14, 5, 14, 4, 9, 2, 10, 14, 10, 4, 11, 14, 8, 5, 13, 5, 4, 14, 1, 2, 3, 12, 13, 2, 9, 10, 4, 4, 6, 11, 11, 13, 8, 6, 3, 6, 10, 7, 9, 12, 11, 4, 10, 9, 6, 13, 12, 4, 10, 14, 12, 7, 7, 9, 12, 10, 11, 10, 11, 13, 14, 7, 3, 10, 5, 7, 7, 12, 7, 5, 5], \"Freq\": [1.1899718538181465, 1.0156093606471395, 0.7674742789939499, 1.0199758747012684, 0.7459365546144866, 0.2496638369227852, 0.08322127897426174, 0.6657702317940939, 0.894191719830925, 0.11177396497886563, 0.929568385396567, 0.7332683088086199, 0.9951498476688414, 0.7617070204853545, 1.0090016730923734, 0.7812699426458247, 0.7933145692120976, 1.0678854683680883, 0.9935308962852452, 0.9332075652466238, 0.7812699426458247, 1.0411471176906715, 0.7119236455787256, 0.7342760672973588, 0.9760754228350046, 0.7465660521972991, 0.9974008473442372, 0.9885592229844966, 1.026575632332068, 0.9370324059216043, 0.10117291992771892, 0.9105562793494701, 0.7933145692120976, 0.9683004014547572, 1.0044899262589175, 0.11366631041379416, 0.8865972212275944, 1.1189048319217298, 0.7465660521972991, 0.7746403211638058, 0.7342760672973588, 0.07862769850542567, 0.9120813026629379, 0.7746403211638058, 0.9593428487424375, 0.7567512548192802, 0.9332075652466238, 0.7459365546144866, 0.9492315274383007, 0.9519774830545172, 0.976587428307281, 0.9598706385393845, 0.5763765577099025, 0.41169754122135893, 0.9492315274383007, 0.9776910784114932, 0.9492315274383007, 0.9859058632993892, 0.9966931038102157, 0.7459365546144866, 0.7808603382680035, 0.9974008473442372, 1.0232990386585998, 1.0319335292990184, 0.7617070204853545, 1.0049387950233157, 1.0002331073239707, 0.9916432115151221, 1.0416932568610997, 0.013153390184322291, 0.8286635816123044, 0.14468729202754518, 0.013153390184322291, 0.9960784114039252, 1.0156093606471395, 0.7826093848627266, 1.0090016730923734, 1.0232990386585998, 1.151211418490925, 0.9943435633674133, 1.0199758747012684, 0.9375239311749897, 1.0678854683680883, 0.9912726908514343, 0.9782617310784082, 0.07459994565979515, 0.8951993479175419, 0.7746403211638058, 1.0156093606471395, 0.7342760672973588, 0.7617070204853545, 0.9776910784114932, 1.0744639905915299, 0.10699723330418061, 0.17832872217363435, 0.7133148886945374, 0.16018236007831033, 0.36041031017619823, 0.32036472015662065, 0.16018236007831033, 0.13005759191325725, 0.7803455514795435, 0.02466234943502984, 0.9782731942561836, 0.9974008473442372, 1.0090016730923734, 1.0411471176906715, 0.9683004014547572, 0.09401325931981686, 0.8461193338783517, 1.0434791798169687, 0.025593323148547325, 0.025593323148547325, 0.8957663101991564, 0.025593323148547325, 0.7342760672973588, 1.0416932568610997, 0.7812699426458247, 0.7617070204853545, 0.9954214029297322, 0.7342760672973588, 1.0039198071308006, 1.0156093606471395, 0.9492315274383007, 0.7342760672973588, 0.995421402929732, 0.7119236455787256, 0.7119236455787256, 1.0054532670406682, 0.7342760672973588, 0.7567512548192802, 0.9832568458903158, 0.010033233121329753, 1.0039632920588617, 1.17391407729409, 0.054886255869963964, 0.9330663497893874, 0.0402974916892881, 0.9268423088536263, 0.9622093336337015, 0.03103901076237747, 0.7674742789939499, 1.0170337793981794, 1.0156093606471395, 1.0443111764602813, 0.7119236455787256, 0.9332075652466238, 0.022902286028390693, 0.9389937271640184, 0.022902286028390693, 0.9982893711585538, 0.7342760672973588, 1.0343416194680979, 0.7674742789939499, 0.9974008473442372, 0.9729658990533602, 0.7459365546144866, 1.0035106253063903, 0.9760754228350045, 0.7757562146010732, 0.7746403211638058, 0.9708049712437167, 1.0343416194680979, 0.9974008473442372, 0.990219126630961, 1.0411471176906713, 1.0044899262589173, 0.9565225814988879, 1.0090016730923737, 0.916585386010775, 1.0663898286794966, 0.9598706385393845, 1.0663898286794966, 0.9459390685241003, 0.7342760672973588, 0.7746403211638058, 1.0744639905915299, 1.0265283217712862, 0.7812699426458247, 0.7459365546144866, 0.9760754228350045, 0.9178450841216985, 0.9593428487424375, 0.7617070204853545, 0.07045417568313213, 0.9159042838807177, 0.9776910784114932, 0.7746403211638058, 0.7933145692120976, 0.24603340542483768, 0.738100216274513, 1.032853761551741, 0.9696952682513416, 0.9697175209988326, 0.3059087007898971, 0.03823858759873714, 0.6500559891785314, 0.03249054583699091, 0.9422258292727363, 0.7746403211638058, 0.7567512548192802, 0.9371175624010467, 0.04462464582862127, 0.7332683088086199, 0.979867943508955, 1.028334154724826, 0.7933145692120976, 0.7812699426458247, 1.0232990386585998, 0.7674742789939499, 0.8946977051754501, 0.13420465577631752, 1.0040387516590612, 1.0411471176906715, 0.7465660521972991, 0.9790347563964784, 0.9593428487424375, 0.8931285286321974, 0.09923650318135527, 1.0434791798169687, 1.032853761551741, 1.0343416194680979, 1.0319335292990184, 0.7757562146010732, 1.0024757097413959, 0.9665016445427961, 0.03451791587652843, 0.8102093372236194, 0.24306280116708584, 0.9782304983627045, 0.025742907851650117, 0.9782617310784082, 0.9683004014547572, 0.01401753899193523, 0.9812277294354661, 0.7757562146010732, 0.7057516733967292, 0.28230066935869164, 1.0434791798169687, 0.9370324059216043, 1.1636343219016099, 0.0978676298948458, 0.7829410391587664, 0.0978676298948458, 0.9782617310784082, 0.7459365546144866, 0.7812699426458247, 1.0156093606471395, 0.5958103781086028, 0.07447629726357535, 0.2979051890543014, 0.995421402929732, 0.7826093848627266, 1.0343416194680979, 0.811568889069643, 0.17390761908635208, 0.5689663781601393, 0.44252940523566386, 0.9332075652466238, 1.0343416194680979, 0.7757562146010732, 0.7332683088086199, 0.6606950552628469, 0.05082269655868053, 0.2541134827934027, 0.7342760672973588, 0.9776910784114932, 0.7826093848627266, 0.7465660521972991, 0.7757562146010732, 0.7332683088086199, 0.9959661272106075, 1.0090016730923734, 1.015650925439572, 0.9954214029297321, 0.7757562146010732, 0.9974008473442372, 0.7342760672973588, 0.9332075652466238, 1.0343416194680977, 0.9790347563964783, 1.0434791798169687, 0.9932020081098175, 0.9429133931715473, 0.05657480359029284, 0.7465660521972991, 0.7332683088086199, 0.995421402929732, 1.0475261554408857, 1.1351268822289202, 0.9776910784114932, 0.9850025770049301, 0.014485332014778383, 0.7342760672973588, 1.0198278712463316, 0.7567512548192802, 1.0343416194680979, 0.9799025868645136, 0.9857404323397739, 0.929568385396567, 1.0434791798169687, 0.9765874283072808, 1.0265283217712862, 0.9391312618352718, 1.0232990386585998, 1.0279864942163022, 1.0156093606471395, 0.9324206932681082, 0.6267181900847235, 0.20890606336157452, 0.20890606336157452, 0.9459390685241003, 0.9459390685241003, 0.7757562146010732, 0.9382226474438173, 0.0670159033888441, 0.7808603382680035, 1.012159967615435, 0.9782617310784082, 0.929568385396567, 1.1014141009460383, 0.9776910784114932, 0.9521337756066932, 1.032853761551741, 0.9519774830545172, 0.9954214029297321, 0.7241802755595672, 0.2758782002131685, 1.0048651210019903, 0.33963017713600835, 0.6792603542720167, 1.0181800316639087, 0.9324206932681082, 1.015650925439572, 0.9790347563964784, 0.9913052208261204, 0.7808603382680035, 0.9977165626921348, 0.9178450841216985, 1.0156093606471395, 1.0416932568610997, 0.9925273297233409, 0.09218955053550182, 0.9065305802657678, 0.9954214029297321, 0.9683004014547572, 0.9916432115151221, 0.3885679709455927, 0.6106068114859314, 1.0594517567469923, 0.7674742789939499, 0.7617070204853545, 0.7906109102391673, 0.2964790913396877, 1.0090016730923734, 0.7409260658090634, 0.10774905205393241, 0.150122274771771, 0.9960784114039252, 0.7708773166628268, 0.24089916145713336, 0.9964062425103702, 0.0036365191332495264, 1.0343416194680979, 0.990219126630961, 0.9966931038102157, 0.7757562146010732, 0.7826093848627266, 0.7746403211638058, 0.7465660521972991, 1.0232990386585998, 0.7892420643311175, 0.033348256239343, 0.16674128119671497, 0.011116085413114332, 0.9793375977668844, 0.9974008473442372, 0.9760754228350045, 0.9519774830545172, 1.0443111764602813, 0.7617070204853545, 1.17391407729409, 0.9909031200116485, 1.026575632332068, 0.8097126995253334, 0.16869014573444446, 0.17256337180310066, 0.17256337180310066, 0.6902534872124026, 1.0577527589494635, 0.7812699426458247, 1.0039632920588617, 0.7933145692120976, 1.1425605307280318, 1.0180446166326806, 1.032853761551741, 0.9760754228350045, 0.42536974939839783, 0.42536974939839783, 0.12153421411382795, 0.030383553528456987, 0.9916432115151221, 1.0678854683680883, 0.7617070204853545, 1.0082439246118524, 0.8576500489941288, 0.1429416748323548, 0.9790347563964784, 0.2785232373926036, 0.7427286330469429, 0.0049783558521321585, 0.9956711704264316, 0.7617070204853545, 0.9492315274383007, 0.7826093848627266, 0.9945820728193155, 0.9983890837022996, 1.0151184397484048, 0.9790347563964784, 1.171904913968737, 0.5520832682475856, 0.43706592069600525, 0.007667823170105355, 0.7465660521972991, 1.17391407729409, 0.7757562146010732, 1.0090016730923734, 0.7812699426458247, 1.032853761551741, 0.9965175199035584, 0.9178450841216985, 0.24155510412564613, 0.7850540884083499, 0.7826093848627266, 0.05787210936180732, 0.17361632808542196, 0.7523374217034952, 1.1198490782959485, 0.9451806280908035, 0.05251003489393353, 0.8479871204036037, 0.13677211619412963, 0.88057272027898, 0.1100715900348725, 0.7465660521972991, 0.7342760672973588, 1.011670640492025, 0.7812699426458247, 0.312080601064534, 0.7021813523952015, 0.7746403211638058, 1.0041453619810397, 0.9760754228350045, 0.6608479102803579, 0.3454432258283689, 0.9178450841216985, 0.7119236455787256, 0.7465660521972991, 0.9960784114039253, 0.9370324059216043, 1.0411471176906715, 0.9696952682513418, 1.0475261554408857, 1.0074189625774044, 0.7826093848627266, 0.7812699426458247, 0.9324206932681082, 1.0171862108379364, 0.7746403211638058, 0.9598706385393845, 0.9324206932681082, 1.0232990386585998, 1.002081561110018, 0.7465660521972991, 0.7119236455787256, 0.9519774830545172, 1.0232990386585998, 1.0678854683680883, 0.9776910784114932, 0.9965175199035584, 0.7567512548192802, 0.7933145692120976, 0.7459365546144866, 0.9765874283072808, 0.7459365546144866, 0.08824781105983467, 0.9118940476182916, 1.0489658104247983, 1.0232990386585998, 0.7617070204853545, 0.7465660521972991, 1.0156093606471395, 0.9370324059216043, 0.023507111867884446, 0.49364934922557335, 0.49364934922557335, 0.07470040950100709, 0.896404914012085, 0.9729658990533602, 0.7465660521972991, 0.7119236455787256, 1.0039632920588617, 1.0048651210019903, 0.9391312618352718, 0.7826093848627266, 1.0116809700329257, 0.9760754228350045, 0.7342760672973588, 1.0090016730923734, 0.7459365546144866, 0.9782617310784082, 0.9324206932681082, 0.7933145692120976, 1.032853761551741, 0.7342760672973588, 0.7617070204853545, 0.8582229205930771, 0.0858222920593077, 0.7617070204853545, 0.9916432115151221, 0.9885592229844966, 0.991643211515122, 1.0279864942163022, 0.9938222487047318, 0.7826093848627266, 0.7617070204853545, 0.9859058632993892, 0.9916432115151221, 0.1254850547806665, 0.8783953834646653, 0.032437809731379205, 0.010812603243793068, 0.95150908545379, 1.0171862108379364, 0.071783026275188, 0.933179341577444, 0.7674742789939499, 0.7119236455787256, 1.17391407729409, 0.9916432115151221, 0.7812699426458247, 1.032853761551741, 0.9857404323397739, 0.7332683088086199, 1.0416932568610997, 0.7439675637215779, 0.2789878363955917, 0.7674742789939499, 1.0151184397484048, 0.3006773263843701, 0.6013546527687402, 0.07516933159609253, 0.9370324059216043, 1.0170337793981794, 1.0744639905915299, 0.7342760672973588, 0.7757562146010732, 1.0434791798169687, 0.814190828153962, 0.1809312951453249, 1.0084830789813954, 0.7897395987088631, 0.2105972263223635, 0.35281651177984596, 0.6350697212037227, 0.007908302756873643, 0.9885378446092054, 0.990219126630961, 0.2741886714120062, 0.7540188463830171, 1.151211418490925, 0.9760754228350045, 1.0100599529728165, 0.7617070204853545, 0.7342760672973588, 1.151211418490925, 0.9178450841216985, 1.0411471176906715, 1.1198490782959485, 0.01874254803896055, 0.34205150171103005, 0.6372466333246587, 1.0062120662520768, 0.9776910784114932, 0.7465660521972991, 0.7342760672973588, 0.7342760672973588, 0.9729658990533602, 0.7617070204853545, 1.1189048319217298, 0.7674742789939499, 0.7567512548192802, 0.7465660521972991, 0.7812699426458247, 1.0232990386585998, 0.7119236455787256, 0.04340262086521447, 0.9548576590347184, 0.9765874283072808, 1.0232990386585998, 0.9324206932681082, 0.12567800436310927, 0.8797460305417649, 0.9492315274383007, 0.7674742789939499, 0.7332683088086199, 1.0663898286794966, 0.7933145692120976, 0.9733276559212118, 0.02162950346491582, 0.9788950126707476, 0.9593428487424375, 0.9696952682513416, 0.9837766312650643, 1.0090016730923734, 0.9760754228350045, 0.40450830573449353, 0.584289774949824, 0.10146013244305559, 0.03382004414768519, 0.10146013244305559, 0.7778610153967594, 0.7119236455787256, 0.7808603382680035, 0.916585386010775, 0.7119236455787256, 1.1636343219016099, 0.07446500664398725, 0.893580079727847, 0.9370324059216043, 0.7342760672973588, 0.5454659876673869, 0.43063104289530535, 0.7332683088086199, 0.7812699426458247, 0.9805346632270282, 0.018856435831289004, 0.9920688883881328, 0.7567512548192802, 0.7933145692120976, 0.7445391958359855, 0.14890783916719708, 0.7342760672973588, 0.7465660521972991, 1.0170337793981794, 0.7812699426458247, 1.0021840942201279, 0.16138670713834388, 0.20173338392292983, 0.20173338392292983, 0.44381344463044564, 0.7826093848627266, 0.7459365546144866, 0.9023052293286623, 0.11278815366608279, 0.9974008473442372, 0.7617070204853545, 0.9980988544290853, 0.7826093848627266, 0.7617070204853545, 0.09015840159951012, 0.9316368165282712, 0.7674742789939499, 1.0090016730923734, 1.026575632332068, 0.7826093848627266, 1.0047988289332277, 0.9934323263434854, 0.7808603382680035, 1.0678854683680883, 0.7880372152564789, 0.1970093038141197, 0.989597794763674, 1.0744639905915299, 0.7674742789939499, 0.9598706385393845, 0.5292796273211575, 0.1058559254642315, 0.3175677763926945, 0.9459390685241003, 0.7459365546144866, 0.7674742789939499, 0.9776910784114932, 1.0232990386585998, 1.0443111764602813, 0.7933145692120976, 0.7812699426458247, 0.9391312618352718, 1.0232990386585998, 1.0443111764602813, 0.7674742789939499, 0.9765874283072808, 0.8727803566231102, 0.16364631686683315, 0.11163728725073901, 0.8930982980059121, 0.9960483080071064, 0.7617070204853545, 1.0434791798169687, 0.7757562146010732, 0.7757562146010732, 0.5752562145864799, 0.4218545573634186, 0.7812699426458247, 1.1899718538181465, 0.842748257137941, 0.10534353214224262, 1.1351268822289202, 1.0416932568610997, 0.7757562146010732, 1.0108338553892773, 0.8887384945523364, 0.09874872161692627, 0.7342760672973588, 1.0411471176906715, 0.9436192233443292, 0.05550701313790172, 1.0096295925338683, 0.05717991091609491, 0.9529985152682485, 1.0577527589494635, 0.04358290915764473, 0.6537436373646709, 0.26149745494586835, 1.0416932568610997, 0.9980409096539292, 0.990219126630961, 0.9975357449890512, 0.060788939380377126, 0.9465706274944439, 1.0082439246118524, 1.09990246321293, 0.9332075652466238, 0.15490195105603474, 0.8777777226508635, 0.9916432115151221, 1.01529458142732, 0.028924825340940267, 0.0867744760228208, 0.11569930136376107, 0.7809702842053873, 1.0131967851249057, 0.7413894386251628, 0.14827788772503256, 0.9519774830545172, 0.2512619753912585, 0.7537859261737755, 1.0577527589494635, 0.7808603382680035, 0.7119236455787256, 0.7933145692120976, 1.0416932568610997, 0.7933145692120976, 0.9760754228350045, 1.17391407729409, 1.0434791798169687, 1.0594517567469923, 1.0024757097413959, 0.7812699426458247, 0.7757562146010732, 0.7712029071807099, 0.28920109019276624, 0.7826093848627266, 0.7933145692120976, 0.8679621125193085, 0.14466035208655142, 0.9916432115151221, 1.0663898286794966, 0.9492315274383007, 0.9309074575212881, 1.026575632332068, 0.9760754228350045, 0.15622030777465076, 0.03905507694366269, 0.7811015388732537, 1.012788615704705, 0.7342760672973588, 1.0031651369518406, 0.9959661272106075, 0.09799146325874075, 0.8819231693286668, 0.9776910784114932, 0.7465660521972991, 0.863360689154637, 0.1233372413078053, 0.7812699426458247, 0.7757562146010732, 0.9960483080071065, 0.9459390685241003, 0.9492315274383007, 0.9782617310784082, 0.8433546467264904, 0.19462030309072856, 0.08431297853053048, 0.9274427638358352, 0.916585386010775, 0.9696952682513418, 0.12943438164671453, 0.8736820761153231, 0.6645341839353162, 0.3322670919676581, 0.9378188064280492, 0.025346454227785115, 0.025346454227785115, 0.7342760672973588, 0.9492315274383007, 1.0434791798169687, 1.0411471176906715, 0.7567512548192802, 0.7342760672973588, 1.0443111764602813, 0.7826093848627266, 0.1568194863989897, 0.8154613292747465, 0.7757562146010732, 0.9521337756066932, 0.7933145692120976, 1.0156093606471395, 0.7567512548192802, 0.7567512548192802, 1.0036202109920884, 0.9790347563964784, 0.9788950126707476, 0.7812699426458247, 0.01624596228988692, 0.9747577373932151, 1.0411471176906715, 1.032853761551741, 0.9859058632993892, 0.9989887167856045, 0.7617070204853545, 0.7119236455787256, 1.015650925439572, 1.0232990386585998, 0.7826093848627266, 0.9696066957036749, 0.9966931038102157, 0.7342760672973588, 0.9812110734741541, 1.0232990386585998, 0.979325153295539, 1.025662762594919, 0.9332075652466238, 0.20786472873840586, 0.7898859692059423, 0.7459365546144866, 0.07095927678975641, 0.851511321477077, 0.07095927678975641, 0.9697175209988326, 0.5146778304266834, 0.5146778304266834, 0.9370324059216043, 0.9857404323397739, 1.0110552198945966, 0.7342760672973588, 1.1351268822289202, 0.998329709892006, 0.9178450841216985, 1.0451924730762188, 1.0416932568610997, 0.9945820728193155, 0.9026747215908786, 0.08206133832644351, 0.008337884000385664, 0.992208196045894, 0.9683004014547572, 0.7567512548192802, 0.929568385396567, 0.9324206932681082, 0.013605967572620285, 0.9796296652286605, 0.7448613099002285, 0.2708586581455376, 0.9814954665980088, 0.3472028397336033, 0.624965111520486, 0.03472028397336033, 0.7812699426458247, 0.9776910784114932, 1.0451924730762188, 1.0594517567469923, 1.0062301662963804, 0.9459390685241003, 0.995421402929732, 0.9945820728193155, 1.0594517567469923, 0.9945820728193155, 0.916585386010775, 0.9459390685241003, 1.0434791798169687, 0.22979389688924526, 0.7659796562974842, 0.6237050725237032, 0.3838185061684327, 1.0044899262589173, 1.0405329753765102, 0.7808603382680035, 0.9492315274383007, 1.0170337793981794, 0.9916432115151221, 0.9696066957036749, 1.1351268822289202, 0.9790347563964783, 0.7459365546144866, 0.03236479530915514, 0.9385790639654991, 1.032853761551741, 0.7826093848627266, 0.7567512548192802, 0.7746403211638058, 1.032853761551741, 0.9324206932681082, 0.7746403211638058, 1.0473471531673626, 0.7933145692120976, 1.0232990386585998, 1.1014141009460383, 0.2779373203738588, 0.722637032972033, 0.07103559278460005, 0.9234627061998006, 0.9776910784114932, 1.0416932568610997, 0.9593428487424375, 0.7808603382680035, 0.9957253352885265, 0.9945820728193155, 0.9949916665535506, 0.7746403211638058, 0.9884485521310599, 0.32421302011018654, 0.19452781206611192, 0.0648426040220373, 0.38905562413222383, 0.7119236455787256, 1.0744639905915299, 0.039339407405224305, 0.9441457777253832, 0.9945820728193154, 0.7459365546144866, 1.0416932568610997, 1.0434791798169687, 0.7746403211638058, 0.9178450841216985, 0.7933145692120976, 0.9916432115151221, 1.0343416194680979, 0.7746403211638058, 0.7933145692120976, 0.8335153155037445, 0.06411656273105727, 0.06411656273105727, 0.9207302182486125, 0.07082540140373941, 1.032853761551741, 1.1198490782959485, 0.7933145692120976, 1.17391407729409, 0.10687848263799578, 0.8550278611039662, 0.9332075652466238, 0.9696952682513418, 0.9309074575212881, 1.151211418490925, 0.603195173053926, 0.3409364021609147, 0.02622587708930113, 0.02622587708930113, 1.17391407729409, 0.7746403211638058, 0.987326091310457, 0.7812699426458247, 0.7119236455787256, 0.7746403211638058, 1.0096295925338683, 1.0156093606471395, 0.20420595170727726, 0.816823806829109, 0.9982893711585538, 0.9776910784114932, 0.006363894907503787, 0.7573034939929506, 0.2354641115776401, 0.9593428487424375, 0.7617070204853545, 0.9945820728193155, 1.0025887278183299, 1.0004773084058796, 0.9309074575212881, 1.0443111764602813, 0.857891960521622, 0.08093320382279452, 0.06474656305823562, 0.07988624925163632, 0.8787487417679994, 0.6800449168253238, 0.3400224584126619, 0.2861777601854873, 0.7631406938279662, 0.9519774830545172, 0.9178450841216985, 1.1189048319217298, 1.032853761551741, 0.7674742789939499, 1.09990246321293, 0.7812699426458247, 0.7757562146010732, 1.0007277917036406, 0.990219126630961, 0.7746403211638058, 0.2550972015470306, 0.7652916046410917, 0.11076802695663926, 0.8861442156531141, 1.0451924730762188, 1.0062120662520768, 0.9954214029297321, 0.7757562146010732, 0.9954214029297321, 1.026575632332068, 0.7459365546144866, 0.04458061116445264, 0.3566448893156211, 0.5795479451378843, 0.9782617310784082, 0.6221760373958519, 0.31108801869792596, 0.05184800311632099, 0.9966931038102157, 0.1567501592437266, 0.6792506900561487, 0.20900021232496882, 0.7459365546144866, 0.7812699426458247, 1.1198490782959485, 0.7746403211638058, 0.7746403211638058, 0.7459365546144866, 0.929568385396567, 1.0041453619810397, 0.020408841567974477, 0.9796243952627749, 1.09990246321293, 0.09268853267821428, 0.8341967941039286, 0.9857404323397739, 0.7674742789939499, 0.7567512548192802, 0.7459365546144866, 0.7617070204853545, 0.2256050771978471, 0.827218616392106, 0.9859058632993892, 0.7674742789939499, 0.7459365546144866, 0.8564592344374139, 0.18352697880801727, 0.7933145692120976, 0.7812699426458247, 0.979867943508955, 0.13669584445433575, 0.5877921311536437, 0.28706127335410503, 0.7674742789939499, 0.9593428487424375, 1.0062120662520768, 0.7567512548192802, 0.9451331809435292, 0.04725665904717646, 0.7617070204853545, 0.9782617310784082, 0.8035135572420178, 0.1770453600702751, 0.013618873851559623, 0.06487245061332339, 0.5189796049065871, 0.38923470367994034, 1.0090016730923734, 0.843606737369371, 0.14763117903963993, 1.0084830789813954, 0.9391312618352718, 1.1198490782959485, 1.015650925439572, 1.0232990386585998, 0.8745597687733329, 0.07950543352484844, 0.9765874283072808, 0.9760754228350045, 1.0151184397484048, 0.8989118245792755, 0.12257888516990122, 0.8758939283276195, 0.07962672075705632, 0.00985007417429135, 0.24625185435728378, 0.7387555630718513, 0.9324206932681082, 0.7808603382680035, 0.8395719421551698, 0.17990827331896497, 0.2833287583167229, 0.7083218957918073, 0.33138991035176363, 0.6627798207035273, 0.9760754228350045, 0.9683004014547572, 0.7746403211638058], \"Term\": [\"aa\", \"aadvantage\", \"ability\", \"absolutely\", \"abt\", \"accept\", \"accept\", \"accept\", \"access\", \"access\", \"accommodate\", \"accompaniment\", \"account\", \"accrue\", \"accurate\", \"acquire\", \"action\", \"actual\", \"add\", \"advice\", \"advisory\", \"affordable\", \"afiliate\", \"afterall\", \"afternoon\", \"agcommunity\", \"agent\", \"ago\", \"agree\", \"ahead\", \"air\", \"air\", \"aircargo\", \"aircraft\", \"airline\", \"airport\", \"airport\", \"aka\", \"alive\", \"allgood\", \"allowance\", \"amazing\", \"amazing\", \"americanforlife\", \"amount\", \"anchorage\", \"annual\", \"antonio\", \"apology\", \"application\", \"apply\", \"area\", \"arrive\", \"arrive\", \"asap\", \"assign\", \"assignment\", \"assistance\", \"attend\", \"attention\", \"authoritative\", \"automatically\", \"aviation\", \"award\", \"aware\", \"awesome\", \"back\", \"bad\", \"badly\", \"bag\", \"bag\", \"bag\", \"bag\", \"baggage\", \"bahama\", \"band\", \"bar\", \"base\", \"bday\", \"beautiful\", \"begin\", \"benefit\", \"bestemployee\", \"big\", \"bird\", \"birthday\", \"birthday\", \"biscuit\", \"bit\", \"bless\", \"blow\", \"bluemanity\", \"bna\", \"board\", \"board\", \"board\", \"boarding\", \"boarding\", \"boarding\", \"boarding\", \"bonus\", \"bonus\", \"book\", \"book\", \"bos\", \"boy\", \"boyfriend\", \"brand\", \"break\", \"break\", \"bright\", \"bring\", \"bring\", \"bring\", \"bring\", \"brood\", \"brother\", \"burn\", \"busad\", \"business\", \"businessfirst\", \"buy\", \"buying\", \"bwi\", \"byod\", \"cabin\", \"cable\", \"cabo\", \"call\", \"calling\", \"canadian\", \"cancel\", \"cancel\", \"cancellation\", \"captain\", \"car\", \"car\", \"card\", \"card\", \"care\", \"care\", \"careyon\", \"carry\", \"case\", \"celebrate\", \"centric\", \"certificate\", \"chance\", \"chance\", \"chance\", \"change\", \"changed\", \"channel\", \"character\", \"charge\", \"cheap\", \"cheat\", \"check\", \"cheer\", \"cheeze\", \"chief\", \"child\", \"choose\", \"city\", \"claim\", \"class\", \"clear\", \"close\", \"clt\", \"coach\", \"combine\", \"comfortable\", \"comment\", \"commercial\", \"committed\", \"comms\", \"companion\", \"company\", \"compatible\", \"compete\", \"complain\", \"complete\", \"computer\", \"concept\", \"concern\", \"concern\", \"concert\", \"concourse\", \"cond\", \"condition\", \"condition\", \"confirmation\", \"congrat\", \"connect\", \"connection\", \"connection\", \"connection\", \"contact\", \"contact\", \"contradictory\", \"cookie\", \"cool\", \"cool\", \"corny\", \"correct\", \"cost\", \"coughed\", \"covering\", \"coworker\", \"cracker\", \"credit\", \"credit\", \"crew\", \"cry\", \"ctr\", \"curious\", \"current\", \"customer\", \"customer\", \"customerservice\", \"cut\", \"daily\", \"dal\", \"data\", \"date\", \"day\", \"day\", \"dca\", \"dca\", \"deal\", \"deal\", \"decision\", \"degree\", \"delay\", \"delay\", \"delight\", \"deliver\", \"deliver\", \"delivery\", \"den\", \"deny\", \"depart\", \"depart\", \"depart\", \"departure\", \"dependable\", \"depression\", \"dept\", \"deserve\", \"deserve\", \"deserve\", \"desk\", \"desperate\", \"desperately\", \"destination\", \"destination\", \"detail\", \"detail\", \"die\", \"difficult\", \"dimension\", \"dining\", \"direct\", \"direct\", \"direct\", \"directional\", \"discount\", \"dispatcher\", \"display\", \"distance\", \"distinguish\", \"dm\", \"dmed\", \"domestic\", \"double\", \"downloaded\", \"dragon\", \"dramatically\", \"dream\", \"drink\", \"drive\", \"drop\", \"due\", \"early\", \"early\", \"earning\", \"east\", \"easy\", \"effort\", \"elderly\", \"elite\", \"email\", \"email\", \"embossed\", \"employee\", \"employer\", \"empty\", \"end\", \"enjoy\", \"entertainment\", \"error\", \"evening\", \"event\", \"eventually\", \"every_time\", \"ewr\", \"excellent\", \"exceptional\", \"excited\", \"excited\", \"excited\", \"exist\", \"exit\", \"exp\", \"expect\", \"expect\", \"expedient\", \"experience\", \"expire\", \"explain\", \"extend\", \"extra\", \"extremely\", \"fact\", \"fair\", \"fall\", \"family\", \"family\", \"fantastic\", \"fare\", \"fare\", \"fast\", \"fault\", \"fee\", \"feedback\", \"feel\", \"feeltheheat\", \"figure\", \"file\", \"fill\", \"final\", \"finally\", \"find\", \"find\", \"fine\", \"fingers_crosse\", \"fit\", \"fix\", \"fix\", \"fl\", \"flamethrower\", \"flattering\", \"fleek\", \"fleek\", \"fleet\", \"flight\", \"flight\", \"flight\", \"flight_attendant\", \"flt\", \"flt\", \"fly\", \"fly\", \"flyer\", \"flying\", \"flyingitforward\", \"flypbi\", \"flyquiet\", \"flyswa\", \"flythrough\", \"folk\", \"follow\", \"follow\", \"follow\", \"follow\", \"food\", \"foot\", \"forecast\", \"forever\", \"forget\", \"format\", \"fra\", \"free\", \"frequent\", \"friend\", \"friend\", \"friendly\", \"friendly\", \"friendly\", \"front\", \"frontier\", \"fun\", \"func\", \"function\", \"future\", \"fyi\", \"game\", \"gate\", \"gate\", \"gate\", \"gate\", \"gate_agent\", \"gesture\", \"gfc\", \"girl\", \"give\", \"give\", \"global\", \"gold\", \"gold\", \"good\", \"good\", \"grab\", \"gracia\", \"graduation\", \"grateful\", \"great\", \"ground\", \"group\", \"guest\", \"guy\", \"guy\", \"guy\", \"hail\", \"half\", \"hammer\", \"handle\", \"handshake\", \"hang\", \"happen\", \"happily\", \"happy\", \"happy\", \"happycamper\", \"hard\", \"hard\", \"hard\", \"hassle\", \"head\", \"head\", \"hear\", \"hear\", \"heart\", \"heart\", \"heat\", \"hell\", \"helpful\", \"heroe\", \"high\", \"high\", \"historical\", \"hold\", \"holder\", \"home\", \"home\", \"honor\", \"honour\", \"hoo\", \"hope\", \"horrible\", \"host\", \"hot\", \"hotel\", \"hour\", \"house\", \"hr\", \"hubby\", \"huge\", \"humour\", \"husband\", \"iad\", \"ice\", \"idea\", \"ilc\", \"illegal\", \"imagine\", \"impress\", \"impressed\", \"improve\", \"include\", \"incoming\", \"inconvenient\", \"inexpensive\", \"infant\", \"inflight\", \"info\", \"info\", \"information\", \"international\", \"interrogate\", \"invalid\", \"invite\", \"ipad\", \"issue\", \"issue\", \"issue\", \"item\", \"item\", \"itinerary\", \"itproblem\", \"jac\", \"jet\", \"jetblue\", \"jfk\", \"jilted\", \"job\", \"join\", \"joy\", \"jvmchat\", \"keepem\", \"kid\", \"kind\", \"kindle\", \"kindness\", \"king\", \"kosher\", \"kudo\", \"kudo\", \"labor\", \"lady\", \"land\", \"landing\", \"last_night\", \"late\", \"latency\", \"launch\", \"lax\", \"lead\", \"learn\", \"learn\", \"leave\", \"leave\", \"leave\", \"left\", \"leg\", \"leg\", \"leisure\", \"lend\", \"letter\", \"level\", \"lhrt\", \"license\", \"life\", \"lifesaver\", \"lifetime\", \"line\", \"line\", \"link\", \"list\", \"listen\", \"listen\", \"listen\", \"literally\", \"live\", \"local\", \"locally\", \"log\", \"lol\", \"long\", \"long\", \"lose\", \"lot\", \"lot\", \"lounge\", \"lounge\", \"love\", \"love\", \"low\", \"loyal\", \"loyal\", \"loyalty\", \"lucky\", \"luggage\", \"luvagent\", \"luved\", \"magazine\", \"main\", \"maintenance\", \"major\", \"make\", \"make\", \"make\", \"make_sure\", \"man\", \"manage\", \"march\", \"marriage\", \"match\", \"maverick\", \"mdw\", \"meantime\", \"medallion\", \"medically\", \"medusafriday\", \"meet\", \"meh\", \"member\", \"member\", \"mention\", \"merger\", \"mess\", \"message\", \"message\", \"method\", \"mht\", \"mia\", \"middle\", \"milage\", \"mile\", \"mile\", \"mileage\", \"military\", \"min\", \"mind\", \"minor\", \"mint\", \"minute\", \"minute\", \"miss\", \"miss\", \"miss\", \"miss\", \"missing\", \"mission\", \"mistake\", \"mke\", \"mn\", \"mom\", \"mom\", \"moment\", \"moneyelsewhere\", \"month\", \"month\", \"moodlitmonday\", \"morn\", \"morning\", \"morning\", \"move\", \"mpls\", \"multi\", \"multiple\", \"multiple\", \"nature\", \"nearby\", \"nee\", \"newsbusiness\", \"nice\", \"night\", \"night\", \"night\", \"night\", \"nocharge\", \"noon\", \"note\", \"note\", \"notice\", \"nrt\", \"number\", \"observation\", \"observe\", \"offer\", \"offer\", \"offering\", \"office\", \"official\", \"omg\", \"online\", \"open\", \"opening\", \"opportunity\", \"option\", \"option\", \"ord\", \"order\", \"ordnoise\", \"original\", \"orlando\", \"orlando\", \"orlando\", \"oscar\", \"ourguest\", \"outlook\", \"outsource\", \"outstanding\", \"overhead\", \"pac\", \"padresst\", \"page\", \"paint\", \"pair\", \"paper\", \"partner\", \"pass\", \"pass\", \"passbook\", \"passbook\", \"passenger\", \"password\", \"past\", \"pat\", \"patiently\", \"pay\", \"pay\", \"paypal\", \"pbi\", \"peanut\", \"peanut\", \"pen\", \"penalty\", \"penguin\", \"people\", \"perfect\", \"perfect\", \"perform\", \"personnel\", \"philly\", \"philly\", \"phl\", \"phone\", \"phone\", \"phx\", \"pick\", \"pick\", \"pick\", \"pillow\", \"pilot\", \"place\", \"plan\", \"plane\", \"plane\", \"pleasant\", \"pleasantly\", \"please_follow\", \"please_help\", \"please_help\", \"pleasure\", \"pm\", \"point\", \"point\", \"point\", \"point\", \"policy\", \"position\", \"position\", \"positive\", \"post\", \"post\", \"power\", \"pr\", \"practice\", \"precheck\", \"predict\", \"preemptive\", \"premier\", \"premiere\", \"premium\", \"present\", \"price\", \"pricing\", \"prior\", \"priority\", \"priority\", \"pro\", \"probablynot\", \"problem\", \"problem\", \"process\", \"professional\", \"promise\", \"promo\", \"promotion\", \"prompt\", \"provide\", \"provide\", \"provide\", \"purchase\", \"purely\", \"put\", \"question\", \"quickly\", \"quickly\", \"race\", \"rail\", \"raise\", \"raise\", \"rant\", \"rare\", \"rate\", \"rdu\", \"reach\", \"read\", \"ready\", \"ready\", \"real\", \"real\", \"realize\", \"reason\", \"rebooke\", \"rebooke\", \"receipt\", \"receipt\", \"receive\", \"receive\", \"receive\", \"recognize\", \"record\", \"recovery\", \"red\", \"reduce\", \"reduced\", \"reference\", \"referral\", \"refund\", \"refund\", \"refunded\", \"regard\", \"register\", \"remind\", \"remotely\", \"repaint\", \"reply\", \"report\", \"request\", \"research\", \"reservation\", \"reservation\", \"resolution\", \"resolve\", \"respond\", \"response\", \"restate\", \"retroactively\", \"return\", \"revenue\", \"review\", \"reward\", \"ride\", \"ripme\", \"rock\", \"roundtrip\", \"route\", \"row\", \"rr\", \"run\", \"run\", \"saddening\", \"safe\", \"safe\", \"safe\", \"safely\", \"safety\", \"safety\", \"sale\", \"save\", \"schedule\", \"science\", \"screen\", \"seat\", \"seating\", \"security\", \"segment\", \"selfie\", \"sell\", \"sell\", \"send\", \"send\", \"sense\", \"sentiment\", \"separate\", \"serve\", \"service\", \"service\", \"set\", \"set\", \"sfo\", \"share\", \"share\", \"share\", \"shock\", \"short\", \"shortly\", \"shout\", \"show\", \"shuttle\", \"sign\", \"silver\", \"similar\", \"simply\", \"sincerely\", \"single\", \"sister\", \"sit\", \"sit\", \"site\", \"site\", \"sky\", \"sleep\", \"slot\", \"slow\", \"small\", \"smile\", \"smooth\", \"smoothly\", \"snack\", \"sneverstoppe\", \"snow\", \"snow\", \"snowboard\", \"snowy\", \"sobewff\", \"society\", \"soft\", \"song\", \"soooo\", \"sort\", \"southw\", \"southwest\", \"southwestrally\", \"speak\", \"speak\", \"special\", \"special\", \"speedy\", \"spend\", \"spring\", \"st_class\", \"staff\", \"star\", \"start\", \"startling\", \"status\", \"stay\", \"stay\", \"stay\", \"stay\", \"steel\", \"stick\", \"stop\", \"stop\", \"storm\", \"stranger\", \"stress\", \"stressful\", \"stretch\", \"stroller\", \"structure\", \"student\", \"suck\", \"suite\", \"sunkist\", \"super\", \"super\", \"super\", \"support\", \"support\", \"suppose\", \"swaculture\", \"sweetheart\", \"swiss\", \"system\", \"system\", \"takeoff\", \"talk\", \"tea\", \"teach\", \"team\", \"team\", \"team\", \"team\", \"technically\", \"technology\", \"terminal\", \"terrible\", \"thai\", \"thatisall\", \"thing\", \"tho\", \"thx\", \"thx\", \"ticket\", \"ticketed\", \"time\", \"time\", \"time\", \"timely\", \"tip\", \"tmrw\", \"today\", \"tomorrow\", \"tomorrow_morne\", \"tomorrow_morning\", \"tonight\", \"tonight\", \"tonight\", \"top\", \"top\", \"totally\", \"totally\", \"touch\", \"touch\", \"tough\", \"tourist\", \"town\", \"track\", \"traditionally\", \"train\", \"transatlantic\", \"transpacific\", \"travel\", \"traveler\", \"traveller\", \"treat\", \"treat\", \"trip\", \"trip\", \"trouble\", \"true\", \"trueblue\", \"tue\", \"turn\", \"tv\", \"tweak\", \"tweet\", \"tweet\", \"tweet\", \"tweeting\", \"twitter\", \"twitter\", \"twitter\", \"type\", \"understand\", \"understand\", \"understand\", \"understanding\", \"unfollow\", \"uniform\", \"united\", \"unitedvusa\", \"unpredictable\", \"upcoming\", \"update\", \"upgrade\", \"upgrade\", \"urgent\", \"usairway\", \"usairway\", \"vacation\", \"valid\", \"validity\", \"vent\", \"vibrant\", \"video\", \"video\", \"view\", \"village\", \"virgin\", \"visit\", \"visit\", \"voluntarily\", \"vote\", \"voucher\", \"wait\", \"wait\", \"wait\", \"waitliste\", \"waiver\", \"warm\", \"warn\", \"watch\", \"watch\", \"wave\", \"wear\", \"weather\", \"weather\", \"weather\", \"website\", \"website\", \"website\", \"wedding\", \"week\", \"week\", \"weekend\", \"wheel\", \"wheelchair\", \"wife\", \"wifi\", \"win\", \"win\", \"wine\", \"winner\", \"winter\", \"wonderful\", \"wonderful\", \"word\", \"word\", \"work\", \"work\", \"work\", \"worker\", \"worksnicely\", \"world\", \"world\", \"worry\", \"worry\", \"year\", \"year\", \"yesterday\", \"young\", \"yxu\"]}, \"R\": 30, \"lambda.step\": 0.01, \"plot.opts\": {\"xlab\": \"PC1\", \"ylab\": \"PC2\"}, \"topic.order\": [1, 2, 3, 4, 5, 6, 7, 8, 9, 10, 11, 12, 13, 14]};\n",
       "\n",
       "function LDAvis_load_lib(url, callback){\n",
       "  var s = document.createElement('script');\n",
       "  s.src = url;\n",
       "  s.async = true;\n",
       "  s.onreadystatechange = s.onload = callback;\n",
       "  s.onerror = function(){console.warn(\"failed to load library \" + url);};\n",
       "  document.getElementsByTagName(\"head\")[0].appendChild(s);\n",
       "}\n",
       "\n",
       "if(typeof(LDAvis) !== \"undefined\"){\n",
       "   // already loaded: just create the visualization\n",
       "   !function(LDAvis){\n",
       "       new LDAvis(\"#\" + \"ldavis_el2081621865439375684863162790\", ldavis_el2081621865439375684863162790_data);\n",
       "   }(LDAvis);\n",
       "}else if(typeof define === \"function\" && define.amd){\n",
       "   // require.js is available: use it to load d3/LDAvis\n",
       "   require.config({paths: {d3: \"https://cdnjs.cloudflare.com/ajax/libs/d3/3.5.5/d3.min\"}});\n",
       "   require([\"d3\"], function(d3){\n",
       "      window.d3 = d3;\n",
       "      LDAvis_load_lib(\"https://cdn.rawgit.com/bmabey/pyLDAvis/files/ldavis.v1.0.0.js\", function(){\n",
       "        new LDAvis(\"#\" + \"ldavis_el2081621865439375684863162790\", ldavis_el2081621865439375684863162790_data);\n",
       "      });\n",
       "    });\n",
       "}else{\n",
       "    // require.js not available: dynamically load d3 & LDAvis\n",
       "    LDAvis_load_lib(\"https://cdnjs.cloudflare.com/ajax/libs/d3/3.5.5/d3.min.js\", function(){\n",
       "         LDAvis_load_lib(\"https://cdn.rawgit.com/bmabey/pyLDAvis/files/ldavis.v1.0.0.js\", function(){\n",
       "                 new LDAvis(\"#\" + \"ldavis_el2081621865439375684863162790\", ldavis_el2081621865439375684863162790_data);\n",
       "            })\n",
       "         });\n",
       "}\n",
       "</script>"
      ],
      "text/plain": [
       "<IPython.core.display.HTML object>"
      ]
     },
     "execution_count": 334,
     "metadata": {},
     "output_type": "execute_result"
    }
   ],
   "source": [
    "pyLDAvis.display(vis)"
   ]
  },
  {
   "cell_type": "markdown",
   "metadata": {},
   "source": [
    "# Visualize results using TopicVisExplorer"
   ]
  },
  {
   "cell_type": "markdown",
   "metadata": {},
   "source": [
    "## Scenario 1"
   ]
  },
  {
   "cell_type": "markdown",
   "metadata": {},
   "source": [
    "### Get most relevant documents"
   ]
  },
  {
   "cell_type": "code",
   "execution_count": 109,
   "metadata": {},
   "outputs": [],
   "source": [
    "lda_model = gensim.models.wrappers.ldamallet.malletmodel2ldamodel(ldamallet)"
   ]
  },
  {
   "cell_type": "code",
   "execution_count": 110,
   "metadata": {},
   "outputs": [
    {
     "data": {
      "text/html": [
       "<div>\n",
       "<style scoped>\n",
       "    .dataframe tbody tr th:only-of-type {\n",
       "        vertical-align: middle;\n",
       "    }\n",
       "\n",
       "    .dataframe tbody tr th {\n",
       "        vertical-align: top;\n",
       "    }\n",
       "\n",
       "    .dataframe thead th {\n",
       "        text-align: right;\n",
       "    }\n",
       "</style>\n",
       "<table border=\"1\" class=\"dataframe\">\n",
       "  <thead>\n",
       "    <tr style=\"text-align: right;\">\n",
       "      <th></th>\n",
       "      <th>0</th>\n",
       "      <th>1</th>\n",
       "      <th>2</th>\n",
       "      <th>3</th>\n",
       "      <th>4</th>\n",
       "      <th>5</th>\n",
       "    </tr>\n",
       "  </thead>\n",
       "  <tbody>\n",
       "    <tr>\n",
       "      <th>0</th>\n",
       "      <td>0.191358</td>\n",
       "      <td>0.154321</td>\n",
       "      <td>0.154321</td>\n",
       "      <td>0.154321</td>\n",
       "      <td>0.191358</td>\n",
       "      <td>0.154321</td>\n",
       "    </tr>\n",
       "    <tr>\n",
       "      <th>1</th>\n",
       "      <td>0.166667</td>\n",
       "      <td>0.166667</td>\n",
       "      <td>0.166667</td>\n",
       "      <td>0.166667</td>\n",
       "      <td>0.166667</td>\n",
       "      <td>0.166667</td>\n",
       "    </tr>\n",
       "    <tr>\n",
       "      <th>2</th>\n",
       "      <td>0.172840</td>\n",
       "      <td>0.154321</td>\n",
       "      <td>0.172840</td>\n",
       "      <td>0.172840</td>\n",
       "      <td>0.172840</td>\n",
       "      <td>0.154321</td>\n",
       "    </tr>\n",
       "    <tr>\n",
       "      <th>3</th>\n",
       "      <td>0.176101</td>\n",
       "      <td>0.176101</td>\n",
       "      <td>0.157233</td>\n",
       "      <td>0.176101</td>\n",
       "      <td>0.157233</td>\n",
       "      <td>0.157233</td>\n",
       "    </tr>\n",
       "    <tr>\n",
       "      <th>4</th>\n",
       "      <td>0.186963</td>\n",
       "      <td>0.148810</td>\n",
       "      <td>0.179895</td>\n",
       "      <td>0.148810</td>\n",
       "      <td>0.168856</td>\n",
       "      <td>0.166667</td>\n",
       "    </tr>\n",
       "  </tbody>\n",
       "</table>\n",
       "</div>"
      ],
      "text/plain": [
       "          0         1         2         3         4         5\n",
       "0  0.191358  0.154321  0.154321  0.154321  0.191358  0.154321\n",
       "1  0.166667  0.166667  0.166667  0.166667  0.166667  0.166667\n",
       "2  0.172840  0.154321  0.172840  0.172840  0.172840  0.154321\n",
       "3  0.176101  0.176101  0.157233  0.176101  0.157233  0.157233\n",
       "4  0.186963  0.148810  0.179895  0.148810  0.168856  0.166667"
      ]
     },
     "execution_count": 110,
     "metadata": {},
     "output_type": "execute_result"
    }
   ],
   "source": [
    "#with this code we get the full matrix of topic-documents contribution\n",
    "matrix_documents_topic_contribution, _ = lda_model.inference(corpus)\n",
    "matrix_documents_topic_contribution /= matrix_documents_topic_contribution.sum(axis=1)[:, None]\n",
    "matrix_documents_topic_contribution = pd.DataFrame(matrix_documents_topic_contribution)\n",
    "matrix_documents_topic_contribution.head()"
   ]
  },
  {
   "cell_type": "code",
   "execution_count": 111,
   "metadata": {},
   "outputs": [],
   "source": [
    "contents = pd.Series(df['texto_completo']).reset_index(drop=True)"
   ]
  },
  {
   "cell_type": "code",
   "execution_count": 112,
   "metadata": {},
   "outputs": [],
   "source": [
    "matrix_documents_topic_contribution = pd.concat([matrix_documents_topic_contribution, contents], axis=1)\n"
   ]
  },
  {
   "cell_type": "code",
   "execution_count": 113,
   "metadata": {},
   "outputs": [
    {
     "data": {
      "text/html": [
       "<div>\n",
       "<style scoped>\n",
       "    .dataframe tbody tr th:only-of-type {\n",
       "        vertical-align: middle;\n",
       "    }\n",
       "\n",
       "    .dataframe tbody tr th {\n",
       "        vertical-align: top;\n",
       "    }\n",
       "\n",
       "    .dataframe thead th {\n",
       "        text-align: right;\n",
       "    }\n",
       "</style>\n",
       "<table border=\"1\" class=\"dataframe\">\n",
       "  <thead>\n",
       "    <tr style=\"text-align: right;\">\n",
       "      <th></th>\n",
       "      <th>0</th>\n",
       "      <th>1</th>\n",
       "      <th>2</th>\n",
       "      <th>3</th>\n",
       "      <th>4</th>\n",
       "      <th>5</th>\n",
       "      <th>texto_completo</th>\n",
       "    </tr>\n",
       "  </thead>\n",
       "  <tbody>\n",
       "    <tr>\n",
       "      <th>0</th>\n",
       "      <td>0.191358</td>\n",
       "      <td>0.154321</td>\n",
       "      <td>0.154321</td>\n",
       "      <td>0.154321</td>\n",
       "      <td>0.191358</td>\n",
       "      <td>0.154321</td>\n",
       "      <td>&lt;usernameremoved&gt; you know what would be amazingly awesome? bos-fll please!!!!!!! i want to fly with only you.</td>\n",
       "    </tr>\n",
       "    <tr>\n",
       "      <th>1</th>\n",
       "      <td>0.166667</td>\n",
       "      <td>0.166667</td>\n",
       "      <td>0.166667</td>\n",
       "      <td>0.166667</td>\n",
       "      <td>0.166667</td>\n",
       "      <td>0.166667</td>\n",
       "      <td>&lt;usernameremoved&gt; i love this graphic. &lt;linkremoved&gt;</td>\n",
       "    </tr>\n",
       "    <tr>\n",
       "      <th>2</th>\n",
       "      <td>0.172840</td>\n",
       "      <td>0.154321</td>\n",
       "      <td>0.172840</td>\n",
       "      <td>0.172840</td>\n",
       "      <td>0.172840</td>\n",
       "      <td>0.154321</td>\n",
       "      <td>&lt;usernameremoved&gt; i'm #elevategold for a good reason: you rock!!</td>\n",
       "    </tr>\n",
       "    <tr>\n",
       "      <th>3</th>\n",
       "      <td>0.176101</td>\n",
       "      <td>0.176101</td>\n",
       "      <td>0.157233</td>\n",
       "      <td>0.176101</td>\n",
       "      <td>0.157233</td>\n",
       "      <td>0.157233</td>\n",
       "      <td>&lt;usernameremoved&gt; yes, nearly every time i fly vx this “ear worm” won’t go away :)</td>\n",
       "    </tr>\n",
       "    <tr>\n",
       "      <th>4</th>\n",
       "      <td>0.186963</td>\n",
       "      <td>0.148810</td>\n",
       "      <td>0.179895</td>\n",
       "      <td>0.148810</td>\n",
       "      <td>0.168856</td>\n",
       "      <td>0.166667</td>\n",
       "      <td>&lt;usernameremoved&gt; congrats on winning the &lt;usernameremoved&gt; award for best deals from an airline (us) &lt;linkremoved&gt;</td>\n",
       "    </tr>\n",
       "  </tbody>\n",
       "</table>\n",
       "</div>"
      ],
      "text/plain": [
       "          0         1         2         3         4         5  \\\n",
       "0  0.191358  0.154321  0.154321  0.154321  0.191358  0.154321   \n",
       "1  0.166667  0.166667  0.166667  0.166667  0.166667  0.166667   \n",
       "2  0.172840  0.154321  0.172840  0.172840  0.172840  0.154321   \n",
       "3  0.176101  0.176101  0.157233  0.176101  0.157233  0.157233   \n",
       "4  0.186963  0.148810  0.179895  0.148810  0.168856  0.166667   \n",
       "\n",
       "                                                                                                        texto_completo  \n",
       "0  <usernameremoved> you know what would be amazingly awesome? bos-fll please!!!!!!! i want to fly with only you.       \n",
       "1  <usernameremoved> i love this graphic. <linkremoved>                                                                 \n",
       "2  <usernameremoved> i'm #elevategold for a good reason: you rock!!                                                     \n",
       "3  <usernameremoved> yes, nearly every time i fly vx this “ear worm” won’t go away :)                                   \n",
       "4  <usernameremoved> congrats on winning the <usernameremoved> award for best deals from an airline (us) <linkremoved>  "
      ]
     },
     "execution_count": 113,
     "metadata": {},
     "output_type": "execute_result"
    }
   ],
   "source": [
    "matrix_documents_topic_contribution.head()"
   ]
  },
  {
   "cell_type": "markdown",
   "metadata": {},
   "source": [
    "### Topic similarity emtric"
   ]
  },
  {
   "cell_type": "code",
   "execution_count": 115,
   "metadata": {},
   "outputs": [],
   "source": [
    "# Choose the # top keywords and # top documents a considerar en la metrica\n",
    "\n",
    "topn_terms = 20\n",
    "topk_documents = 20\n",
    "relevance_lambda = 0.6 \n",
    "\n",
    "ruta_word_embedding = '../data/embedding_english_europe_northamerica_word2vec_300dimensions_cbow_trim3_epoch50.model'\n",
    "word_embedding_model = gensim.models.Word2Vec.load(ruta_word_embedding)"
   ]
  },
  {
   "cell_type": "code",
   "execution_count": 117,
   "metadata": {},
   "outputs": [],
   "source": [
    "import sys\n",
    "sys.path.insert(0,'..')\n"
   ]
  },
  {
   "cell_type": "code",
   "execution_count": 118,
   "metadata": {},
   "outputs": [
    {
     "name": "stdout",
     "output_type": "stream",
     "text": [
      "we are calculating a new topic similarity matirx\n",
      "Using Prepared Data script - sort_topics False\n",
      "Calculating for different omegas\n"
     ]
    }
   ],
   "source": [
    "import topicvisexplorer\n",
    "import importlib\n",
    "warnings.filterwarnings('ignore')\n",
    "importlib.reload(topicvisexplorer)\n",
    "\n",
    "vis = topicvisexplorer.TopicVisExplorer(\"borrar_nombre\")\n",
    "#calculating topic similarity matrix\n",
    "topic_similarity_matrix = vis.calculate_topic_similarity_on_single_corpus(word_embedding_model, lda_model, corpus, id2word, matrix_documents_topic_contribution,topn_terms, topk_documents, relevance_lambda)\n"
   ]
  },
  {
   "cell_type": "code",
   "execution_count": null,
   "metadata": {},
   "outputs": [],
   "source": []
  },
  {
   "cell_type": "code",
   "execution_count": 119,
   "metadata": {},
   "outputs": [],
   "source": [
    "#preparing the visualization\n",
    "vis.prepare_single_corpus( lda_model, corpus, id2word, matrix_documents_topic_contribution, topic_similarity_matrix)\n"
   ]
  },
  {
   "cell_type": "code",
   "execution_count": 121,
   "metadata": {},
   "outputs": [
    {
     "name": "stdout",
     "output_type": "stream",
     "text": [
      "Single corpus data saved sucessfully\n"
     ]
    }
   ],
   "source": [
    "#save data\n",
    "#For scenario1: ../models_output/single_corpus_airlines_dataset.pkl\n",
    "\n",
    "\n",
    "vis.save_single_corpus_data(\"../models_output/single_corpus_airlines_dataset.pkl\")"
   ]
  },
  {
   "cell_type": "code",
   "execution_count": 122,
   "metadata": {},
   "outputs": [
    {
     "name": "stdout",
     "output_type": "stream",
     "text": [
      "Data loaded sucessfully\n"
     ]
    }
   ],
   "source": [
    "#vis.load_single_corpus_data(\"models_output/single_corpus_europe_cambridge_analytica_lda_mallet_gensim_new_prepared_data_enero_11.pkl\")\n",
    "vis.load_single_corpus_data(\"../models_output/single_corpus_airlines_dataset.pkl\")\n"
   ]
  },
  {
   "cell_type": "code",
   "execution_count": 123,
   "metadata": {},
   "outputs": [
    {
     "name": "stdout",
     "output_type": "stream",
     "text": [
      " * Serving Flask app \"borrar_nombre\" (lazy loading)\n",
      " * Environment: production\n",
      "   WARNING: This is a development server. Do not use it in a production deployment.\n",
      "   Use a production WSGI server instead.\n",
      " * Debug mode: off\n"
     ]
    },
    {
     "name": "stderr",
     "output_type": "stream",
     "text": [
      "2021-04-01 18:26:32,390 : INFO :  * Running on http://127.0.0.1:5000/ (Press CTRL+C to quit)\n",
      "2021-04-01 18:26:37,833 : ERROR : Exception on /singlecorpus [GET]\n",
      "Traceback (most recent call last):\n",
      "  File \"c:\\users\\gonza\\tesisenv\\lib\\site-packages\\flask\\app.py\", line 2447, in wsgi_app\n",
      "    response = self.full_dispatch_request()\n",
      "  File \"c:\\users\\gonza\\tesisenv\\lib\\site-packages\\flask\\app.py\", line 1952, in full_dispatch_request\n",
      "    rv = self.handle_user_exception(e)\n",
      "  File \"c:\\users\\gonza\\tesisenv\\lib\\site-packages\\flask\\app.py\", line 1821, in handle_user_exception\n",
      "    reraise(exc_type, exc_value, tb)\n",
      "  File \"c:\\users\\gonza\\tesisenv\\lib\\site-packages\\flask\\_compat.py\", line 39, in reraise\n",
      "    raise value\n",
      "  File \"c:\\users\\gonza\\tesisenv\\lib\\site-packages\\flask\\app.py\", line 1950, in full_dispatch_request\n",
      "    rv = self.dispatch_request()\n",
      "  File \"c:\\users\\gonza\\tesisenv\\lib\\site-packages\\flask\\app.py\", line 1936, in dispatch_request\n",
      "    return self.view_functions[rule.endpoint](**req.view_args)\n",
      "  File \"c:\\users\\gonza\\tesisenv\\lib\\site-packages\\flask_classful.py\", line 268, in proxy\n",
      "    response = view(**request.view_args)\n",
      "  File \"c:\\users\\gonza\\tesisenv\\lib\\site-packages\\flask_classful.py\", line 239, in inner\n",
      "    return fn(*args, **kwargs)\n",
      "  File \"..\\topicvisexplorer.py\", line 692, in single_corpus\n",
      "    html = prepared_html_in_flask(data = [PreparedDataObtained],  topic_order = topic_order,  type_vis = 1,  new_circle_positions = new_circle_positions)\n",
      "  File \"..\\_display.py\", line 290, in prepared_html_in_flask\n",
      "    html = prepared_data_to_html(data = data, topic_order = topic_order,type_vis = type_vis,new_circle_positions= new_circle_positions,  matrix_sankey = matrix_sankey, data_2 =  data_2,  topic_order_2 = topic_order_2,  **kwargs)\n",
      "  File \"..\\_display.py\", line 136, in prepared_data_to_html\n",
      "    with open('templates/index.html') as file_:\n",
      "FileNotFoundError: [Errno 2] No such file or directory: 'templates/index.html'\n",
      "2021-04-01 18:26:37,859 : INFO : 127.0.0.1 - - [01/Apr/2021 18:26:37] \"\u001b[35m\u001b[1mGET /singlecorpus HTTP/1.1\u001b[0m\" 500 -\n"
     ]
    },
    {
     "name": "stdout",
     "output_type": "stream",
     "text": [
      "Estoy en la funcion single corpuuuus\n"
     ]
    }
   ],
   "source": [
    "vis.run()"
   ]
  },
  {
   "cell_type": "code",
   "execution_count": null,
   "metadata": {},
   "outputs": [],
   "source": []
  }
 ],
 "metadata": {
  "kernelspec": {
   "display_name": "Python 3",
   "language": "python",
   "name": "python3"
  },
  "language_info": {
   "codemirror_mode": {
    "name": "ipython",
    "version": 3
   },
   "file_extension": ".py",
   "mimetype": "text/x-python",
   "name": "python",
   "nbconvert_exporter": "python",
   "pygments_lexer": "ipython3",
   "version": "3.9.1"
  }
 },
 "nbformat": 4,
 "nbformat_minor": 2
}
