{
 "cells": [
  {
   "cell_type": "code",
   "execution_count": 3,
   "metadata": {},
   "outputs": [],
   "source": [
    "import pickle"
   ]
  },
  {
   "cell_type": "code",
   "execution_count": 12,
   "metadata": {},
   "outputs": [],
   "source": [
    "topic_index_1 = 0\n",
    "topic_index_2 = 1"
   ]
  },
  {
   "cell_type": "code",
   "execution_count": 4,
   "metadata": {},
   "outputs": [],
   "source": [
    "\n",
    "with open('data/cambridge_analytica/collection_I/collection_1_sent_topics_sorteddf_mallet_ldamodel', 'rb') as f:\n",
    "    sent_topics_sorteddf_mallet = pickle.load(f)\n",
    "sent_topics_sorteddf_mallet = sent_topics_sorteddf_mallet[['Topic_Num','Topic_Perc_Contrib','text']]\n"
   ]
  },
  {
   "cell_type": "code",
   "execution_count": 7,
   "metadata": {},
   "outputs": [
    {
     "data": {
      "text/html": [
       "<div>\n",
       "<style scoped>\n",
       "    .dataframe tbody tr th:only-of-type {\n",
       "        vertical-align: middle;\n",
       "    }\n",
       "\n",
       "    .dataframe tbody tr th {\n",
       "        vertical-align: top;\n",
       "    }\n",
       "\n",
       "    .dataframe thead th {\n",
       "        text-align: right;\n",
       "    }\n",
       "</style>\n",
       "<table border=\"1\" class=\"dataframe\">\n",
       "  <thead>\n",
       "    <tr style=\"text-align: right;\">\n",
       "      <th></th>\n",
       "      <th>Topic_Num</th>\n",
       "      <th>Topic_Perc_Contrib</th>\n",
       "      <th>text</th>\n",
       "    </tr>\n",
       "  </thead>\n",
       "  <tbody>\n",
       "    <tr>\n",
       "      <th>0</th>\n",
       "      <td>0.0</td>\n",
       "      <td>0.3596</td>\n",
       "      <td>The politicians CNN has attacked since Trumps ...</td>\n",
       "    </tr>\n",
       "    <tr>\n",
       "      <th>1</th>\n",
       "      <td>0.0</td>\n",
       "      <td>0.2862</td>\n",
       "      <td>Facebook Deems Pro-Trump Diamond And Silk 'Uns...</td>\n",
       "    </tr>\n",
       "    <tr>\n",
       "      <th>2</th>\n",
       "      <td>0.0</td>\n",
       "      <td>0.2745</td>\n",
       "      <td>Facebook reconsiders 'unsafe for community' ta...</td>\n",
       "    </tr>\n",
       "    <tr>\n",
       "      <th>3</th>\n",
       "      <td>0.0</td>\n",
       "      <td>0.2692</td>\n",
       "      <td>&lt;usernameremoved&gt; reconsiders 'unsafe for comm...</td>\n",
       "    </tr>\n",
       "    <tr>\n",
       "      <th>4</th>\n",
       "      <td>0.0</td>\n",
       "      <td>0.2660</td>\n",
       "      <td>&lt;usernameremoved&gt; &lt;usernameremoved&gt; Angry how ...</td>\n",
       "    </tr>\n",
       "    <tr>\n",
       "      <th>...</th>\n",
       "      <td>...</td>\n",
       "      <td>...</td>\n",
       "      <td>...</td>\n",
       "    </tr>\n",
       "    <tr>\n",
       "      <th>1499</th>\n",
       "      <td>14.0</td>\n",
       "      <td>0.1858</td>\n",
       "      <td>Me, and no doubt most users, when the new Face...</td>\n",
       "    </tr>\n",
       "    <tr>\n",
       "      <th>1500</th>\n",
       "      <td>14.0</td>\n",
       "      <td>0.1857</td>\n",
       "      <td>Facebook still using dark patterns then! Under...</td>\n",
       "    </tr>\n",
       "    <tr>\n",
       "      <th>1501</th>\n",
       "      <td>14.0</td>\n",
       "      <td>0.1852</td>\n",
       "      <td>My suggestion: Allow FB users to determine wha...</td>\n",
       "    </tr>\n",
       "    <tr>\n",
       "      <th>1502</th>\n",
       "      <td>14.0</td>\n",
       "      <td>0.1852</td>\n",
       "      <td>Zuckerberg said in a post that the company has...</td>\n",
       "    </tr>\n",
       "    <tr>\n",
       "      <th>1503</th>\n",
       "      <td>14.0</td>\n",
       "      <td>0.1852</td>\n",
       "      <td>NEW: Facebook broadens ad disclosures to inclu...</td>\n",
       "    </tr>\n",
       "  </tbody>\n",
       "</table>\n",
       "<p>1504 rows × 3 columns</p>\n",
       "</div>"
      ],
      "text/plain": [
       "      Topic_Num  Topic_Perc_Contrib  \\\n",
       "0           0.0              0.3596   \n",
       "1           0.0              0.2862   \n",
       "2           0.0              0.2745   \n",
       "3           0.0              0.2692   \n",
       "4           0.0              0.2660   \n",
       "...         ...                 ...   \n",
       "1499       14.0              0.1858   \n",
       "1500       14.0              0.1857   \n",
       "1501       14.0              0.1852   \n",
       "1502       14.0              0.1852   \n",
       "1503       14.0              0.1852   \n",
       "\n",
       "                                                   text  \n",
       "0     The politicians CNN has attacked since Trumps ...  \n",
       "1     Facebook Deems Pro-Trump Diamond And Silk 'Uns...  \n",
       "2     Facebook reconsiders 'unsafe for community' ta...  \n",
       "3     <usernameremoved> reconsiders 'unsafe for comm...  \n",
       "4     <usernameremoved> <usernameremoved> Angry how ...  \n",
       "...                                                 ...  \n",
       "1499  Me, and no doubt most users, when the new Face...  \n",
       "1500  Facebook still using dark patterns then! Under...  \n",
       "1501  My suggestion: Allow FB users to determine wha...  \n",
       "1502  Zuckerberg said in a post that the company has...  \n",
       "1503  NEW: Facebook broadens ad disclosures to inclu...  \n",
       "\n",
       "[1504 rows x 3 columns]"
      ]
     },
     "execution_count": 7,
     "metadata": {},
     "output_type": "execute_result"
    }
   ],
   "source": [
    "sent_topics_sorteddf_mallet"
   ]
  },
  {
   "cell_type": "code",
   "execution_count": 14,
   "metadata": {},
   "outputs": [],
   "source": [
    "docs_topic_1  = sent_topics_sorteddf_mallet[sent_topics_sorteddf_mallet['Topic_Num'] == topic_index_1]\n",
    "docs_topic_2 = sent_topics_sorteddf_mallet[sent_topics_sorteddf_mallet['Topic_Num'] == topic_index_2]"
   ]
  },
  {
   "cell_type": "code",
   "execution_count": null,
   "metadata": {},
   "outputs": [],
   "source": []
  }
 ],
 "metadata": {
  "kernelspec": {
   "display_name": "Python 3",
   "language": "python",
   "name": "python3"
  },
  "language_info": {
   "codemirror_mode": {
    "name": "ipython",
    "version": 3
   },
   "file_extension": ".py",
   "mimetype": "text/x-python",
   "name": "python",
   "nbconvert_exporter": "python",
   "pygments_lexer": "ipython3",
   "version": "3.7.1"
  }
 },
 "nbformat": 4,
 "nbformat_minor": 4
}
